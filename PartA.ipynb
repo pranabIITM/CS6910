{
  "nbformat": 4,
  "nbformat_minor": 0,
  "metadata": {
    "colab": {
      "name": "PartA.ipynb",
      "provenance": [],
      "authorship_tag": "ABX9TyPcsj4df6C+HlFM5iXQAs1w",
      "include_colab_link": true
    },
    "kernelspec": {
      "name": "python3",
      "display_name": "Python 3"
    },
    "language_info": {
      "name": "python"
    },
    "accelerator": "GPU",
    "widgets": {
      "application/vnd.jupyter.widget-state+json": {
        "6993f7eb435540b9b078f7ac7f4c51fb": {
          "model_module": "@jupyter-widgets/controls",
          "model_name": "VBoxModel",
          "model_module_version": "1.5.0",
          "state": {
            "_dom_classes": [],
            "_model_module": "@jupyter-widgets/controls",
            "_model_module_version": "1.5.0",
            "_model_name": "VBoxModel",
            "_view_count": null,
            "_view_module": "@jupyter-widgets/controls",
            "_view_module_version": "1.5.0",
            "_view_name": "VBoxView",
            "box_style": "",
            "children": [
              "IPY_MODEL_6cfcf6a83fd04324a3b608e5c16bb6c0",
              "IPY_MODEL_5ee27688e4fb47199367eca82bd26c6e"
            ],
            "layout": "IPY_MODEL_a254fdb2565c4edc944047393ab6676e"
          }
        },
        "6cfcf6a83fd04324a3b608e5c16bb6c0": {
          "model_module": "@jupyter-widgets/controls",
          "model_name": "LabelModel",
          "model_module_version": "1.5.0",
          "state": {
            "_dom_classes": [],
            "_model_module": "@jupyter-widgets/controls",
            "_model_module_version": "1.5.0",
            "_model_name": "LabelModel",
            "_view_count": null,
            "_view_module": "@jupyter-widgets/controls",
            "_view_module_version": "1.5.0",
            "_view_name": "LabelView",
            "description": "",
            "description_tooltip": null,
            "layout": "IPY_MODEL_8e61cde7530c4bd0af885765b85b4609",
            "placeholder": "​",
            "style": "IPY_MODEL_9efac2f0fb5f4eb38c7056343fd48e20",
            "value": "6.209 MB of 6.209 MB uploaded (0.000 MB deduped)\r"
          }
        },
        "5ee27688e4fb47199367eca82bd26c6e": {
          "model_module": "@jupyter-widgets/controls",
          "model_name": "FloatProgressModel",
          "model_module_version": "1.5.0",
          "state": {
            "_dom_classes": [],
            "_model_module": "@jupyter-widgets/controls",
            "_model_module_version": "1.5.0",
            "_model_name": "FloatProgressModel",
            "_view_count": null,
            "_view_module": "@jupyter-widgets/controls",
            "_view_module_version": "1.5.0",
            "_view_name": "ProgressView",
            "bar_style": "",
            "description": "",
            "description_tooltip": null,
            "layout": "IPY_MODEL_a06390e02069404e960a6b1c8f01577b",
            "max": 1,
            "min": 0,
            "orientation": "horizontal",
            "style": "IPY_MODEL_c6064525387a461483f830ad87e5fa3c",
            "value": 1
          }
        },
        "a254fdb2565c4edc944047393ab6676e": {
          "model_module": "@jupyter-widgets/base",
          "model_name": "LayoutModel",
          "model_module_version": "1.2.0",
          "state": {
            "_model_module": "@jupyter-widgets/base",
            "_model_module_version": "1.2.0",
            "_model_name": "LayoutModel",
            "_view_count": null,
            "_view_module": "@jupyter-widgets/base",
            "_view_module_version": "1.2.0",
            "_view_name": "LayoutView",
            "align_content": null,
            "align_items": null,
            "align_self": null,
            "border": null,
            "bottom": null,
            "display": null,
            "flex": null,
            "flex_flow": null,
            "grid_area": null,
            "grid_auto_columns": null,
            "grid_auto_flow": null,
            "grid_auto_rows": null,
            "grid_column": null,
            "grid_gap": null,
            "grid_row": null,
            "grid_template_areas": null,
            "grid_template_columns": null,
            "grid_template_rows": null,
            "height": null,
            "justify_content": null,
            "justify_items": null,
            "left": null,
            "margin": null,
            "max_height": null,
            "max_width": null,
            "min_height": null,
            "min_width": null,
            "object_fit": null,
            "object_position": null,
            "order": null,
            "overflow": null,
            "overflow_x": null,
            "overflow_y": null,
            "padding": null,
            "right": null,
            "top": null,
            "visibility": null,
            "width": null
          }
        },
        "8e61cde7530c4bd0af885765b85b4609": {
          "model_module": "@jupyter-widgets/base",
          "model_name": "LayoutModel",
          "model_module_version": "1.2.0",
          "state": {
            "_model_module": "@jupyter-widgets/base",
            "_model_module_version": "1.2.0",
            "_model_name": "LayoutModel",
            "_view_count": null,
            "_view_module": "@jupyter-widgets/base",
            "_view_module_version": "1.2.0",
            "_view_name": "LayoutView",
            "align_content": null,
            "align_items": null,
            "align_self": null,
            "border": null,
            "bottom": null,
            "display": null,
            "flex": null,
            "flex_flow": null,
            "grid_area": null,
            "grid_auto_columns": null,
            "grid_auto_flow": null,
            "grid_auto_rows": null,
            "grid_column": null,
            "grid_gap": null,
            "grid_row": null,
            "grid_template_areas": null,
            "grid_template_columns": null,
            "grid_template_rows": null,
            "height": null,
            "justify_content": null,
            "justify_items": null,
            "left": null,
            "margin": null,
            "max_height": null,
            "max_width": null,
            "min_height": null,
            "min_width": null,
            "object_fit": null,
            "object_position": null,
            "order": null,
            "overflow": null,
            "overflow_x": null,
            "overflow_y": null,
            "padding": null,
            "right": null,
            "top": null,
            "visibility": null,
            "width": null
          }
        },
        "9efac2f0fb5f4eb38c7056343fd48e20": {
          "model_module": "@jupyter-widgets/controls",
          "model_name": "DescriptionStyleModel",
          "model_module_version": "1.5.0",
          "state": {
            "_model_module": "@jupyter-widgets/controls",
            "_model_module_version": "1.5.0",
            "_model_name": "DescriptionStyleModel",
            "_view_count": null,
            "_view_module": "@jupyter-widgets/base",
            "_view_module_version": "1.2.0",
            "_view_name": "StyleView",
            "description_width": ""
          }
        },
        "a06390e02069404e960a6b1c8f01577b": {
          "model_module": "@jupyter-widgets/base",
          "model_name": "LayoutModel",
          "model_module_version": "1.2.0",
          "state": {
            "_model_module": "@jupyter-widgets/base",
            "_model_module_version": "1.2.0",
            "_model_name": "LayoutModel",
            "_view_count": null,
            "_view_module": "@jupyter-widgets/base",
            "_view_module_version": "1.2.0",
            "_view_name": "LayoutView",
            "align_content": null,
            "align_items": null,
            "align_self": null,
            "border": null,
            "bottom": null,
            "display": null,
            "flex": null,
            "flex_flow": null,
            "grid_area": null,
            "grid_auto_columns": null,
            "grid_auto_flow": null,
            "grid_auto_rows": null,
            "grid_column": null,
            "grid_gap": null,
            "grid_row": null,
            "grid_template_areas": null,
            "grid_template_columns": null,
            "grid_template_rows": null,
            "height": null,
            "justify_content": null,
            "justify_items": null,
            "left": null,
            "margin": null,
            "max_height": null,
            "max_width": null,
            "min_height": null,
            "min_width": null,
            "object_fit": null,
            "object_position": null,
            "order": null,
            "overflow": null,
            "overflow_x": null,
            "overflow_y": null,
            "padding": null,
            "right": null,
            "top": null,
            "visibility": null,
            "width": null
          }
        },
        "c6064525387a461483f830ad87e5fa3c": {
          "model_module": "@jupyter-widgets/controls",
          "model_name": "ProgressStyleModel",
          "model_module_version": "1.5.0",
          "state": {
            "_model_module": "@jupyter-widgets/controls",
            "_model_module_version": "1.5.0",
            "_model_name": "ProgressStyleModel",
            "_view_count": null,
            "_view_module": "@jupyter-widgets/base",
            "_view_module_version": "1.2.0",
            "_view_name": "StyleView",
            "bar_color": null,
            "description_width": ""
          }
        },
        "629eeb10d1714b57ab5ab6b7f08673f6": {
          "model_module": "@jupyter-widgets/controls",
          "model_name": "VBoxModel",
          "model_module_version": "1.5.0",
          "state": {
            "_dom_classes": [],
            "_model_module": "@jupyter-widgets/controls",
            "_model_module_version": "1.5.0",
            "_model_name": "VBoxModel",
            "_view_count": null,
            "_view_module": "@jupyter-widgets/controls",
            "_view_module_version": "1.5.0",
            "_view_name": "VBoxView",
            "box_style": "",
            "children": [
              "IPY_MODEL_dba497aa0b9e445db24c132af6648e49",
              "IPY_MODEL_556f9519775f49f48277033558f67eb5"
            ],
            "layout": "IPY_MODEL_8360c05a0ee94b5fbb739453d21bc662"
          }
        },
        "dba497aa0b9e445db24c132af6648e49": {
          "model_module": "@jupyter-widgets/controls",
          "model_name": "LabelModel",
          "model_module_version": "1.5.0",
          "state": {
            "_dom_classes": [],
            "_model_module": "@jupyter-widgets/controls",
            "_model_module_version": "1.5.0",
            "_model_name": "LabelModel",
            "_view_count": null,
            "_view_module": "@jupyter-widgets/controls",
            "_view_module_version": "1.5.0",
            "_view_name": "LabelView",
            "description": "",
            "description_tooltip": null,
            "layout": "IPY_MODEL_89824dc35d904b7480f78862386f94a5",
            "placeholder": "​",
            "style": "IPY_MODEL_5d3c89f5643148578921738b47d5c16e",
            "value": "0.008 MB of 0.008 MB uploaded (0.000 MB deduped)\r"
          }
        },
        "556f9519775f49f48277033558f67eb5": {
          "model_module": "@jupyter-widgets/controls",
          "model_name": "FloatProgressModel",
          "model_module_version": "1.5.0",
          "state": {
            "_dom_classes": [],
            "_model_module": "@jupyter-widgets/controls",
            "_model_module_version": "1.5.0",
            "_model_name": "FloatProgressModel",
            "_view_count": null,
            "_view_module": "@jupyter-widgets/controls",
            "_view_module_version": "1.5.0",
            "_view_name": "ProgressView",
            "bar_style": "",
            "description": "",
            "description_tooltip": null,
            "layout": "IPY_MODEL_d4760114d6e04296bf02e2c976fd8810",
            "max": 1,
            "min": 0,
            "orientation": "horizontal",
            "style": "IPY_MODEL_27427bf4fb084619b2fe360d5f233d14",
            "value": 1
          }
        },
        "8360c05a0ee94b5fbb739453d21bc662": {
          "model_module": "@jupyter-widgets/base",
          "model_name": "LayoutModel",
          "model_module_version": "1.2.0",
          "state": {
            "_model_module": "@jupyter-widgets/base",
            "_model_module_version": "1.2.0",
            "_model_name": "LayoutModel",
            "_view_count": null,
            "_view_module": "@jupyter-widgets/base",
            "_view_module_version": "1.2.0",
            "_view_name": "LayoutView",
            "align_content": null,
            "align_items": null,
            "align_self": null,
            "border": null,
            "bottom": null,
            "display": null,
            "flex": null,
            "flex_flow": null,
            "grid_area": null,
            "grid_auto_columns": null,
            "grid_auto_flow": null,
            "grid_auto_rows": null,
            "grid_column": null,
            "grid_gap": null,
            "grid_row": null,
            "grid_template_areas": null,
            "grid_template_columns": null,
            "grid_template_rows": null,
            "height": null,
            "justify_content": null,
            "justify_items": null,
            "left": null,
            "margin": null,
            "max_height": null,
            "max_width": null,
            "min_height": null,
            "min_width": null,
            "object_fit": null,
            "object_position": null,
            "order": null,
            "overflow": null,
            "overflow_x": null,
            "overflow_y": null,
            "padding": null,
            "right": null,
            "top": null,
            "visibility": null,
            "width": null
          }
        },
        "89824dc35d904b7480f78862386f94a5": {
          "model_module": "@jupyter-widgets/base",
          "model_name": "LayoutModel",
          "model_module_version": "1.2.0",
          "state": {
            "_model_module": "@jupyter-widgets/base",
            "_model_module_version": "1.2.0",
            "_model_name": "LayoutModel",
            "_view_count": null,
            "_view_module": "@jupyter-widgets/base",
            "_view_module_version": "1.2.0",
            "_view_name": "LayoutView",
            "align_content": null,
            "align_items": null,
            "align_self": null,
            "border": null,
            "bottom": null,
            "display": null,
            "flex": null,
            "flex_flow": null,
            "grid_area": null,
            "grid_auto_columns": null,
            "grid_auto_flow": null,
            "grid_auto_rows": null,
            "grid_column": null,
            "grid_gap": null,
            "grid_row": null,
            "grid_template_areas": null,
            "grid_template_columns": null,
            "grid_template_rows": null,
            "height": null,
            "justify_content": null,
            "justify_items": null,
            "left": null,
            "margin": null,
            "max_height": null,
            "max_width": null,
            "min_height": null,
            "min_width": null,
            "object_fit": null,
            "object_position": null,
            "order": null,
            "overflow": null,
            "overflow_x": null,
            "overflow_y": null,
            "padding": null,
            "right": null,
            "top": null,
            "visibility": null,
            "width": null
          }
        },
        "5d3c89f5643148578921738b47d5c16e": {
          "model_module": "@jupyter-widgets/controls",
          "model_name": "DescriptionStyleModel",
          "model_module_version": "1.5.0",
          "state": {
            "_model_module": "@jupyter-widgets/controls",
            "_model_module_version": "1.5.0",
            "_model_name": "DescriptionStyleModel",
            "_view_count": null,
            "_view_module": "@jupyter-widgets/base",
            "_view_module_version": "1.2.0",
            "_view_name": "StyleView",
            "description_width": ""
          }
        },
        "d4760114d6e04296bf02e2c976fd8810": {
          "model_module": "@jupyter-widgets/base",
          "model_name": "LayoutModel",
          "model_module_version": "1.2.0",
          "state": {
            "_model_module": "@jupyter-widgets/base",
            "_model_module_version": "1.2.0",
            "_model_name": "LayoutModel",
            "_view_count": null,
            "_view_module": "@jupyter-widgets/base",
            "_view_module_version": "1.2.0",
            "_view_name": "LayoutView",
            "align_content": null,
            "align_items": null,
            "align_self": null,
            "border": null,
            "bottom": null,
            "display": null,
            "flex": null,
            "flex_flow": null,
            "grid_area": null,
            "grid_auto_columns": null,
            "grid_auto_flow": null,
            "grid_auto_rows": null,
            "grid_column": null,
            "grid_gap": null,
            "grid_row": null,
            "grid_template_areas": null,
            "grid_template_columns": null,
            "grid_template_rows": null,
            "height": null,
            "justify_content": null,
            "justify_items": null,
            "left": null,
            "margin": null,
            "max_height": null,
            "max_width": null,
            "min_height": null,
            "min_width": null,
            "object_fit": null,
            "object_position": null,
            "order": null,
            "overflow": null,
            "overflow_x": null,
            "overflow_y": null,
            "padding": null,
            "right": null,
            "top": null,
            "visibility": null,
            "width": null
          }
        },
        "27427bf4fb084619b2fe360d5f233d14": {
          "model_module": "@jupyter-widgets/controls",
          "model_name": "ProgressStyleModel",
          "model_module_version": "1.5.0",
          "state": {
            "_model_module": "@jupyter-widgets/controls",
            "_model_module_version": "1.5.0",
            "_model_name": "ProgressStyleModel",
            "_view_count": null,
            "_view_module": "@jupyter-widgets/base",
            "_view_module_version": "1.2.0",
            "_view_name": "StyleView",
            "bar_color": null,
            "description_width": ""
          }
        },
        "dfe2b9a0c1e54b14bce6052ccef6bd40": {
          "model_module": "@jupyter-widgets/controls",
          "model_name": "VBoxModel",
          "model_module_version": "1.5.0",
          "state": {
            "_dom_classes": [],
            "_model_module": "@jupyter-widgets/controls",
            "_model_module_version": "1.5.0",
            "_model_name": "VBoxModel",
            "_view_count": null,
            "_view_module": "@jupyter-widgets/controls",
            "_view_module_version": "1.5.0",
            "_view_name": "VBoxView",
            "box_style": "",
            "children": [
              "IPY_MODEL_4fabea1f726442f99ededb9d9321f44d",
              "IPY_MODEL_3f8479ca18084d9982f4e04fa5586c5a"
            ],
            "layout": "IPY_MODEL_4bead6ae1ced454286a7e25d9d69dbde"
          }
        },
        "4fabea1f726442f99ededb9d9321f44d": {
          "model_module": "@jupyter-widgets/controls",
          "model_name": "LabelModel",
          "model_module_version": "1.5.0",
          "state": {
            "_dom_classes": [],
            "_model_module": "@jupyter-widgets/controls",
            "_model_module_version": "1.5.0",
            "_model_name": "LabelModel",
            "_view_count": null,
            "_view_module": "@jupyter-widgets/controls",
            "_view_module_version": "1.5.0",
            "_view_name": "LabelView",
            "description": "",
            "description_tooltip": null,
            "layout": "IPY_MODEL_71c239ed0b8d4883a25e269357ab13e6",
            "placeholder": "​",
            "style": "IPY_MODEL_892f8a5ca6ac4d69bd8e36be0ca8b62e",
            "value": "33.725 MB of 33.725 MB uploaded (0.000 MB deduped)\r"
          }
        },
        "3f8479ca18084d9982f4e04fa5586c5a": {
          "model_module": "@jupyter-widgets/controls",
          "model_name": "FloatProgressModel",
          "model_module_version": "1.5.0",
          "state": {
            "_dom_classes": [],
            "_model_module": "@jupyter-widgets/controls",
            "_model_module_version": "1.5.0",
            "_model_name": "FloatProgressModel",
            "_view_count": null,
            "_view_module": "@jupyter-widgets/controls",
            "_view_module_version": "1.5.0",
            "_view_name": "ProgressView",
            "bar_style": "",
            "description": "",
            "description_tooltip": null,
            "layout": "IPY_MODEL_5472ac9ba0544019a94f6c2c3e234e0e",
            "max": 1,
            "min": 0,
            "orientation": "horizontal",
            "style": "IPY_MODEL_0f1f9361898041248d1eeca848cfb9ca",
            "value": 1
          }
        },
        "4bead6ae1ced454286a7e25d9d69dbde": {
          "model_module": "@jupyter-widgets/base",
          "model_name": "LayoutModel",
          "model_module_version": "1.2.0",
          "state": {
            "_model_module": "@jupyter-widgets/base",
            "_model_module_version": "1.2.0",
            "_model_name": "LayoutModel",
            "_view_count": null,
            "_view_module": "@jupyter-widgets/base",
            "_view_module_version": "1.2.0",
            "_view_name": "LayoutView",
            "align_content": null,
            "align_items": null,
            "align_self": null,
            "border": null,
            "bottom": null,
            "display": null,
            "flex": null,
            "flex_flow": null,
            "grid_area": null,
            "grid_auto_columns": null,
            "grid_auto_flow": null,
            "grid_auto_rows": null,
            "grid_column": null,
            "grid_gap": null,
            "grid_row": null,
            "grid_template_areas": null,
            "grid_template_columns": null,
            "grid_template_rows": null,
            "height": null,
            "justify_content": null,
            "justify_items": null,
            "left": null,
            "margin": null,
            "max_height": null,
            "max_width": null,
            "min_height": null,
            "min_width": null,
            "object_fit": null,
            "object_position": null,
            "order": null,
            "overflow": null,
            "overflow_x": null,
            "overflow_y": null,
            "padding": null,
            "right": null,
            "top": null,
            "visibility": null,
            "width": null
          }
        },
        "71c239ed0b8d4883a25e269357ab13e6": {
          "model_module": "@jupyter-widgets/base",
          "model_name": "LayoutModel",
          "model_module_version": "1.2.0",
          "state": {
            "_model_module": "@jupyter-widgets/base",
            "_model_module_version": "1.2.0",
            "_model_name": "LayoutModel",
            "_view_count": null,
            "_view_module": "@jupyter-widgets/base",
            "_view_module_version": "1.2.0",
            "_view_name": "LayoutView",
            "align_content": null,
            "align_items": null,
            "align_self": null,
            "border": null,
            "bottom": null,
            "display": null,
            "flex": null,
            "flex_flow": null,
            "grid_area": null,
            "grid_auto_columns": null,
            "grid_auto_flow": null,
            "grid_auto_rows": null,
            "grid_column": null,
            "grid_gap": null,
            "grid_row": null,
            "grid_template_areas": null,
            "grid_template_columns": null,
            "grid_template_rows": null,
            "height": null,
            "justify_content": null,
            "justify_items": null,
            "left": null,
            "margin": null,
            "max_height": null,
            "max_width": null,
            "min_height": null,
            "min_width": null,
            "object_fit": null,
            "object_position": null,
            "order": null,
            "overflow": null,
            "overflow_x": null,
            "overflow_y": null,
            "padding": null,
            "right": null,
            "top": null,
            "visibility": null,
            "width": null
          }
        },
        "892f8a5ca6ac4d69bd8e36be0ca8b62e": {
          "model_module": "@jupyter-widgets/controls",
          "model_name": "DescriptionStyleModel",
          "model_module_version": "1.5.0",
          "state": {
            "_model_module": "@jupyter-widgets/controls",
            "_model_module_version": "1.5.0",
            "_model_name": "DescriptionStyleModel",
            "_view_count": null,
            "_view_module": "@jupyter-widgets/base",
            "_view_module_version": "1.2.0",
            "_view_name": "StyleView",
            "description_width": ""
          }
        },
        "5472ac9ba0544019a94f6c2c3e234e0e": {
          "model_module": "@jupyter-widgets/base",
          "model_name": "LayoutModel",
          "model_module_version": "1.2.0",
          "state": {
            "_model_module": "@jupyter-widgets/base",
            "_model_module_version": "1.2.0",
            "_model_name": "LayoutModel",
            "_view_count": null,
            "_view_module": "@jupyter-widgets/base",
            "_view_module_version": "1.2.0",
            "_view_name": "LayoutView",
            "align_content": null,
            "align_items": null,
            "align_self": null,
            "border": null,
            "bottom": null,
            "display": null,
            "flex": null,
            "flex_flow": null,
            "grid_area": null,
            "grid_auto_columns": null,
            "grid_auto_flow": null,
            "grid_auto_rows": null,
            "grid_column": null,
            "grid_gap": null,
            "grid_row": null,
            "grid_template_areas": null,
            "grid_template_columns": null,
            "grid_template_rows": null,
            "height": null,
            "justify_content": null,
            "justify_items": null,
            "left": null,
            "margin": null,
            "max_height": null,
            "max_width": null,
            "min_height": null,
            "min_width": null,
            "object_fit": null,
            "object_position": null,
            "order": null,
            "overflow": null,
            "overflow_x": null,
            "overflow_y": null,
            "padding": null,
            "right": null,
            "top": null,
            "visibility": null,
            "width": null
          }
        },
        "0f1f9361898041248d1eeca848cfb9ca": {
          "model_module": "@jupyter-widgets/controls",
          "model_name": "ProgressStyleModel",
          "model_module_version": "1.5.0",
          "state": {
            "_model_module": "@jupyter-widgets/controls",
            "_model_module_version": "1.5.0",
            "_model_name": "ProgressStyleModel",
            "_view_count": null,
            "_view_module": "@jupyter-widgets/base",
            "_view_module_version": "1.2.0",
            "_view_name": "StyleView",
            "bar_color": null,
            "description_width": ""
          }
        },
        "53d480f1621a497fba965d1a8f2968d9": {
          "model_module": "@jupyter-widgets/controls",
          "model_name": "VBoxModel",
          "model_module_version": "1.5.0",
          "state": {
            "_dom_classes": [],
            "_model_module": "@jupyter-widgets/controls",
            "_model_module_version": "1.5.0",
            "_model_name": "VBoxModel",
            "_view_count": null,
            "_view_module": "@jupyter-widgets/controls",
            "_view_module_version": "1.5.0",
            "_view_name": "VBoxView",
            "box_style": "",
            "children": [
              "IPY_MODEL_c3b7b85851a5420fa70ab800d14c4aac",
              "IPY_MODEL_dc5281e703234e27949530c4184fd19c"
            ],
            "layout": "IPY_MODEL_71df9dcef9f74800878f23bd87155441"
          }
        },
        "c3b7b85851a5420fa70ab800d14c4aac": {
          "model_module": "@jupyter-widgets/controls",
          "model_name": "LabelModel",
          "model_module_version": "1.5.0",
          "state": {
            "_dom_classes": [],
            "_model_module": "@jupyter-widgets/controls",
            "_model_module_version": "1.5.0",
            "_model_name": "LabelModel",
            "_view_count": null,
            "_view_module": "@jupyter-widgets/controls",
            "_view_module_version": "1.5.0",
            "_view_name": "LabelView",
            "description": "",
            "description_tooltip": null,
            "layout": "IPY_MODEL_b9af10aac72a409f98488c5cfea40121",
            "placeholder": "​",
            "style": "IPY_MODEL_4071c7be32944dfb853ba8e208b43d1a",
            "value": "0.008 MB of 0.008 MB uploaded (0.000 MB deduped)\r"
          }
        },
        "dc5281e703234e27949530c4184fd19c": {
          "model_module": "@jupyter-widgets/controls",
          "model_name": "FloatProgressModel",
          "model_module_version": "1.5.0",
          "state": {
            "_dom_classes": [],
            "_model_module": "@jupyter-widgets/controls",
            "_model_module_version": "1.5.0",
            "_model_name": "FloatProgressModel",
            "_view_count": null,
            "_view_module": "@jupyter-widgets/controls",
            "_view_module_version": "1.5.0",
            "_view_name": "ProgressView",
            "bar_style": "",
            "description": "",
            "description_tooltip": null,
            "layout": "IPY_MODEL_558d63df1b3745d783665dd2ee44d84a",
            "max": 1,
            "min": 0,
            "orientation": "horizontal",
            "style": "IPY_MODEL_daa15a15f7544a1b9a2856fb829f9155",
            "value": 1
          }
        },
        "71df9dcef9f74800878f23bd87155441": {
          "model_module": "@jupyter-widgets/base",
          "model_name": "LayoutModel",
          "model_module_version": "1.2.0",
          "state": {
            "_model_module": "@jupyter-widgets/base",
            "_model_module_version": "1.2.0",
            "_model_name": "LayoutModel",
            "_view_count": null,
            "_view_module": "@jupyter-widgets/base",
            "_view_module_version": "1.2.0",
            "_view_name": "LayoutView",
            "align_content": null,
            "align_items": null,
            "align_self": null,
            "border": null,
            "bottom": null,
            "display": null,
            "flex": null,
            "flex_flow": null,
            "grid_area": null,
            "grid_auto_columns": null,
            "grid_auto_flow": null,
            "grid_auto_rows": null,
            "grid_column": null,
            "grid_gap": null,
            "grid_row": null,
            "grid_template_areas": null,
            "grid_template_columns": null,
            "grid_template_rows": null,
            "height": null,
            "justify_content": null,
            "justify_items": null,
            "left": null,
            "margin": null,
            "max_height": null,
            "max_width": null,
            "min_height": null,
            "min_width": null,
            "object_fit": null,
            "object_position": null,
            "order": null,
            "overflow": null,
            "overflow_x": null,
            "overflow_y": null,
            "padding": null,
            "right": null,
            "top": null,
            "visibility": null,
            "width": null
          }
        },
        "b9af10aac72a409f98488c5cfea40121": {
          "model_module": "@jupyter-widgets/base",
          "model_name": "LayoutModel",
          "model_module_version": "1.2.0",
          "state": {
            "_model_module": "@jupyter-widgets/base",
            "_model_module_version": "1.2.0",
            "_model_name": "LayoutModel",
            "_view_count": null,
            "_view_module": "@jupyter-widgets/base",
            "_view_module_version": "1.2.0",
            "_view_name": "LayoutView",
            "align_content": null,
            "align_items": null,
            "align_self": null,
            "border": null,
            "bottom": null,
            "display": null,
            "flex": null,
            "flex_flow": null,
            "grid_area": null,
            "grid_auto_columns": null,
            "grid_auto_flow": null,
            "grid_auto_rows": null,
            "grid_column": null,
            "grid_gap": null,
            "grid_row": null,
            "grid_template_areas": null,
            "grid_template_columns": null,
            "grid_template_rows": null,
            "height": null,
            "justify_content": null,
            "justify_items": null,
            "left": null,
            "margin": null,
            "max_height": null,
            "max_width": null,
            "min_height": null,
            "min_width": null,
            "object_fit": null,
            "object_position": null,
            "order": null,
            "overflow": null,
            "overflow_x": null,
            "overflow_y": null,
            "padding": null,
            "right": null,
            "top": null,
            "visibility": null,
            "width": null
          }
        },
        "4071c7be32944dfb853ba8e208b43d1a": {
          "model_module": "@jupyter-widgets/controls",
          "model_name": "DescriptionStyleModel",
          "model_module_version": "1.5.0",
          "state": {
            "_model_module": "@jupyter-widgets/controls",
            "_model_module_version": "1.5.0",
            "_model_name": "DescriptionStyleModel",
            "_view_count": null,
            "_view_module": "@jupyter-widgets/base",
            "_view_module_version": "1.2.0",
            "_view_name": "StyleView",
            "description_width": ""
          }
        },
        "558d63df1b3745d783665dd2ee44d84a": {
          "model_module": "@jupyter-widgets/base",
          "model_name": "LayoutModel",
          "model_module_version": "1.2.0",
          "state": {
            "_model_module": "@jupyter-widgets/base",
            "_model_module_version": "1.2.0",
            "_model_name": "LayoutModel",
            "_view_count": null,
            "_view_module": "@jupyter-widgets/base",
            "_view_module_version": "1.2.0",
            "_view_name": "LayoutView",
            "align_content": null,
            "align_items": null,
            "align_self": null,
            "border": null,
            "bottom": null,
            "display": null,
            "flex": null,
            "flex_flow": null,
            "grid_area": null,
            "grid_auto_columns": null,
            "grid_auto_flow": null,
            "grid_auto_rows": null,
            "grid_column": null,
            "grid_gap": null,
            "grid_row": null,
            "grid_template_areas": null,
            "grid_template_columns": null,
            "grid_template_rows": null,
            "height": null,
            "justify_content": null,
            "justify_items": null,
            "left": null,
            "margin": null,
            "max_height": null,
            "max_width": null,
            "min_height": null,
            "min_width": null,
            "object_fit": null,
            "object_position": null,
            "order": null,
            "overflow": null,
            "overflow_x": null,
            "overflow_y": null,
            "padding": null,
            "right": null,
            "top": null,
            "visibility": null,
            "width": null
          }
        },
        "daa15a15f7544a1b9a2856fb829f9155": {
          "model_module": "@jupyter-widgets/controls",
          "model_name": "ProgressStyleModel",
          "model_module_version": "1.5.0",
          "state": {
            "_model_module": "@jupyter-widgets/controls",
            "_model_module_version": "1.5.0",
            "_model_name": "ProgressStyleModel",
            "_view_count": null,
            "_view_module": "@jupyter-widgets/base",
            "_view_module_version": "1.2.0",
            "_view_name": "StyleView",
            "bar_color": null,
            "description_width": ""
          }
        }
      }
    }
  },
  "cells": [
    {
      "cell_type": "markdown",
      "metadata": {
        "id": "view-in-github",
        "colab_type": "text"
      },
      "source": [
        "<a href=\"https://colab.research.google.com/github/pranabIITM/CS6910/blob/main/PartA.ipynb\" target=\"_parent\"><img src=\"https://colab.research.google.com/assets/colab-badge.svg\" alt=\"Open In Colab\"/></a>"
      ]
    },
    {
      "cell_type": "code",
      "execution_count": 1,
      "metadata": {
        "id": "9A0Uq78XWvlJ"
      },
      "outputs": [],
      "source": [
        "import numpy as np\n",
        "import matplotlib.pyplot as plt\n",
        "import tensorflow as tf\n",
        "import keras\n",
        "from keras.models import Sequential\n",
        "from keras.layers import Conv2D,Dense,Activation,MaxPooling2D,Flatten,BatchNormalization,Dropout,InputLayer"
      ]
    },
    {
      "cell_type": "code",
      "source": [
        "from google.colab import drive\n",
        "drive.mount('/content/drive')"
      ],
      "metadata": {
        "colab": {
          "base_uri": "https://localhost:8080/"
        },
        "id": "vCvvbzG8Xy34",
        "outputId": "180979b4-dfec-4533-d3a4-6e23af005a4b"
      },
      "execution_count": 2,
      "outputs": [
        {
          "output_type": "stream",
          "name": "stdout",
          "text": [
            "Mounted at /content/drive\n"
          ]
        }
      ]
    },
    {
      "cell_type": "code",
      "source": [
        "physical_devices = tf.config.list_physical_devices('GPU')\n",
        "tf.config.experimental.set_memory_growth(physical_devices[0], enable=True)"
      ],
      "metadata": {
        "id": "v028YTE-Y6E4"
      },
      "execution_count": 3,
      "outputs": []
    },
    {
      "cell_type": "code",
      "source": [
        ""
      ],
      "metadata": {
        "id": "dh6m6R6lZhRm"
      },
      "execution_count": null,
      "outputs": []
    },
    {
      "cell_type": "code",
      "source": [
        "def create_cnn_model(filters,fil_size,dense_neuron,batch_norm,dropout,padding,lr):\n",
        "    keras.backend.clear_session()\n",
        "    model = Sequential()\n",
        "    model.add(InputLayer(input_shape=(227,227,3))) \n",
        "\n",
        "    for i in range(5):\n",
        "        model.add(Conv2D(filters[i],fil_size[i],padding=\"same\"))\n",
        "        if batch_norm:\n",
        "            model.add(BatchNormalization())\n",
        "        model.add(Activation('relu'))\n",
        "        model.add(MaxPooling2D(pool_size=(2,2)))\n",
        "        \n",
        "    model.add(Flatten())\n",
        "    model.add(Dense(dense_neuron))\n",
        "    model.add(Dropout(dropout))\n",
        "    model.add(Activation(\"relu\"))\n",
        "\n",
        "    model.add(Dense(10,activation='softmax'))\n",
        "    adam = tf.keras.optimizers.Adam(learning_rate=lr)\n",
        "    model.compile(optimizer=adam,loss='categorical_crossentropy',metrics=['accuracy'])\n",
        "\n",
        "    return model"
      ],
      "metadata": {
        "id": "kZiOMhV6DsCK"
      },
      "execution_count": 4,
      "outputs": []
    },
    {
      "cell_type": "code",
      "source": [
        "from tensorflow.keras.preprocessing.image import ImageDataGenerator\n",
        "\n",
        "BATCH_SIZE = 128\n",
        "\n",
        "train_datagen = ImageDataGenerator(\n",
        "    rescale=1./255,\n",
        "    rotation_range=90,\n",
        "    shear_range=0.2,\n",
        "    zoom_range=0.2,\n",
        "    validation_split=0.1,\n",
        "    horizontal_flip=True)\n",
        "\n",
        "test_datagen = ImageDataGenerator(rescale=1./255)\n",
        "\n",
        "\n",
        " \n",
        "train_generator = train_datagen.flow_from_directory(\n",
        "    '/content/drive/MyDrive/DL_DATA_iNat/train',\n",
        "    subset='training',\n",
        "    target_size=(227,227),\n",
        "    batch_size=BATCH_SIZE,\n",
        "    class_mode='categorical',\n",
        "    shuffle = True,\n",
        "    seed = 45)\n",
        "\n",
        "val_generator = train_datagen.flow_from_directory(\n",
        "    '/content/drive/MyDrive/DL_DATA_iNat/train',\n",
        "    subset = 'validation',\n",
        "    target_size=(227,227),\n",
        "    batch_size=BATCH_SIZE,\n",
        "    class_mode='categorical',\n",
        "    shuffle = True,\n",
        "    seed = 45)\n",
        "\n",
        "test_generator = test_datagen.flow_from_directory(\n",
        "    '/content/drive/MyDrive/DL_DATA_iNat/val',\n",
        "    target_size=(227,227),\n",
        "    batch_size=BATCH_SIZE,\n",
        "    class_mode='categorical')          \n",
        "    "
      ],
      "metadata": {
        "colab": {
          "base_uri": "https://localhost:8080/"
        },
        "id": "-G6LTs5IiRNV",
        "outputId": "289b6470-afce-42dc-8077-4e1b13c1575e"
      },
      "execution_count": 17,
      "outputs": [
        {
          "output_type": "stream",
          "name": "stdout",
          "text": [
            "Found 9018 images belonging to 10 classes.\n",
            "Found 1000 images belonging to 10 classes.\n",
            "Found 2009 images belonging to 10 classes.\n"
          ]
        }
      ]
    },
    {
      "cell_type": "code",
      "source": [
        "fil=[32,64,64,128,128]\n",
        "fils=[(7,7),(7,7),(7,7),(7,7),(7,7)]\n",
        "d=0.15\n",
        "batch_norm=True\n",
        "epochs=5,\n",
        "d_n=64\n",
        "ler=0.001\n",
        "trial = create_cnn_model(fil,fils,d_n,batch_norm,d,\"same\",ler)"
      ],
      "metadata": {
        "id": "ZbBDCpABHr-f"
      },
      "execution_count": 31,
      "outputs": []
    },
    {
      "cell_type": "code",
      "source": [
        "trial.fit(\n",
        "          train_generator,\n",
        "          steps_per_epoch = train_generator.samples // 256,\n",
        "          validation_data = val_generator, \n",
        "          validation_steps = val_generator.samples // 256,\n",
        "          epochs = 5\n",
        "        )"
      ],
      "metadata": {
        "id": "HpnsWXHum4UC"
      },
      "execution_count": null,
      "outputs": []
    },
    {
      "cell_type": "code",
      "source": [
        "trial.evaluate(test_generator,batch_size = 32)"
      ],
      "metadata": {
        "id": "_cpaM7vwmomE"
      },
      "execution_count": null,
      "outputs": []
    },
    {
      "cell_type": "code",
      "source": [
        "sweep_config = {\n",
        "    'method': 'random', \n",
        "    'metric': {\n",
        "      'name': 'val_accuracy',\n",
        "      'goal': 'maximize'   \n",
        "    },\n",
        "    'parameters': {\n",
        "        'epochs': { 'values': [8]\n",
        "        },\n",
        "        'filters': {\n",
        "            'values': [[16,32,64,128,256],\n",
        "                       #[32,64,128,256,512],\n",
        "                       #[512,256,128,64,32],\n",
        "                       [128,64,32,16,8],\n",
        "                       [64,64,64,64,64],\n",
        "                       [32,32,32,32,32],\n",
        "                       [48,48,48,48,48]\n",
        "                      ]\n",
        "        },\n",
        "        'filter_size': {\n",
        "            'values': [[(7,7),(7,7),(7,7),(7,7),(7,7)],\n",
        "                       [(5,5),(5,5),(5,5),(5,5),(5,5)],\n",
        "                       [(3,3),(3,3),(3,3),(3,3),(3,3)],\n",
        "                       [(2,2),(2,2),(2,2),(2,2),(2,2)]\n",
        "                      ]\n",
        "        },\n",
        "        'dense_neuron': {\n",
        "            'values': [32,64,128,256]\n",
        "        },\n",
        "        'batch_norm': {\n",
        "            'values': [True,False]\n",
        "        },\n",
        "        'dropout': {\n",
        "            'values': [0.15,0.2]\n",
        "        },\n",
        "        'lr': {\n",
        "            'values': [1e-4,1e-5]\n",
        "        }\n",
        "    }\n",
        "}"
      ],
      "metadata": {
        "id": "U9rXSYRZiSQ8"
      },
      "execution_count": 20,
      "outputs": []
    },
    {
      "cell_type": "code",
      "source": [
        "!pip install wandb\n"
      ],
      "metadata": {
        "colab": {
          "base_uri": "https://localhost:8080/"
        },
        "id": "QWTjGxR7sRdg",
        "outputId": "50c6c637-eaff-42a0-be2a-fb6e3250556f"
      },
      "execution_count": 9,
      "outputs": [
        {
          "output_type": "stream",
          "name": "stdout",
          "text": [
            "Collecting wandb\n",
            "  Downloading wandb-0.12.11-py2.py3-none-any.whl (1.7 MB)\n",
            "\u001b[?25l\r\u001b[K     |▏                               | 10 kB 21.4 MB/s eta 0:00:01\r\u001b[K     |▍                               | 20 kB 17.2 MB/s eta 0:00:01\r\u001b[K     |▋                               | 30 kB 10.0 MB/s eta 0:00:01\r\u001b[K     |▊                               | 40 kB 8.2 MB/s eta 0:00:01\r\u001b[K     |█                               | 51 kB 4.6 MB/s eta 0:00:01\r\u001b[K     |█▏                              | 61 kB 5.4 MB/s eta 0:00:01\r\u001b[K     |█▎                              | 71 kB 5.5 MB/s eta 0:00:01\r\u001b[K     |█▌                              | 81 kB 5.4 MB/s eta 0:00:01\r\u001b[K     |█▊                              | 92 kB 6.1 MB/s eta 0:00:01\r\u001b[K     |█▉                              | 102 kB 5.2 MB/s eta 0:00:01\r\u001b[K     |██                              | 112 kB 5.2 MB/s eta 0:00:01\r\u001b[K     |██▎                             | 122 kB 5.2 MB/s eta 0:00:01\r\u001b[K     |██▍                             | 133 kB 5.2 MB/s eta 0:00:01\r\u001b[K     |██▋                             | 143 kB 5.2 MB/s eta 0:00:01\r\u001b[K     |██▉                             | 153 kB 5.2 MB/s eta 0:00:01\r\u001b[K     |███                             | 163 kB 5.2 MB/s eta 0:00:01\r\u001b[K     |███▏                            | 174 kB 5.2 MB/s eta 0:00:01\r\u001b[K     |███▍                            | 184 kB 5.2 MB/s eta 0:00:01\r\u001b[K     |███▋                            | 194 kB 5.2 MB/s eta 0:00:01\r\u001b[K     |███▊                            | 204 kB 5.2 MB/s eta 0:00:01\r\u001b[K     |████                            | 215 kB 5.2 MB/s eta 0:00:01\r\u001b[K     |████▏                           | 225 kB 5.2 MB/s eta 0:00:01\r\u001b[K     |████▎                           | 235 kB 5.2 MB/s eta 0:00:01\r\u001b[K     |████▌                           | 245 kB 5.2 MB/s eta 0:00:01\r\u001b[K     |████▊                           | 256 kB 5.2 MB/s eta 0:00:01\r\u001b[K     |████▉                           | 266 kB 5.2 MB/s eta 0:00:01\r\u001b[K     |█████                           | 276 kB 5.2 MB/s eta 0:00:01\r\u001b[K     |█████▎                          | 286 kB 5.2 MB/s eta 0:00:01\r\u001b[K     |█████▌                          | 296 kB 5.2 MB/s eta 0:00:01\r\u001b[K     |█████▋                          | 307 kB 5.2 MB/s eta 0:00:01\r\u001b[K     |█████▉                          | 317 kB 5.2 MB/s eta 0:00:01\r\u001b[K     |██████                          | 327 kB 5.2 MB/s eta 0:00:01\r\u001b[K     |██████▏                         | 337 kB 5.2 MB/s eta 0:00:01\r\u001b[K     |██████▍                         | 348 kB 5.2 MB/s eta 0:00:01\r\u001b[K     |██████▋                         | 358 kB 5.2 MB/s eta 0:00:01\r\u001b[K     |██████▊                         | 368 kB 5.2 MB/s eta 0:00:01\r\u001b[K     |███████                         | 378 kB 5.2 MB/s eta 0:00:01\r\u001b[K     |███████▏                        | 389 kB 5.2 MB/s eta 0:00:01\r\u001b[K     |███████▎                        | 399 kB 5.2 MB/s eta 0:00:01\r\u001b[K     |███████▌                        | 409 kB 5.2 MB/s eta 0:00:01\r\u001b[K     |███████▊                        | 419 kB 5.2 MB/s eta 0:00:01\r\u001b[K     |███████▉                        | 430 kB 5.2 MB/s eta 0:00:01\r\u001b[K     |████████                        | 440 kB 5.2 MB/s eta 0:00:01\r\u001b[K     |████████▎                       | 450 kB 5.2 MB/s eta 0:00:01\r\u001b[K     |████████▌                       | 460 kB 5.2 MB/s eta 0:00:01\r\u001b[K     |████████▋                       | 471 kB 5.2 MB/s eta 0:00:01\r\u001b[K     |████████▉                       | 481 kB 5.2 MB/s eta 0:00:01\r\u001b[K     |█████████                       | 491 kB 5.2 MB/s eta 0:00:01\r\u001b[K     |█████████▏                      | 501 kB 5.2 MB/s eta 0:00:01\r\u001b[K     |█████████▍                      | 512 kB 5.2 MB/s eta 0:00:01\r\u001b[K     |█████████▋                      | 522 kB 5.2 MB/s eta 0:00:01\r\u001b[K     |█████████▊                      | 532 kB 5.2 MB/s eta 0:00:01\r\u001b[K     |██████████                      | 542 kB 5.2 MB/s eta 0:00:01\r\u001b[K     |██████████▏                     | 552 kB 5.2 MB/s eta 0:00:01\r\u001b[K     |██████████▎                     | 563 kB 5.2 MB/s eta 0:00:01\r\u001b[K     |██████████▌                     | 573 kB 5.2 MB/s eta 0:00:01\r\u001b[K     |██████████▊                     | 583 kB 5.2 MB/s eta 0:00:01\r\u001b[K     |███████████                     | 593 kB 5.2 MB/s eta 0:00:01\r\u001b[K     |███████████                     | 604 kB 5.2 MB/s eta 0:00:01\r\u001b[K     |███████████▎                    | 614 kB 5.2 MB/s eta 0:00:01\r\u001b[K     |███████████▌                    | 624 kB 5.2 MB/s eta 0:00:01\r\u001b[K     |███████████▋                    | 634 kB 5.2 MB/s eta 0:00:01\r\u001b[K     |███████████▉                    | 645 kB 5.2 MB/s eta 0:00:01\r\u001b[K     |████████████                    | 655 kB 5.2 MB/s eta 0:00:01\r\u001b[K     |████████████▏                   | 665 kB 5.2 MB/s eta 0:00:01\r\u001b[K     |████████████▍                   | 675 kB 5.2 MB/s eta 0:00:01\r\u001b[K     |████████████▋                   | 686 kB 5.2 MB/s eta 0:00:01\r\u001b[K     |████████████▊                   | 696 kB 5.2 MB/s eta 0:00:01\r\u001b[K     |█████████████                   | 706 kB 5.2 MB/s eta 0:00:01\r\u001b[K     |█████████████▏                  | 716 kB 5.2 MB/s eta 0:00:01\r\u001b[K     |█████████████▍                  | 727 kB 5.2 MB/s eta 0:00:01\r\u001b[K     |█████████████▌                  | 737 kB 5.2 MB/s eta 0:00:01\r\u001b[K     |█████████████▊                  | 747 kB 5.2 MB/s eta 0:00:01\r\u001b[K     |██████████████                  | 757 kB 5.2 MB/s eta 0:00:01\r\u001b[K     |██████████████                  | 768 kB 5.2 MB/s eta 0:00:01\r\u001b[K     |██████████████▎                 | 778 kB 5.2 MB/s eta 0:00:01\r\u001b[K     |██████████████▌                 | 788 kB 5.2 MB/s eta 0:00:01\r\u001b[K     |██████████████▋                 | 798 kB 5.2 MB/s eta 0:00:01\r\u001b[K     |██████████████▉                 | 808 kB 5.2 MB/s eta 0:00:01\r\u001b[K     |███████████████                 | 819 kB 5.2 MB/s eta 0:00:01\r\u001b[K     |███████████████▏                | 829 kB 5.2 MB/s eta 0:00:01\r\u001b[K     |███████████████▍                | 839 kB 5.2 MB/s eta 0:00:01\r\u001b[K     |███████████████▋                | 849 kB 5.2 MB/s eta 0:00:01\r\u001b[K     |███████████████▊                | 860 kB 5.2 MB/s eta 0:00:01\r\u001b[K     |████████████████                | 870 kB 5.2 MB/s eta 0:00:01\r\u001b[K     |████████████████▏               | 880 kB 5.2 MB/s eta 0:00:01\r\u001b[K     |████████████████▍               | 890 kB 5.2 MB/s eta 0:00:01\r\u001b[K     |████████████████▌               | 901 kB 5.2 MB/s eta 0:00:01\r\u001b[K     |████████████████▊               | 911 kB 5.2 MB/s eta 0:00:01\r\u001b[K     |█████████████████               | 921 kB 5.2 MB/s eta 0:00:01\r\u001b[K     |█████████████████               | 931 kB 5.2 MB/s eta 0:00:01\r\u001b[K     |█████████████████▎              | 942 kB 5.2 MB/s eta 0:00:01\r\u001b[K     |█████████████████▌              | 952 kB 5.2 MB/s eta 0:00:01\r\u001b[K     |█████████████████▋              | 962 kB 5.2 MB/s eta 0:00:01\r\u001b[K     |█████████████████▉              | 972 kB 5.2 MB/s eta 0:00:01\r\u001b[K     |██████████████████              | 983 kB 5.2 MB/s eta 0:00:01\r\u001b[K     |██████████████████▏             | 993 kB 5.2 MB/s eta 0:00:01\r\u001b[K     |██████████████████▍             | 1.0 MB 5.2 MB/s eta 0:00:01\r\u001b[K     |██████████████████▋             | 1.0 MB 5.2 MB/s eta 0:00:01\r\u001b[K     |██████████████████▉             | 1.0 MB 5.2 MB/s eta 0:00:01\r\u001b[K     |███████████████████             | 1.0 MB 5.2 MB/s eta 0:00:01\r\u001b[K     |███████████████████▏            | 1.0 MB 5.2 MB/s eta 0:00:01\r\u001b[K     |███████████████████▍            | 1.1 MB 5.2 MB/s eta 0:00:01\r\u001b[K     |███████████████████▌            | 1.1 MB 5.2 MB/s eta 0:00:01\r\u001b[K     |███████████████████▊            | 1.1 MB 5.2 MB/s eta 0:00:01\r\u001b[K     |████████████████████            | 1.1 MB 5.2 MB/s eta 0:00:01\r\u001b[K     |████████████████████            | 1.1 MB 5.2 MB/s eta 0:00:01\r\u001b[K     |████████████████████▎           | 1.1 MB 5.2 MB/s eta 0:00:01\r\u001b[K     |████████████████████▌           | 1.1 MB 5.2 MB/s eta 0:00:01\r\u001b[K     |████████████████████▋           | 1.1 MB 5.2 MB/s eta 0:00:01\r\u001b[K     |████████████████████▉           | 1.1 MB 5.2 MB/s eta 0:00:01\r\u001b[K     |█████████████████████           | 1.1 MB 5.2 MB/s eta 0:00:01\r\u001b[K     |█████████████████████▏          | 1.2 MB 5.2 MB/s eta 0:00:01\r\u001b[K     |█████████████████████▍          | 1.2 MB 5.2 MB/s eta 0:00:01\r\u001b[K     |█████████████████████▋          | 1.2 MB 5.2 MB/s eta 0:00:01\r\u001b[K     |█████████████████████▉          | 1.2 MB 5.2 MB/s eta 0:00:01\r\u001b[K     |██████████████████████          | 1.2 MB 5.2 MB/s eta 0:00:01\r\u001b[K     |██████████████████████▏         | 1.2 MB 5.2 MB/s eta 0:00:01\r\u001b[K     |██████████████████████▍         | 1.2 MB 5.2 MB/s eta 0:00:01\r\u001b[K     |██████████████████████▌         | 1.2 MB 5.2 MB/s eta 0:00:01\r\u001b[K     |██████████████████████▊         | 1.2 MB 5.2 MB/s eta 0:00:01\r\u001b[K     |███████████████████████         | 1.2 MB 5.2 MB/s eta 0:00:01\r\u001b[K     |███████████████████████         | 1.3 MB 5.2 MB/s eta 0:00:01\r\u001b[K     |███████████████████████▎        | 1.3 MB 5.2 MB/s eta 0:00:01\r\u001b[K     |███████████████████████▌        | 1.3 MB 5.2 MB/s eta 0:00:01\r\u001b[K     |███████████████████████▋        | 1.3 MB 5.2 MB/s eta 0:00:01\r\u001b[K     |███████████████████████▉        | 1.3 MB 5.2 MB/s eta 0:00:01\r\u001b[K     |████████████████████████        | 1.3 MB 5.2 MB/s eta 0:00:01\r\u001b[K     |████████████████████████▎       | 1.3 MB 5.2 MB/s eta 0:00:01\r\u001b[K     |████████████████████████▍       | 1.3 MB 5.2 MB/s eta 0:00:01\r\u001b[K     |████████████████████████▋       | 1.3 MB 5.2 MB/s eta 0:00:01\r\u001b[K     |████████████████████████▉       | 1.4 MB 5.2 MB/s eta 0:00:01\r\u001b[K     |█████████████████████████       | 1.4 MB 5.2 MB/s eta 0:00:01\r\u001b[K     |█████████████████████████▏      | 1.4 MB 5.2 MB/s eta 0:00:01\r\u001b[K     |█████████████████████████▍      | 1.4 MB 5.2 MB/s eta 0:00:01\r\u001b[K     |█████████████████████████▌      | 1.4 MB 5.2 MB/s eta 0:00:01\r\u001b[K     |█████████████████████████▊      | 1.4 MB 5.2 MB/s eta 0:00:01\r\u001b[K     |██████████████████████████      | 1.4 MB 5.2 MB/s eta 0:00:01\r\u001b[K     |██████████████████████████      | 1.4 MB 5.2 MB/s eta 0:00:01\r\u001b[K     |██████████████████████████▎     | 1.4 MB 5.2 MB/s eta 0:00:01\r\u001b[K     |██████████████████████████▌     | 1.4 MB 5.2 MB/s eta 0:00:01\r\u001b[K     |██████████████████████████▊     | 1.5 MB 5.2 MB/s eta 0:00:01\r\u001b[K     |██████████████████████████▉     | 1.5 MB 5.2 MB/s eta 0:00:01\r\u001b[K     |███████████████████████████     | 1.5 MB 5.2 MB/s eta 0:00:01\r\u001b[K     |███████████████████████████▎    | 1.5 MB 5.2 MB/s eta 0:00:01\r\u001b[K     |███████████████████████████▍    | 1.5 MB 5.2 MB/s eta 0:00:01\r\u001b[K     |███████████████████████████▋    | 1.5 MB 5.2 MB/s eta 0:00:01\r\u001b[K     |███████████████████████████▉    | 1.5 MB 5.2 MB/s eta 0:00:01\r\u001b[K     |████████████████████████████    | 1.5 MB 5.2 MB/s eta 0:00:01\r\u001b[K     |████████████████████████████▏   | 1.5 MB 5.2 MB/s eta 0:00:01\r\u001b[K     |████████████████████████████▍   | 1.5 MB 5.2 MB/s eta 0:00:01\r\u001b[K     |████████████████████████████▌   | 1.6 MB 5.2 MB/s eta 0:00:01\r\u001b[K     |████████████████████████████▊   | 1.6 MB 5.2 MB/s eta 0:00:01\r\u001b[K     |█████████████████████████████   | 1.6 MB 5.2 MB/s eta 0:00:01\r\u001b[K     |█████████████████████████████   | 1.6 MB 5.2 MB/s eta 0:00:01\r\u001b[K     |█████████████████████████████▎  | 1.6 MB 5.2 MB/s eta 0:00:01\r\u001b[K     |█████████████████████████████▌  | 1.6 MB 5.2 MB/s eta 0:00:01\r\u001b[K     |█████████████████████████████▊  | 1.6 MB 5.2 MB/s eta 0:00:01\r\u001b[K     |█████████████████████████████▉  | 1.6 MB 5.2 MB/s eta 0:00:01\r\u001b[K     |██████████████████████████████  | 1.6 MB 5.2 MB/s eta 0:00:01\r\u001b[K     |██████████████████████████████▎ | 1.6 MB 5.2 MB/s eta 0:00:01\r\u001b[K     |██████████████████████████████▍ | 1.7 MB 5.2 MB/s eta 0:00:01\r\u001b[K     |██████████████████████████████▋ | 1.7 MB 5.2 MB/s eta 0:00:01\r\u001b[K     |██████████████████████████████▉ | 1.7 MB 5.2 MB/s eta 0:00:01\r\u001b[K     |███████████████████████████████ | 1.7 MB 5.2 MB/s eta 0:00:01\r\u001b[K     |███████████████████████████████▏| 1.7 MB 5.2 MB/s eta 0:00:01\r\u001b[K     |███████████████████████████████▍| 1.7 MB 5.2 MB/s eta 0:00:01\r\u001b[K     |███████████████████████████████▌| 1.7 MB 5.2 MB/s eta 0:00:01\r\u001b[K     |███████████████████████████████▊| 1.7 MB 5.2 MB/s eta 0:00:01\r\u001b[K     |████████████████████████████████| 1.7 MB 5.2 MB/s eta 0:00:01\r\u001b[K     |████████████████████████████████| 1.7 MB 5.2 MB/s \n",
            "\u001b[?25hCollecting pathtools\n",
            "  Downloading pathtools-0.1.2.tar.gz (11 kB)\n",
            "Requirement already satisfied: psutil>=5.0.0 in /usr/local/lib/python3.7/dist-packages (from wandb) (5.4.8)\n",
            "Requirement already satisfied: six>=1.13.0 in /usr/local/lib/python3.7/dist-packages (from wandb) (1.15.0)\n",
            "Collecting shortuuid>=0.5.0\n",
            "  Downloading shortuuid-1.0.8-py3-none-any.whl (9.5 kB)\n",
            "Collecting docker-pycreds>=0.4.0\n",
            "  Downloading docker_pycreds-0.4.0-py2.py3-none-any.whl (9.0 kB)\n",
            "Requirement already satisfied: protobuf>=3.12.0 in /usr/local/lib/python3.7/dist-packages (from wandb) (3.17.3)\n",
            "Requirement already satisfied: python-dateutil>=2.6.1 in /usr/local/lib/python3.7/dist-packages (from wandb) (2.8.2)\n",
            "Collecting GitPython>=1.0.0\n",
            "  Downloading GitPython-3.1.27-py3-none-any.whl (181 kB)\n",
            "\u001b[K     |████████████████████████████████| 181 kB 44.8 MB/s \n",
            "\u001b[?25hCollecting yaspin>=1.0.0\n",
            "  Downloading yaspin-2.1.0-py3-none-any.whl (18 kB)\n",
            "Requirement already satisfied: requests<3,>=2.0.0 in /usr/local/lib/python3.7/dist-packages (from wandb) (2.23.0)\n",
            "Collecting sentry-sdk>=1.0.0\n",
            "  Downloading sentry_sdk-1.5.8-py2.py3-none-any.whl (144 kB)\n",
            "\u001b[K     |████████████████████████████████| 144 kB 50.0 MB/s \n",
            "\u001b[?25hRequirement already satisfied: PyYAML in /usr/local/lib/python3.7/dist-packages (from wandb) (3.13)\n",
            "Requirement already satisfied: Click!=8.0.0,>=7.0 in /usr/local/lib/python3.7/dist-packages (from wandb) (7.1.2)\n",
            "Requirement already satisfied: promise<3,>=2.0 in /usr/local/lib/python3.7/dist-packages (from wandb) (2.3)\n",
            "Collecting setproctitle\n",
            "  Downloading setproctitle-1.2.2-cp37-cp37m-manylinux1_x86_64.whl (36 kB)\n",
            "Collecting gitdb<5,>=4.0.1\n",
            "  Downloading gitdb-4.0.9-py3-none-any.whl (63 kB)\n",
            "\u001b[K     |████████████████████████████████| 63 kB 1.3 MB/s \n",
            "\u001b[?25hRequirement already satisfied: typing-extensions>=3.7.4.3 in /usr/local/lib/python3.7/dist-packages (from GitPython>=1.0.0->wandb) (3.10.0.2)\n",
            "Collecting smmap<6,>=3.0.1\n",
            "  Downloading smmap-5.0.0-py3-none-any.whl (24 kB)\n",
            "Requirement already satisfied: certifi>=2017.4.17 in /usr/local/lib/python3.7/dist-packages (from requests<3,>=2.0.0->wandb) (2021.10.8)\n",
            "Requirement already satisfied: idna<3,>=2.5 in /usr/local/lib/python3.7/dist-packages (from requests<3,>=2.0.0->wandb) (2.10)\n",
            "Requirement already satisfied: urllib3!=1.25.0,!=1.25.1,<1.26,>=1.21.1 in /usr/local/lib/python3.7/dist-packages (from requests<3,>=2.0.0->wandb) (1.24.3)\n",
            "Requirement already satisfied: chardet<4,>=3.0.2 in /usr/local/lib/python3.7/dist-packages (from requests<3,>=2.0.0->wandb) (3.0.4)\n",
            "Requirement already satisfied: termcolor<2.0.0,>=1.1.0 in /usr/local/lib/python3.7/dist-packages (from yaspin>=1.0.0->wandb) (1.1.0)\n",
            "Building wheels for collected packages: pathtools\n",
            "  Building wheel for pathtools (setup.py) ... \u001b[?25l\u001b[?25hdone\n",
            "  Created wheel for pathtools: filename=pathtools-0.1.2-py3-none-any.whl size=8806 sha256=c5d7f4d3fe90f0a92856cb58f499011ca0960213bc2cad35d2e91fb491285d1d\n",
            "  Stored in directory: /root/.cache/pip/wheels/3e/31/09/fa59cef12cdcfecc627b3d24273699f390e71828921b2cbba2\n",
            "Successfully built pathtools\n",
            "Installing collected packages: smmap, gitdb, yaspin, shortuuid, setproctitle, sentry-sdk, pathtools, GitPython, docker-pycreds, wandb\n",
            "Successfully installed GitPython-3.1.27 docker-pycreds-0.4.0 gitdb-4.0.9 pathtools-0.1.2 sentry-sdk-1.5.8 setproctitle-1.2.2 shortuuid-1.0.8 smmap-5.0.0 wandb-0.12.11 yaspin-2.1.0\n"
          ]
        }
      ]
    },
    {
      "cell_type": "code",
      "source": [
        "import wandb\n",
        "wandb.login()"
      ],
      "metadata": {
        "colab": {
          "base_uri": "https://localhost:8080/",
          "height": 71
        },
        "id": "ukOSyjRdgI_4",
        "outputId": "87f891c5-75b9-4627-d86b-8aa9aa84de58"
      },
      "execution_count": 11,
      "outputs": [
        {
          "output_type": "display_data",
          "data": {
            "text/plain": [
              "<IPython.core.display.Javascript object>"
            ],
            "application/javascript": [
              "\n",
              "        window._wandbApiKey = new Promise((resolve, reject) => {\n",
              "            function loadScript(url) {\n",
              "            return new Promise(function(resolve, reject) {\n",
              "                let newScript = document.createElement(\"script\");\n",
              "                newScript.onerror = reject;\n",
              "                newScript.onload = resolve;\n",
              "                document.body.appendChild(newScript);\n",
              "                newScript.src = url;\n",
              "            });\n",
              "            }\n",
              "            loadScript(\"https://cdn.jsdelivr.net/npm/postmate/build/postmate.min.js\").then(() => {\n",
              "            const iframe = document.createElement('iframe')\n",
              "            iframe.style.cssText = \"width:0;height:0;border:none\"\n",
              "            document.body.appendChild(iframe)\n",
              "            const handshake = new Postmate({\n",
              "                container: iframe,\n",
              "                url: 'https://wandb.ai/authorize'\n",
              "            });\n",
              "            const timeout = setTimeout(() => reject(\"Couldn't auto authenticate\"), 5000)\n",
              "            handshake.then(function(child) {\n",
              "                child.on('authorize', data => {\n",
              "                    clearTimeout(timeout)\n",
              "                    resolve(data)\n",
              "                });\n",
              "            });\n",
              "            })\n",
              "        });\n",
              "    "
            ]
          },
          "metadata": {}
        },
        {
          "output_type": "stream",
          "name": "stderr",
          "text": [
            "\u001b[34m\u001b[1mwandb\u001b[0m: Appending key for api.wandb.ai to your netrc file: /root/.netrc\n"
          ]
        },
        {
          "output_type": "execute_result",
          "data": {
            "text/plain": [
              "True"
            ]
          },
          "metadata": {},
          "execution_count": 11
        }
      ]
    },
    {
      "cell_type": "code",
      "source": [
        "sweep_id = wandb.sweep(sweep_config,project = 'cs6910-As-2')"
      ],
      "metadata": {
        "colab": {
          "base_uri": "https://localhost:8080/"
        },
        "id": "KIlhAuiOhJ4K",
        "outputId": "5ac9fffb-7377-4a35-88fa-82797487c694"
      },
      "execution_count": 22,
      "outputs": [
        {
          "output_type": "stream",
          "name": "stdout",
          "text": [
            "Create sweep with ID: 3k0qgn8h\n",
            "Sweep URL: https://wandb.ai/pranab045/cs6910-As-2/sweeps/3k0qgn8h\n"
          ]
        }
      ]
    },
    {
      "cell_type": "code",
      "source": [
        "import wandb\n",
        "from wandb.keras import WandbCallback\n",
        "\n",
        "def train():\n",
        "    config_defaults = {\n",
        "        \"filters\": [32,64,64,128,128],\n",
        "        \"filter_size\": [(7,7),(7,7),(7,7),(7,7),(7,7)],\n",
        "        \"dropout\": 0.15,\n",
        "        \"batch_norm\": True,\n",
        "        \"epochs\": 5,\n",
        "        \"dense_neuron\": 64,\n",
        "        \"lr\": 0.001\n",
        "    }\n",
        "    wandb.init(config=config_defaults,name=\"CS6910-A2-P_A\")\n",
        "    config = wandb.config\n",
        "    wandb.run.name = \"flt_{}_fltsz_{}_do_{}_dsz_{}_lr_{}\".format(config.filters,\\\n",
        "                                                      config.filter_size[0],\\\n",
        "                                                      config.dropout,\\\n",
        "                                                      config.dense_neuron,\\\n",
        "                                                      config.lr)\n",
        "    wandb.run.save()\n",
        "\n",
        "    model = create_cnn_model(config.filters,config.filter_size,config.dense_neuron,config.batch_norm,config.dropout,\"same\",config.lr)\n",
        "\n",
        "    trained_arti = model.fit(\n",
        "                              train_generator,\n",
        "                              steps_per_epoch = train_generator.samples // BATCH_SIZE,\n",
        "                              validation_data = val_generator, \n",
        "                              validation_steps = val_generator.samples // BATCH_SIZE,\n",
        "                              epochs = config.epochs, \n",
        "                              callbacks=[WandbCallback(monitor='val_accuracy',mode='max')]\n",
        "                            )\n",
        "    model.evaluate(\n",
        "                    test_generator,\n",
        "                    batch_size = 32,\n",
        "                    callbacks=[WandbCallback()]\n",
        "                  )\n",
        "    #model.save('/content/drive/MyDrive/DL_DATA_iNat/best_model.h5)\n",
        "    wandb.finish()\n",
        "    return model, trained_arti"
      ],
      "metadata": {
        "id": "2IGMXwiG_Gca"
      },
      "execution_count": 21,
      "outputs": []
    },
    {
      "cell_type": "code",
      "source": [
        "wandb.agent(sweep_id, train)"
      ],
      "metadata": {
        "colab": {
          "base_uri": "https://localhost:8080/",
          "height": 1000,
          "referenced_widgets": [
            "6993f7eb435540b9b078f7ac7f4c51fb",
            "6cfcf6a83fd04324a3b608e5c16bb6c0",
            "5ee27688e4fb47199367eca82bd26c6e",
            "a254fdb2565c4edc944047393ab6676e",
            "8e61cde7530c4bd0af885765b85b4609",
            "9efac2f0fb5f4eb38c7056343fd48e20",
            "a06390e02069404e960a6b1c8f01577b",
            "c6064525387a461483f830ad87e5fa3c",
            "629eeb10d1714b57ab5ab6b7f08673f6",
            "dba497aa0b9e445db24c132af6648e49",
            "556f9519775f49f48277033558f67eb5",
            "8360c05a0ee94b5fbb739453d21bc662",
            "89824dc35d904b7480f78862386f94a5",
            "5d3c89f5643148578921738b47d5c16e",
            "d4760114d6e04296bf02e2c976fd8810",
            "27427bf4fb084619b2fe360d5f233d14",
            "dfe2b9a0c1e54b14bce6052ccef6bd40",
            "4fabea1f726442f99ededb9d9321f44d",
            "3f8479ca18084d9982f4e04fa5586c5a",
            "4bead6ae1ced454286a7e25d9d69dbde",
            "71c239ed0b8d4883a25e269357ab13e6",
            "892f8a5ca6ac4d69bd8e36be0ca8b62e",
            "5472ac9ba0544019a94f6c2c3e234e0e",
            "0f1f9361898041248d1eeca848cfb9ca",
            "53d480f1621a497fba965d1a8f2968d9",
            "c3b7b85851a5420fa70ab800d14c4aac",
            "dc5281e703234e27949530c4184fd19c",
            "71df9dcef9f74800878f23bd87155441",
            "b9af10aac72a409f98488c5cfea40121",
            "4071c7be32944dfb853ba8e208b43d1a",
            "558d63df1b3745d783665dd2ee44d84a",
            "daa15a15f7544a1b9a2856fb829f9155"
          ]
        },
        "id": "smIx91zLiMT7",
        "outputId": "23dd4537-14bd-4aab-e197-3b3bacb33cd9"
      },
      "execution_count": 23,
      "outputs": [
        {
          "output_type": "stream",
          "name": "stderr",
          "text": [
            "\u001b[34m\u001b[1mwandb\u001b[0m: Agent Starting Run: q7a4mc2g with config:\n",
            "\u001b[34m\u001b[1mwandb\u001b[0m: \tbatch_norm: False\n",
            "\u001b[34m\u001b[1mwandb\u001b[0m: \tdense_neuron: 32\n",
            "\u001b[34m\u001b[1mwandb\u001b[0m: \tdropout: 0.2\n",
            "\u001b[34m\u001b[1mwandb\u001b[0m: \tepochs: 8\n",
            "\u001b[34m\u001b[1mwandb\u001b[0m: \tfilter_size: [[7, 7], [7, 7], [7, 7], [7, 7], [7, 7]]\n",
            "\u001b[34m\u001b[1mwandb\u001b[0m: \tfilters: [48, 48, 48, 48, 48]\n",
            "\u001b[34m\u001b[1mwandb\u001b[0m: \tlr: 0.0001\n"
          ]
        },
        {
          "output_type": "display_data",
          "data": {
            "text/plain": [
              "<IPython.core.display.HTML object>"
            ],
            "text/html": [
              "Tracking run with wandb version 0.12.11"
            ]
          },
          "metadata": {}
        },
        {
          "output_type": "display_data",
          "data": {
            "text/plain": [
              "<IPython.core.display.HTML object>"
            ],
            "text/html": [
              "Run data is saved locally in <code>/content/wandb/run-20220328_134522-q7a4mc2g</code>"
            ]
          },
          "metadata": {}
        },
        {
          "output_type": "display_data",
          "data": {
            "text/plain": [
              "<IPython.core.display.HTML object>"
            ],
            "text/html": [
              "Syncing run <strong><a href=\"https://wandb.ai/pranab045/cs6910-As-2/runs/q7a4mc2g\" target=\"_blank\">CS6910-A2-P_A</a></strong> to <a href=\"https://wandb.ai/pranab045/cs6910-As-2\" target=\"_blank\">Weights & Biases</a> (<a href=\"https://wandb.me/run\" target=\"_blank\">docs</a>)<br/>Sweep page:  <a href=\"https://wandb.ai/pranab045/cs6910-As-2/sweeps/3k0qgn8h\" target=\"_blank\">https://wandb.ai/pranab045/cs6910-As-2/sweeps/3k0qgn8h</a>"
            ]
          },
          "metadata": {}
        },
        {
          "output_type": "stream",
          "name": "stdout",
          "text": [
            "Epoch 1/8\n",
            "70/70 [==============================] - 2020s 29s/step - loss: 2.2829 - accuracy: 0.1324 - val_loss: 2.2528 - val_accuracy: 0.1808 - _timestamp: 1648477150.0000 - _runtime: 2027.0000\n",
            "Epoch 2/8\n",
            "70/70 [==============================] - 273s 4s/step - loss: 2.2245 - accuracy: 0.1810 - val_loss: 2.1851 - val_accuracy: 0.2087 - _timestamp: 1648477424.0000 - _runtime: 2301.0000\n",
            "Epoch 3/8\n",
            "70/70 [==============================] - 278s 4s/step - loss: 2.1805 - accuracy: 0.2088 - val_loss: 2.1745 - val_accuracy: 0.2031 - _timestamp: 1648477750.0000 - _runtime: 2627.0000\n",
            "Epoch 4/8\n",
            "70/70 [==============================] - 282s 4s/step - loss: 2.1645 - accuracy: 0.2202 - val_loss: 2.1466 - val_accuracy: 0.2154 - _timestamp: 1648478076.0000 - _runtime: 2953.0000\n",
            "Epoch 5/8\n",
            "70/70 [==============================] - 281s 4s/step - loss: 2.1444 - accuracy: 0.2279 - val_loss: 2.1353 - val_accuracy: 0.2321 - _timestamp: 1648478357.0000 - _runtime: 3234.0000\n",
            "Epoch 6/8\n",
            "70/70 [==============================] - 281s 4s/step - loss: 2.1220 - accuracy: 0.2351 - val_loss: 2.0788 - val_accuracy: 0.2623 - _timestamp: 1648478638.0000 - _runtime: 3515.0000\n",
            "Epoch 7/8\n",
            "70/70 [==============================] - 271s 4s/step - loss: 2.0981 - accuracy: 0.2533 - val_loss: 2.0635 - val_accuracy: 0.2812 - _timestamp: 1648478950.0000 - _runtime: 3827.0000\n",
            "Epoch 8/8\n",
            "70/70 [==============================] - 280s 4s/step - loss: 2.0871 - accuracy: 0.2585 - val_loss: 2.0514 - val_accuracy: 0.2712 - _timestamp: 1648479281.0000 - _runtime: 4158.0000\n",
            "16/16 [==============================] - 517s 34s/step - loss: 2.0364 - accuracy: 0.2812\n",
            "\n"
          ]
        },
        {
          "output_type": "display_data",
          "data": {
            "text/plain": [
              "<IPython.core.display.HTML object>"
            ],
            "text/html": [
              "Waiting for W&B process to finish... <strong style=\"color:green\">(success).</strong>"
            ]
          },
          "metadata": {}
        },
        {
          "output_type": "display_data",
          "data": {
            "text/plain": [
              "VBox(children=(Label(value='6.199 MB of 6.199 MB uploaded (0.000 MB deduped)\\r'), FloatProgress(value=1.0, max…"
            ],
            "application/vnd.jupyter.widget-view+json": {
              "version_major": 2,
              "version_minor": 0,
              "model_id": "6993f7eb435540b9b078f7ac7f4c51fb"
            }
          },
          "metadata": {}
        },
        {
          "output_type": "display_data",
          "data": {
            "text/plain": [
              "<IPython.core.display.HTML object>"
            ],
            "text/html": [
              "<style>\n",
              "    table.wandb td:nth-child(1) { padding: 0 10px; text-align: right }\n",
              "    .wandb-row { display: flex; flex-direction: row; flex-wrap: wrap; width: 100% }\n",
              "    .wandb-col { display: flex; flex-direction: column; flex-basis: 100%; flex: 1; padding: 10px; }\n",
              "    </style>\n",
              "<div class=\"wandb-row\"><div class=\"wandb-col\"><h3>Run history:</h3><br/><table class=\"wandb\"><tr><td>accuracy</td><td>▁▄▅▆▆▇██</td></tr><tr><td>epoch</td><td>▁▂▃▄▅▆▇█</td></tr><tr><td>loss</td><td>█▆▄▄▃▂▁▁</td></tr><tr><td>val_accuracy</td><td>▁▃▃▃▅▇█▇</td></tr><tr><td>val_loss</td><td>█▆▅▄▄▂▁▁</td></tr></table><br/></div><div class=\"wandb-col\"><h3>Run summary:</h3><br/><table class=\"wandb\"><tr><td>accuracy</td><td>0.25849</td></tr><tr><td>best_epoch</td><td>6</td></tr><tr><td>best_val_accuracy</td><td>0.28125</td></tr><tr><td>epoch</td><td>7</td></tr><tr><td>loss</td><td>2.08714</td></tr><tr><td>val_accuracy</td><td>0.27121</td></tr><tr><td>val_loss</td><td>2.05142</td></tr></table><br/></div></div>"
            ]
          },
          "metadata": {}
        },
        {
          "output_type": "display_data",
          "data": {
            "text/plain": [
              "<IPython.core.display.HTML object>"
            ],
            "text/html": [
              "Synced <strong style=\"color:#cdcd00\">CS6910-A2-P_A</strong>: <a href=\"https://wandb.ai/pranab045/cs6910-As-2/runs/q7a4mc2g\" target=\"_blank\">https://wandb.ai/pranab045/cs6910-As-2/runs/q7a4mc2g</a><br/>Synced 5 W&B file(s), 1 media file(s), 0 artifact file(s) and 1 other file(s)"
            ]
          },
          "metadata": {}
        },
        {
          "output_type": "display_data",
          "data": {
            "text/plain": [
              "<IPython.core.display.HTML object>"
            ],
            "text/html": [
              "Find logs at: <code>./wandb/run-20220328_134522-q7a4mc2g/logs</code>"
            ]
          },
          "metadata": {}
        },
        {
          "output_type": "stream",
          "name": "stderr",
          "text": [
            "\u001b[34m\u001b[1mwandb\u001b[0m: Agent Starting Run: 1to69osa with config:\n",
            "\u001b[34m\u001b[1mwandb\u001b[0m: \tbatch_norm: True\n",
            "\u001b[34m\u001b[1mwandb\u001b[0m: \tdense_neuron: 256\n",
            "\u001b[34m\u001b[1mwandb\u001b[0m: \tdropout: 0.15\n",
            "\u001b[34m\u001b[1mwandb\u001b[0m: \tepochs: 8\n",
            "\u001b[34m\u001b[1mwandb\u001b[0m: \tfilter_size: [[5, 5], [5, 5], [5, 5], [5, 5], [5, 5]]\n",
            "\u001b[34m\u001b[1mwandb\u001b[0m: \tfilters: [128, 64, 32, 16, 8]\n",
            "\u001b[34m\u001b[1mwandb\u001b[0m: \tlr: 1e-05\n"
          ]
        },
        {
          "output_type": "display_data",
          "data": {
            "text/plain": [
              "<IPython.core.display.HTML object>"
            ],
            "text/html": [
              "Tracking run with wandb version 0.12.11"
            ]
          },
          "metadata": {}
        },
        {
          "output_type": "display_data",
          "data": {
            "text/plain": [
              "<IPython.core.display.HTML object>"
            ],
            "text/html": [
              "Run data is saved locally in <code>/content/wandb/run-20220328_150448-1to69osa</code>"
            ]
          },
          "metadata": {}
        },
        {
          "output_type": "display_data",
          "data": {
            "text/plain": [
              "<IPython.core.display.HTML object>"
            ],
            "text/html": [
              "Syncing run <strong><a href=\"https://wandb.ai/pranab045/cs6910-As-2/runs/1to69osa\" target=\"_blank\">CS6910-A2-P_A</a></strong> to <a href=\"https://wandb.ai/pranab045/cs6910-As-2\" target=\"_blank\">Weights & Biases</a> (<a href=\"https://wandb.me/run\" target=\"_blank\">docs</a>)<br/>Sweep page:  <a href=\"https://wandb.ai/pranab045/cs6910-As-2/sweeps/3k0qgn8h\" target=\"_blank\">https://wandb.ai/pranab045/cs6910-As-2/sweeps/3k0qgn8h</a>"
            ]
          },
          "metadata": {}
        },
        {
          "output_type": "stream",
          "name": "stdout",
          "text": [
            "Epoch 1/8\n",
            "\n"
          ]
        },
        {
          "output_type": "display_data",
          "data": {
            "text/plain": [
              "<IPython.core.display.HTML object>"
            ],
            "text/html": [
              "Waiting for W&B process to finish... <strong style=\"color:red\">(failed 1).</strong> Press Control-C to abort syncing."
            ]
          },
          "metadata": {}
        },
        {
          "output_type": "display_data",
          "data": {
            "text/plain": [
              "VBox(children=(Label(value='0.001 MB of 0.001 MB uploaded (0.000 MB deduped)\\r'), FloatProgress(value=1.0, max…"
            ],
            "application/vnd.jupyter.widget-view+json": {
              "version_major": 2,
              "version_minor": 0,
              "model_id": "629eeb10d1714b57ab5ab6b7f08673f6"
            }
          },
          "metadata": {}
        },
        {
          "output_type": "display_data",
          "data": {
            "text/plain": [
              "<IPython.core.display.HTML object>"
            ],
            "text/html": [
              "Synced <strong style=\"color:#cdcd00\">CS6910-A2-P_A</strong>: <a href=\"https://wandb.ai/pranab045/cs6910-As-2/runs/1to69osa\" target=\"_blank\">https://wandb.ai/pranab045/cs6910-As-2/runs/1to69osa</a><br/>Synced 5 W&B file(s), 0 media file(s), 0 artifact file(s) and 0 other file(s)"
            ]
          },
          "metadata": {}
        },
        {
          "output_type": "display_data",
          "data": {
            "text/plain": [
              "<IPython.core.display.HTML object>"
            ],
            "text/html": [
              "Find logs at: <code>./wandb/run-20220328_150448-1to69osa/logs</code>"
            ]
          },
          "metadata": {}
        },
        {
          "output_type": "stream",
          "name": "stderr",
          "text": [
            "\u001b[34m\u001b[1mwandb\u001b[0m: \u001b[32m\u001b[41mERROR\u001b[0m Run 1to69osa errored: ResourceExhaustedError()\n",
            "\u001b[34m\u001b[1mwandb\u001b[0m: Agent Starting Run: 66ovybgo with config:\n",
            "\u001b[34m\u001b[1mwandb\u001b[0m: \tbatch_norm: False\n",
            "\u001b[34m\u001b[1mwandb\u001b[0m: \tdense_neuron: 64\n",
            "\u001b[34m\u001b[1mwandb\u001b[0m: \tdropout: 0.2\n",
            "\u001b[34m\u001b[1mwandb\u001b[0m: \tepochs: 8\n",
            "\u001b[34m\u001b[1mwandb\u001b[0m: \tfilter_size: [[7, 7], [7, 7], [7, 7], [7, 7], [7, 7]]\n",
            "\u001b[34m\u001b[1mwandb\u001b[0m: \tfilters: [16, 32, 64, 128, 256]\n",
            "\u001b[34m\u001b[1mwandb\u001b[0m: \tlr: 1e-05\n"
          ]
        },
        {
          "output_type": "display_data",
          "data": {
            "text/plain": [
              "<IPython.core.display.HTML object>"
            ],
            "text/html": [
              "Tracking run with wandb version 0.12.11"
            ]
          },
          "metadata": {}
        },
        {
          "output_type": "display_data",
          "data": {
            "text/plain": [
              "<IPython.core.display.HTML object>"
            ],
            "text/html": [
              "Run data is saved locally in <code>/content/wandb/run-20220328_150539-66ovybgo</code>"
            ]
          },
          "metadata": {}
        },
        {
          "output_type": "display_data",
          "data": {
            "text/plain": [
              "<IPython.core.display.HTML object>"
            ],
            "text/html": [
              "Syncing run <strong><a href=\"https://wandb.ai/pranab045/cs6910-As-2/runs/66ovybgo\" target=\"_blank\">CS6910-A2-P_A</a></strong> to <a href=\"https://wandb.ai/pranab045/cs6910-As-2\" target=\"_blank\">Weights & Biases</a> (<a href=\"https://wandb.me/run\" target=\"_blank\">docs</a>)<br/>Sweep page:  <a href=\"https://wandb.ai/pranab045/cs6910-As-2/sweeps/3k0qgn8h\" target=\"_blank\">https://wandb.ai/pranab045/cs6910-As-2/sweeps/3k0qgn8h</a>"
            ]
          },
          "metadata": {}
        },
        {
          "output_type": "stream",
          "name": "stdout",
          "text": [
            "Epoch 1/8\n",
            "70/70 [==============================] - 279s 4s/step - loss: 2.2983 - accuracy: 0.1192 - val_loss: 2.2901 - val_accuracy: 0.1239 - _timestamp: 1648480225.0000 - _runtime: 286.0000\n",
            "Epoch 2/8\n",
            "70/70 [==============================] - 274s 4s/step - loss: 2.2757 - accuracy: 0.1632 - val_loss: 2.2485 - val_accuracy: 0.2054 - _timestamp: 1648480543.0000 - _runtime: 604.0000\n",
            "Epoch 3/8\n",
            "70/70 [==============================] - 284s 4s/step - loss: 2.2308 - accuracy: 0.1811 - val_loss: 2.1929 - val_accuracy: 0.1875 - _timestamp: 1648480827.0000 - _runtime: 888.0000\n",
            "Epoch 4/8\n",
            "70/70 [==============================] - 267s 4s/step - loss: 2.1812 - accuracy: 0.2038 - val_loss: 2.1370 - val_accuracy: 0.2188 - _timestamp: 1648481132.0000 - _runtime: 1193.0000\n",
            "Epoch 5/8\n",
            "70/70 [==============================] - 267s 4s/step - loss: 2.1464 - accuracy: 0.2211 - val_loss: 2.1075 - val_accuracy: 0.2533 - _timestamp: 1648481399.0000 - _runtime: 1460.0000\n",
            "Epoch 6/8\n",
            "70/70 [==============================] - 265s 4s/step - loss: 2.1326 - accuracy: 0.2281 - val_loss: 2.0942 - val_accuracy: 0.2299 - _timestamp: 1648481719.0000 - _runtime: 1780.0000\n",
            "Epoch 7/8\n",
            "70/70 [==============================] - 274s 4s/step - loss: 2.1083 - accuracy: 0.2431 - val_loss: 2.0970 - val_accuracy: 0.2444 - _timestamp: 1648481994.0000 - _runtime: 2055.0000\n",
            "Epoch 8/8\n",
            "70/70 [==============================] - 260s 4s/step - loss: 2.0970 - accuracy: 0.2472 - val_loss: 2.0554 - val_accuracy: 0.2522 - _timestamp: 1648482253.0000 - _runtime: 2314.0000\n",
            "16/16 [==============================] - 34s 2s/step - loss: 2.0590 - accuracy: 0.2728\n",
            "\n"
          ]
        },
        {
          "output_type": "display_data",
          "data": {
            "text/plain": [
              "<IPython.core.display.HTML object>"
            ],
            "text/html": [
              "Waiting for W&B process to finish... <strong style=\"color:green\">(success).</strong>"
            ]
          },
          "metadata": {}
        },
        {
          "output_type": "display_data",
          "data": {
            "text/plain": [
              "VBox(children=(Label(value='33.714 MB of 33.714 MB uploaded (0.000 MB deduped)\\r'), FloatProgress(value=1.0, m…"
            ],
            "application/vnd.jupyter.widget-view+json": {
              "version_major": 2,
              "version_minor": 0,
              "model_id": "dfe2b9a0c1e54b14bce6052ccef6bd40"
            }
          },
          "metadata": {}
        },
        {
          "output_type": "display_data",
          "data": {
            "text/plain": [
              "<IPython.core.display.HTML object>"
            ],
            "text/html": [
              "<style>\n",
              "    table.wandb td:nth-child(1) { padding: 0 10px; text-align: right }\n",
              "    .wandb-row { display: flex; flex-direction: row; flex-wrap: wrap; width: 100% }\n",
              "    .wandb-col { display: flex; flex-direction: column; flex-basis: 100%; flex: 1; padding: 10px; }\n",
              "    </style>\n",
              "<div class=\"wandb-row\"><div class=\"wandb-col\"><h3>Run history:</h3><br/><table class=\"wandb\"><tr><td>accuracy</td><td>▁▃▄▆▇▇██</td></tr><tr><td>epoch</td><td>▁▂▃▄▅▆▇█</td></tr><tr><td>loss</td><td>█▇▆▄▃▂▁▁</td></tr><tr><td>val_accuracy</td><td>▁▅▄▆█▇██</td></tr><tr><td>val_loss</td><td>█▇▅▃▃▂▂▁</td></tr></table><br/></div><div class=\"wandb-col\"><h3>Run summary:</h3><br/><table class=\"wandb\"><tr><td>accuracy</td><td>0.24724</td></tr><tr><td>best_epoch</td><td>4</td></tr><tr><td>best_val_accuracy</td><td>0.25335</td></tr><tr><td>epoch</td><td>7</td></tr><tr><td>loss</td><td>2.09697</td></tr><tr><td>val_accuracy</td><td>0.25223</td></tr><tr><td>val_loss</td><td>2.05536</td></tr></table><br/></div></div>"
            ]
          },
          "metadata": {}
        },
        {
          "output_type": "display_data",
          "data": {
            "text/plain": [
              "<IPython.core.display.HTML object>"
            ],
            "text/html": [
              "Synced <strong style=\"color:#cdcd00\">CS6910-A2-P_A</strong>: <a href=\"https://wandb.ai/pranab045/cs6910-As-2/runs/66ovybgo\" target=\"_blank\">https://wandb.ai/pranab045/cs6910-As-2/runs/66ovybgo</a><br/>Synced 5 W&B file(s), 1 media file(s), 0 artifact file(s) and 1 other file(s)"
            ]
          },
          "metadata": {}
        },
        {
          "output_type": "display_data",
          "data": {
            "text/plain": [
              "<IPython.core.display.HTML object>"
            ],
            "text/html": [
              "Find logs at: <code>./wandb/run-20220328_150539-66ovybgo/logs</code>"
            ]
          },
          "metadata": {}
        },
        {
          "output_type": "stream",
          "name": "stderr",
          "text": [
            "\u001b[34m\u001b[1mwandb\u001b[0m: Agent Starting Run: tl52h5t7 with config:\n",
            "\u001b[34m\u001b[1mwandb\u001b[0m: \tbatch_norm: True\n",
            "\u001b[34m\u001b[1mwandb\u001b[0m: \tdense_neuron: 32\n",
            "\u001b[34m\u001b[1mwandb\u001b[0m: \tdropout: 0.15\n",
            "\u001b[34m\u001b[1mwandb\u001b[0m: \tepochs: 8\n",
            "\u001b[34m\u001b[1mwandb\u001b[0m: \tfilter_size: [[5, 5], [5, 5], [5, 5], [5, 5], [5, 5]]\n",
            "\u001b[34m\u001b[1mwandb\u001b[0m: \tfilters: [128, 64, 32, 16, 8]\n",
            "\u001b[34m\u001b[1mwandb\u001b[0m: \tlr: 1e-05\n"
          ]
        },
        {
          "output_type": "display_data",
          "data": {
            "text/plain": [
              "<IPython.core.display.HTML object>"
            ],
            "text/html": [
              "Tracking run with wandb version 0.12.11"
            ]
          },
          "metadata": {}
        },
        {
          "output_type": "display_data",
          "data": {
            "text/plain": [
              "<IPython.core.display.HTML object>"
            ],
            "text/html": [
              "Run data is saved locally in <code>/content/wandb/run-20220328_154506-tl52h5t7</code>"
            ]
          },
          "metadata": {}
        },
        {
          "output_type": "display_data",
          "data": {
            "text/plain": [
              "<IPython.core.display.HTML object>"
            ],
            "text/html": [
              "Syncing run <strong><a href=\"https://wandb.ai/pranab045/cs6910-As-2/runs/tl52h5t7\" target=\"_blank\">CS6910-A2-P_A</a></strong> to <a href=\"https://wandb.ai/pranab045/cs6910-As-2\" target=\"_blank\">Weights & Biases</a> (<a href=\"https://wandb.me/run\" target=\"_blank\">docs</a>)<br/>Sweep page:  <a href=\"https://wandb.ai/pranab045/cs6910-As-2/sweeps/3k0qgn8h\" target=\"_blank\">https://wandb.ai/pranab045/cs6910-As-2/sweeps/3k0qgn8h</a>"
            ]
          },
          "metadata": {}
        },
        {
          "output_type": "stream",
          "name": "stdout",
          "text": [
            "Epoch 1/8\n",
            "\n"
          ]
        },
        {
          "output_type": "display_data",
          "data": {
            "text/plain": [
              "<IPython.core.display.HTML object>"
            ],
            "text/html": [
              "Waiting for W&B process to finish... <strong style=\"color:red\">(failed 1).</strong> Press Control-C to abort syncing."
            ]
          },
          "metadata": {}
        },
        {
          "output_type": "display_data",
          "data": {
            "text/plain": [
              "VBox(children=(Label(value='0.001 MB of 0.001 MB uploaded (0.000 MB deduped)\\r'), FloatProgress(value=1.0, max…"
            ],
            "application/vnd.jupyter.widget-view+json": {
              "version_major": 2,
              "version_minor": 0,
              "model_id": "53d480f1621a497fba965d1a8f2968d9"
            }
          },
          "metadata": {}
        },
        {
          "output_type": "display_data",
          "data": {
            "text/plain": [
              "<IPython.core.display.HTML object>"
            ],
            "text/html": [
              "Synced <strong style=\"color:#cdcd00\">CS6910-A2-P_A</strong>: <a href=\"https://wandb.ai/pranab045/cs6910-As-2/runs/tl52h5t7\" target=\"_blank\">https://wandb.ai/pranab045/cs6910-As-2/runs/tl52h5t7</a><br/>Synced 5 W&B file(s), 0 media file(s), 0 artifact file(s) and 0 other file(s)"
            ]
          },
          "metadata": {}
        },
        {
          "output_type": "display_data",
          "data": {
            "text/plain": [
              "<IPython.core.display.HTML object>"
            ],
            "text/html": [
              "Find logs at: <code>./wandb/run-20220328_154506-tl52h5t7/logs</code>"
            ]
          },
          "metadata": {}
        },
        {
          "output_type": "stream",
          "name": "stderr",
          "text": [
            "\u001b[34m\u001b[1mwandb\u001b[0m: \u001b[32m\u001b[41mERROR\u001b[0m Run tl52h5t7 errored: ResourceExhaustedError()\n",
            "\u001b[34m\u001b[1mwandb\u001b[0m: Agent Starting Run: qyy0353p with config:\n",
            "\u001b[34m\u001b[1mwandb\u001b[0m: \tbatch_norm: True\n",
            "\u001b[34m\u001b[1mwandb\u001b[0m: \tdense_neuron: 256\n",
            "\u001b[34m\u001b[1mwandb\u001b[0m: \tdropout: 0.15\n",
            "\u001b[34m\u001b[1mwandb\u001b[0m: \tepochs: 8\n",
            "\u001b[34m\u001b[1mwandb\u001b[0m: \tfilter_size: [[2, 2], [2, 2], [2, 2], [2, 2], [2, 2]]\n",
            "\u001b[34m\u001b[1mwandb\u001b[0m: \tfilters: [48, 48, 48, 48, 48]\n",
            "\u001b[34m\u001b[1mwandb\u001b[0m: \tlr: 0.0001\n"
          ]
        },
        {
          "output_type": "display_data",
          "data": {
            "text/plain": [
              "<IPython.core.display.HTML object>"
            ],
            "text/html": [
              "Tracking run with wandb version 0.12.11"
            ]
          },
          "metadata": {}
        },
        {
          "output_type": "display_data",
          "data": {
            "text/plain": [
              "<IPython.core.display.HTML object>"
            ],
            "text/html": [
              "Run data is saved locally in <code>/content/wandb/run-20220328_154537-qyy0353p</code>"
            ]
          },
          "metadata": {}
        },
        {
          "output_type": "display_data",
          "data": {
            "text/plain": [
              "<IPython.core.display.HTML object>"
            ],
            "text/html": [
              "Syncing run <strong><a href=\"https://wandb.ai/pranab045/cs6910-As-2/runs/qyy0353p\" target=\"_blank\">CS6910-A2-P_A</a></strong> to <a href=\"https://wandb.ai/pranab045/cs6910-As-2\" target=\"_blank\">Weights & Biases</a> (<a href=\"https://wandb.me/run\" target=\"_blank\">docs</a>)<br/>Sweep page:  <a href=\"https://wandb.ai/pranab045/cs6910-As-2/sweeps/3k0qgn8h\" target=\"_blank\">https://wandb.ai/pranab045/cs6910-As-2/sweeps/3k0qgn8h</a>"
            ]
          },
          "metadata": {}
        },
        {
          "output_type": "stream",
          "name": "stdout",
          "text": [
            "Epoch 1/8\n",
            "70/70 [==============================] - 266s 4s/step - loss: 2.2948 - accuracy: 0.1877 - val_loss: 2.3471 - val_accuracy: 0.0938 - _timestamp: 1648482611.0000 - _runtime: 274.0000\n",
            "Epoch 2/8\n",
            "70/70 [==============================] - 259s 4s/step - loss: 2.0808 - accuracy: 0.2573 - val_loss: 2.4426 - val_accuracy: 0.1049 - _timestamp: 1648482928.0000 - _runtime: 591.0000\n",
            "Epoch 3/8\n",
            " 4/70 [>.............................] - ETA: 3:00 - loss: 2.0297 - accuracy: 0.2715"
          ]
        },
        {
          "output_type": "stream",
          "name": "stderr",
          "text": [
            "\u001b[34m\u001b[1mwandb\u001b[0m: Ctrl + C detected. Stopping sweep.\n"
          ]
        }
      ]
    }
  ]
}