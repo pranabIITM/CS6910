{
  "nbformat": 4,
  "nbformat_minor": 0,
  "metadata": {
    "colab": {
      "name": "PartA_Q5.ipynb",
      "provenance": [],
      "collapsed_sections": [],
      "authorship_tag": "ABX9TyMY2pKHhiyj48kp8lUDD5EE"
    },
    "kernelspec": {
      "name": "python3",
      "display_name": "Python 3"
    },
    "language_info": {
      "name": "python"
    }
  },
  "cells": [
    {
      "cell_type": "code",
      "execution_count": null,
      "metadata": {
        "id": "sSUzmIrmNH3J"
      },
      "outputs": [],
      "source": [
        "import os\n",
        "import math\n",
        "import numpy as np\n",
        "import matplotlib.pyplot as plt\n",
        "import keras\n",
        "import tensorflow as tf\n",
        "from tensorflow.keras.preprocessing import image\n",
        "from tensorflow.keras.models import Model\n",
        "import matplotlib.gridspec as gridspec\n",
        "from PIL import Image"
      ]
    },
    {
      "cell_type": "code",
      "source": [
        "classes=[]\n",
        "for fold_name in np.sort(os.listdir('/content/drive/MyDrive/DL_DATA_iNat/val')):\n",
        "  classes.append(fold_name)\n",
        "print(classes)"
      ],
      "metadata": {
        "id": "JoRbu48hNmE0"
      },
      "execution_count": null,
      "outputs": []
    },
    {
      "cell_type": "code",
      "source": [
        "print(os.listdir('/content/drive/MyDrive/DL_DATA_iNat/val/Aves'))"
      ],
      "metadata": {
        "id": "nHpg1PC6dhFK"
      },
      "execution_count": null,
      "outputs": []
    },
    {
      "cell_type": "code",
      "source": [
        "@tf.custom_gradient\n",
        "def guidedRelu(x):\n",
        "  def grad(dy):\n",
        "    return tf.cast(dy>0,\"float32\") * tf.cast(x>0, \"float32\") * dy\n",
        "  return tf.nn.relu(x), grad"
      ],
      "metadata": {
        "id": "gH3_f0sxYrpk"
      },
      "execution_count": null,
      "outputs": []
    },
    {
      "cell_type": "code",
      "source": [
        "import keras.backend as kb\n",
        "\n",
        "def deprocess_image(img):\n",
        "    img = img.copy()\n",
        "    img = img - img.mean()\n",
        "    img /= (img.std() + K.epsilon())\n",
        "    img = img * 0.25\n",
        "\n",
        "    img += 0.5\n",
        "    img = np.clip(img, 0, 1)\n",
        "\n",
        "    img *= 255\n",
        "    if kb.image_data_format() == 'channels_first':\n",
        "        img = img.transpose((1, 2, 0))\n",
        "    img = np.clip(img, 0, 255).astype('uint8')\n",
        "\n",
        "    return img\n"
      ],
      "metadata": {
        "id": "U7xywMzNY1za"
      },
      "execution_count": null,
      "outputs": []
    },
    {
      "cell_type": "code",
      "source": [
        "model = tf.keras.models.load_model('/content/drive/MyDrive/DL_DATA_iNat/model-best.h5/')\n",
        "gd_bp_model = Model(inputs = [model.inputs], outputs = [model.get_layer(\"conv2d_4\").output])\n",
        "\n",
        "for layer in model.layers:\n",
        "  if hasattr(layer, 'activation') and layer.activation==tf.keras.activations.relu:\n",
        "    layer.activation = guidedRelu"
      ],
      "metadata": {
        "id": "y31Dc_ljgKT0"
      },
      "execution_count": null,
      "outputs": []
    },
    {
      "cell_type": "code",
      "source": [
        "import random\n",
        "\n",
        "path = '/content/drive/MyDrive/DL_DATA_iNat/val/'\n",
        "\n",
        "Class_num = random.randint(0,9)\n",
        "files = os.listdir(path+classes[Class_num])\n",
        "\n",
        "file_num = random.randint(0,len(files)-1)\n",
        "print(\"Class num = \" + str(Class_num) + \" \"+classes[Class_num])\n",
        "plt.imshow(Image.open(path+classes[Class_num]+'/'+files[file_num]))\n",
        "plt.title(classes[Class_num])"
      ],
      "metadata": {
        "id": "YkqeCAH2edCZ"
      },
      "execution_count": null,
      "outputs": []
    },
    {
      "cell_type": "code",
      "source": [
        "fin_layer = model.get_layer(\"conv2d_4\").output.shape[1:]\n",
        "\n",
        "test_img = Image.open(path+classes[Class_num]+'/'+files[file_num])\n",
        "test_img = test_img.resize((227,227))\n",
        "t_img_arr = np.asarray(test_img)*1./255\n",
        "\n",
        "guid_backprops = []\n",
        "numOfNeurons = 10\n",
        "for i in range(numOfNeurons):\n",
        "  neuron = [np.random.randint(0,d-1) for d in fin_layer]\n",
        "  mask = np.zeros(fin_layer)\n",
        "  mask[neuron[0],neuron[1],neuron[2]] = 1\n",
        "  with tf.GradientTape() as tape:\n",
        "    inps = tf.cast([t_img_arr], tf.float32)\n",
        "    tape.watch(inps)\n",
        "    ops = gd_bp_model(inps) * mask\n",
        "\n",
        "  guid_backprops.append((neuron,tape.gradient(ops,inps)[0]))"
      ],
      "metadata": {
        "id": "xfaGSOrIgsZS"
      },
      "execution_count": null,
      "outputs": []
    },
    {
      "cell_type": "code",
      "source": [
        "fig,ax = plt.subplots(numOfNeurons,1,figsize=(20,40))\n",
        "\n",
        "for i,(neuron,image) in enumerate(guid_backprops):\n",
        "    ax[i].imshow(deprocess_image(np.array(image)))\n",
        "    ax[i].tick_params(axis='both',which='both',labelbottom=False,labelleft=False,labeltop=False)\n",
        "    ax[i].axis(\"off\")\n",
        "    ax[i].set_title(\"Neuron: {}\".format(neuron))\n",
        "    \n",
        "plt.tight_layout()\n",
        "plt.savefig('PA-Q5-2.png',bbox_inches='tight')"
      ],
      "metadata": {
        "id": "PuGq_qDXjURV"
      },
      "execution_count": null,
      "outputs": []
    },
    {
      "cell_type": "code",
      "source": [
        ""
      ],
      "metadata": {
        "id": "kaBZ1nt6j6wC"
      },
      "execution_count": null,
      "outputs": []
    }
  ]
}