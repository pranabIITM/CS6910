{
  "nbformat": 4,
  "nbformat_minor": 0,
  "metadata": {
    "colab": {
      "name": "PartA-train-best-hyperparameter.ipynb",
      "provenance": [],
      "collapsed_sections": []
    },
    "kernelspec": {
      "name": "python3",
      "display_name": "Python 3"
    },
    "language_info": {
      "name": "python"
    },
    "accelerator": "GPU"
  },
  "cells": [
    {
      "cell_type": "markdown",
      "source": [
        "Importing libraries"
      ],
      "metadata": {
        "id": "A8-ZlBB_M-g2"
      }
    },
    {
      "cell_type": "code",
      "execution_count": null,
      "metadata": {
        "id": "9A0Uq78XWvlJ"
      },
      "outputs": [],
      "source": [
        "import numpy as np\n",
        "import matplotlib.pyplot as plt\n",
        "import tensorflow as tf\n",
        "import keras\n",
        "from keras.models import Sequential, Model\n",
        "from keras.layers import Conv2D,Dense,Activation,MaxPooling2D,Flatten,BatchNormalization,Dropout,InputLayer\n",
        "from tensorflow.keras.preprocessing.image import ImageDataGenerator"
      ]
    },
    {
      "cell_type": "code",
      "source": [
        "from google.colab import drive\n",
        "drive.mount('/content/drive')"
      ],
      "metadata": {
        "colab": {
          "base_uri": "https://localhost:8080/"
        },
        "id": "vCvvbzG8Xy34",
        "outputId": "d6bc5a93-662b-4a5c-cd83-c5b3662bd111"
      },
      "execution_count": null,
      "outputs": [
        {
          "output_type": "stream",
          "name": "stdout",
          "text": [
            "Mounted at /content/drive\n"
          ]
        }
      ]
    },
    {
      "cell_type": "code",
      "source": [
        "physical_devices = tf.config.list_physical_devices('GPU')\n",
        "tf.config.experimental.set_memory_growth(physical_devices[0], enable=True)"
      ],
      "metadata": {
        "id": "v028YTE-Y6E4"
      },
      "execution_count": null,
      "outputs": []
    },
    {
      "cell_type": "markdown",
      "source": [
        "Function for creating CNN Model using parameters given"
      ],
      "metadata": {
        "id": "SaIoRpgMyCqV"
      }
    },
    {
      "cell_type": "code",
      "source": [
        "def create_cnn_model(filters, fil_size, dense_neuron, batch_norm, dropout, act, padd, lr):\n",
        "    keras.backend.clear_session()\n",
        "    model = Sequential()\n",
        "    model.add(InputLayer(input_shape=(227,227,3))) #Adding Input layer with image size as(227,227) with RGB channel\n",
        "\n",
        "    #Adding 5 convolution Layers in a loop\n",
        "    for i in range(5):\n",
        "        model.add(Conv2D(filters[i],fil_size[i],padding=padd))\n",
        "        if batch_norm:\n",
        "            model.add(BatchNormalization())   \n",
        "        model.add(Activation(act))\n",
        "        model.add(MaxPooling2D(pool_size=(2,2)))\n",
        "    \n",
        "    #Adding the Dense layers as per the parameters passed\n",
        "    model.add(Flatten())\n",
        "    model.add(Dense(dense_neuron))\n",
        "    model.add(Dropout(dropout))\n",
        "    model.add(Activation(\"relu\"))\n",
        "\n",
        "    model.add(Dense(10,activation='softmax'))\n",
        "    adam = tf.keras.optimizers.Adam(learning_rate=lr)\n",
        "    model.compile(optimizer=adam,loss='categorical_crossentropy',metrics=['accuracy'])\n",
        "\n",
        "    return model"
      ],
      "metadata": {
        "id": "kZiOMhV6DsCK"
      },
      "execution_count": null,
      "outputs": []
    },
    {
      "cell_type": "markdown",
      "source": [
        "Definition Function for preparing DATA:-"
      ],
      "metadata": {
        "id": "kkhE3ZW5xzxQ"
      }
    },
    {
      "cell_type": "code",
      "source": [
        "def dataProcess(BATCH_SIZE, data_aug=True):\n",
        "    if(data_aug):\n",
        "        train_datagen = ImageDataGenerator(\n",
        "            rescale=1./255,\n",
        "            rotation_range=90,\n",
        "            shear_range=0.2,\n",
        "            zoom_range=0.2,\n",
        "            validation_split=0.1,\n",
        "            horizontal_flip=True)\n",
        "    else:\n",
        "        train_datagen = ImageDataGenerator( rescale=1./255, validation_split=0.1)\n",
        "\n",
        "    test_datagen = ImageDataGenerator(rescale=1./255)\n",
        "\n",
        "    train_generator = train_datagen.flow_from_directory(\n",
        "        '/content/drive/MyDrive/DL_DATA_iNat/train',\n",
        "        subset='training',\n",
        "        target_size=(227,227),\n",
        "        batch_size=BATCH_SIZE,\n",
        "        class_mode='categorical',\n",
        "        shuffle = True,\n",
        "        seed = 45)\n",
        "\n",
        "    val_generator = train_datagen.flow_from_directory(\n",
        "        '/content/drive/MyDrive/DL_DATA_iNat/train',\n",
        "        subset = 'validation',\n",
        "        target_size=(227,227),\n",
        "        batch_size=BATCH_SIZE,\n",
        "        class_mode='categorical',\n",
        "        shuffle = True,\n",
        "        seed = 45)\n",
        "\n",
        "    test_generator = test_datagen.flow_from_directory(\n",
        "        '/content/drive/MyDrive/DL_DATA_iNat/val',\n",
        "        target_size=(227,227),\n",
        "        batch_size=BATCH_SIZE,\n",
        "        class_mode='categorical')\n",
        "    \n",
        "    return train_generator, val_generator, test_generator\n",
        "    "
      ],
      "metadata": {
        "id": "-G6LTs5IiRNV"
      },
      "execution_count": null,
      "outputs": []
    },
    {
      "cell_type": "code",
      "source": [
        "#--------Fetching dataset---------------------------------\n",
        "BATCH_SIZE = 32\n",
        "train_gen, val_gen, test_gen = dataProcess(BATCH_SIZE, True)"
      ],
      "metadata": {
        "id": "XHfhWONGxA07",
        "colab": {
          "base_uri": "https://localhost:8080/"
        },
        "outputId": "323ad60e-23f0-4888-8255-bd7488003c13"
      },
      "execution_count": null,
      "outputs": [
        {
          "output_type": "stream",
          "name": "stdout",
          "text": [
            "Found 9000 images belonging to 10 classes.\n",
            "Found 999 images belonging to 10 classes.\n",
            "Found 2000 images belonging to 10 classes.\n"
          ]
        }
      ]
    },
    {
      "cell_type": "markdown",
      "source": [
        "# **Train & Save Best Model configuration**"
      ],
      "metadata": {
        "id": "ZsC7bYwta3Ad"
      }
    },
    {
      "cell_type": "code",
      "source": [
        "fil=[32,64,128,256,256]\n",
        "fils=[(3,3),(3,3),(3,3),(3,3),(3,3)]\n",
        "d=0.20\n",
        "batch_norm=True\n",
        "epochs=20\n",
        "d_n=1024\n",
        "ler=0.0001\n",
        "\n",
        "best = create_cnn_model(fil,fils,d_n,batch_norm,d,'relu',\"same\",ler)"
      ],
      "metadata": {
        "id": "RRoFNNMUYY07"
      },
      "execution_count": null,
      "outputs": []
    },
    {
      "cell_type": "code",
      "source": [
        "best.fit( train_gen, \n",
        "         steps_per_epoch = train_gen.samples // BATCH_SIZE, \n",
        "         validation_data = val_gen, \n",
        "         validation_steps = val_gen.samples // BATCH_SIZE, \n",
        "         epochs = epochs)"
      ],
      "metadata": {
        "colab": {
          "base_uri": "https://localhost:8080/"
        },
        "id": "OHeJavUVYY-q",
        "outputId": "6c748822-313c-488b-aa19-6783aa2aaee1"
      },
      "execution_count": null,
      "outputs": [
        {
          "output_type": "stream",
          "name": "stdout",
          "text": [
            "Epoch 1/20\n",
            "281/281 [==============================] - 294s 1s/step - loss: 2.2735 - accuracy: 0.2316 - val_loss: 2.4233 - val_accuracy: 0.1109\n",
            "Epoch 2/20\n",
            "281/281 [==============================] - 279s 991ms/step - loss: 2.0091 - accuracy: 0.2890 - val_loss: 2.0233 - val_accuracy: 0.2812\n",
            "Epoch 3/20\n",
            "281/281 [==============================] - 272s 967ms/step - loss: 1.9540 - accuracy: 0.3063 - val_loss: 1.9614 - val_accuracy: 0.3014\n",
            "Epoch 4/20\n",
            "281/281 [==============================] - 269s 957ms/step - loss: 1.9191 - accuracy: 0.3217 - val_loss: 1.9124 - val_accuracy: 0.3246\n",
            "Epoch 5/20\n",
            "281/281 [==============================] - 269s 958ms/step - loss: 1.8874 - accuracy: 0.3305 - val_loss: 1.9090 - val_accuracy: 0.3357\n",
            "Epoch 6/20\n",
            "281/281 [==============================] - 264s 938ms/step - loss: 1.8569 - accuracy: 0.3419 - val_loss: 1.8922 - val_accuracy: 0.3317\n",
            "Epoch 7/20\n",
            "281/281 [==============================] - 262s 933ms/step - loss: 1.8287 - accuracy: 0.3512 - val_loss: 1.8466 - val_accuracy: 0.3569\n",
            "Epoch 8/20\n",
            "281/281 [==============================] - 264s 938ms/step - loss: 1.8021 - accuracy: 0.3630 - val_loss: 1.8195 - val_accuracy: 0.3780\n",
            "Epoch 9/20\n",
            "281/281 [==============================] - 266s 947ms/step - loss: 1.7761 - accuracy: 0.3674 - val_loss: 1.8077 - val_accuracy: 0.3579\n",
            "Epoch 10/20\n",
            "281/281 [==============================] - 268s 953ms/step - loss: 1.7626 - accuracy: 0.3742 - val_loss: 1.7923 - val_accuracy: 0.3730\n",
            "Epoch 11/20\n",
            "281/281 [==============================] - 270s 960ms/step - loss: 1.7482 - accuracy: 0.3844 - val_loss: 1.8080 - val_accuracy: 0.3528\n",
            "Epoch 12/20\n",
            "281/281 [==============================] - 274s 975ms/step - loss: 1.7138 - accuracy: 0.3955 - val_loss: 1.8000 - val_accuracy: 0.3800\n",
            "Epoch 13/20\n",
            "281/281 [==============================] - 276s 984ms/step - loss: 1.7115 - accuracy: 0.3914 - val_loss: 1.7961 - val_accuracy: 0.3821\n",
            "Epoch 14/20\n",
            "281/281 [==============================] - 275s 978ms/step - loss: 1.6814 - accuracy: 0.4022 - val_loss: 1.7578 - val_accuracy: 0.3911\n",
            "Epoch 15/20\n",
            "281/281 [==============================] - 269s 956ms/step - loss: 1.6679 - accuracy: 0.4112 - val_loss: 1.7476 - val_accuracy: 0.4133\n",
            "Epoch 16/20\n",
            "281/281 [==============================] - 271s 963ms/step - loss: 1.6484 - accuracy: 0.4117 - val_loss: 1.8042 - val_accuracy: 0.3972\n",
            "Epoch 17/20\n",
            "281/281 [==============================] - 281s 999ms/step - loss: 1.6383 - accuracy: 0.4186 - val_loss: 1.7619 - val_accuracy: 0.4123\n",
            "Epoch 18/20\n",
            "281/281 [==============================] - 277s 987ms/step - loss: 1.6170 - accuracy: 0.4376 - val_loss: 1.7960 - val_accuracy: 0.3841\n",
            "Epoch 19/20\n",
            "281/281 [==============================] - 278s 988ms/step - loss: 1.6038 - accuracy: 0.4355 - val_loss: 1.7427 - val_accuracy: 0.3810\n",
            "Epoch 20/20\n",
            "281/281 [==============================] - 276s 982ms/step - loss: 1.5920 - accuracy: 0.4390 - val_loss: 1.7028 - val_accuracy: 0.4153\n"
          ]
        },
        {
          "output_type": "execute_result",
          "data": {
            "text/plain": [
              "<keras.callbacks.History at 0x7fab3129e550>"
            ]
          },
          "metadata": {},
          "execution_count": 19
        }
      ]
    },
    {
      "cell_type": "code",
      "source": [
        "best.save('model-best-41.h5')"
      ],
      "metadata": {
        "id": "oh8mWmkrsgZz"
      },
      "execution_count": null,
      "outputs": []
    },
    {
      "cell_type": "code",
      "source": [
        "best.evaluate(test_gen,steps= test_gen.n/test_gen.batch_size)"
      ],
      "metadata": {
        "colab": {
          "base_uri": "https://localhost:8080/"
        },
        "id": "sSU4I8aHEWNK",
        "outputId": "d06a435b-9c94-4050-fb88-138476e24742"
      },
      "execution_count": null,
      "outputs": [
        {
          "output_type": "stream",
          "name": "stdout",
          "text": [
            "62/62 [==============================] - 458s 7s/step - loss: 1.7713 - accuracy: 0.4085\n"
          ]
        },
        {
          "output_type": "execute_result",
          "data": {
            "text/plain": [
              "[1.7713334560394287, 0.40849998593330383]"
            ]
          },
          "metadata": {},
          "execution_count": 22
        }
      ]
    }
  ]
}