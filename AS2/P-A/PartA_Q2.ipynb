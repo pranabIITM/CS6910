{
  "nbformat": 4,
  "nbformat_minor": 0,
  "metadata": {
    "colab": {
      "name": "PartA.ipynb",
      "provenance": [],
      "collapsed_sections": []
    },
    "kernelspec": {
      "name": "python3",
      "display_name": "Python 3"
    },
    "language_info": {
      "name": "python"
    },
    "accelerator": "GPU",
    "widgets": {
      "application/vnd.jupyter.widget-state+json": {
        "5c7eefc6901243d2aa18b9a947974c68": {
          "model_module": "@jupyter-widgets/controls",
          "model_name": "VBoxModel",
          "model_module_version": "1.5.0",
          "state": {
            "_dom_classes": [],
            "_model_module": "@jupyter-widgets/controls",
            "_model_module_version": "1.5.0",
            "_model_name": "VBoxModel",
            "_view_count": null,
            "_view_module": "@jupyter-widgets/controls",
            "_view_module_version": "1.5.0",
            "_view_name": "VBoxView",
            "box_style": "",
            "children": [
              "IPY_MODEL_02c6ac77431d467cbe71fccc2e781407",
              "IPY_MODEL_2c16cca823ea46dba8cd8b36d8a68014"
            ],
            "layout": "IPY_MODEL_09d09cb47b9a4a0e9e38a02f7c554280"
          }
        },
        "02c6ac77431d467cbe71fccc2e781407": {
          "model_module": "@jupyter-widgets/controls",
          "model_name": "LabelModel",
          "model_module_version": "1.5.0",
          "state": {
            "_dom_classes": [],
            "_model_module": "@jupyter-widgets/controls",
            "_model_module_version": "1.5.0",
            "_model_name": "LabelModel",
            "_view_count": null,
            "_view_module": "@jupyter-widgets/controls",
            "_view_module_version": "1.5.0",
            "_view_name": "LabelView",
            "description": "",
            "description_tooltip": null,
            "layout": "IPY_MODEL_3e545588899448d7b40a0beb28ba6a69",
            "placeholder": "​",
            "style": "IPY_MODEL_71048cc335c2476abdbb76ae7409b697",
            "value": "1.655 MB of 1.655 MB uploaded (0.000 MB deduped)\r"
          }
        },
        "2c16cca823ea46dba8cd8b36d8a68014": {
          "model_module": "@jupyter-widgets/controls",
          "model_name": "FloatProgressModel",
          "model_module_version": "1.5.0",
          "state": {
            "_dom_classes": [],
            "_model_module": "@jupyter-widgets/controls",
            "_model_module_version": "1.5.0",
            "_model_name": "FloatProgressModel",
            "_view_count": null,
            "_view_module": "@jupyter-widgets/controls",
            "_view_module_version": "1.5.0",
            "_view_name": "ProgressView",
            "bar_style": "",
            "description": "",
            "description_tooltip": null,
            "layout": "IPY_MODEL_cab14b699cce455e81d550b3c8280978",
            "max": 1,
            "min": 0,
            "orientation": "horizontal",
            "style": "IPY_MODEL_6183a0b91ced418795c51173fa501852",
            "value": 1
          }
        },
        "09d09cb47b9a4a0e9e38a02f7c554280": {
          "model_module": "@jupyter-widgets/base",
          "model_name": "LayoutModel",
          "model_module_version": "1.2.0",
          "state": {
            "_model_module": "@jupyter-widgets/base",
            "_model_module_version": "1.2.0",
            "_model_name": "LayoutModel",
            "_view_count": null,
            "_view_module": "@jupyter-widgets/base",
            "_view_module_version": "1.2.0",
            "_view_name": "LayoutView",
            "align_content": null,
            "align_items": null,
            "align_self": null,
            "border": null,
            "bottom": null,
            "display": null,
            "flex": null,
            "flex_flow": null,
            "grid_area": null,
            "grid_auto_columns": null,
            "grid_auto_flow": null,
            "grid_auto_rows": null,
            "grid_column": null,
            "grid_gap": null,
            "grid_row": null,
            "grid_template_areas": null,
            "grid_template_columns": null,
            "grid_template_rows": null,
            "height": null,
            "justify_content": null,
            "justify_items": null,
            "left": null,
            "margin": null,
            "max_height": null,
            "max_width": null,
            "min_height": null,
            "min_width": null,
            "object_fit": null,
            "object_position": null,
            "order": null,
            "overflow": null,
            "overflow_x": null,
            "overflow_y": null,
            "padding": null,
            "right": null,
            "top": null,
            "visibility": null,
            "width": null
          }
        },
        "3e545588899448d7b40a0beb28ba6a69": {
          "model_module": "@jupyter-widgets/base",
          "model_name": "LayoutModel",
          "model_module_version": "1.2.0",
          "state": {
            "_model_module": "@jupyter-widgets/base",
            "_model_module_version": "1.2.0",
            "_model_name": "LayoutModel",
            "_view_count": null,
            "_view_module": "@jupyter-widgets/base",
            "_view_module_version": "1.2.0",
            "_view_name": "LayoutView",
            "align_content": null,
            "align_items": null,
            "align_self": null,
            "border": null,
            "bottom": null,
            "display": null,
            "flex": null,
            "flex_flow": null,
            "grid_area": null,
            "grid_auto_columns": null,
            "grid_auto_flow": null,
            "grid_auto_rows": null,
            "grid_column": null,
            "grid_gap": null,
            "grid_row": null,
            "grid_template_areas": null,
            "grid_template_columns": null,
            "grid_template_rows": null,
            "height": null,
            "justify_content": null,
            "justify_items": null,
            "left": null,
            "margin": null,
            "max_height": null,
            "max_width": null,
            "min_height": null,
            "min_width": null,
            "object_fit": null,
            "object_position": null,
            "order": null,
            "overflow": null,
            "overflow_x": null,
            "overflow_y": null,
            "padding": null,
            "right": null,
            "top": null,
            "visibility": null,
            "width": null
          }
        },
        "71048cc335c2476abdbb76ae7409b697": {
          "model_module": "@jupyter-widgets/controls",
          "model_name": "DescriptionStyleModel",
          "model_module_version": "1.5.0",
          "state": {
            "_model_module": "@jupyter-widgets/controls",
            "_model_module_version": "1.5.0",
            "_model_name": "DescriptionStyleModel",
            "_view_count": null,
            "_view_module": "@jupyter-widgets/base",
            "_view_module_version": "1.2.0",
            "_view_name": "StyleView",
            "description_width": ""
          }
        },
        "cab14b699cce455e81d550b3c8280978": {
          "model_module": "@jupyter-widgets/base",
          "model_name": "LayoutModel",
          "model_module_version": "1.2.0",
          "state": {
            "_model_module": "@jupyter-widgets/base",
            "_model_module_version": "1.2.0",
            "_model_name": "LayoutModel",
            "_view_count": null,
            "_view_module": "@jupyter-widgets/base",
            "_view_module_version": "1.2.0",
            "_view_name": "LayoutView",
            "align_content": null,
            "align_items": null,
            "align_self": null,
            "border": null,
            "bottom": null,
            "display": null,
            "flex": null,
            "flex_flow": null,
            "grid_area": null,
            "grid_auto_columns": null,
            "grid_auto_flow": null,
            "grid_auto_rows": null,
            "grid_column": null,
            "grid_gap": null,
            "grid_row": null,
            "grid_template_areas": null,
            "grid_template_columns": null,
            "grid_template_rows": null,
            "height": null,
            "justify_content": null,
            "justify_items": null,
            "left": null,
            "margin": null,
            "max_height": null,
            "max_width": null,
            "min_height": null,
            "min_width": null,
            "object_fit": null,
            "object_position": null,
            "order": null,
            "overflow": null,
            "overflow_x": null,
            "overflow_y": null,
            "padding": null,
            "right": null,
            "top": null,
            "visibility": null,
            "width": null
          }
        },
        "6183a0b91ced418795c51173fa501852": {
          "model_module": "@jupyter-widgets/controls",
          "model_name": "ProgressStyleModel",
          "model_module_version": "1.5.0",
          "state": {
            "_model_module": "@jupyter-widgets/controls",
            "_model_module_version": "1.5.0",
            "_model_name": "ProgressStyleModel",
            "_view_count": null,
            "_view_module": "@jupyter-widgets/base",
            "_view_module_version": "1.2.0",
            "_view_name": "StyleView",
            "bar_color": null,
            "description_width": ""
          }
        },
        "50d895cf8c3f4921952ed84eb74dd29e": {
          "model_module": "@jupyter-widgets/controls",
          "model_name": "VBoxModel",
          "model_module_version": "1.5.0",
          "state": {
            "_dom_classes": [],
            "_model_module": "@jupyter-widgets/controls",
            "_model_module_version": "1.5.0",
            "_model_name": "VBoxModel",
            "_view_count": null,
            "_view_module": "@jupyter-widgets/controls",
            "_view_module_version": "1.5.0",
            "_view_name": "VBoxView",
            "box_style": "",
            "children": [
              "IPY_MODEL_9a3fee65272f437aa62aa363e21faeb1",
              "IPY_MODEL_45d8b56f57f84dcb9d787d318f498d9a"
            ],
            "layout": "IPY_MODEL_2252ba92be9947c2adb8c338a0c9b32f"
          }
        },
        "9a3fee65272f437aa62aa363e21faeb1": {
          "model_module": "@jupyter-widgets/controls",
          "model_name": "LabelModel",
          "model_module_version": "1.5.0",
          "state": {
            "_dom_classes": [],
            "_model_module": "@jupyter-widgets/controls",
            "_model_module_version": "1.5.0",
            "_model_name": "LabelModel",
            "_view_count": null,
            "_view_module": "@jupyter-widgets/controls",
            "_view_module_version": "1.5.0",
            "_view_name": "LabelView",
            "description": "",
            "description_tooltip": null,
            "layout": "IPY_MODEL_f50d1db7bb6e4710aec4642e2882e1f9",
            "placeholder": "​",
            "style": "IPY_MODEL_1255064e2b6941ee9827895c430b6389",
            "value": "0.012 MB of 0.012 MB uploaded (0.000 MB deduped)\r"
          }
        },
        "45d8b56f57f84dcb9d787d318f498d9a": {
          "model_module": "@jupyter-widgets/controls",
          "model_name": "FloatProgressModel",
          "model_module_version": "1.5.0",
          "state": {
            "_dom_classes": [],
            "_model_module": "@jupyter-widgets/controls",
            "_model_module_version": "1.5.0",
            "_model_name": "FloatProgressModel",
            "_view_count": null,
            "_view_module": "@jupyter-widgets/controls",
            "_view_module_version": "1.5.0",
            "_view_name": "ProgressView",
            "bar_style": "",
            "description": "",
            "description_tooltip": null,
            "layout": "IPY_MODEL_1cc666a65fb742f89855b85cc453d9ab",
            "max": 1,
            "min": 0,
            "orientation": "horizontal",
            "style": "IPY_MODEL_273aa954f89c4d32b27aabfdf97d6d26",
            "value": 1
          }
        },
        "2252ba92be9947c2adb8c338a0c9b32f": {
          "model_module": "@jupyter-widgets/base",
          "model_name": "LayoutModel",
          "model_module_version": "1.2.0",
          "state": {
            "_model_module": "@jupyter-widgets/base",
            "_model_module_version": "1.2.0",
            "_model_name": "LayoutModel",
            "_view_count": null,
            "_view_module": "@jupyter-widgets/base",
            "_view_module_version": "1.2.0",
            "_view_name": "LayoutView",
            "align_content": null,
            "align_items": null,
            "align_self": null,
            "border": null,
            "bottom": null,
            "display": null,
            "flex": null,
            "flex_flow": null,
            "grid_area": null,
            "grid_auto_columns": null,
            "grid_auto_flow": null,
            "grid_auto_rows": null,
            "grid_column": null,
            "grid_gap": null,
            "grid_row": null,
            "grid_template_areas": null,
            "grid_template_columns": null,
            "grid_template_rows": null,
            "height": null,
            "justify_content": null,
            "justify_items": null,
            "left": null,
            "margin": null,
            "max_height": null,
            "max_width": null,
            "min_height": null,
            "min_width": null,
            "object_fit": null,
            "object_position": null,
            "order": null,
            "overflow": null,
            "overflow_x": null,
            "overflow_y": null,
            "padding": null,
            "right": null,
            "top": null,
            "visibility": null,
            "width": null
          }
        },
        "f50d1db7bb6e4710aec4642e2882e1f9": {
          "model_module": "@jupyter-widgets/base",
          "model_name": "LayoutModel",
          "model_module_version": "1.2.0",
          "state": {
            "_model_module": "@jupyter-widgets/base",
            "_model_module_version": "1.2.0",
            "_model_name": "LayoutModel",
            "_view_count": null,
            "_view_module": "@jupyter-widgets/base",
            "_view_module_version": "1.2.0",
            "_view_name": "LayoutView",
            "align_content": null,
            "align_items": null,
            "align_self": null,
            "border": null,
            "bottom": null,
            "display": null,
            "flex": null,
            "flex_flow": null,
            "grid_area": null,
            "grid_auto_columns": null,
            "grid_auto_flow": null,
            "grid_auto_rows": null,
            "grid_column": null,
            "grid_gap": null,
            "grid_row": null,
            "grid_template_areas": null,
            "grid_template_columns": null,
            "grid_template_rows": null,
            "height": null,
            "justify_content": null,
            "justify_items": null,
            "left": null,
            "margin": null,
            "max_height": null,
            "max_width": null,
            "min_height": null,
            "min_width": null,
            "object_fit": null,
            "object_position": null,
            "order": null,
            "overflow": null,
            "overflow_x": null,
            "overflow_y": null,
            "padding": null,
            "right": null,
            "top": null,
            "visibility": null,
            "width": null
          }
        },
        "1255064e2b6941ee9827895c430b6389": {
          "model_module": "@jupyter-widgets/controls",
          "model_name": "DescriptionStyleModel",
          "model_module_version": "1.5.0",
          "state": {
            "_model_module": "@jupyter-widgets/controls",
            "_model_module_version": "1.5.0",
            "_model_name": "DescriptionStyleModel",
            "_view_count": null,
            "_view_module": "@jupyter-widgets/base",
            "_view_module_version": "1.2.0",
            "_view_name": "StyleView",
            "description_width": ""
          }
        },
        "1cc666a65fb742f89855b85cc453d9ab": {
          "model_module": "@jupyter-widgets/base",
          "model_name": "LayoutModel",
          "model_module_version": "1.2.0",
          "state": {
            "_model_module": "@jupyter-widgets/base",
            "_model_module_version": "1.2.0",
            "_model_name": "LayoutModel",
            "_view_count": null,
            "_view_module": "@jupyter-widgets/base",
            "_view_module_version": "1.2.0",
            "_view_name": "LayoutView",
            "align_content": null,
            "align_items": null,
            "align_self": null,
            "border": null,
            "bottom": null,
            "display": null,
            "flex": null,
            "flex_flow": null,
            "grid_area": null,
            "grid_auto_columns": null,
            "grid_auto_flow": null,
            "grid_auto_rows": null,
            "grid_column": null,
            "grid_gap": null,
            "grid_row": null,
            "grid_template_areas": null,
            "grid_template_columns": null,
            "grid_template_rows": null,
            "height": null,
            "justify_content": null,
            "justify_items": null,
            "left": null,
            "margin": null,
            "max_height": null,
            "max_width": null,
            "min_height": null,
            "min_width": null,
            "object_fit": null,
            "object_position": null,
            "order": null,
            "overflow": null,
            "overflow_x": null,
            "overflow_y": null,
            "padding": null,
            "right": null,
            "top": null,
            "visibility": null,
            "width": null
          }
        },
        "273aa954f89c4d32b27aabfdf97d6d26": {
          "model_module": "@jupyter-widgets/controls",
          "model_name": "ProgressStyleModel",
          "model_module_version": "1.5.0",
          "state": {
            "_model_module": "@jupyter-widgets/controls",
            "_model_module_version": "1.5.0",
            "_model_name": "ProgressStyleModel",
            "_view_count": null,
            "_view_module": "@jupyter-widgets/base",
            "_view_module_version": "1.2.0",
            "_view_name": "StyleView",
            "bar_color": null,
            "description_width": ""
          }
        },
        "38f226cc276048aba6a6b88e9be7438f": {
          "model_module": "@jupyter-widgets/controls",
          "model_name": "VBoxModel",
          "model_module_version": "1.5.0",
          "state": {
            "_dom_classes": [],
            "_model_module": "@jupyter-widgets/controls",
            "_model_module_version": "1.5.0",
            "_model_name": "VBoxModel",
            "_view_count": null,
            "_view_module": "@jupyter-widgets/controls",
            "_view_module_version": "1.5.0",
            "_view_name": "VBoxView",
            "box_style": "",
            "children": [
              "IPY_MODEL_909c2bfe89964a5fb39fc37a6b513c86",
              "IPY_MODEL_c9001774273e481cb57387978306382b"
            ],
            "layout": "IPY_MODEL_a40a87c0d2a54b3c89b9c2da0103b624"
          }
        },
        "909c2bfe89964a5fb39fc37a6b513c86": {
          "model_module": "@jupyter-widgets/controls",
          "model_name": "LabelModel",
          "model_module_version": "1.5.0",
          "state": {
            "_dom_classes": [],
            "_model_module": "@jupyter-widgets/controls",
            "_model_module_version": "1.5.0",
            "_model_name": "LabelModel",
            "_view_count": null,
            "_view_module": "@jupyter-widgets/controls",
            "_view_module_version": "1.5.0",
            "_view_name": "LabelView",
            "description": "",
            "description_tooltip": null,
            "layout": "IPY_MODEL_2040e4dc36094d18b576e1fbb52306e6",
            "placeholder": "​",
            "style": "IPY_MODEL_82651bf10458400d90c9f5ae2bb715e1",
            "value": "1.453 MB of 1.453 MB uploaded (0.000 MB deduped)\r"
          }
        },
        "c9001774273e481cb57387978306382b": {
          "model_module": "@jupyter-widgets/controls",
          "model_name": "FloatProgressModel",
          "model_module_version": "1.5.0",
          "state": {
            "_dom_classes": [],
            "_model_module": "@jupyter-widgets/controls",
            "_model_module_version": "1.5.0",
            "_model_name": "FloatProgressModel",
            "_view_count": null,
            "_view_module": "@jupyter-widgets/controls",
            "_view_module_version": "1.5.0",
            "_view_name": "ProgressView",
            "bar_style": "",
            "description": "",
            "description_tooltip": null,
            "layout": "IPY_MODEL_1d0357662e8440d4afdc2c5adff7175b",
            "max": 1,
            "min": 0,
            "orientation": "horizontal",
            "style": "IPY_MODEL_b4f6dd4a88aa48c3a7e8834681efb447",
            "value": 1
          }
        },
        "a40a87c0d2a54b3c89b9c2da0103b624": {
          "model_module": "@jupyter-widgets/base",
          "model_name": "LayoutModel",
          "model_module_version": "1.2.0",
          "state": {
            "_model_module": "@jupyter-widgets/base",
            "_model_module_version": "1.2.0",
            "_model_name": "LayoutModel",
            "_view_count": null,
            "_view_module": "@jupyter-widgets/base",
            "_view_module_version": "1.2.0",
            "_view_name": "LayoutView",
            "align_content": null,
            "align_items": null,
            "align_self": null,
            "border": null,
            "bottom": null,
            "display": null,
            "flex": null,
            "flex_flow": null,
            "grid_area": null,
            "grid_auto_columns": null,
            "grid_auto_flow": null,
            "grid_auto_rows": null,
            "grid_column": null,
            "grid_gap": null,
            "grid_row": null,
            "grid_template_areas": null,
            "grid_template_columns": null,
            "grid_template_rows": null,
            "height": null,
            "justify_content": null,
            "justify_items": null,
            "left": null,
            "margin": null,
            "max_height": null,
            "max_width": null,
            "min_height": null,
            "min_width": null,
            "object_fit": null,
            "object_position": null,
            "order": null,
            "overflow": null,
            "overflow_x": null,
            "overflow_y": null,
            "padding": null,
            "right": null,
            "top": null,
            "visibility": null,
            "width": null
          }
        },
        "2040e4dc36094d18b576e1fbb52306e6": {
          "model_module": "@jupyter-widgets/base",
          "model_name": "LayoutModel",
          "model_module_version": "1.2.0",
          "state": {
            "_model_module": "@jupyter-widgets/base",
            "_model_module_version": "1.2.0",
            "_model_name": "LayoutModel",
            "_view_count": null,
            "_view_module": "@jupyter-widgets/base",
            "_view_module_version": "1.2.0",
            "_view_name": "LayoutView",
            "align_content": null,
            "align_items": null,
            "align_self": null,
            "border": null,
            "bottom": null,
            "display": null,
            "flex": null,
            "flex_flow": null,
            "grid_area": null,
            "grid_auto_columns": null,
            "grid_auto_flow": null,
            "grid_auto_rows": null,
            "grid_column": null,
            "grid_gap": null,
            "grid_row": null,
            "grid_template_areas": null,
            "grid_template_columns": null,
            "grid_template_rows": null,
            "height": null,
            "justify_content": null,
            "justify_items": null,
            "left": null,
            "margin": null,
            "max_height": null,
            "max_width": null,
            "min_height": null,
            "min_width": null,
            "object_fit": null,
            "object_position": null,
            "order": null,
            "overflow": null,
            "overflow_x": null,
            "overflow_y": null,
            "padding": null,
            "right": null,
            "top": null,
            "visibility": null,
            "width": null
          }
        },
        "82651bf10458400d90c9f5ae2bb715e1": {
          "model_module": "@jupyter-widgets/controls",
          "model_name": "DescriptionStyleModel",
          "model_module_version": "1.5.0",
          "state": {
            "_model_module": "@jupyter-widgets/controls",
            "_model_module_version": "1.5.0",
            "_model_name": "DescriptionStyleModel",
            "_view_count": null,
            "_view_module": "@jupyter-widgets/base",
            "_view_module_version": "1.2.0",
            "_view_name": "StyleView",
            "description_width": ""
          }
        },
        "1d0357662e8440d4afdc2c5adff7175b": {
          "model_module": "@jupyter-widgets/base",
          "model_name": "LayoutModel",
          "model_module_version": "1.2.0",
          "state": {
            "_model_module": "@jupyter-widgets/base",
            "_model_module_version": "1.2.0",
            "_model_name": "LayoutModel",
            "_view_count": null,
            "_view_module": "@jupyter-widgets/base",
            "_view_module_version": "1.2.0",
            "_view_name": "LayoutView",
            "align_content": null,
            "align_items": null,
            "align_self": null,
            "border": null,
            "bottom": null,
            "display": null,
            "flex": null,
            "flex_flow": null,
            "grid_area": null,
            "grid_auto_columns": null,
            "grid_auto_flow": null,
            "grid_auto_rows": null,
            "grid_column": null,
            "grid_gap": null,
            "grid_row": null,
            "grid_template_areas": null,
            "grid_template_columns": null,
            "grid_template_rows": null,
            "height": null,
            "justify_content": null,
            "justify_items": null,
            "left": null,
            "margin": null,
            "max_height": null,
            "max_width": null,
            "min_height": null,
            "min_width": null,
            "object_fit": null,
            "object_position": null,
            "order": null,
            "overflow": null,
            "overflow_x": null,
            "overflow_y": null,
            "padding": null,
            "right": null,
            "top": null,
            "visibility": null,
            "width": null
          }
        },
        "b4f6dd4a88aa48c3a7e8834681efb447": {
          "model_module": "@jupyter-widgets/controls",
          "model_name": "ProgressStyleModel",
          "model_module_version": "1.5.0",
          "state": {
            "_model_module": "@jupyter-widgets/controls",
            "_model_module_version": "1.5.0",
            "_model_name": "ProgressStyleModel",
            "_view_count": null,
            "_view_module": "@jupyter-widgets/base",
            "_view_module_version": "1.2.0",
            "_view_name": "StyleView",
            "bar_color": null,
            "description_width": ""
          }
        },
        "bd4407c00f3042659dc7045fdebd43a1": {
          "model_module": "@jupyter-widgets/controls",
          "model_name": "VBoxModel",
          "model_module_version": "1.5.0",
          "state": {
            "_dom_classes": [],
            "_model_module": "@jupyter-widgets/controls",
            "_model_module_version": "1.5.0",
            "_model_name": "VBoxModel",
            "_view_count": null,
            "_view_module": "@jupyter-widgets/controls",
            "_view_module_version": "1.5.0",
            "_view_name": "VBoxView",
            "box_style": "",
            "children": [
              "IPY_MODEL_df2f831094654bc8baf136b8a4a80273",
              "IPY_MODEL_fbe54ccdb6684a1ba45d1f85f1aad07b"
            ],
            "layout": "IPY_MODEL_1979da65babd4fa2a6f00a902a5261f5"
          }
        },
        "df2f831094654bc8baf136b8a4a80273": {
          "model_module": "@jupyter-widgets/controls",
          "model_name": "LabelModel",
          "model_module_version": "1.5.0",
          "state": {
            "_dom_classes": [],
            "_model_module": "@jupyter-widgets/controls",
            "_model_module_version": "1.5.0",
            "_model_name": "LabelModel",
            "_view_count": null,
            "_view_module": "@jupyter-widgets/controls",
            "_view_module_version": "1.5.0",
            "_view_name": "LabelView",
            "description": "",
            "description_tooltip": null,
            "layout": "IPY_MODEL_2eafc1388dbc4844ba932ba7aee8e835",
            "placeholder": "​",
            "style": "IPY_MODEL_fb407b3fbe5f4df08bdb8fd230ccf4a9",
            "value": "1.807 MB of 1.807 MB uploaded (0.000 MB deduped)\r"
          }
        },
        "fbe54ccdb6684a1ba45d1f85f1aad07b": {
          "model_module": "@jupyter-widgets/controls",
          "model_name": "FloatProgressModel",
          "model_module_version": "1.5.0",
          "state": {
            "_dom_classes": [],
            "_model_module": "@jupyter-widgets/controls",
            "_model_module_version": "1.5.0",
            "_model_name": "FloatProgressModel",
            "_view_count": null,
            "_view_module": "@jupyter-widgets/controls",
            "_view_module_version": "1.5.0",
            "_view_name": "ProgressView",
            "bar_style": "",
            "description": "",
            "description_tooltip": null,
            "layout": "IPY_MODEL_55b2f79f4ef64152b6aabf6a566534d1",
            "max": 1,
            "min": 0,
            "orientation": "horizontal",
            "style": "IPY_MODEL_8c8a871f5b014db69e6a90f0615a3f00",
            "value": 1
          }
        },
        "1979da65babd4fa2a6f00a902a5261f5": {
          "model_module": "@jupyter-widgets/base",
          "model_name": "LayoutModel",
          "model_module_version": "1.2.0",
          "state": {
            "_model_module": "@jupyter-widgets/base",
            "_model_module_version": "1.2.0",
            "_model_name": "LayoutModel",
            "_view_count": null,
            "_view_module": "@jupyter-widgets/base",
            "_view_module_version": "1.2.0",
            "_view_name": "LayoutView",
            "align_content": null,
            "align_items": null,
            "align_self": null,
            "border": null,
            "bottom": null,
            "display": null,
            "flex": null,
            "flex_flow": null,
            "grid_area": null,
            "grid_auto_columns": null,
            "grid_auto_flow": null,
            "grid_auto_rows": null,
            "grid_column": null,
            "grid_gap": null,
            "grid_row": null,
            "grid_template_areas": null,
            "grid_template_columns": null,
            "grid_template_rows": null,
            "height": null,
            "justify_content": null,
            "justify_items": null,
            "left": null,
            "margin": null,
            "max_height": null,
            "max_width": null,
            "min_height": null,
            "min_width": null,
            "object_fit": null,
            "object_position": null,
            "order": null,
            "overflow": null,
            "overflow_x": null,
            "overflow_y": null,
            "padding": null,
            "right": null,
            "top": null,
            "visibility": null,
            "width": null
          }
        },
        "2eafc1388dbc4844ba932ba7aee8e835": {
          "model_module": "@jupyter-widgets/base",
          "model_name": "LayoutModel",
          "model_module_version": "1.2.0",
          "state": {
            "_model_module": "@jupyter-widgets/base",
            "_model_module_version": "1.2.0",
            "_model_name": "LayoutModel",
            "_view_count": null,
            "_view_module": "@jupyter-widgets/base",
            "_view_module_version": "1.2.0",
            "_view_name": "LayoutView",
            "align_content": null,
            "align_items": null,
            "align_self": null,
            "border": null,
            "bottom": null,
            "display": null,
            "flex": null,
            "flex_flow": null,
            "grid_area": null,
            "grid_auto_columns": null,
            "grid_auto_flow": null,
            "grid_auto_rows": null,
            "grid_column": null,
            "grid_gap": null,
            "grid_row": null,
            "grid_template_areas": null,
            "grid_template_columns": null,
            "grid_template_rows": null,
            "height": null,
            "justify_content": null,
            "justify_items": null,
            "left": null,
            "margin": null,
            "max_height": null,
            "max_width": null,
            "min_height": null,
            "min_width": null,
            "object_fit": null,
            "object_position": null,
            "order": null,
            "overflow": null,
            "overflow_x": null,
            "overflow_y": null,
            "padding": null,
            "right": null,
            "top": null,
            "visibility": null,
            "width": null
          }
        },
        "fb407b3fbe5f4df08bdb8fd230ccf4a9": {
          "model_module": "@jupyter-widgets/controls",
          "model_name": "DescriptionStyleModel",
          "model_module_version": "1.5.0",
          "state": {
            "_model_module": "@jupyter-widgets/controls",
            "_model_module_version": "1.5.0",
            "_model_name": "DescriptionStyleModel",
            "_view_count": null,
            "_view_module": "@jupyter-widgets/base",
            "_view_module_version": "1.2.0",
            "_view_name": "StyleView",
            "description_width": ""
          }
        },
        "55b2f79f4ef64152b6aabf6a566534d1": {
          "model_module": "@jupyter-widgets/base",
          "model_name": "LayoutModel",
          "model_module_version": "1.2.0",
          "state": {
            "_model_module": "@jupyter-widgets/base",
            "_model_module_version": "1.2.0",
            "_model_name": "LayoutModel",
            "_view_count": null,
            "_view_module": "@jupyter-widgets/base",
            "_view_module_version": "1.2.0",
            "_view_name": "LayoutView",
            "align_content": null,
            "align_items": null,
            "align_self": null,
            "border": null,
            "bottom": null,
            "display": null,
            "flex": null,
            "flex_flow": null,
            "grid_area": null,
            "grid_auto_columns": null,
            "grid_auto_flow": null,
            "grid_auto_rows": null,
            "grid_column": null,
            "grid_gap": null,
            "grid_row": null,
            "grid_template_areas": null,
            "grid_template_columns": null,
            "grid_template_rows": null,
            "height": null,
            "justify_content": null,
            "justify_items": null,
            "left": null,
            "margin": null,
            "max_height": null,
            "max_width": null,
            "min_height": null,
            "min_width": null,
            "object_fit": null,
            "object_position": null,
            "order": null,
            "overflow": null,
            "overflow_x": null,
            "overflow_y": null,
            "padding": null,
            "right": null,
            "top": null,
            "visibility": null,
            "width": null
          }
        },
        "8c8a871f5b014db69e6a90f0615a3f00": {
          "model_module": "@jupyter-widgets/controls",
          "model_name": "ProgressStyleModel",
          "model_module_version": "1.5.0",
          "state": {
            "_model_module": "@jupyter-widgets/controls",
            "_model_module_version": "1.5.0",
            "_model_name": "ProgressStyleModel",
            "_view_count": null,
            "_view_module": "@jupyter-widgets/base",
            "_view_module_version": "1.2.0",
            "_view_name": "StyleView",
            "bar_color": null,
            "description_width": ""
          }
        },
        "c9b0643329a4411cb8c7d2d30d98e6ca": {
          "model_module": "@jupyter-widgets/controls",
          "model_name": "VBoxModel",
          "model_module_version": "1.5.0",
          "state": {
            "_dom_classes": [],
            "_model_module": "@jupyter-widgets/controls",
            "_model_module_version": "1.5.0",
            "_model_name": "VBoxModel",
            "_view_count": null,
            "_view_module": "@jupyter-widgets/controls",
            "_view_module_version": "1.5.0",
            "_view_name": "VBoxView",
            "box_style": "",
            "children": [
              "IPY_MODEL_7d1c50c4bd00495ca33e45c06c54835e",
              "IPY_MODEL_71fa397cdd26438b97bbdc67fd404963"
            ],
            "layout": "IPY_MODEL_63c77ccc2122484ea7a742c403308f54"
          }
        },
        "7d1c50c4bd00495ca33e45c06c54835e": {
          "model_module": "@jupyter-widgets/controls",
          "model_name": "LabelModel",
          "model_module_version": "1.5.0",
          "state": {
            "_dom_classes": [],
            "_model_module": "@jupyter-widgets/controls",
            "_model_module_version": "1.5.0",
            "_model_name": "LabelModel",
            "_view_count": null,
            "_view_module": "@jupyter-widgets/controls",
            "_view_module_version": "1.5.0",
            "_view_name": "LabelView",
            "description": "",
            "description_tooltip": null,
            "layout": "IPY_MODEL_fa204c735c1a4a748fe74d0b8cceefe8",
            "placeholder": "​",
            "style": "IPY_MODEL_f8f7910280d1426a88b5e9c9ff070362",
            "value": "2.821 MB of 2.821 MB uploaded (0.000 MB deduped)\r"
          }
        },
        "71fa397cdd26438b97bbdc67fd404963": {
          "model_module": "@jupyter-widgets/controls",
          "model_name": "FloatProgressModel",
          "model_module_version": "1.5.0",
          "state": {
            "_dom_classes": [],
            "_model_module": "@jupyter-widgets/controls",
            "_model_module_version": "1.5.0",
            "_model_name": "FloatProgressModel",
            "_view_count": null,
            "_view_module": "@jupyter-widgets/controls",
            "_view_module_version": "1.5.0",
            "_view_name": "ProgressView",
            "bar_style": "",
            "description": "",
            "description_tooltip": null,
            "layout": "IPY_MODEL_e1e8caf69fc3465782d94f93ab56442f",
            "max": 1,
            "min": 0,
            "orientation": "horizontal",
            "style": "IPY_MODEL_64d4d216f70141c294747f7188b8acfd",
            "value": 1
          }
        },
        "63c77ccc2122484ea7a742c403308f54": {
          "model_module": "@jupyter-widgets/base",
          "model_name": "LayoutModel",
          "model_module_version": "1.2.0",
          "state": {
            "_model_module": "@jupyter-widgets/base",
            "_model_module_version": "1.2.0",
            "_model_name": "LayoutModel",
            "_view_count": null,
            "_view_module": "@jupyter-widgets/base",
            "_view_module_version": "1.2.0",
            "_view_name": "LayoutView",
            "align_content": null,
            "align_items": null,
            "align_self": null,
            "border": null,
            "bottom": null,
            "display": null,
            "flex": null,
            "flex_flow": null,
            "grid_area": null,
            "grid_auto_columns": null,
            "grid_auto_flow": null,
            "grid_auto_rows": null,
            "grid_column": null,
            "grid_gap": null,
            "grid_row": null,
            "grid_template_areas": null,
            "grid_template_columns": null,
            "grid_template_rows": null,
            "height": null,
            "justify_content": null,
            "justify_items": null,
            "left": null,
            "margin": null,
            "max_height": null,
            "max_width": null,
            "min_height": null,
            "min_width": null,
            "object_fit": null,
            "object_position": null,
            "order": null,
            "overflow": null,
            "overflow_x": null,
            "overflow_y": null,
            "padding": null,
            "right": null,
            "top": null,
            "visibility": null,
            "width": null
          }
        },
        "fa204c735c1a4a748fe74d0b8cceefe8": {
          "model_module": "@jupyter-widgets/base",
          "model_name": "LayoutModel",
          "model_module_version": "1.2.0",
          "state": {
            "_model_module": "@jupyter-widgets/base",
            "_model_module_version": "1.2.0",
            "_model_name": "LayoutModel",
            "_view_count": null,
            "_view_module": "@jupyter-widgets/base",
            "_view_module_version": "1.2.0",
            "_view_name": "LayoutView",
            "align_content": null,
            "align_items": null,
            "align_self": null,
            "border": null,
            "bottom": null,
            "display": null,
            "flex": null,
            "flex_flow": null,
            "grid_area": null,
            "grid_auto_columns": null,
            "grid_auto_flow": null,
            "grid_auto_rows": null,
            "grid_column": null,
            "grid_gap": null,
            "grid_row": null,
            "grid_template_areas": null,
            "grid_template_columns": null,
            "grid_template_rows": null,
            "height": null,
            "justify_content": null,
            "justify_items": null,
            "left": null,
            "margin": null,
            "max_height": null,
            "max_width": null,
            "min_height": null,
            "min_width": null,
            "object_fit": null,
            "object_position": null,
            "order": null,
            "overflow": null,
            "overflow_x": null,
            "overflow_y": null,
            "padding": null,
            "right": null,
            "top": null,
            "visibility": null,
            "width": null
          }
        },
        "f8f7910280d1426a88b5e9c9ff070362": {
          "model_module": "@jupyter-widgets/controls",
          "model_name": "DescriptionStyleModel",
          "model_module_version": "1.5.0",
          "state": {
            "_model_module": "@jupyter-widgets/controls",
            "_model_module_version": "1.5.0",
            "_model_name": "DescriptionStyleModel",
            "_view_count": null,
            "_view_module": "@jupyter-widgets/base",
            "_view_module_version": "1.2.0",
            "_view_name": "StyleView",
            "description_width": ""
          }
        },
        "e1e8caf69fc3465782d94f93ab56442f": {
          "model_module": "@jupyter-widgets/base",
          "model_name": "LayoutModel",
          "model_module_version": "1.2.0",
          "state": {
            "_model_module": "@jupyter-widgets/base",
            "_model_module_version": "1.2.0",
            "_model_name": "LayoutModel",
            "_view_count": null,
            "_view_module": "@jupyter-widgets/base",
            "_view_module_version": "1.2.0",
            "_view_name": "LayoutView",
            "align_content": null,
            "align_items": null,
            "align_self": null,
            "border": null,
            "bottom": null,
            "display": null,
            "flex": null,
            "flex_flow": null,
            "grid_area": null,
            "grid_auto_columns": null,
            "grid_auto_flow": null,
            "grid_auto_rows": null,
            "grid_column": null,
            "grid_gap": null,
            "grid_row": null,
            "grid_template_areas": null,
            "grid_template_columns": null,
            "grid_template_rows": null,
            "height": null,
            "justify_content": null,
            "justify_items": null,
            "left": null,
            "margin": null,
            "max_height": null,
            "max_width": null,
            "min_height": null,
            "min_width": null,
            "object_fit": null,
            "object_position": null,
            "order": null,
            "overflow": null,
            "overflow_x": null,
            "overflow_y": null,
            "padding": null,
            "right": null,
            "top": null,
            "visibility": null,
            "width": null
          }
        },
        "64d4d216f70141c294747f7188b8acfd": {
          "model_module": "@jupyter-widgets/controls",
          "model_name": "ProgressStyleModel",
          "model_module_version": "1.5.0",
          "state": {
            "_model_module": "@jupyter-widgets/controls",
            "_model_module_version": "1.5.0",
            "_model_name": "ProgressStyleModel",
            "_view_count": null,
            "_view_module": "@jupyter-widgets/base",
            "_view_module_version": "1.2.0",
            "_view_name": "StyleView",
            "bar_color": null,
            "description_width": ""
          }
        },
        "5b2380ea4b4747c99c008313b831f4b9": {
          "model_module": "@jupyter-widgets/controls",
          "model_name": "VBoxModel",
          "model_module_version": "1.5.0",
          "state": {
            "_dom_classes": [],
            "_model_module": "@jupyter-widgets/controls",
            "_model_module_version": "1.5.0",
            "_model_name": "VBoxModel",
            "_view_count": null,
            "_view_module": "@jupyter-widgets/controls",
            "_view_module_version": "1.5.0",
            "_view_name": "VBoxView",
            "box_style": "",
            "children": [
              "IPY_MODEL_d1e3603f406b4b239aabfab17e14e690",
              "IPY_MODEL_bc0c6770ff9f43d9b71aa1727004ca61"
            ],
            "layout": "IPY_MODEL_966555ff424f470db1ab0d1d8c509c04"
          }
        },
        "d1e3603f406b4b239aabfab17e14e690": {
          "model_module": "@jupyter-widgets/controls",
          "model_name": "LabelModel",
          "model_module_version": "1.5.0",
          "state": {
            "_dom_classes": [],
            "_model_module": "@jupyter-widgets/controls",
            "_model_module_version": "1.5.0",
            "_model_name": "LabelModel",
            "_view_count": null,
            "_view_module": "@jupyter-widgets/controls",
            "_view_module_version": "1.5.0",
            "_view_name": "LabelView",
            "description": "",
            "description_tooltip": null,
            "layout": "IPY_MODEL_5e1022cfbb4043c688adcb1a60801550",
            "placeholder": "​",
            "style": "IPY_MODEL_1f92cf3cc5b24692ba117c6f2fd6b8b8",
            "value": "158.486 MB of 158.486 MB uploaded (0.000 MB deduped)\r"
          }
        },
        "bc0c6770ff9f43d9b71aa1727004ca61": {
          "model_module": "@jupyter-widgets/controls",
          "model_name": "FloatProgressModel",
          "model_module_version": "1.5.0",
          "state": {
            "_dom_classes": [],
            "_model_module": "@jupyter-widgets/controls",
            "_model_module_version": "1.5.0",
            "_model_name": "FloatProgressModel",
            "_view_count": null,
            "_view_module": "@jupyter-widgets/controls",
            "_view_module_version": "1.5.0",
            "_view_name": "ProgressView",
            "bar_style": "",
            "description": "",
            "description_tooltip": null,
            "layout": "IPY_MODEL_48bcdafcd20f4c84828b1194b3b16225",
            "max": 1,
            "min": 0,
            "orientation": "horizontal",
            "style": "IPY_MODEL_9fd69bdc97cb487ba9633e03a32ea4b9",
            "value": 1
          }
        },
        "966555ff424f470db1ab0d1d8c509c04": {
          "model_module": "@jupyter-widgets/base",
          "model_name": "LayoutModel",
          "model_module_version": "1.2.0",
          "state": {
            "_model_module": "@jupyter-widgets/base",
            "_model_module_version": "1.2.0",
            "_model_name": "LayoutModel",
            "_view_count": null,
            "_view_module": "@jupyter-widgets/base",
            "_view_module_version": "1.2.0",
            "_view_name": "LayoutView",
            "align_content": null,
            "align_items": null,
            "align_self": null,
            "border": null,
            "bottom": null,
            "display": null,
            "flex": null,
            "flex_flow": null,
            "grid_area": null,
            "grid_auto_columns": null,
            "grid_auto_flow": null,
            "grid_auto_rows": null,
            "grid_column": null,
            "grid_gap": null,
            "grid_row": null,
            "grid_template_areas": null,
            "grid_template_columns": null,
            "grid_template_rows": null,
            "height": null,
            "justify_content": null,
            "justify_items": null,
            "left": null,
            "margin": null,
            "max_height": null,
            "max_width": null,
            "min_height": null,
            "min_width": null,
            "object_fit": null,
            "object_position": null,
            "order": null,
            "overflow": null,
            "overflow_x": null,
            "overflow_y": null,
            "padding": null,
            "right": null,
            "top": null,
            "visibility": null,
            "width": null
          }
        },
        "5e1022cfbb4043c688adcb1a60801550": {
          "model_module": "@jupyter-widgets/base",
          "model_name": "LayoutModel",
          "model_module_version": "1.2.0",
          "state": {
            "_model_module": "@jupyter-widgets/base",
            "_model_module_version": "1.2.0",
            "_model_name": "LayoutModel",
            "_view_count": null,
            "_view_module": "@jupyter-widgets/base",
            "_view_module_version": "1.2.0",
            "_view_name": "LayoutView",
            "align_content": null,
            "align_items": null,
            "align_self": null,
            "border": null,
            "bottom": null,
            "display": null,
            "flex": null,
            "flex_flow": null,
            "grid_area": null,
            "grid_auto_columns": null,
            "grid_auto_flow": null,
            "grid_auto_rows": null,
            "grid_column": null,
            "grid_gap": null,
            "grid_row": null,
            "grid_template_areas": null,
            "grid_template_columns": null,
            "grid_template_rows": null,
            "height": null,
            "justify_content": null,
            "justify_items": null,
            "left": null,
            "margin": null,
            "max_height": null,
            "max_width": null,
            "min_height": null,
            "min_width": null,
            "object_fit": null,
            "object_position": null,
            "order": null,
            "overflow": null,
            "overflow_x": null,
            "overflow_y": null,
            "padding": null,
            "right": null,
            "top": null,
            "visibility": null,
            "width": null
          }
        },
        "1f92cf3cc5b24692ba117c6f2fd6b8b8": {
          "model_module": "@jupyter-widgets/controls",
          "model_name": "DescriptionStyleModel",
          "model_module_version": "1.5.0",
          "state": {
            "_model_module": "@jupyter-widgets/controls",
            "_model_module_version": "1.5.0",
            "_model_name": "DescriptionStyleModel",
            "_view_count": null,
            "_view_module": "@jupyter-widgets/base",
            "_view_module_version": "1.2.0",
            "_view_name": "StyleView",
            "description_width": ""
          }
        },
        "48bcdafcd20f4c84828b1194b3b16225": {
          "model_module": "@jupyter-widgets/base",
          "model_name": "LayoutModel",
          "model_module_version": "1.2.0",
          "state": {
            "_model_module": "@jupyter-widgets/base",
            "_model_module_version": "1.2.0",
            "_model_name": "LayoutModel",
            "_view_count": null,
            "_view_module": "@jupyter-widgets/base",
            "_view_module_version": "1.2.0",
            "_view_name": "LayoutView",
            "align_content": null,
            "align_items": null,
            "align_self": null,
            "border": null,
            "bottom": null,
            "display": null,
            "flex": null,
            "flex_flow": null,
            "grid_area": null,
            "grid_auto_columns": null,
            "grid_auto_flow": null,
            "grid_auto_rows": null,
            "grid_column": null,
            "grid_gap": null,
            "grid_row": null,
            "grid_template_areas": null,
            "grid_template_columns": null,
            "grid_template_rows": null,
            "height": null,
            "justify_content": null,
            "justify_items": null,
            "left": null,
            "margin": null,
            "max_height": null,
            "max_width": null,
            "min_height": null,
            "min_width": null,
            "object_fit": null,
            "object_position": null,
            "order": null,
            "overflow": null,
            "overflow_x": null,
            "overflow_y": null,
            "padding": null,
            "right": null,
            "top": null,
            "visibility": null,
            "width": null
          }
        },
        "9fd69bdc97cb487ba9633e03a32ea4b9": {
          "model_module": "@jupyter-widgets/controls",
          "model_name": "ProgressStyleModel",
          "model_module_version": "1.5.0",
          "state": {
            "_model_module": "@jupyter-widgets/controls",
            "_model_module_version": "1.5.0",
            "_model_name": "ProgressStyleModel",
            "_view_count": null,
            "_view_module": "@jupyter-widgets/base",
            "_view_module_version": "1.2.0",
            "_view_name": "StyleView",
            "bar_color": null,
            "description_width": ""
          }
        },
        "562a032534214ce19197310c2f0095ef": {
          "model_module": "@jupyter-widgets/controls",
          "model_name": "VBoxModel",
          "model_module_version": "1.5.0",
          "state": {
            "_dom_classes": [],
            "_model_module": "@jupyter-widgets/controls",
            "_model_module_version": "1.5.0",
            "_model_name": "VBoxModel",
            "_view_count": null,
            "_view_module": "@jupyter-widgets/controls",
            "_view_module_version": "1.5.0",
            "_view_name": "VBoxView",
            "box_style": "",
            "children": [
              "IPY_MODEL_08a9a962d2d146b49966da53e810691e",
              "IPY_MODEL_4a046d75c42240edb47550c7bb763038"
            ],
            "layout": "IPY_MODEL_d251cb7b8ea24b5e9fa1a2a7cf41b2a5"
          }
        },
        "08a9a962d2d146b49966da53e810691e": {
          "model_module": "@jupyter-widgets/controls",
          "model_name": "LabelModel",
          "model_module_version": "1.5.0",
          "state": {
            "_dom_classes": [],
            "_model_module": "@jupyter-widgets/controls",
            "_model_module_version": "1.5.0",
            "_model_name": "LabelModel",
            "_view_count": null,
            "_view_module": "@jupyter-widgets/controls",
            "_view_module_version": "1.5.0",
            "_view_name": "LabelView",
            "description": "",
            "description_tooltip": null,
            "layout": "IPY_MODEL_366e9bf2d73741b1b0c9975de28e57fb",
            "placeholder": "​",
            "style": "IPY_MODEL_5f0395009d924af2b25c36cdf29711ac",
            "value": "1.851 MB of 1.851 MB uploaded (0.000 MB deduped)\r"
          }
        },
        "4a046d75c42240edb47550c7bb763038": {
          "model_module": "@jupyter-widgets/controls",
          "model_name": "FloatProgressModel",
          "model_module_version": "1.5.0",
          "state": {
            "_dom_classes": [],
            "_model_module": "@jupyter-widgets/controls",
            "_model_module_version": "1.5.0",
            "_model_name": "FloatProgressModel",
            "_view_count": null,
            "_view_module": "@jupyter-widgets/controls",
            "_view_module_version": "1.5.0",
            "_view_name": "ProgressView",
            "bar_style": "",
            "description": "",
            "description_tooltip": null,
            "layout": "IPY_MODEL_cf24d48f64dd4afa8e6293822ad16af6",
            "max": 1,
            "min": 0,
            "orientation": "horizontal",
            "style": "IPY_MODEL_ba18939a4bf848b087de07bcb45f483e",
            "value": 1
          }
        },
        "d251cb7b8ea24b5e9fa1a2a7cf41b2a5": {
          "model_module": "@jupyter-widgets/base",
          "model_name": "LayoutModel",
          "model_module_version": "1.2.0",
          "state": {
            "_model_module": "@jupyter-widgets/base",
            "_model_module_version": "1.2.0",
            "_model_name": "LayoutModel",
            "_view_count": null,
            "_view_module": "@jupyter-widgets/base",
            "_view_module_version": "1.2.0",
            "_view_name": "LayoutView",
            "align_content": null,
            "align_items": null,
            "align_self": null,
            "border": null,
            "bottom": null,
            "display": null,
            "flex": null,
            "flex_flow": null,
            "grid_area": null,
            "grid_auto_columns": null,
            "grid_auto_flow": null,
            "grid_auto_rows": null,
            "grid_column": null,
            "grid_gap": null,
            "grid_row": null,
            "grid_template_areas": null,
            "grid_template_columns": null,
            "grid_template_rows": null,
            "height": null,
            "justify_content": null,
            "justify_items": null,
            "left": null,
            "margin": null,
            "max_height": null,
            "max_width": null,
            "min_height": null,
            "min_width": null,
            "object_fit": null,
            "object_position": null,
            "order": null,
            "overflow": null,
            "overflow_x": null,
            "overflow_y": null,
            "padding": null,
            "right": null,
            "top": null,
            "visibility": null,
            "width": null
          }
        },
        "366e9bf2d73741b1b0c9975de28e57fb": {
          "model_module": "@jupyter-widgets/base",
          "model_name": "LayoutModel",
          "model_module_version": "1.2.0",
          "state": {
            "_model_module": "@jupyter-widgets/base",
            "_model_module_version": "1.2.0",
            "_model_name": "LayoutModel",
            "_view_count": null,
            "_view_module": "@jupyter-widgets/base",
            "_view_module_version": "1.2.0",
            "_view_name": "LayoutView",
            "align_content": null,
            "align_items": null,
            "align_self": null,
            "border": null,
            "bottom": null,
            "display": null,
            "flex": null,
            "flex_flow": null,
            "grid_area": null,
            "grid_auto_columns": null,
            "grid_auto_flow": null,
            "grid_auto_rows": null,
            "grid_column": null,
            "grid_gap": null,
            "grid_row": null,
            "grid_template_areas": null,
            "grid_template_columns": null,
            "grid_template_rows": null,
            "height": null,
            "justify_content": null,
            "justify_items": null,
            "left": null,
            "margin": null,
            "max_height": null,
            "max_width": null,
            "min_height": null,
            "min_width": null,
            "object_fit": null,
            "object_position": null,
            "order": null,
            "overflow": null,
            "overflow_x": null,
            "overflow_y": null,
            "padding": null,
            "right": null,
            "top": null,
            "visibility": null,
            "width": null
          }
        },
        "5f0395009d924af2b25c36cdf29711ac": {
          "model_module": "@jupyter-widgets/controls",
          "model_name": "DescriptionStyleModel",
          "model_module_version": "1.5.0",
          "state": {
            "_model_module": "@jupyter-widgets/controls",
            "_model_module_version": "1.5.0",
            "_model_name": "DescriptionStyleModel",
            "_view_count": null,
            "_view_module": "@jupyter-widgets/base",
            "_view_module_version": "1.2.0",
            "_view_name": "StyleView",
            "description_width": ""
          }
        },
        "cf24d48f64dd4afa8e6293822ad16af6": {
          "model_module": "@jupyter-widgets/base",
          "model_name": "LayoutModel",
          "model_module_version": "1.2.0",
          "state": {
            "_model_module": "@jupyter-widgets/base",
            "_model_module_version": "1.2.0",
            "_model_name": "LayoutModel",
            "_view_count": null,
            "_view_module": "@jupyter-widgets/base",
            "_view_module_version": "1.2.0",
            "_view_name": "LayoutView",
            "align_content": null,
            "align_items": null,
            "align_self": null,
            "border": null,
            "bottom": null,
            "display": null,
            "flex": null,
            "flex_flow": null,
            "grid_area": null,
            "grid_auto_columns": null,
            "grid_auto_flow": null,
            "grid_auto_rows": null,
            "grid_column": null,
            "grid_gap": null,
            "grid_row": null,
            "grid_template_areas": null,
            "grid_template_columns": null,
            "grid_template_rows": null,
            "height": null,
            "justify_content": null,
            "justify_items": null,
            "left": null,
            "margin": null,
            "max_height": null,
            "max_width": null,
            "min_height": null,
            "min_width": null,
            "object_fit": null,
            "object_position": null,
            "order": null,
            "overflow": null,
            "overflow_x": null,
            "overflow_y": null,
            "padding": null,
            "right": null,
            "top": null,
            "visibility": null,
            "width": null
          }
        },
        "ba18939a4bf848b087de07bcb45f483e": {
          "model_module": "@jupyter-widgets/controls",
          "model_name": "ProgressStyleModel",
          "model_module_version": "1.5.0",
          "state": {
            "_model_module": "@jupyter-widgets/controls",
            "_model_module_version": "1.5.0",
            "_model_name": "ProgressStyleModel",
            "_view_count": null,
            "_view_module": "@jupyter-widgets/base",
            "_view_module_version": "1.2.0",
            "_view_name": "StyleView",
            "bar_color": null,
            "description_width": ""
          }
        },
        "7bd278060a744409a59cdd59ae8659a1": {
          "model_module": "@jupyter-widgets/controls",
          "model_name": "VBoxModel",
          "model_module_version": "1.5.0",
          "state": {
            "_dom_classes": [],
            "_model_module": "@jupyter-widgets/controls",
            "_model_module_version": "1.5.0",
            "_model_name": "VBoxModel",
            "_view_count": null,
            "_view_module": "@jupyter-widgets/controls",
            "_view_module_version": "1.5.0",
            "_view_name": "VBoxView",
            "box_style": "",
            "children": [
              "IPY_MODEL_33f73fc8e5164b60ace748dc73fbd166",
              "IPY_MODEL_49823977ee614b8fb4d23abc325ca23b"
            ],
            "layout": "IPY_MODEL_04471068ea34428c85a402a23556c15d"
          }
        },
        "33f73fc8e5164b60ace748dc73fbd166": {
          "model_module": "@jupyter-widgets/controls",
          "model_name": "LabelModel",
          "model_module_version": "1.5.0",
          "state": {
            "_dom_classes": [],
            "_model_module": "@jupyter-widgets/controls",
            "_model_module_version": "1.5.0",
            "_model_name": "LabelModel",
            "_view_count": null,
            "_view_module": "@jupyter-widgets/controls",
            "_view_module_version": "1.5.0",
            "_view_name": "LabelView",
            "description": "",
            "description_tooltip": null,
            "layout": "IPY_MODEL_35113991201f403e9f8881c943405d1e",
            "placeholder": "​",
            "style": "IPY_MODEL_a481429e5be740c998dbefa319818816",
            "value": "78.639 MB of 78.639 MB uploaded (0.000 MB deduped)\r"
          }
        },
        "49823977ee614b8fb4d23abc325ca23b": {
          "model_module": "@jupyter-widgets/controls",
          "model_name": "FloatProgressModel",
          "model_module_version": "1.5.0",
          "state": {
            "_dom_classes": [],
            "_model_module": "@jupyter-widgets/controls",
            "_model_module_version": "1.5.0",
            "_model_name": "FloatProgressModel",
            "_view_count": null,
            "_view_module": "@jupyter-widgets/controls",
            "_view_module_version": "1.5.0",
            "_view_name": "ProgressView",
            "bar_style": "",
            "description": "",
            "description_tooltip": null,
            "layout": "IPY_MODEL_aa96de85ab1940c795d884727fc0c603",
            "max": 1,
            "min": 0,
            "orientation": "horizontal",
            "style": "IPY_MODEL_7b2902e9cec64d6a9fa3728a1502a266",
            "value": 1
          }
        },
        "04471068ea34428c85a402a23556c15d": {
          "model_module": "@jupyter-widgets/base",
          "model_name": "LayoutModel",
          "model_module_version": "1.2.0",
          "state": {
            "_model_module": "@jupyter-widgets/base",
            "_model_module_version": "1.2.0",
            "_model_name": "LayoutModel",
            "_view_count": null,
            "_view_module": "@jupyter-widgets/base",
            "_view_module_version": "1.2.0",
            "_view_name": "LayoutView",
            "align_content": null,
            "align_items": null,
            "align_self": null,
            "border": null,
            "bottom": null,
            "display": null,
            "flex": null,
            "flex_flow": null,
            "grid_area": null,
            "grid_auto_columns": null,
            "grid_auto_flow": null,
            "grid_auto_rows": null,
            "grid_column": null,
            "grid_gap": null,
            "grid_row": null,
            "grid_template_areas": null,
            "grid_template_columns": null,
            "grid_template_rows": null,
            "height": null,
            "justify_content": null,
            "justify_items": null,
            "left": null,
            "margin": null,
            "max_height": null,
            "max_width": null,
            "min_height": null,
            "min_width": null,
            "object_fit": null,
            "object_position": null,
            "order": null,
            "overflow": null,
            "overflow_x": null,
            "overflow_y": null,
            "padding": null,
            "right": null,
            "top": null,
            "visibility": null,
            "width": null
          }
        },
        "35113991201f403e9f8881c943405d1e": {
          "model_module": "@jupyter-widgets/base",
          "model_name": "LayoutModel",
          "model_module_version": "1.2.0",
          "state": {
            "_model_module": "@jupyter-widgets/base",
            "_model_module_version": "1.2.0",
            "_model_name": "LayoutModel",
            "_view_count": null,
            "_view_module": "@jupyter-widgets/base",
            "_view_module_version": "1.2.0",
            "_view_name": "LayoutView",
            "align_content": null,
            "align_items": null,
            "align_self": null,
            "border": null,
            "bottom": null,
            "display": null,
            "flex": null,
            "flex_flow": null,
            "grid_area": null,
            "grid_auto_columns": null,
            "grid_auto_flow": null,
            "grid_auto_rows": null,
            "grid_column": null,
            "grid_gap": null,
            "grid_row": null,
            "grid_template_areas": null,
            "grid_template_columns": null,
            "grid_template_rows": null,
            "height": null,
            "justify_content": null,
            "justify_items": null,
            "left": null,
            "margin": null,
            "max_height": null,
            "max_width": null,
            "min_height": null,
            "min_width": null,
            "object_fit": null,
            "object_position": null,
            "order": null,
            "overflow": null,
            "overflow_x": null,
            "overflow_y": null,
            "padding": null,
            "right": null,
            "top": null,
            "visibility": null,
            "width": null
          }
        },
        "a481429e5be740c998dbefa319818816": {
          "model_module": "@jupyter-widgets/controls",
          "model_name": "DescriptionStyleModel",
          "model_module_version": "1.5.0",
          "state": {
            "_model_module": "@jupyter-widgets/controls",
            "_model_module_version": "1.5.0",
            "_model_name": "DescriptionStyleModel",
            "_view_count": null,
            "_view_module": "@jupyter-widgets/base",
            "_view_module_version": "1.2.0",
            "_view_name": "StyleView",
            "description_width": ""
          }
        },
        "aa96de85ab1940c795d884727fc0c603": {
          "model_module": "@jupyter-widgets/base",
          "model_name": "LayoutModel",
          "model_module_version": "1.2.0",
          "state": {
            "_model_module": "@jupyter-widgets/base",
            "_model_module_version": "1.2.0",
            "_model_name": "LayoutModel",
            "_view_count": null,
            "_view_module": "@jupyter-widgets/base",
            "_view_module_version": "1.2.0",
            "_view_name": "LayoutView",
            "align_content": null,
            "align_items": null,
            "align_self": null,
            "border": null,
            "bottom": null,
            "display": null,
            "flex": null,
            "flex_flow": null,
            "grid_area": null,
            "grid_auto_columns": null,
            "grid_auto_flow": null,
            "grid_auto_rows": null,
            "grid_column": null,
            "grid_gap": null,
            "grid_row": null,
            "grid_template_areas": null,
            "grid_template_columns": null,
            "grid_template_rows": null,
            "height": null,
            "justify_content": null,
            "justify_items": null,
            "left": null,
            "margin": null,
            "max_height": null,
            "max_width": null,
            "min_height": null,
            "min_width": null,
            "object_fit": null,
            "object_position": null,
            "order": null,
            "overflow": null,
            "overflow_x": null,
            "overflow_y": null,
            "padding": null,
            "right": null,
            "top": null,
            "visibility": null,
            "width": null
          }
        },
        "7b2902e9cec64d6a9fa3728a1502a266": {
          "model_module": "@jupyter-widgets/controls",
          "model_name": "ProgressStyleModel",
          "model_module_version": "1.5.0",
          "state": {
            "_model_module": "@jupyter-widgets/controls",
            "_model_module_version": "1.5.0",
            "_model_name": "ProgressStyleModel",
            "_view_count": null,
            "_view_module": "@jupyter-widgets/base",
            "_view_module_version": "1.2.0",
            "_view_name": "StyleView",
            "bar_color": null,
            "description_width": ""
          }
        },
        "dca021f41d0842a9b33fc3e0958cb9d3": {
          "model_module": "@jupyter-widgets/controls",
          "model_name": "VBoxModel",
          "model_module_version": "1.5.0",
          "state": {
            "_dom_classes": [],
            "_model_module": "@jupyter-widgets/controls",
            "_model_module_version": "1.5.0",
            "_model_name": "VBoxModel",
            "_view_count": null,
            "_view_module": "@jupyter-widgets/controls",
            "_view_module_version": "1.5.0",
            "_view_name": "VBoxView",
            "box_style": "",
            "children": [
              "IPY_MODEL_f2abad8f558945e784e5cdeb5b4932e4",
              "IPY_MODEL_89d491bd3740482a9f668ee43af181e1"
            ],
            "layout": "IPY_MODEL_c70be0bb933d4767a80d9a88ba574dcc"
          }
        },
        "f2abad8f558945e784e5cdeb5b4932e4": {
          "model_module": "@jupyter-widgets/controls",
          "model_name": "LabelModel",
          "model_module_version": "1.5.0",
          "state": {
            "_dom_classes": [],
            "_model_module": "@jupyter-widgets/controls",
            "_model_module_version": "1.5.0",
            "_model_name": "LabelModel",
            "_view_count": null,
            "_view_module": "@jupyter-widgets/controls",
            "_view_module_version": "1.5.0",
            "_view_name": "LabelView",
            "description": "",
            "description_tooltip": null,
            "layout": "IPY_MODEL_fe88a5574d44499b8e86aeb736b07d6e",
            "placeholder": "​",
            "style": "IPY_MODEL_db06a036d6af4e7a83b916ea909367ae",
            "value": "84.921 MB of 84.921 MB uploaded (0.000 MB deduped)\r"
          }
        },
        "89d491bd3740482a9f668ee43af181e1": {
          "model_module": "@jupyter-widgets/controls",
          "model_name": "FloatProgressModel",
          "model_module_version": "1.5.0",
          "state": {
            "_dom_classes": [],
            "_model_module": "@jupyter-widgets/controls",
            "_model_module_version": "1.5.0",
            "_model_name": "FloatProgressModel",
            "_view_count": null,
            "_view_module": "@jupyter-widgets/controls",
            "_view_module_version": "1.5.0",
            "_view_name": "ProgressView",
            "bar_style": "",
            "description": "",
            "description_tooltip": null,
            "layout": "IPY_MODEL_5dcb06ceed1246b59df2d40dd02460b2",
            "max": 1,
            "min": 0,
            "orientation": "horizontal",
            "style": "IPY_MODEL_04090fcfaa794fb88da77c110762b556",
            "value": 1
          }
        },
        "c70be0bb933d4767a80d9a88ba574dcc": {
          "model_module": "@jupyter-widgets/base",
          "model_name": "LayoutModel",
          "model_module_version": "1.2.0",
          "state": {
            "_model_module": "@jupyter-widgets/base",
            "_model_module_version": "1.2.0",
            "_model_name": "LayoutModel",
            "_view_count": null,
            "_view_module": "@jupyter-widgets/base",
            "_view_module_version": "1.2.0",
            "_view_name": "LayoutView",
            "align_content": null,
            "align_items": null,
            "align_self": null,
            "border": null,
            "bottom": null,
            "display": null,
            "flex": null,
            "flex_flow": null,
            "grid_area": null,
            "grid_auto_columns": null,
            "grid_auto_flow": null,
            "grid_auto_rows": null,
            "grid_column": null,
            "grid_gap": null,
            "grid_row": null,
            "grid_template_areas": null,
            "grid_template_columns": null,
            "grid_template_rows": null,
            "height": null,
            "justify_content": null,
            "justify_items": null,
            "left": null,
            "margin": null,
            "max_height": null,
            "max_width": null,
            "min_height": null,
            "min_width": null,
            "object_fit": null,
            "object_position": null,
            "order": null,
            "overflow": null,
            "overflow_x": null,
            "overflow_y": null,
            "padding": null,
            "right": null,
            "top": null,
            "visibility": null,
            "width": null
          }
        },
        "fe88a5574d44499b8e86aeb736b07d6e": {
          "model_module": "@jupyter-widgets/base",
          "model_name": "LayoutModel",
          "model_module_version": "1.2.0",
          "state": {
            "_model_module": "@jupyter-widgets/base",
            "_model_module_version": "1.2.0",
            "_model_name": "LayoutModel",
            "_view_count": null,
            "_view_module": "@jupyter-widgets/base",
            "_view_module_version": "1.2.0",
            "_view_name": "LayoutView",
            "align_content": null,
            "align_items": null,
            "align_self": null,
            "border": null,
            "bottom": null,
            "display": null,
            "flex": null,
            "flex_flow": null,
            "grid_area": null,
            "grid_auto_columns": null,
            "grid_auto_flow": null,
            "grid_auto_rows": null,
            "grid_column": null,
            "grid_gap": null,
            "grid_row": null,
            "grid_template_areas": null,
            "grid_template_columns": null,
            "grid_template_rows": null,
            "height": null,
            "justify_content": null,
            "justify_items": null,
            "left": null,
            "margin": null,
            "max_height": null,
            "max_width": null,
            "min_height": null,
            "min_width": null,
            "object_fit": null,
            "object_position": null,
            "order": null,
            "overflow": null,
            "overflow_x": null,
            "overflow_y": null,
            "padding": null,
            "right": null,
            "top": null,
            "visibility": null,
            "width": null
          }
        },
        "db06a036d6af4e7a83b916ea909367ae": {
          "model_module": "@jupyter-widgets/controls",
          "model_name": "DescriptionStyleModel",
          "model_module_version": "1.5.0",
          "state": {
            "_model_module": "@jupyter-widgets/controls",
            "_model_module_version": "1.5.0",
            "_model_name": "DescriptionStyleModel",
            "_view_count": null,
            "_view_module": "@jupyter-widgets/base",
            "_view_module_version": "1.2.0",
            "_view_name": "StyleView",
            "description_width": ""
          }
        },
        "5dcb06ceed1246b59df2d40dd02460b2": {
          "model_module": "@jupyter-widgets/base",
          "model_name": "LayoutModel",
          "model_module_version": "1.2.0",
          "state": {
            "_model_module": "@jupyter-widgets/base",
            "_model_module_version": "1.2.0",
            "_model_name": "LayoutModel",
            "_view_count": null,
            "_view_module": "@jupyter-widgets/base",
            "_view_module_version": "1.2.0",
            "_view_name": "LayoutView",
            "align_content": null,
            "align_items": null,
            "align_self": null,
            "border": null,
            "bottom": null,
            "display": null,
            "flex": null,
            "flex_flow": null,
            "grid_area": null,
            "grid_auto_columns": null,
            "grid_auto_flow": null,
            "grid_auto_rows": null,
            "grid_column": null,
            "grid_gap": null,
            "grid_row": null,
            "grid_template_areas": null,
            "grid_template_columns": null,
            "grid_template_rows": null,
            "height": null,
            "justify_content": null,
            "justify_items": null,
            "left": null,
            "margin": null,
            "max_height": null,
            "max_width": null,
            "min_height": null,
            "min_width": null,
            "object_fit": null,
            "object_position": null,
            "order": null,
            "overflow": null,
            "overflow_x": null,
            "overflow_y": null,
            "padding": null,
            "right": null,
            "top": null,
            "visibility": null,
            "width": null
          }
        },
        "04090fcfaa794fb88da77c110762b556": {
          "model_module": "@jupyter-widgets/controls",
          "model_name": "ProgressStyleModel",
          "model_module_version": "1.5.0",
          "state": {
            "_model_module": "@jupyter-widgets/controls",
            "_model_module_version": "1.5.0",
            "_model_name": "ProgressStyleModel",
            "_view_count": null,
            "_view_module": "@jupyter-widgets/base",
            "_view_module_version": "1.2.0",
            "_view_name": "StyleView",
            "bar_color": null,
            "description_width": ""
          }
        },
        "30c0f886f6ff4702b37e4cdd98bc415a": {
          "model_module": "@jupyter-widgets/controls",
          "model_name": "VBoxModel",
          "model_module_version": "1.5.0",
          "state": {
            "_dom_classes": [],
            "_model_module": "@jupyter-widgets/controls",
            "_model_module_version": "1.5.0",
            "_model_name": "VBoxModel",
            "_view_count": null,
            "_view_module": "@jupyter-widgets/controls",
            "_view_module_version": "1.5.0",
            "_view_name": "VBoxView",
            "box_style": "",
            "children": [
              "IPY_MODEL_c98b29fa757940eab8c4f6d17b93078c",
              "IPY_MODEL_688ff065b85340cfb26d9d055645201f"
            ],
            "layout": "IPY_MODEL_6300e8df69d24d8ba391062a016927b2"
          }
        },
        "c98b29fa757940eab8c4f6d17b93078c": {
          "model_module": "@jupyter-widgets/controls",
          "model_name": "LabelModel",
          "model_module_version": "1.5.0",
          "state": {
            "_dom_classes": [],
            "_model_module": "@jupyter-widgets/controls",
            "_model_module_version": "1.5.0",
            "_model_name": "LabelModel",
            "_view_count": null,
            "_view_module": "@jupyter-widgets/controls",
            "_view_module_version": "1.5.0",
            "_view_name": "LabelView",
            "description": "",
            "description_tooltip": null,
            "layout": "IPY_MODEL_1ec06e8f185d4ba5b4366fa78ca502a9",
            "placeholder": "​",
            "style": "IPY_MODEL_7ac46c4259f648d585c314575a62b637",
            "value": "2.654 MB of 2.654 MB uploaded (0.000 MB deduped)\r"
          }
        },
        "688ff065b85340cfb26d9d055645201f": {
          "model_module": "@jupyter-widgets/controls",
          "model_name": "FloatProgressModel",
          "model_module_version": "1.5.0",
          "state": {
            "_dom_classes": [],
            "_model_module": "@jupyter-widgets/controls",
            "_model_module_version": "1.5.0",
            "_model_name": "FloatProgressModel",
            "_view_count": null,
            "_view_module": "@jupyter-widgets/controls",
            "_view_module_version": "1.5.0",
            "_view_name": "ProgressView",
            "bar_style": "",
            "description": "",
            "description_tooltip": null,
            "layout": "IPY_MODEL_eda55105b3304bf8987307b273a22537",
            "max": 1,
            "min": 0,
            "orientation": "horizontal",
            "style": "IPY_MODEL_43ae1280a21947bd890f6797eeeb4415",
            "value": 1
          }
        },
        "6300e8df69d24d8ba391062a016927b2": {
          "model_module": "@jupyter-widgets/base",
          "model_name": "LayoutModel",
          "model_module_version": "1.2.0",
          "state": {
            "_model_module": "@jupyter-widgets/base",
            "_model_module_version": "1.2.0",
            "_model_name": "LayoutModel",
            "_view_count": null,
            "_view_module": "@jupyter-widgets/base",
            "_view_module_version": "1.2.0",
            "_view_name": "LayoutView",
            "align_content": null,
            "align_items": null,
            "align_self": null,
            "border": null,
            "bottom": null,
            "display": null,
            "flex": null,
            "flex_flow": null,
            "grid_area": null,
            "grid_auto_columns": null,
            "grid_auto_flow": null,
            "grid_auto_rows": null,
            "grid_column": null,
            "grid_gap": null,
            "grid_row": null,
            "grid_template_areas": null,
            "grid_template_columns": null,
            "grid_template_rows": null,
            "height": null,
            "justify_content": null,
            "justify_items": null,
            "left": null,
            "margin": null,
            "max_height": null,
            "max_width": null,
            "min_height": null,
            "min_width": null,
            "object_fit": null,
            "object_position": null,
            "order": null,
            "overflow": null,
            "overflow_x": null,
            "overflow_y": null,
            "padding": null,
            "right": null,
            "top": null,
            "visibility": null,
            "width": null
          }
        },
        "1ec06e8f185d4ba5b4366fa78ca502a9": {
          "model_module": "@jupyter-widgets/base",
          "model_name": "LayoutModel",
          "model_module_version": "1.2.0",
          "state": {
            "_model_module": "@jupyter-widgets/base",
            "_model_module_version": "1.2.0",
            "_model_name": "LayoutModel",
            "_view_count": null,
            "_view_module": "@jupyter-widgets/base",
            "_view_module_version": "1.2.0",
            "_view_name": "LayoutView",
            "align_content": null,
            "align_items": null,
            "align_self": null,
            "border": null,
            "bottom": null,
            "display": null,
            "flex": null,
            "flex_flow": null,
            "grid_area": null,
            "grid_auto_columns": null,
            "grid_auto_flow": null,
            "grid_auto_rows": null,
            "grid_column": null,
            "grid_gap": null,
            "grid_row": null,
            "grid_template_areas": null,
            "grid_template_columns": null,
            "grid_template_rows": null,
            "height": null,
            "justify_content": null,
            "justify_items": null,
            "left": null,
            "margin": null,
            "max_height": null,
            "max_width": null,
            "min_height": null,
            "min_width": null,
            "object_fit": null,
            "object_position": null,
            "order": null,
            "overflow": null,
            "overflow_x": null,
            "overflow_y": null,
            "padding": null,
            "right": null,
            "top": null,
            "visibility": null,
            "width": null
          }
        },
        "7ac46c4259f648d585c314575a62b637": {
          "model_module": "@jupyter-widgets/controls",
          "model_name": "DescriptionStyleModel",
          "model_module_version": "1.5.0",
          "state": {
            "_model_module": "@jupyter-widgets/controls",
            "_model_module_version": "1.5.0",
            "_model_name": "DescriptionStyleModel",
            "_view_count": null,
            "_view_module": "@jupyter-widgets/base",
            "_view_module_version": "1.2.0",
            "_view_name": "StyleView",
            "description_width": ""
          }
        },
        "eda55105b3304bf8987307b273a22537": {
          "model_module": "@jupyter-widgets/base",
          "model_name": "LayoutModel",
          "model_module_version": "1.2.0",
          "state": {
            "_model_module": "@jupyter-widgets/base",
            "_model_module_version": "1.2.0",
            "_model_name": "LayoutModel",
            "_view_count": null,
            "_view_module": "@jupyter-widgets/base",
            "_view_module_version": "1.2.0",
            "_view_name": "LayoutView",
            "align_content": null,
            "align_items": null,
            "align_self": null,
            "border": null,
            "bottom": null,
            "display": null,
            "flex": null,
            "flex_flow": null,
            "grid_area": null,
            "grid_auto_columns": null,
            "grid_auto_flow": null,
            "grid_auto_rows": null,
            "grid_column": null,
            "grid_gap": null,
            "grid_row": null,
            "grid_template_areas": null,
            "grid_template_columns": null,
            "grid_template_rows": null,
            "height": null,
            "justify_content": null,
            "justify_items": null,
            "left": null,
            "margin": null,
            "max_height": null,
            "max_width": null,
            "min_height": null,
            "min_width": null,
            "object_fit": null,
            "object_position": null,
            "order": null,
            "overflow": null,
            "overflow_x": null,
            "overflow_y": null,
            "padding": null,
            "right": null,
            "top": null,
            "visibility": null,
            "width": null
          }
        },
        "43ae1280a21947bd890f6797eeeb4415": {
          "model_module": "@jupyter-widgets/controls",
          "model_name": "ProgressStyleModel",
          "model_module_version": "1.5.0",
          "state": {
            "_model_module": "@jupyter-widgets/controls",
            "_model_module_version": "1.5.0",
            "_model_name": "ProgressStyleModel",
            "_view_count": null,
            "_view_module": "@jupyter-widgets/base",
            "_view_module_version": "1.2.0",
            "_view_name": "StyleView",
            "bar_color": null,
            "description_width": ""
          }
        },
        "492677072ca944c29b64d9343c6cdacc": {
          "model_module": "@jupyter-widgets/controls",
          "model_name": "VBoxModel",
          "model_module_version": "1.5.0",
          "state": {
            "_dom_classes": [],
            "_model_module": "@jupyter-widgets/controls",
            "_model_module_version": "1.5.0",
            "_model_name": "VBoxModel",
            "_view_count": null,
            "_view_module": "@jupyter-widgets/controls",
            "_view_module_version": "1.5.0",
            "_view_name": "VBoxView",
            "box_style": "",
            "children": [
              "IPY_MODEL_0c6d944fb9d44253b0e1c6ff3d66d542",
              "IPY_MODEL_0939ce02dc394c659989242e4ce68d09"
            ],
            "layout": "IPY_MODEL_4aa9cd72cdd24125ad76da1eac544f2d"
          }
        },
        "0c6d944fb9d44253b0e1c6ff3d66d542": {
          "model_module": "@jupyter-widgets/controls",
          "model_name": "LabelModel",
          "model_module_version": "1.5.0",
          "state": {
            "_dom_classes": [],
            "_model_module": "@jupyter-widgets/controls",
            "_model_module_version": "1.5.0",
            "_model_name": "LabelModel",
            "_view_count": null,
            "_view_module": "@jupyter-widgets/controls",
            "_view_module_version": "1.5.0",
            "_view_name": "LabelView",
            "description": "",
            "description_tooltip": null,
            "layout": "IPY_MODEL_0f541f249c594fc7a4245999caf1b9fc",
            "placeholder": "​",
            "style": "IPY_MODEL_101ecc51bcdf43ce8e17451decd85b12",
            "value": "19.030 MB of 19.030 MB uploaded (0.000 MB deduped)\r"
          }
        },
        "0939ce02dc394c659989242e4ce68d09": {
          "model_module": "@jupyter-widgets/controls",
          "model_name": "FloatProgressModel",
          "model_module_version": "1.5.0",
          "state": {
            "_dom_classes": [],
            "_model_module": "@jupyter-widgets/controls",
            "_model_module_version": "1.5.0",
            "_model_name": "FloatProgressModel",
            "_view_count": null,
            "_view_module": "@jupyter-widgets/controls",
            "_view_module_version": "1.5.0",
            "_view_name": "ProgressView",
            "bar_style": "",
            "description": "",
            "description_tooltip": null,
            "layout": "IPY_MODEL_0630e663d013454fae2820e7837b9dd2",
            "max": 1,
            "min": 0,
            "orientation": "horizontal",
            "style": "IPY_MODEL_7e2520d28e764de0a49c05cb73a5f4c1",
            "value": 1
          }
        },
        "4aa9cd72cdd24125ad76da1eac544f2d": {
          "model_module": "@jupyter-widgets/base",
          "model_name": "LayoutModel",
          "model_module_version": "1.2.0",
          "state": {
            "_model_module": "@jupyter-widgets/base",
            "_model_module_version": "1.2.0",
            "_model_name": "LayoutModel",
            "_view_count": null,
            "_view_module": "@jupyter-widgets/base",
            "_view_module_version": "1.2.0",
            "_view_name": "LayoutView",
            "align_content": null,
            "align_items": null,
            "align_self": null,
            "border": null,
            "bottom": null,
            "display": null,
            "flex": null,
            "flex_flow": null,
            "grid_area": null,
            "grid_auto_columns": null,
            "grid_auto_flow": null,
            "grid_auto_rows": null,
            "grid_column": null,
            "grid_gap": null,
            "grid_row": null,
            "grid_template_areas": null,
            "grid_template_columns": null,
            "grid_template_rows": null,
            "height": null,
            "justify_content": null,
            "justify_items": null,
            "left": null,
            "margin": null,
            "max_height": null,
            "max_width": null,
            "min_height": null,
            "min_width": null,
            "object_fit": null,
            "object_position": null,
            "order": null,
            "overflow": null,
            "overflow_x": null,
            "overflow_y": null,
            "padding": null,
            "right": null,
            "top": null,
            "visibility": null,
            "width": null
          }
        },
        "0f541f249c594fc7a4245999caf1b9fc": {
          "model_module": "@jupyter-widgets/base",
          "model_name": "LayoutModel",
          "model_module_version": "1.2.0",
          "state": {
            "_model_module": "@jupyter-widgets/base",
            "_model_module_version": "1.2.0",
            "_model_name": "LayoutModel",
            "_view_count": null,
            "_view_module": "@jupyter-widgets/base",
            "_view_module_version": "1.2.0",
            "_view_name": "LayoutView",
            "align_content": null,
            "align_items": null,
            "align_self": null,
            "border": null,
            "bottom": null,
            "display": null,
            "flex": null,
            "flex_flow": null,
            "grid_area": null,
            "grid_auto_columns": null,
            "grid_auto_flow": null,
            "grid_auto_rows": null,
            "grid_column": null,
            "grid_gap": null,
            "grid_row": null,
            "grid_template_areas": null,
            "grid_template_columns": null,
            "grid_template_rows": null,
            "height": null,
            "justify_content": null,
            "justify_items": null,
            "left": null,
            "margin": null,
            "max_height": null,
            "max_width": null,
            "min_height": null,
            "min_width": null,
            "object_fit": null,
            "object_position": null,
            "order": null,
            "overflow": null,
            "overflow_x": null,
            "overflow_y": null,
            "padding": null,
            "right": null,
            "top": null,
            "visibility": null,
            "width": null
          }
        },
        "101ecc51bcdf43ce8e17451decd85b12": {
          "model_module": "@jupyter-widgets/controls",
          "model_name": "DescriptionStyleModel",
          "model_module_version": "1.5.0",
          "state": {
            "_model_module": "@jupyter-widgets/controls",
            "_model_module_version": "1.5.0",
            "_model_name": "DescriptionStyleModel",
            "_view_count": null,
            "_view_module": "@jupyter-widgets/base",
            "_view_module_version": "1.2.0",
            "_view_name": "StyleView",
            "description_width": ""
          }
        },
        "0630e663d013454fae2820e7837b9dd2": {
          "model_module": "@jupyter-widgets/base",
          "model_name": "LayoutModel",
          "model_module_version": "1.2.0",
          "state": {
            "_model_module": "@jupyter-widgets/base",
            "_model_module_version": "1.2.0",
            "_model_name": "LayoutModel",
            "_view_count": null,
            "_view_module": "@jupyter-widgets/base",
            "_view_module_version": "1.2.0",
            "_view_name": "LayoutView",
            "align_content": null,
            "align_items": null,
            "align_self": null,
            "border": null,
            "bottom": null,
            "display": null,
            "flex": null,
            "flex_flow": null,
            "grid_area": null,
            "grid_auto_columns": null,
            "grid_auto_flow": null,
            "grid_auto_rows": null,
            "grid_column": null,
            "grid_gap": null,
            "grid_row": null,
            "grid_template_areas": null,
            "grid_template_columns": null,
            "grid_template_rows": null,
            "height": null,
            "justify_content": null,
            "justify_items": null,
            "left": null,
            "margin": null,
            "max_height": null,
            "max_width": null,
            "min_height": null,
            "min_width": null,
            "object_fit": null,
            "object_position": null,
            "order": null,
            "overflow": null,
            "overflow_x": null,
            "overflow_y": null,
            "padding": null,
            "right": null,
            "top": null,
            "visibility": null,
            "width": null
          }
        },
        "7e2520d28e764de0a49c05cb73a5f4c1": {
          "model_module": "@jupyter-widgets/controls",
          "model_name": "ProgressStyleModel",
          "model_module_version": "1.5.0",
          "state": {
            "_model_module": "@jupyter-widgets/controls",
            "_model_module_version": "1.5.0",
            "_model_name": "ProgressStyleModel",
            "_view_count": null,
            "_view_module": "@jupyter-widgets/base",
            "_view_module_version": "1.2.0",
            "_view_name": "StyleView",
            "bar_color": null,
            "description_width": ""
          }
        },
        "c47daa67a3e54df7ac3c99d2a66ba015": {
          "model_module": "@jupyter-widgets/controls",
          "model_name": "VBoxModel",
          "model_module_version": "1.5.0",
          "state": {
            "_dom_classes": [],
            "_model_module": "@jupyter-widgets/controls",
            "_model_module_version": "1.5.0",
            "_model_name": "VBoxModel",
            "_view_count": null,
            "_view_module": "@jupyter-widgets/controls",
            "_view_module_version": "1.5.0",
            "_view_name": "VBoxView",
            "box_style": "",
            "children": [
              "IPY_MODEL_08c7bd573b344382bef1536735bfacf1",
              "IPY_MODEL_966e565fba2a47409697deb23ab875d9"
            ],
            "layout": "IPY_MODEL_5cea2706174d4df59133c3f28a39349b"
          }
        },
        "08c7bd573b344382bef1536735bfacf1": {
          "model_module": "@jupyter-widgets/controls",
          "model_name": "LabelModel",
          "model_module_version": "1.5.0",
          "state": {
            "_dom_classes": [],
            "_model_module": "@jupyter-widgets/controls",
            "_model_module_version": "1.5.0",
            "_model_name": "LabelModel",
            "_view_count": null,
            "_view_module": "@jupyter-widgets/controls",
            "_view_module_version": "1.5.0",
            "_view_name": "LabelView",
            "description": "",
            "description_tooltip": null,
            "layout": "IPY_MODEL_ef7f85862dbd43eb8e4544ff7d903e27",
            "placeholder": "​",
            "style": "IPY_MODEL_12cde88587624ff0b5aff188a23e7b8e",
            "value": "4.912 MB of 4.912 MB uploaded (0.000 MB deduped)\r"
          }
        },
        "966e565fba2a47409697deb23ab875d9": {
          "model_module": "@jupyter-widgets/controls",
          "model_name": "FloatProgressModel",
          "model_module_version": "1.5.0",
          "state": {
            "_dom_classes": [],
            "_model_module": "@jupyter-widgets/controls",
            "_model_module_version": "1.5.0",
            "_model_name": "FloatProgressModel",
            "_view_count": null,
            "_view_module": "@jupyter-widgets/controls",
            "_view_module_version": "1.5.0",
            "_view_name": "ProgressView",
            "bar_style": "",
            "description": "",
            "description_tooltip": null,
            "layout": "IPY_MODEL_24c5e09b0ec74ae9bb8a943a6faea63f",
            "max": 1,
            "min": 0,
            "orientation": "horizontal",
            "style": "IPY_MODEL_2cc805b1c3094b07aa4516d54dc589f5",
            "value": 1
          }
        },
        "5cea2706174d4df59133c3f28a39349b": {
          "model_module": "@jupyter-widgets/base",
          "model_name": "LayoutModel",
          "model_module_version": "1.2.0",
          "state": {
            "_model_module": "@jupyter-widgets/base",
            "_model_module_version": "1.2.0",
            "_model_name": "LayoutModel",
            "_view_count": null,
            "_view_module": "@jupyter-widgets/base",
            "_view_module_version": "1.2.0",
            "_view_name": "LayoutView",
            "align_content": null,
            "align_items": null,
            "align_self": null,
            "border": null,
            "bottom": null,
            "display": null,
            "flex": null,
            "flex_flow": null,
            "grid_area": null,
            "grid_auto_columns": null,
            "grid_auto_flow": null,
            "grid_auto_rows": null,
            "grid_column": null,
            "grid_gap": null,
            "grid_row": null,
            "grid_template_areas": null,
            "grid_template_columns": null,
            "grid_template_rows": null,
            "height": null,
            "justify_content": null,
            "justify_items": null,
            "left": null,
            "margin": null,
            "max_height": null,
            "max_width": null,
            "min_height": null,
            "min_width": null,
            "object_fit": null,
            "object_position": null,
            "order": null,
            "overflow": null,
            "overflow_x": null,
            "overflow_y": null,
            "padding": null,
            "right": null,
            "top": null,
            "visibility": null,
            "width": null
          }
        },
        "ef7f85862dbd43eb8e4544ff7d903e27": {
          "model_module": "@jupyter-widgets/base",
          "model_name": "LayoutModel",
          "model_module_version": "1.2.0",
          "state": {
            "_model_module": "@jupyter-widgets/base",
            "_model_module_version": "1.2.0",
            "_model_name": "LayoutModel",
            "_view_count": null,
            "_view_module": "@jupyter-widgets/base",
            "_view_module_version": "1.2.0",
            "_view_name": "LayoutView",
            "align_content": null,
            "align_items": null,
            "align_self": null,
            "border": null,
            "bottom": null,
            "display": null,
            "flex": null,
            "flex_flow": null,
            "grid_area": null,
            "grid_auto_columns": null,
            "grid_auto_flow": null,
            "grid_auto_rows": null,
            "grid_column": null,
            "grid_gap": null,
            "grid_row": null,
            "grid_template_areas": null,
            "grid_template_columns": null,
            "grid_template_rows": null,
            "height": null,
            "justify_content": null,
            "justify_items": null,
            "left": null,
            "margin": null,
            "max_height": null,
            "max_width": null,
            "min_height": null,
            "min_width": null,
            "object_fit": null,
            "object_position": null,
            "order": null,
            "overflow": null,
            "overflow_x": null,
            "overflow_y": null,
            "padding": null,
            "right": null,
            "top": null,
            "visibility": null,
            "width": null
          }
        },
        "12cde88587624ff0b5aff188a23e7b8e": {
          "model_module": "@jupyter-widgets/controls",
          "model_name": "DescriptionStyleModel",
          "model_module_version": "1.5.0",
          "state": {
            "_model_module": "@jupyter-widgets/controls",
            "_model_module_version": "1.5.0",
            "_model_name": "DescriptionStyleModel",
            "_view_count": null,
            "_view_module": "@jupyter-widgets/base",
            "_view_module_version": "1.2.0",
            "_view_name": "StyleView",
            "description_width": ""
          }
        },
        "24c5e09b0ec74ae9bb8a943a6faea63f": {
          "model_module": "@jupyter-widgets/base",
          "model_name": "LayoutModel",
          "model_module_version": "1.2.0",
          "state": {
            "_model_module": "@jupyter-widgets/base",
            "_model_module_version": "1.2.0",
            "_model_name": "LayoutModel",
            "_view_count": null,
            "_view_module": "@jupyter-widgets/base",
            "_view_module_version": "1.2.0",
            "_view_name": "LayoutView",
            "align_content": null,
            "align_items": null,
            "align_self": null,
            "border": null,
            "bottom": null,
            "display": null,
            "flex": null,
            "flex_flow": null,
            "grid_area": null,
            "grid_auto_columns": null,
            "grid_auto_flow": null,
            "grid_auto_rows": null,
            "grid_column": null,
            "grid_gap": null,
            "grid_row": null,
            "grid_template_areas": null,
            "grid_template_columns": null,
            "grid_template_rows": null,
            "height": null,
            "justify_content": null,
            "justify_items": null,
            "left": null,
            "margin": null,
            "max_height": null,
            "max_width": null,
            "min_height": null,
            "min_width": null,
            "object_fit": null,
            "object_position": null,
            "order": null,
            "overflow": null,
            "overflow_x": null,
            "overflow_y": null,
            "padding": null,
            "right": null,
            "top": null,
            "visibility": null,
            "width": null
          }
        },
        "2cc805b1c3094b07aa4516d54dc589f5": {
          "model_module": "@jupyter-widgets/controls",
          "model_name": "ProgressStyleModel",
          "model_module_version": "1.5.0",
          "state": {
            "_model_module": "@jupyter-widgets/controls",
            "_model_module_version": "1.5.0",
            "_model_name": "ProgressStyleModel",
            "_view_count": null,
            "_view_module": "@jupyter-widgets/base",
            "_view_module_version": "1.2.0",
            "_view_name": "StyleView",
            "bar_color": null,
            "description_width": ""
          }
        },
        "5b03e49d38ab45e7a0907cdf02dbc1e0": {
          "model_module": "@jupyter-widgets/controls",
          "model_name": "VBoxModel",
          "model_module_version": "1.5.0",
          "state": {
            "_dom_classes": [],
            "_model_module": "@jupyter-widgets/controls",
            "_model_module_version": "1.5.0",
            "_model_name": "VBoxModel",
            "_view_count": null,
            "_view_module": "@jupyter-widgets/controls",
            "_view_module_version": "1.5.0",
            "_view_name": "VBoxView",
            "box_style": "",
            "children": [
              "IPY_MODEL_7bc79d089c294ec89dbda51595e4b5d5",
              "IPY_MODEL_47647220792e4b7d96bfc7823f0b2749"
            ],
            "layout": "IPY_MODEL_4bc4b23e0e7348c8bdecfb218420e792"
          }
        },
        "7bc79d089c294ec89dbda51595e4b5d5": {
          "model_module": "@jupyter-widgets/controls",
          "model_name": "LabelModel",
          "model_module_version": "1.5.0",
          "state": {
            "_dom_classes": [],
            "_model_module": "@jupyter-widgets/controls",
            "_model_module_version": "1.5.0",
            "_model_name": "LabelModel",
            "_view_count": null,
            "_view_module": "@jupyter-widgets/controls",
            "_view_module_version": "1.5.0",
            "_view_name": "LabelView",
            "description": "",
            "description_tooltip": null,
            "layout": "IPY_MODEL_9ef46fb3e6e6477aa9fae86397632481",
            "placeholder": "​",
            "style": "IPY_MODEL_e515ac178fdb498094860da2fceca4ba",
            "value": "1.451 MB of 1.451 MB uploaded (0.000 MB deduped)\r"
          }
        },
        "47647220792e4b7d96bfc7823f0b2749": {
          "model_module": "@jupyter-widgets/controls",
          "model_name": "FloatProgressModel",
          "model_module_version": "1.5.0",
          "state": {
            "_dom_classes": [],
            "_model_module": "@jupyter-widgets/controls",
            "_model_module_version": "1.5.0",
            "_model_name": "FloatProgressModel",
            "_view_count": null,
            "_view_module": "@jupyter-widgets/controls",
            "_view_module_version": "1.5.0",
            "_view_name": "ProgressView",
            "bar_style": "",
            "description": "",
            "description_tooltip": null,
            "layout": "IPY_MODEL_be861f8516284b818970b11fc28ca199",
            "max": 1,
            "min": 0,
            "orientation": "horizontal",
            "style": "IPY_MODEL_5f02f343191b4cf6a2a7752fc5514fd5",
            "value": 1
          }
        },
        "4bc4b23e0e7348c8bdecfb218420e792": {
          "model_module": "@jupyter-widgets/base",
          "model_name": "LayoutModel",
          "model_module_version": "1.2.0",
          "state": {
            "_model_module": "@jupyter-widgets/base",
            "_model_module_version": "1.2.0",
            "_model_name": "LayoutModel",
            "_view_count": null,
            "_view_module": "@jupyter-widgets/base",
            "_view_module_version": "1.2.0",
            "_view_name": "LayoutView",
            "align_content": null,
            "align_items": null,
            "align_self": null,
            "border": null,
            "bottom": null,
            "display": null,
            "flex": null,
            "flex_flow": null,
            "grid_area": null,
            "grid_auto_columns": null,
            "grid_auto_flow": null,
            "grid_auto_rows": null,
            "grid_column": null,
            "grid_gap": null,
            "grid_row": null,
            "grid_template_areas": null,
            "grid_template_columns": null,
            "grid_template_rows": null,
            "height": null,
            "justify_content": null,
            "justify_items": null,
            "left": null,
            "margin": null,
            "max_height": null,
            "max_width": null,
            "min_height": null,
            "min_width": null,
            "object_fit": null,
            "object_position": null,
            "order": null,
            "overflow": null,
            "overflow_x": null,
            "overflow_y": null,
            "padding": null,
            "right": null,
            "top": null,
            "visibility": null,
            "width": null
          }
        },
        "9ef46fb3e6e6477aa9fae86397632481": {
          "model_module": "@jupyter-widgets/base",
          "model_name": "LayoutModel",
          "model_module_version": "1.2.0",
          "state": {
            "_model_module": "@jupyter-widgets/base",
            "_model_module_version": "1.2.0",
            "_model_name": "LayoutModel",
            "_view_count": null,
            "_view_module": "@jupyter-widgets/base",
            "_view_module_version": "1.2.0",
            "_view_name": "LayoutView",
            "align_content": null,
            "align_items": null,
            "align_self": null,
            "border": null,
            "bottom": null,
            "display": null,
            "flex": null,
            "flex_flow": null,
            "grid_area": null,
            "grid_auto_columns": null,
            "grid_auto_flow": null,
            "grid_auto_rows": null,
            "grid_column": null,
            "grid_gap": null,
            "grid_row": null,
            "grid_template_areas": null,
            "grid_template_columns": null,
            "grid_template_rows": null,
            "height": null,
            "justify_content": null,
            "justify_items": null,
            "left": null,
            "margin": null,
            "max_height": null,
            "max_width": null,
            "min_height": null,
            "min_width": null,
            "object_fit": null,
            "object_position": null,
            "order": null,
            "overflow": null,
            "overflow_x": null,
            "overflow_y": null,
            "padding": null,
            "right": null,
            "top": null,
            "visibility": null,
            "width": null
          }
        },
        "e515ac178fdb498094860da2fceca4ba": {
          "model_module": "@jupyter-widgets/controls",
          "model_name": "DescriptionStyleModel",
          "model_module_version": "1.5.0",
          "state": {
            "_model_module": "@jupyter-widgets/controls",
            "_model_module_version": "1.5.0",
            "_model_name": "DescriptionStyleModel",
            "_view_count": null,
            "_view_module": "@jupyter-widgets/base",
            "_view_module_version": "1.2.0",
            "_view_name": "StyleView",
            "description_width": ""
          }
        },
        "be861f8516284b818970b11fc28ca199": {
          "model_module": "@jupyter-widgets/base",
          "model_name": "LayoutModel",
          "model_module_version": "1.2.0",
          "state": {
            "_model_module": "@jupyter-widgets/base",
            "_model_module_version": "1.2.0",
            "_model_name": "LayoutModel",
            "_view_count": null,
            "_view_module": "@jupyter-widgets/base",
            "_view_module_version": "1.2.0",
            "_view_name": "LayoutView",
            "align_content": null,
            "align_items": null,
            "align_self": null,
            "border": null,
            "bottom": null,
            "display": null,
            "flex": null,
            "flex_flow": null,
            "grid_area": null,
            "grid_auto_columns": null,
            "grid_auto_flow": null,
            "grid_auto_rows": null,
            "grid_column": null,
            "grid_gap": null,
            "grid_row": null,
            "grid_template_areas": null,
            "grid_template_columns": null,
            "grid_template_rows": null,
            "height": null,
            "justify_content": null,
            "justify_items": null,
            "left": null,
            "margin": null,
            "max_height": null,
            "max_width": null,
            "min_height": null,
            "min_width": null,
            "object_fit": null,
            "object_position": null,
            "order": null,
            "overflow": null,
            "overflow_x": null,
            "overflow_y": null,
            "padding": null,
            "right": null,
            "top": null,
            "visibility": null,
            "width": null
          }
        },
        "5f02f343191b4cf6a2a7752fc5514fd5": {
          "model_module": "@jupyter-widgets/controls",
          "model_name": "ProgressStyleModel",
          "model_module_version": "1.5.0",
          "state": {
            "_model_module": "@jupyter-widgets/controls",
            "_model_module_version": "1.5.0",
            "_model_name": "ProgressStyleModel",
            "_view_count": null,
            "_view_module": "@jupyter-widgets/base",
            "_view_module_version": "1.2.0",
            "_view_name": "StyleView",
            "bar_color": null,
            "description_width": ""
          }
        },
        "2b64c75875404b1db2c4233a7c96db02": {
          "model_module": "@jupyter-widgets/controls",
          "model_name": "VBoxModel",
          "model_module_version": "1.5.0",
          "state": {
            "_dom_classes": [],
            "_model_module": "@jupyter-widgets/controls",
            "_model_module_version": "1.5.0",
            "_model_name": "VBoxModel",
            "_view_count": null,
            "_view_module": "@jupyter-widgets/controls",
            "_view_module_version": "1.5.0",
            "_view_name": "VBoxView",
            "box_style": "",
            "children": [
              "IPY_MODEL_b6ea2be84e5f49f7880eb75a53f48580",
              "IPY_MODEL_98a9e719b9574807afa86487e0ea7e68"
            ],
            "layout": "IPY_MODEL_dcb70ab8b193476a9141175a0128bf6f"
          }
        },
        "b6ea2be84e5f49f7880eb75a53f48580": {
          "model_module": "@jupyter-widgets/controls",
          "model_name": "LabelModel",
          "model_module_version": "1.5.0",
          "state": {
            "_dom_classes": [],
            "_model_module": "@jupyter-widgets/controls",
            "_model_module_version": "1.5.0",
            "_model_name": "LabelModel",
            "_view_count": null,
            "_view_module": "@jupyter-widgets/controls",
            "_view_module_version": "1.5.0",
            "_view_name": "LabelView",
            "description": "",
            "description_tooltip": null,
            "layout": "IPY_MODEL_587a5d00c1884672b9807d139fcbebb1",
            "placeholder": "​",
            "style": "IPY_MODEL_25c0af1743424b719282f9d4a5dee0b3",
            "value": "14.059 MB of 14.059 MB uploaded (0.000 MB deduped)\r"
          }
        },
        "98a9e719b9574807afa86487e0ea7e68": {
          "model_module": "@jupyter-widgets/controls",
          "model_name": "FloatProgressModel",
          "model_module_version": "1.5.0",
          "state": {
            "_dom_classes": [],
            "_model_module": "@jupyter-widgets/controls",
            "_model_module_version": "1.5.0",
            "_model_name": "FloatProgressModel",
            "_view_count": null,
            "_view_module": "@jupyter-widgets/controls",
            "_view_module_version": "1.5.0",
            "_view_name": "ProgressView",
            "bar_style": "",
            "description": "",
            "description_tooltip": null,
            "layout": "IPY_MODEL_951f4c181e0a44879012234466ef324d",
            "max": 1,
            "min": 0,
            "orientation": "horizontal",
            "style": "IPY_MODEL_0736fb8a78334fe28f7b07f71e979dd5",
            "value": 1
          }
        },
        "dcb70ab8b193476a9141175a0128bf6f": {
          "model_module": "@jupyter-widgets/base",
          "model_name": "LayoutModel",
          "model_module_version": "1.2.0",
          "state": {
            "_model_module": "@jupyter-widgets/base",
            "_model_module_version": "1.2.0",
            "_model_name": "LayoutModel",
            "_view_count": null,
            "_view_module": "@jupyter-widgets/base",
            "_view_module_version": "1.2.0",
            "_view_name": "LayoutView",
            "align_content": null,
            "align_items": null,
            "align_self": null,
            "border": null,
            "bottom": null,
            "display": null,
            "flex": null,
            "flex_flow": null,
            "grid_area": null,
            "grid_auto_columns": null,
            "grid_auto_flow": null,
            "grid_auto_rows": null,
            "grid_column": null,
            "grid_gap": null,
            "grid_row": null,
            "grid_template_areas": null,
            "grid_template_columns": null,
            "grid_template_rows": null,
            "height": null,
            "justify_content": null,
            "justify_items": null,
            "left": null,
            "margin": null,
            "max_height": null,
            "max_width": null,
            "min_height": null,
            "min_width": null,
            "object_fit": null,
            "object_position": null,
            "order": null,
            "overflow": null,
            "overflow_x": null,
            "overflow_y": null,
            "padding": null,
            "right": null,
            "top": null,
            "visibility": null,
            "width": null
          }
        },
        "587a5d00c1884672b9807d139fcbebb1": {
          "model_module": "@jupyter-widgets/base",
          "model_name": "LayoutModel",
          "model_module_version": "1.2.0",
          "state": {
            "_model_module": "@jupyter-widgets/base",
            "_model_module_version": "1.2.0",
            "_model_name": "LayoutModel",
            "_view_count": null,
            "_view_module": "@jupyter-widgets/base",
            "_view_module_version": "1.2.0",
            "_view_name": "LayoutView",
            "align_content": null,
            "align_items": null,
            "align_self": null,
            "border": null,
            "bottom": null,
            "display": null,
            "flex": null,
            "flex_flow": null,
            "grid_area": null,
            "grid_auto_columns": null,
            "grid_auto_flow": null,
            "grid_auto_rows": null,
            "grid_column": null,
            "grid_gap": null,
            "grid_row": null,
            "grid_template_areas": null,
            "grid_template_columns": null,
            "grid_template_rows": null,
            "height": null,
            "justify_content": null,
            "justify_items": null,
            "left": null,
            "margin": null,
            "max_height": null,
            "max_width": null,
            "min_height": null,
            "min_width": null,
            "object_fit": null,
            "object_position": null,
            "order": null,
            "overflow": null,
            "overflow_x": null,
            "overflow_y": null,
            "padding": null,
            "right": null,
            "top": null,
            "visibility": null,
            "width": null
          }
        },
        "25c0af1743424b719282f9d4a5dee0b3": {
          "model_module": "@jupyter-widgets/controls",
          "model_name": "DescriptionStyleModel",
          "model_module_version": "1.5.0",
          "state": {
            "_model_module": "@jupyter-widgets/controls",
            "_model_module_version": "1.5.0",
            "_model_name": "DescriptionStyleModel",
            "_view_count": null,
            "_view_module": "@jupyter-widgets/base",
            "_view_module_version": "1.2.0",
            "_view_name": "StyleView",
            "description_width": ""
          }
        },
        "951f4c181e0a44879012234466ef324d": {
          "model_module": "@jupyter-widgets/base",
          "model_name": "LayoutModel",
          "model_module_version": "1.2.0",
          "state": {
            "_model_module": "@jupyter-widgets/base",
            "_model_module_version": "1.2.0",
            "_model_name": "LayoutModel",
            "_view_count": null,
            "_view_module": "@jupyter-widgets/base",
            "_view_module_version": "1.2.0",
            "_view_name": "LayoutView",
            "align_content": null,
            "align_items": null,
            "align_self": null,
            "border": null,
            "bottom": null,
            "display": null,
            "flex": null,
            "flex_flow": null,
            "grid_area": null,
            "grid_auto_columns": null,
            "grid_auto_flow": null,
            "grid_auto_rows": null,
            "grid_column": null,
            "grid_gap": null,
            "grid_row": null,
            "grid_template_areas": null,
            "grid_template_columns": null,
            "grid_template_rows": null,
            "height": null,
            "justify_content": null,
            "justify_items": null,
            "left": null,
            "margin": null,
            "max_height": null,
            "max_width": null,
            "min_height": null,
            "min_width": null,
            "object_fit": null,
            "object_position": null,
            "order": null,
            "overflow": null,
            "overflow_x": null,
            "overflow_y": null,
            "padding": null,
            "right": null,
            "top": null,
            "visibility": null,
            "width": null
          }
        },
        "0736fb8a78334fe28f7b07f71e979dd5": {
          "model_module": "@jupyter-widgets/controls",
          "model_name": "ProgressStyleModel",
          "model_module_version": "1.5.0",
          "state": {
            "_model_module": "@jupyter-widgets/controls",
            "_model_module_version": "1.5.0",
            "_model_name": "ProgressStyleModel",
            "_view_count": null,
            "_view_module": "@jupyter-widgets/base",
            "_view_module_version": "1.2.0",
            "_view_name": "StyleView",
            "bar_color": null,
            "description_width": ""
          }
        },
        "6c22416376904ef0a1bfef269cef2894": {
          "model_module": "@jupyter-widgets/controls",
          "model_name": "VBoxModel",
          "model_module_version": "1.5.0",
          "state": {
            "_dom_classes": [],
            "_model_module": "@jupyter-widgets/controls",
            "_model_module_version": "1.5.0",
            "_model_name": "VBoxModel",
            "_view_count": null,
            "_view_module": "@jupyter-widgets/controls",
            "_view_module_version": "1.5.0",
            "_view_name": "VBoxView",
            "box_style": "",
            "children": [
              "IPY_MODEL_98dbe5d73f79454ba7d3008216f13699",
              "IPY_MODEL_70137f81fb8a493c9b2fc38a88e1617f"
            ],
            "layout": "IPY_MODEL_cb8b2c8bdfdf4a15a77116054c07b590"
          }
        },
        "98dbe5d73f79454ba7d3008216f13699": {
          "model_module": "@jupyter-widgets/controls",
          "model_name": "LabelModel",
          "model_module_version": "1.5.0",
          "state": {
            "_dom_classes": [],
            "_model_module": "@jupyter-widgets/controls",
            "_model_module_version": "1.5.0",
            "_model_name": "LabelModel",
            "_view_count": null,
            "_view_module": "@jupyter-widgets/controls",
            "_view_module_version": "1.5.0",
            "_view_name": "LabelView",
            "description": "",
            "description_tooltip": null,
            "layout": "IPY_MODEL_506fdb5ebc8c4205acf0292786d776b2",
            "placeholder": "​",
            "style": "IPY_MODEL_e996b21f3acc4d01a65d2cd0fcb1f069",
            "value": "84.921 MB of 84.921 MB uploaded (0.000 MB deduped)\r"
          }
        },
        "70137f81fb8a493c9b2fc38a88e1617f": {
          "model_module": "@jupyter-widgets/controls",
          "model_name": "FloatProgressModel",
          "model_module_version": "1.5.0",
          "state": {
            "_dom_classes": [],
            "_model_module": "@jupyter-widgets/controls",
            "_model_module_version": "1.5.0",
            "_model_name": "FloatProgressModel",
            "_view_count": null,
            "_view_module": "@jupyter-widgets/controls",
            "_view_module_version": "1.5.0",
            "_view_name": "ProgressView",
            "bar_style": "",
            "description": "",
            "description_tooltip": null,
            "layout": "IPY_MODEL_d4ad3970465e4d59bb23013e7b1bfca8",
            "max": 1,
            "min": 0,
            "orientation": "horizontal",
            "style": "IPY_MODEL_99409152042d4259aaea37c970dcf9f7",
            "value": 1
          }
        },
        "cb8b2c8bdfdf4a15a77116054c07b590": {
          "model_module": "@jupyter-widgets/base",
          "model_name": "LayoutModel",
          "model_module_version": "1.2.0",
          "state": {
            "_model_module": "@jupyter-widgets/base",
            "_model_module_version": "1.2.0",
            "_model_name": "LayoutModel",
            "_view_count": null,
            "_view_module": "@jupyter-widgets/base",
            "_view_module_version": "1.2.0",
            "_view_name": "LayoutView",
            "align_content": null,
            "align_items": null,
            "align_self": null,
            "border": null,
            "bottom": null,
            "display": null,
            "flex": null,
            "flex_flow": null,
            "grid_area": null,
            "grid_auto_columns": null,
            "grid_auto_flow": null,
            "grid_auto_rows": null,
            "grid_column": null,
            "grid_gap": null,
            "grid_row": null,
            "grid_template_areas": null,
            "grid_template_columns": null,
            "grid_template_rows": null,
            "height": null,
            "justify_content": null,
            "justify_items": null,
            "left": null,
            "margin": null,
            "max_height": null,
            "max_width": null,
            "min_height": null,
            "min_width": null,
            "object_fit": null,
            "object_position": null,
            "order": null,
            "overflow": null,
            "overflow_x": null,
            "overflow_y": null,
            "padding": null,
            "right": null,
            "top": null,
            "visibility": null,
            "width": null
          }
        },
        "506fdb5ebc8c4205acf0292786d776b2": {
          "model_module": "@jupyter-widgets/base",
          "model_name": "LayoutModel",
          "model_module_version": "1.2.0",
          "state": {
            "_model_module": "@jupyter-widgets/base",
            "_model_module_version": "1.2.0",
            "_model_name": "LayoutModel",
            "_view_count": null,
            "_view_module": "@jupyter-widgets/base",
            "_view_module_version": "1.2.0",
            "_view_name": "LayoutView",
            "align_content": null,
            "align_items": null,
            "align_self": null,
            "border": null,
            "bottom": null,
            "display": null,
            "flex": null,
            "flex_flow": null,
            "grid_area": null,
            "grid_auto_columns": null,
            "grid_auto_flow": null,
            "grid_auto_rows": null,
            "grid_column": null,
            "grid_gap": null,
            "grid_row": null,
            "grid_template_areas": null,
            "grid_template_columns": null,
            "grid_template_rows": null,
            "height": null,
            "justify_content": null,
            "justify_items": null,
            "left": null,
            "margin": null,
            "max_height": null,
            "max_width": null,
            "min_height": null,
            "min_width": null,
            "object_fit": null,
            "object_position": null,
            "order": null,
            "overflow": null,
            "overflow_x": null,
            "overflow_y": null,
            "padding": null,
            "right": null,
            "top": null,
            "visibility": null,
            "width": null
          }
        },
        "e996b21f3acc4d01a65d2cd0fcb1f069": {
          "model_module": "@jupyter-widgets/controls",
          "model_name": "DescriptionStyleModel",
          "model_module_version": "1.5.0",
          "state": {
            "_model_module": "@jupyter-widgets/controls",
            "_model_module_version": "1.5.0",
            "_model_name": "DescriptionStyleModel",
            "_view_count": null,
            "_view_module": "@jupyter-widgets/base",
            "_view_module_version": "1.2.0",
            "_view_name": "StyleView",
            "description_width": ""
          }
        },
        "d4ad3970465e4d59bb23013e7b1bfca8": {
          "model_module": "@jupyter-widgets/base",
          "model_name": "LayoutModel",
          "model_module_version": "1.2.0",
          "state": {
            "_model_module": "@jupyter-widgets/base",
            "_model_module_version": "1.2.0",
            "_model_name": "LayoutModel",
            "_view_count": null,
            "_view_module": "@jupyter-widgets/base",
            "_view_module_version": "1.2.0",
            "_view_name": "LayoutView",
            "align_content": null,
            "align_items": null,
            "align_self": null,
            "border": null,
            "bottom": null,
            "display": null,
            "flex": null,
            "flex_flow": null,
            "grid_area": null,
            "grid_auto_columns": null,
            "grid_auto_flow": null,
            "grid_auto_rows": null,
            "grid_column": null,
            "grid_gap": null,
            "grid_row": null,
            "grid_template_areas": null,
            "grid_template_columns": null,
            "grid_template_rows": null,
            "height": null,
            "justify_content": null,
            "justify_items": null,
            "left": null,
            "margin": null,
            "max_height": null,
            "max_width": null,
            "min_height": null,
            "min_width": null,
            "object_fit": null,
            "object_position": null,
            "order": null,
            "overflow": null,
            "overflow_x": null,
            "overflow_y": null,
            "padding": null,
            "right": null,
            "top": null,
            "visibility": null,
            "width": null
          }
        },
        "99409152042d4259aaea37c970dcf9f7": {
          "model_module": "@jupyter-widgets/controls",
          "model_name": "ProgressStyleModel",
          "model_module_version": "1.5.0",
          "state": {
            "_model_module": "@jupyter-widgets/controls",
            "_model_module_version": "1.5.0",
            "_model_name": "ProgressStyleModel",
            "_view_count": null,
            "_view_module": "@jupyter-widgets/base",
            "_view_module_version": "1.2.0",
            "_view_name": "StyleView",
            "bar_color": null,
            "description_width": ""
          }
        },
        "870d6d98e1cc44beb4848913b163fde3": {
          "model_module": "@jupyter-widgets/controls",
          "model_name": "VBoxModel",
          "model_module_version": "1.5.0",
          "state": {
            "_dom_classes": [],
            "_model_module": "@jupyter-widgets/controls",
            "_model_module_version": "1.5.0",
            "_model_name": "VBoxModel",
            "_view_count": null,
            "_view_module": "@jupyter-widgets/controls",
            "_view_module_version": "1.5.0",
            "_view_name": "VBoxView",
            "box_style": "",
            "children": [
              "IPY_MODEL_79de1584d3af449ab9e6401ea0c44d29",
              "IPY_MODEL_6cabf29504304238b3eeb49cb9f00797"
            ],
            "layout": "IPY_MODEL_ac08c6b8e7a94657a8e194da41ee9734"
          }
        },
        "79de1584d3af449ab9e6401ea0c44d29": {
          "model_module": "@jupyter-widgets/controls",
          "model_name": "LabelModel",
          "model_module_version": "1.5.0",
          "state": {
            "_dom_classes": [],
            "_model_module": "@jupyter-widgets/controls",
            "_model_module_version": "1.5.0",
            "_model_name": "LabelModel",
            "_view_count": null,
            "_view_module": "@jupyter-widgets/controls",
            "_view_module_version": "1.5.0",
            "_view_name": "LabelView",
            "description": "",
            "description_tooltip": null,
            "layout": "IPY_MODEL_8b34f6bcd1a44be4ad45f4dbcce2492d",
            "placeholder": "​",
            "style": "IPY_MODEL_2f4f0b56cad444cabf9c485aad43ba71",
            "value": "0.999 MB of 0.999 MB uploaded (0.000 MB deduped)\r"
          }
        },
        "6cabf29504304238b3eeb49cb9f00797": {
          "model_module": "@jupyter-widgets/controls",
          "model_name": "FloatProgressModel",
          "model_module_version": "1.5.0",
          "state": {
            "_dom_classes": [],
            "_model_module": "@jupyter-widgets/controls",
            "_model_module_version": "1.5.0",
            "_model_name": "FloatProgressModel",
            "_view_count": null,
            "_view_module": "@jupyter-widgets/controls",
            "_view_module_version": "1.5.0",
            "_view_name": "ProgressView",
            "bar_style": "",
            "description": "",
            "description_tooltip": null,
            "layout": "IPY_MODEL_91db383d5a024d50a38dd1db5395cc22",
            "max": 1,
            "min": 0,
            "orientation": "horizontal",
            "style": "IPY_MODEL_f263eecb7b144854901255e69d4060b8",
            "value": 1
          }
        },
        "ac08c6b8e7a94657a8e194da41ee9734": {
          "model_module": "@jupyter-widgets/base",
          "model_name": "LayoutModel",
          "model_module_version": "1.2.0",
          "state": {
            "_model_module": "@jupyter-widgets/base",
            "_model_module_version": "1.2.0",
            "_model_name": "LayoutModel",
            "_view_count": null,
            "_view_module": "@jupyter-widgets/base",
            "_view_module_version": "1.2.0",
            "_view_name": "LayoutView",
            "align_content": null,
            "align_items": null,
            "align_self": null,
            "border": null,
            "bottom": null,
            "display": null,
            "flex": null,
            "flex_flow": null,
            "grid_area": null,
            "grid_auto_columns": null,
            "grid_auto_flow": null,
            "grid_auto_rows": null,
            "grid_column": null,
            "grid_gap": null,
            "grid_row": null,
            "grid_template_areas": null,
            "grid_template_columns": null,
            "grid_template_rows": null,
            "height": null,
            "justify_content": null,
            "justify_items": null,
            "left": null,
            "margin": null,
            "max_height": null,
            "max_width": null,
            "min_height": null,
            "min_width": null,
            "object_fit": null,
            "object_position": null,
            "order": null,
            "overflow": null,
            "overflow_x": null,
            "overflow_y": null,
            "padding": null,
            "right": null,
            "top": null,
            "visibility": null,
            "width": null
          }
        },
        "8b34f6bcd1a44be4ad45f4dbcce2492d": {
          "model_module": "@jupyter-widgets/base",
          "model_name": "LayoutModel",
          "model_module_version": "1.2.0",
          "state": {
            "_model_module": "@jupyter-widgets/base",
            "_model_module_version": "1.2.0",
            "_model_name": "LayoutModel",
            "_view_count": null,
            "_view_module": "@jupyter-widgets/base",
            "_view_module_version": "1.2.0",
            "_view_name": "LayoutView",
            "align_content": null,
            "align_items": null,
            "align_self": null,
            "border": null,
            "bottom": null,
            "display": null,
            "flex": null,
            "flex_flow": null,
            "grid_area": null,
            "grid_auto_columns": null,
            "grid_auto_flow": null,
            "grid_auto_rows": null,
            "grid_column": null,
            "grid_gap": null,
            "grid_row": null,
            "grid_template_areas": null,
            "grid_template_columns": null,
            "grid_template_rows": null,
            "height": null,
            "justify_content": null,
            "justify_items": null,
            "left": null,
            "margin": null,
            "max_height": null,
            "max_width": null,
            "min_height": null,
            "min_width": null,
            "object_fit": null,
            "object_position": null,
            "order": null,
            "overflow": null,
            "overflow_x": null,
            "overflow_y": null,
            "padding": null,
            "right": null,
            "top": null,
            "visibility": null,
            "width": null
          }
        },
        "2f4f0b56cad444cabf9c485aad43ba71": {
          "model_module": "@jupyter-widgets/controls",
          "model_name": "DescriptionStyleModel",
          "model_module_version": "1.5.0",
          "state": {
            "_model_module": "@jupyter-widgets/controls",
            "_model_module_version": "1.5.0",
            "_model_name": "DescriptionStyleModel",
            "_view_count": null,
            "_view_module": "@jupyter-widgets/base",
            "_view_module_version": "1.2.0",
            "_view_name": "StyleView",
            "description_width": ""
          }
        },
        "91db383d5a024d50a38dd1db5395cc22": {
          "model_module": "@jupyter-widgets/base",
          "model_name": "LayoutModel",
          "model_module_version": "1.2.0",
          "state": {
            "_model_module": "@jupyter-widgets/base",
            "_model_module_version": "1.2.0",
            "_model_name": "LayoutModel",
            "_view_count": null,
            "_view_module": "@jupyter-widgets/base",
            "_view_module_version": "1.2.0",
            "_view_name": "LayoutView",
            "align_content": null,
            "align_items": null,
            "align_self": null,
            "border": null,
            "bottom": null,
            "display": null,
            "flex": null,
            "flex_flow": null,
            "grid_area": null,
            "grid_auto_columns": null,
            "grid_auto_flow": null,
            "grid_auto_rows": null,
            "grid_column": null,
            "grid_gap": null,
            "grid_row": null,
            "grid_template_areas": null,
            "grid_template_columns": null,
            "grid_template_rows": null,
            "height": null,
            "justify_content": null,
            "justify_items": null,
            "left": null,
            "margin": null,
            "max_height": null,
            "max_width": null,
            "min_height": null,
            "min_width": null,
            "object_fit": null,
            "object_position": null,
            "order": null,
            "overflow": null,
            "overflow_x": null,
            "overflow_y": null,
            "padding": null,
            "right": null,
            "top": null,
            "visibility": null,
            "width": null
          }
        },
        "f263eecb7b144854901255e69d4060b8": {
          "model_module": "@jupyter-widgets/controls",
          "model_name": "ProgressStyleModel",
          "model_module_version": "1.5.0",
          "state": {
            "_model_module": "@jupyter-widgets/controls",
            "_model_module_version": "1.5.0",
            "_model_name": "ProgressStyleModel",
            "_view_count": null,
            "_view_module": "@jupyter-widgets/base",
            "_view_module_version": "1.2.0",
            "_view_name": "StyleView",
            "bar_color": null,
            "description_width": ""
          }
        },
        "735df0081f9140729377e7d1e849d4ef": {
          "model_module": "@jupyter-widgets/controls",
          "model_name": "VBoxModel",
          "model_module_version": "1.5.0",
          "state": {
            "_dom_classes": [],
            "_model_module": "@jupyter-widgets/controls",
            "_model_module_version": "1.5.0",
            "_model_name": "VBoxModel",
            "_view_count": null,
            "_view_module": "@jupyter-widgets/controls",
            "_view_module_version": "1.5.0",
            "_view_name": "VBoxView",
            "box_style": "",
            "children": [
              "IPY_MODEL_20b5f1cf8401440fb87238e99db07c5c",
              "IPY_MODEL_4b4b6738d43b4ae4b3704a1c95d52a60"
            ],
            "layout": "IPY_MODEL_e28daa58160b41fcb09860d666deffba"
          }
        },
        "20b5f1cf8401440fb87238e99db07c5c": {
          "model_module": "@jupyter-widgets/controls",
          "model_name": "LabelModel",
          "model_module_version": "1.5.0",
          "state": {
            "_dom_classes": [],
            "_model_module": "@jupyter-widgets/controls",
            "_model_module_version": "1.5.0",
            "_model_name": "LabelModel",
            "_view_count": null,
            "_view_module": "@jupyter-widgets/controls",
            "_view_module_version": "1.5.0",
            "_view_name": "LabelView",
            "description": "",
            "description_tooltip": null,
            "layout": "IPY_MODEL_4c2951056558461ba59ae98ac6f9a755",
            "placeholder": "​",
            "style": "IPY_MODEL_4178c18a84724aca958099ae4f3c91d1",
            "value": "10.546 MB of 10.546 MB uploaded (0.000 MB deduped)\r"
          }
        },
        "4b4b6738d43b4ae4b3704a1c95d52a60": {
          "model_module": "@jupyter-widgets/controls",
          "model_name": "FloatProgressModel",
          "model_module_version": "1.5.0",
          "state": {
            "_dom_classes": [],
            "_model_module": "@jupyter-widgets/controls",
            "_model_module_version": "1.5.0",
            "_model_name": "FloatProgressModel",
            "_view_count": null,
            "_view_module": "@jupyter-widgets/controls",
            "_view_module_version": "1.5.0",
            "_view_name": "ProgressView",
            "bar_style": "",
            "description": "",
            "description_tooltip": null,
            "layout": "IPY_MODEL_3bbf661456294ed5a8bde23df41d2032",
            "max": 1,
            "min": 0,
            "orientation": "horizontal",
            "style": "IPY_MODEL_89fe3fcddf3d4f41aa5118d443fd6d22",
            "value": 1
          }
        },
        "e28daa58160b41fcb09860d666deffba": {
          "model_module": "@jupyter-widgets/base",
          "model_name": "LayoutModel",
          "model_module_version": "1.2.0",
          "state": {
            "_model_module": "@jupyter-widgets/base",
            "_model_module_version": "1.2.0",
            "_model_name": "LayoutModel",
            "_view_count": null,
            "_view_module": "@jupyter-widgets/base",
            "_view_module_version": "1.2.0",
            "_view_name": "LayoutView",
            "align_content": null,
            "align_items": null,
            "align_self": null,
            "border": null,
            "bottom": null,
            "display": null,
            "flex": null,
            "flex_flow": null,
            "grid_area": null,
            "grid_auto_columns": null,
            "grid_auto_flow": null,
            "grid_auto_rows": null,
            "grid_column": null,
            "grid_gap": null,
            "grid_row": null,
            "grid_template_areas": null,
            "grid_template_columns": null,
            "grid_template_rows": null,
            "height": null,
            "justify_content": null,
            "justify_items": null,
            "left": null,
            "margin": null,
            "max_height": null,
            "max_width": null,
            "min_height": null,
            "min_width": null,
            "object_fit": null,
            "object_position": null,
            "order": null,
            "overflow": null,
            "overflow_x": null,
            "overflow_y": null,
            "padding": null,
            "right": null,
            "top": null,
            "visibility": null,
            "width": null
          }
        },
        "4c2951056558461ba59ae98ac6f9a755": {
          "model_module": "@jupyter-widgets/base",
          "model_name": "LayoutModel",
          "model_module_version": "1.2.0",
          "state": {
            "_model_module": "@jupyter-widgets/base",
            "_model_module_version": "1.2.0",
            "_model_name": "LayoutModel",
            "_view_count": null,
            "_view_module": "@jupyter-widgets/base",
            "_view_module_version": "1.2.0",
            "_view_name": "LayoutView",
            "align_content": null,
            "align_items": null,
            "align_self": null,
            "border": null,
            "bottom": null,
            "display": null,
            "flex": null,
            "flex_flow": null,
            "grid_area": null,
            "grid_auto_columns": null,
            "grid_auto_flow": null,
            "grid_auto_rows": null,
            "grid_column": null,
            "grid_gap": null,
            "grid_row": null,
            "grid_template_areas": null,
            "grid_template_columns": null,
            "grid_template_rows": null,
            "height": null,
            "justify_content": null,
            "justify_items": null,
            "left": null,
            "margin": null,
            "max_height": null,
            "max_width": null,
            "min_height": null,
            "min_width": null,
            "object_fit": null,
            "object_position": null,
            "order": null,
            "overflow": null,
            "overflow_x": null,
            "overflow_y": null,
            "padding": null,
            "right": null,
            "top": null,
            "visibility": null,
            "width": null
          }
        },
        "4178c18a84724aca958099ae4f3c91d1": {
          "model_module": "@jupyter-widgets/controls",
          "model_name": "DescriptionStyleModel",
          "model_module_version": "1.5.0",
          "state": {
            "_model_module": "@jupyter-widgets/controls",
            "_model_module_version": "1.5.0",
            "_model_name": "DescriptionStyleModel",
            "_view_count": null,
            "_view_module": "@jupyter-widgets/base",
            "_view_module_version": "1.2.0",
            "_view_name": "StyleView",
            "description_width": ""
          }
        },
        "3bbf661456294ed5a8bde23df41d2032": {
          "model_module": "@jupyter-widgets/base",
          "model_name": "LayoutModel",
          "model_module_version": "1.2.0",
          "state": {
            "_model_module": "@jupyter-widgets/base",
            "_model_module_version": "1.2.0",
            "_model_name": "LayoutModel",
            "_view_count": null,
            "_view_module": "@jupyter-widgets/base",
            "_view_module_version": "1.2.0",
            "_view_name": "LayoutView",
            "align_content": null,
            "align_items": null,
            "align_self": null,
            "border": null,
            "bottom": null,
            "display": null,
            "flex": null,
            "flex_flow": null,
            "grid_area": null,
            "grid_auto_columns": null,
            "grid_auto_flow": null,
            "grid_auto_rows": null,
            "grid_column": null,
            "grid_gap": null,
            "grid_row": null,
            "grid_template_areas": null,
            "grid_template_columns": null,
            "grid_template_rows": null,
            "height": null,
            "justify_content": null,
            "justify_items": null,
            "left": null,
            "margin": null,
            "max_height": null,
            "max_width": null,
            "min_height": null,
            "min_width": null,
            "object_fit": null,
            "object_position": null,
            "order": null,
            "overflow": null,
            "overflow_x": null,
            "overflow_y": null,
            "padding": null,
            "right": null,
            "top": null,
            "visibility": null,
            "width": null
          }
        },
        "89fe3fcddf3d4f41aa5118d443fd6d22": {
          "model_module": "@jupyter-widgets/controls",
          "model_name": "ProgressStyleModel",
          "model_module_version": "1.5.0",
          "state": {
            "_model_module": "@jupyter-widgets/controls",
            "_model_module_version": "1.5.0",
            "_model_name": "ProgressStyleModel",
            "_view_count": null,
            "_view_module": "@jupyter-widgets/base",
            "_view_module_version": "1.2.0",
            "_view_name": "StyleView",
            "bar_color": null,
            "description_width": ""
          }
        },
        "9f00fac300d44cb5a4cc1d7a9e73116c": {
          "model_module": "@jupyter-widgets/controls",
          "model_name": "VBoxModel",
          "model_module_version": "1.5.0",
          "state": {
            "_dom_classes": [],
            "_model_module": "@jupyter-widgets/controls",
            "_model_module_version": "1.5.0",
            "_model_name": "VBoxModel",
            "_view_count": null,
            "_view_module": "@jupyter-widgets/controls",
            "_view_module_version": "1.5.0",
            "_view_name": "VBoxView",
            "box_style": "",
            "children": [
              "IPY_MODEL_46ebdc16b7374726b0cc3c89b16c22c8",
              "IPY_MODEL_d423dcfd78394b069916ed58aecfe93a"
            ],
            "layout": "IPY_MODEL_f3059ddd66c04bd09f5887bb8ce671d2"
          }
        },
        "46ebdc16b7374726b0cc3c89b16c22c8": {
          "model_module": "@jupyter-widgets/controls",
          "model_name": "LabelModel",
          "model_module_version": "1.5.0",
          "state": {
            "_dom_classes": [],
            "_model_module": "@jupyter-widgets/controls",
            "_model_module_version": "1.5.0",
            "_model_name": "LabelModel",
            "_view_count": null,
            "_view_module": "@jupyter-widgets/controls",
            "_view_module_version": "1.5.0",
            "_view_name": "LabelView",
            "description": "",
            "description_tooltip": null,
            "layout": "IPY_MODEL_5bc83cf575ff4c71a2b9a4fd264ea1a0",
            "placeholder": "​",
            "style": "IPY_MODEL_f9dee79c0bfc4bfb8613a88c96191552",
            "value": "2.940 MB of 2.940 MB uploaded (0.000 MB deduped)\r"
          }
        },
        "d423dcfd78394b069916ed58aecfe93a": {
          "model_module": "@jupyter-widgets/controls",
          "model_name": "FloatProgressModel",
          "model_module_version": "1.5.0",
          "state": {
            "_dom_classes": [],
            "_model_module": "@jupyter-widgets/controls",
            "_model_module_version": "1.5.0",
            "_model_name": "FloatProgressModel",
            "_view_count": null,
            "_view_module": "@jupyter-widgets/controls",
            "_view_module_version": "1.5.0",
            "_view_name": "ProgressView",
            "bar_style": "",
            "description": "",
            "description_tooltip": null,
            "layout": "IPY_MODEL_bd1889f69619449dba9642b579d68b9d",
            "max": 1,
            "min": 0,
            "orientation": "horizontal",
            "style": "IPY_MODEL_1bbf80de1d5d45f7b3142cc449ebb208",
            "value": 1
          }
        },
        "f3059ddd66c04bd09f5887bb8ce671d2": {
          "model_module": "@jupyter-widgets/base",
          "model_name": "LayoutModel",
          "model_module_version": "1.2.0",
          "state": {
            "_model_module": "@jupyter-widgets/base",
            "_model_module_version": "1.2.0",
            "_model_name": "LayoutModel",
            "_view_count": null,
            "_view_module": "@jupyter-widgets/base",
            "_view_module_version": "1.2.0",
            "_view_name": "LayoutView",
            "align_content": null,
            "align_items": null,
            "align_self": null,
            "border": null,
            "bottom": null,
            "display": null,
            "flex": null,
            "flex_flow": null,
            "grid_area": null,
            "grid_auto_columns": null,
            "grid_auto_flow": null,
            "grid_auto_rows": null,
            "grid_column": null,
            "grid_gap": null,
            "grid_row": null,
            "grid_template_areas": null,
            "grid_template_columns": null,
            "grid_template_rows": null,
            "height": null,
            "justify_content": null,
            "justify_items": null,
            "left": null,
            "margin": null,
            "max_height": null,
            "max_width": null,
            "min_height": null,
            "min_width": null,
            "object_fit": null,
            "object_position": null,
            "order": null,
            "overflow": null,
            "overflow_x": null,
            "overflow_y": null,
            "padding": null,
            "right": null,
            "top": null,
            "visibility": null,
            "width": null
          }
        },
        "5bc83cf575ff4c71a2b9a4fd264ea1a0": {
          "model_module": "@jupyter-widgets/base",
          "model_name": "LayoutModel",
          "model_module_version": "1.2.0",
          "state": {
            "_model_module": "@jupyter-widgets/base",
            "_model_module_version": "1.2.0",
            "_model_name": "LayoutModel",
            "_view_count": null,
            "_view_module": "@jupyter-widgets/base",
            "_view_module_version": "1.2.0",
            "_view_name": "LayoutView",
            "align_content": null,
            "align_items": null,
            "align_self": null,
            "border": null,
            "bottom": null,
            "display": null,
            "flex": null,
            "flex_flow": null,
            "grid_area": null,
            "grid_auto_columns": null,
            "grid_auto_flow": null,
            "grid_auto_rows": null,
            "grid_column": null,
            "grid_gap": null,
            "grid_row": null,
            "grid_template_areas": null,
            "grid_template_columns": null,
            "grid_template_rows": null,
            "height": null,
            "justify_content": null,
            "justify_items": null,
            "left": null,
            "margin": null,
            "max_height": null,
            "max_width": null,
            "min_height": null,
            "min_width": null,
            "object_fit": null,
            "object_position": null,
            "order": null,
            "overflow": null,
            "overflow_x": null,
            "overflow_y": null,
            "padding": null,
            "right": null,
            "top": null,
            "visibility": null,
            "width": null
          }
        },
        "f9dee79c0bfc4bfb8613a88c96191552": {
          "model_module": "@jupyter-widgets/controls",
          "model_name": "DescriptionStyleModel",
          "model_module_version": "1.5.0",
          "state": {
            "_model_module": "@jupyter-widgets/controls",
            "_model_module_version": "1.5.0",
            "_model_name": "DescriptionStyleModel",
            "_view_count": null,
            "_view_module": "@jupyter-widgets/base",
            "_view_module_version": "1.2.0",
            "_view_name": "StyleView",
            "description_width": ""
          }
        },
        "bd1889f69619449dba9642b579d68b9d": {
          "model_module": "@jupyter-widgets/base",
          "model_name": "LayoutModel",
          "model_module_version": "1.2.0",
          "state": {
            "_model_module": "@jupyter-widgets/base",
            "_model_module_version": "1.2.0",
            "_model_name": "LayoutModel",
            "_view_count": null,
            "_view_module": "@jupyter-widgets/base",
            "_view_module_version": "1.2.0",
            "_view_name": "LayoutView",
            "align_content": null,
            "align_items": null,
            "align_self": null,
            "border": null,
            "bottom": null,
            "display": null,
            "flex": null,
            "flex_flow": null,
            "grid_area": null,
            "grid_auto_columns": null,
            "grid_auto_flow": null,
            "grid_auto_rows": null,
            "grid_column": null,
            "grid_gap": null,
            "grid_row": null,
            "grid_template_areas": null,
            "grid_template_columns": null,
            "grid_template_rows": null,
            "height": null,
            "justify_content": null,
            "justify_items": null,
            "left": null,
            "margin": null,
            "max_height": null,
            "max_width": null,
            "min_height": null,
            "min_width": null,
            "object_fit": null,
            "object_position": null,
            "order": null,
            "overflow": null,
            "overflow_x": null,
            "overflow_y": null,
            "padding": null,
            "right": null,
            "top": null,
            "visibility": null,
            "width": null
          }
        },
        "1bbf80de1d5d45f7b3142cc449ebb208": {
          "model_module": "@jupyter-widgets/controls",
          "model_name": "ProgressStyleModel",
          "model_module_version": "1.5.0",
          "state": {
            "_model_module": "@jupyter-widgets/controls",
            "_model_module_version": "1.5.0",
            "_model_name": "ProgressStyleModel",
            "_view_count": null,
            "_view_module": "@jupyter-widgets/base",
            "_view_module_version": "1.2.0",
            "_view_name": "StyleView",
            "bar_color": null,
            "description_width": ""
          }
        },
        "1fd4ab5adcb947bcb4d854e85801488d": {
          "model_module": "@jupyter-widgets/controls",
          "model_name": "VBoxModel",
          "model_module_version": "1.5.0",
          "state": {
            "_dom_classes": [],
            "_model_module": "@jupyter-widgets/controls",
            "_model_module_version": "1.5.0",
            "_model_name": "VBoxModel",
            "_view_count": null,
            "_view_module": "@jupyter-widgets/controls",
            "_view_module_version": "1.5.0",
            "_view_name": "VBoxView",
            "box_style": "",
            "children": [
              "IPY_MODEL_b95ead13e04244b0b852eda9ebc879b0",
              "IPY_MODEL_163a903557d243278caaaf87d21d2dea"
            ],
            "layout": "IPY_MODEL_dbd0825b511f42d8807c74c795bc086e"
          }
        },
        "b95ead13e04244b0b852eda9ebc879b0": {
          "model_module": "@jupyter-widgets/controls",
          "model_name": "LabelModel",
          "model_module_version": "1.5.0",
          "state": {
            "_dom_classes": [],
            "_model_module": "@jupyter-widgets/controls",
            "_model_module_version": "1.5.0",
            "_model_name": "LabelModel",
            "_view_count": null,
            "_view_module": "@jupyter-widgets/controls",
            "_view_module_version": "1.5.0",
            "_view_name": "LabelView",
            "description": "",
            "description_tooltip": null,
            "layout": "IPY_MODEL_767091be13fe440e9adf8912d07c77c8",
            "placeholder": "​",
            "style": "IPY_MODEL_700e5522bc474a5c954f7439bee3a3c9",
            "value": "11.023 MB of 11.023 MB uploaded (0.000 MB deduped)\r"
          }
        },
        "163a903557d243278caaaf87d21d2dea": {
          "model_module": "@jupyter-widgets/controls",
          "model_name": "FloatProgressModel",
          "model_module_version": "1.5.0",
          "state": {
            "_dom_classes": [],
            "_model_module": "@jupyter-widgets/controls",
            "_model_module_version": "1.5.0",
            "_model_name": "FloatProgressModel",
            "_view_count": null,
            "_view_module": "@jupyter-widgets/controls",
            "_view_module_version": "1.5.0",
            "_view_name": "ProgressView",
            "bar_style": "",
            "description": "",
            "description_tooltip": null,
            "layout": "IPY_MODEL_856816a345454e4f9262dd017b3bfa56",
            "max": 1,
            "min": 0,
            "orientation": "horizontal",
            "style": "IPY_MODEL_7bbd70980e7a42cf92d72e1e2d173653",
            "value": 1
          }
        },
        "dbd0825b511f42d8807c74c795bc086e": {
          "model_module": "@jupyter-widgets/base",
          "model_name": "LayoutModel",
          "model_module_version": "1.2.0",
          "state": {
            "_model_module": "@jupyter-widgets/base",
            "_model_module_version": "1.2.0",
            "_model_name": "LayoutModel",
            "_view_count": null,
            "_view_module": "@jupyter-widgets/base",
            "_view_module_version": "1.2.0",
            "_view_name": "LayoutView",
            "align_content": null,
            "align_items": null,
            "align_self": null,
            "border": null,
            "bottom": null,
            "display": null,
            "flex": null,
            "flex_flow": null,
            "grid_area": null,
            "grid_auto_columns": null,
            "grid_auto_flow": null,
            "grid_auto_rows": null,
            "grid_column": null,
            "grid_gap": null,
            "grid_row": null,
            "grid_template_areas": null,
            "grid_template_columns": null,
            "grid_template_rows": null,
            "height": null,
            "justify_content": null,
            "justify_items": null,
            "left": null,
            "margin": null,
            "max_height": null,
            "max_width": null,
            "min_height": null,
            "min_width": null,
            "object_fit": null,
            "object_position": null,
            "order": null,
            "overflow": null,
            "overflow_x": null,
            "overflow_y": null,
            "padding": null,
            "right": null,
            "top": null,
            "visibility": null,
            "width": null
          }
        },
        "767091be13fe440e9adf8912d07c77c8": {
          "model_module": "@jupyter-widgets/base",
          "model_name": "LayoutModel",
          "model_module_version": "1.2.0",
          "state": {
            "_model_module": "@jupyter-widgets/base",
            "_model_module_version": "1.2.0",
            "_model_name": "LayoutModel",
            "_view_count": null,
            "_view_module": "@jupyter-widgets/base",
            "_view_module_version": "1.2.0",
            "_view_name": "LayoutView",
            "align_content": null,
            "align_items": null,
            "align_self": null,
            "border": null,
            "bottom": null,
            "display": null,
            "flex": null,
            "flex_flow": null,
            "grid_area": null,
            "grid_auto_columns": null,
            "grid_auto_flow": null,
            "grid_auto_rows": null,
            "grid_column": null,
            "grid_gap": null,
            "grid_row": null,
            "grid_template_areas": null,
            "grid_template_columns": null,
            "grid_template_rows": null,
            "height": null,
            "justify_content": null,
            "justify_items": null,
            "left": null,
            "margin": null,
            "max_height": null,
            "max_width": null,
            "min_height": null,
            "min_width": null,
            "object_fit": null,
            "object_position": null,
            "order": null,
            "overflow": null,
            "overflow_x": null,
            "overflow_y": null,
            "padding": null,
            "right": null,
            "top": null,
            "visibility": null,
            "width": null
          }
        },
        "700e5522bc474a5c954f7439bee3a3c9": {
          "model_module": "@jupyter-widgets/controls",
          "model_name": "DescriptionStyleModel",
          "model_module_version": "1.5.0",
          "state": {
            "_model_module": "@jupyter-widgets/controls",
            "_model_module_version": "1.5.0",
            "_model_name": "DescriptionStyleModel",
            "_view_count": null,
            "_view_module": "@jupyter-widgets/base",
            "_view_module_version": "1.2.0",
            "_view_name": "StyleView",
            "description_width": ""
          }
        },
        "856816a345454e4f9262dd017b3bfa56": {
          "model_module": "@jupyter-widgets/base",
          "model_name": "LayoutModel",
          "model_module_version": "1.2.0",
          "state": {
            "_model_module": "@jupyter-widgets/base",
            "_model_module_version": "1.2.0",
            "_model_name": "LayoutModel",
            "_view_count": null,
            "_view_module": "@jupyter-widgets/base",
            "_view_module_version": "1.2.0",
            "_view_name": "LayoutView",
            "align_content": null,
            "align_items": null,
            "align_self": null,
            "border": null,
            "bottom": null,
            "display": null,
            "flex": null,
            "flex_flow": null,
            "grid_area": null,
            "grid_auto_columns": null,
            "grid_auto_flow": null,
            "grid_auto_rows": null,
            "grid_column": null,
            "grid_gap": null,
            "grid_row": null,
            "grid_template_areas": null,
            "grid_template_columns": null,
            "grid_template_rows": null,
            "height": null,
            "justify_content": null,
            "justify_items": null,
            "left": null,
            "margin": null,
            "max_height": null,
            "max_width": null,
            "min_height": null,
            "min_width": null,
            "object_fit": null,
            "object_position": null,
            "order": null,
            "overflow": null,
            "overflow_x": null,
            "overflow_y": null,
            "padding": null,
            "right": null,
            "top": null,
            "visibility": null,
            "width": null
          }
        },
        "7bbd70980e7a42cf92d72e1e2d173653": {
          "model_module": "@jupyter-widgets/controls",
          "model_name": "ProgressStyleModel",
          "model_module_version": "1.5.0",
          "state": {
            "_model_module": "@jupyter-widgets/controls",
            "_model_module_version": "1.5.0",
            "_model_name": "ProgressStyleModel",
            "_view_count": null,
            "_view_module": "@jupyter-widgets/base",
            "_view_module_version": "1.2.0",
            "_view_name": "StyleView",
            "bar_color": null,
            "description_width": ""
          }
        }
      }
    }
  },
  "cells": [
    {
      "cell_type": "markdown",
      "source": [
        "**Part-A Q2**\n",
        "\n",
        "**Training the model and sweep on various hyperparameter configurations**"
      ],
      "metadata": {
        "id": "S20TeX9O97Rl"
      }
    },
    {
      "cell_type": "markdown",
      "source": [
        "## Importing libraries and dependencies"
      ],
      "metadata": {
        "id": "A8-ZlBB_M-g2"
      }
    },
    {
      "cell_type": "code",
      "execution_count": 1,
      "metadata": {
        "id": "9A0Uq78XWvlJ"
      },
      "outputs": [],
      "source": [
        "import numpy as np\n",
        "import matplotlib.pyplot as plt\n",
        "import tensorflow as tf\n",
        "import keras\n",
        "from keras.models import Sequential\n",
        "from keras.layers import Conv2D,Dense,Activation,MaxPooling2D,Flatten,BatchNormalization,Dropout,InputLayer\n",
        "from tensorflow.keras.preprocessing.image import ImageDataGenerator"
      ]
    },
    {
      "cell_type": "code",
      "source": [
        "from google.colab import drive\n",
        "drive.mount('/content/drive')"
      ],
      "metadata": {
        "colab": {
          "base_uri": "https://localhost:8080/"
        },
        "id": "vCvvbzG8Xy34",
        "outputId": "a8ec686e-73e7-4987-f7f8-607b2d362d06"
      },
      "execution_count": 2,
      "outputs": [
        {
          "output_type": "stream",
          "name": "stdout",
          "text": [
            "Mounted at /content/drive\n"
          ]
        }
      ]
    },
    {
      "cell_type": "code",
      "source": [
        "physical_devices = tf.config.list_physical_devices('GPU')\n",
        "tf.config.experimental.set_memory_growth(physical_devices[0], enable=True)"
      ],
      "metadata": {
        "id": "v028YTE-Y6E4"
      },
      "execution_count": 3,
      "outputs": []
    },
    {
      "cell_type": "markdown",
      "source": [
        "## Function for creating CNN Model using parameters given"
      ],
      "metadata": {
        "id": "SaIoRpgMyCqV"
      }
    },
    {
      "cell_type": "code",
      "source": [
        "def create_cnn_model(filters, fil_size, dense_neuron, batch_norm, dropout, act, padd, lr):\n",
        "    keras.backend.clear_session()\n",
        "    model = Sequential()\n",
        "    model.add(InputLayer(input_shape=(227,227,3))) #Adding Input layer with image size as(227,227) with RGB channel\n",
        "\n",
        "    #Adding 5 convolution Layers in a loop\n",
        "    for i in range(5):\n",
        "        model.add(Conv2D(filters[i],fil_size[i],padding=padd))\n",
        "        if batch_norm:\n",
        "            model.add(BatchNormalization())   \n",
        "        model.add(Activation(act))\n",
        "        model.add(MaxPooling2D(pool_size=(2,2)))\n",
        "    \n",
        "    #Adding the Dense layers as per the parameters passed\n",
        "    model.add(Flatten())\n",
        "    model.add(Dense(dense_neuron))\n",
        "    model.add(Dropout(dropout))\n",
        "    model.add(Activation(\"relu\"))\n",
        "\n",
        "    #Taking Adam as optimizer for all and not as a hyperparamater.\n",
        "    model.add(Dense(10,activation='softmax'))\n",
        "    adam = tf.keras.optimizers.Adam(learning_rate=lr)\n",
        "    model.compile(optimizer=adam,loss='categorical_crossentropy',metrics=['accuracy'])\n",
        "\n",
        "    return model"
      ],
      "metadata": {
        "id": "kZiOMhV6DsCK"
      },
      "execution_count": 4,
      "outputs": []
    },
    {
      "cell_type": "markdown",
      "source": [
        "## Definition Function for preparing DATA:-"
      ],
      "metadata": {
        "id": "kkhE3ZW5xzxQ"
      }
    },
    {
      "cell_type": "code",
      "source": [
        "#image size is taken as (227,227)\n",
        "\n",
        "def dataProcess(BATCH_SIZE, data_aug=True):\n",
        "    if(data_aug):\n",
        "        train_datagen = ImageDataGenerator(rescale=1./255, rotation_range=90, shear_range=0.2, zoom_range=0.2, validation_split=0.1, horizontal_flip=True)\n",
        "    else:\n",
        "        train_datagen = ImageDataGenerator( rescale=1./255, validation_split=0.1)\n",
        "\n",
        "    test_datagen = ImageDataGenerator(rescale=1./255)\n",
        "\n",
        "    train_generator = train_datagen.flow_from_directory(\n",
        "        '/content/drive/MyDrive/DL_DATA_iNat/train',\n",
        "        subset='training',\n",
        "        target_size=(227,227),\n",
        "        batch_size=BATCH_SIZE,\n",
        "        class_mode='categorical',\n",
        "        shuffle = True,\n",
        "        seed = 45)\n",
        "\n",
        "    val_generator = train_datagen.flow_from_directory(\n",
        "        '/content/drive/MyDrive/DL_DATA_iNat/train',\n",
        "        subset = 'validation',\n",
        "        target_size=(227,227),\n",
        "        batch_size=BATCH_SIZE,\n",
        "        class_mode='categorical',\n",
        "        shuffle = True,\n",
        "        seed = 45)\n",
        "\n",
        "    test_generator = test_datagen.flow_from_directory(\n",
        "        '/content/drive/MyDrive/DL_DATA_iNat/val',\n",
        "        target_size=(227,227),\n",
        "        batch_size=BATCH_SIZE,\n",
        "        class_mode='categorical')\n",
        "    \n",
        "    return train_generator, val_generator, test_generator\n",
        "    "
      ],
      "metadata": {
        "id": "-G6LTs5IiRNV"
      },
      "execution_count": 5,
      "outputs": []
    },
    {
      "cell_type": "markdown",
      "source": [
        "## WandB install and login"
      ],
      "metadata": {
        "id": "HH56tV_9MwDV"
      }
    },
    {
      "cell_type": "code",
      "source": [
        "!pip install wandb\n"
      ],
      "metadata": {
        "id": "QWTjGxR7sRdg"
      },
      "execution_count": null,
      "outputs": []
    },
    {
      "cell_type": "code",
      "source": [
        "import wandb\n",
        "wandb.login()"
      ],
      "metadata": {
        "colab": {
          "base_uri": "https://localhost:8080/",
          "height": 71
        },
        "id": "ukOSyjRdgI_4",
        "outputId": "6cd7da80-4af3-4c44-ec62-a47e518c6980"
      },
      "execution_count": 7,
      "outputs": [
        {
          "output_type": "display_data",
          "data": {
            "text/plain": [
              "<IPython.core.display.Javascript object>"
            ],
            "application/javascript": [
              "\n",
              "        window._wandbApiKey = new Promise((resolve, reject) => {\n",
              "            function loadScript(url) {\n",
              "            return new Promise(function(resolve, reject) {\n",
              "                let newScript = document.createElement(\"script\");\n",
              "                newScript.onerror = reject;\n",
              "                newScript.onload = resolve;\n",
              "                document.body.appendChild(newScript);\n",
              "                newScript.src = url;\n",
              "            });\n",
              "            }\n",
              "            loadScript(\"https://cdn.jsdelivr.net/npm/postmate/build/postmate.min.js\").then(() => {\n",
              "            const iframe = document.createElement('iframe')\n",
              "            iframe.style.cssText = \"width:0;height:0;border:none\"\n",
              "            document.body.appendChild(iframe)\n",
              "            const handshake = new Postmate({\n",
              "                container: iframe,\n",
              "                url: 'https://wandb.ai/authorize'\n",
              "            });\n",
              "            const timeout = setTimeout(() => reject(\"Couldn't auto authenticate\"), 5000)\n",
              "            handshake.then(function(child) {\n",
              "                child.on('authorize', data => {\n",
              "                    clearTimeout(timeout)\n",
              "                    resolve(data)\n",
              "                });\n",
              "            });\n",
              "            })\n",
              "        });\n",
              "    "
            ]
          },
          "metadata": {}
        },
        {
          "output_type": "stream",
          "name": "stderr",
          "text": [
            "\u001b[34m\u001b[1mwandb\u001b[0m: Appending key for api.wandb.ai to your netrc file: /root/.netrc\n"
          ]
        },
        {
          "output_type": "execute_result",
          "data": {
            "text/plain": [
              "True"
            ]
          },
          "metadata": {},
          "execution_count": 7
        }
      ]
    },
    {
      "cell_type": "markdown",
      "source": [
        "## Fetch data, Train and sweep :-"
      ],
      "metadata": {
        "id": "0sGRa-rv_Lqe"
      }
    },
    {
      "cell_type": "code",
      "source": [
        "#--------Fetching dataset-------------------------------------------------------\n",
        "\n",
        "#--Batch size set by the user\n",
        "BATCH_SIZE = 32\n",
        "train_gen, val_gen, test_gen = dataProcess(BATCH_SIZE, True)    #Data augmentation is kept true and not as hyperparameter."
      ],
      "metadata": {
        "id": "XHfhWONGxA07",
        "colab": {
          "base_uri": "https://localhost:8080/"
        },
        "outputId": "80e4af2d-7d43-469b-e4b2-dd5ddfe1036e"
      },
      "execution_count": 8,
      "outputs": [
        {
          "output_type": "stream",
          "name": "stdout",
          "text": [
            "Found 9018 images belonging to 10 classes.\n",
            "Found 1000 images belonging to 10 classes.\n",
            "Found 2009 images belonging to 10 classes.\n"
          ]
        }
      ]
    },
    {
      "cell_type": "code",
      "source": [
        "# Sweep configurations ---------------------------------------------------------\n",
        "\n",
        "sweep_config = {\n",
        "    'method': 'random', \n",
        "    'metric': {\n",
        "      'name': 'val_accuracy',\n",
        "      'goal': 'maximize'   \n",
        "    },\n",
        "    'parameters': {\n",
        "        'epochs': { 'values': [8]\n",
        "        },\n",
        "        'filters': {\n",
        "            'values': [[16,32,64,128,256], [32,64,128,256,256],\n",
        "                       [64,32,16,8,4], [32,16,8,4,2],\n",
        "                       [64,64,64,64,64], [32,32,32,32,32], [48,48,48,48,48]\n",
        "                      ]\n",
        "        },\n",
        "        'filter_size': { 'values': [  [(7,7),(7,7),(7,7),(7,7),(7,7)],\n",
        "                                      [(5,5),(5,5),(5,5),(5,5),(5,5)],\n",
        "                                      [(3,3),(3,3),(3,3),(3,3),(3,3)],\n",
        "                                      [(2,2),(2,2),(2,2),(2,2),(2,2)]  ]\n",
        "        },\n",
        "        'dense_neuron': { 'values': [256,512,1024]\n",
        "        },\n",
        "        'batch_norm': { 'values': [True,False]\n",
        "        },\n",
        "        'dropout': { 'values': [0.15,0.2]\n",
        "        },\n",
        "        'lr': { 'values': [1e-4,1e-5]\n",
        "        }\n",
        "    }\n",
        "}"
      ],
      "metadata": {
        "id": "U9rXSYRZiSQ8"
      },
      "execution_count": null,
      "outputs": []
    },
    {
      "cell_type": "code",
      "source": [
        "import wandb\n",
        "from wandb.keras import WandbCallback\n",
        "\n",
        "def train():\n",
        "    config_defaults = {\n",
        "        \"filters\": [32,64,128,256,256],\n",
        "        \"filter_size\": [(3,3),(3,3),(3,3),(3,3),(3,3)],\n",
        "        \"dropout\": 0.15,\n",
        "        \"batch_norm\": True,\n",
        "        \"epochs\": 10,\n",
        "        \"dense_neuron\": 512,\n",
        "        \"lr\": 0.0001\n",
        "    }\n",
        "\n",
        "    wandb.init(config=config_defaults,name=\"CS6910-A2-P_A\")\n",
        "    config = wandb.config\n",
        "    wandb.run.name = \"flt_{}_fltsz_{}_do_{}_bn_{}_dsz_{}_lr_{}\".format(config.filters,\\\n",
        "                                                      config.filter_size[0],\\\n",
        "                                                      config.dropout,\\\n",
        "                                                      config.batch_norm,\\\n",
        "                                                      config.dense_neuron,\\\n",
        "                                                      config.lr)\n",
        "    wandb.run.save()\n",
        "    model = create_cnn_model(config.filters, config.filter_size, config.dense_neuron, config.batch_norm, config.dropout, 'relu', \"same\", config.lr)\n",
        "    #Activation is done by ReLu only and not as a hyperparamater, but can be set by the user a parameter\n",
        "    #padding is also set to \"same\" by default.\n",
        "\n",
        "    trained_arti = model.fit(\n",
        "                              train_gen,\n",
        "                              steps_per_epoch = train_gen.samples // BATCH_SIZE,\n",
        "                              validation_data = val_gen, \n",
        "                              validation_steps = val_gen.samples // BATCH_SIZE,\n",
        "                              epochs = config.epochs, \n",
        "                              callbacks=[WandbCallback(monitor='val_accuracy',mode='max')]\n",
        "                            )\n",
        "    #model.save('/content/drive/MyDrive/DL_DATA_iNat/best_model.h5)\n",
        "    wandb.finish()\n",
        "    return model, trained_arti"
      ],
      "metadata": {
        "id": "2IGMXwiG_Gca"
      },
      "execution_count": 9,
      "outputs": []
    },
    {
      "cell_type": "code",
      "source": [
        ""
      ],
      "metadata": {
        "id": "RclYguU8zxL2"
      },
      "execution_count": null,
      "outputs": []
    },
    {
      "cell_type": "code",
      "source": [
        "sweep_id = wandb.sweep(sweep_config,entity=\"pandp\",project = 'cs6910-As-2')"
      ],
      "metadata": {
        "colab": {
          "base_uri": "https://localhost:8080/"
        },
        "id": "KIlhAuiOhJ4K",
        "outputId": "b86e8332-ba08-407a-9a9f-3a0149567d5d"
      },
      "execution_count": null,
      "outputs": [
        {
          "output_type": "stream",
          "name": "stdout",
          "text": [
            "Create sweep with ID: et1l06k6\n",
            "Sweep URL: https://wandb.ai/pandp/cs6910-As-2/sweeps/et1l06k6\n"
          ]
        }
      ]
    },
    {
      "cell_type": "code",
      "source": [
        "sweep_id = 'et1l06k6'"
      ],
      "metadata": {
        "id": "MWjTKLFTOdvu"
      },
      "execution_count": 10,
      "outputs": []
    },
    {
      "cell_type": "markdown",
      "source": [
        "Create sweep with ID: et1l06k6\n",
        "Sweep URL: https://wandb.ai/pandp/cs6910-As-2/sweeps/et1l06k6"
      ],
      "metadata": {
        "id": "8edIt_tvZKcp"
      }
    },
    {
      "cell_type": "code",
      "source": [
        "wandb.agent(sweep_id, train, count=40)"
      ],
      "metadata": {
        "colab": {
          "base_uri": "https://localhost:8080/",
          "height": 1000,
          "referenced_widgets": [
            "5c7eefc6901243d2aa18b9a947974c68",
            "02c6ac77431d467cbe71fccc2e781407",
            "2c16cca823ea46dba8cd8b36d8a68014",
            "09d09cb47b9a4a0e9e38a02f7c554280",
            "3e545588899448d7b40a0beb28ba6a69",
            "71048cc335c2476abdbb76ae7409b697",
            "cab14b699cce455e81d550b3c8280978",
            "6183a0b91ced418795c51173fa501852"
          ]
        },
        "id": "smIx91zLiMT7",
        "outputId": "e7105c52-0d74-447f-ba93-8979cae30c01"
      },
      "execution_count": null,
      "outputs": [
        {
          "output_type": "stream",
          "name": "stderr",
          "text": [
            "\u001b[34m\u001b[1mwandb\u001b[0m: Agent Starting Run: zux3nesi with config:\n",
            "\u001b[34m\u001b[1mwandb\u001b[0m: \tbatch_norm: True\n",
            "\u001b[34m\u001b[1mwandb\u001b[0m: \tdense_neuron: 512\n",
            "\u001b[34m\u001b[1mwandb\u001b[0m: \tdropout: 0.2\n",
            "\u001b[34m\u001b[1mwandb\u001b[0m: \tepochs: 8\n",
            "\u001b[34m\u001b[1mwandb\u001b[0m: \tfilter_size: [[3, 3], [3, 3], [3, 3], [3, 3], [3, 3]]\n",
            "\u001b[34m\u001b[1mwandb\u001b[0m: \tfilters: [64, 32, 16, 8, 4]\n",
            "\u001b[34m\u001b[1mwandb\u001b[0m: \tlr: 0.0001\n",
            "\u001b[34m\u001b[1mwandb\u001b[0m: Currently logged in as: \u001b[33mpranab045\u001b[0m (use `wandb login --relogin` to force relogin)\n"
          ]
        },
        {
          "output_type": "display_data",
          "data": {
            "text/plain": [
              "<IPython.core.display.HTML object>"
            ],
            "text/html": [
              "Tracking run with wandb version 0.12.11"
            ]
          },
          "metadata": {}
        },
        {
          "output_type": "display_data",
          "data": {
            "text/plain": [
              "<IPython.core.display.HTML object>"
            ],
            "text/html": [
              "Run data is saved locally in <code>/content/wandb/run-20220330_122728-zux3nesi</code>"
            ]
          },
          "metadata": {}
        },
        {
          "output_type": "display_data",
          "data": {
            "text/plain": [
              "<IPython.core.display.HTML object>"
            ],
            "text/html": [
              "Syncing run <strong><a href=\"https://wandb.ai/pandp/cs6910-As-2/runs/zux3nesi\" target=\"_blank\">CS6910-A2-P_A</a></strong> to <a href=\"https://wandb.ai/pandp/cs6910-As-2\" target=\"_blank\">Weights & Biases</a> (<a href=\"https://wandb.me/run\" target=\"_blank\">docs</a>)<br/>Sweep page:  <a href=\"https://wandb.ai/pandp/cs6910-As-2/sweeps/et1l06k6\" target=\"_blank\">https://wandb.ai/pandp/cs6910-As-2/sweeps/et1l06k6</a>"
            ]
          },
          "metadata": {}
        },
        {
          "output_type": "stream",
          "name": "stderr",
          "text": [
            "\u001b[34m\u001b[1mwandb\u001b[0m: \u001b[33mWARNING\u001b[0m Calling wandb.run.save without any arguments is deprecated.Changes to attributes are automatically persisted.\n"
          ]
        },
        {
          "output_type": "stream",
          "name": "stdout",
          "text": [
            "Epoch 1/8\n",
            "281/281 [==============================] - 2645s 9s/step - loss: 2.2556 - accuracy: 0.1710 - val_loss: 2.5133 - val_accuracy: 0.1018 - _timestamp: 1648645910.0000 - _runtime: 2662.0000\n",
            "Epoch 2/8\n",
            "281/281 [==============================] - 278s 989ms/step - loss: 2.1342 - accuracy: 0.2221 - val_loss: 2.1438 - val_accuracy: 0.2188 - _timestamp: 1648646206.0000 - _runtime: 2958.0000\n",
            "Epoch 3/8\n",
            "281/281 [==============================] - 268s 954ms/step - loss: 2.0881 - accuracy: 0.2425 - val_loss: 2.0696 - val_accuracy: 0.2520 - _timestamp: 1648646474.0000 - _runtime: 3226.0000\n",
            "Epoch 4/8\n",
            "281/281 [==============================] - 275s 977ms/step - loss: 2.0442 - accuracy: 0.2674 - val_loss: 2.0737 - val_accuracy: 0.2460 - _timestamp: 1648646803.0000 - _runtime: 3555.0000\n",
            "Epoch 5/8\n",
            "281/281 [==============================] - 268s 952ms/step - loss: 2.0161 - accuracy: 0.2729 - val_loss: 2.0066 - val_accuracy: 0.2812 - _timestamp: 1648647070.0000 - _runtime: 3822.0000\n",
            "Epoch 6/8\n",
            "281/281 [==============================] - 275s 977ms/step - loss: 1.9921 - accuracy: 0.2827 - val_loss: 1.9808 - val_accuracy: 0.2893 - _timestamp: 1648647399.0000 - _runtime: 4151.0000\n",
            "Epoch 7/8\n",
            "281/281 [==============================] - 271s 963ms/step - loss: 1.9832 - accuracy: 0.2893 - val_loss: 1.9942 - val_accuracy: 0.2802 - _timestamp: 1648647670.0000 - _runtime: 4422.0000\n",
            "Epoch 8/8\n",
            "281/281 [==============================] - 272s 966ms/step - loss: 1.9702 - accuracy: 0.2978 - val_loss: 1.9655 - val_accuracy: 0.3014 - _timestamp: 1648647941.0000 - _runtime: 4693.0000\n",
            "63/63 [==============================] - 553s 9s/step - loss: 1.9634 - accuracy: 0.3056\n",
            "\n"
          ]
        },
        {
          "output_type": "display_data",
          "data": {
            "text/plain": [
              "<IPython.core.display.HTML object>"
            ],
            "text/html": [
              "Waiting for W&B process to finish... <strong style=\"color:green\">(success).</strong>"
            ]
          },
          "metadata": {}
        },
        {
          "output_type": "display_data",
          "data": {
            "text/plain": [
              "VBox(children=(Label(value='1.644 MB of 1.644 MB uploaded (0.000 MB deduped)\\r'), FloatProgress(value=1.0, max…"
            ],
            "application/vnd.jupyter.widget-view+json": {
              "version_major": 2,
              "version_minor": 0,
              "model_id": "5c7eefc6901243d2aa18b9a947974c68"
            }
          },
          "metadata": {}
        },
        {
          "output_type": "display_data",
          "data": {
            "text/plain": [
              "<IPython.core.display.HTML object>"
            ],
            "text/html": [
              "<style>\n",
              "    table.wandb td:nth-child(1) { padding: 0 10px; text-align: right }\n",
              "    .wandb-row { display: flex; flex-direction: row; flex-wrap: wrap; width: 100% }\n",
              "    .wandb-col { display: flex; flex-direction: column; flex-basis: 100%; flex: 1; padding: 10px; }\n",
              "    </style>\n",
              "<div class=\"wandb-row\"><div class=\"wandb-col\"><h3>Run history:</h3><br/><table class=\"wandb\"><tr><td>accuracy</td><td>▁▄▅▆▇▇██</td></tr><tr><td>epoch</td><td>▁▂▃▄▅▆▇█</td></tr><tr><td>loss</td><td>█▅▄▃▂▂▁▁</td></tr><tr><td>val_accuracy</td><td>▁▅▆▆▇█▇█</td></tr><tr><td>val_loss</td><td>█▃▂▂▂▁▁▁</td></tr></table><br/></div><div class=\"wandb-col\"><h3>Run summary:</h3><br/><table class=\"wandb\"><tr><td>accuracy</td><td>0.2978</td></tr><tr><td>best_epoch</td><td>7</td></tr><tr><td>best_val_accuracy</td><td>0.30141</td></tr><tr><td>epoch</td><td>7</td></tr><tr><td>loss</td><td>1.97022</td></tr><tr><td>val_accuracy</td><td>0.30141</td></tr><tr><td>val_loss</td><td>1.96554</td></tr></table><br/></div></div>"
            ]
          },
          "metadata": {}
        },
        {
          "output_type": "display_data",
          "data": {
            "text/plain": [
              "<IPython.core.display.HTML object>"
            ],
            "text/html": [
              "Synced <strong style=\"color:#cdcd00\">CS6910-A2-P_A</strong>: <a href=\"https://wandb.ai/pandp/cs6910-As-2/runs/zux3nesi\" target=\"_blank\">https://wandb.ai/pandp/cs6910-As-2/runs/zux3nesi</a><br/>Synced 5 W&B file(s), 1 media file(s), 0 artifact file(s) and 1 other file(s)"
            ]
          },
          "metadata": {}
        },
        {
          "output_type": "display_data",
          "data": {
            "text/plain": [
              "<IPython.core.display.HTML object>"
            ],
            "text/html": [
              "Find logs at: <code>./wandb/run-20220330_122728-zux3nesi/logs</code>"
            ]
          },
          "metadata": {}
        },
        {
          "output_type": "stream",
          "name": "stderr",
          "text": [
            "\u001b[34m\u001b[1mwandb\u001b[0m: Agent Starting Run: d7tp640m with config:\n",
            "\u001b[34m\u001b[1mwandb\u001b[0m: \tbatch_norm: True\n",
            "\u001b[34m\u001b[1mwandb\u001b[0m: \tdense_neuron: 1024\n",
            "\u001b[34m\u001b[1mwandb\u001b[0m: \tdropout: 0.15\n",
            "\u001b[34m\u001b[1mwandb\u001b[0m: \tepochs: 8\n",
            "\u001b[34m\u001b[1mwandb\u001b[0m: \tfilter_size: [[3, 3], [3, 3], [3, 3], [3, 3], [3, 3]]\n",
            "\u001b[34m\u001b[1mwandb\u001b[0m: \tfilters: [64, 32, 16, 8, 4]\n",
            "\u001b[34m\u001b[1mwandb\u001b[0m: \tlr: 1e-05\n"
          ]
        },
        {
          "output_type": "display_data",
          "data": {
            "text/plain": [
              "<IPython.core.display.HTML object>"
            ],
            "text/html": [
              "Tracking run with wandb version 0.12.11"
            ]
          },
          "metadata": {}
        },
        {
          "output_type": "display_data",
          "data": {
            "text/plain": [
              "<IPython.core.display.HTML object>"
            ],
            "text/html": [
              "Run data is saved locally in <code>/content/wandb/run-20220330_135601-d7tp640m</code>"
            ]
          },
          "metadata": {}
        },
        {
          "output_type": "display_data",
          "data": {
            "text/plain": [
              "<IPython.core.display.HTML object>"
            ],
            "text/html": [
              "Syncing run <strong><a href=\"https://wandb.ai/pandp/cs6910-As-2/runs/d7tp640m\" target=\"_blank\">CS6910-A2-P_A</a></strong> to <a href=\"https://wandb.ai/pandp/cs6910-As-2\" target=\"_blank\">Weights & Biases</a> (<a href=\"https://wandb.me/run\" target=\"_blank\">docs</a>)<br/>Sweep page:  <a href=\"https://wandb.ai/pandp/cs6910-As-2/sweeps/et1l06k6\" target=\"_blank\">https://wandb.ai/pandp/cs6910-As-2/sweeps/et1l06k6</a>"
            ]
          },
          "metadata": {}
        },
        {
          "output_type": "stream",
          "name": "stdout",
          "text": [
            "Epoch 1/8\n",
            "281/281 [==============================] - 280s 993ms/step - loss: 2.3649 - accuracy: 0.1118 - val_loss: 2.3161 - val_accuracy: 0.0938 - _timestamp: 1648648850.0000 - _runtime: 289.0000\n",
            "Epoch 2/8\n",
            "281/281 [==============================] - 282s 1s/step - loss: 2.2943 - accuracy: 0.1460 - val_loss: 2.2521 - val_accuracy: 0.1462 - _timestamp: 1648649132.0000 - _runtime: 571.0000\n",
            "Epoch 3/8\n",
            "281/281 [==============================] - 275s 977ms/step - loss: 2.2722 - accuracy: 0.1564 - val_loss: 2.2324 - val_accuracy: 0.1845 - _timestamp: 1648649446.0000 - _runtime: 885.0000\n",
            "Epoch 4/8\n",
            "281/281 [==============================] - 270s 960ms/step - loss: 2.2384 - accuracy: 0.1717 - val_loss: 2.2038 - val_accuracy: 0.1835 - _timestamp: 1648649716.0000 - _runtime: 1155.0000\n",
            "Epoch 5/8\n",
            "281/281 [==============================] - 266s 948ms/step - loss: 2.2084 - accuracy: 0.1933 - val_loss: 2.1927 - val_accuracy: 0.1865 - _timestamp: 1648649982.0000 - _runtime: 1421.0000\n",
            "Epoch 6/8\n",
            "247/281 [=========================>....] - ETA: 29s - loss: 2.1999 - accuracy: 0.2019"
          ]
        }
      ]
    },
    {
      "cell_type": "code",
      "source": [
        "wandb.agent(sweep_id,train,entity=\"pandp\",project = 'cs6910-As-2', count=40)"
      ],
      "metadata": {
        "colab": {
          "base_uri": "https://localhost:8080/",
          "height": 1000,
          "referenced_widgets": [
            "50d895cf8c3f4921952ed84eb74dd29e",
            "9a3fee65272f437aa62aa363e21faeb1",
            "45d8b56f57f84dcb9d787d318f498d9a",
            "2252ba92be9947c2adb8c338a0c9b32f",
            "f50d1db7bb6e4710aec4642e2882e1f9",
            "1255064e2b6941ee9827895c430b6389",
            "1cc666a65fb742f89855b85cc453d9ab",
            "273aa954f89c4d32b27aabfdf97d6d26",
            "38f226cc276048aba6a6b88e9be7438f",
            "909c2bfe89964a5fb39fc37a6b513c86",
            "c9001774273e481cb57387978306382b",
            "a40a87c0d2a54b3c89b9c2da0103b624",
            "2040e4dc36094d18b576e1fbb52306e6",
            "82651bf10458400d90c9f5ae2bb715e1",
            "1d0357662e8440d4afdc2c5adff7175b",
            "b4f6dd4a88aa48c3a7e8834681efb447",
            "bd4407c00f3042659dc7045fdebd43a1",
            "df2f831094654bc8baf136b8a4a80273",
            "fbe54ccdb6684a1ba45d1f85f1aad07b",
            "1979da65babd4fa2a6f00a902a5261f5",
            "2eafc1388dbc4844ba932ba7aee8e835",
            "fb407b3fbe5f4df08bdb8fd230ccf4a9",
            "55b2f79f4ef64152b6aabf6a566534d1",
            "8c8a871f5b014db69e6a90f0615a3f00",
            "c9b0643329a4411cb8c7d2d30d98e6ca",
            "7d1c50c4bd00495ca33e45c06c54835e",
            "71fa397cdd26438b97bbdc67fd404963",
            "63c77ccc2122484ea7a742c403308f54",
            "fa204c735c1a4a748fe74d0b8cceefe8",
            "f8f7910280d1426a88b5e9c9ff070362",
            "e1e8caf69fc3465782d94f93ab56442f",
            "64d4d216f70141c294747f7188b8acfd"
          ]
        },
        "id": "4vkvGk9bNvfy",
        "outputId": "08803655-10a5-4ee2-8a25-d5833bcb129e"
      },
      "execution_count": null,
      "outputs": [
        {
          "output_type": "stream",
          "name": "stderr",
          "text": [
            "\u001b[34m\u001b[1mwandb\u001b[0m: Agent Starting Run: 9f4kx1fm with config:\n",
            "\u001b[34m\u001b[1mwandb\u001b[0m: \tbatch_norm: False\n",
            "\u001b[34m\u001b[1mwandb\u001b[0m: \tdense_neuron: 256\n",
            "\u001b[34m\u001b[1mwandb\u001b[0m: \tdropout: 0.15\n",
            "\u001b[34m\u001b[1mwandb\u001b[0m: \tepochs: 8\n",
            "\u001b[34m\u001b[1mwandb\u001b[0m: \tfilter_size: [[3, 3], [3, 3], [3, 3], [3, 3], [3, 3]]\n",
            "\u001b[34m\u001b[1mwandb\u001b[0m: \tfilters: [64, 32, 16, 8, 4]\n",
            "\u001b[34m\u001b[1mwandb\u001b[0m: \tlr: 0.0001\n",
            "\u001b[34m\u001b[1mwandb\u001b[0m: Currently logged in as: \u001b[33mpranab045\u001b[0m (use `wandb login --relogin` to force relogin)\n"
          ]
        },
        {
          "output_type": "display_data",
          "data": {
            "text/plain": [
              "<IPython.core.display.HTML object>"
            ],
            "text/html": [
              "Tracking run with wandb version 0.12.11"
            ]
          },
          "metadata": {}
        },
        {
          "output_type": "display_data",
          "data": {
            "text/plain": [
              "<IPython.core.display.HTML object>"
            ],
            "text/html": [
              "Run data is saved locally in <code>/content/wandb/run-20220330_143203-9f4kx1fm</code>"
            ]
          },
          "metadata": {}
        },
        {
          "output_type": "display_data",
          "data": {
            "text/plain": [
              "<IPython.core.display.HTML object>"
            ],
            "text/html": [
              "Syncing run <strong><a href=\"https://wandb.ai/pandp/cs6910-As-2/runs/9f4kx1fm\" target=\"_blank\">CS6910-A2-P_A</a></strong> to <a href=\"https://wandb.ai/pandp/cs6910-As-2\" target=\"_blank\">Weights & Biases</a> (<a href=\"https://wandb.me/run\" target=\"_blank\">docs</a>)<br/>Sweep page:  <a href=\"https://wandb.ai/pandp/cs6910-As-2/sweeps/et1l06k6\" target=\"_blank\">https://wandb.ai/pandp/cs6910-As-2/sweeps/et1l06k6</a>"
            ]
          },
          "metadata": {}
        },
        {
          "output_type": "stream",
          "name": "stderr",
          "text": [
            "\u001b[34m\u001b[1mwandb\u001b[0m: \u001b[33mWARNING\u001b[0m Calling wandb.run.save without any arguments is deprecated.Changes to attributes are automatically persisted.\n"
          ]
        },
        {
          "output_type": "stream",
          "name": "stdout",
          "text": [
            "Epoch 1/8\n",
            " 66/281 [======>.......................] - ETA: 30:15 - loss: 2.3034 - accuracy: 0.1018\n"
          ]
        },
        {
          "output_type": "display_data",
          "data": {
            "text/plain": [
              "<IPython.core.display.HTML object>"
            ],
            "text/html": [
              "Waiting for W&B process to finish... <strong style=\"color:red\">(failed 1).</strong> Press Control-C to abort syncing."
            ]
          },
          "metadata": {}
        },
        {
          "output_type": "display_data",
          "data": {
            "text/plain": [
              "VBox(children=(Label(value='0.004 MB of 0.004 MB uploaded (0.000 MB deduped)\\r'), FloatProgress(value=1.0, max…"
            ],
            "application/vnd.jupyter.widget-view+json": {
              "version_major": 2,
              "version_minor": 0,
              "model_id": "50d895cf8c3f4921952ed84eb74dd29e"
            }
          },
          "metadata": {}
        },
        {
          "output_type": "display_data",
          "data": {
            "text/plain": [
              "<IPython.core.display.HTML object>"
            ],
            "text/html": [
              "Synced <strong style=\"color:#cdcd00\">CS6910-A2-P_A</strong>: <a href=\"https://wandb.ai/pandp/cs6910-As-2/runs/9f4kx1fm\" target=\"_blank\">https://wandb.ai/pandp/cs6910-As-2/runs/9f4kx1fm</a><br/>Synced 5 W&B file(s), 1 media file(s), 0 artifact file(s) and 0 other file(s)"
            ]
          },
          "metadata": {}
        },
        {
          "output_type": "display_data",
          "data": {
            "text/plain": [
              "<IPython.core.display.HTML object>"
            ],
            "text/html": [
              "Find logs at: <code>./wandb/run-20220330_143203-9f4kx1fm/logs</code>"
            ]
          },
          "metadata": {}
        },
        {
          "output_type": "stream",
          "name": "stderr",
          "text": [
            "Run 9f4kx1fm errored: UnknownError()\n",
            "\u001b[34m\u001b[1mwandb\u001b[0m: \u001b[32m\u001b[41mERROR\u001b[0m Run 9f4kx1fm errored: UnknownError()\n",
            "\u001b[34m\u001b[1mwandb\u001b[0m: Agent Starting Run: jbh5rbn1 with config:\n",
            "\u001b[34m\u001b[1mwandb\u001b[0m: \tbatch_norm: True\n",
            "\u001b[34m\u001b[1mwandb\u001b[0m: \tdense_neuron: 1024\n",
            "\u001b[34m\u001b[1mwandb\u001b[0m: \tdropout: 0.15\n",
            "\u001b[34m\u001b[1mwandb\u001b[0m: \tepochs: 8\n",
            "\u001b[34m\u001b[1mwandb\u001b[0m: \tfilter_size: [[2, 2], [2, 2], [2, 2], [2, 2], [2, 2]]\n",
            "\u001b[34m\u001b[1mwandb\u001b[0m: \tfilters: [32, 16, 8, 4, 2]\n",
            "\u001b[34m\u001b[1mwandb\u001b[0m: \tlr: 0.0001\n"
          ]
        },
        {
          "output_type": "display_data",
          "data": {
            "text/plain": [
              "<IPython.core.display.HTML object>"
            ],
            "text/html": [
              "Tracking run with wandb version 0.12.11"
            ]
          },
          "metadata": {}
        },
        {
          "output_type": "display_data",
          "data": {
            "text/plain": [
              "<IPython.core.display.HTML object>"
            ],
            "text/html": [
              "Run data is saved locally in <code>/content/wandb/run-20220330_144214-jbh5rbn1</code>"
            ]
          },
          "metadata": {}
        },
        {
          "output_type": "display_data",
          "data": {
            "text/plain": [
              "<IPython.core.display.HTML object>"
            ],
            "text/html": [
              "Syncing run <strong><a href=\"https://wandb.ai/pandp/cs6910-As-2/runs/jbh5rbn1\" target=\"_blank\">CS6910-A2-P_A</a></strong> to <a href=\"https://wandb.ai/pandp/cs6910-As-2\" target=\"_blank\">Weights & Biases</a> (<a href=\"https://wandb.me/run\" target=\"_blank\">docs</a>)<br/>Sweep page:  <a href=\"https://wandb.ai/pandp/cs6910-As-2/sweeps/et1l06k6\" target=\"_blank\">https://wandb.ai/pandp/cs6910-As-2/sweeps/et1l06k6</a>"
            ]
          },
          "metadata": {}
        },
        {
          "output_type": "stream",
          "name": "stdout",
          "text": [
            "Epoch 1/8\n",
            "281/281 [==============================] - 1867s 7s/step - loss: 2.2851 - accuracy: 0.1449 - val_loss: 2.3194 - val_accuracy: 0.1210 - _timestamp: 1648653208.0000 - _runtime: 1874.0000\n",
            "Epoch 2/8\n",
            "281/281 [==============================] - 756s 3s/step - loss: 2.1888 - accuracy: 0.1950 - val_loss: 2.2114 - val_accuracy: 0.1633 - _timestamp: 1648653980.0000 - _runtime: 2646.0000\n",
            "Epoch 3/8\n",
            "281/281 [==============================] - 749s 3s/step - loss: 2.1457 - accuracy: 0.2191 - val_loss: 2.1314 - val_accuracy: 0.2228 - _timestamp: 1648654775.0000 - _runtime: 3441.0000\n",
            "Epoch 4/8\n",
            "281/281 [==============================] - 756s 3s/step - loss: 2.1170 - accuracy: 0.2266 - val_loss: 2.1002 - val_accuracy: 0.2349 - _timestamp: 1648655583.0000 - _runtime: 4249.0000\n",
            "Epoch 5/8\n",
            "281/281 [==============================] - 768s 3s/step - loss: 2.1055 - accuracy: 0.2289 - val_loss: 2.0888 - val_accuracy: 0.2369 - _timestamp: 1648656398.0000 - _runtime: 5064.0000\n",
            "Epoch 6/8\n",
            "281/281 [==============================] - 761s 3s/step - loss: 2.0907 - accuracy: 0.2387 - val_loss: 2.0712 - val_accuracy: 0.2480 - _timestamp: 1648657158.0000 - _runtime: 5824.0000\n",
            "Epoch 7/8\n",
            "281/281 [==============================] - 762s 3s/step - loss: 2.0745 - accuracy: 0.2413 - val_loss: 2.0736 - val_accuracy: 0.2470 - _timestamp: 1648657962.0000 - _runtime: 6628.0000\n",
            "Epoch 8/8\n",
            "281/281 [==============================] - 756s 3s/step - loss: 2.0610 - accuracy: 0.2519 - val_loss: 2.0651 - val_accuracy: 0.2601 - _timestamp: 1648658758.0000 - _runtime: 7424.0000\n",
            "\n"
          ]
        },
        {
          "output_type": "display_data",
          "data": {
            "text/plain": [
              "<IPython.core.display.HTML object>"
            ],
            "text/html": [
              "Waiting for W&B process to finish... <strong style=\"color:green\">(success).</strong>"
            ]
          },
          "metadata": {}
        },
        {
          "output_type": "display_data",
          "data": {
            "text/plain": [
              "VBox(children=(Label(value='1.442 MB of 1.442 MB uploaded (0.000 MB deduped)\\r'), FloatProgress(value=1.0, max…"
            ],
            "application/vnd.jupyter.widget-view+json": {
              "version_major": 2,
              "version_minor": 0,
              "model_id": "38f226cc276048aba6a6b88e9be7438f"
            }
          },
          "metadata": {}
        },
        {
          "output_type": "display_data",
          "data": {
            "text/plain": [
              "<IPython.core.display.HTML object>"
            ],
            "text/html": [
              "<style>\n",
              "    table.wandb td:nth-child(1) { padding: 0 10px; text-align: right }\n",
              "    .wandb-row { display: flex; flex-direction: row; flex-wrap: wrap; width: 100% }\n",
              "    .wandb-col { display: flex; flex-direction: column; flex-basis: 100%; flex: 1; padding: 10px; }\n",
              "    </style>\n",
              "<div class=\"wandb-row\"><div class=\"wandb-col\"><h3>Run history:</h3><br/><table class=\"wandb\"><tr><td>accuracy</td><td>▁▄▆▆▆▇▇█</td></tr><tr><td>epoch</td><td>▁▂▃▄▅▆▇█</td></tr><tr><td>loss</td><td>█▅▄▃▂▂▁▁</td></tr><tr><td>val_accuracy</td><td>▁▃▆▇▇▇▇█</td></tr><tr><td>val_loss</td><td>█▅▃▂▂▁▁▁</td></tr></table><br/></div><div class=\"wandb-col\"><h3>Run summary:</h3><br/><table class=\"wandb\"><tr><td>accuracy</td><td>0.25195</td></tr><tr><td>best_epoch</td><td>7</td></tr><tr><td>best_val_accuracy</td><td>0.26008</td></tr><tr><td>epoch</td><td>7</td></tr><tr><td>loss</td><td>2.06102</td></tr><tr><td>val_accuracy</td><td>0.26008</td></tr><tr><td>val_loss</td><td>2.06509</td></tr></table><br/></div></div>"
            ]
          },
          "metadata": {}
        },
        {
          "output_type": "display_data",
          "data": {
            "text/plain": [
              "<IPython.core.display.HTML object>"
            ],
            "text/html": [
              "Synced <strong style=\"color:#cdcd00\">CS6910-A2-P_A</strong>: <a href=\"https://wandb.ai/pandp/cs6910-As-2/runs/jbh5rbn1\" target=\"_blank\">https://wandb.ai/pandp/cs6910-As-2/runs/jbh5rbn1</a><br/>Synced 5 W&B file(s), 1 media file(s), 0 artifact file(s) and 1 other file(s)"
            ]
          },
          "metadata": {}
        },
        {
          "output_type": "display_data",
          "data": {
            "text/plain": [
              "<IPython.core.display.HTML object>"
            ],
            "text/html": [
              "Find logs at: <code>./wandb/run-20220330_144214-jbh5rbn1/logs</code>"
            ]
          },
          "metadata": {}
        },
        {
          "output_type": "stream",
          "name": "stderr",
          "text": [
            "\u001b[34m\u001b[1mwandb\u001b[0m: Agent Starting Run: 64j966j4 with config:\n",
            "\u001b[34m\u001b[1mwandb\u001b[0m: \tbatch_norm: False\n",
            "\u001b[34m\u001b[1mwandb\u001b[0m: \tdense_neuron: 1024\n",
            "\u001b[34m\u001b[1mwandb\u001b[0m: \tdropout: 0.15\n",
            "\u001b[34m\u001b[1mwandb\u001b[0m: \tepochs: 8\n",
            "\u001b[34m\u001b[1mwandb\u001b[0m: \tfilter_size: [[7, 7], [7, 7], [7, 7], [7, 7], [7, 7]]\n",
            "\u001b[34m\u001b[1mwandb\u001b[0m: \tfilters: [32, 16, 8, 4, 2]\n",
            "\u001b[34m\u001b[1mwandb\u001b[0m: \tlr: 0.0001\n"
          ]
        },
        {
          "output_type": "display_data",
          "data": {
            "text/plain": [
              "<IPython.core.display.HTML object>"
            ],
            "text/html": [
              "Tracking run with wandb version 0.12.11"
            ]
          },
          "metadata": {}
        },
        {
          "output_type": "display_data",
          "data": {
            "text/plain": [
              "<IPython.core.display.HTML object>"
            ],
            "text/html": [
              "Run data is saved locally in <code>/content/wandb/run-20220330_164700-64j966j4</code>"
            ]
          },
          "metadata": {}
        },
        {
          "output_type": "display_data",
          "data": {
            "text/plain": [
              "<IPython.core.display.HTML object>"
            ],
            "text/html": [
              "Syncing run <strong><a href=\"https://wandb.ai/pandp/cs6910-As-2/runs/64j966j4\" target=\"_blank\">CS6910-A2-P_A</a></strong> to <a href=\"https://wandb.ai/pandp/cs6910-As-2\" target=\"_blank\">Weights & Biases</a> (<a href=\"https://wandb.me/run\" target=\"_blank\">docs</a>)<br/>Sweep page:  <a href=\"https://wandb.ai/pandp/cs6910-As-2/sweeps/et1l06k6\" target=\"_blank\">https://wandb.ai/pandp/cs6910-As-2/sweeps/et1l06k6</a>"
            ]
          },
          "metadata": {}
        },
        {
          "output_type": "stream",
          "name": "stdout",
          "text": [
            "Epoch 1/8\n",
            "281/281 [==============================] - 1870s 7s/step - loss: 2.2978 - accuracy: 0.1082 - val_loss: 2.2965 - val_accuracy: 0.1058 - _timestamp: 1648660703.0000 - _runtime: 1883.0000\n",
            "Epoch 2/8\n",
            "281/281 [==============================] - 1884s 7s/step - loss: 2.2818 - accuracy: 0.1237 - val_loss: 2.2832 - val_accuracy: 0.1421 - _timestamp: 1648662600.0000 - _runtime: 3780.0000\n",
            "Epoch 3/8\n",
            "281/281 [==============================] - ETA: 0s - loss: 2.2503 - accuracy: 0.1507"
          ]
        },
        {
          "output_type": "stream",
          "name": "stderr",
          "text": [
            "\u001b[34m\u001b[1mwandb\u001b[0m: \u001b[32m\u001b[41mERROR\u001b[0m Error while calling W&B API: context deadline exceeded (<Response [500]>)\n"
          ]
        },
        {
          "output_type": "stream",
          "name": "stdout",
          "text": [
            "\b\b\b\b\b\b\b\b\b\b\b\b\b\b\b\b\b\b\b\b\b\b\b\b\b\b\b\b\b\b\b\b\b\b\b\b\b\b\b\b\b\b\b\b\b\b\b\b\b\b\b\b\b\b\b\b\b\b\b\b\b\b\b\b\b\b\b\b\b\b\b\b\b\b\b\b\b\b\b\b\b\b\b\b\r281/281 [==============================] - 1884s 7s/step - loss: 2.2503 - accuracy: 0.1507 - val_loss: 2.2396 - val_accuracy: 0.1562 - _timestamp: 1648664542.0000 - _runtime: 5722.0000\n",
            "Epoch 4/8\n",
            "281/281 [==============================] - 1889s 7s/step - loss: 2.1993 - accuracy: 0.1771 - val_loss: 2.1670 - val_accuracy: 0.2036 - _timestamp: 1648666431.0000 - _runtime: 7611.0000\n",
            "Epoch 5/8\n",
            "281/281 [==============================] - 1880s 7s/step - loss: 2.1498 - accuracy: 0.2084 - val_loss: 2.1346 - val_accuracy: 0.2248 - _timestamp: 1648668365.0000 - _runtime: 9545.0000\n",
            "Epoch 6/8\n",
            "281/281 [==============================] - 1882s 7s/step - loss: 2.1191 - accuracy: 0.2275 - val_loss: 2.1204 - val_accuracy: 0.2228 - _timestamp: 1648670249.0000 - _runtime: 11429.0000\n",
            "Epoch 7/8\n",
            " 70/281 [======>.......................] - ETA: 22:44 - loss: 2.1043 - accuracy: 0.2313"
          ]
        },
        {
          "output_type": "stream",
          "name": "stderr",
          "text": [
            "\u001b[34m\u001b[1mwandb\u001b[0m: \u001b[32m\u001b[41mERROR\u001b[0m Error while calling W&B API: context deadline exceeded (<Response [500]>)\n"
          ]
        },
        {
          "output_type": "stream",
          "name": "stdout",
          "text": [
            " 73/281 [======>.......................] - ETA: 22:23 - loss: 2.1016 - accuracy: 0.2342"
          ]
        },
        {
          "output_type": "stream",
          "name": "stderr",
          "text": [
            "\u001b[34m\u001b[1mwandb\u001b[0m: \u001b[32m\u001b[41mERROR\u001b[0m Error while calling W&B API: Error 1040: Too many connections (<Response [500]>)\n",
            "\u001b[34m\u001b[1mwandb\u001b[0m: Network error (HTTPError), entering retry loop.\n"
          ]
        },
        {
          "output_type": "stream",
          "name": "stdout",
          "text": [
            "281/281 [==============================] - 1873s 7s/step - loss: 2.0935 - accuracy: 0.2394 - val_loss: 2.0792 - val_accuracy: 0.2530 - _timestamp: 1648672181.0000 - _runtime: 13361.0000\n",
            "Epoch 8/8\n",
            "281/281 [==============================] - 1899s 7s/step - loss: 2.0724 - accuracy: 0.2535 - val_loss: 2.0623 - val_accuracy: 0.2702 - _timestamp: 1648674089.0000 - _runtime: 15269.0000\n",
            "\n"
          ]
        },
        {
          "output_type": "display_data",
          "data": {
            "text/plain": [
              "<IPython.core.display.HTML object>"
            ],
            "text/html": [
              "Waiting for W&B process to finish... <strong style=\"color:green\">(success).</strong>"
            ]
          },
          "metadata": {}
        },
        {
          "output_type": "display_data",
          "data": {
            "text/plain": [
              "VBox(children=(Label(value='1.795 MB of 1.795 MB uploaded (0.000 MB deduped)\\r'), FloatProgress(value=1.0, max…"
            ],
            "application/vnd.jupyter.widget-view+json": {
              "version_major": 2,
              "version_minor": 0,
              "model_id": "bd4407c00f3042659dc7045fdebd43a1"
            }
          },
          "metadata": {}
        },
        {
          "output_type": "display_data",
          "data": {
            "text/plain": [
              "<IPython.core.display.HTML object>"
            ],
            "text/html": [
              "<style>\n",
              "    table.wandb td:nth-child(1) { padding: 0 10px; text-align: right }\n",
              "    .wandb-row { display: flex; flex-direction: row; flex-wrap: wrap; width: 100% }\n",
              "    .wandb-col { display: flex; flex-direction: column; flex-basis: 100%; flex: 1; padding: 10px; }\n",
              "    </style>\n",
              "<div class=\"wandb-row\"><div class=\"wandb-col\"><h3>Run history:</h3><br/><table class=\"wandb\"><tr><td>accuracy</td><td>▁▂▃▄▆▇▇█</td></tr><tr><td>epoch</td><td>▁▂▃▄▅▆▇█</td></tr><tr><td>loss</td><td>██▇▅▃▂▂▁</td></tr><tr><td>val_accuracy</td><td>▁▃▃▅▆▆▇█</td></tr><tr><td>val_loss</td><td>██▆▄▃▃▂▁</td></tr></table><br/></div><div class=\"wandb-col\"><h3>Run summary:</h3><br/><table class=\"wandb\"><tr><td>accuracy</td><td>0.25351</td></tr><tr><td>best_epoch</td><td>7</td></tr><tr><td>best_val_accuracy</td><td>0.27016</td></tr><tr><td>epoch</td><td>7</td></tr><tr><td>loss</td><td>2.0724</td></tr><tr><td>val_accuracy</td><td>0.27016</td></tr><tr><td>val_loss</td><td>2.0623</td></tr></table><br/></div></div>"
            ]
          },
          "metadata": {}
        },
        {
          "output_type": "display_data",
          "data": {
            "text/plain": [
              "<IPython.core.display.HTML object>"
            ],
            "text/html": [
              "Synced <strong style=\"color:#cdcd00\">CS6910-A2-P_A</strong>: <a href=\"https://wandb.ai/pandp/cs6910-As-2/runs/64j966j4\" target=\"_blank\">https://wandb.ai/pandp/cs6910-As-2/runs/64j966j4</a><br/>Synced 5 W&B file(s), 1 media file(s), 0 artifact file(s) and 1 other file(s)"
            ]
          },
          "metadata": {}
        },
        {
          "output_type": "display_data",
          "data": {
            "text/plain": [
              "<IPython.core.display.HTML object>"
            ],
            "text/html": [
              "Find logs at: <code>./wandb/run-20220330_164700-64j966j4/logs</code>"
            ]
          },
          "metadata": {}
        },
        {
          "output_type": "stream",
          "name": "stderr",
          "text": [
            "\u001b[34m\u001b[1mwandb\u001b[0m: Agent Starting Run: g6dxxwwy with config:\n",
            "\u001b[34m\u001b[1mwandb\u001b[0m: \tbatch_norm: False\n",
            "\u001b[34m\u001b[1mwandb\u001b[0m: \tdense_neuron: 1024\n",
            "\u001b[34m\u001b[1mwandb\u001b[0m: \tdropout: 0.15\n",
            "\u001b[34m\u001b[1mwandb\u001b[0m: \tepochs: 8\n",
            "\u001b[34m\u001b[1mwandb\u001b[0m: \tfilter_size: [[3, 3], [3, 3], [3, 3], [3, 3], [3, 3]]\n",
            "\u001b[34m\u001b[1mwandb\u001b[0m: \tfilters: [64, 32, 16, 8, 4]\n",
            "\u001b[34m\u001b[1mwandb\u001b[0m: \tlr: 0.0001\n"
          ]
        },
        {
          "output_type": "display_data",
          "data": {
            "text/plain": [
              "<IPython.core.display.HTML object>"
            ],
            "text/html": [
              "Tracking run with wandb version 0.12.11"
            ]
          },
          "metadata": {}
        },
        {
          "output_type": "display_data",
          "data": {
            "text/plain": [
              "<IPython.core.display.HTML object>"
            ],
            "text/html": [
              "Run data is saved locally in <code>/content/wandb/run-20220330_210142-g6dxxwwy</code>"
            ]
          },
          "metadata": {}
        },
        {
          "output_type": "display_data",
          "data": {
            "text/plain": [
              "<IPython.core.display.HTML object>"
            ],
            "text/html": [
              "Syncing run <strong><a href=\"https://wandb.ai/pandp/cs6910-As-2/runs/g6dxxwwy\" target=\"_blank\">CS6910-A2-P_A</a></strong> to <a href=\"https://wandb.ai/pandp/cs6910-As-2\" target=\"_blank\">Weights & Biases</a> (<a href=\"https://wandb.me/run\" target=\"_blank\">docs</a>)<br/>Sweep page:  <a href=\"https://wandb.ai/pandp/cs6910-As-2/sweeps/et1l06k6\" target=\"_blank\">https://wandb.ai/pandp/cs6910-As-2/sweeps/et1l06k6</a>"
            ]
          },
          "metadata": {}
        },
        {
          "output_type": "stream",
          "name": "stdout",
          "text": [
            "Epoch 1/8\n",
            "281/281 [==============================] - 1120s 4s/step - loss: 2.2654 - accuracy: 0.1400 - val_loss: 2.2093 - val_accuracy: 0.1855 - _timestamp: 1648675235.0000 - _runtime: 1133.0000\n",
            "Epoch 2/8\n",
            "281/281 [==============================] - 1135s 4s/step - loss: 2.1847 - accuracy: 0.1971 - val_loss: 2.1628 - val_accuracy: 0.1976 - _timestamp: 1648676412.0000 - _runtime: 2310.0000\n",
            "Epoch 3/8\n",
            "281/281 [==============================] - 1138s 4s/step - loss: 2.1205 - accuracy: 0.2297 - val_loss: 2.0921 - val_accuracy: 0.2520 - _timestamp: 1648677577.0000 - _runtime: 3475.0000\n",
            "Epoch 4/8\n",
            "281/281 [==============================] - 1141s 4s/step - loss: 2.0691 - accuracy: 0.2647 - val_loss: 2.0695 - val_accuracy: 0.2651 - _timestamp: 1648678718.0000 - _runtime: 4616.0000\n",
            "Epoch 5/8\n",
            "281/281 [==============================] - 1146s 4s/step - loss: 2.0423 - accuracy: 0.2708 - val_loss: 2.0566 - val_accuracy: 0.2702 - _timestamp: 1648679864.0000 - _runtime: 5762.0000\n",
            "Epoch 6/8\n",
            "281/281 [==============================] - 1142s 4s/step - loss: 2.0182 - accuracy: 0.2762 - val_loss: 2.0375 - val_accuracy: 0.2802 - _timestamp: 1648681006.0000 - _runtime: 6904.0000\n",
            "Epoch 7/8\n",
            "281/281 [==============================] - 1152s 4s/step - loss: 2.0011 - accuracy: 0.2857 - val_loss: 2.0028 - val_accuracy: 0.2944 - _timestamp: 1648682177.0000 - _runtime: 8075.0000\n",
            "Epoch 8/8\n",
            "281/281 [==============================] - 1153s 4s/step - loss: 1.9829 - accuracy: 0.2878 - val_loss: 2.0030 - val_accuracy: 0.2752 - _timestamp: 1648683340.0000 - _runtime: 9238.0000\n",
            "\n"
          ]
        },
        {
          "output_type": "display_data",
          "data": {
            "text/plain": [
              "<IPython.core.display.HTML object>"
            ],
            "text/html": [
              "Waiting for W&B process to finish... <strong style=\"color:green\">(success).</strong>"
            ]
          },
          "metadata": {}
        },
        {
          "output_type": "display_data",
          "data": {
            "text/plain": [
              "VBox(children=(Label(value='2.809 MB of 2.809 MB uploaded (0.000 MB deduped)\\r'), FloatProgress(value=1.0, max…"
            ],
            "application/vnd.jupyter.widget-view+json": {
              "version_major": 2,
              "version_minor": 0,
              "model_id": "c9b0643329a4411cb8c7d2d30d98e6ca"
            }
          },
          "metadata": {}
        },
        {
          "output_type": "display_data",
          "data": {
            "text/plain": [
              "<IPython.core.display.HTML object>"
            ],
            "text/html": [
              "<style>\n",
              "    table.wandb td:nth-child(1) { padding: 0 10px; text-align: right }\n",
              "    .wandb-row { display: flex; flex-direction: row; flex-wrap: wrap; width: 100% }\n",
              "    .wandb-col { display: flex; flex-direction: column; flex-basis: 100%; flex: 1; padding: 10px; }\n",
              "    </style>\n",
              "<div class=\"wandb-row\"><div class=\"wandb-col\"><h3>Run history:</h3><br/><table class=\"wandb\"><tr><td>accuracy</td><td>▁▄▅▇▇▇██</td></tr><tr><td>epoch</td><td>▁▂▃▄▅▆▇█</td></tr><tr><td>loss</td><td>█▆▄▃▂▂▁▁</td></tr><tr><td>val_accuracy</td><td>▁▂▅▆▆▇█▇</td></tr><tr><td>val_loss</td><td>█▆▄▃▃▂▁▁</td></tr></table><br/></div><div class=\"wandb-col\"><h3>Run summary:</h3><br/><table class=\"wandb\"><tr><td>accuracy</td><td>0.28778</td></tr><tr><td>best_epoch</td><td>6</td></tr><tr><td>best_val_accuracy</td><td>0.29435</td></tr><tr><td>epoch</td><td>7</td></tr><tr><td>loss</td><td>1.9829</td></tr><tr><td>val_accuracy</td><td>0.2752</td></tr><tr><td>val_loss</td><td>2.00298</td></tr></table><br/></div></div>"
            ]
          },
          "metadata": {}
        },
        {
          "output_type": "display_data",
          "data": {
            "text/plain": [
              "<IPython.core.display.HTML object>"
            ],
            "text/html": [
              "Synced <strong style=\"color:#cdcd00\">CS6910-A2-P_A</strong>: <a href=\"https://wandb.ai/pandp/cs6910-As-2/runs/g6dxxwwy\" target=\"_blank\">https://wandb.ai/pandp/cs6910-As-2/runs/g6dxxwwy</a><br/>Synced 5 W&B file(s), 1 media file(s), 0 artifact file(s) and 1 other file(s)"
            ]
          },
          "metadata": {}
        },
        {
          "output_type": "display_data",
          "data": {
            "text/plain": [
              "<IPython.core.display.HTML object>"
            ],
            "text/html": [
              "Find logs at: <code>./wandb/run-20220330_210142-g6dxxwwy/logs</code>"
            ]
          },
          "metadata": {}
        },
        {
          "output_type": "stream",
          "name": "stderr",
          "text": [
            "\u001b[34m\u001b[1mwandb\u001b[0m: Agent Starting Run: c91k7mkf with config:\n",
            "\u001b[34m\u001b[1mwandb\u001b[0m: \tbatch_norm: True\n",
            "\u001b[34m\u001b[1mwandb\u001b[0m: \tdense_neuron: 256\n",
            "\u001b[34m\u001b[1mwandb\u001b[0m: \tdropout: 0.2\n",
            "\u001b[34m\u001b[1mwandb\u001b[0m: \tepochs: 8\n",
            "\u001b[34m\u001b[1mwandb\u001b[0m: \tfilter_size: [[7, 7], [7, 7], [7, 7], [7, 7], [7, 7]]\n",
            "\u001b[34m\u001b[1mwandb\u001b[0m: \tfilters: [32, 64, 128, 256, 256]\n",
            "\u001b[34m\u001b[1mwandb\u001b[0m: \tlr: 0.0001\n"
          ]
        },
        {
          "output_type": "display_data",
          "data": {
            "text/plain": [
              "<IPython.core.display.HTML object>"
            ],
            "text/html": [
              "Tracking run with wandb version 0.12.11"
            ]
          },
          "metadata": {}
        },
        {
          "output_type": "display_data",
          "data": {
            "text/plain": [
              "<IPython.core.display.HTML object>"
            ],
            "text/html": [
              "Run data is saved locally in <code>/content/wandb/run-20220330_233551-c91k7mkf</code>"
            ]
          },
          "metadata": {}
        },
        {
          "output_type": "display_data",
          "data": {
            "text/plain": [
              "<IPython.core.display.HTML object>"
            ],
            "text/html": [
              "Syncing run <strong><a href=\"https://wandb.ai/pandp/cs6910-As-2/runs/c91k7mkf\" target=\"_blank\">CS6910-A2-P_A</a></strong> to <a href=\"https://wandb.ai/pandp/cs6910-As-2\" target=\"_blank\">Weights & Biases</a> (<a href=\"https://wandb.me/run\" target=\"_blank\">docs</a>)<br/>Sweep page:  <a href=\"https://wandb.ai/pandp/cs6910-As-2/sweeps/et1l06k6\" target=\"_blank\">https://wandb.ai/pandp/cs6910-As-2/sweeps/et1l06k6</a>"
            ]
          },
          "metadata": {}
        },
        {
          "output_type": "stream",
          "name": "stdout",
          "text": [
            "Epoch 1/8\n",
            "281/281 [==============================] - 6525s 23s/step - loss: 2.1982 - accuracy: 0.2201 - val_loss: 2.5431 - val_accuracy: 0.0988 - _timestamp: 1648689888.0000 - _runtime: 6537.0000\n",
            "Epoch 2/8\n",
            "162/281 [================>.............] - ETA: 44:46 - loss: 2.0714 - accuracy: 0.2641"
          ]
        }
      ]
    },
    {
      "cell_type": "code",
      "source": [
        "wandb.agent(sweep_id,train,entity=\"pandp\",project = 'cs6910-As-2', count=40)"
      ],
      "metadata": {
        "colab": {
          "base_uri": "https://localhost:8080/",
          "height": 1000,
          "referenced_widgets": [
            "5b2380ea4b4747c99c008313b831f4b9",
            "d1e3603f406b4b239aabfab17e14e690",
            "bc0c6770ff9f43d9b71aa1727004ca61",
            "966555ff424f470db1ab0d1d8c509c04",
            "5e1022cfbb4043c688adcb1a60801550",
            "1f92cf3cc5b24692ba117c6f2fd6b8b8",
            "48bcdafcd20f4c84828b1194b3b16225",
            "9fd69bdc97cb487ba9633e03a32ea4b9",
            "562a032534214ce19197310c2f0095ef",
            "08a9a962d2d146b49966da53e810691e",
            "4a046d75c42240edb47550c7bb763038",
            "d251cb7b8ea24b5e9fa1a2a7cf41b2a5",
            "366e9bf2d73741b1b0c9975de28e57fb",
            "5f0395009d924af2b25c36cdf29711ac",
            "cf24d48f64dd4afa8e6293822ad16af6",
            "ba18939a4bf848b087de07bcb45f483e",
            "7bd278060a744409a59cdd59ae8659a1",
            "33f73fc8e5164b60ace748dc73fbd166",
            "49823977ee614b8fb4d23abc325ca23b",
            "04471068ea34428c85a402a23556c15d",
            "35113991201f403e9f8881c943405d1e",
            "a481429e5be740c998dbefa319818816",
            "aa96de85ab1940c795d884727fc0c603",
            "7b2902e9cec64d6a9fa3728a1502a266",
            "dca021f41d0842a9b33fc3e0958cb9d3",
            "f2abad8f558945e784e5cdeb5b4932e4",
            "89d491bd3740482a9f668ee43af181e1",
            "c70be0bb933d4767a80d9a88ba574dcc",
            "fe88a5574d44499b8e86aeb736b07d6e",
            "db06a036d6af4e7a83b916ea909367ae",
            "5dcb06ceed1246b59df2d40dd02460b2",
            "04090fcfaa794fb88da77c110762b556",
            "30c0f886f6ff4702b37e4cdd98bc415a",
            "c98b29fa757940eab8c4f6d17b93078c",
            "688ff065b85340cfb26d9d055645201f",
            "6300e8df69d24d8ba391062a016927b2",
            "1ec06e8f185d4ba5b4366fa78ca502a9",
            "7ac46c4259f648d585c314575a62b637",
            "eda55105b3304bf8987307b273a22537",
            "43ae1280a21947bd890f6797eeeb4415",
            "492677072ca944c29b64d9343c6cdacc",
            "0c6d944fb9d44253b0e1c6ff3d66d542",
            "0939ce02dc394c659989242e4ce68d09",
            "4aa9cd72cdd24125ad76da1eac544f2d",
            "0f541f249c594fc7a4245999caf1b9fc",
            "101ecc51bcdf43ce8e17451decd85b12",
            "0630e663d013454fae2820e7837b9dd2",
            "7e2520d28e764de0a49c05cb73a5f4c1",
            "c47daa67a3e54df7ac3c99d2a66ba015",
            "08c7bd573b344382bef1536735bfacf1",
            "966e565fba2a47409697deb23ab875d9",
            "5cea2706174d4df59133c3f28a39349b",
            "ef7f85862dbd43eb8e4544ff7d903e27",
            "12cde88587624ff0b5aff188a23e7b8e",
            "24c5e09b0ec74ae9bb8a943a6faea63f",
            "2cc805b1c3094b07aa4516d54dc589f5",
            "5b03e49d38ab45e7a0907cdf02dbc1e0",
            "7bc79d089c294ec89dbda51595e4b5d5",
            "47647220792e4b7d96bfc7823f0b2749",
            "4bc4b23e0e7348c8bdecfb218420e792",
            "9ef46fb3e6e6477aa9fae86397632481",
            "e515ac178fdb498094860da2fceca4ba",
            "be861f8516284b818970b11fc28ca199",
            "5f02f343191b4cf6a2a7752fc5514fd5",
            "2b64c75875404b1db2c4233a7c96db02",
            "b6ea2be84e5f49f7880eb75a53f48580",
            "98a9e719b9574807afa86487e0ea7e68",
            "dcb70ab8b193476a9141175a0128bf6f",
            "587a5d00c1884672b9807d139fcbebb1",
            "25c0af1743424b719282f9d4a5dee0b3",
            "951f4c181e0a44879012234466ef324d",
            "0736fb8a78334fe28f7b07f71e979dd5",
            "6c22416376904ef0a1bfef269cef2894",
            "98dbe5d73f79454ba7d3008216f13699",
            "70137f81fb8a493c9b2fc38a88e1617f",
            "cb8b2c8bdfdf4a15a77116054c07b590",
            "506fdb5ebc8c4205acf0292786d776b2",
            "e996b21f3acc4d01a65d2cd0fcb1f069",
            "d4ad3970465e4d59bb23013e7b1bfca8",
            "99409152042d4259aaea37c970dcf9f7",
            "870d6d98e1cc44beb4848913b163fde3",
            "79de1584d3af449ab9e6401ea0c44d29",
            "6cabf29504304238b3eeb49cb9f00797",
            "ac08c6b8e7a94657a8e194da41ee9734",
            "8b34f6bcd1a44be4ad45f4dbcce2492d",
            "2f4f0b56cad444cabf9c485aad43ba71",
            "91db383d5a024d50a38dd1db5395cc22",
            "f263eecb7b144854901255e69d4060b8"
          ]
        },
        "id": "2pc29u-ctV5a",
        "outputId": "19672bf8-f643-4510-c7b5-f1ea8fc94a94"
      },
      "execution_count": null,
      "outputs": [
        {
          "output_type": "stream",
          "name": "stderr",
          "text": [
            "\u001b[34m\u001b[1mwandb\u001b[0m: Agent Starting Run: 68su0ypn with config:\n",
            "\u001b[34m\u001b[1mwandb\u001b[0m: \tbatch_norm: True\n",
            "\u001b[34m\u001b[1mwandb\u001b[0m: \tdense_neuron: 1024\n",
            "\u001b[34m\u001b[1mwandb\u001b[0m: \tdropout: 0.2\n",
            "\u001b[34m\u001b[1mwandb\u001b[0m: \tepochs: 8\n",
            "\u001b[34m\u001b[1mwandb\u001b[0m: \tfilter_size: [[3, 3], [3, 3], [3, 3], [3, 3], [3, 3]]\n",
            "\u001b[34m\u001b[1mwandb\u001b[0m: \tfilters: [32, 64, 128, 256, 256]\n",
            "\u001b[34m\u001b[1mwandb\u001b[0m: \tlr: 0.0001\n",
            "\u001b[34m\u001b[1mwandb\u001b[0m: Currently logged in as: \u001b[33mpranab045\u001b[0m (use `wandb login --relogin` to force relogin)\n"
          ]
        },
        {
          "output_type": "display_data",
          "data": {
            "text/plain": [
              "<IPython.core.display.HTML object>"
            ],
            "text/html": [
              "Tracking run with wandb version 0.12.11"
            ]
          },
          "metadata": {}
        },
        {
          "output_type": "display_data",
          "data": {
            "text/plain": [
              "<IPython.core.display.HTML object>"
            ],
            "text/html": [
              "Run data is saved locally in <code>/content/wandb/run-20220331_160103-68su0ypn</code>"
            ]
          },
          "metadata": {}
        },
        {
          "output_type": "display_data",
          "data": {
            "text/plain": [
              "<IPython.core.display.HTML object>"
            ],
            "text/html": [
              "Syncing run <strong><a href=\"https://wandb.ai/pandp/cs6910-As-2/runs/68su0ypn\" target=\"_blank\">CS6910-A2-P_A</a></strong> to <a href=\"https://wandb.ai/pandp/cs6910-As-2\" target=\"_blank\">Weights & Biases</a> (<a href=\"https://wandb.me/run\" target=\"_blank\">docs</a>)<br/>Sweep page:  <a href=\"https://wandb.ai/pandp/cs6910-As-2/sweeps/et1l06k6\" target=\"_blank\">https://wandb.ai/pandp/cs6910-As-2/sweeps/et1l06k6</a>"
            ]
          },
          "metadata": {}
        },
        {
          "output_type": "stream",
          "name": "stderr",
          "text": [
            "\u001b[34m\u001b[1mwandb\u001b[0m: \u001b[33mWARNING\u001b[0m Calling wandb.run.save without any arguments is deprecated.Changes to attributes are automatically persisted.\n"
          ]
        },
        {
          "output_type": "stream",
          "name": "stdout",
          "text": [
            "Epoch 1/8\n",
            "281/281 [==============================] - 2596s 9s/step - loss: 2.2532 - accuracy: 0.2381 - val_loss: 2.3279 - val_accuracy: 0.1240 - _timestamp: 1648745077.0000 - _runtime: 2614.0000\n",
            "Epoch 2/8\n",
            "281/281 [==============================] - 286s 1s/step - loss: 2.0011 - accuracy: 0.2861 - val_loss: 1.9998 - val_accuracy: 0.2883 - _timestamp: 1648745370.0000 - _runtime: 2907.0000\n",
            "Epoch 3/8\n",
            "281/281 [==============================] - 279s 992ms/step - loss: 1.9450 - accuracy: 0.3095 - val_loss: 1.9716 - val_accuracy: 0.3075 - _timestamp: 1648745685.0000 - _runtime: 3222.0000\n",
            "Epoch 4/8\n",
            "281/281 [==============================] - 280s 995ms/step - loss: 1.9027 - accuracy: 0.3209 - val_loss: 1.8648 - val_accuracy: 0.3498 - _timestamp: 1648745964.0000 - _runtime: 3501.0000\n",
            "Epoch 5/8\n",
            "281/281 [==============================] - 281s 1s/step - loss: 1.8718 - accuracy: 0.3376 - val_loss: 2.0012 - val_accuracy: 0.3004 - _timestamp: 1648746246.0000 - _runtime: 3783.0000\n",
            "Epoch 6/8\n",
            "281/281 [==============================] - 286s 1s/step - loss: 1.8451 - accuracy: 0.3452 - val_loss: 1.8519 - val_accuracy: 0.3498 - _timestamp: 1648746573.0000 - _runtime: 4110.0000\n",
            "Epoch 7/8\n",
            "281/281 [==============================] - 284s 1s/step - loss: 1.8133 - accuracy: 0.3613 - val_loss: 1.8559 - val_accuracy: 0.3347 - _timestamp: 1648746893.0000 - _runtime: 4430.0000\n",
            "Epoch 8/8\n",
            "281/281 [==============================] - 272s 968ms/step - loss: 1.8024 - accuracy: 0.3618 - val_loss: 1.8206 - val_accuracy: 0.3700 - _timestamp: 1648747202.0000 - _runtime: 4739.0000\n",
            "\n"
          ]
        },
        {
          "output_type": "display_data",
          "data": {
            "text/plain": [
              "<IPython.core.display.HTML object>"
            ],
            "text/html": [
              "Waiting for W&B process to finish... <strong style=\"color:green\">(success).</strong>"
            ]
          },
          "metadata": {}
        },
        {
          "output_type": "display_data",
          "data": {
            "text/plain": [
              "VBox(children=(Label(value='158.475 MB of 158.475 MB uploaded (0.000 MB deduped)\\r'), FloatProgress(value=1.0,…"
            ],
            "application/vnd.jupyter.widget-view+json": {
              "version_major": 2,
              "version_minor": 0,
              "model_id": "5b2380ea4b4747c99c008313b831f4b9"
            }
          },
          "metadata": {}
        },
        {
          "output_type": "display_data",
          "data": {
            "text/plain": [
              "<IPython.core.display.HTML object>"
            ],
            "text/html": [
              "<style>\n",
              "    table.wandb td:nth-child(1) { padding: 0 10px; text-align: right }\n",
              "    .wandb-row { display: flex; flex-direction: row; flex-wrap: wrap; width: 100% }\n",
              "    .wandb-col { display: flex; flex-direction: column; flex-basis: 100%; flex: 1; padding: 10px; }\n",
              "    </style>\n",
              "<div class=\"wandb-row\"><div class=\"wandb-col\"><h3>Run history:</h3><br/><table class=\"wandb\"><tr><td>accuracy</td><td>▁▄▅▆▇▇██</td></tr><tr><td>epoch</td><td>▁▂▃▄▅▆▇█</td></tr><tr><td>loss</td><td>█▄▃▃▂▂▁▁</td></tr><tr><td>val_accuracy</td><td>▁▆▆▇▆▇▇█</td></tr><tr><td>val_loss</td><td>█▃▃▂▃▁▁▁</td></tr></table><br/></div><div class=\"wandb-col\"><h3>Run summary:</h3><br/><table class=\"wandb\"><tr><td>accuracy</td><td>0.36178</td></tr><tr><td>best_epoch</td><td>7</td></tr><tr><td>best_val_accuracy</td><td>0.36996</td></tr><tr><td>epoch</td><td>7</td></tr><tr><td>loss</td><td>1.80237</td></tr><tr><td>val_accuracy</td><td>0.36996</td></tr><tr><td>val_loss</td><td>1.82061</td></tr></table><br/></div></div>"
            ]
          },
          "metadata": {}
        },
        {
          "output_type": "display_data",
          "data": {
            "text/plain": [
              "<IPython.core.display.HTML object>"
            ],
            "text/html": [
              "Synced <strong style=\"color:#cdcd00\">CS6910-A2-P_A</strong>: <a href=\"https://wandb.ai/pandp/cs6910-As-2/runs/68su0ypn\" target=\"_blank\">https://wandb.ai/pandp/cs6910-As-2/runs/68su0ypn</a><br/>Synced 5 W&B file(s), 1 media file(s), 0 artifact file(s) and 1 other file(s)"
            ]
          },
          "metadata": {}
        },
        {
          "output_type": "display_data",
          "data": {
            "text/plain": [
              "<IPython.core.display.HTML object>"
            ],
            "text/html": [
              "Find logs at: <code>./wandb/run-20220331_160103-68su0ypn/logs</code>"
            ]
          },
          "metadata": {}
        },
        {
          "output_type": "stream",
          "name": "stderr",
          "text": [
            "\u001b[34m\u001b[1mwandb\u001b[0m: Agent Starting Run: 4boh9ge6 with config:\n",
            "\u001b[34m\u001b[1mwandb\u001b[0m: \tbatch_norm: True\n",
            "\u001b[34m\u001b[1mwandb\u001b[0m: \tdense_neuron: 1024\n",
            "\u001b[34m\u001b[1mwandb\u001b[0m: \tdropout: 0.15\n",
            "\u001b[34m\u001b[1mwandb\u001b[0m: \tepochs: 8\n",
            "\u001b[34m\u001b[1mwandb\u001b[0m: \tfilter_size: [[7, 7], [7, 7], [7, 7], [7, 7], [7, 7]]\n",
            "\u001b[34m\u001b[1mwandb\u001b[0m: \tfilters: [32, 16, 8, 4, 2]\n",
            "\u001b[34m\u001b[1mwandb\u001b[0m: \tlr: 1e-05\n"
          ]
        },
        {
          "output_type": "display_data",
          "data": {
            "text/plain": [
              "<IPython.core.display.HTML object>"
            ],
            "text/html": [
              "Tracking run with wandb version 0.12.11"
            ]
          },
          "metadata": {}
        },
        {
          "output_type": "display_data",
          "data": {
            "text/plain": [
              "<IPython.core.display.HTML object>"
            ],
            "text/html": [
              "Run data is saved locally in <code>/content/wandb/run-20220331_172015-4boh9ge6</code>"
            ]
          },
          "metadata": {}
        },
        {
          "output_type": "display_data",
          "data": {
            "text/plain": [
              "<IPython.core.display.HTML object>"
            ],
            "text/html": [
              "Syncing run <strong><a href=\"https://wandb.ai/pandp/cs6910-As-2/runs/4boh9ge6\" target=\"_blank\">CS6910-A2-P_A</a></strong> to <a href=\"https://wandb.ai/pandp/cs6910-As-2\" target=\"_blank\">Weights & Biases</a> (<a href=\"https://wandb.me/run\" target=\"_blank\">docs</a>)<br/>Sweep page:  <a href=\"https://wandb.ai/pandp/cs6910-As-2/sweeps/et1l06k6\" target=\"_blank\">https://wandb.ai/pandp/cs6910-As-2/sweeps/et1l06k6</a>"
            ]
          },
          "metadata": {}
        },
        {
          "output_type": "stream",
          "name": "stdout",
          "text": [
            "Epoch 1/8\n",
            "281/281 [==============================] - 273s 963ms/step - loss: 2.3223 - accuracy: 0.1230 - val_loss: 2.3529 - val_accuracy: 0.1018 - _timestamp: 1648747498.0000 - _runtime: 283.0000\n",
            "Epoch 2/8\n",
            "281/281 [==============================] - 269s 958ms/step - loss: 2.2641 - accuracy: 0.1456 - val_loss: 2.2545 - val_accuracy: 0.1542 - _timestamp: 1648747767.0000 - _runtime: 552.0000\n",
            "Epoch 3/8\n",
            "281/281 [==============================] - 261s 930ms/step - loss: 2.2400 - accuracy: 0.1636 - val_loss: 2.2184 - val_accuracy: 0.1734 - _timestamp: 1648748029.0000 - _runtime: 814.0000\n",
            "Epoch 4/8\n",
            "281/281 [==============================] - 266s 948ms/step - loss: 2.2252 - accuracy: 0.1724 - val_loss: 2.2014 - val_accuracy: 0.1855 - _timestamp: 1648748295.0000 - _runtime: 1080.0000\n",
            "Epoch 5/8\n",
            "281/281 [==============================] - 265s 941ms/step - loss: 2.2136 - accuracy: 0.1775 - val_loss: 2.1913 - val_accuracy: 0.1925 - _timestamp: 1648748615.0000 - _runtime: 1400.0000\n",
            "Epoch 6/8\n",
            "281/281 [==============================] - 265s 944ms/step - loss: 2.1958 - accuracy: 0.1818 - val_loss: 2.1708 - val_accuracy: 0.2157 - _timestamp: 1648748880.0000 - _runtime: 1665.0000\n",
            "Epoch 7/8\n",
            "281/281 [==============================] - 268s 953ms/step - loss: 2.1832 - accuracy: 0.1881 - val_loss: 2.1612 - val_accuracy: 0.2046 - _timestamp: 1648749205.0000 - _runtime: 1990.0000\n",
            "Epoch 8/8\n",
            "281/281 [==============================] - 266s 948ms/step - loss: 2.1707 - accuracy: 0.2018 - val_loss: 2.1546 - val_accuracy: 0.1845 - _timestamp: 1648749471.0000 - _runtime: 2256.0000\n",
            "\n"
          ]
        },
        {
          "output_type": "display_data",
          "data": {
            "text/plain": [
              "<IPython.core.display.HTML object>"
            ],
            "text/html": [
              "Waiting for W&B process to finish... <strong style=\"color:green\">(success).</strong>"
            ]
          },
          "metadata": {}
        },
        {
          "output_type": "display_data",
          "data": {
            "text/plain": [
              "VBox(children=(Label(value='1.841 MB of 1.841 MB uploaded (0.000 MB deduped)\\r'), FloatProgress(value=1.0, max…"
            ],
            "application/vnd.jupyter.widget-view+json": {
              "version_major": 2,
              "version_minor": 0,
              "model_id": "562a032534214ce19197310c2f0095ef"
            }
          },
          "metadata": {}
        },
        {
          "output_type": "display_data",
          "data": {
            "text/plain": [
              "<IPython.core.display.HTML object>"
            ],
            "text/html": [
              "<style>\n",
              "    table.wandb td:nth-child(1) { padding: 0 10px; text-align: right }\n",
              "    .wandb-row { display: flex; flex-direction: row; flex-wrap: wrap; width: 100% }\n",
              "    .wandb-col { display: flex; flex-direction: column; flex-basis: 100%; flex: 1; padding: 10px; }\n",
              "    </style>\n",
              "<div class=\"wandb-row\"><div class=\"wandb-col\"><h3>Run history:</h3><br/><table class=\"wandb\"><tr><td>accuracy</td><td>▁▃▅▅▆▆▇█</td></tr><tr><td>epoch</td><td>▁▂▃▄▅▆▇█</td></tr><tr><td>loss</td><td>█▅▄▄▃▂▂▁</td></tr><tr><td>val_accuracy</td><td>▁▄▅▆▇█▇▆</td></tr><tr><td>val_loss</td><td>█▅▃▃▂▂▁▁</td></tr></table><br/></div><div class=\"wandb-col\"><h3>Run summary:</h3><br/><table class=\"wandb\"><tr><td>accuracy</td><td>0.20176</td></tr><tr><td>best_epoch</td><td>5</td></tr><tr><td>best_val_accuracy</td><td>0.21573</td></tr><tr><td>epoch</td><td>7</td></tr><tr><td>loss</td><td>2.17069</td></tr><tr><td>val_accuracy</td><td>0.18448</td></tr><tr><td>val_loss</td><td>2.15464</td></tr></table><br/></div></div>"
            ]
          },
          "metadata": {}
        },
        {
          "output_type": "display_data",
          "data": {
            "text/plain": [
              "<IPython.core.display.HTML object>"
            ],
            "text/html": [
              "Synced <strong style=\"color:#cdcd00\">CS6910-A2-P_A</strong>: <a href=\"https://wandb.ai/pandp/cs6910-As-2/runs/4boh9ge6\" target=\"_blank\">https://wandb.ai/pandp/cs6910-As-2/runs/4boh9ge6</a><br/>Synced 5 W&B file(s), 1 media file(s), 0 artifact file(s) and 1 other file(s)"
            ]
          },
          "metadata": {}
        },
        {
          "output_type": "display_data",
          "data": {
            "text/plain": [
              "<IPython.core.display.HTML object>"
            ],
            "text/html": [
              "Find logs at: <code>./wandb/run-20220331_172015-4boh9ge6/logs</code>"
            ]
          },
          "metadata": {}
        },
        {
          "output_type": "stream",
          "name": "stderr",
          "text": [
            "\u001b[34m\u001b[1mwandb\u001b[0m: Agent Starting Run: 0g1tpas2 with config:\n",
            "\u001b[34m\u001b[1mwandb\u001b[0m: \tbatch_norm: False\n",
            "\u001b[34m\u001b[1mwandb\u001b[0m: \tdense_neuron: 512\n",
            "\u001b[34m\u001b[1mwandb\u001b[0m: \tdropout: 0.2\n",
            "\u001b[34m\u001b[1mwandb\u001b[0m: \tepochs: 8\n",
            "\u001b[34m\u001b[1mwandb\u001b[0m: \tfilter_size: [[2, 2], [2, 2], [2, 2], [2, 2], [2, 2]]\n",
            "\u001b[34m\u001b[1mwandb\u001b[0m: \tfilters: [32, 64, 128, 256, 256]\n",
            "\u001b[34m\u001b[1mwandb\u001b[0m: \tlr: 0.0001\n"
          ]
        },
        {
          "output_type": "display_data",
          "data": {
            "text/plain": [
              "<IPython.core.display.HTML object>"
            ],
            "text/html": [
              "Tracking run with wandb version 0.12.11"
            ]
          },
          "metadata": {}
        },
        {
          "output_type": "display_data",
          "data": {
            "text/plain": [
              "<IPython.core.display.HTML object>"
            ],
            "text/html": [
              "Run data is saved locally in <code>/content/wandb/run-20220331_175857-0g1tpas2</code>"
            ]
          },
          "metadata": {}
        },
        {
          "output_type": "display_data",
          "data": {
            "text/plain": [
              "<IPython.core.display.HTML object>"
            ],
            "text/html": [
              "Syncing run <strong><a href=\"https://wandb.ai/pandp/cs6910-As-2/runs/0g1tpas2\" target=\"_blank\">CS6910-A2-P_A</a></strong> to <a href=\"https://wandb.ai/pandp/cs6910-As-2\" target=\"_blank\">Weights & Biases</a> (<a href=\"https://wandb.me/run\" target=\"_blank\">docs</a>)<br/>Sweep page:  <a href=\"https://wandb.ai/pandp/cs6910-As-2/sweeps/et1l06k6\" target=\"_blank\">https://wandb.ai/pandp/cs6910-As-2/sweeps/et1l06k6</a>"
            ]
          },
          "metadata": {}
        },
        {
          "output_type": "stream",
          "name": "stdout",
          "text": [
            "Epoch 1/8\n",
            "281/281 [==============================] - 268s 950ms/step - loss: 2.2113 - accuracy: 0.1773 - val_loss: 2.1235 - val_accuracy: 0.2409 - _timestamp: 1648749812.0000 - _runtime: 275.0000\n",
            "Epoch 2/8\n",
            "281/281 [==============================] - 260s 923ms/step - loss: 2.0550 - accuracy: 0.2693 - val_loss: 2.0296 - val_accuracy: 0.2762 - _timestamp: 1648750072.0000 - _runtime: 535.0000\n",
            "Epoch 3/8\n",
            "281/281 [==============================] - 260s 926ms/step - loss: 1.9885 - accuracy: 0.2922 - val_loss: 1.9832 - val_accuracy: 0.3024 - _timestamp: 1648750332.0000 - _runtime: 795.0000\n",
            "Epoch 4/8\n",
            "281/281 [==============================] - 257s 914ms/step - loss: 1.9522 - accuracy: 0.3112 - val_loss: 1.9617 - val_accuracy: 0.3206 - _timestamp: 1648750591.0000 - _runtime: 1054.0000\n",
            "Epoch 5/8\n",
            "281/281 [==============================] - 264s 939ms/step - loss: 1.9204 - accuracy: 0.3245 - val_loss: 1.9151 - val_accuracy: 0.3165 - _timestamp: 1648750855.0000 - _runtime: 1318.0000\n",
            "Epoch 6/8\n",
            "281/281 [==============================] - 267s 949ms/step - loss: 1.8825 - accuracy: 0.3271 - val_loss: 1.9085 - val_accuracy: 0.3246 - _timestamp: 1648751121.0000 - _runtime: 1584.0000\n",
            "Epoch 7/8\n",
            "281/281 [==============================] - 276s 981ms/step - loss: 1.8545 - accuracy: 0.3482 - val_loss: 1.8624 - val_accuracy: 0.3397 - _timestamp: 1648751452.0000 - _runtime: 1915.0000\n",
            "Epoch 8/8\n",
            "281/281 [==============================] - 269s 956ms/step - loss: 1.8296 - accuracy: 0.3550 - val_loss: 1.8276 - val_accuracy: 0.3609 - _timestamp: 1648751721.0000 - _runtime: 2184.0000\n",
            "\n"
          ]
        },
        {
          "output_type": "display_data",
          "data": {
            "text/plain": [
              "<IPython.core.display.HTML object>"
            ],
            "text/html": [
              "Waiting for W&B process to finish... <strong style=\"color:green\">(success).</strong>"
            ]
          },
          "metadata": {}
        },
        {
          "output_type": "display_data",
          "data": {
            "text/plain": [
              "VBox(children=(Label(value='78.628 MB of 78.628 MB uploaded (0.000 MB deduped)\\r'), FloatProgress(value=1.0, m…"
            ],
            "application/vnd.jupyter.widget-view+json": {
              "version_major": 2,
              "version_minor": 0,
              "model_id": "7bd278060a744409a59cdd59ae8659a1"
            }
          },
          "metadata": {}
        },
        {
          "output_type": "display_data",
          "data": {
            "text/plain": [
              "<IPython.core.display.HTML object>"
            ],
            "text/html": [
              "<style>\n",
              "    table.wandb td:nth-child(1) { padding: 0 10px; text-align: right }\n",
              "    .wandb-row { display: flex; flex-direction: row; flex-wrap: wrap; width: 100% }\n",
              "    .wandb-col { display: flex; flex-direction: column; flex-basis: 100%; flex: 1; padding: 10px; }\n",
              "    </style>\n",
              "<div class=\"wandb-row\"><div class=\"wandb-col\"><h3>Run history:</h3><br/><table class=\"wandb\"><tr><td>accuracy</td><td>▁▅▆▆▇▇██</td></tr><tr><td>epoch</td><td>▁▂▃▄▅▆▇█</td></tr><tr><td>loss</td><td>█▅▄▃▃▂▁▁</td></tr><tr><td>val_accuracy</td><td>▁▃▅▆▅▆▇█</td></tr><tr><td>val_loss</td><td>█▆▅▄▃▃▂▁</td></tr></table><br/></div><div class=\"wandb-col\"><h3>Run summary:</h3><br/><table class=\"wandb\"><tr><td>accuracy</td><td>0.355</td></tr><tr><td>best_epoch</td><td>7</td></tr><tr><td>best_val_accuracy</td><td>0.36089</td></tr><tr><td>epoch</td><td>7</td></tr><tr><td>loss</td><td>1.82963</td></tr><tr><td>val_accuracy</td><td>0.36089</td></tr><tr><td>val_loss</td><td>1.82758</td></tr></table><br/></div></div>"
            ]
          },
          "metadata": {}
        },
        {
          "output_type": "display_data",
          "data": {
            "text/plain": [
              "<IPython.core.display.HTML object>"
            ],
            "text/html": [
              "Synced <strong style=\"color:#cdcd00\">CS6910-A2-P_A</strong>: <a href=\"https://wandb.ai/pandp/cs6910-As-2/runs/0g1tpas2\" target=\"_blank\">https://wandb.ai/pandp/cs6910-As-2/runs/0g1tpas2</a><br/>Synced 5 W&B file(s), 1 media file(s), 0 artifact file(s) and 1 other file(s)"
            ]
          },
          "metadata": {}
        },
        {
          "output_type": "display_data",
          "data": {
            "text/plain": [
              "<IPython.core.display.HTML object>"
            ],
            "text/html": [
              "Find logs at: <code>./wandb/run-20220331_175857-0g1tpas2/logs</code>"
            ]
          },
          "metadata": {}
        },
        {
          "output_type": "stream",
          "name": "stderr",
          "text": [
            "\u001b[34m\u001b[1mwandb\u001b[0m: Agent Starting Run: 4ekzu5yc with config:\n",
            "\u001b[34m\u001b[1mwandb\u001b[0m: \tbatch_norm: True\n",
            "\u001b[34m\u001b[1mwandb\u001b[0m: \tdense_neuron: 512\n",
            "\u001b[34m\u001b[1mwandb\u001b[0m: \tdropout: 0.2\n",
            "\u001b[34m\u001b[1mwandb\u001b[0m: \tepochs: 8\n",
            "\u001b[34m\u001b[1mwandb\u001b[0m: \tfilter_size: [[3, 3], [3, 3], [3, 3], [3, 3], [3, 3]]\n",
            "\u001b[34m\u001b[1mwandb\u001b[0m: \tfilters: [32, 64, 128, 256, 256]\n",
            "\u001b[34m\u001b[1mwandb\u001b[0m: \tlr: 0.0001\n"
          ]
        },
        {
          "output_type": "display_data",
          "data": {
            "text/plain": [
              "<IPython.core.display.HTML object>"
            ],
            "text/html": [
              "Tracking run with wandb version 0.12.11"
            ]
          },
          "metadata": {}
        },
        {
          "output_type": "display_data",
          "data": {
            "text/plain": [
              "<IPython.core.display.HTML object>"
            ],
            "text/html": [
              "Run data is saved locally in <code>/content/wandb/run-20220331_183529-4ekzu5yc</code>"
            ]
          },
          "metadata": {}
        },
        {
          "output_type": "display_data",
          "data": {
            "text/plain": [
              "<IPython.core.display.HTML object>"
            ],
            "text/html": [
              "Syncing run <strong><a href=\"https://wandb.ai/pandp/cs6910-As-2/runs/4ekzu5yc\" target=\"_blank\">CS6910-A2-P_A</a></strong> to <a href=\"https://wandb.ai/pandp/cs6910-As-2\" target=\"_blank\">Weights & Biases</a> (<a href=\"https://wandb.me/run\" target=\"_blank\">docs</a>)<br/>Sweep page:  <a href=\"https://wandb.ai/pandp/cs6910-As-2/sweeps/et1l06k6\" target=\"_blank\">https://wandb.ai/pandp/cs6910-As-2/sweeps/et1l06k6</a>"
            ]
          },
          "metadata": {}
        },
        {
          "output_type": "stream",
          "name": "stdout",
          "text": [
            "Epoch 1/8\n",
            "281/281 [==============================] - 271s 959ms/step - loss: 2.1970 - accuracy: 0.2328 - val_loss: 2.4914 - val_accuracy: 0.1119 - _timestamp: 1648752005.0000 - _runtime: 276.0000\n",
            "Epoch 2/8\n",
            "281/281 [==============================] - 273s 970ms/step - loss: 2.0233 - accuracy: 0.2805 - val_loss: 1.9817 - val_accuracy: 0.3125 - _timestamp: 1648752330.0000 - _runtime: 601.0000\n",
            "Epoch 3/8\n",
            "281/281 [==============================] - 269s 957ms/step - loss: 1.9660 - accuracy: 0.2950 - val_loss: 1.9842 - val_accuracy: 0.3125 - _timestamp: 1648752600.0000 - _runtime: 871.0000\n",
            "Epoch 4/8\n",
            "281/281 [==============================] - 275s 979ms/step - loss: 1.9258 - accuracy: 0.3189 - val_loss: 1.9270 - val_accuracy: 0.3266 - _timestamp: 1648752928.0000 - _runtime: 1199.0000\n",
            "Epoch 5/8\n",
            "281/281 [==============================] - 271s 964ms/step - loss: 1.8912 - accuracy: 0.3305 - val_loss: 1.9042 - val_accuracy: 0.3458 - _timestamp: 1648753198.0000 - _runtime: 1469.0000\n",
            "Epoch 6/8\n",
            "281/281 [==============================] - 266s 948ms/step - loss: 1.8624 - accuracy: 0.3396 - val_loss: 1.8573 - val_accuracy: 0.3589 - _timestamp: 1648753465.0000 - _runtime: 1736.0000\n",
            "Epoch 7/8\n",
            "281/281 [==============================] - 271s 963ms/step - loss: 1.8318 - accuracy: 0.3512 - val_loss: 1.9447 - val_accuracy: 0.3276 - _timestamp: 1648753791.0000 - _runtime: 2062.0000\n",
            "Epoch 8/8\n",
            "281/281 [==============================] - 272s 968ms/step - loss: 1.8241 - accuracy: 0.3577 - val_loss: 1.8796 - val_accuracy: 0.3518 - _timestamp: 1648754115.0000 - _runtime: 2386.0000\n",
            "\n"
          ]
        },
        {
          "output_type": "display_data",
          "data": {
            "text/plain": [
              "<IPython.core.display.HTML object>"
            ],
            "text/html": [
              "Waiting for W&B process to finish... <strong style=\"color:green\">(success).</strong>"
            ]
          },
          "metadata": {}
        },
        {
          "output_type": "display_data",
          "data": {
            "text/plain": [
              "VBox(children=(Label(value='84.910 MB of 84.910 MB uploaded (0.000 MB deduped)\\r'), FloatProgress(value=1.0, m…"
            ],
            "application/vnd.jupyter.widget-view+json": {
              "version_major": 2,
              "version_minor": 0,
              "model_id": "dca021f41d0842a9b33fc3e0958cb9d3"
            }
          },
          "metadata": {}
        },
        {
          "output_type": "display_data",
          "data": {
            "text/plain": [
              "<IPython.core.display.HTML object>"
            ],
            "text/html": [
              "<style>\n",
              "    table.wandb td:nth-child(1) { padding: 0 10px; text-align: right }\n",
              "    .wandb-row { display: flex; flex-direction: row; flex-wrap: wrap; width: 100% }\n",
              "    .wandb-col { display: flex; flex-direction: column; flex-basis: 100%; flex: 1; padding: 10px; }\n",
              "    </style>\n",
              "<div class=\"wandb-row\"><div class=\"wandb-col\"><h3>Run history:</h3><br/><table class=\"wandb\"><tr><td>accuracy</td><td>▁▄▄▆▆▇██</td></tr><tr><td>epoch</td><td>▁▂▃▄▅▆▇█</td></tr><tr><td>loss</td><td>█▅▄▃▂▂▁▁</td></tr><tr><td>val_accuracy</td><td>▁▇▇▇██▇█</td></tr><tr><td>val_loss</td><td>█▂▂▂▂▁▂▁</td></tr></table><br/></div><div class=\"wandb-col\"><h3>Run summary:</h3><br/><table class=\"wandb\"><tr><td>accuracy</td><td>0.35767</td></tr><tr><td>best_epoch</td><td>5</td></tr><tr><td>best_val_accuracy</td><td>0.35887</td></tr><tr><td>epoch</td><td>7</td></tr><tr><td>loss</td><td>1.82408</td></tr><tr><td>val_accuracy</td><td>0.35181</td></tr><tr><td>val_loss</td><td>1.87958</td></tr></table><br/></div></div>"
            ]
          },
          "metadata": {}
        },
        {
          "output_type": "display_data",
          "data": {
            "text/plain": [
              "<IPython.core.display.HTML object>"
            ],
            "text/html": [
              "Synced <strong style=\"color:#cdcd00\">CS6910-A2-P_A</strong>: <a href=\"https://wandb.ai/pandp/cs6910-As-2/runs/4ekzu5yc\" target=\"_blank\">https://wandb.ai/pandp/cs6910-As-2/runs/4ekzu5yc</a><br/>Synced 5 W&B file(s), 1 media file(s), 0 artifact file(s) and 1 other file(s)"
            ]
          },
          "metadata": {}
        },
        {
          "output_type": "display_data",
          "data": {
            "text/plain": [
              "<IPython.core.display.HTML object>"
            ],
            "text/html": [
              "Find logs at: <code>./wandb/run-20220331_183529-4ekzu5yc/logs</code>"
            ]
          },
          "metadata": {}
        },
        {
          "output_type": "stream",
          "name": "stderr",
          "text": [
            "\u001b[34m\u001b[1mwandb\u001b[0m: Agent Starting Run: rgys82i7 with config:\n",
            "\u001b[34m\u001b[1mwandb\u001b[0m: \tbatch_norm: False\n",
            "\u001b[34m\u001b[1mwandb\u001b[0m: \tdense_neuron: 1024\n",
            "\u001b[34m\u001b[1mwandb\u001b[0m: \tdropout: 0.2\n",
            "\u001b[34m\u001b[1mwandb\u001b[0m: \tepochs: 8\n",
            "\u001b[34m\u001b[1mwandb\u001b[0m: \tfilter_size: [[2, 2], [2, 2], [2, 2], [2, 2], [2, 2]]\n",
            "\u001b[34m\u001b[1mwandb\u001b[0m: \tfilters: [64, 32, 16, 8, 4]\n",
            "\u001b[34m\u001b[1mwandb\u001b[0m: \tlr: 0.0001\n"
          ]
        },
        {
          "output_type": "display_data",
          "data": {
            "text/plain": [
              "<IPython.core.display.HTML object>"
            ],
            "text/html": [
              "Tracking run with wandb version 0.12.11"
            ]
          },
          "metadata": {}
        },
        {
          "output_type": "display_data",
          "data": {
            "text/plain": [
              "<IPython.core.display.HTML object>"
            ],
            "text/html": [
              "Run data is saved locally in <code>/content/wandb/run-20220331_191525-rgys82i7</code>"
            ]
          },
          "metadata": {}
        },
        {
          "output_type": "display_data",
          "data": {
            "text/plain": [
              "<IPython.core.display.HTML object>"
            ],
            "text/html": [
              "Syncing run <strong><a href=\"https://wandb.ai/pandp/cs6910-As-2/runs/rgys82i7\" target=\"_blank\">CS6910-A2-P_A</a></strong> to <a href=\"https://wandb.ai/pandp/cs6910-As-2\" target=\"_blank\">Weights & Biases</a> (<a href=\"https://wandb.me/run\" target=\"_blank\">docs</a>)<br/>Sweep page:  <a href=\"https://wandb.ai/pandp/cs6910-As-2/sweeps/et1l06k6\" target=\"_blank\">https://wandb.ai/pandp/cs6910-As-2/sweeps/et1l06k6</a>"
            ]
          },
          "metadata": {}
        },
        {
          "output_type": "stream",
          "name": "stdout",
          "text": [
            "Epoch 1/8\n",
            "281/281 [==============================] - 265s 937ms/step - loss: 2.2841 - accuracy: 0.1301 - val_loss: 2.2358 - val_accuracy: 0.2036 - _timestamp: 1648754396.0000 - _runtime: 270.0000\n",
            "Epoch 2/8\n",
            "281/281 [==============================] - 263s 935ms/step - loss: 2.1976 - accuracy: 0.1993 - val_loss: 2.1515 - val_accuracy: 0.2349 - _timestamp: 1648754717.0000 - _runtime: 591.0000\n",
            "Epoch 3/8\n",
            "281/281 [==============================] - 266s 945ms/step - loss: 2.1448 - accuracy: 0.2281 - val_loss: 2.1223 - val_accuracy: 0.2510 - _timestamp: 1648754983.0000 - _runtime: 857.0000\n",
            "Epoch 4/8\n",
            "281/281 [==============================] - 262s 932ms/step - loss: 2.1125 - accuracy: 0.2406 - val_loss: 2.0889 - val_accuracy: 0.2490 - _timestamp: 1648755301.0000 - _runtime: 1175.0000\n",
            "Epoch 5/8\n",
            "281/281 [==============================] - 271s 963ms/step - loss: 2.0723 - accuracy: 0.2610 - val_loss: 2.0694 - val_accuracy: 0.2661 - _timestamp: 1648755572.0000 - _runtime: 1446.0000\n",
            "Epoch 6/8\n",
            "281/281 [==============================] - 272s 967ms/step - loss: 2.0533 - accuracy: 0.2652 - val_loss: 2.0609 - val_accuracy: 0.2722 - _timestamp: 1648755843.0000 - _runtime: 1717.0000\n",
            "Epoch 7/8\n",
            "281/281 [==============================] - 266s 945ms/step - loss: 2.0290 - accuracy: 0.2754 - val_loss: 2.0237 - val_accuracy: 0.2843 - _timestamp: 1648756159.0000 - _runtime: 2033.0000\n",
            "Epoch 8/8\n",
            "281/281 [==============================] - 273s 972ms/step - loss: 2.0096 - accuracy: 0.2832 - val_loss: 2.0239 - val_accuracy: 0.2903 - _timestamp: 1648756489.0000 - _runtime: 2363.0000\n",
            "\n"
          ]
        },
        {
          "output_type": "display_data",
          "data": {
            "text/plain": [
              "<IPython.core.display.HTML object>"
            ],
            "text/html": [
              "Waiting for W&B process to finish... <strong style=\"color:green\">(success).</strong>"
            ]
          },
          "metadata": {}
        },
        {
          "output_type": "display_data",
          "data": {
            "text/plain": [
              "VBox(children=(Label(value='2.643 MB of 2.643 MB uploaded (0.000 MB deduped)\\r'), FloatProgress(value=1.0, max…"
            ],
            "application/vnd.jupyter.widget-view+json": {
              "version_major": 2,
              "version_minor": 0,
              "model_id": "30c0f886f6ff4702b37e4cdd98bc415a"
            }
          },
          "metadata": {}
        },
        {
          "output_type": "display_data",
          "data": {
            "text/plain": [
              "<IPython.core.display.HTML object>"
            ],
            "text/html": [
              "<style>\n",
              "    table.wandb td:nth-child(1) { padding: 0 10px; text-align: right }\n",
              "    .wandb-row { display: flex; flex-direction: row; flex-wrap: wrap; width: 100% }\n",
              "    .wandb-col { display: flex; flex-direction: column; flex-basis: 100%; flex: 1; padding: 10px; }\n",
              "    </style>\n",
              "<div class=\"wandb-row\"><div class=\"wandb-col\"><h3>Run history:</h3><br/><table class=\"wandb\"><tr><td>accuracy</td><td>▁▄▅▆▇▇██</td></tr><tr><td>epoch</td><td>▁▂▃▄▅▆▇█</td></tr><tr><td>loss</td><td>█▆▄▄▃▂▁▁</td></tr><tr><td>val_accuracy</td><td>▁▄▅▅▆▇██</td></tr><tr><td>val_loss</td><td>█▅▄▃▃▂▁▁</td></tr></table><br/></div><div class=\"wandb-col\"><h3>Run summary:</h3><br/><table class=\"wandb\"><tr><td>accuracy</td><td>0.28322</td></tr><tr><td>best_epoch</td><td>7</td></tr><tr><td>best_val_accuracy</td><td>0.29032</td></tr><tr><td>epoch</td><td>7</td></tr><tr><td>loss</td><td>2.00964</td></tr><tr><td>val_accuracy</td><td>0.29032</td></tr><tr><td>val_loss</td><td>2.02387</td></tr></table><br/></div></div>"
            ]
          },
          "metadata": {}
        },
        {
          "output_type": "display_data",
          "data": {
            "text/plain": [
              "<IPython.core.display.HTML object>"
            ],
            "text/html": [
              "Synced <strong style=\"color:#cdcd00\">CS6910-A2-P_A</strong>: <a href=\"https://wandb.ai/pandp/cs6910-As-2/runs/rgys82i7\" target=\"_blank\">https://wandb.ai/pandp/cs6910-As-2/runs/rgys82i7</a><br/>Synced 5 W&B file(s), 1 media file(s), 0 artifact file(s) and 1 other file(s)"
            ]
          },
          "metadata": {}
        },
        {
          "output_type": "display_data",
          "data": {
            "text/plain": [
              "<IPython.core.display.HTML object>"
            ],
            "text/html": [
              "Find logs at: <code>./wandb/run-20220331_191525-rgys82i7/logs</code>"
            ]
          },
          "metadata": {}
        },
        {
          "output_type": "stream",
          "name": "stderr",
          "text": [
            "\u001b[34m\u001b[1mwandb\u001b[0m: Agent Starting Run: pkwulb3u with config:\n",
            "\u001b[34m\u001b[1mwandb\u001b[0m: \tbatch_norm: False\n",
            "\u001b[34m\u001b[1mwandb\u001b[0m: \tdense_neuron: 1024\n",
            "\u001b[34m\u001b[1mwandb\u001b[0m: \tdropout: 0.15\n",
            "\u001b[34m\u001b[1mwandb\u001b[0m: \tepochs: 8\n",
            "\u001b[34m\u001b[1mwandb\u001b[0m: \tfilter_size: [[3, 3], [3, 3], [3, 3], [3, 3], [3, 3]]\n",
            "\u001b[34m\u001b[1mwandb\u001b[0m: \tfilters: [32, 32, 32, 32, 32]\n",
            "\u001b[34m\u001b[1mwandb\u001b[0m: \tlr: 0.0001\n"
          ]
        },
        {
          "output_type": "display_data",
          "data": {
            "text/plain": [
              "<IPython.core.display.HTML object>"
            ],
            "text/html": [
              "Tracking run with wandb version 0.12.11"
            ]
          },
          "metadata": {}
        },
        {
          "output_type": "display_data",
          "data": {
            "text/plain": [
              "<IPython.core.display.HTML object>"
            ],
            "text/html": [
              "Run data is saved locally in <code>/content/wandb/run-20220331_195546-pkwulb3u</code>"
            ]
          },
          "metadata": {}
        },
        {
          "output_type": "display_data",
          "data": {
            "text/plain": [
              "<IPython.core.display.HTML object>"
            ],
            "text/html": [
              "Syncing run <strong><a href=\"https://wandb.ai/pandp/cs6910-As-2/runs/pkwulb3u\" target=\"_blank\">CS6910-A2-P_A</a></strong> to <a href=\"https://wandb.ai/pandp/cs6910-As-2\" target=\"_blank\">Weights & Biases</a> (<a href=\"https://wandb.me/run\" target=\"_blank\">docs</a>)<br/>Sweep page:  <a href=\"https://wandb.ai/pandp/cs6910-As-2/sweeps/et1l06k6\" target=\"_blank\">https://wandb.ai/pandp/cs6910-As-2/sweeps/et1l06k6</a>"
            ]
          },
          "metadata": {}
        },
        {
          "output_type": "stream",
          "name": "stdout",
          "text": [
            "Epoch 1/8\n",
            "281/281 [==============================] - 272s 963ms/step - loss: 2.2354 - accuracy: 0.1782 - val_loss: 2.1246 - val_accuracy: 0.2228 - _timestamp: 1648756825.0000 - _runtime: 279.0000\n",
            "Epoch 2/8\n",
            "281/281 [==============================] - 261s 930ms/step - loss: 2.0707 - accuracy: 0.2583 - val_loss: 2.0548 - val_accuracy: 0.2712 - _timestamp: 1648757137.0000 - _runtime: 591.0000\n",
            "Epoch 3/8\n",
            "281/281 [==============================] - 275s 979ms/step - loss: 2.0129 - accuracy: 0.2798 - val_loss: 2.0192 - val_accuracy: 0.2802 - _timestamp: 1648757412.0000 - _runtime: 866.0000\n",
            "Epoch 4/8\n",
            "281/281 [==============================] - 275s 979ms/step - loss: 1.9780 - accuracy: 0.2958 - val_loss: 1.9923 - val_accuracy: 0.2833 - _timestamp: 1648757688.0000 - _runtime: 1142.0000\n",
            "Epoch 5/8\n",
            "281/281 [==============================] - 269s 958ms/step - loss: 1.9545 - accuracy: 0.3104 - val_loss: 1.9642 - val_accuracy: 0.3135 - _timestamp: 1648758004.0000 - _runtime: 1458.0000\n",
            "Epoch 6/8\n",
            "281/281 [==============================] - 256s 912ms/step - loss: 1.9332 - accuracy: 0.3172 - val_loss: 1.9735 - val_accuracy: 0.3054 - _timestamp: 1648758313.0000 - _runtime: 1767.0000\n",
            "Epoch 7/8\n",
            "281/281 [==============================] - 263s 936ms/step - loss: 1.9145 - accuracy: 0.3226 - val_loss: 1.9510 - val_accuracy: 0.3095 - _timestamp: 1648758581.0000 - _runtime: 2035.0000\n",
            "Epoch 8/8\n",
            "281/281 [==============================] - 286s 1s/step - loss: 1.8896 - accuracy: 0.3321 - val_loss: 1.9201 - val_accuracy: 0.3115 - _timestamp: 1648758927.0000 - _runtime: 2381.0000\n",
            "\n"
          ]
        },
        {
          "output_type": "display_data",
          "data": {
            "text/plain": [
              "<IPython.core.display.HTML object>"
            ],
            "text/html": [
              "Waiting for W&B process to finish... <strong style=\"color:green\">(success).</strong>"
            ]
          },
          "metadata": {}
        },
        {
          "output_type": "display_data",
          "data": {
            "text/plain": [
              "VBox(children=(Label(value='19.020 MB of 19.020 MB uploaded (0.000 MB deduped)\\r'), FloatProgress(value=1.0, m…"
            ],
            "application/vnd.jupyter.widget-view+json": {
              "version_major": 2,
              "version_minor": 0,
              "model_id": "492677072ca944c29b64d9343c6cdacc"
            }
          },
          "metadata": {}
        },
        {
          "output_type": "display_data",
          "data": {
            "text/plain": [
              "<IPython.core.display.HTML object>"
            ],
            "text/html": [
              "<style>\n",
              "    table.wandb td:nth-child(1) { padding: 0 10px; text-align: right }\n",
              "    .wandb-row { display: flex; flex-direction: row; flex-wrap: wrap; width: 100% }\n",
              "    .wandb-col { display: flex; flex-direction: column; flex-basis: 100%; flex: 1; padding: 10px; }\n",
              "    </style>\n",
              "<div class=\"wandb-row\"><div class=\"wandb-col\"><h3>Run history:</h3><br/><table class=\"wandb\"><tr><td>accuracy</td><td>▁▅▆▆▇▇██</td></tr><tr><td>epoch</td><td>▁▂▃▄▅▆▇█</td></tr><tr><td>loss</td><td>█▅▃▃▂▂▂▁</td></tr><tr><td>val_accuracy</td><td>▁▅▅▆█▇██</td></tr><tr><td>val_loss</td><td>█▆▄▃▃▃▂▁</td></tr></table><br/></div><div class=\"wandb-col\"><h3>Run summary:</h3><br/><table class=\"wandb\"><tr><td>accuracy</td><td>0.33207</td></tr><tr><td>best_epoch</td><td>4</td></tr><tr><td>best_val_accuracy</td><td>0.31351</td></tr><tr><td>epoch</td><td>7</td></tr><tr><td>loss</td><td>1.8896</td></tr><tr><td>val_accuracy</td><td>0.31149</td></tr><tr><td>val_loss</td><td>1.92008</td></tr></table><br/></div></div>"
            ]
          },
          "metadata": {}
        },
        {
          "output_type": "display_data",
          "data": {
            "text/plain": [
              "<IPython.core.display.HTML object>"
            ],
            "text/html": [
              "Synced <strong style=\"color:#cdcd00\">CS6910-A2-P_A</strong>: <a href=\"https://wandb.ai/pandp/cs6910-As-2/runs/pkwulb3u\" target=\"_blank\">https://wandb.ai/pandp/cs6910-As-2/runs/pkwulb3u</a><br/>Synced 5 W&B file(s), 1 media file(s), 0 artifact file(s) and 1 other file(s)"
            ]
          },
          "metadata": {}
        },
        {
          "output_type": "display_data",
          "data": {
            "text/plain": [
              "<IPython.core.display.HTML object>"
            ],
            "text/html": [
              "Find logs at: <code>./wandb/run-20220331_195546-pkwulb3u/logs</code>"
            ]
          },
          "metadata": {}
        },
        {
          "output_type": "stream",
          "name": "stderr",
          "text": [
            "\u001b[34m\u001b[1mwandb\u001b[0m: Agent Starting Run: kail225b with config:\n",
            "\u001b[34m\u001b[1mwandb\u001b[0m: \tbatch_norm: False\n",
            "\u001b[34m\u001b[1mwandb\u001b[0m: \tdense_neuron: 256\n",
            "\u001b[34m\u001b[1mwandb\u001b[0m: \tdropout: 0.2\n",
            "\u001b[34m\u001b[1mwandb\u001b[0m: \tepochs: 8\n",
            "\u001b[34m\u001b[1mwandb\u001b[0m: \tfilter_size: [[2, 2], [2, 2], [2, 2], [2, 2], [2, 2]]\n",
            "\u001b[34m\u001b[1mwandb\u001b[0m: \tfilters: [32, 32, 32, 32, 32]\n",
            "\u001b[34m\u001b[1mwandb\u001b[0m: \tlr: 1e-05\n"
          ]
        },
        {
          "output_type": "display_data",
          "data": {
            "text/plain": [
              "<IPython.core.display.HTML object>"
            ],
            "text/html": [
              "Tracking run with wandb version 0.12.11"
            ]
          },
          "metadata": {}
        },
        {
          "output_type": "display_data",
          "data": {
            "text/plain": [
              "<IPython.core.display.HTML object>"
            ],
            "text/html": [
              "Run data is saved locally in <code>/content/wandb/run-20220331_203538-kail225b</code>"
            ]
          },
          "metadata": {}
        },
        {
          "output_type": "display_data",
          "data": {
            "text/plain": [
              "<IPython.core.display.HTML object>"
            ],
            "text/html": [
              "Syncing run <strong><a href=\"https://wandb.ai/pandp/cs6910-As-2/runs/kail225b\" target=\"_blank\">CS6910-A2-P_A</a></strong> to <a href=\"https://wandb.ai/pandp/cs6910-As-2\" target=\"_blank\">Weights & Biases</a> (<a href=\"https://wandb.me/run\" target=\"_blank\">docs</a>)<br/>Sweep page:  <a href=\"https://wandb.ai/pandp/cs6910-As-2/sweeps/et1l06k6\" target=\"_blank\">https://wandb.ai/pandp/cs6910-As-2/sweeps/et1l06k6</a>"
            ]
          },
          "metadata": {}
        },
        {
          "output_type": "stream",
          "name": "stdout",
          "text": [
            "Epoch 1/8\n",
            "281/281 [==============================] - 274s 973ms/step - loss: 2.3008 - accuracy: 0.1137 - val_loss: 2.2947 - val_accuracy: 0.1260 - _timestamp: 1648759219.0000 - _runtime: 281.0000\n",
            "Epoch 2/8\n",
            "281/281 [==============================] - 281s 1s/step - loss: 2.2938 - accuracy: 0.1211 - val_loss: 2.2871 - val_accuracy: 0.1532 - _timestamp: 1648759500.0000 - _runtime: 562.0000\n",
            "Epoch 3/8\n",
            "281/281 [==============================] - 261s 930ms/step - loss: 2.2856 - accuracy: 0.1502 - val_loss: 2.2762 - val_accuracy: 0.1633 - _timestamp: 1648759802.0000 - _runtime: 864.0000\n",
            "Epoch 4/8\n",
            "281/281 [==============================] - 255s 907ms/step - loss: 2.2747 - accuracy: 0.1588 - val_loss: 2.2651 - val_accuracy: 0.1986 - _timestamp: 1648760058.0000 - _runtime: 1120.0000\n",
            "Epoch 5/8\n",
            "281/281 [==============================] - 266s 948ms/step - loss: 2.2626 - accuracy: 0.1687 - val_loss: 2.2496 - val_accuracy: 0.1885 - _timestamp: 1648760324.0000 - _runtime: 1386.0000\n",
            "Epoch 6/8\n",
            "281/281 [==============================] - 277s 986ms/step - loss: 2.2514 - accuracy: 0.1712 - val_loss: 2.2375 - val_accuracy: 0.1875 - _timestamp: 1648760657.0000 - _runtime: 1719.0000\n",
            "Epoch 7/8\n",
            "281/281 [==============================] - 265s 944ms/step - loss: 2.2419 - accuracy: 0.1738 - val_loss: 2.2251 - val_accuracy: 0.1885 - _timestamp: 1648760922.0000 - _runtime: 1984.0000\n",
            "Epoch 8/8\n",
            "281/281 [==============================] - 257s 913ms/step - loss: 2.2297 - accuracy: 0.1842 - val_loss: 2.2150 - val_accuracy: 0.1996 - _timestamp: 1648761178.0000 - _runtime: 2240.0000\n",
            "\n"
          ]
        },
        {
          "output_type": "display_data",
          "data": {
            "text/plain": [
              "<IPython.core.display.HTML object>"
            ],
            "text/html": [
              "Waiting for W&B process to finish... <strong style=\"color:green\">(success).</strong>"
            ]
          },
          "metadata": {}
        },
        {
          "output_type": "display_data",
          "data": {
            "text/plain": [
              "VBox(children=(Label(value='4.902 MB of 4.902 MB uploaded (0.000 MB deduped)\\r'), FloatProgress(value=1.0, max…"
            ],
            "application/vnd.jupyter.widget-view+json": {
              "version_major": 2,
              "version_minor": 0,
              "model_id": "c47daa67a3e54df7ac3c99d2a66ba015"
            }
          },
          "metadata": {}
        },
        {
          "output_type": "display_data",
          "data": {
            "text/plain": [
              "<IPython.core.display.HTML object>"
            ],
            "text/html": [
              "<style>\n",
              "    table.wandb td:nth-child(1) { padding: 0 10px; text-align: right }\n",
              "    .wandb-row { display: flex; flex-direction: row; flex-wrap: wrap; width: 100% }\n",
              "    .wandb-col { display: flex; flex-direction: column; flex-basis: 100%; flex: 1; padding: 10px; }\n",
              "    </style>\n",
              "<div class=\"wandb-row\"><div class=\"wandb-col\"><h3>Run history:</h3><br/><table class=\"wandb\"><tr><td>accuracy</td><td>▁▂▅▅▆▇▇█</td></tr><tr><td>epoch</td><td>▁▂▃▄▅▆▇█</td></tr><tr><td>loss</td><td>█▇▇▅▄▃▂▁</td></tr><tr><td>val_accuracy</td><td>▁▄▅█▇▇▇█</td></tr><tr><td>val_loss</td><td>█▇▆▅▄▃▂▁</td></tr></table><br/></div><div class=\"wandb-col\"><h3>Run summary:</h3><br/><table class=\"wandb\"><tr><td>accuracy</td><td>0.18418</td></tr><tr><td>best_epoch</td><td>7</td></tr><tr><td>best_val_accuracy</td><td>0.1996</td></tr><tr><td>epoch</td><td>7</td></tr><tr><td>loss</td><td>2.22966</td></tr><tr><td>val_accuracy</td><td>0.1996</td></tr><tr><td>val_loss</td><td>2.21498</td></tr></table><br/></div></div>"
            ]
          },
          "metadata": {}
        },
        {
          "output_type": "display_data",
          "data": {
            "text/plain": [
              "<IPython.core.display.HTML object>"
            ],
            "text/html": [
              "Synced <strong style=\"color:#cdcd00\">CS6910-A2-P_A</strong>: <a href=\"https://wandb.ai/pandp/cs6910-As-2/runs/kail225b\" target=\"_blank\">https://wandb.ai/pandp/cs6910-As-2/runs/kail225b</a><br/>Synced 5 W&B file(s), 1 media file(s), 0 artifact file(s) and 1 other file(s)"
            ]
          },
          "metadata": {}
        },
        {
          "output_type": "display_data",
          "data": {
            "text/plain": [
              "<IPython.core.display.HTML object>"
            ],
            "text/html": [
              "Find logs at: <code>./wandb/run-20220331_203538-kail225b/logs</code>"
            ]
          },
          "metadata": {}
        },
        {
          "output_type": "stream",
          "name": "stderr",
          "text": [
            "\u001b[34m\u001b[1mwandb\u001b[0m: Agent Starting Run: r9hgm3ta with config:\n",
            "\u001b[34m\u001b[1mwandb\u001b[0m: \tbatch_norm: False\n",
            "\u001b[34m\u001b[1mwandb\u001b[0m: \tdense_neuron: 1024\n",
            "\u001b[34m\u001b[1mwandb\u001b[0m: \tdropout: 0.2\n",
            "\u001b[34m\u001b[1mwandb\u001b[0m: \tepochs: 8\n",
            "\u001b[34m\u001b[1mwandb\u001b[0m: \tfilter_size: [[3, 3], [3, 3], [3, 3], [3, 3], [3, 3]]\n",
            "\u001b[34m\u001b[1mwandb\u001b[0m: \tfilters: [32, 16, 8, 4, 2]\n",
            "\u001b[34m\u001b[1mwandb\u001b[0m: \tlr: 0.0001\n"
          ]
        },
        {
          "output_type": "display_data",
          "data": {
            "text/plain": [
              "<IPython.core.display.HTML object>"
            ],
            "text/html": [
              "Tracking run with wandb version 0.12.11"
            ]
          },
          "metadata": {}
        },
        {
          "output_type": "display_data",
          "data": {
            "text/plain": [
              "<IPython.core.display.HTML object>"
            ],
            "text/html": [
              "Run data is saved locally in <code>/content/wandb/run-20220331_211305-r9hgm3ta</code>"
            ]
          },
          "metadata": {}
        },
        {
          "output_type": "display_data",
          "data": {
            "text/plain": [
              "<IPython.core.display.HTML object>"
            ],
            "text/html": [
              "Syncing run <strong><a href=\"https://wandb.ai/pandp/cs6910-As-2/runs/r9hgm3ta\" target=\"_blank\">CS6910-A2-P_A</a></strong> to <a href=\"https://wandb.ai/pandp/cs6910-As-2\" target=\"_blank\">Weights & Biases</a> (<a href=\"https://wandb.me/run\" target=\"_blank\">docs</a>)<br/>Sweep page:  <a href=\"https://wandb.ai/pandp/cs6910-As-2/sweeps/et1l06k6\" target=\"_blank\">https://wandb.ai/pandp/cs6910-As-2/sweeps/et1l06k6</a>"
            ]
          },
          "metadata": {}
        },
        {
          "output_type": "stream",
          "name": "stdout",
          "text": [
            "Epoch 1/8\n",
            "281/281 [==============================] - 257s 910ms/step - loss: 2.2796 - accuracy: 0.1262 - val_loss: 2.2450 - val_accuracy: 0.1643 - _timestamp: 1648761448.0000 - _runtime: 263.0000\n",
            "Epoch 2/8\n",
            "281/281 [==============================] - 254s 904ms/step - loss: 2.2291 - accuracy: 0.1631 - val_loss: 2.2044 - val_accuracy: 0.1613 - _timestamp: 1648761702.0000 - _runtime: 517.0000\n",
            "Epoch 3/8\n",
            "281/281 [==============================] - 249s 885ms/step - loss: 2.1968 - accuracy: 0.1824 - val_loss: 2.1762 - val_accuracy: 0.2046 - _timestamp: 1648761950.0000 - _runtime: 765.0000\n",
            "Epoch 4/8\n",
            "281/281 [==============================] - 248s 882ms/step - loss: 2.1649 - accuracy: 0.2016 - val_loss: 2.1454 - val_accuracy: 0.2107 - _timestamp: 1648762198.0000 - _runtime: 1013.0000\n",
            "Epoch 5/8\n",
            "281/281 [==============================] - 252s 896ms/step - loss: 2.1384 - accuracy: 0.2218 - val_loss: 2.1295 - val_accuracy: 0.2298 - _timestamp: 1648762464.0000 - _runtime: 1279.0000\n",
            "Epoch 6/8\n",
            "281/281 [==============================] - 251s 894ms/step - loss: 2.1120 - accuracy: 0.2378 - val_loss: 2.0972 - val_accuracy: 0.2379 - _timestamp: 1648762715.0000 - _runtime: 1530.0000\n",
            "Epoch 7/8\n",
            "281/281 [==============================] - 253s 900ms/step - loss: 2.0973 - accuracy: 0.2456 - val_loss: 2.1063 - val_accuracy: 0.2409 - _timestamp: 1648762968.0000 - _runtime: 1783.0000\n",
            "Epoch 8/8\n",
            "281/281 [==============================] - 257s 914ms/step - loss: 2.0812 - accuracy: 0.2474 - val_loss: 2.0950 - val_accuracy: 0.2540 - _timestamp: 1648763225.0000 - _runtime: 2040.0000\n",
            "\n"
          ]
        },
        {
          "output_type": "display_data",
          "data": {
            "text/plain": [
              "<IPython.core.display.HTML object>"
            ],
            "text/html": [
              "Waiting for W&B process to finish... <strong style=\"color:green\">(success).</strong>"
            ]
          },
          "metadata": {}
        },
        {
          "output_type": "display_data",
          "data": {
            "text/plain": [
              "VBox(children=(Label(value='1.440 MB of 1.440 MB uploaded (0.000 MB deduped)\\r'), FloatProgress(value=1.0, max…"
            ],
            "application/vnd.jupyter.widget-view+json": {
              "version_major": 2,
              "version_minor": 0,
              "model_id": "5b03e49d38ab45e7a0907cdf02dbc1e0"
            }
          },
          "metadata": {}
        },
        {
          "output_type": "display_data",
          "data": {
            "text/plain": [
              "<IPython.core.display.HTML object>"
            ],
            "text/html": [
              "<style>\n",
              "    table.wandb td:nth-child(1) { padding: 0 10px; text-align: right }\n",
              "    .wandb-row { display: flex; flex-direction: row; flex-wrap: wrap; width: 100% }\n",
              "    .wandb-col { display: flex; flex-direction: column; flex-basis: 100%; flex: 1; padding: 10px; }\n",
              "    </style>\n",
              "<div class=\"wandb-row\"><div class=\"wandb-col\"><h3>Run history:</h3><br/><table class=\"wandb\"><tr><td>accuracy</td><td>▁▃▄▅▇▇██</td></tr><tr><td>epoch</td><td>▁▂▃▄▅▆▇█</td></tr><tr><td>loss</td><td>█▆▅▄▃▂▂▁</td></tr><tr><td>val_accuracy</td><td>▁▁▄▅▆▇▇█</td></tr><tr><td>val_loss</td><td>█▆▅▃▃▁▂▁</td></tr></table><br/></div><div class=\"wandb-col\"><h3>Run summary:</h3><br/><table class=\"wandb\"><tr><td>accuracy</td><td>0.24738</td></tr><tr><td>best_epoch</td><td>7</td></tr><tr><td>best_val_accuracy</td><td>0.25403</td></tr><tr><td>epoch</td><td>7</td></tr><tr><td>loss</td><td>2.08115</td></tr><tr><td>val_accuracy</td><td>0.25403</td></tr><tr><td>val_loss</td><td>2.09504</td></tr></table><br/></div></div>"
            ]
          },
          "metadata": {}
        },
        {
          "output_type": "display_data",
          "data": {
            "text/plain": [
              "<IPython.core.display.HTML object>"
            ],
            "text/html": [
              "Synced <strong style=\"color:#cdcd00\">CS6910-A2-P_A</strong>: <a href=\"https://wandb.ai/pandp/cs6910-As-2/runs/r9hgm3ta\" target=\"_blank\">https://wandb.ai/pandp/cs6910-As-2/runs/r9hgm3ta</a><br/>Synced 5 W&B file(s), 1 media file(s), 0 artifact file(s) and 1 other file(s)"
            ]
          },
          "metadata": {}
        },
        {
          "output_type": "display_data",
          "data": {
            "text/plain": [
              "<IPython.core.display.HTML object>"
            ],
            "text/html": [
              "Find logs at: <code>./wandb/run-20220331_211305-r9hgm3ta/logs</code>"
            ]
          },
          "metadata": {}
        },
        {
          "output_type": "stream",
          "name": "stderr",
          "text": [
            "\u001b[34m\u001b[1mwandb\u001b[0m: Agent Starting Run: vkm75c0p with config:\n",
            "\u001b[34m\u001b[1mwandb\u001b[0m: \tbatch_norm: False\n",
            "\u001b[34m\u001b[1mwandb\u001b[0m: \tdense_neuron: 256\n",
            "\u001b[34m\u001b[1mwandb\u001b[0m: \tdropout: 0.15\n",
            "\u001b[34m\u001b[1mwandb\u001b[0m: \tepochs: 8\n",
            "\u001b[34m\u001b[1mwandb\u001b[0m: \tfilter_size: [[5, 5], [5, 5], [5, 5], [5, 5], [5, 5]]\n",
            "\u001b[34m\u001b[1mwandb\u001b[0m: \tfilters: [64, 64, 64, 64, 64]\n",
            "\u001b[34m\u001b[1mwandb\u001b[0m: \tlr: 1e-05\n"
          ]
        },
        {
          "output_type": "display_data",
          "data": {
            "text/plain": [
              "<IPython.core.display.HTML object>"
            ],
            "text/html": [
              "Tracking run with wandb version 0.12.11"
            ]
          },
          "metadata": {}
        },
        {
          "output_type": "display_data",
          "data": {
            "text/plain": [
              "<IPython.core.display.HTML object>"
            ],
            "text/html": [
              "Run data is saved locally in <code>/content/wandb/run-20220331_214715-vkm75c0p</code>"
            ]
          },
          "metadata": {}
        },
        {
          "output_type": "display_data",
          "data": {
            "text/plain": [
              "<IPython.core.display.HTML object>"
            ],
            "text/html": [
              "Syncing run <strong><a href=\"https://wandb.ai/pandp/cs6910-As-2/runs/vkm75c0p\" target=\"_blank\">CS6910-A2-P_A</a></strong> to <a href=\"https://wandb.ai/pandp/cs6910-As-2\" target=\"_blank\">Weights & Biases</a> (<a href=\"https://wandb.me/run\" target=\"_blank\">docs</a>)<br/>Sweep page:  <a href=\"https://wandb.ai/pandp/cs6910-As-2/sweeps/et1l06k6\" target=\"_blank\">https://wandb.ai/pandp/cs6910-As-2/sweeps/et1l06k6</a>"
            ]
          },
          "metadata": {}
        },
        {
          "output_type": "stream",
          "name": "stdout",
          "text": [
            "Epoch 1/8\n",
            "281/281 [==============================] - 271s 952ms/step - loss: 2.2980 - accuracy: 0.1310 - val_loss: 2.2853 - val_accuracy: 0.1734 - _timestamp: 1648763513.0000 - _runtime: 277.0000\n",
            "Epoch 2/8\n",
            "281/281 [==============================] - 269s 956ms/step - loss: 2.2238 - accuracy: 0.1860 - val_loss: 2.1593 - val_accuracy: 0.2107 - _timestamp: 1648763834.0000 - _runtime: 598.0000\n",
            "Epoch 3/8\n",
            "281/281 [==============================] - 263s 936ms/step - loss: 2.1479 - accuracy: 0.2173 - val_loss: 2.1258 - val_accuracy: 0.2208 - _timestamp: 1648764097.0000 - _runtime: 861.0000\n",
            "Epoch 4/8\n",
            "281/281 [==============================] - 270s 962ms/step - loss: 2.1074 - accuracy: 0.2474 - val_loss: 2.0907 - val_accuracy: 0.2581 - _timestamp: 1648764426.0000 - _runtime: 1190.0000\n",
            "Epoch 5/8\n",
            "281/281 [==============================] - 265s 942ms/step - loss: 2.0819 - accuracy: 0.2533 - val_loss: 2.0727 - val_accuracy: 0.2651 - _timestamp: 1648764691.0000 - _runtime: 1455.0000\n",
            "Epoch 6/8\n",
            "281/281 [==============================] - 268s 955ms/step - loss: 2.0660 - accuracy: 0.2601 - val_loss: 2.0639 - val_accuracy: 0.2571 - _timestamp: 1648764959.0000 - _runtime: 1723.0000\n",
            "Epoch 7/8\n",
            "281/281 [==============================] - 269s 956ms/step - loss: 2.0488 - accuracy: 0.2676 - val_loss: 2.0471 - val_accuracy: 0.2631 - _timestamp: 1648765228.0000 - _runtime: 1992.0000\n",
            "Epoch 8/8\n",
            "281/281 [==============================] - 267s 949ms/step - loss: 2.0395 - accuracy: 0.2784 - val_loss: 2.0338 - val_accuracy: 0.2863 - _timestamp: 1648765548.0000 - _runtime: 2312.0000\n",
            "\n"
          ]
        },
        {
          "output_type": "display_data",
          "data": {
            "text/plain": [
              "<IPython.core.display.HTML object>"
            ],
            "text/html": [
              "Waiting for W&B process to finish... <strong style=\"color:green\">(success).</strong>"
            ]
          },
          "metadata": {}
        },
        {
          "output_type": "display_data",
          "data": {
            "text/plain": [
              "VBox(children=(Label(value='14.048 MB of 14.048 MB uploaded (0.000 MB deduped)\\r'), FloatProgress(value=1.0, m…"
            ],
            "application/vnd.jupyter.widget-view+json": {
              "version_major": 2,
              "version_minor": 0,
              "model_id": "2b64c75875404b1db2c4233a7c96db02"
            }
          },
          "metadata": {}
        },
        {
          "output_type": "display_data",
          "data": {
            "text/plain": [
              "<IPython.core.display.HTML object>"
            ],
            "text/html": [
              "<style>\n",
              "    table.wandb td:nth-child(1) { padding: 0 10px; text-align: right }\n",
              "    .wandb-row { display: flex; flex-direction: row; flex-wrap: wrap; width: 100% }\n",
              "    .wandb-col { display: flex; flex-direction: column; flex-basis: 100%; flex: 1; padding: 10px; }\n",
              "    </style>\n",
              "<div class=\"wandb-row\"><div class=\"wandb-col\"><h3>Run history:</h3><br/><table class=\"wandb\"><tr><td>accuracy</td><td>▁▄▅▇▇▇▇█</td></tr><tr><td>epoch</td><td>▁▂▃▄▅▆▇█</td></tr><tr><td>loss</td><td>█▆▄▃▂▂▁▁</td></tr><tr><td>val_accuracy</td><td>▁▃▄▆▇▆▇█</td></tr><tr><td>val_loss</td><td>█▄▄▃▂▂▁▁</td></tr></table><br/></div><div class=\"wandb-col\"><h3>Run summary:</h3><br/><table class=\"wandb\"><tr><td>accuracy</td><td>0.27843</td></tr><tr><td>best_epoch</td><td>7</td></tr><tr><td>best_val_accuracy</td><td>0.28629</td></tr><tr><td>epoch</td><td>7</td></tr><tr><td>loss</td><td>2.03946</td></tr><tr><td>val_accuracy</td><td>0.28629</td></tr><tr><td>val_loss</td><td>2.03382</td></tr></table><br/></div></div>"
            ]
          },
          "metadata": {}
        },
        {
          "output_type": "display_data",
          "data": {
            "text/plain": [
              "<IPython.core.display.HTML object>"
            ],
            "text/html": [
              "Synced <strong style=\"color:#cdcd00\">CS6910-A2-P_A</strong>: <a href=\"https://wandb.ai/pandp/cs6910-As-2/runs/vkm75c0p\" target=\"_blank\">https://wandb.ai/pandp/cs6910-As-2/runs/vkm75c0p</a><br/>Synced 5 W&B file(s), 1 media file(s), 0 artifact file(s) and 1 other file(s)"
            ]
          },
          "metadata": {}
        },
        {
          "output_type": "display_data",
          "data": {
            "text/plain": [
              "<IPython.core.display.HTML object>"
            ],
            "text/html": [
              "Find logs at: <code>./wandb/run-20220331_214715-vkm75c0p/logs</code>"
            ]
          },
          "metadata": {}
        },
        {
          "output_type": "stream",
          "name": "stderr",
          "text": [
            "\u001b[34m\u001b[1mwandb\u001b[0m: Agent Starting Run: nv1jsjtu with config:\n",
            "\u001b[34m\u001b[1mwandb\u001b[0m: \tbatch_norm: True\n",
            "\u001b[34m\u001b[1mwandb\u001b[0m: \tdense_neuron: 512\n",
            "\u001b[34m\u001b[1mwandb\u001b[0m: \tdropout: 0.15\n",
            "\u001b[34m\u001b[1mwandb\u001b[0m: \tepochs: 8\n",
            "\u001b[34m\u001b[1mwandb\u001b[0m: \tfilter_size: [[3, 3], [3, 3], [3, 3], [3, 3], [3, 3]]\n",
            "\u001b[34m\u001b[1mwandb\u001b[0m: \tfilters: [32, 64, 128, 256, 256]\n",
            "\u001b[34m\u001b[1mwandb\u001b[0m: \tlr: 1e-05\n"
          ]
        },
        {
          "output_type": "display_data",
          "data": {
            "text/plain": [
              "<IPython.core.display.HTML object>"
            ],
            "text/html": [
              "Tracking run with wandb version 0.12.11"
            ]
          },
          "metadata": {}
        },
        {
          "output_type": "display_data",
          "data": {
            "text/plain": [
              "<IPython.core.display.HTML object>"
            ],
            "text/html": [
              "Run data is saved locally in <code>/content/wandb/run-20220331_222653-nv1jsjtu</code>"
            ]
          },
          "metadata": {}
        },
        {
          "output_type": "display_data",
          "data": {
            "text/plain": [
              "<IPython.core.display.HTML object>"
            ],
            "text/html": [
              "Syncing run <strong><a href=\"https://wandb.ai/pandp/cs6910-As-2/runs/nv1jsjtu\" target=\"_blank\">CS6910-A2-P_A</a></strong> to <a href=\"https://wandb.ai/pandp/cs6910-As-2\" target=\"_blank\">Weights & Biases</a> (<a href=\"https://wandb.me/run\" target=\"_blank\">docs</a>)<br/>Sweep page:  <a href=\"https://wandb.ai/pandp/cs6910-As-2/sweeps/et1l06k6\" target=\"_blank\">https://wandb.ai/pandp/cs6910-As-2/sweeps/et1l06k6</a>"
            ]
          },
          "metadata": {}
        },
        {
          "output_type": "stream",
          "name": "stdout",
          "text": [
            "Epoch 1/8\n",
            "281/281 [==============================] - 275s 974ms/step - loss: 2.3171 - accuracy: 0.1992 - val_loss: 2.3775 - val_accuracy: 0.1371 - _timestamp: 1648765894.0000 - _runtime: 281.0000\n",
            "Epoch 2/8\n",
            "281/281 [==============================] - 265s 940ms/step - loss: 2.0835 - accuracy: 0.2550 - val_loss: 2.0541 - val_accuracy: 0.2490 - _timestamp: 1648766159.0000 - _runtime: 546.0000\n",
            "Epoch 3/8\n",
            "281/281 [==============================] - 271s 963ms/step - loss: 2.0218 - accuracy: 0.2863 - val_loss: 1.9923 - val_accuracy: 0.3054 - _timestamp: 1648766487.0000 - _runtime: 874.0000\n",
            "Epoch 4/8\n",
            "281/281 [==============================] - 266s 946ms/step - loss: 1.9822 - accuracy: 0.2948 - val_loss: 1.9417 - val_accuracy: 0.3125 - _timestamp: 1648766753.0000 - _runtime: 1140.0000\n",
            "Epoch 5/8\n",
            "281/281 [==============================] - 264s 938ms/step - loss: 1.9468 - accuracy: 0.3137 - val_loss: 1.9473 - val_accuracy: 0.3175 - _timestamp: 1648767016.0000 - _runtime: 1403.0000\n",
            "Epoch 6/8\n",
            "281/281 [==============================] - 267s 951ms/step - loss: 1.9269 - accuracy: 0.3156 - val_loss: 1.9304 - val_accuracy: 0.3256 - _timestamp: 1648767284.0000 - _runtime: 1671.0000\n",
            "Epoch 7/8\n",
            "281/281 [==============================] - 266s 947ms/step - loss: 1.9071 - accuracy: 0.3296 - val_loss: 1.8958 - val_accuracy: 0.3105 - _timestamp: 1648767605.0000 - _runtime: 1992.0000\n",
            "Epoch 8/8\n",
            "281/281 [==============================] - 272s 966ms/step - loss: 1.8836 - accuracy: 0.3367 - val_loss: 1.8838 - val_accuracy: 0.3357 - _timestamp: 1648767932.0000 - _runtime: 2319.0000\n",
            "\n"
          ]
        },
        {
          "output_type": "display_data",
          "data": {
            "text/plain": [
              "<IPython.core.display.HTML object>"
            ],
            "text/html": [
              "Waiting for W&B process to finish... <strong style=\"color:green\">(success).</strong>"
            ]
          },
          "metadata": {}
        },
        {
          "output_type": "display_data",
          "data": {
            "text/plain": [
              "VBox(children=(Label(value='84.910 MB of 84.910 MB uploaded (0.000 MB deduped)\\r'), FloatProgress(value=1.0, m…"
            ],
            "application/vnd.jupyter.widget-view+json": {
              "version_major": 2,
              "version_minor": 0,
              "model_id": "6c22416376904ef0a1bfef269cef2894"
            }
          },
          "metadata": {}
        },
        {
          "output_type": "display_data",
          "data": {
            "text/plain": [
              "<IPython.core.display.HTML object>"
            ],
            "text/html": [
              "<style>\n",
              "    table.wandb td:nth-child(1) { padding: 0 10px; text-align: right }\n",
              "    .wandb-row { display: flex; flex-direction: row; flex-wrap: wrap; width: 100% }\n",
              "    .wandb-col { display: flex; flex-direction: column; flex-basis: 100%; flex: 1; padding: 10px; }\n",
              "    </style>\n",
              "<div class=\"wandb-row\"><div class=\"wandb-col\"><h3>Run history:</h3><br/><table class=\"wandb\"><tr><td>accuracy</td><td>▁▄▅▆▇▇██</td></tr><tr><td>epoch</td><td>▁▂▃▄▅▆▇█</td></tr><tr><td>loss</td><td>█▄▃▃▂▂▁▁</td></tr><tr><td>val_accuracy</td><td>▁▅▇▇▇█▇█</td></tr><tr><td>val_loss</td><td>█▃▃▂▂▂▁▁</td></tr></table><br/></div><div class=\"wandb-col\"><h3>Run summary:</h3><br/><table class=\"wandb\"><tr><td>accuracy</td><td>0.33675</td></tr><tr><td>best_epoch</td><td>7</td></tr><tr><td>best_val_accuracy</td><td>0.33569</td></tr><tr><td>epoch</td><td>7</td></tr><tr><td>loss</td><td>1.88361</td></tr><tr><td>val_accuracy</td><td>0.33569</td></tr><tr><td>val_loss</td><td>1.8838</td></tr></table><br/></div></div>"
            ]
          },
          "metadata": {}
        },
        {
          "output_type": "display_data",
          "data": {
            "text/plain": [
              "<IPython.core.display.HTML object>"
            ],
            "text/html": [
              "Synced <strong style=\"color:#cdcd00\">CS6910-A2-P_A</strong>: <a href=\"https://wandb.ai/pandp/cs6910-As-2/runs/nv1jsjtu\" target=\"_blank\">https://wandb.ai/pandp/cs6910-As-2/runs/nv1jsjtu</a><br/>Synced 5 W&B file(s), 1 media file(s), 0 artifact file(s) and 1 other file(s)"
            ]
          },
          "metadata": {}
        },
        {
          "output_type": "display_data",
          "data": {
            "text/plain": [
              "<IPython.core.display.HTML object>"
            ],
            "text/html": [
              "Find logs at: <code>./wandb/run-20220331_222653-nv1jsjtu/logs</code>"
            ]
          },
          "metadata": {}
        },
        {
          "output_type": "stream",
          "name": "stderr",
          "text": [
            "\u001b[34m\u001b[1mwandb\u001b[0m: Agent Starting Run: mffuzbbs with config:\n",
            "\u001b[34m\u001b[1mwandb\u001b[0m: \tbatch_norm: True\n",
            "\u001b[34m\u001b[1mwandb\u001b[0m: \tdense_neuron: 512\n",
            "\u001b[34m\u001b[1mwandb\u001b[0m: \tdropout: 0.15\n",
            "\u001b[34m\u001b[1mwandb\u001b[0m: \tepochs: 8\n",
            "\u001b[34m\u001b[1mwandb\u001b[0m: \tfilter_size: [[5, 5], [5, 5], [5, 5], [5, 5], [5, 5]]\n",
            "\u001b[34m\u001b[1mwandb\u001b[0m: \tfilters: [32, 16, 8, 4, 2]\n",
            "\u001b[34m\u001b[1mwandb\u001b[0m: \tlr: 1e-05\n"
          ]
        },
        {
          "output_type": "display_data",
          "data": {
            "text/plain": [
              "<IPython.core.display.HTML object>"
            ],
            "text/html": [
              "Tracking run with wandb version 0.12.11"
            ]
          },
          "metadata": {}
        },
        {
          "output_type": "display_data",
          "data": {
            "text/plain": [
              "<IPython.core.display.HTML object>"
            ],
            "text/html": [
              "Run data is saved locally in <code>/content/wandb/run-20220331_230544-mffuzbbs</code>"
            ]
          },
          "metadata": {}
        },
        {
          "output_type": "display_data",
          "data": {
            "text/plain": [
              "<IPython.core.display.HTML object>"
            ],
            "text/html": [
              "Syncing run <strong><a href=\"https://wandb.ai/pandp/cs6910-As-2/runs/mffuzbbs\" target=\"_blank\">CS6910-A2-P_A</a></strong> to <a href=\"https://wandb.ai/pandp/cs6910-As-2\" target=\"_blank\">Weights & Biases</a> (<a href=\"https://wandb.me/run\" target=\"_blank\">docs</a>)<br/>Sweep page:  <a href=\"https://wandb.ai/pandp/cs6910-As-2/sweeps/et1l06k6\" target=\"_blank\">https://wandb.ai/pandp/cs6910-As-2/sweeps/et1l06k6</a>"
            ]
          },
          "metadata": {}
        },
        {
          "output_type": "stream",
          "name": "stdout",
          "text": [
            "Epoch 1/8\n",
            "281/281 [==============================] - 268s 947ms/step - loss: 2.3896 - accuracy: 0.1056 - val_loss: 2.3136 - val_accuracy: 0.0988 - _timestamp: 1648768220.0000 - _runtime: 276.0000\n",
            "Epoch 2/8\n",
            "281/281 [==============================] - 265s 943ms/step - loss: 2.3492 - accuracy: 0.1091 - val_loss: 2.3110 - val_accuracy: 0.1179 - _timestamp: 1648768540.0000 - _runtime: 596.0000\n",
            "Epoch 3/8\n",
            "281/281 [==============================] - 270s 959ms/step - loss: 2.3387 - accuracy: 0.1197 - val_loss: 2.2988 - val_accuracy: 0.1240 - _timestamp: 1648768866.0000 - _runtime: 922.0000\n",
            "Epoch 4/8\n",
            "281/281 [==============================] - 269s 958ms/step - loss: 2.3237 - accuracy: 0.1242 - val_loss: 2.3005 - val_accuracy: 0.1411 - _timestamp: 1648769135.0000 - _runtime: 1191.0000\n",
            "Epoch 5/8\n",
            "281/281 [==============================] - 271s 964ms/step - loss: 2.3116 - accuracy: 0.1303 - val_loss: 2.2954 - val_accuracy: 0.1250 - _timestamp: 1648769459.0000 - _runtime: 1515.0000\n",
            "Epoch 6/8\n",
            "281/281 [==============================] - 266s 947ms/step - loss: 2.3004 - accuracy: 0.1359 - val_loss: 2.2852 - val_accuracy: 0.1381 - _timestamp: 1648769776.0000 - _runtime: 1832.0000\n",
            "Epoch 7/8\n",
            "281/281 [==============================] - 270s 961ms/step - loss: 2.2946 - accuracy: 0.1372 - val_loss: 2.2710 - val_accuracy: 0.1623 - _timestamp: 1648770046.0000 - _runtime: 2102.0000\n",
            "Epoch 8/8\n",
            "281/281 [==============================] - 278s 990ms/step - loss: 2.2838 - accuracy: 0.1483 - val_loss: 2.2670 - val_accuracy: 0.1623 - _timestamp: 1648770324.0000 - _runtime: 2380.0000\n",
            "\n"
          ]
        },
        {
          "output_type": "display_data",
          "data": {
            "text/plain": [
              "<IPython.core.display.HTML object>"
            ],
            "text/html": [
              "Waiting for W&B process to finish... <strong style=\"color:green\">(success).</strong>"
            ]
          },
          "metadata": {}
        },
        {
          "output_type": "display_data",
          "data": {
            "text/plain": [
              "VBox(children=(Label(value='0.988 MB of 0.988 MB uploaded (0.000 MB deduped)\\r'), FloatProgress(value=1.0, max…"
            ],
            "application/vnd.jupyter.widget-view+json": {
              "version_major": 2,
              "version_minor": 0,
              "model_id": "870d6d98e1cc44beb4848913b163fde3"
            }
          },
          "metadata": {}
        },
        {
          "output_type": "display_data",
          "data": {
            "text/plain": [
              "<IPython.core.display.HTML object>"
            ],
            "text/html": [
              "<style>\n",
              "    table.wandb td:nth-child(1) { padding: 0 10px; text-align: right }\n",
              "    .wandb-row { display: flex; flex-direction: row; flex-wrap: wrap; width: 100% }\n",
              "    .wandb-col { display: flex; flex-direction: column; flex-basis: 100%; flex: 1; padding: 10px; }\n",
              "    </style>\n",
              "<div class=\"wandb-row\"><div class=\"wandb-col\"><h3>Run history:</h3><br/><table class=\"wandb\"><tr><td>accuracy</td><td>▁▂▃▄▅▆▆█</td></tr><tr><td>epoch</td><td>▁▂▃▄▅▆▇█</td></tr><tr><td>loss</td><td>█▅▅▄▃▂▂▁</td></tr><tr><td>val_accuracy</td><td>▁▃▄▆▄▅██</td></tr><tr><td>val_loss</td><td>██▆▆▅▄▂▁</td></tr></table><br/></div><div class=\"wandb-col\"><h3>Run summary:</h3><br/><table class=\"wandb\"><tr><td>accuracy</td><td>0.14834</td></tr><tr><td>best_epoch</td><td>6</td></tr><tr><td>best_val_accuracy</td><td>0.1623</td></tr><tr><td>epoch</td><td>7</td></tr><tr><td>loss</td><td>2.28377</td></tr><tr><td>val_accuracy</td><td>0.1623</td></tr><tr><td>val_loss</td><td>2.26704</td></tr></table><br/></div></div>"
            ]
          },
          "metadata": {}
        },
        {
          "output_type": "display_data",
          "data": {
            "text/plain": [
              "<IPython.core.display.HTML object>"
            ],
            "text/html": [
              "Synced <strong style=\"color:#cdcd00\">CS6910-A2-P_A</strong>: <a href=\"https://wandb.ai/pandp/cs6910-As-2/runs/mffuzbbs\" target=\"_blank\">https://wandb.ai/pandp/cs6910-As-2/runs/mffuzbbs</a><br/>Synced 5 W&B file(s), 1 media file(s), 0 artifact file(s) and 1 other file(s)"
            ]
          },
          "metadata": {}
        },
        {
          "output_type": "display_data",
          "data": {
            "text/plain": [
              "<IPython.core.display.HTML object>"
            ],
            "text/html": [
              "Find logs at: <code>./wandb/run-20220331_230544-mffuzbbs/logs</code>"
            ]
          },
          "metadata": {}
        },
        {
          "output_type": "stream",
          "name": "stderr",
          "text": [
            "\u001b[34m\u001b[1mwandb\u001b[0m: Agent Starting Run: skeejhjq with config:\n",
            "\u001b[34m\u001b[1mwandb\u001b[0m: \tbatch_norm: True\n",
            "\u001b[34m\u001b[1mwandb\u001b[0m: \tdense_neuron: 1024\n",
            "\u001b[34m\u001b[1mwandb\u001b[0m: \tdropout: 0.15\n",
            "\u001b[34m\u001b[1mwandb\u001b[0m: \tepochs: 8\n",
            "\u001b[34m\u001b[1mwandb\u001b[0m: \tfilter_size: [[2, 2], [2, 2], [2, 2], [2, 2], [2, 2]]\n",
            "\u001b[34m\u001b[1mwandb\u001b[0m: \tfilters: [32, 64, 128, 256, 256]\n",
            "\u001b[34m\u001b[1mwandb\u001b[0m: \tlr: 1e-05\n"
          ]
        },
        {
          "output_type": "display_data",
          "data": {
            "text/plain": [
              "<IPython.core.display.HTML object>"
            ],
            "text/html": [
              "Tracking run with wandb version 0.12.11"
            ]
          },
          "metadata": {}
        },
        {
          "output_type": "display_data",
          "data": {
            "text/plain": [
              "<IPython.core.display.HTML object>"
            ],
            "text/html": [
              "Run data is saved locally in <code>/content/wandb/run-20220331_234535-skeejhjq</code>"
            ]
          },
          "metadata": {}
        },
        {
          "output_type": "display_data",
          "data": {
            "text/plain": [
              "<IPython.core.display.HTML object>"
            ],
            "text/html": [
              "Syncing run <strong><a href=\"https://wandb.ai/pandp/cs6910-As-2/runs/skeejhjq\" target=\"_blank\">CS6910-A2-P_A</a></strong> to <a href=\"https://wandb.ai/pandp/cs6910-As-2\" target=\"_blank\">Weights & Biases</a> (<a href=\"https://wandb.me/run\" target=\"_blank\">docs</a>)<br/>Sweep page:  <a href=\"https://wandb.ai/pandp/cs6910-As-2/sweeps/et1l06k6\" target=\"_blank\">https://wandb.ai/pandp/cs6910-As-2/sweeps/et1l06k6</a>"
            ]
          },
          "metadata": {}
        },
        {
          "output_type": "stream",
          "name": "stdout",
          "text": [
            "Epoch 1/8\n",
            "281/281 [==============================] - 275s 976ms/step - loss: 2.3151 - accuracy: 0.2081 - val_loss: 2.4917 - val_accuracy: 0.1190 - _timestamp: 1648770617.0000 - _runtime: 282.0000\n",
            "Epoch 2/8\n",
            "281/281 [==============================] - 277s 986ms/step - loss: 2.0747 - accuracy: 0.2646 - val_loss: 2.0332 - val_accuracy: 0.2762 - _timestamp: 1648770942.0000 - _runtime: 607.0000\n",
            "Epoch 3/8\n",
            "255/281 [==========================>...] - ETA: 22s - loss: 2.0054 - accuracy: 0.2898"
          ]
        }
      ]
    },
    {
      "cell_type": "code",
      "source": [
        "wandb.agent(sweep_id,train,entity=\"pandp\",project = 'cs6910-As-2', count=40)"
      ],
      "metadata": {
        "id": "DAS9T9VS3KNj",
        "colab": {
          "base_uri": "https://localhost:8080/",
          "height": 1000,
          "referenced_widgets": [
            "735df0081f9140729377e7d1e849d4ef",
            "20b5f1cf8401440fb87238e99db07c5c",
            "4b4b6738d43b4ae4b3704a1c95d52a60",
            "e28daa58160b41fcb09860d666deffba",
            "4c2951056558461ba59ae98ac6f9a755",
            "4178c18a84724aca958099ae4f3c91d1",
            "3bbf661456294ed5a8bde23df41d2032",
            "89fe3fcddf3d4f41aa5118d443fd6d22",
            "9f00fac300d44cb5a4cc1d7a9e73116c",
            "46ebdc16b7374726b0cc3c89b16c22c8",
            "d423dcfd78394b069916ed58aecfe93a",
            "f3059ddd66c04bd09f5887bb8ce671d2",
            "5bc83cf575ff4c71a2b9a4fd264ea1a0",
            "f9dee79c0bfc4bfb8613a88c96191552",
            "bd1889f69619449dba9642b579d68b9d",
            "1bbf80de1d5d45f7b3142cc449ebb208",
            "1fd4ab5adcb947bcb4d854e85801488d",
            "b95ead13e04244b0b852eda9ebc879b0",
            "163a903557d243278caaaf87d21d2dea",
            "dbd0825b511f42d8807c74c795bc086e",
            "767091be13fe440e9adf8912d07c77c8",
            "700e5522bc474a5c954f7439bee3a3c9",
            "856816a345454e4f9262dd017b3bfa56",
            "7bbd70980e7a42cf92d72e1e2d173653"
          ]
        },
        "outputId": "948cd1f9-726c-48e2-c593-688f9507ff8f"
      },
      "execution_count": null,
      "outputs": [
        {
          "output_type": "stream",
          "name": "stderr",
          "text": [
            "\u001b[34m\u001b[1mwandb\u001b[0m: Agent Starting Run: 37dfo6sg with config:\n",
            "\u001b[34m\u001b[1mwandb\u001b[0m: \tbatch_norm: False\n",
            "\u001b[34m\u001b[1mwandb\u001b[0m: \tdense_neuron: 512\n",
            "\u001b[34m\u001b[1mwandb\u001b[0m: \tdropout: 0.15\n",
            "\u001b[34m\u001b[1mwandb\u001b[0m: \tepochs: 8\n",
            "\u001b[34m\u001b[1mwandb\u001b[0m: \tfilter_size: [[5, 5], [5, 5], [5, 5], [5, 5], [5, 5]]\n",
            "\u001b[34m\u001b[1mwandb\u001b[0m: \tfilters: [32, 32, 32, 32, 32]\n",
            "\u001b[34m\u001b[1mwandb\u001b[0m: \tlr: 1e-05\n",
            "\u001b[34m\u001b[1mwandb\u001b[0m: Currently logged in as: \u001b[33mpranab045\u001b[0m (use `wandb login --relogin` to force relogin)\n"
          ]
        },
        {
          "output_type": "display_data",
          "data": {
            "text/plain": [
              "<IPython.core.display.HTML object>"
            ],
            "text/html": [
              "Tracking run with wandb version 0.12.11"
            ]
          },
          "metadata": {}
        },
        {
          "output_type": "display_data",
          "data": {
            "text/plain": [
              "<IPython.core.display.HTML object>"
            ],
            "text/html": [
              "Run data is saved locally in <code>/content/wandb/run-20220402_065712-37dfo6sg</code>"
            ]
          },
          "metadata": {}
        },
        {
          "output_type": "display_data",
          "data": {
            "text/plain": [
              "<IPython.core.display.HTML object>"
            ],
            "text/html": [
              "Syncing run <strong><a href=\"https://wandb.ai/pandp/cs6910-As-2/runs/37dfo6sg\" target=\"_blank\">CS6910-A2-P_A</a></strong> to <a href=\"https://wandb.ai/pandp/cs6910-As-2\" target=\"_blank\">Weights & Biases</a> (<a href=\"https://wandb.me/run\" target=\"_blank\">docs</a>)<br/>Sweep page:  <a href=\"https://wandb.ai/pandp/cs6910-As-2/sweeps/et1l06k6\" target=\"_blank\">https://wandb.ai/pandp/cs6910-As-2/sweeps/et1l06k6</a>"
            ]
          },
          "metadata": {}
        },
        {
          "output_type": "stream",
          "name": "stderr",
          "text": [
            "\u001b[34m\u001b[1mwandb\u001b[0m: \u001b[33mWARNING\u001b[0m Calling wandb.run.save without any arguments is deprecated.Changes to attributes are automatically persisted.\n"
          ]
        },
        {
          "output_type": "stream",
          "name": "stdout",
          "text": [
            "Epoch 1/8\n",
            "281/281 [==============================] - 2269s 8s/step - loss: 2.2997 - accuracy: 0.1254 - val_loss: 2.2926 - val_accuracy: 0.1452 - _timestamp: 1648884921.0000 - _runtime: 2289.0000\n",
            "Epoch 2/8\n",
            "281/281 [==============================] - 296s 1s/step - loss: 2.2732 - accuracy: 0.1618 - val_loss: 2.2478 - val_accuracy: 0.1855 - _timestamp: 1648885251.0000 - _runtime: 2619.0000\n",
            "Epoch 3/8\n",
            "281/281 [==============================] - 290s 1s/step - loss: 2.2274 - accuracy: 0.1822 - val_loss: 2.2087 - val_accuracy: 0.2137 - _timestamp: 1648885566.0000 - _runtime: 2934.0000\n",
            "Epoch 4/8\n",
            "281/281 [==============================] - 290s 1s/step - loss: 2.1908 - accuracy: 0.2040 - val_loss: 2.1635 - val_accuracy: 0.2268 - _timestamp: 1648885888.0000 - _runtime: 3256.0000\n",
            "Epoch 5/8\n",
            "281/281 [==============================] - 290s 1s/step - loss: 2.1525 - accuracy: 0.2278 - val_loss: 2.1318 - val_accuracy: 0.2319 - _timestamp: 1648886178.0000 - _runtime: 3546.0000\n",
            "Epoch 6/8\n",
            "281/281 [==============================] - 289s 1s/step - loss: 2.1281 - accuracy: 0.2355 - val_loss: 2.0979 - val_accuracy: 0.2540 - _timestamp: 1648886498.0000 - _runtime: 3866.0000\n",
            "Epoch 7/8\n",
            "281/281 [==============================] - 290s 1s/step - loss: 2.0961 - accuracy: 0.2513 - val_loss: 2.0854 - val_accuracy: 0.2399 - _timestamp: 1648886788.0000 - _runtime: 4156.0000\n",
            "Epoch 8/8\n",
            "281/281 [==============================] - 289s 1s/step - loss: 2.0735 - accuracy: 0.2635 - val_loss: 2.0468 - val_accuracy: 0.2722 - _timestamp: 1648887077.0000 - _runtime: 4445.0000\n",
            "\n"
          ]
        },
        {
          "output_type": "display_data",
          "data": {
            "text/plain": [
              "<IPython.core.display.HTML object>"
            ],
            "text/html": [
              "Waiting for W&B process to finish... <strong style=\"color:green\">(success).</strong>"
            ]
          },
          "metadata": {}
        },
        {
          "output_type": "display_data",
          "data": {
            "text/plain": [
              "VBox(children=(Label(value='10.535 MB of 10.535 MB uploaded (0.000 MB deduped)\\r'), FloatProgress(value=1.0, m…"
            ],
            "application/vnd.jupyter.widget-view+json": {
              "version_major": 2,
              "version_minor": 0,
              "model_id": "735df0081f9140729377e7d1e849d4ef"
            }
          },
          "metadata": {}
        },
        {
          "output_type": "display_data",
          "data": {
            "text/plain": [
              "<IPython.core.display.HTML object>"
            ],
            "text/html": [
              "<style>\n",
              "    table.wandb td:nth-child(1) { padding: 0 10px; text-align: right }\n",
              "    .wandb-row { display: flex; flex-direction: row; flex-wrap: wrap; width: 100% }\n",
              "    .wandb-col { display: flex; flex-direction: column; flex-basis: 100%; flex: 1; padding: 10px; }\n",
              "    </style>\n",
              "<div class=\"wandb-row\"><div class=\"wandb-col\"><h3>Run history:</h3><br/><table class=\"wandb\"><tr><td>accuracy</td><td>▁▃▄▅▆▇▇█</td></tr><tr><td>epoch</td><td>▁▂▃▄▅▆▇█</td></tr><tr><td>loss</td><td>█▇▆▅▃▃▂▁</td></tr><tr><td>val_accuracy</td><td>▁▃▅▆▆▇▆█</td></tr><tr><td>val_loss</td><td>█▇▆▄▃▂▂▁</td></tr></table><br/></div><div class=\"wandb-col\"><h3>Run summary:</h3><br/><table class=\"wandb\"><tr><td>accuracy</td><td>0.26352</td></tr><tr><td>best_epoch</td><td>7</td></tr><tr><td>best_val_accuracy</td><td>0.27218</td></tr><tr><td>epoch</td><td>7</td></tr><tr><td>loss</td><td>2.07345</td></tr><tr><td>val_accuracy</td><td>0.27218</td></tr><tr><td>val_loss</td><td>2.0468</td></tr></table><br/></div></div>"
            ]
          },
          "metadata": {}
        },
        {
          "output_type": "display_data",
          "data": {
            "text/plain": [
              "<IPython.core.display.HTML object>"
            ],
            "text/html": [
              "Synced <strong style=\"color:#cdcd00\">CS6910-A2-P_A</strong>: <a href=\"https://wandb.ai/pandp/cs6910-As-2/runs/37dfo6sg\" target=\"_blank\">https://wandb.ai/pandp/cs6910-As-2/runs/37dfo6sg</a><br/>Synced 5 W&B file(s), 1 media file(s), 0 artifact file(s) and 1 other file(s)"
            ]
          },
          "metadata": {}
        },
        {
          "output_type": "display_data",
          "data": {
            "text/plain": [
              "<IPython.core.display.HTML object>"
            ],
            "text/html": [
              "Find logs at: <code>./wandb/run-20220402_065712-37dfo6sg/logs</code>"
            ]
          },
          "metadata": {}
        },
        {
          "output_type": "stream",
          "name": "stderr",
          "text": [
            "\u001b[34m\u001b[1mwandb\u001b[0m: Agent Starting Run: 0ipip6s9 with config:\n",
            "\u001b[34m\u001b[1mwandb\u001b[0m: \tbatch_norm: False\n",
            "\u001b[34m\u001b[1mwandb\u001b[0m: \tdense_neuron: 512\n",
            "\u001b[34m\u001b[1mwandb\u001b[0m: \tdropout: 0.2\n",
            "\u001b[34m\u001b[1mwandb\u001b[0m: \tepochs: 8\n",
            "\u001b[34m\u001b[1mwandb\u001b[0m: \tfilter_size: [[7, 7], [7, 7], [7, 7], [7, 7], [7, 7]]\n",
            "\u001b[34m\u001b[1mwandb\u001b[0m: \tfilters: [64, 32, 16, 8, 4]\n",
            "\u001b[34m\u001b[1mwandb\u001b[0m: \tlr: 1e-05\n"
          ]
        },
        {
          "output_type": "display_data",
          "data": {
            "text/plain": [
              "<IPython.core.display.HTML object>"
            ],
            "text/html": [
              "Tracking run with wandb version 0.12.11"
            ]
          },
          "metadata": {}
        },
        {
          "output_type": "display_data",
          "data": {
            "text/plain": [
              "<IPython.core.display.HTML object>"
            ],
            "text/html": [
              "Run data is saved locally in <code>/content/wandb/run-20220402_081125-0ipip6s9</code>"
            ]
          },
          "metadata": {}
        },
        {
          "output_type": "display_data",
          "data": {
            "text/plain": [
              "<IPython.core.display.HTML object>"
            ],
            "text/html": [
              "Syncing run <strong><a href=\"https://wandb.ai/pandp/cs6910-As-2/runs/0ipip6s9\" target=\"_blank\">CS6910-A2-P_A</a></strong> to <a href=\"https://wandb.ai/pandp/cs6910-As-2\" target=\"_blank\">Weights & Biases</a> (<a href=\"https://wandb.me/run\" target=\"_blank\">docs</a>)<br/>Sweep page:  <a href=\"https://wandb.ai/pandp/cs6910-As-2/sweeps/et1l06k6\" target=\"_blank\">https://wandb.ai/pandp/cs6910-As-2/sweeps/et1l06k6</a>"
            ]
          },
          "metadata": {}
        },
        {
          "output_type": "stream",
          "name": "stdout",
          "text": [
            "Epoch 1/8\n",
            "281/281 [==============================] - 301s 1s/step - loss: 2.2993 - accuracy: 0.1142 - val_loss: 2.2932 - val_accuracy: 0.1058 - _timestamp: 1648887396.0000 - _runtime: 310.0000\n",
            "Epoch 2/8\n",
            "281/281 [==============================] - 306s 1s/step - loss: 2.2741 - accuracy: 0.1233 - val_loss: 2.2554 - val_accuracy: 0.1331 - _timestamp: 1648887724.0000 - _runtime: 638.0000\n",
            "Epoch 3/8\n",
            "281/281 [==============================] - 297s 1s/step - loss: 2.2477 - accuracy: 0.1509 - val_loss: 2.2409 - val_accuracy: 0.1502 - _timestamp: 1648888021.0000 - _runtime: 935.0000\n",
            "Epoch 4/8\n",
            "281/281 [==============================] - 294s 1s/step - loss: 2.2375 - accuracy: 0.1649 - val_loss: 2.2295 - val_accuracy: 0.1673 - _timestamp: 1648888315.0000 - _runtime: 1229.0000\n",
            "Epoch 5/8\n",
            "281/281 [==============================] - 295s 1s/step - loss: 2.2215 - accuracy: 0.1727 - val_loss: 2.2112 - val_accuracy: 0.1694 - _timestamp: 1648888610.0000 - _runtime: 1524.0000\n",
            "Epoch 6/8\n",
            "281/281 [==============================] - 295s 1s/step - loss: 2.2102 - accuracy: 0.1821 - val_loss: 2.2034 - val_accuracy: 0.1694 - _timestamp: 1648888905.0000 - _runtime: 1819.0000\n",
            "Epoch 7/8\n",
            "281/281 [==============================] - 295s 1s/step - loss: 2.2000 - accuracy: 0.1748 - val_loss: 2.2032 - val_accuracy: 0.1774 - _timestamp: 1648889226.0000 - _runtime: 2140.0000\n",
            "Epoch 8/8\n",
            "281/281 [==============================] - 297s 1s/step - loss: 2.1888 - accuracy: 0.1818 - val_loss: 2.1905 - val_accuracy: 0.1835 - _timestamp: 1648889523.0000 - _runtime: 2437.0000\n",
            "\n"
          ]
        },
        {
          "output_type": "display_data",
          "data": {
            "text/plain": [
              "<IPython.core.display.HTML object>"
            ],
            "text/html": [
              "Waiting for W&B process to finish... <strong style=\"color:green\">(success).</strong>"
            ]
          },
          "metadata": {}
        },
        {
          "output_type": "display_data",
          "data": {
            "text/plain": [
              "VBox(children=(Label(value='2.930 MB of 2.930 MB uploaded (0.000 MB deduped)\\r'), FloatProgress(value=1.0, max…"
            ],
            "application/vnd.jupyter.widget-view+json": {
              "version_major": 2,
              "version_minor": 0,
              "model_id": "9f00fac300d44cb5a4cc1d7a9e73116c"
            }
          },
          "metadata": {}
        },
        {
          "output_type": "display_data",
          "data": {
            "text/plain": [
              "<IPython.core.display.HTML object>"
            ],
            "text/html": [
              "<style>\n",
              "    table.wandb td:nth-child(1) { padding: 0 10px; text-align: right }\n",
              "    .wandb-row { display: flex; flex-direction: row; flex-wrap: wrap; width: 100% }\n",
              "    .wandb-col { display: flex; flex-direction: column; flex-basis: 100%; flex: 1; padding: 10px; }\n",
              "    </style>\n",
              "<div class=\"wandb-row\"><div class=\"wandb-col\"><h3>Run history:</h3><br/><table class=\"wandb\"><tr><td>accuracy</td><td>▁▂▅▆▇█▇█</td></tr><tr><td>epoch</td><td>▁▂▃▄▅▆▇█</td></tr><tr><td>loss</td><td>█▆▅▄▃▂▂▁</td></tr><tr><td>val_accuracy</td><td>▁▃▅▇▇▇▇█</td></tr><tr><td>val_loss</td><td>█▅▄▄▂▂▂▁</td></tr></table><br/></div><div class=\"wandb-col\"><h3>Run summary:</h3><br/><table class=\"wandb\"><tr><td>accuracy</td><td>0.18184</td></tr><tr><td>best_epoch</td><td>7</td></tr><tr><td>best_val_accuracy</td><td>0.18347</td></tr><tr><td>epoch</td><td>7</td></tr><tr><td>loss</td><td>2.18881</td></tr><tr><td>val_accuracy</td><td>0.18347</td></tr><tr><td>val_loss</td><td>2.19051</td></tr></table><br/></div></div>"
            ]
          },
          "metadata": {}
        },
        {
          "output_type": "display_data",
          "data": {
            "text/plain": [
              "<IPython.core.display.HTML object>"
            ],
            "text/html": [
              "Synced <strong style=\"color:#cdcd00\">CS6910-A2-P_A</strong>: <a href=\"https://wandb.ai/pandp/cs6910-As-2/runs/0ipip6s9\" target=\"_blank\">https://wandb.ai/pandp/cs6910-As-2/runs/0ipip6s9</a><br/>Synced 5 W&B file(s), 1 media file(s), 0 artifact file(s) and 1 other file(s)"
            ]
          },
          "metadata": {}
        },
        {
          "output_type": "display_data",
          "data": {
            "text/plain": [
              "<IPython.core.display.HTML object>"
            ],
            "text/html": [
              "Find logs at: <code>./wandb/run-20220402_081125-0ipip6s9/logs</code>"
            ]
          },
          "metadata": {}
        },
        {
          "output_type": "stream",
          "name": "stderr",
          "text": [
            "\u001b[34m\u001b[1mwandb\u001b[0m: Agent Starting Run: zuqi9s01 with config:\n",
            "\u001b[34m\u001b[1mwandb\u001b[0m: \tbatch_norm: False\n",
            "\u001b[34m\u001b[1mwandb\u001b[0m: \tdense_neuron: 256\n",
            "\u001b[34m\u001b[1mwandb\u001b[0m: \tdropout: 0.15\n",
            "\u001b[34m\u001b[1mwandb\u001b[0m: \tepochs: 8\n",
            "\u001b[34m\u001b[1mwandb\u001b[0m: \tfilter_size: [[3, 3], [3, 3], [3, 3], [3, 3], [3, 3]]\n",
            "\u001b[34m\u001b[1mwandb\u001b[0m: \tfilters: [64, 64, 64, 64, 64]\n",
            "\u001b[34m\u001b[1mwandb\u001b[0m: \tlr: 1e-05\n"
          ]
        },
        {
          "output_type": "display_data",
          "data": {
            "text/plain": [
              "<IPython.core.display.HTML object>"
            ],
            "text/html": [
              "Tracking run with wandb version 0.12.11"
            ]
          },
          "metadata": {}
        },
        {
          "output_type": "display_data",
          "data": {
            "text/plain": [
              "<IPython.core.display.HTML object>"
            ],
            "text/html": [
              "Run data is saved locally in <code>/content/wandb/run-20220402_085241-zuqi9s01</code>"
            ]
          },
          "metadata": {}
        },
        {
          "output_type": "display_data",
          "data": {
            "text/plain": [
              "<IPython.core.display.HTML object>"
            ],
            "text/html": [
              "Syncing run <strong><a href=\"https://wandb.ai/pandp/cs6910-As-2/runs/zuqi9s01\" target=\"_blank\">CS6910-A2-P_A</a></strong> to <a href=\"https://wandb.ai/pandp/cs6910-As-2\" target=\"_blank\">Weights & Biases</a> (<a href=\"https://wandb.me/run\" target=\"_blank\">docs</a>)<br/>Sweep page:  <a href=\"https://wandb.ai/pandp/cs6910-As-2/sweeps/et1l06k6\" target=\"_blank\">https://wandb.ai/pandp/cs6910-As-2/sweeps/et1l06k6</a>"
            ]
          },
          "metadata": {}
        },
        {
          "output_type": "stream",
          "name": "stdout",
          "text": [
            "Epoch 1/8\n",
            "281/281 [==============================] - 295s 1s/step - loss: 2.2997 - accuracy: 0.1212 - val_loss: 2.2924 - val_accuracy: 0.1633 - _timestamp: 1648889865.0000 - _runtime: 304.0000\n",
            "Epoch 2/8\n",
            "281/281 [==============================] - 294s 1s/step - loss: 2.2810 - accuracy: 0.1637 - val_loss: 2.2597 - val_accuracy: 0.1845 - _timestamp: 1648890187.0000 - _runtime: 626.0000\n",
            "Epoch 3/8\n",
            "281/281 [==============================] - 294s 1s/step - loss: 2.2364 - accuracy: 0.1838 - val_loss: 2.2090 - val_accuracy: 0.1935 - _timestamp: 1648890481.0000 - _runtime: 920.0000\n",
            "Epoch 4/8\n",
            "281/281 [==============================] - 293s 1s/step - loss: 2.1955 - accuracy: 0.2023 - val_loss: 2.1694 - val_accuracy: 0.2268 - _timestamp: 1648890802.0000 - _runtime: 1241.0000\n",
            "Epoch 5/8\n",
            "281/281 [==============================] - 294s 1s/step - loss: 2.1685 - accuracy: 0.2181 - val_loss: 2.1514 - val_accuracy: 0.2137 - _timestamp: 1648891125.0000 - _runtime: 1564.0000\n",
            "Epoch 6/8\n",
            "281/281 [==============================] - 294s 1s/step - loss: 2.1497 - accuracy: 0.2278 - val_loss: 2.1310 - val_accuracy: 0.2298 - _timestamp: 1648891446.0000 - _runtime: 1885.0000\n",
            "Epoch 7/8\n",
            "281/281 [==============================] - 276s 981ms/step - loss: 2.1330 - accuracy: 0.2377 - val_loss: 2.1222 - val_accuracy: 0.2319 - _timestamp: 1648891750.0000 - _runtime: 2189.0000\n",
            "Epoch 8/8\n",
            "281/281 [==============================] - 292s 1s/step - loss: 2.1156 - accuracy: 0.2475 - val_loss: 2.1096 - val_accuracy: 0.2520 - _timestamp: 1648892089.0000 - _runtime: 2528.0000\n",
            "\n"
          ]
        },
        {
          "output_type": "display_data",
          "data": {
            "text/plain": [
              "<IPython.core.display.HTML object>"
            ],
            "text/html": [
              "Waiting for W&B process to finish... <strong style=\"color:green\">(success).</strong>"
            ]
          },
          "metadata": {}
        },
        {
          "output_type": "display_data",
          "data": {
            "text/plain": [
              "VBox(children=(Label(value='11.013 MB of 11.013 MB uploaded (0.000 MB deduped)\\r'), FloatProgress(value=1.0, m…"
            ],
            "application/vnd.jupyter.widget-view+json": {
              "version_major": 2,
              "version_minor": 0,
              "model_id": "1fd4ab5adcb947bcb4d854e85801488d"
            }
          },
          "metadata": {}
        },
        {
          "output_type": "display_data",
          "data": {
            "text/plain": [
              "<IPython.core.display.HTML object>"
            ],
            "text/html": [
              "<style>\n",
              "    table.wandb td:nth-child(1) { padding: 0 10px; text-align: right }\n",
              "    .wandb-row { display: flex; flex-direction: row; flex-wrap: wrap; width: 100% }\n",
              "    .wandb-col { display: flex; flex-direction: column; flex-basis: 100%; flex: 1; padding: 10px; }\n",
              "    </style>\n",
              "<div class=\"wandb-row\"><div class=\"wandb-col\"><h3>Run history:</h3><br/><table class=\"wandb\"><tr><td>accuracy</td><td>▁▃▄▅▆▇▇█</td></tr><tr><td>epoch</td><td>▁▂▃▄▅▆▇█</td></tr><tr><td>loss</td><td>█▇▆▄▃▂▂▁</td></tr><tr><td>val_accuracy</td><td>▁▃▃▆▅▆▆█</td></tr><tr><td>val_loss</td><td>█▇▅▃▃▂▁▁</td></tr></table><br/></div><div class=\"wandb-col\"><h3>Run summary:</h3><br/><table class=\"wandb\"><tr><td>accuracy</td><td>0.2475</td></tr><tr><td>best_epoch</td><td>7</td></tr><tr><td>best_val_accuracy</td><td>0.25202</td></tr><tr><td>epoch</td><td>7</td></tr><tr><td>loss</td><td>2.11559</td></tr><tr><td>val_accuracy</td><td>0.25202</td></tr><tr><td>val_loss</td><td>2.10959</td></tr></table><br/></div></div>"
            ]
          },
          "metadata": {}
        },
        {
          "output_type": "display_data",
          "data": {
            "text/plain": [
              "<IPython.core.display.HTML object>"
            ],
            "text/html": [
              "Synced <strong style=\"color:#cdcd00\">CS6910-A2-P_A</strong>: <a href=\"https://wandb.ai/pandp/cs6910-As-2/runs/zuqi9s01\" target=\"_blank\">https://wandb.ai/pandp/cs6910-As-2/runs/zuqi9s01</a><br/>Synced 5 W&B file(s), 1 media file(s), 0 artifact file(s) and 1 other file(s)"
            ]
          },
          "metadata": {}
        },
        {
          "output_type": "display_data",
          "data": {
            "text/plain": [
              "<IPython.core.display.HTML object>"
            ],
            "text/html": [
              "Find logs at: <code>./wandb/run-20220402_085241-zuqi9s01/logs</code>"
            ]
          },
          "metadata": {}
        },
        {
          "output_type": "stream",
          "name": "stderr",
          "text": [
            "\u001b[34m\u001b[1mwandb\u001b[0m: Agent Starting Run: i042uv05 with config:\n",
            "\u001b[34m\u001b[1mwandb\u001b[0m: \tbatch_norm: False\n",
            "\u001b[34m\u001b[1mwandb\u001b[0m: \tdense_neuron: 512\n",
            "\u001b[34m\u001b[1mwandb\u001b[0m: \tdropout: 0.15\n",
            "\u001b[34m\u001b[1mwandb\u001b[0m: \tepochs: 8\n",
            "\u001b[34m\u001b[1mwandb\u001b[0m: \tfilter_size: [[5, 5], [5, 5], [5, 5], [5, 5], [5, 5]]\n",
            "\u001b[34m\u001b[1mwandb\u001b[0m: \tfilters: [32, 32, 32, 32, 32]\n",
            "\u001b[34m\u001b[1mwandb\u001b[0m: \tlr: 0.0001\n"
          ]
        },
        {
          "output_type": "display_data",
          "data": {
            "text/plain": [
              "<IPython.core.display.HTML object>"
            ],
            "text/html": [
              "Tracking run with wandb version 0.12.11"
            ]
          },
          "metadata": {}
        },
        {
          "output_type": "display_data",
          "data": {
            "text/plain": [
              "<IPython.core.display.HTML object>"
            ],
            "text/html": [
              "Run data is saved locally in <code>/content/wandb/run-20220402_093530-i042uv05</code>"
            ]
          },
          "metadata": {}
        },
        {
          "output_type": "display_data",
          "data": {
            "text/plain": [
              "<IPython.core.display.HTML object>"
            ],
            "text/html": [
              "Syncing run <strong><a href=\"https://wandb.ai/pandp/cs6910-As-2/runs/i042uv05\" target=\"_blank\">CS6910-A2-P_A</a></strong> to <a href=\"https://wandb.ai/pandp/cs6910-As-2\" target=\"_blank\">Weights & Biases</a> (<a href=\"https://wandb.me/run\" target=\"_blank\">docs</a>)<br/>Sweep page:  <a href=\"https://wandb.ai/pandp/cs6910-As-2/sweeps/et1l06k6\" target=\"_blank\">https://wandb.ai/pandp/cs6910-As-2/sweeps/et1l06k6</a>"
            ]
          },
          "metadata": {}
        },
        {
          "output_type": "stream",
          "name": "stdout",
          "text": [
            "Epoch 1/8\n",
            "281/281 [==============================] - 290s 1s/step - loss: 2.2271 - accuracy: 0.1664 - val_loss: 2.1489 - val_accuracy: 0.2198 - _timestamp: 1648892428.0000 - _runtime: 298.0000\n",
            "Epoch 2/8\n",
            "281/281 [==============================] - 288s 1s/step - loss: 2.1018 - accuracy: 0.2354 - val_loss: 2.0846 - val_accuracy: 0.2379 - _timestamp: 1648892716.0000 - _runtime: 586.0000\n",
            "Epoch 3/8\n",
            "281/281 [==============================] - 288s 1s/step - loss: 2.0497 - accuracy: 0.2632 - val_loss: 2.0238 - val_accuracy: 0.2742 - _timestamp: 1648893004.0000 - _runtime: 874.0000\n",
            "Epoch 4/8\n",
            "281/281 [==============================] - 287s 1s/step - loss: 1.9955 - accuracy: 0.2930 - val_loss: 1.9881 - val_accuracy: 0.2903 - _timestamp: 1648893325.0000 - _runtime: 1195.0000\n"
          ]
        }
      ]
    }
  ]
}