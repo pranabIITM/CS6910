{
  "nbformat": 4,
  "nbformat_minor": 0,
  "metadata": {
    "colab": {
      "name": "PartA.ipynb",
      "provenance": []
    },
    "kernelspec": {
      "name": "python3",
      "display_name": "Python 3"
    },
    "language_info": {
      "name": "python"
    },
    "accelerator": "GPU"
  },
  "cells": [
    {
      "cell_type": "markdown",
      "source": [
        "Importing libraries"
      ],
      "metadata": {
        "id": "A8-ZlBB_M-g2"
      }
    },
    {
      "cell_type": "code",
      "execution_count": 1,
      "metadata": {
        "id": "9A0Uq78XWvlJ"
      },
      "outputs": [],
      "source": [
        "import numpy as np\n",
        "import matplotlib.pyplot as plt\n",
        "import tensorflow as tf\n",
        "import keras\n",
        "from keras.models import Sequential\n",
        "from keras.layers import Conv2D,Dense,Activation,MaxPooling2D,Flatten,BatchNormalization,Dropout,InputLayer\n",
        "from tensorflow.keras.preprocessing.image import ImageDataGenerator"
      ]
    },
    {
      "cell_type": "code",
      "source": [
        "from google.colab import drive\n",
        "drive.mount('/content/drive')"
      ],
      "metadata": {
        "colab": {
          "base_uri": "https://localhost:8080/"
        },
        "id": "vCvvbzG8Xy34",
        "outputId": "3b088383-9910-462d-a116-2a5127a24811"
      },
      "execution_count": 2,
      "outputs": [
        {
          "output_type": "stream",
          "name": "stdout",
          "text": [
            "Mounted at /content/drive\n"
          ]
        }
      ]
    },
    {
      "cell_type": "code",
      "source": [
        "physical_devices = tf.config.list_physical_devices('GPU')\n",
        "tf.config.experimental.set_memory_growth(physical_devices[0], enable=True)"
      ],
      "metadata": {
        "id": "v028YTE-Y6E4"
      },
      "execution_count": 3,
      "outputs": []
    },
    {
      "cell_type": "code",
      "source": [
        ""
      ],
      "metadata": {
        "id": "dh6m6R6lZhRm"
      },
      "execution_count": null,
      "outputs": []
    },
    {
      "cell_type": "markdown",
      "source": [
        "Function for creating CNN Model using parameters given"
      ],
      "metadata": {
        "id": "SaIoRpgMyCqV"
      }
    },
    {
      "cell_type": "code",
      "source": [
        "def create_cnn_model(filters, fil_size, dense_neuron, batch_norm, dropout, act, padd, lr):\n",
        "    keras.backend.clear_session()\n",
        "    model = Sequential()\n",
        "    model.add(InputLayer(input_shape=(227,227,3))) #Adding Input layer with image size as(227,227) with RGB channel\n",
        "\n",
        "    #Adding 5 convolution Layers in a loop\n",
        "    for i in range(5):\n",
        "        model.add(Conv2D(filters[i],fil_size[i],padding=padd))\n",
        "        if batch_norm:\n",
        "            model.add(BatchNormalization())   \n",
        "        model.add(Activation(act))\n",
        "        model.add(MaxPooling2D(pool_size=(2,2)))\n",
        "    \n",
        "    #Adding the Dense layers as per the parameters passed\n",
        "    model.add(Flatten())\n",
        "    model.add(Dense(dense_neuron))\n",
        "    model.add(Dropout(dropout))\n",
        "    model.add(Activation(\"relu\"))\n",
        "\n",
        "    model.add(Dense(10,activation='softmax'))\n",
        "    adam = tf.keras.optimizers.Adam(learning_rate=lr)\n",
        "    model.compile(optimizer=adam,loss='categorical_crossentropy',metrics=['accuracy'])\n",
        "\n",
        "    return model"
      ],
      "metadata": {
        "id": "kZiOMhV6DsCK"
      },
      "execution_count": 11,
      "outputs": []
    },
    {
      "cell_type": "markdown",
      "source": [
        "Definition Function for preparing DATA:-"
      ],
      "metadata": {
        "id": "kkhE3ZW5xzxQ"
      }
    },
    {
      "cell_type": "code",
      "source": [
        "def dataProcess(BATCH_SIZE, data_aug=True):\n",
        "    if(data_aug):\n",
        "        train_datagen = ImageDataGenerator(\n",
        "            rescale=1./255,\n",
        "            rotation_range=90,\n",
        "            shear_range=0.2,\n",
        "            zoom_range=0.2,\n",
        "            validation_split=0.1,\n",
        "            horizontal_flip=True)\n",
        "    else:\n",
        "        train_datagen = ImageDataGenerator( rescale=1./255, validation_split=0.1)\n",
        "\n",
        "    test_datagen = ImageDataGenerator(rescale=1./255)\n",
        "\n",
        "    train_generator = train_datagen.flow_from_directory(\n",
        "        '/content/drive/MyDrive/DL_DATA_iNat/train',\n",
        "        subset='training',\n",
        "        target_size=(227,227),\n",
        "        batch_size=BATCH_SIZE,\n",
        "        class_mode='categorical',\n",
        "        shuffle = True,\n",
        "        seed = 45)\n",
        "\n",
        "    val_generator = train_datagen.flow_from_directory(\n",
        "        '/content/drive/MyDrive/DL_DATA_iNat/train',\n",
        "        subset = 'validation',\n",
        "        target_size=(227,227),\n",
        "        batch_size=BATCH_SIZE,\n",
        "        class_mode='categorical',\n",
        "        shuffle = True,\n",
        "        seed = 45)\n",
        "\n",
        "    test_generator = test_datagen.flow_from_directory(\n",
        "        '/content/drive/MyDrive/DL_DATA_iNat/val',\n",
        "        target_size=(227,227),\n",
        "        batch_size=BATCH_SIZE,\n",
        "        class_mode='categorical')\n",
        "    \n",
        "    return train_generator, val_generator, test_generator\n",
        "    "
      ],
      "metadata": {
        "id": "-G6LTs5IiRNV"
      },
      "execution_count": 13,
      "outputs": []
    },
    {
      "cell_type": "code",
      "source": [
        "fil=[32,64,64,128,128]\n",
        "fils=[(7,7),(7,7),(7,7),(7,7),(7,7)]\n",
        "d=0.15\n",
        "batch_norm=True\n",
        "epochs=5,\n",
        "d_n=64\n",
        "ler=0.001\n",
        "trial = create_cnn_model(fil,fils,d_n,batch_norm,d,'relu',\"same\",ler)"
      ],
      "metadata": {
        "id": "ZbBDCpABHr-f"
      },
      "execution_count": 14,
      "outputs": []
    },
    {
      "cell_type": "code",
      "source": [
        "trial.fit(\n",
        "          train_gen,\n",
        "          steps_per_epoch = train_gen=.samples // 256,\n",
        "          validation_data = val_gen, \n",
        "          validation_steps = val_gen.samples // 256,\n",
        "          epochs = 5\n",
        "        )"
      ],
      "metadata": {
        "id": "HpnsWXHum4UC"
      },
      "execution_count": null,
      "outputs": []
    },
    {
      "cell_type": "code",
      "source": [
        "trial.evaluate(test_generator,batch_size = 32)"
      ],
      "metadata": {
        "id": "_cpaM7vwmomE"
      },
      "execution_count": null,
      "outputs": []
    },
    {
      "cell_type": "markdown",
      "source": [
        "WandB install and login ---------------------- ---------- -------"
      ],
      "metadata": {
        "id": "HH56tV_9MwDV"
      }
    },
    {
      "cell_type": "code",
      "source": [
        "!pip install wandb\n"
      ],
      "metadata": {
        "id": "QWTjGxR7sRdg"
      },
      "execution_count": null,
      "outputs": []
    },
    {
      "cell_type": "code",
      "source": [
        "import wandb\n",
        "wandb.login()"
      ],
      "metadata": {
        "colab": {
          "base_uri": "https://localhost:8080/",
          "height": 107
        },
        "id": "ukOSyjRdgI_4",
        "outputId": "41138a99-d29a-4ead-ba6a-f60518ed3668"
      },
      "execution_count": 8,
      "outputs": [
        {
          "output_type": "display_data",
          "data": {
            "text/plain": [
              "<IPython.core.display.Javascript object>"
            ],
            "application/javascript": [
              "\n",
              "        window._wandbApiKey = new Promise((resolve, reject) => {\n",
              "            function loadScript(url) {\n",
              "            return new Promise(function(resolve, reject) {\n",
              "                let newScript = document.createElement(\"script\");\n",
              "                newScript.onerror = reject;\n",
              "                newScript.onload = resolve;\n",
              "                document.body.appendChild(newScript);\n",
              "                newScript.src = url;\n",
              "            });\n",
              "            }\n",
              "            loadScript(\"https://cdn.jsdelivr.net/npm/postmate/build/postmate.min.js\").then(() => {\n",
              "            const iframe = document.createElement('iframe')\n",
              "            iframe.style.cssText = \"width:0;height:0;border:none\"\n",
              "            document.body.appendChild(iframe)\n",
              "            const handshake = new Postmate({\n",
              "                container: iframe,\n",
              "                url: 'https://wandb.ai/authorize'\n",
              "            });\n",
              "            const timeout = setTimeout(() => reject(\"Couldn't auto authenticate\"), 5000)\n",
              "            handshake.then(function(child) {\n",
              "                child.on('authorize', data => {\n",
              "                    clearTimeout(timeout)\n",
              "                    resolve(data)\n",
              "                });\n",
              "            });\n",
              "            })\n",
              "        });\n",
              "    "
            ]
          },
          "metadata": {}
        },
        {
          "output_type": "stream",
          "name": "stderr",
          "text": [
            "\u001b[34m\u001b[1mwandb\u001b[0m: You can find your API key in your browser here: https://wandb.ai/authorize\n"
          ]
        },
        {
          "name": "stdout",
          "output_type": "stream",
          "text": [
            "wandb: Paste an API key from your profile and hit enter, or press ctrl+c to quit: ··········\n"
          ]
        },
        {
          "output_type": "stream",
          "name": "stderr",
          "text": [
            "\u001b[34m\u001b[1mwandb\u001b[0m: Appending key for api.wandb.ai to your netrc file: /root/.netrc\n"
          ]
        },
        {
          "output_type": "execute_result",
          "data": {
            "text/plain": [
              "True"
            ]
          },
          "metadata": {},
          "execution_count": 8
        }
      ]
    },
    {
      "cell_type": "code",
      "source": [
        "#--------Fetching dataset---------------------------------\n",
        "\n",
        "BATCH_SIZE = 32\n",
        "train_gen, val_gen, test_gen = dataProcess(BATCH_SIZE, True)"
      ],
      "metadata": {
        "id": "XHfhWONGxA07",
        "colab": {
          "base_uri": "https://localhost:8080/"
        },
        "outputId": "c54f07ac-7e6f-4c5a-9e04-ba7e08e07c4a"
      },
      "execution_count": 15,
      "outputs": [
        {
          "output_type": "stream",
          "name": "stdout",
          "text": [
            "Found 9018 images belonging to 10 classes.\n",
            "Found 1000 images belonging to 10 classes.\n",
            "Found 2009 images belonging to 10 classes.\n"
          ]
        }
      ]
    },
    {
      "cell_type": "code",
      "source": [
        "sweep_config = {\n",
        "    'method': 'random', \n",
        "    'metric': {\n",
        "      'name': 'val_accuracy',\n",
        "      'goal': 'maximize'   \n",
        "    },\n",
        "    'parameters': {\n",
        "        'epochs': { 'values': [12]\n",
        "        },\n",
        "        'filters': {\n",
        "            'values': [[16,32,64,128,256],\n",
        "                       [32,64,128,256,256],\n",
        "                       [64,32,16,8,4],\n",
        "                       [32,16,8,4,2],\n",
        "                       [64,64,64,64,64],\n",
        "                       [32,32,32,32,32],\n",
        "                       [48,48,48,48,48]\n",
        "                      ]\n",
        "        },\n",
        "        'filter_size': {\n",
        "            'values': [[(7,7),(7,7),(7,7),(7,7),(7,7)],\n",
        "                       [(5,5),(5,5),(5,5),(5,5),(5,5)],\n",
        "                       [(3,3),(3,3),(3,3),(3,3),(3,3)],\n",
        "                       [(2,2),(2,2),(2,2),(2,2),(2,2)]\n",
        "                      ]\n",
        "        },\n",
        "        'dense_neuron': {\n",
        "            'values': [128,256,512]\n",
        "        },\n",
        "        'batch_norm': {\n",
        "            'values': [True,False]\n",
        "        },\n",
        "        'dropout': {\n",
        "            'values': [0.15,0.2]\n",
        "        },\n",
        "        'lr': {\n",
        "            'values': [1e-4,1e-5]\n",
        "        }\n",
        "    }\n",
        "}"
      ],
      "metadata": {
        "id": "U9rXSYRZiSQ8"
      },
      "execution_count": 16,
      "outputs": []
    },
    {
      "cell_type": "code",
      "source": [
        "import wandb\n",
        "from wandb.keras import WandbCallback\n",
        "\n",
        "def train():\n",
        "    config_defaults = {\n",
        "        \"filters\": [32,64,64,128,128],\n",
        "        \"filter_size\": [(7,7),(7,7),(7,7),(7,7),(7,7)],\n",
        "        \"dropout\": 0.15,\n",
        "        \"batch_norm\": True,\n",
        "        \"epochs\": 5,\n",
        "        \"dense_neuron\": 64,\n",
        "        \"lr\": 0.001\n",
        "    }\n",
        "\n",
        "    wandb.init(config=config_defaults,name=\"CS6910-A2-P_A\")\n",
        "    config = wandb.config\n",
        "    wandb.run.name = \"flt_{}_fltsz_{}_do_{}_bn_{}_dsz_{}_lr_{}\".format(config.filters,\\\n",
        "                                                      config.filter_size[0],\\\n",
        "                                                      config.dropout,\\\n",
        "                                                      config.batch_norm,\\\n",
        "                                                      config.dense_neuron,\\\n",
        "                                                      config.lr)\n",
        "    wandb.run.save()\n",
        "\n",
        "    model = create_cnn_model(config.filters,config.filter_size,config.dense_neuron,config.batch_norm,config.dropout,'relu',\"same\",config.lr)\n",
        "\n",
        "    trained_arti = model.fit(\n",
        "                              train_gen,\n",
        "                              steps_per_epoch = train_gen.samples // BATCH_SIZE,\n",
        "                              validation_data = val_gen, \n",
        "                              validation_steps = val_gen.samples // BATCH_SIZE,\n",
        "                              epochs = config.epochs, \n",
        "                              callbacks=[WandbCallback(monitor='val_accuracy',mode='max')]\n",
        "                            )\n",
        "    model.evaluate(\n",
        "                    test_gen,\n",
        "                    batch_size = BATCH_SIZE,\n",
        "                    callbacks=[WandbCallback()]\n",
        "                  )\n",
        "    #model.save('/content/drive/MyDrive/DL_DATA_iNat/best_model.h5)\n",
        "    wandb.finish()\n",
        "    return model, trained_arti"
      ],
      "metadata": {
        "id": "2IGMXwiG_Gca"
      },
      "execution_count": 17,
      "outputs": []
    },
    {
      "cell_type": "code",
      "source": [
        ""
      ],
      "metadata": {
        "id": "RclYguU8zxL2"
      },
      "execution_count": null,
      "outputs": []
    },
    {
      "cell_type": "code",
      "source": [
        "sweep_id = wandb.sweep(sweep_config,entity=\"pandp\",project = 'cs6910-As-2')"
      ],
      "metadata": {
        "colab": {
          "base_uri": "https://localhost:8080/"
        },
        "id": "KIlhAuiOhJ4K",
        "outputId": "605b770a-c37d-4a5a-9a53-9b0a1188bba2"
      },
      "execution_count": 19,
      "outputs": [
        {
          "output_type": "stream",
          "name": "stdout",
          "text": [
            "Create sweep with ID: 9khqsoyk\n",
            "Sweep URL: https://wandb.ai/pandp/cs6910-As-2/sweeps/9khqsoyk\n"
          ]
        }
      ]
    },
    {
      "cell_type": "markdown",
      "source": [
        "Create sweep with ID: 9khqsoyk\n",
        "Sweep URL: https://wandb.ai/pandp/cs6910-As-2/sweeps/9khqsoyk"
      ],
      "metadata": {
        "id": "8edIt_tvZKcp"
      }
    },
    {
      "cell_type": "code",
      "source": [
        "wandb.agent(sweep_id, train, count=40)"
      ],
      "metadata": {
        "colab": {
          "base_uri": "https://localhost:8080/",
          "height": 305
        },
        "id": "smIx91zLiMT7",
        "outputId": "873d789c-2e42-4da1-998f-38881d048272"
      },
      "execution_count": null,
      "outputs": [
        {
          "output_type": "stream",
          "name": "stderr",
          "text": [
            "\u001b[34m\u001b[1mwandb\u001b[0m: Agent Starting Run: m1e46dy7 with config:\n",
            "\u001b[34m\u001b[1mwandb\u001b[0m: \tbatch_norm: False\n",
            "\u001b[34m\u001b[1mwandb\u001b[0m: \tdense_neuron: 512\n",
            "\u001b[34m\u001b[1mwandb\u001b[0m: \tdropout: 0.15\n",
            "\u001b[34m\u001b[1mwandb\u001b[0m: \tepochs: 12\n",
            "\u001b[34m\u001b[1mwandb\u001b[0m: \tfilter_size: [[5, 5], [5, 5], [5, 5], [5, 5], [5, 5]]\n",
            "\u001b[34m\u001b[1mwandb\u001b[0m: \tfilters: [64, 64, 64, 64, 64]\n",
            "\u001b[34m\u001b[1mwandb\u001b[0m: \tlr: 1e-05\n",
            "\u001b[34m\u001b[1mwandb\u001b[0m: Currently logged in as: \u001b[33mpranab045\u001b[0m (use `wandb login --relogin` to force relogin)\n"
          ]
        },
        {
          "output_type": "display_data",
          "data": {
            "text/plain": [
              "<IPython.core.display.HTML object>"
            ],
            "text/html": [
              "Tracking run with wandb version 0.12.11"
            ]
          },
          "metadata": {}
        },
        {
          "output_type": "display_data",
          "data": {
            "text/plain": [
              "<IPython.core.display.HTML object>"
            ],
            "text/html": [
              "Run data is saved locally in <code>/content/wandb/run-20220329_203625-m1e46dy7</code>"
            ]
          },
          "metadata": {}
        },
        {
          "output_type": "display_data",
          "data": {
            "text/plain": [
              "<IPython.core.display.HTML object>"
            ],
            "text/html": [
              "Syncing run <strong><a href=\"https://wandb.ai/pandp/cs6910-As-2/runs/m1e46dy7\" target=\"_blank\">CS6910-A2-P_A</a></strong> to <a href=\"https://wandb.ai/pandp/cs6910-As-2\" target=\"_blank\">Weights & Biases</a> (<a href=\"https://wandb.me/run\" target=\"_blank\">docs</a>)<br/>Sweep page:  <a href=\"https://wandb.ai/pandp/cs6910-As-2/sweeps/9khqsoyk\" target=\"_blank\">https://wandb.ai/pandp/cs6910-As-2/sweeps/9khqsoyk</a>"
            ]
          },
          "metadata": {}
        },
        {
          "output_type": "stream",
          "name": "stderr",
          "text": [
            "\u001b[34m\u001b[1mwandb\u001b[0m: \u001b[33mWARNING\u001b[0m Calling wandb.run.save without any arguments is deprecated.Changes to attributes are automatically persisted.\n"
          ]
        },
        {
          "output_type": "stream",
          "name": "stdout",
          "text": [
            "Epoch 1/12\n",
            " 68/281 [======>.......................] - ETA: 29:13 - loss: 2.3042 - accuracy: 0.1051"
          ]
        }
      ]
    }
  ]
}