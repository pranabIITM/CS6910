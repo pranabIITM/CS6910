{
  "nbformat": 4,
  "nbformat_minor": 0,
  "metadata": {
    "colab": {
      "name": "Part-A_Q4.ipynb",
      "provenance": [],
      "authorship_tag": "ABX9TyOSFVGgarkjZ3VzrDY47mPs"
    },
    "kernelspec": {
      "name": "python3",
      "display_name": "Python 3"
    },
    "language_info": {
      "name": "python"
    }
  },
  "cells": [
    {
      "cell_type": "markdown",
      "source": [
        "# Q4 Apply best model on the test data\n",
        "\n",
        "Test data path = /content/drive/MyDrive/DL_DATA_iNat/val\n"
      ],
      "metadata": {
        "id": "ZWNfWK-AyiAh"
      }
    },
    {
      "cell_type": "code",
      "execution_count": 5,
      "metadata": {
        "id": "xrZLTWbulsFI"
      },
      "outputs": [],
      "source": [
        "import os\n",
        "import math\n",
        "import numpy as np\n",
        "import matplotlib.pyplot as plt\n",
        "import keras\n",
        "import tensorflow as tf\n",
        "from tensorflow.keras.preprocessing import image\n",
        "from tensorflow.keras.models import Model\n",
        "import matplotlib.gridspec as gridspec\n",
        "from PIL import Image\n",
        "from tensorflow.keras.preprocessing.image import ImageDataGenerator"
      ]
    },
    {
      "cell_type": "code",
      "source": [
        "#mount drive\n",
        "from google.colab import drive\n",
        "drive.mount('/content/drive')"
      ],
      "metadata": {
        "colab": {
          "base_uri": "https://localhost:8080/"
        },
        "id": "JJrSGf0bzy0p",
        "outputId": "15e96f8f-a62d-454a-bb9f-bc77e9dfe2b5"
      },
      "execution_count": 2,
      "outputs": [
        {
          "output_type": "stream",
          "name": "stdout",
          "text": [
            "Mounted at /content/drive\n"
          ]
        }
      ]
    },
    {
      "cell_type": "code",
      "source": [
        "myBestModel = keras.models.load_model('drive/MyDrive/DL_DATA_iNat/model-best.h5')"
      ],
      "metadata": {
        "id": "7qsbV66o0xaI"
      },
      "execution_count": 3,
      "outputs": []
    },
    {
      "cell_type": "code",
      "source": [
        "myBestModel.summary()"
      ],
      "metadata": {
        "colab": {
          "base_uri": "https://localhost:8080/"
        },
        "id": "7lNE8rDH6kOY",
        "outputId": "196369e6-abed-4b02-d72d-9403126d53ae"
      },
      "execution_count": 9,
      "outputs": [
        {
          "output_type": "stream",
          "name": "stdout",
          "text": [
            "Model: \"sequential\"\n",
            "_________________________________________________________________\n",
            " Layer (type)                Output Shape              Param #   \n",
            "=================================================================\n",
            " conv2d (Conv2D)             (None, 227, 227, 32)      896       \n",
            "                                                                 \n",
            " batch_normalization (BatchN  (None, 227, 227, 32)     128       \n",
            " ormalization)                                                   \n",
            "                                                                 \n",
            " activation (Activation)     (None, 227, 227, 32)      0         \n",
            "                                                                 \n",
            " max_pooling2d (MaxPooling2D  (None, 113, 113, 32)     0         \n",
            " )                                                               \n",
            "                                                                 \n",
            " conv2d_1 (Conv2D)           (None, 113, 113, 64)      18496     \n",
            "                                                                 \n",
            " batch_normalization_1 (Batc  (None, 113, 113, 64)     256       \n",
            " hNormalization)                                                 \n",
            "                                                                 \n",
            " activation_1 (Activation)   (None, 113, 113, 64)      0         \n",
            "                                                                 \n",
            " max_pooling2d_1 (MaxPooling  (None, 56, 56, 64)       0         \n",
            " 2D)                                                             \n",
            "                                                                 \n",
            " conv2d_2 (Conv2D)           (None, 56, 56, 128)       73856     \n",
            "                                                                 \n",
            " batch_normalization_2 (Batc  (None, 56, 56, 128)      512       \n",
            " hNormalization)                                                 \n",
            "                                                                 \n",
            " activation_2 (Activation)   (None, 56, 56, 128)       0         \n",
            "                                                                 \n",
            " max_pooling2d_2 (MaxPooling  (None, 28, 28, 128)      0         \n",
            " 2D)                                                             \n",
            "                                                                 \n",
            " conv2d_3 (Conv2D)           (None, 28, 28, 256)       295168    \n",
            "                                                                 \n",
            " batch_normalization_3 (Batc  (None, 28, 28, 256)      1024      \n",
            " hNormalization)                                                 \n",
            "                                                                 \n",
            " activation_3 (Activation)   (None, 28, 28, 256)       0         \n",
            "                                                                 \n",
            " max_pooling2d_3 (MaxPooling  (None, 14, 14, 256)      0         \n",
            " 2D)                                                             \n",
            "                                                                 \n",
            " conv2d_4 (Conv2D)           (None, 14, 14, 256)       590080    \n",
            "                                                                 \n",
            " batch_normalization_4 (Batc  (None, 14, 14, 256)      1024      \n",
            " hNormalization)                                                 \n",
            "                                                                 \n",
            " activation_4 (Activation)   (None, 14, 14, 256)       0         \n",
            "                                                                 \n",
            " max_pooling2d_4 (MaxPooling  (None, 7, 7, 256)        0         \n",
            " 2D)                                                             \n",
            "                                                                 \n",
            " flatten (Flatten)           (None, 12544)             0         \n",
            "                                                                 \n",
            " dense (Dense)               (None, 1024)              12846080  \n",
            "                                                                 \n",
            " dropout (Dropout)           (None, 1024)              0         \n",
            "                                                                 \n",
            " activation_5 (Activation)   (None, 1024)              0         \n",
            "                                                                 \n",
            " dense_1 (Dense)             (None, 10)                10250     \n",
            "                                                                 \n",
            "=================================================================\n",
            "Total params: 13,837,770\n",
            "Trainable params: 13,836,298\n",
            "Non-trainable params: 1,472\n",
            "_________________________________________________________________\n"
          ]
        }
      ]
    },
    {
      "cell_type": "markdown",
      "source": [
        "### Q4 - (a) -Use the best model and report the accuracy on the test set. "
      ],
      "metadata": {
        "id": "D4E1GUm9zXac"
      }
    },
    {
      "cell_type": "code",
      "source": [
        "BATCH_SIZE = 32\n",
        "test_datagen = ImageDataGenerator(rescale=1./255)\n",
        "test_data = test_datagen.flow_from_directory(\n",
        "  '/content/drive/MyDrive/DL_DATA_iNat/val',\n",
        "  target_size=(227,227),\n",
        "  batch_size=BATCH_SIZE,\n",
        "  class_mode='categorical')"
      ],
      "metadata": {
        "colab": {
          "base_uri": "https://localhost:8080/"
        },
        "id": "x7__Se5n0-el",
        "outputId": "c6e998e9-bbda-421b-db41-24cb8c89ad3d"
      },
      "execution_count": 6,
      "outputs": [
        {
          "output_type": "stream",
          "name": "stdout",
          "text": [
            "Found 2009 images belonging to 10 classes.\n"
          ]
        }
      ]
    },
    {
      "cell_type": "code",
      "source": [
        "myBestModel.evaluate(test_data,steps= test_data.n/test_data.batch_size)"
      ],
      "metadata": {
        "colab": {
          "base_uri": "https://localhost:8080/"
        },
        "id": "cikWjXBe1KRe",
        "outputId": "a5c8d4b4-ec7f-4d32-dbfd-167c675fad7e"
      },
      "execution_count": 8,
      "outputs": [
        {
          "output_type": "stream",
          "name": "stdout",
          "text": [
            "62/62 [==============================] - 456s 7s/step - loss: 1.8102 - accuracy: 0.3758\n"
          ]
        },
        {
          "output_type": "execute_result",
          "data": {
            "text/plain": [
              "[1.8101873397827148, 0.37580886483192444]"
            ]
          },
          "metadata": {},
          "execution_count": 8
        }
      ]
    },
    {
      "cell_type": "markdown",
      "source": [
        "for best model on test data:\n",
        "{Loss: **1.8102**} and {Accuracy: **0.3758**}"
      ],
      "metadata": {
        "id": "wDa7ltUO5VWT"
      }
    },
    {
      "cell_type": "markdown",
      "source": [
        "###Q4 - (b) - 10 x 3 grid containing sample images from the test data and predictions made by best model"
      ],
      "metadata": {
        "id": "DEZSYbdv3hzl"
      }
    },
    {
      "cell_type": "code",
      "source": [
        "#Get all the classes from the folder (folder name is val but it is testing data, validation data was obtained by spliting the train data)\n",
        "classes=[]\n",
        "for fold_name in np.sort(os.listdir('/content/drive/MyDrive/DL_DATA_iNat/val')):\n",
        "  classes.append(fold_name)\n",
        "print(classes)"
      ],
      "metadata": {
        "id": "OapDV2-qcTTg"
      },
      "execution_count": null,
      "outputs": []
    },
    {
      "cell_type": "code",
      "source": [
        "samp_imgs = []\n",
        "test_path = '/content/drive/MyDrive/DL_DATA_iNat/val'\n",
        "labels = []\n",
        "# -- total 30 images and 10 classes..\n",
        "# -- Taking 3 random images from each class..\n",
        "for i in range(10):\n",
        "    files = os.listdir(test_path+classes[i])\n",
        "    indices = np.random.choice(len(files),3)\n",
        "    for j in range(3):\n",
        "        pic = Image.open(test_path+classes[i]+'/'+files[indices[j]])\n",
        "        pic = pic.resize((227,227))\n",
        "        samp_imgs.append(np.asarray(pic)*1./255)\n",
        "        labels.append(i)\n",
        "        \n",
        "samp_imgs = np.array(samp_imgs)"
      ],
      "metadata": {
        "id": "rXo5KYTb3guv"
      },
      "execution_count": null,
      "outputs": []
    },
    {
      "cell_type": "code",
      "source": [
        ""
      ],
      "metadata": {
        "id": "WhWeNTxcfpjG"
      },
      "execution_count": null,
      "outputs": []
    }
  ]
}