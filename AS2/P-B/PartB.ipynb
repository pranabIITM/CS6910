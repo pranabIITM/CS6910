{
  "nbformat": 4,
  "nbformat_minor": 0,
  "metadata": {
    "colab": {
      "name": "PartB.ipynb",
      "provenance": [],
      "authorship_tag": "ABX9TyNPSwq3GnjkJ3e7mSw7Hi58"
    },
    "kernelspec": {
      "name": "python3",
      "display_name": "Python 3"
    },
    "language_info": {
      "name": "python"
    },
    "accelerator": "GPU",
    "widgets": {
      "application/vnd.jupyter.widget-state+json": {
        "96e2561b823b4e48ac50e87002799627": {
          "model_module": "@jupyter-widgets/controls",
          "model_name": "VBoxModel",
          "model_module_version": "1.5.0",
          "state": {
            "_dom_classes": [],
            "_model_module": "@jupyter-widgets/controls",
            "_model_module_version": "1.5.0",
            "_model_name": "VBoxModel",
            "_view_count": null,
            "_view_module": "@jupyter-widgets/controls",
            "_view_module_version": "1.5.0",
            "_view_name": "VBoxView",
            "box_style": "",
            "children": [
              "IPY_MODEL_39a3bf53df0646b9a396336653c4a361",
              "IPY_MODEL_eab554089217479e8633734d7f5ebc0c"
            ],
            "layout": "IPY_MODEL_f1e3abcdd5d74ef6bd9d0241fb7ea5df"
          }
        },
        "39a3bf53df0646b9a396336653c4a361": {
          "model_module": "@jupyter-widgets/controls",
          "model_name": "LabelModel",
          "model_module_version": "1.5.0",
          "state": {
            "_dom_classes": [],
            "_model_module": "@jupyter-widgets/controls",
            "_model_module_version": "1.5.0",
            "_model_name": "LabelModel",
            "_view_count": null,
            "_view_module": "@jupyter-widgets/controls",
            "_view_module_version": "1.5.0",
            "_view_name": "LabelView",
            "description": "",
            "description_tooltip": null,
            "layout": "IPY_MODEL_6798659f71f74e85aabdc49b6faa4e04",
            "placeholder": "​",
            "style": "IPY_MODEL_aad561d169c24da6a845152eedfaf516",
            "value": "213.820 MB of 213.820 MB uploaded (0.000 MB deduped)\r"
          }
        },
        "eab554089217479e8633734d7f5ebc0c": {
          "model_module": "@jupyter-widgets/controls",
          "model_name": "FloatProgressModel",
          "model_module_version": "1.5.0",
          "state": {
            "_dom_classes": [],
            "_model_module": "@jupyter-widgets/controls",
            "_model_module_version": "1.5.0",
            "_model_name": "FloatProgressModel",
            "_view_count": null,
            "_view_module": "@jupyter-widgets/controls",
            "_view_module_version": "1.5.0",
            "_view_name": "ProgressView",
            "bar_style": "",
            "description": "",
            "description_tooltip": null,
            "layout": "IPY_MODEL_031a5845e7104841805ebdc1017f8521",
            "max": 1,
            "min": 0,
            "orientation": "horizontal",
            "style": "IPY_MODEL_704fbebb6028465fa71a8ddfe4c62e93",
            "value": 1
          }
        },
        "f1e3abcdd5d74ef6bd9d0241fb7ea5df": {
          "model_module": "@jupyter-widgets/base",
          "model_name": "LayoutModel",
          "model_module_version": "1.2.0",
          "state": {
            "_model_module": "@jupyter-widgets/base",
            "_model_module_version": "1.2.0",
            "_model_name": "LayoutModel",
            "_view_count": null,
            "_view_module": "@jupyter-widgets/base",
            "_view_module_version": "1.2.0",
            "_view_name": "LayoutView",
            "align_content": null,
            "align_items": null,
            "align_self": null,
            "border": null,
            "bottom": null,
            "display": null,
            "flex": null,
            "flex_flow": null,
            "grid_area": null,
            "grid_auto_columns": null,
            "grid_auto_flow": null,
            "grid_auto_rows": null,
            "grid_column": null,
            "grid_gap": null,
            "grid_row": null,
            "grid_template_areas": null,
            "grid_template_columns": null,
            "grid_template_rows": null,
            "height": null,
            "justify_content": null,
            "justify_items": null,
            "left": null,
            "margin": null,
            "max_height": null,
            "max_width": null,
            "min_height": null,
            "min_width": null,
            "object_fit": null,
            "object_position": null,
            "order": null,
            "overflow": null,
            "overflow_x": null,
            "overflow_y": null,
            "padding": null,
            "right": null,
            "top": null,
            "visibility": null,
            "width": null
          }
        },
        "6798659f71f74e85aabdc49b6faa4e04": {
          "model_module": "@jupyter-widgets/base",
          "model_name": "LayoutModel",
          "model_module_version": "1.2.0",
          "state": {
            "_model_module": "@jupyter-widgets/base",
            "_model_module_version": "1.2.0",
            "_model_name": "LayoutModel",
            "_view_count": null,
            "_view_module": "@jupyter-widgets/base",
            "_view_module_version": "1.2.0",
            "_view_name": "LayoutView",
            "align_content": null,
            "align_items": null,
            "align_self": null,
            "border": null,
            "bottom": null,
            "display": null,
            "flex": null,
            "flex_flow": null,
            "grid_area": null,
            "grid_auto_columns": null,
            "grid_auto_flow": null,
            "grid_auto_rows": null,
            "grid_column": null,
            "grid_gap": null,
            "grid_row": null,
            "grid_template_areas": null,
            "grid_template_columns": null,
            "grid_template_rows": null,
            "height": null,
            "justify_content": null,
            "justify_items": null,
            "left": null,
            "margin": null,
            "max_height": null,
            "max_width": null,
            "min_height": null,
            "min_width": null,
            "object_fit": null,
            "object_position": null,
            "order": null,
            "overflow": null,
            "overflow_x": null,
            "overflow_y": null,
            "padding": null,
            "right": null,
            "top": null,
            "visibility": null,
            "width": null
          }
        },
        "aad561d169c24da6a845152eedfaf516": {
          "model_module": "@jupyter-widgets/controls",
          "model_name": "DescriptionStyleModel",
          "model_module_version": "1.5.0",
          "state": {
            "_model_module": "@jupyter-widgets/controls",
            "_model_module_version": "1.5.0",
            "_model_name": "DescriptionStyleModel",
            "_view_count": null,
            "_view_module": "@jupyter-widgets/base",
            "_view_module_version": "1.2.0",
            "_view_name": "StyleView",
            "description_width": ""
          }
        },
        "031a5845e7104841805ebdc1017f8521": {
          "model_module": "@jupyter-widgets/base",
          "model_name": "LayoutModel",
          "model_module_version": "1.2.0",
          "state": {
            "_model_module": "@jupyter-widgets/base",
            "_model_module_version": "1.2.0",
            "_model_name": "LayoutModel",
            "_view_count": null,
            "_view_module": "@jupyter-widgets/base",
            "_view_module_version": "1.2.0",
            "_view_name": "LayoutView",
            "align_content": null,
            "align_items": null,
            "align_self": null,
            "border": null,
            "bottom": null,
            "display": null,
            "flex": null,
            "flex_flow": null,
            "grid_area": null,
            "grid_auto_columns": null,
            "grid_auto_flow": null,
            "grid_auto_rows": null,
            "grid_column": null,
            "grid_gap": null,
            "grid_row": null,
            "grid_template_areas": null,
            "grid_template_columns": null,
            "grid_template_rows": null,
            "height": null,
            "justify_content": null,
            "justify_items": null,
            "left": null,
            "margin": null,
            "max_height": null,
            "max_width": null,
            "min_height": null,
            "min_width": null,
            "object_fit": null,
            "object_position": null,
            "order": null,
            "overflow": null,
            "overflow_x": null,
            "overflow_y": null,
            "padding": null,
            "right": null,
            "top": null,
            "visibility": null,
            "width": null
          }
        },
        "704fbebb6028465fa71a8ddfe4c62e93": {
          "model_module": "@jupyter-widgets/controls",
          "model_name": "ProgressStyleModel",
          "model_module_version": "1.5.0",
          "state": {
            "_model_module": "@jupyter-widgets/controls",
            "_model_module_version": "1.5.0",
            "_model_name": "ProgressStyleModel",
            "_view_count": null,
            "_view_module": "@jupyter-widgets/base",
            "_view_module_version": "1.2.0",
            "_view_name": "StyleView",
            "bar_color": null,
            "description_width": ""
          }
        }
      }
    }
  },
  "cells": [
    {
      "cell_type": "markdown",
      "source": [
        "Import the data"
      ],
      "metadata": {
        "id": "nPMlcu_o3Up4"
      }
    },
    {
      "cell_type": "code",
      "execution_count": 2,
      "metadata": {
        "colab": {
          "base_uri": "https://localhost:8080/"
        },
        "id": "dyNmdRAX04Hq",
        "outputId": "7fe84445-316a-48a3-f996-b5e4b698d2fe"
      },
      "outputs": [
        {
          "output_type": "stream",
          "name": "stdout",
          "text": [
            "Mounted at /content/gdrive\n",
            "train  val\n"
          ]
        }
      ],
      "source": [
        "from google.colab import drive\n",
        "drive.mount('/content/gdrive')\n",
        "!ls \"/content/gdrive/My Drive/inaturalist_12K\""
      ]
    },
    {
      "cell_type": "markdown",
      "source": [
        "Install the dependencies"
      ],
      "metadata": {
        "id": "5ahVoUcS3f9V"
      }
    },
    {
      "cell_type": "code",
      "source": [
        "!pip install wandb"
      ],
      "metadata": {
        "id": "G91KFAFgzLB2"
      },
      "execution_count": null,
      "outputs": []
    },
    {
      "cell_type": "markdown",
      "source": [
        "Import the libraries"
      ],
      "metadata": {
        "id": "SUTJogYm3ukX"
      }
    },
    {
      "cell_type": "code",
      "source": [
        "import tensorflow as tf\n",
        "from tensorflow import keras\n",
        "import numpy as np"
      ],
      "metadata": {
        "id": "aGdM4uzo2Qrx"
      },
      "execution_count": 14,
      "outputs": []
    },
    {
      "cell_type": "code",
      "source": [
        "from keras.layers import Dense, Flatten\n",
        "from keras.models import Model\n",
        "from keras.preprocessing.image import ImageDataGenerator"
      ],
      "metadata": {
        "id": "oEyE0uNg2SU7"
      },
      "execution_count": 33,
      "outputs": []
    },
    {
      "cell_type": "markdown",
      "source": [
        "Setup to wandb"
      ],
      "metadata": {
        "id": "nOHcn6xy323h"
      }
    },
    {
      "cell_type": "code",
      "source": [
        "import wandb\n",
        "from wandb.keras import WandbCallback"
      ],
      "metadata": {
        "id": "jHC6eKzHQWOa"
      },
      "execution_count": null,
      "outputs": []
    },
    {
      "cell_type": "code",
      "source": [
        "wandb.login()"
      ],
      "metadata": {
        "colab": {
          "base_uri": "https://localhost:8080/",
          "height": 71
        },
        "id": "bBBSGqH_1WMz",
        "outputId": "02dc6ab7-6797-43af-b7b0-fee022c55675"
      },
      "execution_count": 16,
      "outputs": [
        {
          "output_type": "display_data",
          "data": {
            "text/plain": [
              "<IPython.core.display.Javascript object>"
            ],
            "application/javascript": [
              "\n",
              "        window._wandbApiKey = new Promise((resolve, reject) => {\n",
              "            function loadScript(url) {\n",
              "            return new Promise(function(resolve, reject) {\n",
              "                let newScript = document.createElement(\"script\");\n",
              "                newScript.onerror = reject;\n",
              "                newScript.onload = resolve;\n",
              "                document.body.appendChild(newScript);\n",
              "                newScript.src = url;\n",
              "            });\n",
              "            }\n",
              "            loadScript(\"https://cdn.jsdelivr.net/npm/postmate/build/postmate.min.js\").then(() => {\n",
              "            const iframe = document.createElement('iframe')\n",
              "            iframe.style.cssText = \"width:0;height:0;border:none\"\n",
              "            document.body.appendChild(iframe)\n",
              "            const handshake = new Postmate({\n",
              "                container: iframe,\n",
              "                url: 'https://wandb.ai/authorize'\n",
              "            });\n",
              "            const timeout = setTimeout(() => reject(\"Couldn't auto authenticate\"), 5000)\n",
              "            handshake.then(function(child) {\n",
              "                child.on('authorize', data => {\n",
              "                    clearTimeout(timeout)\n",
              "                    resolve(data)\n",
              "                });\n",
              "            });\n",
              "            })\n",
              "        });\n",
              "    "
            ]
          },
          "metadata": {}
        },
        {
          "output_type": "stream",
          "name": "stderr",
          "text": [
            "\u001b[34m\u001b[1mwandb\u001b[0m: Appending key for api.wandb.ai to your netrc file: /root/.netrc\n"
          ]
        },
        {
          "output_type": "execute_result",
          "data": {
            "text/plain": [
              "True"
            ]
          },
          "metadata": {},
          "execution_count": 16
        }
      ]
    },
    {
      "cell_type": "code",
      "source": [
        "physical_devices = tf.config.list_physical_devices('GPU')\n",
        "tf.config.experimental.set_memory_growth(physical_devices[0], enable = True)"
      ],
      "metadata": {
        "id": "ONF2IaU--zKd"
      },
      "execution_count": 17,
      "outputs": []
    },
    {
      "cell_type": "markdown",
      "source": [
        "Preprocess the data"
      ],
      "metadata": {
        "id": "ykmKvErw4CZd"
      }
    },
    {
      "cell_type": "code",
      "source": [
        "def dataProcess(batch_size = 32, data_aug = True):\n",
        "\n",
        "    # data augmentation\n",
        "    if(data_aug):\n",
        "        train_datagen = ImageDataGenerator(\n",
        "            rescale = 1./255,\n",
        "            rotation_range = 90,\n",
        "            shear_range = 0.2,\n",
        "            zoom_range = 0.2,\n",
        "            validation_split = 0.1,\n",
        "            horizontal_flip = True)\n",
        "    else:\n",
        "        train_datagen = ImageDataGenerator( rescale = 1./255, validation_split = 0.1)\n",
        "\n",
        "    test_datagen = ImageDataGenerator(rescale = 1./255)\n",
        "\n",
        "    # generate train dataset\n",
        "    train_generator = train_datagen.flow_from_directory(\n",
        "        train_path,\n",
        "        subset='training',\n",
        "        target_size=(224,224),\n",
        "        batch_size = batch_size,\n",
        "        class_mode = 'categorical',\n",
        "        shuffle = True,\n",
        "        seed = 45)\n",
        "\n",
        "    # generate validation dataset\n",
        "    val_generator = train_datagen.flow_from_directory(\n",
        "        train_path,\n",
        "        subset = 'validation',\n",
        "        target_size=(224,224),\n",
        "        batch_size = batch_size,\n",
        "        class_mode = 'categorical',\n",
        "        shuffle = True,\n",
        "        seed = 45)\n",
        "\n",
        "    # generate test dataset\n",
        "    test_generator = test_datagen.flow_from_directory(\n",
        "        val_path,\n",
        "        target_size = (224,224),\n",
        "        batch_size = batch_size,\n",
        "        class_mode = 'categorical')\n",
        "    \n",
        "    return train_generator, val_generator, test_generator"
      ],
      "metadata": {
        "id": "qZwTP-4Stzsq"
      },
      "execution_count": 18,
      "outputs": []
    },
    {
      "cell_type": "markdown",
      "source": [
        "Prepare the pre-trained model for our usage"
      ],
      "metadata": {
        "id": "q5wkNDxr9VyD"
      }
    },
    {
      "cell_type": "code",
      "source": [
        "def buildModel(pre_trained_model = 'InceptionV3'):\n",
        "    \n",
        "    # re-size the images as per the imagenet's image size\n",
        "    IMAGE_SIZE = [224, 224]\n",
        "\n",
        "    # prepare the pre-trained model excluding the last layer\n",
        "    if pre_trained_model == 'InceptionV3':\n",
        "        pre_model = keras.applications.InceptionV3(input_shape = IMAGE_SIZE + [3], weights = 'imagenet', include_top = False)\n",
        "    if pre_trained_model == 'InceptionResNetV2':\n",
        "        pre_model = keras.applications.InceptionResNetV2(input_shape = IMAGE_SIZE + [3], weights = 'imagenet', include_top = False)\n",
        "    if pre_trained_model == 'ResNet50':\n",
        "        pre_model = keras.applications.ResNet50(input_shape = IMAGE_SIZE + [3], weights = 'imagenet', include_top = False)\n",
        "    if pre_trained_model == 'Xception':\n",
        "        pre_model = keras.applications.Xception(input_shape = IMAGE_SIZE + [3], weights = 'imagenet', include_top = False)\n",
        "    \n",
        "\n",
        "    # keep the trained weights of the pre trained model same\n",
        "    for layer in pre_model.layers:\n",
        "        layer.trainable = False\n",
        "    \n",
        "    import os\n",
        "    numberOfClasses = len(next(os.walk(train_path))[1])\n",
        "\n",
        "    # flatten the last layer\n",
        "    x = Flatten()(pre_model.output)\n",
        "    # add output layer\n",
        "    prediction = Dense(numberOfClasses, activation='softmax')(x)\n",
        "\n",
        "    # create final model\n",
        "    model = Model(inputs = pre_model.input, outputs = prediction)\n",
        "\n",
        "    model.compile(optimizer = 'adam', \n",
        "                  loss = 'categorical_crossentropy', \n",
        "                  metrics = ['accuracy']\n",
        "                  )\n",
        "    return model"
      ],
      "metadata": {
        "id": "h93TfQHg4wgC"
      },
      "execution_count": 36,
      "outputs": []
    },
    {
      "cell_type": "markdown",
      "source": [
        "Sweep configurations"
      ],
      "metadata": {
        "id": "jexhnkPC4HBM"
      }
    },
    {
      "cell_type": "code",
      "source": [
        "sweep_config = {\n",
        "    'method' : 'random', \n",
        "    'metric' : {\n",
        "        'name': 'val_accuracy',\n",
        "        'goal': 'maximize'   \n",
        "        },\n",
        "    'parameters' : {\n",
        "        'epochs': {'values' : [5,10]},\n",
        "        'model' : {'values' : ['InceptionV3','InceptionResNetV2','ResNet50','Xception']},\n",
        "        'batch_norm' : {'values' : [True,False]},\n",
        "        'batch_size' : {'values' : [32,64,128]},\n",
        "        'lr' : {'values' : [1e-4,1e-5]}\n",
        "    }\n",
        "}"
      ],
      "metadata": {
        "id": "APRRig72zA-5"
      },
      "execution_count": 20,
      "outputs": []
    },
    {
      "cell_type": "markdown",
      "source": [
        "Train the model"
      ],
      "metadata": {
        "id": "B5yKJLYLAfFe"
      }
    },
    {
      "cell_type": "code",
      "source": [
        "def train():\n",
        "    config_defaults = {\n",
        "        \"epochs\" : 5,\n",
        "        \"model\" : 'InceptionV3',\n",
        "        \"batch_norm\" : True,\n",
        "        \"batch_size\" : 32,\n",
        "        \"lr\" : 0.001\n",
        "    }\n",
        "\n",
        "    wandb.init(config=config_defaults,name = \"CS6910-A2-P_A\")\n",
        "    config = wandb.config\n",
        "    wandb.run.name = \"epochs_{}_model_{}_bn_{}_bs_{}_lr_{}\".format(config.epochs,\\\n",
        "                                                      config.model,\\\n",
        "                                                      config.batch_norm,\\\n",
        "                                                      config.batch_size,\\\n",
        "                                                      config.lr)\n",
        "    wandb.run.save()\n",
        "\n",
        "    # build model \n",
        "    adam = tf.keras.optimizers.Adam(learning_rate = config.lr)\n",
        "    model = buildModel(config.model)\n",
        "\n",
        "    # train the model\n",
        "    trained_model = model.fit(train_set,\n",
        "                              steps_per_epoch = train_set.samples // config.batch_size,\n",
        "                              validation_data = val_set, \n",
        "                              validation_steps = val_set.samples // config.batch_size,\n",
        "                              epochs = config.epochs, \n",
        "                              callbacks=[WandbCallback(monitor='val_accuracy',mode='max')]\n",
        "                            )\n",
        "    \n",
        "    # evaluate the model\n",
        "    model.evaluate(test_set,\n",
        "                   batch_size = config.batch_size,\n",
        "                   callbacks=[WandbCallback()]\n",
        "                  )\n",
        "\n",
        "    wandb.finish()\n",
        "    return model, trained_model"
      ],
      "metadata": {
        "id": "YrbxRKtUzFZo"
      },
      "execution_count": 37,
      "outputs": []
    },
    {
      "cell_type": "code",
      "source": [
        "train_path = '/content/gdrive/My Drive/inaturalist_12K/train'\n",
        "val_path = '/content/gdrive/My Drive/inaturalist_12K/val'\n",
        "\n",
        "# process the data\n",
        "train_set, val_set, test_set = dataProcess(64, True)"
      ],
      "metadata": {
        "colab": {
          "base_uri": "https://localhost:8080/"
        },
        "id": "WtYJr6nR2t94",
        "outputId": "be0d025a-b807-420d-e4f6-5458b81cf266"
      },
      "execution_count": 22,
      "outputs": [
        {
          "output_type": "stream",
          "name": "stdout",
          "text": [
            "Found 9018 images belonging to 10 classes.\n",
            "Found 1000 images belonging to 10 classes.\n",
            "Found 2000 images belonging to 10 classes.\n"
          ]
        }
      ]
    },
    {
      "cell_type": "code",
      "source": [
        "sweep_id = wandb.sweep(sweep_config,project = 'cs6910-As-2')"
      ],
      "metadata": {
        "colab": {
          "base_uri": "https://localhost:8080/"
        },
        "id": "shBe5XmR15Xr",
        "outputId": "c3e389dc-7c2a-4196-e5c2-1c9ff8e50ab1"
      },
      "execution_count": 23,
      "outputs": [
        {
          "output_type": "stream",
          "name": "stdout",
          "text": [
            "Create sweep with ID: jwbmbg7x\n",
            "Sweep URL: https://wandb.ai/pandp/cs6910-As-2/sweeps/jwbmbg7x\n"
          ]
        }
      ]
    },
    {
      "cell_type": "code",
      "source": [
        "wandb.agent(sweep_id, train, count=40)"
      ],
      "metadata": {
        "colab": {
          "base_uri": "https://localhost:8080/",
          "height": 1000,
          "referenced_widgets": [
            "96e2561b823b4e48ac50e87002799627",
            "39a3bf53df0646b9a396336653c4a361",
            "eab554089217479e8633734d7f5ebc0c",
            "f1e3abcdd5d74ef6bd9d0241fb7ea5df",
            "6798659f71f74e85aabdc49b6faa4e04",
            "aad561d169c24da6a845152eedfaf516",
            "031a5845e7104841805ebdc1017f8521",
            "704fbebb6028465fa71a8ddfe4c62e93"
          ]
        },
        "id": "hNbBo--r18cX",
        "outputId": "a3ff0f65-db5a-4589-d95a-9baedad04e54"
      },
      "execution_count": null,
      "outputs": [
        {
          "output_type": "stream",
          "name": "stderr",
          "text": [
            "\u001b[34m\u001b[1mwandb\u001b[0m: Sweep Agent: Waiting for job.\n",
            "\u001b[34m\u001b[1mwandb\u001b[0m: Job received.\n",
            "\u001b[34m\u001b[1mwandb\u001b[0m: Agent Starting Run: 1wfixlzo with config:\n",
            "\u001b[34m\u001b[1mwandb\u001b[0m: \tbatch_norm: True\n",
            "\u001b[34m\u001b[1mwandb\u001b[0m: \tbatch_size: 128\n",
            "\u001b[34m\u001b[1mwandb\u001b[0m: \tepochs: 5\n",
            "\u001b[34m\u001b[1mwandb\u001b[0m: \tlr: 0.0001\n",
            "\u001b[34m\u001b[1mwandb\u001b[0m: \tmodel: InceptionResNetV2\n"
          ]
        },
        {
          "output_type": "display_data",
          "data": {
            "text/plain": [
              "<IPython.core.display.HTML object>"
            ],
            "text/html": [
              "Tracking run with wandb version 0.12.11"
            ]
          },
          "metadata": {}
        },
        {
          "output_type": "display_data",
          "data": {
            "text/plain": [
              "<IPython.core.display.HTML object>"
            ],
            "text/html": [
              "Run data is saved locally in <code>/content/wandb/run-20220329_195232-1wfixlzo</code>"
            ]
          },
          "metadata": {}
        },
        {
          "output_type": "display_data",
          "data": {
            "text/plain": [
              "<IPython.core.display.HTML object>"
            ],
            "text/html": [
              "Syncing run <strong><a href=\"https://wandb.ai/pandp/cs6910-As-2/runs/1wfixlzo\" target=\"_blank\">CS6910-A2-P_A</a></strong> to <a href=\"https://wandb.ai/pandp/cs6910-As-2\" target=\"_blank\">Weights & Biases</a> (<a href=\"https://wandb.me/run\" target=\"_blank\">docs</a>)<br/>Sweep page:  <a href=\"https://wandb.ai/pandp/cs6910-As-2/sweeps/jwbmbg7x\" target=\"_blank\">https://wandb.ai/pandp/cs6910-As-2/sweeps/jwbmbg7x</a>"
            ]
          },
          "metadata": {}
        },
        {
          "output_type": "stream",
          "name": "stdout",
          "text": [
            "Epoch 1/5\n",
            "70/70 [==============================] - 164s 2s/step - loss: 6.3381 - accuracy: 0.5425 - val_loss: 3.7885 - val_accuracy: 0.6228 - _timestamp: 1648583727.0000 - _runtime: 174.0000\n",
            "Epoch 2/5\n",
            "70/70 [==============================] - 148s 2s/step - loss: 3.2448 - accuracy: 0.6426 - val_loss: 3.2077 - val_accuracy: 0.6406 - _timestamp: 1648583875.0000 - _runtime: 322.0000\n",
            "Epoch 3/5\n",
            "70/70 [==============================] - 151s 2s/step - loss: 3.2563 - accuracy: 0.6402 - val_loss: 3.9202 - val_accuracy: 0.5915 - _timestamp: 1648584028.0000 - _runtime: 475.0000\n",
            "Epoch 4/5\n",
            "70/70 [==============================] - 164s 2s/step - loss: 3.5645 - accuracy: 0.6475 - val_loss: 3.6121 - val_accuracy: 0.6362 - _timestamp: 1648584243.0000 - _runtime: 690.0000\n",
            "Epoch 5/5\n",
            "70/70 [==============================] - 151s 2s/step - loss: 3.2675 - accuracy: 0.6594 - val_loss: 3.3677 - val_accuracy: 0.6629 - _timestamp: 1648584430.0000 - _runtime: 877.0000\n",
            "32/32 [==============================] - 41s 1s/step - loss: 2.4362 - accuracy: 0.7275\n",
            "\n"
          ]
        },
        {
          "output_type": "display_data",
          "data": {
            "text/plain": [
              "<IPython.core.display.HTML object>"
            ],
            "text/html": [
              "Waiting for W&B process to finish... <strong style=\"color:green\">(success).</strong>"
            ]
          },
          "metadata": {}
        },
        {
          "output_type": "display_data",
          "data": {
            "text/plain": [
              "VBox(children=(Label(value='213.811 MB of 213.811 MB uploaded (0.000 MB deduped)\\r'), FloatProgress(value=1.0,…"
            ],
            "application/vnd.jupyter.widget-view+json": {
              "version_major": 2,
              "version_minor": 0,
              "model_id": "96e2561b823b4e48ac50e87002799627"
            }
          },
          "metadata": {}
        },
        {
          "output_type": "display_data",
          "data": {
            "text/plain": [
              "<IPython.core.display.HTML object>"
            ],
            "text/html": [
              "<style>\n",
              "    table.wandb td:nth-child(1) { padding: 0 10px; text-align: right }\n",
              "    .wandb-row { display: flex; flex-direction: row; flex-wrap: wrap; width: 100% }\n",
              "    .wandb-col { display: flex; flex-direction: column; flex-basis: 100%; flex: 1; padding: 10px; }\n",
              "    </style>\n",
              "<div class=\"wandb-row\"><div class=\"wandb-col\"><h3>Run history:</h3><br/><table class=\"wandb\"><tr><td>accuracy</td><td>▁▇▇▇█</td></tr><tr><td>epoch</td><td>▁▃▅▆█</td></tr><tr><td>loss</td><td>█▁▁▂▁</td></tr><tr><td>val_accuracy</td><td>▄▆▁▅█</td></tr><tr><td>val_loss</td><td>▇▁█▅▃</td></tr></table><br/></div><div class=\"wandb-col\"><h3>Run summary:</h3><br/><table class=\"wandb\"><tr><td>accuracy</td><td>0.65938</td></tr><tr><td>best_epoch</td><td>4</td></tr><tr><td>best_val_accuracy</td><td>0.66295</td></tr><tr><td>epoch</td><td>4</td></tr><tr><td>loss</td><td>3.26748</td></tr><tr><td>val_accuracy</td><td>0.66295</td></tr><tr><td>val_loss</td><td>3.36772</td></tr></table><br/></div></div>"
            ]
          },
          "metadata": {}
        },
        {
          "output_type": "display_data",
          "data": {
            "text/plain": [
              "<IPython.core.display.HTML object>"
            ],
            "text/html": [
              "Synced <strong style=\"color:#cdcd00\">CS6910-A2-P_A</strong>: <a href=\"https://wandb.ai/pandp/cs6910-As-2/runs/1wfixlzo\" target=\"_blank\">https://wandb.ai/pandp/cs6910-As-2/runs/1wfixlzo</a><br/>Synced 5 W&B file(s), 1 media file(s), 0 artifact file(s) and 1 other file(s)"
            ]
          },
          "metadata": {}
        },
        {
          "output_type": "display_data",
          "data": {
            "text/plain": [
              "<IPython.core.display.HTML object>"
            ],
            "text/html": [
              "Find logs at: <code>./wandb/run-20220329_195232-1wfixlzo/logs</code>"
            ]
          },
          "metadata": {}
        },
        {
          "output_type": "stream",
          "name": "stderr",
          "text": [
            "\u001b[34m\u001b[1mwandb\u001b[0m: Agent Starting Run: 43hzryls with config:\n",
            "\u001b[34m\u001b[1mwandb\u001b[0m: \tbatch_norm: False\n",
            "\u001b[34m\u001b[1mwandb\u001b[0m: \tbatch_size: 64\n",
            "\u001b[34m\u001b[1mwandb\u001b[0m: \tepochs: 10\n",
            "\u001b[34m\u001b[1mwandb\u001b[0m: \tlr: 1e-05\n",
            "\u001b[34m\u001b[1mwandb\u001b[0m: \tmodel: InceptionV3\n"
          ]
        },
        {
          "output_type": "display_data",
          "data": {
            "text/plain": [
              "<IPython.core.display.HTML object>"
            ],
            "text/html": [
              "Tracking run with wandb version 0.12.11"
            ]
          },
          "metadata": {}
        },
        {
          "output_type": "display_data",
          "data": {
            "text/plain": [
              "<IPython.core.display.HTML object>"
            ],
            "text/html": [
              "Run data is saved locally in <code>/content/wandb/run-20220329_200805-43hzryls</code>"
            ]
          },
          "metadata": {}
        },
        {
          "output_type": "display_data",
          "data": {
            "text/plain": [
              "<IPython.core.display.HTML object>"
            ],
            "text/html": [
              "Syncing run <strong><a href=\"https://wandb.ai/pandp/cs6910-As-2/runs/43hzryls\" target=\"_blank\">CS6910-A2-P_A</a></strong> to <a href=\"https://wandb.ai/pandp/cs6910-As-2\" target=\"_blank\">Weights & Biases</a> (<a href=\"https://wandb.me/run\" target=\"_blank\">docs</a>)<br/>Sweep page:  <a href=\"https://wandb.ai/pandp/cs6910-As-2/sweeps/jwbmbg7x\" target=\"_blank\">https://wandb.ai/pandp/cs6910-As-2/sweeps/jwbmbg7x</a>"
            ]
          },
          "metadata": {}
        },
        {
          "output_type": "stream",
          "name": "stdout",
          "text": [
            "Downloading data from https://storage.googleapis.com/tensorflow/keras-applications/inception_v3/inception_v3_weights_tf_dim_ordering_tf_kernels_notop.h5\n",
            "87916544/87910968 [==============================] - 1s 0us/step\n",
            "87924736/87910968 [==============================] - 1s 0us/step\n",
            "Epoch 1/10\n",
            "140/140 [==============================] - 286s 2s/step - loss: 6.3859 - accuracy: 0.5173 - val_loss: 3.8128 - val_accuracy: 0.5688 - _timestamp: 1648584784.0000 - _runtime: 299.0000\n",
            "Epoch 2/10\n",
            "140/140 [==============================] - 264s 2s/step - loss: 3.4312 - accuracy: 0.6042 - val_loss: 4.4563 - val_accuracy: 0.5906 - _timestamp: 1648585089.0000 - _runtime: 604.0000\n",
            "Epoch 3/10\n",
            "140/140 [==============================] - 258s 2s/step - loss: 3.5716 - accuracy: 0.6280 - val_loss: 5.0727 - val_accuracy: 0.5865 - _timestamp: 1648585348.0000 - _runtime: 863.0000\n",
            "Epoch 4/10\n",
            "140/140 [==============================] - 253s 2s/step - loss: 3.7088 - accuracy: 0.6387 - val_loss: 4.3745 - val_accuracy: 0.6240 - _timestamp: 1648585600.0000 - _runtime: 1115.0000\n",
            "Epoch 5/10\n",
            "140/140 [==============================] - 252s 2s/step - loss: 4.1143 - accuracy: 0.6416 - val_loss: 4.3744 - val_accuracy: 0.6302 - _timestamp: 1648585861.0000 - _runtime: 1376.0000\n",
            "Epoch 6/10\n",
            "140/140 [==============================] - 250s 2s/step - loss: 3.8386 - accuracy: 0.6652 - val_loss: 4.9763 - val_accuracy: 0.6094 - _timestamp: 1648586122.0000 - _runtime: 1637.0000\n",
            "Epoch 7/10\n",
            "140/140 [==============================] - 249s 2s/step - loss: 4.1125 - accuracy: 0.6537 - val_loss: 5.3639 - val_accuracy: 0.6177 - _timestamp: 1648586371.0000 - _runtime: 1886.0000\n",
            "Epoch 8/10\n",
            "140/140 [==============================] - 249s 2s/step - loss: 4.1750 - accuracy: 0.6664 - val_loss: 6.8411 - val_accuracy: 0.5771 - _timestamp: 1648586620.0000 - _runtime: 2135.0000\n",
            "Epoch 9/10\n",
            "124/140 [=========================>....] - ETA: 25s - loss: 4.1195 - accuracy: 0.6701"
          ]
        }
      ]
    }
  ]
}