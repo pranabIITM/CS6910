{
  "cells": [
    {
      "cell_type": "markdown",
      "metadata": {
        "id": "nPMlcu_o3Up4"
      },
      "source": [
        "Import the data"
      ]
    },
    {
      "cell_type": "code",
      "execution_count": 1,
      "metadata": {
        "colab": {
          "base_uri": "https://localhost:8080/"
        },
        "id": "dyNmdRAX04Hq",
        "outputId": "6bca0e33-34de-415c-c1b4-95ff38a1b568"
      },
      "outputs": [
        {
          "output_type": "stream",
          "name": "stdout",
          "text": [
            "Mounted at /content/gdrive\n",
            "train  val\n"
          ]
        }
      ],
      "source": [
        "from google.colab import drive\n",
        "drive.mount('/content/gdrive')\n",
        "!ls \"/content/gdrive/My Drive/inaturalist_12K\""
      ]
    },
    {
      "cell_type": "markdown",
      "metadata": {
        "id": "5ahVoUcS3f9V"
      },
      "source": [
        "Install the dependencies"
      ]
    },
    {
      "cell_type": "code",
      "execution_count": null,
      "metadata": {
        "id": "G91KFAFgzLB2"
      },
      "outputs": [],
      "source": [
        "!pip install wandb"
      ]
    },
    {
      "cell_type": "markdown",
      "metadata": {
        "id": "SUTJogYm3ukX"
      },
      "source": [
        "Import the libraries"
      ]
    },
    {
      "cell_type": "code",
      "execution_count": 9,
      "metadata": {
        "id": "aGdM4uzo2Qrx"
      },
      "outputs": [],
      "source": [
        "import tensorflow as tf\n",
        "from tensorflow import keras\n",
        "import numpy as np\n",
        "import math\n",
        "import matplotlib.pyplot as plt"
      ]
    },
    {
      "cell_type": "code",
      "execution_count": 10,
      "metadata": {
        "id": "oEyE0uNg2SU7"
      },
      "outputs": [],
      "source": [
        "from keras.layers import Dense, Flatten\n",
        "from keras.models import Model\n",
        "from keras.preprocessing.image import ImageDataGenerator"
      ]
    },
    {
      "cell_type": "code",
      "execution_count": 11,
      "metadata": {
        "id": "M_12KInPS8eR"
      },
      "outputs": [],
      "source": [
        "physical_devices = tf.config.list_physical_devices('GPU')\n",
        "tf.config.experimental.set_memory_growth(physical_devices[0], enable = True)"
      ]
    },
    {
      "cell_type": "markdown",
      "metadata": {
        "id": "nOHcn6xy323h"
      },
      "source": [
        "Setup to wandb"
      ]
    },
    {
      "cell_type": "code",
      "execution_count": 6,
      "metadata": {
        "id": "jHC6eKzHQWOa"
      },
      "outputs": [],
      "source": [
        "import wandb\n",
        "from wandb.keras import WandbCallback"
      ]
    },
    {
      "cell_type": "code",
      "execution_count": 7,
      "metadata": {
        "colab": {
          "base_uri": "https://localhost:8080/",
          "height": 107
        },
        "id": "bBBSGqH_1WMz",
        "outputId": "bbea23f4-d8b1-45f0-9a44-c7ff59d23d9d"
      },
      "outputs": [
        {
          "output_type": "display_data",
          "data": {
            "text/plain": [
              "<IPython.core.display.Javascript object>"
            ],
            "application/javascript": [
              "\n",
              "        window._wandbApiKey = new Promise((resolve, reject) => {\n",
              "            function loadScript(url) {\n",
              "            return new Promise(function(resolve, reject) {\n",
              "                let newScript = document.createElement(\"script\");\n",
              "                newScript.onerror = reject;\n",
              "                newScript.onload = resolve;\n",
              "                document.body.appendChild(newScript);\n",
              "                newScript.src = url;\n",
              "            });\n",
              "            }\n",
              "            loadScript(\"https://cdn.jsdelivr.net/npm/postmate/build/postmate.min.js\").then(() => {\n",
              "            const iframe = document.createElement('iframe')\n",
              "            iframe.style.cssText = \"width:0;height:0;border:none\"\n",
              "            document.body.appendChild(iframe)\n",
              "            const handshake = new Postmate({\n",
              "                container: iframe,\n",
              "                url: 'https://wandb.ai/authorize'\n",
              "            });\n",
              "            const timeout = setTimeout(() => reject(\"Couldn't auto authenticate\"), 5000)\n",
              "            handshake.then(function(child) {\n",
              "                child.on('authorize', data => {\n",
              "                    clearTimeout(timeout)\n",
              "                    resolve(data)\n",
              "                });\n",
              "            });\n",
              "            })\n",
              "        });\n",
              "    "
            ]
          },
          "metadata": {}
        },
        {
          "output_type": "stream",
          "name": "stderr",
          "text": [
            "\u001b[34m\u001b[1mwandb\u001b[0m: You can find your API key in your browser here: https://wandb.ai/authorize\n"
          ]
        },
        {
          "name": "stdout",
          "output_type": "stream",
          "text": [
            "wandb: Paste an API key from your profile and hit enter, or press ctrl+c to quit: ··········\n"
          ]
        },
        {
          "output_type": "stream",
          "name": "stderr",
          "text": [
            "\u001b[34m\u001b[1mwandb\u001b[0m: Appending key for api.wandb.ai to your netrc file: /root/.netrc\n"
          ]
        },
        {
          "output_type": "execute_result",
          "data": {
            "text/plain": [
              "True"
            ]
          },
          "metadata": {},
          "execution_count": 7
        }
      ],
      "source": [
        "wandb.login()"
      ]
    },
    {
      "cell_type": "markdown",
      "metadata": {
        "id": "ykmKvErw4CZd"
      },
      "source": [
        "Preprocess the data"
      ]
    },
    {
      "cell_type": "code",
      "execution_count": 22,
      "metadata": {
        "id": "qZwTP-4Stzsq"
      },
      "outputs": [],
      "source": [
        "def dataProcess(batch_size = 32, data_aug = True, image_size = [299,299]):\n",
        "\n",
        "    # data augmentation\n",
        "    if(data_aug):\n",
        "        train_datagen = ImageDataGenerator(\n",
        "            rescale = 1./255,\n",
        "            rotation_range = 90,\n",
        "            shear_range = 0.2,\n",
        "            zoom_range = 0.2,\n",
        "            validation_split = 0.1,\n",
        "            horizontal_flip = True)\n",
        "    else:\n",
        "        train_datagen = ImageDataGenerator( rescale = 1./255, validation_split = 0.1)\n",
        "\n",
        "    test_datagen = ImageDataGenerator(rescale = 1./255)\n",
        "\n",
        "    # generate train dataset\n",
        "    train_generator = train_datagen.flow_from_directory(\n",
        "        train_path,\n",
        "        subset='training',\n",
        "        target_size = image_size,\n",
        "        batch_size = batch_size,\n",
        "        class_mode = 'categorical',\n",
        "        shuffle = True,\n",
        "        seed = 45)\n",
        "\n",
        "    # generate validation dataset\n",
        "    val_generator = train_datagen.flow_from_directory(\n",
        "        train_path,\n",
        "        subset = 'validation',\n",
        "        target_size = image_size,\n",
        "        batch_size = batch_size,\n",
        "        class_mode = 'categorical',\n",
        "        shuffle = True,\n",
        "        seed = 45)\n",
        "\n",
        "    # generate test dataset\n",
        "    test_generator = test_datagen.flow_from_directory(\n",
        "        val_path,\n",
        "        target_size = image_size,\n",
        "        batch_size = batch_size,\n",
        "        class_mode = 'categorical')\n",
        "\n",
        "    '''\n",
        "    class_names = ['Amphibia', 'Animalia', 'Arachnida', 'Aves', 'Fungi',\n",
        "               'Insecta', 'Mammalia', 'Mollusca', 'Plantae', 'Reptilia']\n",
        "    plt.figure(figsize=(10, 10))\n",
        "    images, labels = val_generator.next()\n",
        "    for i in range(9):\n",
        "        ax = plt.subplot(3, 3, i + 1)\n",
        "        plt.imshow(images[i])\n",
        "        plt.title(class_names[np.where(labels[i] == 1)[0][0]])\n",
        "        plt.axis(\"off\")\n",
        "    plt.show()\n",
        "    '''\n",
        "    return train_generator, val_generator, test_generator"
      ]
    },
    {
      "cell_type": "markdown",
      "metadata": {
        "id": "q5wkNDxr9VyD"
      },
      "source": [
        "Prepare the pre-trained model for our usage"
      ]
    },
    {
      "cell_type": "code",
      "execution_count": 24,
      "metadata": {
        "id": "h93TfQHg4wgC"
      },
      "outputs": [],
      "source": [
        "def buildModel(pre_trained_model = 'InceptionV3',optimizer = 'adam', lr = 0.0001, image_size = [299,299], freeze = 0.9):\n",
        "    print(\"image_size = \",image_size)\n",
        "    # prepare the pre-trained model excluding the last layer\n",
        "    if pre_trained_model == 'InceptionV3':\n",
        "        pre_model = keras.applications.InceptionV3(input_shape = image_size + [3], weights = 'imagenet', include_top = False)\n",
        "    if pre_trained_model == 'InceptionResNetV2':\n",
        "        pre_model = keras.applications.InceptionResNetV2(input_shape = image_size + [3], weights = 'imagenet', include_top = False)\n",
        "    if pre_trained_model == 'ResNet50':\n",
        "        pre_model = keras.applications.ResNet50(input_shape = image_size + [3], weights = 'imagenet', include_top = False)\n",
        "    if pre_trained_model == 'Xception':\n",
        "        pre_model = keras.applications.Xception(input_shape = image_size + [3], weights = 'imagenet', include_top = False)\n",
        "    \n",
        "    '''\n",
        "    # keep the trained weights of the pre trained model same\n",
        "    for layer in pre_model.layers:\n",
        "        layer.trainable = False\n",
        "    '''\n",
        "\n",
        "    # fine tuning the model\n",
        "    k = len(pre_model.layers)\n",
        "    upto = math.ceil(k*freeze)\n",
        "    for i in range(upto):\n",
        "        pre_model.layers[i] = False\n",
        "    \n",
        "    import os\n",
        "    numberOfClasses = len(next(os.walk(train_path))[1])\n",
        "\n",
        "    # flatten the last layer\n",
        "    x = Flatten()(pre_model.output)\n",
        "    # add output layer\n",
        "    prediction = Dense(numberOfClasses, activation='softmax')(x)\n",
        "\n",
        "    # create final model\n",
        "    model = Model(inputs = pre_model.input, outputs = prediction)\n",
        "    if optimizer == 'adam':\n",
        "        opt = keras.optimizers.Adam(learning_rate = lr)\n",
        "    if optimizer == 'adamax':\n",
        "        opt = keras.optimizers.Adamax(learning_rate = lr)\n",
        "    if optimizer == 'rmsprop':\n",
        "        opt = keras.optimizers.RMSprop(learning_rate = lr)\n",
        "\n",
        "    model.compile(optimizer = opt, \n",
        "                  loss = 'categorical_crossentropy', \n",
        "                  metrics = ['accuracy']\n",
        "                  )\n",
        "    return model"
      ]
    },
    {
      "cell_type": "markdown",
      "metadata": {
        "id": "jexhnkPC4HBM"
      },
      "source": [
        "Sweep configurations"
      ]
    },
    {
      "cell_type": "code",
      "execution_count": 14,
      "metadata": {
        "id": "APRRig72zA-5"
      },
      "outputs": [],
      "source": [
        "sweep_config = {\n",
        "    'method' : 'random', \n",
        "    'metric' : {\n",
        "        'name': 'val_accuracy',\n",
        "        'goal': 'maximize'   \n",
        "        },\n",
        "    'parameters' : {\n",
        "        'epochs': {'values' : [5,10]},\n",
        "        'model' : {'values' : ['InceptionV3','InceptionResNetV2','ResNet50','Xception']},\n",
        "        'optimizer' : {'values' : ['rmsprop','adam', 'adamax']},\n",
        "        'batch_size' : {'values' : [16,32,64]},\n",
        "        'lr' : {'values' : [1e-4,1e-5]},\n",
        "        'data_aug' : {'values' : [True,False]},\n",
        "        'freeze' : {'values' : [0.6,0.7,0.8,0.9,1]}\n",
        "    }\n",
        "}"
      ]
    },
    {
      "cell_type": "markdown",
      "metadata": {
        "id": "B5yKJLYLAfFe"
      },
      "source": [
        "Train the model"
      ]
    },
    {
      "cell_type": "code",
      "execution_count": 15,
      "metadata": {
        "id": "YrbxRKtUzFZo"
      },
      "outputs": [],
      "source": [
        "def train():\n",
        "    config_defaults = {\n",
        "        \"epochs\" : 5,\n",
        "        \"model\" : 'InceptionV3',\n",
        "        \"optimizer\" : 'adamax',\n",
        "        \"batch_size\" : 32,\n",
        "        \"lr\" : 0.0001,\n",
        "        \"data_aug\" : True,\n",
        "        \"freeze\" : 0.9\n",
        "    }\n",
        "\n",
        "    wandb.init(config = config_defaults,name = \"CS6910-A2-P_A\")\n",
        "    config = wandb.config\n",
        "    wandb.run.name = \"epochs_{}_model_{}_opt_{}_bs_{}_lr_{}_da_{}\".format(config.epochs,\\\n",
        "                                                                          config.model,\\\n",
        "                                                                          config.optimizer,\\\n",
        "                                                                          config.batch_size,\\\n",
        "                                                                          config.lr,\\\n",
        "                                                                          config.data_aug\n",
        "                                                                          )\n",
        "    wandb.run.save()\n",
        "\n",
        "    # resize the images as per the pre trained model\n",
        "    image_size = [299,299]\n",
        "    if config.model == 'ResNet50' :\n",
        "        image_size = [224,224]\n",
        "\n",
        "    # process the data\n",
        "    train_set, val_set, test_set = dataProcess(config.batch_size, config.data_aug, image_size)\n",
        "\n",
        "    # build model \n",
        "    model = buildModel(config.model, config.optimizer, config.lr, image_size)\n",
        "\n",
        "    # train the model\n",
        "    trained_model = model.fit(train_set,\n",
        "                              steps_per_epoch = train_set.samples // config.batch_size,\n",
        "                              validation_data = val_set, \n",
        "                              validation_steps = val_set.samples // config.batch_size,\n",
        "                              epochs = config.epochs,\n",
        "                              callbacks=[WandbCallback(monitor='val_accuracy',mode='max')]\n",
        "                            )\n",
        "\n",
        "    # evaluate the model\n",
        "    model.evaluate(test_set,\n",
        "                   batch_size = config.batch_size,\n",
        "                   callbacks=[WandbCallback()]\n",
        "                  )\n",
        "\n",
        "    wandb.finish()\n",
        "    return model, trained_model"
      ]
    },
    {
      "cell_type": "code",
      "execution_count": 16,
      "metadata": {
        "id": "WtYJr6nR2t94"
      },
      "outputs": [],
      "source": [
        "train_path = '/content/gdrive/My Drive/inaturalist_12K/train'\n",
        "val_path = '/content/gdrive/My Drive/inaturalist_12K/val'\n"
      ]
    },
    {
      "cell_type": "code",
      "execution_count": null,
      "metadata": {
        "colab": {
          "base_uri": "https://localhost:8080/"
        },
        "id": "shBe5XmR15Xr",
        "outputId": "023cf794-f0c5-43e9-f4e5-1eb6cee17ad2"
      },
      "outputs": [
        {
          "name": "stdout",
          "output_type": "stream",
          "text": [
            "Create sweep with ID: piql1umf\n",
            "Sweep URL: https://wandb.ai/pandp/cs6910-As-2/sweeps/piql1umf\n"
          ]
        }
      ],
      "source": [
        "#sweep_id = wandb.sweep(sweep_config,project = 'cs6910-As-2')"
      ]
    },
    {
      "cell_type": "code",
      "execution_count": null,
      "metadata": {
        "colab": {
          "base_uri": "https://localhost:8080/",
          "height": 1000,
          "referenced_widgets": [
            "ccda7aaf64224dfab88b1a43ba4ba7cb",
            "074666d2bbd342c38c58e76f3ef07473",
            "62221c239557446fab34cb3e7229bd4f",
            "9f9661cf593f4cffaa62f4354b266a15",
            "a159106536554ba7bcde0d364527297b",
            "86697f7d1e914a4d9e0247642de95841",
            "fcc27fbb71004ccd9011366a0c70dc78",
            "e6a4875ca4cc4bbd81241217f6999473",
            "fcfc51913d4e492d9ba0b916709e9960",
            "e445809fb3724aed9bad6705433dde79",
            "c2b2ca82f14343739ecaa690689fbc75",
            "79e085b66c60414080012b8a1b690daa",
            "c3c80104516e4e9ca0204de8d8982f55",
            "212fba5b07a34e5a9db3c25579722804",
            "8c0e6866d4104e238e6c430852a0a173",
            "e06af5d9ee8b44f289cadbff6d070a62",
            "4956b54412d942bcad85b0d4ccf7a964",
            "8c78903b9c284526b2ed0a6d97c3ea84",
            "2ef45a744934471da594192d04abd502",
            "a96ab168cda1413291eec881310cf793",
            "efaaeebce75644de913e1814af859561",
            "d85329c5b8db4a12b613cc587a6a4238",
            "fc0f95ec13c548baac48f45d64f9fe6c",
            "480ebc8434644ef8ad875e543d17f3a9"
          ]
        },
        "id": "hNbBo--r18cX",
        "outputId": "7b218f7c-e3f0-4fbf-b4a7-1bd7ac1354dc"
      },
      "outputs": [
        {
          "output_type": "stream",
          "name": "stderr",
          "text": [
            "\u001b[34m\u001b[1mwandb\u001b[0m: Agent Starting Run: plubogvc with config:\n",
            "\u001b[34m\u001b[1mwandb\u001b[0m: \tbatch_size: 32\n",
            "\u001b[34m\u001b[1mwandb\u001b[0m: \tdata_aug: False\n",
            "\u001b[34m\u001b[1mwandb\u001b[0m: \tepochs: 5\n",
            "\u001b[34m\u001b[1mwandb\u001b[0m: \tlr: 1e-05\n",
            "\u001b[34m\u001b[1mwandb\u001b[0m: \tmodel: InceptionV3\n",
            "\u001b[34m\u001b[1mwandb\u001b[0m: \toptimizer: rmsprop\n"
          ]
        },
        {
          "output_type": "display_data",
          "data": {
            "text/plain": [
              "<IPython.core.display.HTML object>"
            ],
            "text/html": [
              "Tracking run with wandb version 0.12.11"
            ]
          },
          "metadata": {}
        },
        {
          "output_type": "display_data",
          "data": {
            "text/plain": [
              "<IPython.core.display.HTML object>"
            ],
            "text/html": [
              "Run data is saved locally in <code>/content/wandb/run-20220401_190453-plubogvc</code>"
            ]
          },
          "metadata": {}
        },
        {
          "output_type": "display_data",
          "data": {
            "text/plain": [
              "<IPython.core.display.HTML object>"
            ],
            "text/html": [
              "Syncing run <strong><a href=\"https://wandb.ai/pandp/cs6910-As-2/runs/plubogvc\" target=\"_blank\">CS6910-A2-P_A</a></strong> to <a href=\"https://wandb.ai/pandp/cs6910-As-2\" target=\"_blank\">Weights & Biases</a> (<a href=\"https://wandb.me/run\" target=\"_blank\">docs</a>)<br/>Sweep page:  <a href=\"https://wandb.ai/pandp/cs6910-As-2/sweeps/piql1umf\" target=\"_blank\">https://wandb.ai/pandp/cs6910-As-2/sweeps/piql1umf</a>"
            ]
          },
          "metadata": {}
        },
        {
          "output_type": "stream",
          "name": "stdout",
          "text": [
            "Found 9018 images belonging to 10 classes.\n",
            "Found 1000 images belonging to 10 classes.\n",
            "Found 2000 images belonging to 10 classes.\n",
            "image_size =  [299, 299]\n",
            "Downloading data from https://storage.googleapis.com/tensorflow/keras-applications/inception_v3/inception_v3_weights_tf_dim_ordering_tf_kernels_notop.h5\n",
            "87916544/87910968 [==============================] - 2s 0us/step\n",
            "87924736/87910968 [==============================] - 2s 0us/step\n",
            "Epoch 1/5\n",
            "281/281 [==============================] - 1264s 4s/step - loss: 1.1362 - accuracy: 0.6551 - val_loss: 0.7497 - val_accuracy: 0.7692 - _timestamp: 1648841166.0000 - _runtime: 1273.0000\n",
            "Epoch 2/5\n",
            "281/281 [==============================] - 192s 684ms/step - loss: 0.6087 - accuracy: 0.8164 - val_loss: 0.6683 - val_accuracy: 0.8004 - _timestamp: 1648841382.0000 - _runtime: 1489.0000\n",
            "Epoch 3/5\n",
            "281/281 [==============================] - 190s 674ms/step - loss: 0.4612 - accuracy: 0.8580 - val_loss: 0.6408 - val_accuracy: 0.7994 - _timestamp: 1648841573.0000 - _runtime: 1680.0000\n",
            "Epoch 4/5\n",
            "281/281 [==============================] - 187s 665ms/step - loss: 0.3613 - accuracy: 0.8947 - val_loss: 0.6114 - val_accuracy: 0.8044 - _timestamp: 1648841771.0000 - _runtime: 1878.0000\n",
            "Epoch 5/5\n",
            "281/281 [==============================] - 188s 669ms/step - loss: 0.2795 - accuracy: 0.9237 - val_loss: 0.6141 - val_accuracy: 0.8024 - _timestamp: 1648841975.0000 - _runtime: 2082.0000\n",
            "63/63 [==============================] - 562s 9s/step - loss: 0.6121 - accuracy: 0.8170\n",
            "\n"
          ]
        },
        {
          "output_type": "display_data",
          "data": {
            "text/plain": [
              "<IPython.core.display.HTML object>"
            ],
            "text/html": [
              "Waiting for W&B process to finish... <strong style=\"color:green\">(success).</strong>"
            ]
          },
          "metadata": {}
        },
        {
          "output_type": "display_data",
          "data": {
            "text/plain": [
              "VBox(children=(Label(value='94.066 MB of 94.066 MB uploaded (0.000 MB deduped)\\r'), FloatProgress(value=1.0, m…"
            ],
            "application/vnd.jupyter.widget-view+json": {
              "version_major": 2,
              "version_minor": 0,
              "model_id": "ccda7aaf64224dfab88b1a43ba4ba7cb"
            }
          },
          "metadata": {}
        },
        {
          "output_type": "display_data",
          "data": {
            "text/plain": [
              "<IPython.core.display.HTML object>"
            ],
            "text/html": [
              "<style>\n",
              "    table.wandb td:nth-child(1) { padding: 0 10px; text-align: right }\n",
              "    .wandb-row { display: flex; flex-direction: row; flex-wrap: wrap; width: 100% }\n",
              "    .wandb-col { display: flex; flex-direction: column; flex-basis: 100%; flex: 1; padding: 10px; }\n",
              "    </style>\n",
              "<div class=\"wandb-row\"><div class=\"wandb-col\"><h3>Run history:</h3><br/><table class=\"wandb\"><tr><td>accuracy</td><td>▁▅▆▇█</td></tr><tr><td>epoch</td><td>▁▃▅▆█</td></tr><tr><td>loss</td><td>█▄▂▂▁</td></tr><tr><td>val_accuracy</td><td>▁▇▇██</td></tr><tr><td>val_loss</td><td>█▄▂▁▁</td></tr></table><br/></div><div class=\"wandb-col\"><h3>Run summary:</h3><br/><table class=\"wandb\"><tr><td>accuracy</td><td>0.92366</td></tr><tr><td>best_epoch</td><td>3</td></tr><tr><td>best_val_accuracy</td><td>0.80444</td></tr><tr><td>epoch</td><td>4</td></tr><tr><td>loss</td><td>0.27953</td></tr><tr><td>val_accuracy</td><td>0.80242</td></tr><tr><td>val_loss</td><td>0.61413</td></tr></table><br/></div></div>"
            ]
          },
          "metadata": {}
        },
        {
          "output_type": "display_data",
          "data": {
            "text/plain": [
              "<IPython.core.display.HTML object>"
            ],
            "text/html": [
              "Synced <strong style=\"color:#cdcd00\">CS6910-A2-P_A</strong>: <a href=\"https://wandb.ai/pandp/cs6910-As-2/runs/plubogvc\" target=\"_blank\">https://wandb.ai/pandp/cs6910-As-2/runs/plubogvc</a><br/>Synced 5 W&B file(s), 1 media file(s), 0 artifact file(s) and 1 other file(s)"
            ]
          },
          "metadata": {}
        },
        {
          "output_type": "display_data",
          "data": {
            "text/plain": [
              "<IPython.core.display.HTML object>"
            ],
            "text/html": [
              "Find logs at: <code>./wandb/run-20220401_190453-plubogvc/logs</code>"
            ]
          },
          "metadata": {}
        },
        {
          "output_type": "stream",
          "name": "stderr",
          "text": [
            "\u001b[34m\u001b[1mwandb\u001b[0m: Agent Starting Run: 6tkx1zi0 with config:\n",
            "\u001b[34m\u001b[1mwandb\u001b[0m: \tbatch_size: 16\n",
            "\u001b[34m\u001b[1mwandb\u001b[0m: \tdata_aug: True\n",
            "\u001b[34m\u001b[1mwandb\u001b[0m: \tepochs: 5\n",
            "\u001b[34m\u001b[1mwandb\u001b[0m: \tlr: 1e-05\n",
            "\u001b[34m\u001b[1mwandb\u001b[0m: \tmodel: ResNet50\n",
            "\u001b[34m\u001b[1mwandb\u001b[0m: \toptimizer: adamax\n"
          ]
        },
        {
          "output_type": "display_data",
          "data": {
            "text/plain": [
              "<IPython.core.display.HTML object>"
            ],
            "text/html": [
              "Tracking run with wandb version 0.12.11"
            ]
          },
          "metadata": {}
        },
        {
          "output_type": "display_data",
          "data": {
            "text/plain": [
              "<IPython.core.display.HTML object>"
            ],
            "text/html": [
              "Run data is saved locally in <code>/content/wandb/run-20220401_194929-6tkx1zi0</code>"
            ]
          },
          "metadata": {}
        },
        {
          "output_type": "display_data",
          "data": {
            "text/plain": [
              "<IPython.core.display.HTML object>"
            ],
            "text/html": [
              "Syncing run <strong><a href=\"https://wandb.ai/pandp/cs6910-As-2/runs/6tkx1zi0\" target=\"_blank\">CS6910-A2-P_A</a></strong> to <a href=\"https://wandb.ai/pandp/cs6910-As-2\" target=\"_blank\">Weights & Biases</a> (<a href=\"https://wandb.me/run\" target=\"_blank\">docs</a>)<br/>Sweep page:  <a href=\"https://wandb.ai/pandp/cs6910-As-2/sweeps/piql1umf\" target=\"_blank\">https://wandb.ai/pandp/cs6910-As-2/sweeps/piql1umf</a>"
            ]
          },
          "metadata": {}
        },
        {
          "output_type": "stream",
          "name": "stdout",
          "text": [
            "Found 9018 images belonging to 10 classes.\n",
            "Found 1000 images belonging to 10 classes.\n",
            "Found 2000 images belonging to 10 classes.\n",
            "image_size =  [224, 224]\n",
            "Downloading data from https://storage.googleapis.com/tensorflow/keras-applications/resnet/resnet50_weights_tf_dim_ordering_tf_kernels_notop.h5\n",
            "94773248/94765736 [==============================] - 1s 0us/step\n",
            "94781440/94765736 [==============================] - 1s 0us/step\n",
            "Epoch 1/5\n",
            "563/563 [==============================] - 297s 519ms/step - loss: 2.2962 - accuracy: 0.1273 - val_loss: 2.2765 - val_accuracy: 0.1583 - _timestamp: 1648842877.0000 - _runtime: 308.0000\n",
            "Epoch 2/5\n",
            "563/563 [==============================] - 282s 501ms/step - loss: 2.2750 - accuracy: 0.1395 - val_loss: 2.2640 - val_accuracy: 0.1552 - _timestamp: 1648843160.0000 - _runtime: 591.0000\n",
            "Epoch 3/5\n",
            "563/563 [==============================] - 281s 499ms/step - loss: 2.2605 - accuracy: 0.1569 - val_loss: 2.2612 - val_accuracy: 0.1663 - _timestamp: 1648843480.0000 - _runtime: 911.0000\n",
            "Epoch 4/5\n",
            "563/563 [==============================] - 281s 499ms/step - loss: 2.2536 - accuracy: 0.1567 - val_loss: 2.2432 - val_accuracy: 0.1603 - _timestamp: 1648843762.0000 - _runtime: 1193.0000\n",
            "Epoch 5/5\n",
            "563/563 [==============================] - 280s 497ms/step - loss: 2.2454 - accuracy: 0.1659 - val_loss: 2.2395 - val_accuracy: 0.1794 - _timestamp: 1648844082.0000 - _runtime: 1513.0000\n",
            "125/125 [==============================] - 37s 296ms/step - loss: 2.2247 - accuracy: 0.1990\n",
            "\n"
          ]
        },
        {
          "output_type": "display_data",
          "data": {
            "text/plain": [
              "<IPython.core.display.HTML object>"
            ],
            "text/html": [
              "Waiting for W&B process to finish... <strong style=\"color:green\">(success).</strong>"
            ]
          },
          "metadata": {}
        },
        {
          "output_type": "display_data",
          "data": {
            "text/plain": [
              "VBox(children=(Label(value='102.005 MB of 102.005 MB uploaded (0.000 MB deduped)\\r'), FloatProgress(value=1.0,…"
            ],
            "application/vnd.jupyter.widget-view+json": {
              "version_major": 2,
              "version_minor": 0,
              "model_id": "fcfc51913d4e492d9ba0b916709e9960"
            }
          },
          "metadata": {}
        },
        {
          "output_type": "display_data",
          "data": {
            "text/plain": [
              "<IPython.core.display.HTML object>"
            ],
            "text/html": [
              "<style>\n",
              "    table.wandb td:nth-child(1) { padding: 0 10px; text-align: right }\n",
              "    .wandb-row { display: flex; flex-direction: row; flex-wrap: wrap; width: 100% }\n",
              "    .wandb-col { display: flex; flex-direction: column; flex-basis: 100%; flex: 1; padding: 10px; }\n",
              "    </style>\n",
              "<div class=\"wandb-row\"><div class=\"wandb-col\"><h3>Run history:</h3><br/><table class=\"wandb\"><tr><td>accuracy</td><td>▁▃▆▆█</td></tr><tr><td>epoch</td><td>▁▃▅▆█</td></tr><tr><td>loss</td><td>█▅▃▂▁</td></tr><tr><td>val_accuracy</td><td>▂▁▄▂█</td></tr><tr><td>val_loss</td><td>█▆▅▂▁</td></tr></table><br/></div><div class=\"wandb-col\"><h3>Run summary:</h3><br/><table class=\"wandb\"><tr><td>accuracy</td><td>0.16585</td></tr><tr><td>best_epoch</td><td>4</td></tr><tr><td>best_val_accuracy</td><td>0.17944</td></tr><tr><td>epoch</td><td>4</td></tr><tr><td>loss</td><td>2.24542</td></tr><tr><td>val_accuracy</td><td>0.17944</td></tr><tr><td>val_loss</td><td>2.23951</td></tr></table><br/></div></div>"
            ]
          },
          "metadata": {}
        },
        {
          "output_type": "display_data",
          "data": {
            "text/plain": [
              "<IPython.core.display.HTML object>"
            ],
            "text/html": [
              "Synced <strong style=\"color:#cdcd00\">CS6910-A2-P_A</strong>: <a href=\"https://wandb.ai/pandp/cs6910-As-2/runs/6tkx1zi0\" target=\"_blank\">https://wandb.ai/pandp/cs6910-As-2/runs/6tkx1zi0</a><br/>Synced 5 W&B file(s), 1 media file(s), 0 artifact file(s) and 1 other file(s)"
            ]
          },
          "metadata": {}
        },
        {
          "output_type": "display_data",
          "data": {
            "text/plain": [
              "<IPython.core.display.HTML object>"
            ],
            "text/html": [
              "Find logs at: <code>./wandb/run-20220401_194929-6tkx1zi0/logs</code>"
            ]
          },
          "metadata": {}
        },
        {
          "output_type": "stream",
          "name": "stderr",
          "text": [
            "\u001b[34m\u001b[1mwandb\u001b[0m: Agent Starting Run: dj5il4mu with config:\n",
            "\u001b[34m\u001b[1mwandb\u001b[0m: \tbatch_size: 32\n",
            "\u001b[34m\u001b[1mwandb\u001b[0m: \tdata_aug: True\n",
            "\u001b[34m\u001b[1mwandb\u001b[0m: \tepochs: 5\n",
            "\u001b[34m\u001b[1mwandb\u001b[0m: \tlr: 1e-05\n",
            "\u001b[34m\u001b[1mwandb\u001b[0m: \tmodel: InceptionResNetV2\n",
            "\u001b[34m\u001b[1mwandb\u001b[0m: \toptimizer: rmsprop\n"
          ]
        },
        {
          "output_type": "display_data",
          "data": {
            "text/plain": [
              "<IPython.core.display.HTML object>"
            ],
            "text/html": [
              "Tracking run with wandb version 0.12.11"
            ]
          },
          "metadata": {}
        },
        {
          "output_type": "display_data",
          "data": {
            "text/plain": [
              "<IPython.core.display.HTML object>"
            ],
            "text/html": [
              "Run data is saved locally in <code>/content/wandb/run-20220401_201530-dj5il4mu</code>"
            ]
          },
          "metadata": {}
        },
        {
          "output_type": "display_data",
          "data": {
            "text/plain": [
              "<IPython.core.display.HTML object>"
            ],
            "text/html": [
              "Syncing run <strong><a href=\"https://wandb.ai/pandp/cs6910-As-2/runs/dj5il4mu\" target=\"_blank\">CS6910-A2-P_A</a></strong> to <a href=\"https://wandb.ai/pandp/cs6910-As-2\" target=\"_blank\">Weights & Biases</a> (<a href=\"https://wandb.me/run\" target=\"_blank\">docs</a>)<br/>Sweep page:  <a href=\"https://wandb.ai/pandp/cs6910-As-2/sweeps/piql1umf\" target=\"_blank\">https://wandb.ai/pandp/cs6910-As-2/sweeps/piql1umf</a>"
            ]
          },
          "metadata": {}
        },
        {
          "output_type": "stream",
          "name": "stdout",
          "text": [
            "Found 9018 images belonging to 10 classes.\n",
            "Found 1000 images belonging to 10 classes.\n",
            "Found 2000 images belonging to 10 classes.\n",
            "image_size =  [299, 299]\n",
            "Epoch 1/5\n",
            "281/281 [==============================] - 443s 2s/step - loss: 1.2573 - accuracy: 0.6174 - val_loss: 0.8936 - val_accuracy: 0.7278 - _timestamp: 1648844584.0000 - _runtime: 454.0000\n",
            "Epoch 2/5\n",
            "281/281 [==============================] - 419s 1s/step - loss: 0.8461 - accuracy: 0.7422 - val_loss: 0.8440 - val_accuracy: 0.7409 - _timestamp: 1648845004.0000 - _runtime: 874.0000\n",
            "Epoch 3/5\n",
            "281/281 [==============================] - 427s 2s/step - loss: 0.7686 - accuracy: 0.7647 - val_loss: 0.7882 - val_accuracy: 0.7571 - _timestamp: 1648845430.0000 - _runtime: 1300.0000\n",
            "Epoch 4/5\n",
            "281/281 [==============================] - 426s 2s/step - loss: 0.7228 - accuracy: 0.7746 - val_loss: 0.7635 - val_accuracy: 0.7692 - _timestamp: 1648845872.0000 - _runtime: 1742.0000\n",
            "Epoch 5/5\n",
            "281/281 [==============================] - 419s 1s/step - loss: 0.6900 - accuracy: 0.7864 - val_loss: 0.7808 - val_accuracy: 0.7591 - _timestamp: 1648846292.0000 - _runtime: 2162.0000\n",
            "63/63 [==============================] - 58s 903ms/step - loss: 0.5611 - accuracy: 0.8365\n",
            "\n"
          ]
        },
        {
          "output_type": "display_data",
          "data": {
            "text/plain": [
              "<IPython.core.display.HTML object>"
            ],
            "text/html": [
              "Waiting for W&B process to finish... <strong style=\"color:green\">(success).</strong>"
            ]
          },
          "metadata": {}
        },
        {
          "output_type": "display_data",
          "data": {
            "text/plain": [
              "VBox(children=(Label(value='216.916 MB of 216.916 MB uploaded (0.000 MB deduped)\\r'), FloatProgress(value=1.0,…"
            ],
            "application/vnd.jupyter.widget-view+json": {
              "version_major": 2,
              "version_minor": 0,
              "model_id": "4956b54412d942bcad85b0d4ccf7a964"
            }
          },
          "metadata": {}
        },
        {
          "output_type": "display_data",
          "data": {
            "text/plain": [
              "<IPython.core.display.HTML object>"
            ],
            "text/html": [
              "<style>\n",
              "    table.wandb td:nth-child(1) { padding: 0 10px; text-align: right }\n",
              "    .wandb-row { display: flex; flex-direction: row; flex-wrap: wrap; width: 100% }\n",
              "    .wandb-col { display: flex; flex-direction: column; flex-basis: 100%; flex: 1; padding: 10px; }\n",
              "    </style>\n",
              "<div class=\"wandb-row\"><div class=\"wandb-col\"><h3>Run history:</h3><br/><table class=\"wandb\"><tr><td>accuracy</td><td>▁▆▇██</td></tr><tr><td>epoch</td><td>▁▃▅▆█</td></tr><tr><td>loss</td><td>█▃▂▁▁</td></tr><tr><td>val_accuracy</td><td>▁▃▆█▆</td></tr><tr><td>val_loss</td><td>█▅▂▁▂</td></tr></table><br/></div><div class=\"wandb-col\"><h3>Run summary:</h3><br/><table class=\"wandb\"><tr><td>accuracy</td><td>0.78645</td></tr><tr><td>best_epoch</td><td>3</td></tr><tr><td>best_val_accuracy</td><td>0.76915</td></tr><tr><td>epoch</td><td>4</td></tr><tr><td>loss</td><td>0.68997</td></tr><tr><td>val_accuracy</td><td>0.75907</td></tr><tr><td>val_loss</td><td>0.78079</td></tr></table><br/></div></div>"
            ]
          },
          "metadata": {}
        },
        {
          "output_type": "display_data",
          "data": {
            "text/plain": [
              "<IPython.core.display.HTML object>"
            ],
            "text/html": [
              "Synced <strong style=\"color:#cdcd00\">CS6910-A2-P_A</strong>: <a href=\"https://wandb.ai/pandp/cs6910-As-2/runs/dj5il4mu\" target=\"_blank\">https://wandb.ai/pandp/cs6910-As-2/runs/dj5il4mu</a><br/>Synced 5 W&B file(s), 1 media file(s), 0 artifact file(s) and 1 other file(s)"
            ]
          },
          "metadata": {}
        },
        {
          "output_type": "display_data",
          "data": {
            "text/plain": [
              "<IPython.core.display.HTML object>"
            ],
            "text/html": [
              "Find logs at: <code>./wandb/run-20220401_201530-dj5il4mu/logs</code>"
            ]
          },
          "metadata": {}
        },
        {
          "output_type": "stream",
          "name": "stderr",
          "text": [
            "\u001b[34m\u001b[1mwandb\u001b[0m: Agent Starting Run: k568x04q with config:\n",
            "\u001b[34m\u001b[1mwandb\u001b[0m: \tbatch_size: 16\n",
            "\u001b[34m\u001b[1mwandb\u001b[0m: \tdata_aug: True\n",
            "\u001b[34m\u001b[1mwandb\u001b[0m: \tepochs: 10\n",
            "\u001b[34m\u001b[1mwandb\u001b[0m: \tlr: 1e-05\n",
            "\u001b[34m\u001b[1mwandb\u001b[0m: \tmodel: Xception\n",
            "\u001b[34m\u001b[1mwandb\u001b[0m: \toptimizer: adamax\n"
          ]
        },
        {
          "output_type": "display_data",
          "data": {
            "text/plain": [
              "<IPython.core.display.HTML object>"
            ],
            "text/html": [
              "Tracking run with wandb version 0.12.11"
            ]
          },
          "metadata": {}
        },
        {
          "output_type": "display_data",
          "data": {
            "text/plain": [
              "<IPython.core.display.HTML object>"
            ],
            "text/html": [
              "Run data is saved locally in <code>/content/wandb/run-20220401_205303-k568x04q</code>"
            ]
          },
          "metadata": {}
        },
        {
          "output_type": "display_data",
          "data": {
            "text/plain": [
              "<IPython.core.display.HTML object>"
            ],
            "text/html": [
              "Syncing run <strong><a href=\"https://wandb.ai/pandp/cs6910-As-2/runs/k568x04q\" target=\"_blank\">CS6910-A2-P_A</a></strong> to <a href=\"https://wandb.ai/pandp/cs6910-As-2\" target=\"_blank\">Weights & Biases</a> (<a href=\"https://wandb.me/run\" target=\"_blank\">docs</a>)<br/>Sweep page:  <a href=\"https://wandb.ai/pandp/cs6910-As-2/sweeps/piql1umf\" target=\"_blank\">https://wandb.ai/pandp/cs6910-As-2/sweeps/piql1umf</a>"
            ]
          },
          "metadata": {}
        },
        {
          "output_type": "stream",
          "name": "stdout",
          "text": [
            "Found 9018 images belonging to 10 classes.\n",
            "Found 1000 images belonging to 10 classes.\n",
            "Found 2000 images belonging to 10 classes.\n",
            "image_size =  [299, 299]\n",
            "Downloading data from https://storage.googleapis.com/tensorflow/keras-applications/xception/xception_weights_tf_dim_ordering_tf_kernels_notop.h5\n",
            "83689472/83683744 [==============================] - 1s 0us/step\n",
            "83697664/83683744 [==============================] - 1s 0us/step\n",
            "Epoch 1/10\n",
            "563/563 [==============================] - 419s 736ms/step - loss: 1.4179 - accuracy: 0.5873 - val_loss: 1.0480 - val_accuracy: 0.7167 - _timestamp: 1648846810.0000 - _runtime: 427.0000\n",
            "Epoch 2/10\n",
            "563/563 [==============================] - 429s 762ms/step - loss: 0.9539 - accuracy: 0.7181 - val_loss: 0.8872 - val_accuracy: 0.7359 - _timestamp: 1648847265.0000 - _runtime: 882.0000\n",
            "Epoch 3/10\n",
            "563/563 [==============================] - 424s 753ms/step - loss: 0.8480 - accuracy: 0.7387 - val_loss: 0.8236 - val_accuracy: 0.7329 - _timestamp: 1648847691.0000 - _runtime: 1308.0000\n",
            "Epoch 4/10\n",
            "157/563 [=======>......................] - ETA: 4:26 - loss: 0.8196 - accuracy: 0.7257"
          ]
        }
      ],
      "source": [
        "#wandb.agent(sweep_id, train, count=40)\n",
        "wandb.agent('piql1umf', function = train, project = 'cs6910-As-2', count=40)"
      ]
    }
  ],
  "metadata": {
    "colab": {
      "collapsed_sections": [],
      "name": "PartB.ipynb",
      "provenance": [],
      "authorship_tag": "ABX9TyMM23kMFuJqePVbT96NP9ZS"
    },
    "kernelspec": {
      "display_name": "Python 3",
      "name": "python3"
    },
    "language_info": {
      "name": "python"
    },
    "accelerator": "GPU",
    "widgets": {
      "application/vnd.jupyter.widget-state+json": {
        "ccda7aaf64224dfab88b1a43ba4ba7cb": {
          "model_module": "@jupyter-widgets/controls",
          "model_name": "VBoxModel",
          "model_module_version": "1.5.0",
          "state": {
            "_dom_classes": [],
            "_model_module": "@jupyter-widgets/controls",
            "_model_module_version": "1.5.0",
            "_model_name": "VBoxModel",
            "_view_count": null,
            "_view_module": "@jupyter-widgets/controls",
            "_view_module_version": "1.5.0",
            "_view_name": "VBoxView",
            "box_style": "",
            "children": [
              "IPY_MODEL_074666d2bbd342c38c58e76f3ef07473",
              "IPY_MODEL_62221c239557446fab34cb3e7229bd4f"
            ],
            "layout": "IPY_MODEL_9f9661cf593f4cffaa62f4354b266a15"
          }
        },
        "074666d2bbd342c38c58e76f3ef07473": {
          "model_module": "@jupyter-widgets/controls",
          "model_name": "LabelModel",
          "model_module_version": "1.5.0",
          "state": {
            "_dom_classes": [],
            "_model_module": "@jupyter-widgets/controls",
            "_model_module_version": "1.5.0",
            "_model_name": "LabelModel",
            "_view_count": null,
            "_view_module": "@jupyter-widgets/controls",
            "_view_module_version": "1.5.0",
            "_view_name": "LabelView",
            "description": "",
            "description_tooltip": null,
            "layout": "IPY_MODEL_a159106536554ba7bcde0d364527297b",
            "placeholder": "​",
            "style": "IPY_MODEL_86697f7d1e914a4d9e0247642de95841",
            "value": "94.076 MB of 94.076 MB uploaded (0.000 MB deduped)\r"
          }
        },
        "62221c239557446fab34cb3e7229bd4f": {
          "model_module": "@jupyter-widgets/controls",
          "model_name": "FloatProgressModel",
          "model_module_version": "1.5.0",
          "state": {
            "_dom_classes": [],
            "_model_module": "@jupyter-widgets/controls",
            "_model_module_version": "1.5.0",
            "_model_name": "FloatProgressModel",
            "_view_count": null,
            "_view_module": "@jupyter-widgets/controls",
            "_view_module_version": "1.5.0",
            "_view_name": "ProgressView",
            "bar_style": "",
            "description": "",
            "description_tooltip": null,
            "layout": "IPY_MODEL_fcc27fbb71004ccd9011366a0c70dc78",
            "max": 1,
            "min": 0,
            "orientation": "horizontal",
            "style": "IPY_MODEL_e6a4875ca4cc4bbd81241217f6999473",
            "value": 1
          }
        },
        "9f9661cf593f4cffaa62f4354b266a15": {
          "model_module": "@jupyter-widgets/base",
          "model_name": "LayoutModel",
          "model_module_version": "1.2.0",
          "state": {
            "_model_module": "@jupyter-widgets/base",
            "_model_module_version": "1.2.0",
            "_model_name": "LayoutModel",
            "_view_count": null,
            "_view_module": "@jupyter-widgets/base",
            "_view_module_version": "1.2.0",
            "_view_name": "LayoutView",
            "align_content": null,
            "align_items": null,
            "align_self": null,
            "border": null,
            "bottom": null,
            "display": null,
            "flex": null,
            "flex_flow": null,
            "grid_area": null,
            "grid_auto_columns": null,
            "grid_auto_flow": null,
            "grid_auto_rows": null,
            "grid_column": null,
            "grid_gap": null,
            "grid_row": null,
            "grid_template_areas": null,
            "grid_template_columns": null,
            "grid_template_rows": null,
            "height": null,
            "justify_content": null,
            "justify_items": null,
            "left": null,
            "margin": null,
            "max_height": null,
            "max_width": null,
            "min_height": null,
            "min_width": null,
            "object_fit": null,
            "object_position": null,
            "order": null,
            "overflow": null,
            "overflow_x": null,
            "overflow_y": null,
            "padding": null,
            "right": null,
            "top": null,
            "visibility": null,
            "width": null
          }
        },
        "a159106536554ba7bcde0d364527297b": {
          "model_module": "@jupyter-widgets/base",
          "model_name": "LayoutModel",
          "model_module_version": "1.2.0",
          "state": {
            "_model_module": "@jupyter-widgets/base",
            "_model_module_version": "1.2.0",
            "_model_name": "LayoutModel",
            "_view_count": null,
            "_view_module": "@jupyter-widgets/base",
            "_view_module_version": "1.2.0",
            "_view_name": "LayoutView",
            "align_content": null,
            "align_items": null,
            "align_self": null,
            "border": null,
            "bottom": null,
            "display": null,
            "flex": null,
            "flex_flow": null,
            "grid_area": null,
            "grid_auto_columns": null,
            "grid_auto_flow": null,
            "grid_auto_rows": null,
            "grid_column": null,
            "grid_gap": null,
            "grid_row": null,
            "grid_template_areas": null,
            "grid_template_columns": null,
            "grid_template_rows": null,
            "height": null,
            "justify_content": null,
            "justify_items": null,
            "left": null,
            "margin": null,
            "max_height": null,
            "max_width": null,
            "min_height": null,
            "min_width": null,
            "object_fit": null,
            "object_position": null,
            "order": null,
            "overflow": null,
            "overflow_x": null,
            "overflow_y": null,
            "padding": null,
            "right": null,
            "top": null,
            "visibility": null,
            "width": null
          }
        },
        "86697f7d1e914a4d9e0247642de95841": {
          "model_module": "@jupyter-widgets/controls",
          "model_name": "DescriptionStyleModel",
          "model_module_version": "1.5.0",
          "state": {
            "_model_module": "@jupyter-widgets/controls",
            "_model_module_version": "1.5.0",
            "_model_name": "DescriptionStyleModel",
            "_view_count": null,
            "_view_module": "@jupyter-widgets/base",
            "_view_module_version": "1.2.0",
            "_view_name": "StyleView",
            "description_width": ""
          }
        },
        "fcc27fbb71004ccd9011366a0c70dc78": {
          "model_module": "@jupyter-widgets/base",
          "model_name": "LayoutModel",
          "model_module_version": "1.2.0",
          "state": {
            "_model_module": "@jupyter-widgets/base",
            "_model_module_version": "1.2.0",
            "_model_name": "LayoutModel",
            "_view_count": null,
            "_view_module": "@jupyter-widgets/base",
            "_view_module_version": "1.2.0",
            "_view_name": "LayoutView",
            "align_content": null,
            "align_items": null,
            "align_self": null,
            "border": null,
            "bottom": null,
            "display": null,
            "flex": null,
            "flex_flow": null,
            "grid_area": null,
            "grid_auto_columns": null,
            "grid_auto_flow": null,
            "grid_auto_rows": null,
            "grid_column": null,
            "grid_gap": null,
            "grid_row": null,
            "grid_template_areas": null,
            "grid_template_columns": null,
            "grid_template_rows": null,
            "height": null,
            "justify_content": null,
            "justify_items": null,
            "left": null,
            "margin": null,
            "max_height": null,
            "max_width": null,
            "min_height": null,
            "min_width": null,
            "object_fit": null,
            "object_position": null,
            "order": null,
            "overflow": null,
            "overflow_x": null,
            "overflow_y": null,
            "padding": null,
            "right": null,
            "top": null,
            "visibility": null,
            "width": null
          }
        },
        "e6a4875ca4cc4bbd81241217f6999473": {
          "model_module": "@jupyter-widgets/controls",
          "model_name": "ProgressStyleModel",
          "model_module_version": "1.5.0",
          "state": {
            "_model_module": "@jupyter-widgets/controls",
            "_model_module_version": "1.5.0",
            "_model_name": "ProgressStyleModel",
            "_view_count": null,
            "_view_module": "@jupyter-widgets/base",
            "_view_module_version": "1.2.0",
            "_view_name": "StyleView",
            "bar_color": null,
            "description_width": ""
          }
        },
        "fcfc51913d4e492d9ba0b916709e9960": {
          "model_module": "@jupyter-widgets/controls",
          "model_name": "VBoxModel",
          "model_module_version": "1.5.0",
          "state": {
            "_dom_classes": [],
            "_model_module": "@jupyter-widgets/controls",
            "_model_module_version": "1.5.0",
            "_model_name": "VBoxModel",
            "_view_count": null,
            "_view_module": "@jupyter-widgets/controls",
            "_view_module_version": "1.5.0",
            "_view_name": "VBoxView",
            "box_style": "",
            "children": [
              "IPY_MODEL_e445809fb3724aed9bad6705433dde79",
              "IPY_MODEL_c2b2ca82f14343739ecaa690689fbc75"
            ],
            "layout": "IPY_MODEL_79e085b66c60414080012b8a1b690daa"
          }
        },
        "e445809fb3724aed9bad6705433dde79": {
          "model_module": "@jupyter-widgets/controls",
          "model_name": "LabelModel",
          "model_module_version": "1.5.0",
          "state": {
            "_dom_classes": [],
            "_model_module": "@jupyter-widgets/controls",
            "_model_module_version": "1.5.0",
            "_model_name": "LabelModel",
            "_view_count": null,
            "_view_module": "@jupyter-widgets/controls",
            "_view_module_version": "1.5.0",
            "_view_name": "LabelView",
            "description": "",
            "description_tooltip": null,
            "layout": "IPY_MODEL_c3c80104516e4e9ca0204de8d8982f55",
            "placeholder": "​",
            "style": "IPY_MODEL_212fba5b07a34e5a9db3c25579722804",
            "value": "102.015 MB of 102.015 MB uploaded (0.000 MB deduped)\r"
          }
        },
        "c2b2ca82f14343739ecaa690689fbc75": {
          "model_module": "@jupyter-widgets/controls",
          "model_name": "FloatProgressModel",
          "model_module_version": "1.5.0",
          "state": {
            "_dom_classes": [],
            "_model_module": "@jupyter-widgets/controls",
            "_model_module_version": "1.5.0",
            "_model_name": "FloatProgressModel",
            "_view_count": null,
            "_view_module": "@jupyter-widgets/controls",
            "_view_module_version": "1.5.0",
            "_view_name": "ProgressView",
            "bar_style": "",
            "description": "",
            "description_tooltip": null,
            "layout": "IPY_MODEL_8c0e6866d4104e238e6c430852a0a173",
            "max": 1,
            "min": 0,
            "orientation": "horizontal",
            "style": "IPY_MODEL_e06af5d9ee8b44f289cadbff6d070a62",
            "value": 1
          }
        },
        "79e085b66c60414080012b8a1b690daa": {
          "model_module": "@jupyter-widgets/base",
          "model_name": "LayoutModel",
          "model_module_version": "1.2.0",
          "state": {
            "_model_module": "@jupyter-widgets/base",
            "_model_module_version": "1.2.0",
            "_model_name": "LayoutModel",
            "_view_count": null,
            "_view_module": "@jupyter-widgets/base",
            "_view_module_version": "1.2.0",
            "_view_name": "LayoutView",
            "align_content": null,
            "align_items": null,
            "align_self": null,
            "border": null,
            "bottom": null,
            "display": null,
            "flex": null,
            "flex_flow": null,
            "grid_area": null,
            "grid_auto_columns": null,
            "grid_auto_flow": null,
            "grid_auto_rows": null,
            "grid_column": null,
            "grid_gap": null,
            "grid_row": null,
            "grid_template_areas": null,
            "grid_template_columns": null,
            "grid_template_rows": null,
            "height": null,
            "justify_content": null,
            "justify_items": null,
            "left": null,
            "margin": null,
            "max_height": null,
            "max_width": null,
            "min_height": null,
            "min_width": null,
            "object_fit": null,
            "object_position": null,
            "order": null,
            "overflow": null,
            "overflow_x": null,
            "overflow_y": null,
            "padding": null,
            "right": null,
            "top": null,
            "visibility": null,
            "width": null
          }
        },
        "c3c80104516e4e9ca0204de8d8982f55": {
          "model_module": "@jupyter-widgets/base",
          "model_name": "LayoutModel",
          "model_module_version": "1.2.0",
          "state": {
            "_model_module": "@jupyter-widgets/base",
            "_model_module_version": "1.2.0",
            "_model_name": "LayoutModel",
            "_view_count": null,
            "_view_module": "@jupyter-widgets/base",
            "_view_module_version": "1.2.0",
            "_view_name": "LayoutView",
            "align_content": null,
            "align_items": null,
            "align_self": null,
            "border": null,
            "bottom": null,
            "display": null,
            "flex": null,
            "flex_flow": null,
            "grid_area": null,
            "grid_auto_columns": null,
            "grid_auto_flow": null,
            "grid_auto_rows": null,
            "grid_column": null,
            "grid_gap": null,
            "grid_row": null,
            "grid_template_areas": null,
            "grid_template_columns": null,
            "grid_template_rows": null,
            "height": null,
            "justify_content": null,
            "justify_items": null,
            "left": null,
            "margin": null,
            "max_height": null,
            "max_width": null,
            "min_height": null,
            "min_width": null,
            "object_fit": null,
            "object_position": null,
            "order": null,
            "overflow": null,
            "overflow_x": null,
            "overflow_y": null,
            "padding": null,
            "right": null,
            "top": null,
            "visibility": null,
            "width": null
          }
        },
        "212fba5b07a34e5a9db3c25579722804": {
          "model_module": "@jupyter-widgets/controls",
          "model_name": "DescriptionStyleModel",
          "model_module_version": "1.5.0",
          "state": {
            "_model_module": "@jupyter-widgets/controls",
            "_model_module_version": "1.5.0",
            "_model_name": "DescriptionStyleModel",
            "_view_count": null,
            "_view_module": "@jupyter-widgets/base",
            "_view_module_version": "1.2.0",
            "_view_name": "StyleView",
            "description_width": ""
          }
        },
        "8c0e6866d4104e238e6c430852a0a173": {
          "model_module": "@jupyter-widgets/base",
          "model_name": "LayoutModel",
          "model_module_version": "1.2.0",
          "state": {
            "_model_module": "@jupyter-widgets/base",
            "_model_module_version": "1.2.0",
            "_model_name": "LayoutModel",
            "_view_count": null,
            "_view_module": "@jupyter-widgets/base",
            "_view_module_version": "1.2.0",
            "_view_name": "LayoutView",
            "align_content": null,
            "align_items": null,
            "align_self": null,
            "border": null,
            "bottom": null,
            "display": null,
            "flex": null,
            "flex_flow": null,
            "grid_area": null,
            "grid_auto_columns": null,
            "grid_auto_flow": null,
            "grid_auto_rows": null,
            "grid_column": null,
            "grid_gap": null,
            "grid_row": null,
            "grid_template_areas": null,
            "grid_template_columns": null,
            "grid_template_rows": null,
            "height": null,
            "justify_content": null,
            "justify_items": null,
            "left": null,
            "margin": null,
            "max_height": null,
            "max_width": null,
            "min_height": null,
            "min_width": null,
            "object_fit": null,
            "object_position": null,
            "order": null,
            "overflow": null,
            "overflow_x": null,
            "overflow_y": null,
            "padding": null,
            "right": null,
            "top": null,
            "visibility": null,
            "width": null
          }
        },
        "e06af5d9ee8b44f289cadbff6d070a62": {
          "model_module": "@jupyter-widgets/controls",
          "model_name": "ProgressStyleModel",
          "model_module_version": "1.5.0",
          "state": {
            "_model_module": "@jupyter-widgets/controls",
            "_model_module_version": "1.5.0",
            "_model_name": "ProgressStyleModel",
            "_view_count": null,
            "_view_module": "@jupyter-widgets/base",
            "_view_module_version": "1.2.0",
            "_view_name": "StyleView",
            "bar_color": null,
            "description_width": ""
          }
        },
        "4956b54412d942bcad85b0d4ccf7a964": {
          "model_module": "@jupyter-widgets/controls",
          "model_name": "VBoxModel",
          "model_module_version": "1.5.0",
          "state": {
            "_dom_classes": [],
            "_model_module": "@jupyter-widgets/controls",
            "_model_module_version": "1.5.0",
            "_model_name": "VBoxModel",
            "_view_count": null,
            "_view_module": "@jupyter-widgets/controls",
            "_view_module_version": "1.5.0",
            "_view_name": "VBoxView",
            "box_style": "",
            "children": [
              "IPY_MODEL_8c78903b9c284526b2ed0a6d97c3ea84",
              "IPY_MODEL_2ef45a744934471da594192d04abd502"
            ],
            "layout": "IPY_MODEL_a96ab168cda1413291eec881310cf793"
          }
        },
        "8c78903b9c284526b2ed0a6d97c3ea84": {
          "model_module": "@jupyter-widgets/controls",
          "model_name": "LabelModel",
          "model_module_version": "1.5.0",
          "state": {
            "_dom_classes": [],
            "_model_module": "@jupyter-widgets/controls",
            "_model_module_version": "1.5.0",
            "_model_name": "LabelModel",
            "_view_count": null,
            "_view_module": "@jupyter-widgets/controls",
            "_view_module_version": "1.5.0",
            "_view_name": "LabelView",
            "description": "",
            "description_tooltip": null,
            "layout": "IPY_MODEL_efaaeebce75644de913e1814af859561",
            "placeholder": "​",
            "style": "IPY_MODEL_d85329c5b8db4a12b613cc587a6a4238",
            "value": "216.926 MB of 216.926 MB uploaded (0.000 MB deduped)\r"
          }
        },
        "2ef45a744934471da594192d04abd502": {
          "model_module": "@jupyter-widgets/controls",
          "model_name": "FloatProgressModel",
          "model_module_version": "1.5.0",
          "state": {
            "_dom_classes": [],
            "_model_module": "@jupyter-widgets/controls",
            "_model_module_version": "1.5.0",
            "_model_name": "FloatProgressModel",
            "_view_count": null,
            "_view_module": "@jupyter-widgets/controls",
            "_view_module_version": "1.5.0",
            "_view_name": "ProgressView",
            "bar_style": "",
            "description": "",
            "description_tooltip": null,
            "layout": "IPY_MODEL_fc0f95ec13c548baac48f45d64f9fe6c",
            "max": 1,
            "min": 0,
            "orientation": "horizontal",
            "style": "IPY_MODEL_480ebc8434644ef8ad875e543d17f3a9",
            "value": 1
          }
        },
        "a96ab168cda1413291eec881310cf793": {
          "model_module": "@jupyter-widgets/base",
          "model_name": "LayoutModel",
          "model_module_version": "1.2.0",
          "state": {
            "_model_module": "@jupyter-widgets/base",
            "_model_module_version": "1.2.0",
            "_model_name": "LayoutModel",
            "_view_count": null,
            "_view_module": "@jupyter-widgets/base",
            "_view_module_version": "1.2.0",
            "_view_name": "LayoutView",
            "align_content": null,
            "align_items": null,
            "align_self": null,
            "border": null,
            "bottom": null,
            "display": null,
            "flex": null,
            "flex_flow": null,
            "grid_area": null,
            "grid_auto_columns": null,
            "grid_auto_flow": null,
            "grid_auto_rows": null,
            "grid_column": null,
            "grid_gap": null,
            "grid_row": null,
            "grid_template_areas": null,
            "grid_template_columns": null,
            "grid_template_rows": null,
            "height": null,
            "justify_content": null,
            "justify_items": null,
            "left": null,
            "margin": null,
            "max_height": null,
            "max_width": null,
            "min_height": null,
            "min_width": null,
            "object_fit": null,
            "object_position": null,
            "order": null,
            "overflow": null,
            "overflow_x": null,
            "overflow_y": null,
            "padding": null,
            "right": null,
            "top": null,
            "visibility": null,
            "width": null
          }
        },
        "efaaeebce75644de913e1814af859561": {
          "model_module": "@jupyter-widgets/base",
          "model_name": "LayoutModel",
          "model_module_version": "1.2.0",
          "state": {
            "_model_module": "@jupyter-widgets/base",
            "_model_module_version": "1.2.0",
            "_model_name": "LayoutModel",
            "_view_count": null,
            "_view_module": "@jupyter-widgets/base",
            "_view_module_version": "1.2.0",
            "_view_name": "LayoutView",
            "align_content": null,
            "align_items": null,
            "align_self": null,
            "border": null,
            "bottom": null,
            "display": null,
            "flex": null,
            "flex_flow": null,
            "grid_area": null,
            "grid_auto_columns": null,
            "grid_auto_flow": null,
            "grid_auto_rows": null,
            "grid_column": null,
            "grid_gap": null,
            "grid_row": null,
            "grid_template_areas": null,
            "grid_template_columns": null,
            "grid_template_rows": null,
            "height": null,
            "justify_content": null,
            "justify_items": null,
            "left": null,
            "margin": null,
            "max_height": null,
            "max_width": null,
            "min_height": null,
            "min_width": null,
            "object_fit": null,
            "object_position": null,
            "order": null,
            "overflow": null,
            "overflow_x": null,
            "overflow_y": null,
            "padding": null,
            "right": null,
            "top": null,
            "visibility": null,
            "width": null
          }
        },
        "d85329c5b8db4a12b613cc587a6a4238": {
          "model_module": "@jupyter-widgets/controls",
          "model_name": "DescriptionStyleModel",
          "model_module_version": "1.5.0",
          "state": {
            "_model_module": "@jupyter-widgets/controls",
            "_model_module_version": "1.5.0",
            "_model_name": "DescriptionStyleModel",
            "_view_count": null,
            "_view_module": "@jupyter-widgets/base",
            "_view_module_version": "1.2.0",
            "_view_name": "StyleView",
            "description_width": ""
          }
        },
        "fc0f95ec13c548baac48f45d64f9fe6c": {
          "model_module": "@jupyter-widgets/base",
          "model_name": "LayoutModel",
          "model_module_version": "1.2.0",
          "state": {
            "_model_module": "@jupyter-widgets/base",
            "_model_module_version": "1.2.0",
            "_model_name": "LayoutModel",
            "_view_count": null,
            "_view_module": "@jupyter-widgets/base",
            "_view_module_version": "1.2.0",
            "_view_name": "LayoutView",
            "align_content": null,
            "align_items": null,
            "align_self": null,
            "border": null,
            "bottom": null,
            "display": null,
            "flex": null,
            "flex_flow": null,
            "grid_area": null,
            "grid_auto_columns": null,
            "grid_auto_flow": null,
            "grid_auto_rows": null,
            "grid_column": null,
            "grid_gap": null,
            "grid_row": null,
            "grid_template_areas": null,
            "grid_template_columns": null,
            "grid_template_rows": null,
            "height": null,
            "justify_content": null,
            "justify_items": null,
            "left": null,
            "margin": null,
            "max_height": null,
            "max_width": null,
            "min_height": null,
            "min_width": null,
            "object_fit": null,
            "object_position": null,
            "order": null,
            "overflow": null,
            "overflow_x": null,
            "overflow_y": null,
            "padding": null,
            "right": null,
            "top": null,
            "visibility": null,
            "width": null
          }
        },
        "480ebc8434644ef8ad875e543d17f3a9": {
          "model_module": "@jupyter-widgets/controls",
          "model_name": "ProgressStyleModel",
          "model_module_version": "1.5.0",
          "state": {
            "_model_module": "@jupyter-widgets/controls",
            "_model_module_version": "1.5.0",
            "_model_name": "ProgressStyleModel",
            "_view_count": null,
            "_view_module": "@jupyter-widgets/base",
            "_view_module_version": "1.2.0",
            "_view_name": "StyleView",
            "bar_color": null,
            "description_width": ""
          }
        }
      }
    }
  },
  "nbformat": 4,
  "nbformat_minor": 0
}