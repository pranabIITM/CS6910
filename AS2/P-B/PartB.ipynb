{
  "cells": [
    {
      "cell_type": "markdown",
      "metadata": {
        "id": "nPMlcu_o3Up4"
      },
      "source": [
        "Import the data"
      ]
    },
    {
      "cell_type": "code",
      "execution_count": 1,
      "metadata": {
        "colab": {
          "base_uri": "https://localhost:8080/"
        },
        "id": "dyNmdRAX04Hq",
        "outputId": "86ced1e8-d2a1-4567-d6ae-79b817a4923a"
      },
      "outputs": [
        {
          "output_type": "stream",
          "name": "stdout",
          "text": [
            "Mounted at /content/gdrive\n",
            "train  val\n"
          ]
        }
      ],
      "source": [
        "from google.colab import drive\n",
        "drive.mount('/content/gdrive')\n",
        "\n",
        "!ls \"/content/gdrive/My Drive/inaturalist_12K\"\n",
        "\n",
        "# set the path to the training and validation folders\n",
        "train_path = '/content/gdrive/My Drive/inaturalist_12K/train'\n",
        "val_path = '/content/gdrive/My Drive/inaturalist_12K/val'"
      ]
    },
    {
      "cell_type": "markdown",
      "metadata": {
        "id": "5ahVoUcS3f9V"
      },
      "source": [
        "Install the dependencies"
      ]
    },
    {
      "cell_type": "code",
      "execution_count": null,
      "metadata": {
        "id": "G91KFAFgzLB2"
      },
      "outputs": [],
      "source": [
        "!pip install wandb "
      ]
    },
    {
      "cell_type": "markdown",
      "metadata": {
        "id": "SUTJogYm3ukX"
      },
      "source": [
        "Import the libraries"
      ]
    },
    {
      "cell_type": "code",
      "execution_count": 3,
      "metadata": {
        "id": "aGdM4uzo2Qrx"
      },
      "outputs": [],
      "source": [
        "import tensorflow as tf\n",
        "from tensorflow import keras\n",
        "import numpy as np\n",
        "import math\n",
        "import matplotlib.pyplot as plt"
      ]
    },
    {
      "cell_type": "code",
      "execution_count": 4,
      "metadata": {
        "id": "oEyE0uNg2SU7"
      },
      "outputs": [],
      "source": [
        "from keras.layers import Dense, Flatten\n",
        "from keras.models import Model\n",
        "from keras.preprocessing.image import ImageDataGenerator"
      ]
    },
    {
      "cell_type": "code",
      "execution_count": 5,
      "metadata": {
        "id": "M_12KInPS8eR"
      },
      "outputs": [],
      "source": [
        "physical_devices = tf.config.list_physical_devices('GPU')\n",
        "tf.config.experimental.set_memory_growth(physical_devices[0], enable = True) "
      ]
    },
    {
      "cell_type": "markdown",
      "metadata": {
        "id": "nOHcn6xy323h"
      },
      "source": [
        "Setup to wandb"
      ]
    },
    {
      "cell_type": "code",
      "execution_count": 6,
      "metadata": {
        "id": "jHC6eKzHQWOa"
      },
      "outputs": [],
      "source": [
        "import wandb\n",
        "from wandb.keras import WandbCallback "
      ]
    },
    {
      "cell_type": "code",
      "execution_count": 7,
      "metadata": {
        "colab": {
          "base_uri": "https://localhost:8080/",
          "height": 107
        },
        "id": "bBBSGqH_1WMz",
        "outputId": "6869e0e2-8aaf-4286-f7ec-d06cb87142d6"
      },
      "outputs": [
        {
          "output_type": "display_data",
          "data": {
            "text/plain": [
              "<IPython.core.display.Javascript object>"
            ],
            "application/javascript": [
              "\n",
              "        window._wandbApiKey = new Promise((resolve, reject) => {\n",
              "            function loadScript(url) {\n",
              "            return new Promise(function(resolve, reject) {\n",
              "                let newScript = document.createElement(\"script\");\n",
              "                newScript.onerror = reject;\n",
              "                newScript.onload = resolve;\n",
              "                document.body.appendChild(newScript);\n",
              "                newScript.src = url;\n",
              "            });\n",
              "            }\n",
              "            loadScript(\"https://cdn.jsdelivr.net/npm/postmate/build/postmate.min.js\").then(() => {\n",
              "            const iframe = document.createElement('iframe')\n",
              "            iframe.style.cssText = \"width:0;height:0;border:none\"\n",
              "            document.body.appendChild(iframe)\n",
              "            const handshake = new Postmate({\n",
              "                container: iframe,\n",
              "                url: 'https://wandb.ai/authorize'\n",
              "            });\n",
              "            const timeout = setTimeout(() => reject(\"Couldn't auto authenticate\"), 5000)\n",
              "            handshake.then(function(child) {\n",
              "                child.on('authorize', data => {\n",
              "                    clearTimeout(timeout)\n",
              "                    resolve(data)\n",
              "                });\n",
              "            });\n",
              "            })\n",
              "        });\n",
              "    "
            ]
          },
          "metadata": {}
        },
        {
          "output_type": "stream",
          "name": "stderr",
          "text": [
            "\u001b[34m\u001b[1mwandb\u001b[0m: You can find your API key in your browser here: https://wandb.ai/authorize\n"
          ]
        },
        {
          "name": "stdout",
          "output_type": "stream",
          "text": [
            "wandb: Paste an API key from your profile and hit enter, or press ctrl+c to quit: ··········\n"
          ]
        },
        {
          "output_type": "stream",
          "name": "stderr",
          "text": [
            "\u001b[34m\u001b[1mwandb\u001b[0m: Appending key for api.wandb.ai to your netrc file: /root/.netrc\n"
          ]
        },
        {
          "output_type": "execute_result",
          "data": {
            "text/plain": [
              "True"
            ]
          },
          "metadata": {},
          "execution_count": 7
        }
      ],
      "source": [
        "wandb.login() "
      ]
    },
    {
      "cell_type": "markdown",
      "metadata": {
        "id": "ykmKvErw4CZd"
      },
      "source": [
        " Preprocess the data"
      ]
    },
    {
      "cell_type": "code",
      "execution_count": 8,
      "metadata": {
        "id": "qZwTP-4Stzsq"
      },
      "outputs": [],
      "source": [
        "def dataProcess(batch_size = 32, data_aug = True, image_size = [299,299]):\n",
        "\n",
        "    # data augmentation\n",
        "    if(data_aug):\n",
        "        train_datagen = ImageDataGenerator(\n",
        "            rescale = 1./255,\n",
        "            rotation_range = 90,\n",
        "            shear_range = 0.2,\n",
        "            zoom_range = 0.2,\n",
        "            validation_split = 0.1,\n",
        "            horizontal_flip = True)\n",
        "    else:\n",
        "        train_datagen = ImageDataGenerator( rescale = 1./255, validation_split = 0.1)\n",
        "\n",
        "    test_datagen = ImageDataGenerator(rescale = 1./255)\n",
        "\n",
        "    # generate train dataset\n",
        "    train_generator = train_datagen.flow_from_directory(\n",
        "        train_path,\n",
        "        subset='training',\n",
        "        target_size = image_size,\n",
        "        batch_size = batch_size,\n",
        "        class_mode = 'categorical',\n",
        "        shuffle = True,\n",
        "        seed = 45)\n",
        "\n",
        "    # generate validation dataset\n",
        "    val_generator = train_datagen.flow_from_directory(\n",
        "        train_path,\n",
        "        subset = 'validation',\n",
        "        target_size = image_size,\n",
        "        batch_size = batch_size,\n",
        "        class_mode = 'categorical',\n",
        "        shuffle = True,\n",
        "        seed = 45)\n",
        "\n",
        "    # generate test dataset\n",
        "    test_generator = test_datagen.flow_from_directory(\n",
        "        val_path,\n",
        "        target_size = image_size,\n",
        "        batch_size = batch_size,\n",
        "        class_mode = 'categorical')\n",
        "\n",
        "    '''\n",
        "    # plot one image of each class\n",
        "    class_names = ['Amphibia', 'Animalia', 'Arachnida', 'Aves', 'Fungi',\n",
        "               'Insecta', 'Mammalia', 'Mollusca', 'Plantae', 'Reptilia']\n",
        "    plt.figure(figsize=(10, 10))\n",
        "    images, labels = val_generator.next()\n",
        "    for i in range(9):\n",
        "        ax = plt.subplot(3, 3, i + 1)\n",
        "        plt.imshow(images[i])\n",
        "        plt.title(class_names[np.where(labels[i] == 1)[0][0]])\n",
        "        plt.axis(\"off\")\n",
        "    plt.show()\n",
        "    '''\n",
        "    return train_generator, val_generator, test_generator"
      ]
    },
    {
      "cell_type": "markdown",
      "metadata": {
        "id": "q5wkNDxr9VyD"
      },
      "source": [
        "Transfer learning and fine-tuning"
      ]
    },
    {
      "cell_type": "code",
      "execution_count": 9,
      "metadata": {
        "id": "h93TfQHg4wgC"
      },
      "outputs": [],
      "source": [
        "def buildModel(pre_trained_model = 'InceptionV3',optimizer = 'adam', lr = 0.0001, image_size = [299,299], freeze = 1):\n",
        "    print(\"image_size = \",image_size)\n",
        "    \n",
        "    # prepare the pre-trained model excluding the last layer\n",
        "    if pre_trained_model == 'InceptionV3':\n",
        "        pre_model = keras.applications.InceptionV3(input_shape = image_size + [3], weights = 'imagenet', include_top = False)\n",
        "    if pre_trained_model == 'InceptionResNetV2':\n",
        "        pre_model = keras.applications.InceptionResNetV2(input_shape = image_size + [3], weights = 'imagenet', include_top = False)\n",
        "    if pre_trained_model == 'ResNet50':\n",
        "        pre_model = keras.applications.ResNet50(input_shape = image_size + [3], weights = 'imagenet', include_top = False)\n",
        "    if pre_trained_model == 'Xception':\n",
        "        pre_model = keras.applications.Xception(input_shape = image_size + [3], weights = 'imagenet', include_top = False)\n",
        "    \n",
        "    '''\n",
        "    # No fine tuning - keep the trained weights of the pre trained model same\n",
        "    for layer in pre_model.layers:\n",
        "        layer.trainable = False\n",
        "    '''\n",
        "\n",
        "    # fine tuning the model\n",
        "    k = len(pre_model.layers)\n",
        "    upto = math.ceil(k*freeze)\n",
        "    for i in range(upto):\n",
        "        pre_model.layers[i].trainable = False\n",
        "    \n",
        "    import os\n",
        "    numberOfClasses = len(next(os.walk(train_path))[1])\n",
        "\n",
        "    # flatten the last layer\n",
        "    x = Flatten()(pre_model.output)\n",
        "    # add output layer\n",
        "    prediction = Dense(numberOfClasses, activation='softmax')(x)\n",
        "\n",
        "    # create final model\n",
        "    model = Model(inputs = pre_model.input, outputs = prediction)\n",
        "    if optimizer == 'adam':\n",
        "        opt = keras.optimizers.Adam(learning_rate = lr)\n",
        "    if optimizer == 'adamax':\n",
        "        opt = keras.optimizers.Adamax(learning_rate = lr)\n",
        "    if optimizer == 'rmsprop':\n",
        "        opt = keras.optimizers.RMSprop(learning_rate = lr)\n",
        "\n",
        "    model.compile(optimizer = opt, \n",
        "                  loss = 'categorical_crossentropy', \n",
        "                  metrics = ['accuracy']\n",
        "                  )\n",
        "    return model"
      ]
    },
    {
      "cell_type": "markdown",
      "metadata": {
        "id": "jexhnkPC4HBM"
      },
      "source": [
        "Sweep configurations"
      ]
    },
    {
      "cell_type": "code",
      "execution_count": 10,
      "metadata": {
        "id": "APRRig72zA-5"
      },
      "outputs": [],
      "source": [
        "sweep_config = {\n",
        "    'method' : 'random', \n",
        "    'metric' : {\n",
        "        'name': 'val_accuracy',\n",
        "        'goal': 'maximize'   \n",
        "        },\n",
        "    'parameters' : {\n",
        "        'epochs': {'values' : [5,10]},\n",
        "        'model' : {'values' : ['Xception', 'InceptionV3','InceptionResNetV2','ResNet50']},\n",
        "        'optimizer' : {'values' : ['rmsprop','adam', 'adamax']},\n",
        "        'batch_size' : {'values' : [16,32,64]},\n",
        "        'lr' : {'values' : [1e-4,1e-5]},\n",
        "        'data_aug' : {'values' : [True,False]},\n",
        "        'freeze' : {'values' : [0.6,0.7,0.8,0.9]}\n",
        "    }\n",
        "}"
      ]
    },
    {
      "cell_type": "code",
      "execution_count": 11,
      "metadata": {
        "id": "YrbxRKtUzFZo"
      },
      "outputs": [],
      "source": [
        "def train():\n",
        "    config_defaults = {\n",
        "        \"epochs\" : 5,\n",
        "        \"model\" : 'InceptionV3',\n",
        "        \"optimizer\" : 'adamax',\n",
        "        \"batch_size\" : 32,\n",
        "        \"lr\" : 0.0001,\n",
        "        \"data_aug\" : True,\n",
        "        \"freeze\" : 1\n",
        "    }\n",
        "\n",
        "    wandb.init(config = config_defaults,name = \"CS6910-A2-P_A\")\n",
        "    config = wandb.config\n",
        "    wandb.run.name = \"epochs_{}_model_{}_opt_{}_bs_{}_lr_{}_da_{}_freeze_{}\".format(config.epochs,\\\n",
        "                                                                          config.model,\\\n",
        "                                                                          config.optimizer,\\\n",
        "                                                                          config.batch_size,\\\n",
        "                                                                          config.lr,\\\n",
        "                                                                          config.data_aug,\\\n",
        "                                                                          config.freeze\n",
        "                                                                          )\n",
        "    wandb.run.save()\n",
        "\n",
        "    # resize the images as per the pre trained model\n",
        "    image_size = [299,299]\n",
        "    if config.model == 'ResNet50' :\n",
        "        image_size = [224,224]\n",
        "\n",
        "    # process the data\n",
        "    train_set, val_set, test_set = dataProcess(config.batch_size, config.data_aug, image_size)\n",
        "\n",
        "    # build model \n",
        "    model = buildModel(config.model, config.optimizer, config.lr, image_size, config.freeze)\n",
        "\n",
        "    # train the model and save the history\n",
        "    trained_model = model.fit(train_set,\n",
        "                              steps_per_epoch = train_set.samples // config.batch_size,\n",
        "                              validation_data = val_set, \n",
        "                              validation_steps = val_set.samples // config.batch_size,\n",
        "                              epochs = config.epochs,\n",
        "                              callbacks=[WandbCallback(monitor='val_accuracy',mode='max')]\n",
        "                            )\n",
        "\n",
        "    # evaluate the model\n",
        "    model.evaluate(test_set,\n",
        "                   batch_size = config.batch_size,\n",
        "                   callbacks=[WandbCallback()]\n",
        "                  )\n",
        "\n",
        "    wandb.finish()\n",
        "    return model, trained_model"
      ]
    },
    {
      "cell_type": "code",
      "execution_count": null,
      "metadata": {
        "colab": {
          "base_uri": "https://localhost:8080/"
        },
        "id": "shBe5XmR15Xr",
        "outputId": "023cf794-f0c5-43e9-f4e5-1eb6cee17ad2"
      },
      "outputs": [
        {
          "name": "stdout",
          "output_type": "stream",
          "text": [
            "Create sweep with ID: piql1umf\n",
            "Sweep URL: https://wandb.ai/pandp/cs6910-As-2/sweeps/piql1umf\n"
          ]
        }
      ],
      "source": [
        "# generate sweep id\n",
        "sweep_id = wandb.sweep(sweep_config,project = 'cs6910-As-2')"
      ]
    },
    {
      "cell_type": "code",
      "execution_count": null,
      "metadata": {
        "colab": {
          "base_uri": "https://localhost:8080/",
          "height": 1000,
          "referenced_widgets": [
            "5318e48c34254009a15b634b6cbf62e0",
            "57786a73c020453a9d304769b0c59d75",
            "b8d93e4e783f498b8a8e135680bcdf91",
            "518edd2edfa642c68ec3eab0bd583de3",
            "a36ae5c3eb1a4fd0adce527553627934",
            "0c723c0c741f482d9ddce7c1c9b2e59d",
            "d25c00e436ef46ba865d9d23f0530f5e",
            "13172d3ebbd94895bcc8cf4dd8f13383"
          ]
        },
        "id": "hNbBo--r18cX",
        "outputId": "0dff1779-6e2b-4b15-83d2-469f29e62331"
      },
      "outputs": [
        {
          "output_type": "stream",
          "name": "stderr",
          "text": [
            "\u001b[34m\u001b[1mwandb\u001b[0m: Agent Starting Run: kb9fngde with config:\n",
            "\u001b[34m\u001b[1mwandb\u001b[0m: \tbatch_size: 16\n",
            "\u001b[34m\u001b[1mwandb\u001b[0m: \tdata_aug: True\n",
            "\u001b[34m\u001b[1mwandb\u001b[0m: \tepochs: 5\n",
            "\u001b[34m\u001b[1mwandb\u001b[0m: \tfreeze: 0.9\n",
            "\u001b[34m\u001b[1mwandb\u001b[0m: \tlr: 0.0001\n",
            "\u001b[34m\u001b[1mwandb\u001b[0m: \tmodel: Xception\n",
            "\u001b[34m\u001b[1mwandb\u001b[0m: \toptimizer: adamax\n",
            "\u001b[34m\u001b[1mwandb\u001b[0m: Currently logged in as: \u001b[33mpandp\u001b[0m (use `wandb login --relogin` to force relogin)\n"
          ]
        },
        {
          "output_type": "display_data",
          "data": {
            "text/plain": [
              "<IPython.core.display.HTML object>"
            ],
            "text/html": [
              "Tracking run with wandb version 0.12.11"
            ]
          },
          "metadata": {}
        },
        {
          "output_type": "display_data",
          "data": {
            "text/plain": [
              "<IPython.core.display.HTML object>"
            ],
            "text/html": [
              "Run data is saved locally in <code>/content/wandb/run-20220403_050551-kb9fngde</code>"
            ]
          },
          "metadata": {}
        },
        {
          "output_type": "display_data",
          "data": {
            "text/plain": [
              "<IPython.core.display.HTML object>"
            ],
            "text/html": [
              "Syncing run <strong><a href=\"https://wandb.ai/pandp/cs6910-As-2/runs/kb9fngde\" target=\"_blank\">CS6910-A2-P_A</a></strong> to <a href=\"https://wandb.ai/pandp/cs6910-As-2\" target=\"_blank\">Weights & Biases</a> (<a href=\"https://wandb.me/run\" target=\"_blank\">docs</a>)<br/>Sweep page:  <a href=\"https://wandb.ai/pandp/cs6910-As-2/sweeps/grwlicwk\" target=\"_blank\">https://wandb.ai/pandp/cs6910-As-2/sweeps/grwlicwk</a>"
            ]
          },
          "metadata": {}
        },
        {
          "output_type": "stream",
          "name": "stderr",
          "text": [
            "\u001b[34m\u001b[1mwandb\u001b[0m: \u001b[33mWARNING\u001b[0m Calling wandb.run.save without any arguments is deprecated.Changes to attributes are automatically persisted.\n"
          ]
        },
        {
          "output_type": "stream",
          "name": "stdout",
          "text": [
            "Found 9018 images belonging to 10 classes.\n",
            "Found 1000 images belonging to 10 classes.\n",
            "Found 2000 images belonging to 10 classes.\n",
            "image_size =  [299, 299]\n",
            "Downloading data from https://storage.googleapis.com/tensorflow/keras-applications/xception/xception_weights_tf_dim_ordering_tf_kernels_notop.h5\n",
            "83689472/83683744 [==============================] - 2s 0us/step\n",
            "83697664/83683744 [==============================] - 2s 0us/step\n",
            "Epoch 1/5\n",
            "563/563 [==============================] - 4914s 9s/step - loss: 0.9286 - accuracy: 0.7018 - val_loss: 0.6502 - val_accuracy: 0.7883 - _timestamp: 1648967299.0000 - _runtime: 4948.0000\n",
            "Epoch 2/5\n",
            "563/563 [==============================] - 781s 1s/step - loss: 0.6135 - accuracy: 0.8018 - val_loss: 0.6057 - val_accuracy: 0.7974 - _timestamp: 1648968080.0000 - _runtime: 5729.0000\n",
            "Epoch 3/5\n",
            "563/563 [==============================] - 779s 1s/step - loss: 0.5183 - accuracy: 0.8294 - val_loss: 0.5605 - val_accuracy: 0.8155 - _timestamp: 1648968880.0000 - _runtime: 6529.0000\n",
            "Epoch 4/5\n",
            "563/563 [==============================] - 777s 1s/step - loss: 0.4319 - accuracy: 0.8573 - val_loss: 0.5539 - val_accuracy: 0.8155 - _timestamp: 1648969682.0000 - _runtime: 7331.0000\n",
            "Epoch 5/5\n",
            "563/563 [==============================] - 779s 1s/step - loss: 0.3810 - accuracy: 0.8735 - val_loss: 0.5284 - val_accuracy: 0.8276 - _timestamp: 1648970484.0000 - _runtime: 8133.0000\n",
            "125/125 [==============================] - 1099s 9s/step - loss: 0.4478 - accuracy: 0.8585\n",
            "\n"
          ]
        },
        {
          "output_type": "display_data",
          "data": {
            "text/plain": [
              "<IPython.core.display.HTML object>"
            ],
            "text/html": [
              "Waiting for W&B process to finish... <strong style=\"color:green\">(success).</strong>"
            ]
          },
          "metadata": {}
        },
        {
          "output_type": "display_data",
          "data": {
            "text/plain": [
              "VBox(children=(Label(value='262.525 MB of 262.525 MB uploaded (0.000 MB deduped)\\r'), FloatProgress(value=1.0,…"
            ],
            "application/vnd.jupyter.widget-view+json": {
              "version_major": 2,
              "version_minor": 0,
              "model_id": "5318e48c34254009a15b634b6cbf62e0"
            }
          },
          "metadata": {}
        },
        {
          "output_type": "display_data",
          "data": {
            "text/plain": [
              "<IPython.core.display.HTML object>"
            ],
            "text/html": [
              "<style>\n",
              "    table.wandb td:nth-child(1) { padding: 0 10px; text-align: right }\n",
              "    .wandb-row { display: flex; flex-direction: row; flex-wrap: wrap; width: 100% }\n",
              "    .wandb-col { display: flex; flex-direction: column; flex-basis: 100%; flex: 1; padding: 10px; }\n",
              "    </style>\n",
              "<div class=\"wandb-row\"><div class=\"wandb-col\"><h3>Run history:</h3><br/><table class=\"wandb\"><tr><td>accuracy</td><td>▁▅▆▇█</td></tr><tr><td>epoch</td><td>▁▃▅▆█</td></tr><tr><td>loss</td><td>█▄▃▂▁</td></tr><tr><td>val_accuracy</td><td>▁▃▆▆█</td></tr><tr><td>val_loss</td><td>█▅▃▂▁</td></tr></table><br/></div><div class=\"wandb-col\"><h3>Run summary:</h3><br/><table class=\"wandb\"><tr><td>accuracy</td><td>0.87347</td></tr><tr><td>best_epoch</td><td>4</td></tr><tr><td>best_val_accuracy</td><td>0.82762</td></tr><tr><td>epoch</td><td>4</td></tr><tr><td>loss</td><td>0.38097</td></tr><tr><td>val_accuracy</td><td>0.82762</td></tr><tr><td>val_loss</td><td>0.5284</td></tr></table><br/></div></div>"
            ]
          },
          "metadata": {}
        },
        {
          "output_type": "display_data",
          "data": {
            "text/plain": [
              "<IPython.core.display.HTML object>"
            ],
            "text/html": [
              "Synced <strong style=\"color:#cdcd00\">CS6910-A2-P_A</strong>: <a href=\"https://wandb.ai/pandp/cs6910-As-2/runs/kb9fngde\" target=\"_blank\">https://wandb.ai/pandp/cs6910-As-2/runs/kb9fngde</a><br/>Synced 5 W&B file(s), 1 media file(s), 0 artifact file(s) and 1 other file(s)"
            ]
          },
          "metadata": {}
        },
        {
          "output_type": "display_data",
          "data": {
            "text/plain": [
              "<IPython.core.display.HTML object>"
            ],
            "text/html": [
              "Find logs at: <code>./wandb/run-20220403_050551-kb9fngde/logs</code>"
            ]
          },
          "metadata": {}
        },
        {
          "output_type": "stream",
          "name": "stderr",
          "text": [
            "\u001b[34m\u001b[1mwandb\u001b[0m: Agent Starting Run: hqh5atdn with config:\n",
            "\u001b[34m\u001b[1mwandb\u001b[0m: \tbatch_size: 16\n",
            "\u001b[34m\u001b[1mwandb\u001b[0m: \tdata_aug: True\n",
            "\u001b[34m\u001b[1mwandb\u001b[0m: \tepochs: 5\n",
            "\u001b[34m\u001b[1mwandb\u001b[0m: \tfreeze: 0.8\n",
            "\u001b[34m\u001b[1mwandb\u001b[0m: \tlr: 1e-05\n",
            "\u001b[34m\u001b[1mwandb\u001b[0m: \tmodel: Xception\n",
            "\u001b[34m\u001b[1mwandb\u001b[0m: \toptimizer: adam\n"
          ]
        },
        {
          "output_type": "display_data",
          "data": {
            "text/plain": [
              "<IPython.core.display.HTML object>"
            ],
            "text/html": [
              "Tracking run with wandb version 0.12.11"
            ]
          },
          "metadata": {}
        },
        {
          "output_type": "display_data",
          "data": {
            "text/plain": [
              "<IPython.core.display.HTML object>"
            ],
            "text/html": [
              "Run data is saved locally in <code>/content/wandb/run-20220403_074030-hqh5atdn</code>"
            ]
          },
          "metadata": {}
        },
        {
          "output_type": "display_data",
          "data": {
            "text/plain": [
              "<IPython.core.display.HTML object>"
            ],
            "text/html": [
              "Syncing run <strong><a href=\"https://wandb.ai/pandp/cs6910-As-2/runs/hqh5atdn\" target=\"_blank\">CS6910-A2-P_A</a></strong> to <a href=\"https://wandb.ai/pandp/cs6910-As-2\" target=\"_blank\">Weights & Biases</a> (<a href=\"https://wandb.me/run\" target=\"_blank\">docs</a>)<br/>Sweep page:  <a href=\"https://wandb.ai/pandp/cs6910-As-2/sweeps/grwlicwk\" target=\"_blank\">https://wandb.ai/pandp/cs6910-As-2/sweeps/grwlicwk</a>"
            ]
          },
          "metadata": {}
        },
        {
          "output_type": "stream",
          "name": "stdout",
          "text": [
            "Found 9018 images belonging to 10 classes.\n",
            "Found 1000 images belonging to 10 classes.\n",
            "Found 2000 images belonging to 10 classes.\n",
            "image_size =  [299, 299]\n",
            "Epoch 1/5\n",
            "  6/563 [..............................] - ETA: 12:15 - loss: 2.4685 - accuracy: 0.1250WARNING:tensorflow:Callback method `on_train_batch_end` is slow compared to the batch time (batch time: 0.3225s vs `on_train_batch_end` time: 0.9896s). Check your callbacks.\n",
            "117/563 [=====>........................] - ETA: 9:42 - loss: 1.7509 - accuracy: 0.4252"
          ]
        }
      ],
      "source": [
        "wandb.agent(sweep_id, train, count=40)\n",
        "#wandb.agent('grwlicwk', function = train, project = 'cs6910-As-2', count=40)"
      ]
    }
  ],
  "metadata": {
    "colab": {
      "collapsed_sections": [],
      "name": "PartB.ipynb",
      "provenance": [],
      "authorship_tag": "ABX9TyP7npsUccMkRo+s4+ky3BwA"
    },
    "kernelspec": {
      "display_name": "Python 3",
      "name": "python3"
    },
    "language_info": {
      "name": "python"
    },
    "accelerator": "GPU",
    "widgets": {
      "application/vnd.jupyter.widget-state+json": {
        "5318e48c34254009a15b634b6cbf62e0": {
          "model_module": "@jupyter-widgets/controls",
          "model_name": "VBoxModel",
          "model_module_version": "1.5.0",
          "state": {
            "_dom_classes": [],
            "_model_module": "@jupyter-widgets/controls",
            "_model_module_version": "1.5.0",
            "_model_name": "VBoxModel",
            "_view_count": null,
            "_view_module": "@jupyter-widgets/controls",
            "_view_module_version": "1.5.0",
            "_view_name": "VBoxView",
            "box_style": "",
            "children": [
              "IPY_MODEL_57786a73c020453a9d304769b0c59d75",
              "IPY_MODEL_b8d93e4e783f498b8a8e135680bcdf91"
            ],
            "layout": "IPY_MODEL_518edd2edfa642c68ec3eab0bd583de3"
          }
        },
        "57786a73c020453a9d304769b0c59d75": {
          "model_module": "@jupyter-widgets/controls",
          "model_name": "LabelModel",
          "model_module_version": "1.5.0",
          "state": {
            "_dom_classes": [],
            "_model_module": "@jupyter-widgets/controls",
            "_model_module_version": "1.5.0",
            "_model_name": "LabelModel",
            "_view_count": null,
            "_view_module": "@jupyter-widgets/controls",
            "_view_module_version": "1.5.0",
            "_view_name": "LabelView",
            "description": "",
            "description_tooltip": null,
            "layout": "IPY_MODEL_a36ae5c3eb1a4fd0adce527553627934",
            "placeholder": "​",
            "style": "IPY_MODEL_0c723c0c741f482d9ddce7c1c9b2e59d",
            "value": "262.537 MB of 262.537 MB uploaded (0.000 MB deduped)\r"
          }
        },
        "b8d93e4e783f498b8a8e135680bcdf91": {
          "model_module": "@jupyter-widgets/controls",
          "model_name": "FloatProgressModel",
          "model_module_version": "1.5.0",
          "state": {
            "_dom_classes": [],
            "_model_module": "@jupyter-widgets/controls",
            "_model_module_version": "1.5.0",
            "_model_name": "FloatProgressModel",
            "_view_count": null,
            "_view_module": "@jupyter-widgets/controls",
            "_view_module_version": "1.5.0",
            "_view_name": "ProgressView",
            "bar_style": "",
            "description": "",
            "description_tooltip": null,
            "layout": "IPY_MODEL_d25c00e436ef46ba865d9d23f0530f5e",
            "max": 1,
            "min": 0,
            "orientation": "horizontal",
            "style": "IPY_MODEL_13172d3ebbd94895bcc8cf4dd8f13383",
            "value": 1
          }
        },
        "518edd2edfa642c68ec3eab0bd583de3": {
          "model_module": "@jupyter-widgets/base",
          "model_name": "LayoutModel",
          "model_module_version": "1.2.0",
          "state": {
            "_model_module": "@jupyter-widgets/base",
            "_model_module_version": "1.2.0",
            "_model_name": "LayoutModel",
            "_view_count": null,
            "_view_module": "@jupyter-widgets/base",
            "_view_module_version": "1.2.0",
            "_view_name": "LayoutView",
            "align_content": null,
            "align_items": null,
            "align_self": null,
            "border": null,
            "bottom": null,
            "display": null,
            "flex": null,
            "flex_flow": null,
            "grid_area": null,
            "grid_auto_columns": null,
            "grid_auto_flow": null,
            "grid_auto_rows": null,
            "grid_column": null,
            "grid_gap": null,
            "grid_row": null,
            "grid_template_areas": null,
            "grid_template_columns": null,
            "grid_template_rows": null,
            "height": null,
            "justify_content": null,
            "justify_items": null,
            "left": null,
            "margin": null,
            "max_height": null,
            "max_width": null,
            "min_height": null,
            "min_width": null,
            "object_fit": null,
            "object_position": null,
            "order": null,
            "overflow": null,
            "overflow_x": null,
            "overflow_y": null,
            "padding": null,
            "right": null,
            "top": null,
            "visibility": null,
            "width": null
          }
        },
        "a36ae5c3eb1a4fd0adce527553627934": {
          "model_module": "@jupyter-widgets/base",
          "model_name": "LayoutModel",
          "model_module_version": "1.2.0",
          "state": {
            "_model_module": "@jupyter-widgets/base",
            "_model_module_version": "1.2.0",
            "_model_name": "LayoutModel",
            "_view_count": null,
            "_view_module": "@jupyter-widgets/base",
            "_view_module_version": "1.2.0",
            "_view_name": "LayoutView",
            "align_content": null,
            "align_items": null,
            "align_self": null,
            "border": null,
            "bottom": null,
            "display": null,
            "flex": null,
            "flex_flow": null,
            "grid_area": null,
            "grid_auto_columns": null,
            "grid_auto_flow": null,
            "grid_auto_rows": null,
            "grid_column": null,
            "grid_gap": null,
            "grid_row": null,
            "grid_template_areas": null,
            "grid_template_columns": null,
            "grid_template_rows": null,
            "height": null,
            "justify_content": null,
            "justify_items": null,
            "left": null,
            "margin": null,
            "max_height": null,
            "max_width": null,
            "min_height": null,
            "min_width": null,
            "object_fit": null,
            "object_position": null,
            "order": null,
            "overflow": null,
            "overflow_x": null,
            "overflow_y": null,
            "padding": null,
            "right": null,
            "top": null,
            "visibility": null,
            "width": null
          }
        },
        "0c723c0c741f482d9ddce7c1c9b2e59d": {
          "model_module": "@jupyter-widgets/controls",
          "model_name": "DescriptionStyleModel",
          "model_module_version": "1.5.0",
          "state": {
            "_model_module": "@jupyter-widgets/controls",
            "_model_module_version": "1.5.0",
            "_model_name": "DescriptionStyleModel",
            "_view_count": null,
            "_view_module": "@jupyter-widgets/base",
            "_view_module_version": "1.2.0",
            "_view_name": "StyleView",
            "description_width": ""
          }
        },
        "d25c00e436ef46ba865d9d23f0530f5e": {
          "model_module": "@jupyter-widgets/base",
          "model_name": "LayoutModel",
          "model_module_version": "1.2.0",
          "state": {
            "_model_module": "@jupyter-widgets/base",
            "_model_module_version": "1.2.0",
            "_model_name": "LayoutModel",
            "_view_count": null,
            "_view_module": "@jupyter-widgets/base",
            "_view_module_version": "1.2.0",
            "_view_name": "LayoutView",
            "align_content": null,
            "align_items": null,
            "align_self": null,
            "border": null,
            "bottom": null,
            "display": null,
            "flex": null,
            "flex_flow": null,
            "grid_area": null,
            "grid_auto_columns": null,
            "grid_auto_flow": null,
            "grid_auto_rows": null,
            "grid_column": null,
            "grid_gap": null,
            "grid_row": null,
            "grid_template_areas": null,
            "grid_template_columns": null,
            "grid_template_rows": null,
            "height": null,
            "justify_content": null,
            "justify_items": null,
            "left": null,
            "margin": null,
            "max_height": null,
            "max_width": null,
            "min_height": null,
            "min_width": null,
            "object_fit": null,
            "object_position": null,
            "order": null,
            "overflow": null,
            "overflow_x": null,
            "overflow_y": null,
            "padding": null,
            "right": null,
            "top": null,
            "visibility": null,
            "width": null
          }
        },
        "13172d3ebbd94895bcc8cf4dd8f13383": {
          "model_module": "@jupyter-widgets/controls",
          "model_name": "ProgressStyleModel",
          "model_module_version": "1.5.0",
          "state": {
            "_model_module": "@jupyter-widgets/controls",
            "_model_module_version": "1.5.0",
            "_model_name": "ProgressStyleModel",
            "_view_count": null,
            "_view_module": "@jupyter-widgets/base",
            "_view_module_version": "1.2.0",
            "_view_name": "StyleView",
            "bar_color": null,
            "description_width": ""
          }
        }
      }
    }
  },
  "nbformat": 4,
  "nbformat_minor": 0
}
