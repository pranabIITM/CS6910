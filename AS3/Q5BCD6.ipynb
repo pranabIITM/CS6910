{
  "nbformat": 4,
  "nbformat_minor": 0,
  "metadata": {
    "colab": {
      "name": "AS3_5(1).ipynb",
      "provenance": [],
      "collapsed_sections": []
    },
    "kernelspec": {
      "name": "python3",
      "display_name": "Python 3"
    },
    "language_info": {
      "name": "python"
    },
    "accelerator": "GPU"
  },
  "cells": [
    {
      "cell_type": "markdown",
      "source": [
        "### Q.5B"
      ],
      "metadata": {
        "id": "OCKDKCcYOccv"
      }
    },
    {
      "cell_type": "markdown",
      "source": [
        "Fetch data from google drive"
      ],
      "metadata": {
        "id": "mxp10zxi0c1J"
      }
    },
    {
      "cell_type": "code",
      "source": [
        "from google.colab import drive\n",
        "drive.mount('/content/gdrive')"
      ],
      "metadata": {
        "colab": {
          "base_uri": "https://localhost:8080/"
        },
        "id": "7_eWPkVKor1b",
        "outputId": "3a1b022c-4fb8-4102-926d-d3e63b2b5d45"
      },
      "execution_count": 1,
      "outputs": [
        {
          "output_type": "stream",
          "name": "stdout",
          "text": [
            "Mounted at /content/gdrive\n"
          ]
        }
      ]
    },
    {
      "cell_type": "markdown",
      "source": [
        "Import libraries"
      ],
      "metadata": {
        "id": "a2YlTnO30iaU"
      }
    },
    {
      "cell_type": "code",
      "execution_count": 36,
      "metadata": {
        "id": "NxkRIsW6qfnx"
      },
      "outputs": [],
      "source": [
        "import numpy as np\n",
        "import matplotlib.pyplot as plt\n",
        "import pandas as pd\n",
        "from tensorflow import keras\n",
        "import tensorflow as tf\n",
        "from keras.layers import SimpleRNN,LSTM,GRU,Embedding,Dense,Dropout,Input,Concatenate\n",
        "from tensorflow.keras.optimizers import Adam,Nadam\n",
        "from keras import Model"
      ]
    },
    {
      "cell_type": "markdown",
      "source": [
        "Data pre-processing"
      ],
      "metadata": {
        "id": "F9g_I5HS0qhM"
      }
    },
    {
      "cell_type": "code",
      "source": [
        "# token mapping\n",
        "def tok_map(data):\n",
        "    source = data['en'].values\n",
        "    target = data['hi'].values\n",
        "    target = '\\t'+target+'\\n'\n",
        "\n",
        "    len_list_s = [len(i) for i in source]\n",
        "    s_max_len = max(len_list_s)\n",
        "\n",
        "    len_list_t = [len(i) for i in target]\n",
        "    t_max_len = max(len_list_t)\n",
        "\n",
        "    # creating tokens of source language\n",
        "    s_tok = set()\n",
        "    for sw in source:\n",
        "        for chr in sw:\n",
        "            s_tok.add(chr)\n",
        "    source_tokens = sorted(list(s_tok))\n",
        "    s_tok_map = dict([(chr,i+1) for i,chr in enumerate(source_tokens)])\n",
        "    s_tok_map[\" \"] = 0\n",
        "\n",
        "    # creating tokens of target language\n",
        "    t_tok = set()\n",
        "    for st in target:\n",
        "        for chr in st:\n",
        "            t_tok.add(chr)\n",
        "    tar_tokens = sorted(list(t_tok))\n",
        "    t_tok_map = dict([(chr,i+1) for i,chr in enumerate(tar_tokens)])\n",
        "    t_tok_map[\" \"] = 0\n",
        "\n",
        "    return source_tokens, s_tok_map, s_max_len, tar_tokens, t_tok_map, t_max_len\n",
        "\n",
        "\n",
        "# load the data given the path\n",
        "def dataLoad(path):\n",
        "    with open(path) as dataFile:\n",
        "        dataset = pd.read_csv(dataFile,sep='\\t',header=None,names=[\"hi\",\"en\",\"\"],skip_blank_lines=True,index_col=None)\n",
        "    dataset = dataset[dataset['hi'].notna()]\n",
        "    dataset = dataset[dataset['en'].notna()]\n",
        "    dataset = dataset[['hi','en']]\n",
        "    return dataset\n",
        "\n",
        "# create inputs for encoder & decoder and target for decoder\n",
        "def dataProcess(data):\n",
        "    src,tar = data['en'].values, data['hi'].values\n",
        "    tar = \"\\t\" + tar + \"\\n\"\n",
        "\n",
        "    slen = len(src)\n",
        "    enc_inp = np.zeros(\n",
        "        (slen,s_max_len), dtype=\"float32\"\n",
        "    )\n",
        "\n",
        "    tlen = len(tar)\n",
        "    dec_inp = np.zeros(\n",
        "        (tlen,t_max_len), dtype=\"float32\"\n",
        "    )\n",
        "    dec_tar = np.zeros(\n",
        "        (tlen, t_max_len, len(tar_tokens)+1), dtype=\"int\"\n",
        "    )\n",
        "\n",
        "    for i,(sw,tw) in enumerate(zip(src,tar)):\n",
        "        # encoder input\n",
        "        for j,ch in enumerate(sw):\n",
        "            enc_inp[i,j] = s_tok_map[ch]\n",
        "        enc_inp[i,j+1:] = s_tok_map[\" \"]\n",
        "\n",
        "        # decoder input\n",
        "        for j,ch in enumerate(tw):\n",
        "            dec_inp[i,j] = t_tok_map[ch]\n",
        "            if j>0:\n",
        "                dec_tar[i,j-1,t_tok_map[ch]] = 1\n",
        "\n",
        "        # decoder target\n",
        "        dec_inp[i,j+1:] = t_tok_map[\" \"]\n",
        "        dec_tar[i,j:,t_tok_map[\" \"]] = 1\n",
        "        \n",
        "    return enc_inp, dec_inp, dec_tar"
      ],
      "metadata": {
        "id": "DkEdW4NPr2a5"
      },
      "execution_count": 39,
      "outputs": []
    },
    {
      "cell_type": "code",
      "source": [
        "train = dataLoad(\"/content/gdrive/MyDrive/dakshina_dataset_v1.0/hi/lexicons/hi.translit.sampled.train.tsv\")\n",
        "source_tokens, s_tok_map, s_max_len, tar_tokens, t_tok_map, t_max_len = tok_map(train)\n",
        "dev = dataLoad(\"/content/gdrive/MyDrive/dakshina_dataset_v1.0/hi/lexicons/hi.translit.sampled.dev.tsv\")\n",
        "test = dataLoad(\"/content/gdrive/MyDrive/dakshina_dataset_v1.0/hi/lexicons/hi.translit.sampled.test.tsv\")  "
      ],
      "metadata": {
        "id": "-EiehZ7kWXWK"
      },
      "execution_count": 116,
      "outputs": []
    },
    {
      "cell_type": "code",
      "source": [
        "# Process the training data\n",
        "train_encoder_input, train_decoder_input, train_decoder_target = dataProcess(train)\n",
        "\n",
        "# Process the validation data\n",
        "val_encoder_input, val_decoder_input, val_decoder_target = dataProcess(dev)\n",
        "\n",
        "# Process the test data\n",
        "test_encoder_input, test_decoder_input, test_decoder_target= dataProcess(test)"
      ],
      "metadata": {
        "id": "81-zvfMcgaJ3"
      },
      "execution_count": 117,
      "outputs": []
    },
    {
      "cell_type": "code",
      "source": [
        "np.random.seed(42)"
      ],
      "metadata": {
        "id": "7jJSKslD4eVr"
      },
      "execution_count": 42,
      "outputs": []
    },
    {
      "cell_type": "code",
      "source": [
        "# Attention mechanism\n",
        "class Attention(tf.keras.layers.Layer):\n",
        "    def __init__(self, units,name=None, **kwargs):\n",
        "        super(Attention, self).__init__(name=name)\n",
        "        self.W1 = Dense(units,name='w1')\n",
        "        self.W2 = Dense(units,name='w2')\n",
        "        self.V = Dense(1,name='v')\n",
        "        self.units = units\n",
        "        super(Attention, self).__init__(**kwargs)\n",
        "\n",
        "    def call(self, tup):\n",
        "        #calculate the score\n",
        "        score = self.V(tf.nn.tanh(self.W1(tf.expand_dims(tup[0], 1)) + self.W2(tup[1])))\n",
        "\n",
        "        # attention weights\n",
        "        weights = tf.nn.softmax(score, axis=1)\n",
        "\n",
        "        # context vector\n",
        "        vector = tf.reduce_sum( weights *  tup[1], axis=1)\n",
        "        \n",
        "        return vector, weights"
      ],
      "metadata": {
        "id": "-kGKuzojWLTD"
      },
      "execution_count": 140,
      "outputs": []
    },
    {
      "cell_type": "code",
      "source": [
        "# to calculate accuracy\n",
        "def accuracy1(true,pred):\n",
        "    mask = tf.cast(tf.math.logical_not(tf.math.equal(true, 0)), dtype='int32')\n",
        "    acc = tf.cast(tf.math.equal(tf.math.argmax(true,axis=2),tf.math.argmax(pred,axis=2)), dtype='int32')\n",
        "    acc = tf.cast(tf.math.equal(tf.reduce_sum(tf.math.multiply(acc,mask),axis=1),tf.reduce_sum(mask,axis=1)), dtype='float32')\n",
        "    return (tf.reduce_mean(acc))"
      ],
      "metadata": {
        "id": "0cEHs03iy48M"
      },
      "execution_count": 139,
      "outputs": []
    },
    {
      "cell_type": "markdown",
      "source": [
        "Inference"
      ],
      "metadata": {
        "id": "Wg0N1Np7vUoY"
      }
    },
    {
      "cell_type": "code",
      "source": [
        "# load the saved model\n",
        "keras.backend.clear_session()\n",
        "model = keras.models.load_model('/content/gdrive/MyDrive/best_model_with_att.h5',custom_objects={'accuracy1':accuracy1,'Attention':Attention})"
      ],
      "metadata": {
        "id": "JL1UyvJ55a4p"
      },
      "execution_count": 137,
      "outputs": []
    },
    {
      "cell_type": "code",
      "source": [
        "# prepare encoder and decoder for prediction\n",
        "def build_enc_dec(model,nunits=32,encl=1,decl=1,Layer='LSTM',dropout=None):\n",
        "    keras.backend.clear_session()\n",
        "\n",
        "    # prepare encoder \n",
        "    enc_inps = model.input[0]\n",
        "    enc_emb = model.get_layer('enc_embed')\n",
        "    \n",
        "    enc_old = [model.get_layer(f'enc_{i}') for i in range(encl-1)]\n",
        "    enc_final = model.get_layer(f'enc_{encl-1}')\n",
        "    encop = enc_emb(enc_inps)\n",
        "    for i,lay in enumerate(enc_old):\n",
        "        encop = lay(encop)\n",
        "        if dropout is not None:\n",
        "            encop = model.get_layer(f'do_{i}')(encop)\n",
        "     \n",
        "    # for LSTM\n",
        "    if Layer == \"LSTM\":\n",
        "        o, state_h,state_c = enc_final(encop)\n",
        "        enc_final = [o,state_h,state_c]\n",
        "        \n",
        "    # for GRU\n",
        "    elif Layer == \"GRU\":\n",
        "        o, state = enc_final(encop)\n",
        "        enc_final = [o,state]\n",
        "\n",
        "    enc = keras.models.Model(enc_inps,enc_final)\n",
        "    print(\"Encoder : Done\")\n",
        "    \n",
        "    # prepare encoder \n",
        "    dec_old = [model.get_layer(f'dec_{i}') for i in range(decl)]\n",
        "    att = model.get_layer('attention')\n",
        "    concat1 = model.get_layer('concat1')\n",
        "    dec_inps = model.input[1]\n",
        "    dec_emb = model.get_layer('dec_embed')\n",
        "    decoc = dec_emb(dec_inps)\n",
        "    \n",
        "    # for LSTM\n",
        "    if Layer == \"LSTM\":\n",
        "        state_inputs = []\n",
        "        state_outputs = []\n",
        "        \n",
        "        enc_oi = Input(shape=(None,nunits),name='inputenc')\n",
        "        \n",
        "        decop = decoc[:,-1:,:]\n",
        "                                                                  \n",
        "        for i in range(decl):\n",
        "            dec_h = Input(shape=(nunits,),name=f\"inputh{i}\")\n",
        "            dec_c = Input(shape=(nunits,),name=f\"inputc{i}\")\n",
        "            \n",
        "            if i==0:\n",
        "                tup = (dec_h,enc_oi)\n",
        "                context,weights = att(tup)\n",
        "                decop = concat1([tf.expand_dims(context, 1), decop])\n",
        "                \n",
        "            decop,sh,sc = dec_old[i](decop,initial_state = [dec_h,dec_c])\n",
        "            state_inputs += [dec_h,dec_c]\n",
        "            state_outputs += [sh,sc]\n",
        "            \n",
        "        dec_pass = [dec_inps,enc_oi] + state_inputs\n",
        "\n",
        "    # for GRU\n",
        "    elif Layer == \"GRU\":\n",
        "        state_inputs = []\n",
        "        state_outputs = []\n",
        "        \n",
        "        enc_oi = Input(shape=(None,nunits),name='inputenc')\n",
        "        \n",
        "        decop = decoc[:,:1,:]\n",
        "                                                                  \n",
        "        for i in range(decl):\n",
        "            state_input = Input(shape=(nunits,),name=f\"inputs{i}\")\n",
        "            \n",
        "            if i==0:\n",
        "                tup = (state_input,enc_oi)\n",
        "                context,weights = att(tup)\n",
        "                decop = concat1([tf.expand_dims(context, 1), decop])\n",
        "                \n",
        "            decop,s = dec_old[i](decop,initial_state = state_input)\n",
        "            state_inputs.append(state_input)\n",
        "            state_outputs.append(s)\n",
        "            \n",
        "        dec_pass = [dec_inps,enc_oi] + state_inputs\n",
        "\n",
        "    pre_out = model.get_layer('dense1')(decop)\n",
        "    final_output = model.get_layer('dense2')(pre_out)\n",
        "\n",
        "    dec = keras.models.Model(dec_pass, [final_output,weights]+state_outputs)\n",
        "    print(\"Decoder : Done\")\n",
        "    \n",
        "    return enc,dec"
      ],
      "metadata": {
        "id": "uqONR3de5a1M"
      },
      "execution_count": 138,
      "outputs": []
    },
    {
      "cell_type": "code",
      "source": [
        "enc,dec = build_enc_dec(model ,nunits=128,encl=1,decl=1,Layer=\"GRU\",dropout='yes')"
      ],
      "metadata": {
        "colab": {
          "base_uri": "https://localhost:8080/"
        },
        "id": "n4pNuwp-5kaj",
        "outputId": "4110fdfe-edf8-473c-f0ed-b9afe15b4f04"
      },
      "execution_count": 120,
      "outputs": [
        {
          "output_type": "stream",
          "name": "stdout",
          "text": [
            "Encoder : Done\n",
            "Decoder : Done\n"
          ]
        }
      ]
    },
    {
      "cell_type": "code",
      "source": [
        "# Beam search\n",
        "def beam_search(input, BeamWidth, decl, cell=\"LSTM\"):\n",
        "    print(\"BeamSearch Starting\")\n",
        "  \n",
        "    enc_pred = enc.predict(input)\n",
        "    stateList = enc_pred[1:]\n",
        "    tar_seq = np.zeros((input.shape[0],1))\n",
        "    tar_seq[:,0] = t_tok_map[\"\\t\"]\n",
        "    if cell != \"LSTM\":\n",
        "      states = []\n",
        "      for i in range(decl):\n",
        "          states += [stateList]\n",
        "    else:\n",
        "      states = []\n",
        "      for i in range(decl):\n",
        "          states += [stateList[0],stateList[1]]\n",
        "  \n",
        "    \n",
        "    output = dec.predict([tar_seq,enc_pred[0]]+states)\n",
        "    states = output[2:]\n",
        "    stateTrArr = np.asarray(states).transpose([1,0,2])\n",
        "    \n",
        "    points = np.sort(output[0][:,-1,:],axis=-1)[:,-BeamWidth:]\n",
        "    beamChar = np.argsort(output[0][:,-1,:],axis=-1)[:,-BeamWidth:]\n",
        "    \n",
        "    inps0 = input.shape[0]\n",
        "    seqs = []\n",
        "    for i in range(inps0):\n",
        "      temp = [([chr],-np.log(pt),stateTrArr[i],0,output[1][i]) for chr,pt in zip(beamChar[i],points[i])]\n",
        "      seqs.append(temp)\n",
        "    \n",
        "    \n",
        "    for _ in range(t_max_len-1):\n",
        "        si_ze = input.shape[0]\n",
        "        probable = []\n",
        "        for _ in range(si_ze):\n",
        "            probable.append([])\n",
        "        for j in range(BeamWidth):\n",
        "            tar_seq[:,0] = [seqs[i][j][0][-1] for i in range(si_ze)]\n",
        "            states = list(np.asarray([seqs[i][j][2] for i in range(si_ze)]).transpose([1,0,2]))\n",
        "            output = dec.predict([tar_seq,enc_pred[0]]+states,batch_size=32)\n",
        "\n",
        "            beamChar = np.argsort(output[0][:,-1,:],axis=-1)[:,-BeamWidth:]\n",
        "            points = np.sort(output[0][:,-1,:],axis=-1)[:,-BeamWidth:]\n",
        "            stateTrArr = np.asarray(output[2:]).transpose([1,0,2])\n",
        "            \n",
        "            for i in range(si_ze):\n",
        "                if ( not((seqs[i][j][0][-1] == t_tok_map[\"\\n\"]) or (seqs[i][j][3]==1)) ):\n",
        "                  check = 0\n",
        "                else:\n",
        "                  check = 1\n",
        "\n",
        "                if check != 0:\n",
        "                    probable[i] += [seqs[i][j]]\n",
        "                else:\n",
        "                    probable[i] += [(seqs[i][j][0]+[beamChar[i,rep]],\n",
        "                                     seqs[i][j][1]-np.log(points[i,rep]),\n",
        "                                     stateTrArr[i],\n",
        "                                     check,\n",
        "                                     np.concatenate((seqs[i][j][4],output[1][i]),axis=1)) \n",
        "                                     for rep in range(BeamWidth)]\n",
        "                    \n",
        "                    \n",
        "        for i in range(si_ze):\n",
        "            probable[i] = sorted(probable[i],key = lambda var:var[1]/len(var[0]))\n",
        "        \n",
        "        for i in range(si_ze):\n",
        "            seqs[i] = probable[i][:BeamWidth]\n",
        "\n",
        "    si_ze = input.shape[0]\n",
        "    result = []\n",
        "    for i in range(si_ze):\n",
        "      result.append([])\n",
        "    weights = []\n",
        "    for i in range(si_ze):\n",
        "      weights.append([])\n",
        "    for i in range(si_ze):\n",
        "        for j in range(BeamWidth):\n",
        "            result[i].append(seqs[i][j][0])\n",
        "            weights[i].append(seqs[i][j][4])\n",
        "        \n",
        "    \n",
        "    print(\"BeamSearch Complete\")    \n",
        "    return result,weights"
      ],
      "metadata": {
        "id": "cLZJC1hQ-PCy"
      },
      "execution_count": 160,
      "outputs": []
    },
    {
      "cell_type": "code",
      "source": [
        "prediction, weights = beam_search(test_encoder_input,5,1,cell=\"GRU\")"
      ],
      "metadata": {
        "id": "zDXZWbvZSCEP",
        "colab": {
          "base_uri": "https://localhost:8080/"
        },
        "outputId": "9f94a74d-2bed-4b12-edf4-7c9fd53a2bac"
      },
      "execution_count": 173,
      "outputs": [
        {
          "output_type": "stream",
          "name": "stdout",
          "text": [
            "BeamSearch Starting\n",
            "BeamSearch Complete\n"
          ]
        }
      ]
    },
    {
      "cell_type": "code",
      "source": [
        "# generate reverse mapping of tokens\n",
        "reverse_eng_map = dict([(i,j) for j,i in s_tok_map.items()])\n",
        "reverse_hin_map = dict([(i,j) for j,i in t_tok_map.items()])\n",
        "\n",
        "# store result for next question\n",
        "result = []\n",
        "\n",
        "# calculate accuracy\n",
        "count = 0\n",
        "for i,p in enumerate(prediction):\n",
        "    word = []\n",
        "    real = \"\"\n",
        "    for c in test_encoder_input[i]:\n",
        "        if reverse_eng_map[c] == \" \":\n",
        "            break\n",
        "        real += reverse_eng_map[c]\n",
        "    word.append(real)\n",
        "    pred = \"\"\n",
        "    for c in test_decoder_input[i,1:]:\n",
        "        if reverse_hin_map[c] == \"\\n\":\n",
        "            break\n",
        "        pred += reverse_hin_map[c]\n",
        "    word.append(pred)\n",
        "    \n",
        "    flag=0\n",
        "    for j,pr in enumerate(p):\n",
        "        out = \"\"\n",
        "        for c in pr:\n",
        "            if reverse_hin_map[c] == \"\\n\":\n",
        "                break\n",
        "            out += reverse_hin_map[c]\n",
        "        word.append(out)\n",
        "        if j==0 and pred == out:\n",
        "                flag=1\n",
        "    if flag==1:\n",
        "        count += 1\n",
        "    result.append(word)\n",
        "\n",
        "accuracy = count/len(result)\n",
        "print(accuracy)"
      ],
      "metadata": {
        "id": "uz3UqXgDSJoM",
        "colab": {
          "base_uri": "https://localhost:8080/"
        },
        "outputId": "32a969f8-c68c-4840-d263-20dbec685e7c"
      },
      "execution_count": 133,
      "outputs": [
        {
          "output_type": "stream",
          "name": "stdout",
          "text": [
            "0.4102621057307863\n"
          ]
        }
      ]
    },
    {
      "cell_type": "markdown",
      "source": [
        "### Q.5C"
      ],
      "metadata": {
        "id": "jOVxAFGKOqxK"
      }
    },
    {
      "cell_type": "code",
      "source": [
        "df = pd.DataFrame(result,columns=['English','Hindi']+[f'Hindi_pred_{i}' for i in range(5)])\n",
        "df.sample(n=10)"
      ],
      "metadata": {
        "id": "pDN-VkapSM5X",
        "colab": {
          "base_uri": "https://localhost:8080/",
          "height": 363
        },
        "outputId": "eb0e8cbf-883a-47f4-e2b6-c286c71494ed"
      },
      "execution_count": 130,
      "outputs": [
        {
          "output_type": "execute_result",
          "data": {
            "text/plain": [
              "          English       Hindi Hindi_pred_0 Hindi_pred_1 Hindi_pred_2  \\\n",
              "4145       saajan        साजन         साजन         सजान         शाजन   \n",
              "544        egmore       एगमोर         एगमर       एग्मोर         इगमर   \n",
              "157   ayodhyanath  अयोध्यानाथ    अयोध्यनाथ    आयोध्यनाथ     अयोध्यनत   \n",
              "274     aajmaanaa      आजमाना       आजमाना      आज्माना        आजमान   \n",
              "538           asi       एएसआई          असी          आसी          एसी   \n",
              "179    alankaaron    अलंकारों     अलंकारों     आलंकारों    अलांकारों   \n",
              "1360       jeneva      जिनीवा       जेनेवा       जैनेवा       जेलेवा   \n",
              "2964     bhareeye       भारीय         भरीय        भारीय        भड़ीय   \n",
              "1777      danpati       दंपति       दानपति       दानपती        दनपति   \n",
              "3928    shaasakon      शासकों       शासकों      शासाकों     क्षासकों   \n",
              "\n",
              "     Hindi_pred_3 Hindi_pred_4  \n",
              "4145         साजण          सजन  \n",
              "544        इग्मोर         एजमर  \n",
              "157      आयोध्यनत     अयोध्यनथ  \n",
              "274        अजमाना       आजमाणा  \n",
              "538           अशी          आसि  \n",
              "179     अलानकारों    अलाकाराओं  \n",
              "1360       जिनेवा       जेमेवा  \n",
              "2964         भरेय         भारी  \n",
              "1777        दनपती       डांपति  \n",
              "3928      शास्कों     शास्काओं  "
            ],
            "text/html": [
              "\n",
              "  <div id=\"df-c1d13a80-2a16-49f7-921e-c37af4e3e98e\">\n",
              "    <div class=\"colab-df-container\">\n",
              "      <div>\n",
              "<style scoped>\n",
              "    .dataframe tbody tr th:only-of-type {\n",
              "        vertical-align: middle;\n",
              "    }\n",
              "\n",
              "    .dataframe tbody tr th {\n",
              "        vertical-align: top;\n",
              "    }\n",
              "\n",
              "    .dataframe thead th {\n",
              "        text-align: right;\n",
              "    }\n",
              "</style>\n",
              "<table border=\"1\" class=\"dataframe\">\n",
              "  <thead>\n",
              "    <tr style=\"text-align: right;\">\n",
              "      <th></th>\n",
              "      <th>English</th>\n",
              "      <th>Hindi</th>\n",
              "      <th>Hindi_pred_0</th>\n",
              "      <th>Hindi_pred_1</th>\n",
              "      <th>Hindi_pred_2</th>\n",
              "      <th>Hindi_pred_3</th>\n",
              "      <th>Hindi_pred_4</th>\n",
              "    </tr>\n",
              "  </thead>\n",
              "  <tbody>\n",
              "    <tr>\n",
              "      <th>4145</th>\n",
              "      <td>saajan</td>\n",
              "      <td>साजन</td>\n",
              "      <td>साजन</td>\n",
              "      <td>सजान</td>\n",
              "      <td>शाजन</td>\n",
              "      <td>साजण</td>\n",
              "      <td>सजन</td>\n",
              "    </tr>\n",
              "    <tr>\n",
              "      <th>544</th>\n",
              "      <td>egmore</td>\n",
              "      <td>एगमोर</td>\n",
              "      <td>एगमर</td>\n",
              "      <td>एग्मोर</td>\n",
              "      <td>इगमर</td>\n",
              "      <td>इग्मोर</td>\n",
              "      <td>एजमर</td>\n",
              "    </tr>\n",
              "    <tr>\n",
              "      <th>157</th>\n",
              "      <td>ayodhyanath</td>\n",
              "      <td>अयोध्यानाथ</td>\n",
              "      <td>अयोध्यनाथ</td>\n",
              "      <td>आयोध्यनाथ</td>\n",
              "      <td>अयोध्यनत</td>\n",
              "      <td>आयोध्यनत</td>\n",
              "      <td>अयोध्यनथ</td>\n",
              "    </tr>\n",
              "    <tr>\n",
              "      <th>274</th>\n",
              "      <td>aajmaanaa</td>\n",
              "      <td>आजमाना</td>\n",
              "      <td>आजमाना</td>\n",
              "      <td>आज्माना</td>\n",
              "      <td>आजमान</td>\n",
              "      <td>अजमाना</td>\n",
              "      <td>आजमाणा</td>\n",
              "    </tr>\n",
              "    <tr>\n",
              "      <th>538</th>\n",
              "      <td>asi</td>\n",
              "      <td>एएसआई</td>\n",
              "      <td>असी</td>\n",
              "      <td>आसी</td>\n",
              "      <td>एसी</td>\n",
              "      <td>अशी</td>\n",
              "      <td>आसि</td>\n",
              "    </tr>\n",
              "    <tr>\n",
              "      <th>179</th>\n",
              "      <td>alankaaron</td>\n",
              "      <td>अलंकारों</td>\n",
              "      <td>अलंकारों</td>\n",
              "      <td>आलंकारों</td>\n",
              "      <td>अलांकारों</td>\n",
              "      <td>अलानकारों</td>\n",
              "      <td>अलाकाराओं</td>\n",
              "    </tr>\n",
              "    <tr>\n",
              "      <th>1360</th>\n",
              "      <td>jeneva</td>\n",
              "      <td>जिनीवा</td>\n",
              "      <td>जेनेवा</td>\n",
              "      <td>जैनेवा</td>\n",
              "      <td>जेलेवा</td>\n",
              "      <td>जिनेवा</td>\n",
              "      <td>जेमेवा</td>\n",
              "    </tr>\n",
              "    <tr>\n",
              "      <th>2964</th>\n",
              "      <td>bhareeye</td>\n",
              "      <td>भारीय</td>\n",
              "      <td>भरीय</td>\n",
              "      <td>भारीय</td>\n",
              "      <td>भड़ीय</td>\n",
              "      <td>भरेय</td>\n",
              "      <td>भारी</td>\n",
              "    </tr>\n",
              "    <tr>\n",
              "      <th>1777</th>\n",
              "      <td>danpati</td>\n",
              "      <td>दंपति</td>\n",
              "      <td>दानपति</td>\n",
              "      <td>दानपती</td>\n",
              "      <td>दनपति</td>\n",
              "      <td>दनपती</td>\n",
              "      <td>डांपति</td>\n",
              "    </tr>\n",
              "    <tr>\n",
              "      <th>3928</th>\n",
              "      <td>shaasakon</td>\n",
              "      <td>शासकों</td>\n",
              "      <td>शासकों</td>\n",
              "      <td>शासाकों</td>\n",
              "      <td>क्षासकों</td>\n",
              "      <td>शास्कों</td>\n",
              "      <td>शास्काओं</td>\n",
              "    </tr>\n",
              "  </tbody>\n",
              "</table>\n",
              "</div>\n",
              "      <button class=\"colab-df-convert\" onclick=\"convertToInteractive('df-c1d13a80-2a16-49f7-921e-c37af4e3e98e')\"\n",
              "              title=\"Convert this dataframe to an interactive table.\"\n",
              "              style=\"display:none;\">\n",
              "        \n",
              "  <svg xmlns=\"http://www.w3.org/2000/svg\" height=\"24px\"viewBox=\"0 0 24 24\"\n",
              "       width=\"24px\">\n",
              "    <path d=\"M0 0h24v24H0V0z\" fill=\"none\"/>\n",
              "    <path d=\"M18.56 5.44l.94 2.06.94-2.06 2.06-.94-2.06-.94-.94-2.06-.94 2.06-2.06.94zm-11 1L8.5 8.5l.94-2.06 2.06-.94-2.06-.94L8.5 2.5l-.94 2.06-2.06.94zm10 10l.94 2.06.94-2.06 2.06-.94-2.06-.94-.94-2.06-.94 2.06-2.06.94z\"/><path d=\"M17.41 7.96l-1.37-1.37c-.4-.4-.92-.59-1.43-.59-.52 0-1.04.2-1.43.59L10.3 9.45l-7.72 7.72c-.78.78-.78 2.05 0 2.83L4 21.41c.39.39.9.59 1.41.59.51 0 1.02-.2 1.41-.59l7.78-7.78 2.81-2.81c.8-.78.8-2.07 0-2.86zM5.41 20L4 18.59l7.72-7.72 1.47 1.35L5.41 20z\"/>\n",
              "  </svg>\n",
              "      </button>\n",
              "      \n",
              "  <style>\n",
              "    .colab-df-container {\n",
              "      display:flex;\n",
              "      flex-wrap:wrap;\n",
              "      gap: 12px;\n",
              "    }\n",
              "\n",
              "    .colab-df-convert {\n",
              "      background-color: #E8F0FE;\n",
              "      border: none;\n",
              "      border-radius: 50%;\n",
              "      cursor: pointer;\n",
              "      display: none;\n",
              "      fill: #1967D2;\n",
              "      height: 32px;\n",
              "      padding: 0 0 0 0;\n",
              "      width: 32px;\n",
              "    }\n",
              "\n",
              "    .colab-df-convert:hover {\n",
              "      background-color: #E2EBFA;\n",
              "      box-shadow: 0px 1px 2px rgba(60, 64, 67, 0.3), 0px 1px 3px 1px rgba(60, 64, 67, 0.15);\n",
              "      fill: #174EA6;\n",
              "    }\n",
              "\n",
              "    [theme=dark] .colab-df-convert {\n",
              "      background-color: #3B4455;\n",
              "      fill: #D2E3FC;\n",
              "    }\n",
              "\n",
              "    [theme=dark] .colab-df-convert:hover {\n",
              "      background-color: #434B5C;\n",
              "      box-shadow: 0px 1px 3px 1px rgba(0, 0, 0, 0.15);\n",
              "      filter: drop-shadow(0px 1px 2px rgba(0, 0, 0, 0.3));\n",
              "      fill: #FFFFFF;\n",
              "    }\n",
              "  </style>\n",
              "\n",
              "      <script>\n",
              "        const buttonEl =\n",
              "          document.querySelector('#df-c1d13a80-2a16-49f7-921e-c37af4e3e98e button.colab-df-convert');\n",
              "        buttonEl.style.display =\n",
              "          google.colab.kernel.accessAllowed ? 'block' : 'none';\n",
              "\n",
              "        async function convertToInteractive(key) {\n",
              "          const element = document.querySelector('#df-c1d13a80-2a16-49f7-921e-c37af4e3e98e');\n",
              "          const dataTable =\n",
              "            await google.colab.kernel.invokeFunction('convertToInteractive',\n",
              "                                                     [key], {});\n",
              "          if (!dataTable) return;\n",
              "\n",
              "          const docLinkHtml = 'Like what you see? Visit the ' +\n",
              "            '<a target=\"_blank\" href=https://colab.research.google.com/notebooks/data_table.ipynb>data table notebook</a>'\n",
              "            + ' to learn more about interactive tables.';\n",
              "          element.innerHTML = '';\n",
              "          dataTable['output_type'] = 'display_data';\n",
              "          await google.colab.output.renderOutput(dataTable, element);\n",
              "          const docLink = document.createElement('div');\n",
              "          docLink.innerHTML = docLinkHtml;\n",
              "          element.appendChild(docLink);\n",
              "        }\n",
              "      </script>\n",
              "    </div>\n",
              "  </div>\n",
              "  "
            ]
          },
          "metadata": {},
          "execution_count": 130
        }
      ]
    },
    {
      "cell_type": "code",
      "source": [
        "df.to_csv('predictions_attention.csv')"
      ],
      "metadata": {
        "id": "krvd6MG8wtLi"
      },
      "execution_count": 52,
      "outputs": []
    },
    {
      "cell_type": "code",
      "source": [
        "# difference between predictions of vanilla model vs model with attention\n",
        "data = pd.read_csv(\"/content/prediction.csv\")\n",
        "data = data.loc[data[\"Hindi_Real\"]==data[\"Hindi_attention\"]]\n",
        "data = data.loc[data[\"Hindi_Real\"]!=data[\"Hindi_vanilla\"]]\n",
        "data = data.sample(frac=1, random_state=0)\n",
        "data.to_csv('predictions_diff.csv')\n",
        "print(data.head())"
      ],
      "metadata": {
        "id": "rcqA1L9CwuWi"
      },
      "execution_count": null,
      "outputs": []
    },
    {
      "cell_type": "markdown",
      "source": [
        "### Q.5D"
      ],
      "metadata": {
        "id": "pcchMEpixPn3"
      }
    },
    {
      "cell_type": "code",
      "source": [
        "from matplotlib.font_manager import FontProperties\n",
        "import matplotlib.ticker as ticker\n",
        "import matplotlib as mpl\n",
        "from mpl_toolkits.axes_grid1 import make_axes_locatable\n",
        "\n",
        "mpl.rcParams['font.sans-serif'] = [\"Arial Unicode MS\"]\n",
        "\n",
        "def plot_attention(attention, sentence, predicted_sentence,orig,hind,deco):\n",
        "    \n",
        "    fig = plt.figure(figsize=(5,5))\n",
        "    ax = fig.add_subplot(1, 1, 1)\n",
        "    plott = ax.matshow(attention, cmap='viridis')\n",
        "\n",
        "    fontdict = {'fontsize': 14}\n",
        "    hindi_font = FontProperties(fname = '/content/gdrive/MyDrive/dakshina_dataset_v1.0/hi/VesperLibreRegular.ttf')\n",
        "    \n",
        "    ax.set_xticklabels([''] + sentence, fontdict=fontdict, rotation=90)\n",
        "    ax.set_yticklabels([''] + predicted_sentence, fontproperties=hindi_font, fontdict=fontdict)\n",
        "\n",
        "    ax.xaxis.set_major_locator(ticker.MultipleLocator(1))\n",
        "    ax.yaxis.set_major_locator(ticker.MultipleLocator(1))\n",
        "    \n",
        "    title = f\"Original word in english: {orig}\\nOriginal word in hindi: {hind}\\nDecoded word in hindi: {deco}\"\n",
        "    \n",
        "    fontdict = {'fontsize': 18}\n",
        "    plt.title(title,fontproperties=hindi_font, fontsize=14,y=-.3)\n",
        "    \n",
        "    divider = make_axes_locatable(ax)\n",
        "    cax = divider.append_axes(\"right\", size=\"5%\", pad=0.1)\n",
        "    plt.colorbar(plott,cax=cax)\n",
        "    \n",
        "    plt.tight_layout()\n",
        "\n",
        "    plt.show()"
      ],
      "metadata": {
        "id": "LZvGoGbkxEiL"
      },
      "execution_count": 53,
      "outputs": []
    },
    {
      "cell_type": "code",
      "source": [
        "val = df.values\n",
        "\n",
        "for _ in range(10):\n",
        "    sp = np.random.choice(val.shape[0])\n",
        "\n",
        "    output = [x for x in val[sp][2].strip()] + ['<end>']\n",
        "    input = [x for x in val[sp][0].strip()] + ['<end>']\n",
        "\n",
        "    plot = weights[sp][0][:len(input),:len(output)].T\n",
        "\n",
        "    print(\"Original word in english:\", val[sp][0])\n",
        "    print(\"Original word in hindi:\", val[sp][1])\n",
        "    print(\"Decoded word in hindi:\", val[sp][2])\n",
        "\n",
        "    plot_attention(plot, input, output,val[sp][0],val[sp][1],val[sp][2])"
      ],
      "metadata": {
        "id": "ZElJP-EixTqH",
        "colab": {
          "base_uri": "https://localhost:8080/",
          "height": 1000
        },
        "outputId": "161252ce-12bd-46bd-8392-d3dcd7eaccd4"
      },
      "execution_count": 161,
      "outputs": [
        {
          "output_type": "stream",
          "name": "stdout",
          "text": [
            "Original word in english: vash\n",
            "Original word in hindi: वश\n",
            "Decoded word in hindi: वाश\n"
          ]
        },
        {
          "output_type": "display_data",
          "data": {
            "text/plain": [
              "<Figure size 360x360 with 2 Axes>"
            ],
            "image/png": "[encoded data removed]"
          },
          "metadata": {
            "needs_background": "light"
          }
        },
        {
          "output_type": "stream",
          "name": "stdout",
          "text": [
            "Original word in english: fatma\n",
            "Original word in hindi: फातमा\n",
            "Decoded word in hindi: फटमा\n"
          ]
        },
        {
          "output_type": "display_data",
          "data": {
            "text/plain": [
              "<Figure size 360x360 with 2 Axes>"
            ],
            "image/png": "[encoded data removed]"
          },
          "metadata": {
            "needs_background": "light"
          }
        },
        {
          "output_type": "stream",
          "name": "stdout",
          "text": [
            "Original word in english: phalitartha\n",
            "Original word in hindi: फलितार्थ\n",
            "Decoded word in hindi: फलितर्था\n"
          ]
        },
        {
          "output_type": "display_data",
          "data": {
            "text/plain": [
              "<Figure size 360x360 with 2 Axes>"
            ],
            "image/png": "[encoded data removed]"
          },
          "metadata": {
            "needs_background": "light"
          }
        },
        {
          "output_type": "stream",
          "name": "stdout",
          "text": [
            "Original word in english: bagali\n",
            "Original word in hindi: बागली\n",
            "Decoded word in hindi: बगली\n"
          ]
        },
        {
          "output_type": "display_data",
          "data": {
            "text/plain": [
              "<Figure size 360x360 with 2 Axes>"
            ],
            "image/png": "[encoded data removed]"
          },
          "metadata": {
            "needs_background": "light"
          }
        },
        {
          "output_type": "stream",
          "name": "stdout",
          "text": [
            "Original word in english: barasingha\n",
            "Original word in hindi: बारहसिंगा\n",
            "Decoded word in hindi: बरसिंह\n"
          ]
        },
        {
          "output_type": "display_data",
          "data": {
            "text/plain": [
              "<Figure size 360x360 with 2 Axes>"
            ],
            "image/png": "[encoded data removed]"
          },
          "metadata": {
            "needs_background": "light"
          }
        },
        {
          "output_type": "stream",
          "name": "stdout",
          "text": [
            "Original word in english: pigs\n",
            "Original word in hindi: पिग्स\n",
            "Decoded word in hindi: पिग्स\n"
          ]
        },
        {
          "output_type": "display_data",
          "data": {
            "text/plain": [
              "<Figure size 360x360 with 2 Axes>"
            ],
            "image/png": "[encoded data removed]"
          },
          "metadata": {
            "needs_background": "light"
          }
        },
        {
          "output_type": "stream",
          "name": "stdout",
          "text": [
            "Original word in english: rajinama\n",
            "Original word in hindi: राजीनामा\n",
            "Decoded word in hindi: राजीनमा\n"
          ]
        },
        {
          "output_type": "display_data",
          "data": {
            "text/plain": [
              "<Figure size 360x360 with 2 Axes>"
            ],
            "image/png": "[encoded data removed]"
          },
          "metadata": {
            "needs_background": "light"
          }
        },
        {
          "output_type": "stream",
          "name": "stdout",
          "text": [
            "Original word in english: karur\n",
            "Original word in hindi: करूर\n",
            "Decoded word in hindi: करूर\n"
          ]
        },
        {
          "output_type": "display_data",
          "data": {
            "text/plain": [
              "<Figure size 360x360 with 2 Axes>"
            ],
            "image/png": "[encoded data removed]"
          },
          "metadata": {
            "needs_background": "light"
          }
        },
        {
          "output_type": "stream",
          "name": "stdout",
          "text": [
            "Original word in english: bewakoofaanaa\n",
            "Original word in hindi: बेवकूफाना\n",
            "Decoded word in hindi: बेवकूफाना\n"
          ]
        },
        {
          "output_type": "display_data",
          "data": {
            "text/plain": [
              "<Figure size 360x360 with 2 Axes>"
            ],
            "image/png": "[encoded data removed]"
          },
          "metadata": {
            "needs_background": "light"
          }
        },
        {
          "output_type": "stream",
          "name": "stdout",
          "text": [
            "Original word in english: mahamantr\n",
            "Original word in hindi: महामंत्र\n",
            "Decoded word in hindi: महामंत्र\n"
          ]
        },
        {
          "output_type": "display_data",
          "data": {
            "text/plain": [
              "<Figure size 360x360 with 2 Axes>"
            ],
            "image/png": "[encoded data removed]"
          },
          "metadata": {
            "needs_background": "light"
          }
        }
      ]
    },
    {
      "cell_type": "markdown",
      "source": [
        "Q6"
      ],
      "metadata": {
        "id": "1uCFkBiU7HJc"
      }
    },
    {
      "cell_type": "code",
      "source": [
        "from IPython.display import HTML as html_print\n",
        "from IPython.display import display"
      ],
      "metadata": {
        "id": "UpsAkRX56701"
      },
      "execution_count": 55,
      "outputs": []
    },
    {
      "cell_type": "code",
      "source": [
        "# get appropriate color for value\n",
        "def get_clr(value):\n",
        "    colors = ['#85c2e1', '#89c4e2', '#95cae5', '#99cce6', '#a1d0e8'\n",
        "        '#b2d9ec', '#baddee', '#c2e1f0', '#eff7fb', '#f9e8e8',\n",
        "        '#f9e8e8', '#f9d4d4', '#f9bdbd', '#f8a8a8', '#f68f8f',\n",
        "        '#f47676', '#f45f5f', '#f34343', '#f33b3b', '#f42e2e']\n",
        "    value = max(0,min(int((value * 100) / 5),19))\n",
        "    return colors[value]"
      ],
      "metadata": {
        "id": "xqvRgt0YXZL-"
      },
      "execution_count": 162,
      "outputs": []
    },
    {
      "cell_type": "code",
      "source": [
        "# get html element\n",
        "def cstr(s, color='black'):\n",
        "    if s == ' ':\n",
        "        return \"<text style=color:#000;padding-left:10px;background-color:{}> </text>\".format(color, s)\n",
        "    else:\n",
        "        return \"<text style=color:#000;background-color:{}>{} </text>\".format(color, s)"
      ],
      "metadata": {
        "id": "lKA0gNCd681u"
      },
      "execution_count": 163,
      "outputs": []
    },
    {
      "cell_type": "code",
      "source": [
        "# print html\n",
        "def print_color(t,ch):\n",
        "    display(html_print(''.join([cstr(ch,color='#fffff')]+[cstr(' ',color='#fffff') for _ in range(3)]+[cstr(ti, color=ci) for ti,ci in t])))"
      ],
      "metadata": {
        "id": "e-GzU5g3Xb4N"
      },
      "execution_count": 164,
      "outputs": []
    },
    {
      "cell_type": "code",
      "source": [
        "index = np.random.choice(len(val))\n",
        "#visualise_word(ex,0)\n",
        "word = val[index][2]\n",
        "source = val[index][0]\n",
        "attwts = weights[index][0][:len(source),:]\n",
        "print(\"Original word in english:\",source)\n",
        "print(\"Decoded word in hindi:\",word)\n",
        "# visualize the words\n",
        "for i in range(len(word)):\n",
        "    text_colours = []\n",
        "    for j in range(len(attwts[:,i])):\n",
        "        text = (source[j], get_clr(attwts[:,i][j]))\n",
        "        text_colours.append(text)\n",
        "    print_color(text_colours,word[i])"
      ],
      "metadata": {
        "colab": {
          "base_uri": "https://localhost:8080/",
          "height": 225
        },
        "id": "4x5YVTE07dEe",
        "outputId": "234d529e-91c3-47ed-b201-2a8294af1853"
      },
      "execution_count": 172,
      "outputs": [
        {
          "output_type": "stream",
          "name": "stdout",
          "text": [
            "Original word in english: virodhabhasi\n",
            "Decoded word in hindi: विरोधाभासी\n"
          ]
        },
        {
          "output_type": "display_data",
          "data": {
            "text/plain": [
              "<IPython.core.display.HTML object>"
            ],
            "text/html": [
              "<text style=color:#000;background-color:#fffff>व </text><text style=color:#000;padding-left:10px;background-color:#fffff> </text><text style=color:#000;padding-left:10px;background-color:#fffff> </text><text style=color:#000;padding-left:10px;background-color:#fffff> </text><text style=color:#000;background-color:#f33b3b>v </text><text style=color:#000;background-color:#85c2e1>i </text><text style=color:#000;background-color:#85c2e1>r </text><text style=color:#000;background-color:#85c2e1>o </text><text style=color:#000;background-color:#85c2e1>d </text><text style=color:#000;background-color:#85c2e1>h </text><text style=color:#000;background-color:#85c2e1>a </text><text style=color:#000;background-color:#85c2e1>b </text><text style=color:#000;background-color:#85c2e1>h </text><text style=color:#000;background-color:#85c2e1>a </text><text style=color:#000;background-color:#85c2e1>s </text><text style=color:#000;background-color:#85c2e1>i </text>"
            ]
          },
          "metadata": {}
        },
        {
          "output_type": "display_data",
          "data": {
            "text/plain": [
              "<IPython.core.display.HTML object>"
            ],
            "text/html": [
              "<text style=color:#000;background-color:#fffff>ि </text><text style=color:#000;padding-left:10px;background-color:#fffff> </text><text style=color:#000;padding-left:10px;background-color:#fffff> </text><text style=color:#000;padding-left:10px;background-color:#fffff> </text><text style=color:#000;background-color:#89c4e2>v </text><text style=color:#000;background-color:#f9e8e8>i </text><text style=color:#000;background-color:#eff7fb>r </text><text style=color:#000;background-color:#85c2e1>o </text><text style=color:#000;background-color:#85c2e1>d </text><text style=color:#000;background-color:#85c2e1>h </text><text style=color:#000;background-color:#85c2e1>a </text><text style=color:#000;background-color:#85c2e1>b </text><text style=color:#000;background-color:#85c2e1>h </text><text style=color:#000;background-color:#85c2e1>a </text><text style=color:#000;background-color:#85c2e1>s </text><text style=color:#000;background-color:#85c2e1>i </text>"
            ]
          },
          "metadata": {}
        },
        {
          "output_type": "display_data",
          "data": {
            "text/plain": [
              "<IPython.core.display.HTML object>"
            ],
            "text/html": [
              "<text style=color:#000;background-color:#fffff>र </text><text style=color:#000;padding-left:10px;background-color:#fffff> </text><text style=color:#000;padding-left:10px;background-color:#fffff> </text><text style=color:#000;padding-left:10px;background-color:#fffff> </text><text style=color:#000;background-color:#85c2e1>v </text><text style=color:#000;background-color:#89c4e2>i </text><text style=color:#000;background-color:#f9bdbd>r </text><text style=color:#000;background-color:#95cae5>o </text><text style=color:#000;background-color:#95cae5>d </text><text style=color:#000;background-color:#89c4e2>h </text><text style=color:#000;background-color:#85c2e1>a </text><text style=color:#000;background-color:#85c2e1>b </text><text style=color:#000;background-color:#85c2e1>h </text><text style=color:#000;background-color:#85c2e1>a </text><text style=color:#000;background-color:#85c2e1>s </text><text style=color:#000;background-color:#85c2e1>i </text>"
            ]
          },
          "metadata": {}
        },
        {
          "output_type": "display_data",
          "data": {
            "text/plain": [
              "<IPython.core.display.HTML object>"
            ],
            "text/html": [
              "<text style=color:#000;background-color:#fffff>ो </text><text style=color:#000;padding-left:10px;background-color:#fffff> </text><text style=color:#000;padding-left:10px;background-color:#fffff> </text><text style=color:#000;padding-left:10px;background-color:#fffff> </text><text style=color:#000;background-color:#85c2e1>v </text><text style=color:#000;background-color:#85c2e1>i </text><text style=color:#000;background-color:#85c2e1>r </text><text style=color:#000;background-color:#f9e8e8>o </text><text style=color:#000;background-color:#c2e1f0>d </text><text style=color:#000;background-color:#99cce6>h </text><text style=color:#000;background-color:#85c2e1>a </text><text style=color:#000;background-color:#85c2e1>b </text><text style=color:#000;background-color:#85c2e1>h </text><text style=color:#000;background-color:#85c2e1>a </text><text style=color:#000;background-color:#85c2e1>s </text><text style=color:#000;background-color:#85c2e1>i </text>"
            ]
          },
          "metadata": {}
        },
        {
          "output_type": "display_data",
          "data": {
            "text/plain": [
              "<IPython.core.display.HTML object>"
            ],
            "text/html": [
              "<text style=color:#000;background-color:#fffff>ध </text><text style=color:#000;padding-left:10px;background-color:#fffff> </text><text style=color:#000;padding-left:10px;background-color:#fffff> </text><text style=color:#000;padding-left:10px;background-color:#fffff> </text><text style=color:#000;background-color:#85c2e1>v </text><text style=color:#000;background-color:#85c2e1>i </text><text style=color:#000;background-color:#85c2e1>r </text><text style=color:#000;background-color:#85c2e1>o </text><text style=color:#000;background-color:#a1d0e8#b2d9ec>d </text><text style=color:#000;background-color:#c2e1f0>h </text><text style=color:#000;background-color:#89c4e2>a </text><text style=color:#000;background-color:#99cce6>b </text><text style=color:#000;background-color:#95cae5>h </text><text style=color:#000;background-color:#85c2e1>a </text><text style=color:#000;background-color:#85c2e1>s </text><text style=color:#000;background-color:#85c2e1>i </text>"
            ]
          },
          "metadata": {}
        },
        {
          "output_type": "display_data",
          "data": {
            "text/plain": [
              "<IPython.core.display.HTML object>"
            ],
            "text/html": [
              "<text style=color:#000;background-color:#fffff>ा </text><text style=color:#000;padding-left:10px;background-color:#fffff> </text><text style=color:#000;padding-left:10px;background-color:#fffff> </text><text style=color:#000;padding-left:10px;background-color:#fffff> </text><text style=color:#000;background-color:#85c2e1>v </text><text style=color:#000;background-color:#85c2e1>i </text><text style=color:#000;background-color:#85c2e1>r </text><text style=color:#000;background-color:#85c2e1>o </text><text style=color:#000;background-color:#85c2e1>d </text><text style=color:#000;background-color:#85c2e1>h </text><text style=color:#000;background-color:#95cae5>a </text><text style=color:#000;background-color:#f9e8e8>b </text><text style=color:#000;background-color:#c2e1f0>h </text><text style=color:#000;background-color:#85c2e1>a </text><text style=color:#000;background-color:#85c2e1>s </text><text style=color:#000;background-color:#85c2e1>i </text>"
            ]
          },
          "metadata": {}
        },
        {
          "output_type": "display_data",
          "data": {
            "text/plain": [
              "<IPython.core.display.HTML object>"
            ],
            "text/html": [
              "<text style=color:#000;background-color:#fffff>भ </text><text style=color:#000;padding-left:10px;background-color:#fffff> </text><text style=color:#000;padding-left:10px;background-color:#fffff> </text><text style=color:#000;padding-left:10px;background-color:#fffff> </text><text style=color:#000;background-color:#85c2e1>v </text><text style=color:#000;background-color:#85c2e1>i </text><text style=color:#000;background-color:#85c2e1>r </text><text style=color:#000;background-color:#85c2e1>o </text><text style=color:#000;background-color:#85c2e1>d </text><text style=color:#000;background-color:#85c2e1>h </text><text style=color:#000;background-color:#85c2e1>a </text><text style=color:#000;background-color:#89c4e2>b </text><text style=color:#000;background-color:#99cce6>h </text><text style=color:#000;background-color:#95cae5>a </text><text style=color:#000;background-color:#f9d4d4>s </text><text style=color:#000;background-color:#85c2e1>i </text>"
            ]
          },
          "metadata": {}
        },
        {
          "output_type": "display_data",
          "data": {
            "text/plain": [
              "<IPython.core.display.HTML object>"
            ],
            "text/html": [
              "<text style=color:#000;background-color:#fffff>ा </text><text style=color:#000;padding-left:10px;background-color:#fffff> </text><text style=color:#000;padding-left:10px;background-color:#fffff> </text><text style=color:#000;padding-left:10px;background-color:#fffff> </text><text style=color:#000;background-color:#85c2e1>v </text><text style=color:#000;background-color:#85c2e1>i </text><text style=color:#000;background-color:#85c2e1>r </text><text style=color:#000;background-color:#85c2e1>o </text><text style=color:#000;background-color:#85c2e1>d </text><text style=color:#000;background-color:#85c2e1>h </text><text style=color:#000;background-color:#85c2e1>a </text><text style=color:#000;background-color:#85c2e1>b </text><text style=color:#000;background-color:#85c2e1>h </text><text style=color:#000;background-color:#baddee>a </text><text style=color:#000;background-color:#f9e8e8>s </text><text style=color:#000;background-color:#baddee>i </text>"
            ]
          },
          "metadata": {}
        },
        {
          "output_type": "display_data",
          "data": {
            "text/plain": [
              "<IPython.core.display.HTML object>"
            ],
            "text/html": [
              "<text style=color:#000;background-color:#fffff>स </text><text style=color:#000;padding-left:10px;background-color:#fffff> </text><text style=color:#000;padding-left:10px;background-color:#fffff> </text><text style=color:#000;padding-left:10px;background-color:#fffff> </text><text style=color:#000;background-color:#85c2e1>v </text><text style=color:#000;background-color:#85c2e1>i </text><text style=color:#000;background-color:#85c2e1>r </text><text style=color:#000;background-color:#85c2e1>o </text><text style=color:#000;background-color:#85c2e1>d </text><text style=color:#000;background-color:#85c2e1>h </text><text style=color:#000;background-color:#85c2e1>a </text><text style=color:#000;background-color:#85c2e1>b </text><text style=color:#000;background-color:#85c2e1>h </text><text style=color:#000;background-color:#85c2e1>a </text><text style=color:#000;background-color:#f9d4d4>s </text><text style=color:#000;background-color:#f9e8e8>i </text>"
            ]
          },
          "metadata": {}
        },
        {
          "output_type": "display_data",
          "data": {
            "text/plain": [
              "<IPython.core.display.HTML object>"
            ],
            "text/html": [
              "<text style=color:#000;background-color:#fffff>ी </text><text style=color:#000;padding-left:10px;background-color:#fffff> </text><text style=color:#000;padding-left:10px;background-color:#fffff> </text><text style=color:#000;padding-left:10px;background-color:#fffff> </text><text style=color:#000;background-color:#85c2e1>v </text><text style=color:#000;background-color:#85c2e1>i </text><text style=color:#000;background-color:#85c2e1>r </text><text style=color:#000;background-color:#85c2e1>o </text><text style=color:#000;background-color:#85c2e1>d </text><text style=color:#000;background-color:#85c2e1>h </text><text style=color:#000;background-color:#85c2e1>a </text><text style=color:#000;background-color:#85c2e1>b </text><text style=color:#000;background-color:#85c2e1>h </text><text style=color:#000;background-color:#85c2e1>a </text><text style=color:#000;background-color:#baddee>s </text><text style=color:#000;background-color:#f8a8a8>i </text>"
            ]
          },
          "metadata": {}
        }
      ]
    }
  ]
}