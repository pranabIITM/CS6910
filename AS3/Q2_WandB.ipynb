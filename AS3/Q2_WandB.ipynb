{
  "nbformat": 4,
  "nbformat_minor": 0,
  "metadata": {
    "colab": {
      "name": "AS3.ipynb",
      "provenance": [],
      "collapsed_sections": [],
      "mount_file_id": "1lPhHdrIYJPfbaF-eXc8v0NceXbWsvpyq",
      "authorship_tag": "ABX9TyPfbZ7kQFuWXxRh9f752BPK"
    },
    "kernelspec": {
      "name": "python3",
      "display_name": "Python 3"
    },
    "language_info": {
      "name": "python"
    },
    "accelerator": "GPU",
    "widgets": {
      "application/vnd.jupyter.widget-state+json": {
        "ca51f6d7090c400589ae872525045c5a": {
          "model_module": "@jupyter-widgets/controls",
          "model_name": "VBoxModel",
          "model_module_version": "1.5.0",
          "state": {
            "_dom_classes": [],
            "_model_module": "@jupyter-widgets/controls",
            "_model_module_version": "1.5.0",
            "_model_name": "VBoxModel",
            "_view_count": null,
            "_view_module": "@jupyter-widgets/controls",
            "_view_module_version": "1.5.0",
            "_view_name": "VBoxView",
            "box_style": "",
            "children": [
              "IPY_MODEL_5ec5e8def40948b590c546e68c9f205b",
              "IPY_MODEL_dff4cbc0a2f248bfbbf73d88c2194086"
            ],
            "layout": "IPY_MODEL_96109a965b9642c3af6811c95c2886de"
          }
        },
        "5ec5e8def40948b590c546e68c9f205b": {
          "model_module": "@jupyter-widgets/controls",
          "model_name": "LabelModel",
          "model_module_version": "1.5.0",
          "state": {
            "_dom_classes": [],
            "_model_module": "@jupyter-widgets/controls",
            "_model_module_version": "1.5.0",
            "_model_name": "LabelModel",
            "_view_count": null,
            "_view_module": "@jupyter-widgets/controls",
            "_view_module_version": "1.5.0",
            "_view_name": "LabelView",
            "description": "",
            "description_tooltip": null,
            "layout": "IPY_MODEL_15c1fa8694c84183a001643549606ef1",
            "placeholder": "​",
            "style": "IPY_MODEL_00cd0e841b1147cb8619100f4e2710e2",
            "value": "126.733 MB of 126.733 MB uploaded (0.000 MB deduped)\r"
          }
        },
        "dff4cbc0a2f248bfbbf73d88c2194086": {
          "model_module": "@jupyter-widgets/controls",
          "model_name": "FloatProgressModel",
          "model_module_version": "1.5.0",
          "state": {
            "_dom_classes": [],
            "_model_module": "@jupyter-widgets/controls",
            "_model_module_version": "1.5.0",
            "_model_name": "FloatProgressModel",
            "_view_count": null,
            "_view_module": "@jupyter-widgets/controls",
            "_view_module_version": "1.5.0",
            "_view_name": "ProgressView",
            "bar_style": "",
            "description": "",
            "description_tooltip": null,
            "layout": "IPY_MODEL_bf1e67f6d8d448398d8c2a8a5f981d3e",
            "max": 1,
            "min": 0,
            "orientation": "horizontal",
            "style": "IPY_MODEL_7ab5c080ba5543339b5c0ff9a0341f04",
            "value": 1
          }
        },
        "96109a965b9642c3af6811c95c2886de": {
          "model_module": "@jupyter-widgets/base",
          "model_name": "LayoutModel",
          "model_module_version": "1.2.0",
          "state": {
            "_model_module": "@jupyter-widgets/base",
            "_model_module_version": "1.2.0",
            "_model_name": "LayoutModel",
            "_view_count": null,
            "_view_module": "@jupyter-widgets/base",
            "_view_module_version": "1.2.0",
            "_view_name": "LayoutView",
            "align_content": null,
            "align_items": null,
            "align_self": null,
            "border": null,
            "bottom": null,
            "display": null,
            "flex": null,
            "flex_flow": null,
            "grid_area": null,
            "grid_auto_columns": null,
            "grid_auto_flow": null,
            "grid_auto_rows": null,
            "grid_column": null,
            "grid_gap": null,
            "grid_row": null,
            "grid_template_areas": null,
            "grid_template_columns": null,
            "grid_template_rows": null,
            "height": null,
            "justify_content": null,
            "justify_items": null,
            "left": null,
            "margin": null,
            "max_height": null,
            "max_width": null,
            "min_height": null,
            "min_width": null,
            "object_fit": null,
            "object_position": null,
            "order": null,
            "overflow": null,
            "overflow_x": null,
            "overflow_y": null,
            "padding": null,
            "right": null,
            "top": null,
            "visibility": null,
            "width": null
          }
        },
        "15c1fa8694c84183a001643549606ef1": {
          "model_module": "@jupyter-widgets/base",
          "model_name": "LayoutModel",
          "model_module_version": "1.2.0",
          "state": {
            "_model_module": "@jupyter-widgets/base",
            "_model_module_version": "1.2.0",
            "_model_name": "LayoutModel",
            "_view_count": null,
            "_view_module": "@jupyter-widgets/base",
            "_view_module_version": "1.2.0",
            "_view_name": "LayoutView",
            "align_content": null,
            "align_items": null,
            "align_self": null,
            "border": null,
            "bottom": null,
            "display": null,
            "flex": null,
            "flex_flow": null,
            "grid_area": null,
            "grid_auto_columns": null,
            "grid_auto_flow": null,
            "grid_auto_rows": null,
            "grid_column": null,
            "grid_gap": null,
            "grid_row": null,
            "grid_template_areas": null,
            "grid_template_columns": null,
            "grid_template_rows": null,
            "height": null,
            "justify_content": null,
            "justify_items": null,
            "left": null,
            "margin": null,
            "max_height": null,
            "max_width": null,
            "min_height": null,
            "min_width": null,
            "object_fit": null,
            "object_position": null,
            "order": null,
            "overflow": null,
            "overflow_x": null,
            "overflow_y": null,
            "padding": null,
            "right": null,
            "top": null,
            "visibility": null,
            "width": null
          }
        },
        "00cd0e841b1147cb8619100f4e2710e2": {
          "model_module": "@jupyter-widgets/controls",
          "model_name": "DescriptionStyleModel",
          "model_module_version": "1.5.0",
          "state": {
            "_model_module": "@jupyter-widgets/controls",
            "_model_module_version": "1.5.0",
            "_model_name": "DescriptionStyleModel",
            "_view_count": null,
            "_view_module": "@jupyter-widgets/base",
            "_view_module_version": "1.2.0",
            "_view_name": "StyleView",
            "description_width": ""
          }
        },
        "bf1e67f6d8d448398d8c2a8a5f981d3e": {
          "model_module": "@jupyter-widgets/base",
          "model_name": "LayoutModel",
          "model_module_version": "1.2.0",
          "state": {
            "_model_module": "@jupyter-widgets/base",
            "_model_module_version": "1.2.0",
            "_model_name": "LayoutModel",
            "_view_count": null,
            "_view_module": "@jupyter-widgets/base",
            "_view_module_version": "1.2.0",
            "_view_name": "LayoutView",
            "align_content": null,
            "align_items": null,
            "align_self": null,
            "border": null,
            "bottom": null,
            "display": null,
            "flex": null,
            "flex_flow": null,
            "grid_area": null,
            "grid_auto_columns": null,
            "grid_auto_flow": null,
            "grid_auto_rows": null,
            "grid_column": null,
            "grid_gap": null,
            "grid_row": null,
            "grid_template_areas": null,
            "grid_template_columns": null,
            "grid_template_rows": null,
            "height": null,
            "justify_content": null,
            "justify_items": null,
            "left": null,
            "margin": null,
            "max_height": null,
            "max_width": null,
            "min_height": null,
            "min_width": null,
            "object_fit": null,
            "object_position": null,
            "order": null,
            "overflow": null,
            "overflow_x": null,
            "overflow_y": null,
            "padding": null,
            "right": null,
            "top": null,
            "visibility": null,
            "width": null
          }
        },
        "7ab5c080ba5543339b5c0ff9a0341f04": {
          "model_module": "@jupyter-widgets/controls",
          "model_name": "ProgressStyleModel",
          "model_module_version": "1.5.0",
          "state": {
            "_model_module": "@jupyter-widgets/controls",
            "_model_module_version": "1.5.0",
            "_model_name": "ProgressStyleModel",
            "_view_count": null,
            "_view_module": "@jupyter-widgets/base",
            "_view_module_version": "1.2.0",
            "_view_name": "StyleView",
            "bar_color": null,
            "description_width": ""
          }
        },
        "e6b492e6c0754890ad1487aae673fa16": {
          "model_module": "@jupyter-widgets/controls",
          "model_name": "VBoxModel",
          "model_module_version": "1.5.0",
          "state": {
            "_dom_classes": [],
            "_model_module": "@jupyter-widgets/controls",
            "_model_module_version": "1.5.0",
            "_model_name": "VBoxModel",
            "_view_count": null,
            "_view_module": "@jupyter-widgets/controls",
            "_view_module_version": "1.5.0",
            "_view_name": "VBoxView",
            "box_style": "",
            "children": [
              "IPY_MODEL_229f7b59d7324b26b9363ebfa5b4d607",
              "IPY_MODEL_18e8c581241f44c5ab4f89496be808b6"
            ],
            "layout": "IPY_MODEL_692b6958b6be48888f10efedc3d10519"
          }
        },
        "229f7b59d7324b26b9363ebfa5b4d607": {
          "model_module": "@jupyter-widgets/controls",
          "model_name": "LabelModel",
          "model_module_version": "1.5.0",
          "state": {
            "_dom_classes": [],
            "_model_module": "@jupyter-widgets/controls",
            "_model_module_version": "1.5.0",
            "_model_name": "LabelModel",
            "_view_count": null,
            "_view_module": "@jupyter-widgets/controls",
            "_view_module_version": "1.5.0",
            "_view_name": "LabelView",
            "description": "",
            "description_tooltip": null,
            "layout": "IPY_MODEL_6699886fdca745798c13b878097fd341",
            "placeholder": "​",
            "style": "IPY_MODEL_cf46edaa492840b3bb5ac4b2c9edf2fc",
            "value": "3.335 MB of 3.335 MB uploaded (0.000 MB deduped)\r"
          }
        },
        "18e8c581241f44c5ab4f89496be808b6": {
          "model_module": "@jupyter-widgets/controls",
          "model_name": "FloatProgressModel",
          "model_module_version": "1.5.0",
          "state": {
            "_dom_classes": [],
            "_model_module": "@jupyter-widgets/controls",
            "_model_module_version": "1.5.0",
            "_model_name": "FloatProgressModel",
            "_view_count": null,
            "_view_module": "@jupyter-widgets/controls",
            "_view_module_version": "1.5.0",
            "_view_name": "ProgressView",
            "bar_style": "",
            "description": "",
            "description_tooltip": null,
            "layout": "IPY_MODEL_ec83416e41524f81b0f42d0d61bb3f76",
            "max": 1,
            "min": 0,
            "orientation": "horizontal",
            "style": "IPY_MODEL_b151d38749f04a059a2501ad5e809ab2",
            "value": 1
          }
        },
        "692b6958b6be48888f10efedc3d10519": {
          "model_module": "@jupyter-widgets/base",
          "model_name": "LayoutModel",
          "model_module_version": "1.2.0",
          "state": {
            "_model_module": "@jupyter-widgets/base",
            "_model_module_version": "1.2.0",
            "_model_name": "LayoutModel",
            "_view_count": null,
            "_view_module": "@jupyter-widgets/base",
            "_view_module_version": "1.2.0",
            "_view_name": "LayoutView",
            "align_content": null,
            "align_items": null,
            "align_self": null,
            "border": null,
            "bottom": null,
            "display": null,
            "flex": null,
            "flex_flow": null,
            "grid_area": null,
            "grid_auto_columns": null,
            "grid_auto_flow": null,
            "grid_auto_rows": null,
            "grid_column": null,
            "grid_gap": null,
            "grid_row": null,
            "grid_template_areas": null,
            "grid_template_columns": null,
            "grid_template_rows": null,
            "height": null,
            "justify_content": null,
            "justify_items": null,
            "left": null,
            "margin": null,
            "max_height": null,
            "max_width": null,
            "min_height": null,
            "min_width": null,
            "object_fit": null,
            "object_position": null,
            "order": null,
            "overflow": null,
            "overflow_x": null,
            "overflow_y": null,
            "padding": null,
            "right": null,
            "top": null,
            "visibility": null,
            "width": null
          }
        },
        "6699886fdca745798c13b878097fd341": {
          "model_module": "@jupyter-widgets/base",
          "model_name": "LayoutModel",
          "model_module_version": "1.2.0",
          "state": {
            "_model_module": "@jupyter-widgets/base",
            "_model_module_version": "1.2.0",
            "_model_name": "LayoutModel",
            "_view_count": null,
            "_view_module": "@jupyter-widgets/base",
            "_view_module_version": "1.2.0",
            "_view_name": "LayoutView",
            "align_content": null,
            "align_items": null,
            "align_self": null,
            "border": null,
            "bottom": null,
            "display": null,
            "flex": null,
            "flex_flow": null,
            "grid_area": null,
            "grid_auto_columns": null,
            "grid_auto_flow": null,
            "grid_auto_rows": null,
            "grid_column": null,
            "grid_gap": null,
            "grid_row": null,
            "grid_template_areas": null,
            "grid_template_columns": null,
            "grid_template_rows": null,
            "height": null,
            "justify_content": null,
            "justify_items": null,
            "left": null,
            "margin": null,
            "max_height": null,
            "max_width": null,
            "min_height": null,
            "min_width": null,
            "object_fit": null,
            "object_position": null,
            "order": null,
            "overflow": null,
            "overflow_x": null,
            "overflow_y": null,
            "padding": null,
            "right": null,
            "top": null,
            "visibility": null,
            "width": null
          }
        },
        "cf46edaa492840b3bb5ac4b2c9edf2fc": {
          "model_module": "@jupyter-widgets/controls",
          "model_name": "DescriptionStyleModel",
          "model_module_version": "1.5.0",
          "state": {
            "_model_module": "@jupyter-widgets/controls",
            "_model_module_version": "1.5.0",
            "_model_name": "DescriptionStyleModel",
            "_view_count": null,
            "_view_module": "@jupyter-widgets/base",
            "_view_module_version": "1.2.0",
            "_view_name": "StyleView",
            "description_width": ""
          }
        },
        "ec83416e41524f81b0f42d0d61bb3f76": {
          "model_module": "@jupyter-widgets/base",
          "model_name": "LayoutModel",
          "model_module_version": "1.2.0",
          "state": {
            "_model_module": "@jupyter-widgets/base",
            "_model_module_version": "1.2.0",
            "_model_name": "LayoutModel",
            "_view_count": null,
            "_view_module": "@jupyter-widgets/base",
            "_view_module_version": "1.2.0",
            "_view_name": "LayoutView",
            "align_content": null,
            "align_items": null,
            "align_self": null,
            "border": null,
            "bottom": null,
            "display": null,
            "flex": null,
            "flex_flow": null,
            "grid_area": null,
            "grid_auto_columns": null,
            "grid_auto_flow": null,
            "grid_auto_rows": null,
            "grid_column": null,
            "grid_gap": null,
            "grid_row": null,
            "grid_template_areas": null,
            "grid_template_columns": null,
            "grid_template_rows": null,
            "height": null,
            "justify_content": null,
            "justify_items": null,
            "left": null,
            "margin": null,
            "max_height": null,
            "max_width": null,
            "min_height": null,
            "min_width": null,
            "object_fit": null,
            "object_position": null,
            "order": null,
            "overflow": null,
            "overflow_x": null,
            "overflow_y": null,
            "padding": null,
            "right": null,
            "top": null,
            "visibility": null,
            "width": null
          }
        },
        "b151d38749f04a059a2501ad5e809ab2": {
          "model_module": "@jupyter-widgets/controls",
          "model_name": "ProgressStyleModel",
          "model_module_version": "1.5.0",
          "state": {
            "_model_module": "@jupyter-widgets/controls",
            "_model_module_version": "1.5.0",
            "_model_name": "ProgressStyleModel",
            "_view_count": null,
            "_view_module": "@jupyter-widgets/base",
            "_view_module_version": "1.2.0",
            "_view_name": "StyleView",
            "bar_color": null,
            "description_width": ""
          }
        },
        "eaaff79ed1d74a5388d3b7583a704709": {
          "model_module": "@jupyter-widgets/controls",
          "model_name": "VBoxModel",
          "model_module_version": "1.5.0",
          "state": {
            "_dom_classes": [],
            "_model_module": "@jupyter-widgets/controls",
            "_model_module_version": "1.5.0",
            "_model_name": "VBoxModel",
            "_view_count": null,
            "_view_module": "@jupyter-widgets/controls",
            "_view_module_version": "1.5.0",
            "_view_name": "VBoxView",
            "box_style": "",
            "children": [
              "IPY_MODEL_c52bdadf637141979416953f8e7f7388",
              "IPY_MODEL_0c3cbd4b2de84a2885e175747b38f772"
            ],
            "layout": "IPY_MODEL_216bc0d60c1f43f7968efefff14b1c5f"
          }
        },
        "c52bdadf637141979416953f8e7f7388": {
          "model_module": "@jupyter-widgets/controls",
          "model_name": "LabelModel",
          "model_module_version": "1.5.0",
          "state": {
            "_dom_classes": [],
            "_model_module": "@jupyter-widgets/controls",
            "_model_module_version": "1.5.0",
            "_model_name": "LabelModel",
            "_view_count": null,
            "_view_module": "@jupyter-widgets/controls",
            "_view_module_version": "1.5.0",
            "_view_name": "LabelView",
            "description": "",
            "description_tooltip": null,
            "layout": "IPY_MODEL_a371776b3ea74aa592073a5bc1832953",
            "placeholder": "​",
            "style": "IPY_MODEL_f147bb4d69b2409c812d7ff192408502",
            "value": "2.031 MB of 2.031 MB uploaded (0.000 MB deduped)\r"
          }
        },
        "0c3cbd4b2de84a2885e175747b38f772": {
          "model_module": "@jupyter-widgets/controls",
          "model_name": "FloatProgressModel",
          "model_module_version": "1.5.0",
          "state": {
            "_dom_classes": [],
            "_model_module": "@jupyter-widgets/controls",
            "_model_module_version": "1.5.0",
            "_model_name": "FloatProgressModel",
            "_view_count": null,
            "_view_module": "@jupyter-widgets/controls",
            "_view_module_version": "1.5.0",
            "_view_name": "ProgressView",
            "bar_style": "",
            "description": "",
            "description_tooltip": null,
            "layout": "IPY_MODEL_f68ec89b5f6c4b6ba70b2e5146b3d0b4",
            "max": 1,
            "min": 0,
            "orientation": "horizontal",
            "style": "IPY_MODEL_82470851bf5747d09f834c8856c4ee64",
            "value": 1
          }
        },
        "216bc0d60c1f43f7968efefff14b1c5f": {
          "model_module": "@jupyter-widgets/base",
          "model_name": "LayoutModel",
          "model_module_version": "1.2.0",
          "state": {
            "_model_module": "@jupyter-widgets/base",
            "_model_module_version": "1.2.0",
            "_model_name": "LayoutModel",
            "_view_count": null,
            "_view_module": "@jupyter-widgets/base",
            "_view_module_version": "1.2.0",
            "_view_name": "LayoutView",
            "align_content": null,
            "align_items": null,
            "align_self": null,
            "border": null,
            "bottom": null,
            "display": null,
            "flex": null,
            "flex_flow": null,
            "grid_area": null,
            "grid_auto_columns": null,
            "grid_auto_flow": null,
            "grid_auto_rows": null,
            "grid_column": null,
            "grid_gap": null,
            "grid_row": null,
            "grid_template_areas": null,
            "grid_template_columns": null,
            "grid_template_rows": null,
            "height": null,
            "justify_content": null,
            "justify_items": null,
            "left": null,
            "margin": null,
            "max_height": null,
            "max_width": null,
            "min_height": null,
            "min_width": null,
            "object_fit": null,
            "object_position": null,
            "order": null,
            "overflow": null,
            "overflow_x": null,
            "overflow_y": null,
            "padding": null,
            "right": null,
            "top": null,
            "visibility": null,
            "width": null
          }
        },
        "a371776b3ea74aa592073a5bc1832953": {
          "model_module": "@jupyter-widgets/base",
          "model_name": "LayoutModel",
          "model_module_version": "1.2.0",
          "state": {
            "_model_module": "@jupyter-widgets/base",
            "_model_module_version": "1.2.0",
            "_model_name": "LayoutModel",
            "_view_count": null,
            "_view_module": "@jupyter-widgets/base",
            "_view_module_version": "1.2.0",
            "_view_name": "LayoutView",
            "align_content": null,
            "align_items": null,
            "align_self": null,
            "border": null,
            "bottom": null,
            "display": null,
            "flex": null,
            "flex_flow": null,
            "grid_area": null,
            "grid_auto_columns": null,
            "grid_auto_flow": null,
            "grid_auto_rows": null,
            "grid_column": null,
            "grid_gap": null,
            "grid_row": null,
            "grid_template_areas": null,
            "grid_template_columns": null,
            "grid_template_rows": null,
            "height": null,
            "justify_content": null,
            "justify_items": null,
            "left": null,
            "margin": null,
            "max_height": null,
            "max_width": null,
            "min_height": null,
            "min_width": null,
            "object_fit": null,
            "object_position": null,
            "order": null,
            "overflow": null,
            "overflow_x": null,
            "overflow_y": null,
            "padding": null,
            "right": null,
            "top": null,
            "visibility": null,
            "width": null
          }
        },
        "f147bb4d69b2409c812d7ff192408502": {
          "model_module": "@jupyter-widgets/controls",
          "model_name": "DescriptionStyleModel",
          "model_module_version": "1.5.0",
          "state": {
            "_model_module": "@jupyter-widgets/controls",
            "_model_module_version": "1.5.0",
            "_model_name": "DescriptionStyleModel",
            "_view_count": null,
            "_view_module": "@jupyter-widgets/base",
            "_view_module_version": "1.2.0",
            "_view_name": "StyleView",
            "description_width": ""
          }
        },
        "f68ec89b5f6c4b6ba70b2e5146b3d0b4": {
          "model_module": "@jupyter-widgets/base",
          "model_name": "LayoutModel",
          "model_module_version": "1.2.0",
          "state": {
            "_model_module": "@jupyter-widgets/base",
            "_model_module_version": "1.2.0",
            "_model_name": "LayoutModel",
            "_view_count": null,
            "_view_module": "@jupyter-widgets/base",
            "_view_module_version": "1.2.0",
            "_view_name": "LayoutView",
            "align_content": null,
            "align_items": null,
            "align_self": null,
            "border": null,
            "bottom": null,
            "display": null,
            "flex": null,
            "flex_flow": null,
            "grid_area": null,
            "grid_auto_columns": null,
            "grid_auto_flow": null,
            "grid_auto_rows": null,
            "grid_column": null,
            "grid_gap": null,
            "grid_row": null,
            "grid_template_areas": null,
            "grid_template_columns": null,
            "grid_template_rows": null,
            "height": null,
            "justify_content": null,
            "justify_items": null,
            "left": null,
            "margin": null,
            "max_height": null,
            "max_width": null,
            "min_height": null,
            "min_width": null,
            "object_fit": null,
            "object_position": null,
            "order": null,
            "overflow": null,
            "overflow_x": null,
            "overflow_y": null,
            "padding": null,
            "right": null,
            "top": null,
            "visibility": null,
            "width": null
          }
        },
        "82470851bf5747d09f834c8856c4ee64": {
          "model_module": "@jupyter-widgets/controls",
          "model_name": "ProgressStyleModel",
          "model_module_version": "1.5.0",
          "state": {
            "_model_module": "@jupyter-widgets/controls",
            "_model_module_version": "1.5.0",
            "_model_name": "ProgressStyleModel",
            "_view_count": null,
            "_view_module": "@jupyter-widgets/base",
            "_view_module_version": "1.2.0",
            "_view_name": "StyleView",
            "bar_color": null,
            "description_width": ""
          }
        },
        "e1cafa27cfe6445fbd6e79bf29e81372": {
          "model_module": "@jupyter-widgets/controls",
          "model_name": "VBoxModel",
          "model_module_version": "1.5.0",
          "state": {
            "_dom_classes": [],
            "_model_module": "@jupyter-widgets/controls",
            "_model_module_version": "1.5.0",
            "_model_name": "VBoxModel",
            "_view_count": null,
            "_view_module": "@jupyter-widgets/controls",
            "_view_module_version": "1.5.0",
            "_view_name": "VBoxView",
            "box_style": "",
            "children": [
              "IPY_MODEL_863bfa400f184b9d976b6f7c57459e14",
              "IPY_MODEL_468b63070b9f464cbff8ae27e92fb18e"
            ],
            "layout": "IPY_MODEL_48e78488695d4bd2ba1f17abf827055b"
          }
        },
        "863bfa400f184b9d976b6f7c57459e14": {
          "model_module": "@jupyter-widgets/controls",
          "model_name": "LabelModel",
          "model_module_version": "1.5.0",
          "state": {
            "_dom_classes": [],
            "_model_module": "@jupyter-widgets/controls",
            "_model_module_version": "1.5.0",
            "_model_name": "LabelModel",
            "_view_count": null,
            "_view_module": "@jupyter-widgets/controls",
            "_view_module_version": "1.5.0",
            "_view_name": "LabelView",
            "description": "",
            "description_tooltip": null,
            "layout": "IPY_MODEL_f70103ab141844888b97a2e9e3882fa2",
            "placeholder": "​",
            "style": "IPY_MODEL_9720234d8939454f942ab7722b97c3bc",
            "value": "11.398 MB of 11.398 MB uploaded (0.000 MB deduped)\r"
          }
        },
        "468b63070b9f464cbff8ae27e92fb18e": {
          "model_module": "@jupyter-widgets/controls",
          "model_name": "FloatProgressModel",
          "model_module_version": "1.5.0",
          "state": {
            "_dom_classes": [],
            "_model_module": "@jupyter-widgets/controls",
            "_model_module_version": "1.5.0",
            "_model_name": "FloatProgressModel",
            "_view_count": null,
            "_view_module": "@jupyter-widgets/controls",
            "_view_module_version": "1.5.0",
            "_view_name": "ProgressView",
            "bar_style": "",
            "description": "",
            "description_tooltip": null,
            "layout": "IPY_MODEL_18cd50946cc24038bb596f95724b75bd",
            "max": 1,
            "min": 0,
            "orientation": "horizontal",
            "style": "IPY_MODEL_e51702781a0e4b45a4ff4a27194319f1",
            "value": 1
          }
        },
        "48e78488695d4bd2ba1f17abf827055b": {
          "model_module": "@jupyter-widgets/base",
          "model_name": "LayoutModel",
          "model_module_version": "1.2.0",
          "state": {
            "_model_module": "@jupyter-widgets/base",
            "_model_module_version": "1.2.0",
            "_model_name": "LayoutModel",
            "_view_count": null,
            "_view_module": "@jupyter-widgets/base",
            "_view_module_version": "1.2.0",
            "_view_name": "LayoutView",
            "align_content": null,
            "align_items": null,
            "align_self": null,
            "border": null,
            "bottom": null,
            "display": null,
            "flex": null,
            "flex_flow": null,
            "grid_area": null,
            "grid_auto_columns": null,
            "grid_auto_flow": null,
            "grid_auto_rows": null,
            "grid_column": null,
            "grid_gap": null,
            "grid_row": null,
            "grid_template_areas": null,
            "grid_template_columns": null,
            "grid_template_rows": null,
            "height": null,
            "justify_content": null,
            "justify_items": null,
            "left": null,
            "margin": null,
            "max_height": null,
            "max_width": null,
            "min_height": null,
            "min_width": null,
            "object_fit": null,
            "object_position": null,
            "order": null,
            "overflow": null,
            "overflow_x": null,
            "overflow_y": null,
            "padding": null,
            "right": null,
            "top": null,
            "visibility": null,
            "width": null
          }
        },
        "f70103ab141844888b97a2e9e3882fa2": {
          "model_module": "@jupyter-widgets/base",
          "model_name": "LayoutModel",
          "model_module_version": "1.2.0",
          "state": {
            "_model_module": "@jupyter-widgets/base",
            "_model_module_version": "1.2.0",
            "_model_name": "LayoutModel",
            "_view_count": null,
            "_view_module": "@jupyter-widgets/base",
            "_view_module_version": "1.2.0",
            "_view_name": "LayoutView",
            "align_content": null,
            "align_items": null,
            "align_self": null,
            "border": null,
            "bottom": null,
            "display": null,
            "flex": null,
            "flex_flow": null,
            "grid_area": null,
            "grid_auto_columns": null,
            "grid_auto_flow": null,
            "grid_auto_rows": null,
            "grid_column": null,
            "grid_gap": null,
            "grid_row": null,
            "grid_template_areas": null,
            "grid_template_columns": null,
            "grid_template_rows": null,
            "height": null,
            "justify_content": null,
            "justify_items": null,
            "left": null,
            "margin": null,
            "max_height": null,
            "max_width": null,
            "min_height": null,
            "min_width": null,
            "object_fit": null,
            "object_position": null,
            "order": null,
            "overflow": null,
            "overflow_x": null,
            "overflow_y": null,
            "padding": null,
            "right": null,
            "top": null,
            "visibility": null,
            "width": null
          }
        },
        "9720234d8939454f942ab7722b97c3bc": {
          "model_module": "@jupyter-widgets/controls",
          "model_name": "DescriptionStyleModel",
          "model_module_version": "1.5.0",
          "state": {
            "_model_module": "@jupyter-widgets/controls",
            "_model_module_version": "1.5.0",
            "_model_name": "DescriptionStyleModel",
            "_view_count": null,
            "_view_module": "@jupyter-widgets/base",
            "_view_module_version": "1.2.0",
            "_view_name": "StyleView",
            "description_width": ""
          }
        },
        "18cd50946cc24038bb596f95724b75bd": {
          "model_module": "@jupyter-widgets/base",
          "model_name": "LayoutModel",
          "model_module_version": "1.2.0",
          "state": {
            "_model_module": "@jupyter-widgets/base",
            "_model_module_version": "1.2.0",
            "_model_name": "LayoutModel",
            "_view_count": null,
            "_view_module": "@jupyter-widgets/base",
            "_view_module_version": "1.2.0",
            "_view_name": "LayoutView",
            "align_content": null,
            "align_items": null,
            "align_self": null,
            "border": null,
            "bottom": null,
            "display": null,
            "flex": null,
            "flex_flow": null,
            "grid_area": null,
            "grid_auto_columns": null,
            "grid_auto_flow": null,
            "grid_auto_rows": null,
            "grid_column": null,
            "grid_gap": null,
            "grid_row": null,
            "grid_template_areas": null,
            "grid_template_columns": null,
            "grid_template_rows": null,
            "height": null,
            "justify_content": null,
            "justify_items": null,
            "left": null,
            "margin": null,
            "max_height": null,
            "max_width": null,
            "min_height": null,
            "min_width": null,
            "object_fit": null,
            "object_position": null,
            "order": null,
            "overflow": null,
            "overflow_x": null,
            "overflow_y": null,
            "padding": null,
            "right": null,
            "top": null,
            "visibility": null,
            "width": null
          }
        },
        "e51702781a0e4b45a4ff4a27194319f1": {
          "model_module": "@jupyter-widgets/controls",
          "model_name": "ProgressStyleModel",
          "model_module_version": "1.5.0",
          "state": {
            "_model_module": "@jupyter-widgets/controls",
            "_model_module_version": "1.5.0",
            "_model_name": "ProgressStyleModel",
            "_view_count": null,
            "_view_module": "@jupyter-widgets/base",
            "_view_module_version": "1.2.0",
            "_view_name": "StyleView",
            "bar_color": null,
            "description_width": ""
          }
        },
        "8c6dab1804734a1697555ecf1bdc846e": {
          "model_module": "@jupyter-widgets/controls",
          "model_name": "VBoxModel",
          "model_module_version": "1.5.0",
          "state": {
            "_dom_classes": [],
            "_model_module": "@jupyter-widgets/controls",
            "_model_module_version": "1.5.0",
            "_model_name": "VBoxModel",
            "_view_count": null,
            "_view_module": "@jupyter-widgets/controls",
            "_view_module_version": "1.5.0",
            "_view_name": "VBoxView",
            "box_style": "",
            "children": [
              "IPY_MODEL_d3c6b383d7d14fbbbee8d9d091c3e69e",
              "IPY_MODEL_732f4d0a324c4a7ca258071d13898d23"
            ],
            "layout": "IPY_MODEL_93fcda82acf84719b10f28b568ff2fc8"
          }
        },
        "d3c6b383d7d14fbbbee8d9d091c3e69e": {
          "model_module": "@jupyter-widgets/controls",
          "model_name": "LabelModel",
          "model_module_version": "1.5.0",
          "state": {
            "_dom_classes": [],
            "_model_module": "@jupyter-widgets/controls",
            "_model_module_version": "1.5.0",
            "_model_name": "LabelModel",
            "_view_count": null,
            "_view_module": "@jupyter-widgets/controls",
            "_view_module_version": "1.5.0",
            "_view_name": "LabelView",
            "description": "",
            "description_tooltip": null,
            "layout": "IPY_MODEL_f83eea25913f4e12a69fcc6e76c1ec63",
            "placeholder": "​",
            "style": "IPY_MODEL_d952e422d7b847d0a6006220faaef0b6",
            "value": "24.401 MB of 24.401 MB uploaded (0.000 MB deduped)\r"
          }
        },
        "732f4d0a324c4a7ca258071d13898d23": {
          "model_module": "@jupyter-widgets/controls",
          "model_name": "FloatProgressModel",
          "model_module_version": "1.5.0",
          "state": {
            "_dom_classes": [],
            "_model_module": "@jupyter-widgets/controls",
            "_model_module_version": "1.5.0",
            "_model_name": "FloatProgressModel",
            "_view_count": null,
            "_view_module": "@jupyter-widgets/controls",
            "_view_module_version": "1.5.0",
            "_view_name": "ProgressView",
            "bar_style": "",
            "description": "",
            "description_tooltip": null,
            "layout": "IPY_MODEL_dde01db45883410585419d3dc3abbc5c",
            "max": 1,
            "min": 0,
            "orientation": "horizontal",
            "style": "IPY_MODEL_ebabf791840a409babe13296cd65a1fd",
            "value": 1
          }
        },
        "93fcda82acf84719b10f28b568ff2fc8": {
          "model_module": "@jupyter-widgets/base",
          "model_name": "LayoutModel",
          "model_module_version": "1.2.0",
          "state": {
            "_model_module": "@jupyter-widgets/base",
            "_model_module_version": "1.2.0",
            "_model_name": "LayoutModel",
            "_view_count": null,
            "_view_module": "@jupyter-widgets/base",
            "_view_module_version": "1.2.0",
            "_view_name": "LayoutView",
            "align_content": null,
            "align_items": null,
            "align_self": null,
            "border": null,
            "bottom": null,
            "display": null,
            "flex": null,
            "flex_flow": null,
            "grid_area": null,
            "grid_auto_columns": null,
            "grid_auto_flow": null,
            "grid_auto_rows": null,
            "grid_column": null,
            "grid_gap": null,
            "grid_row": null,
            "grid_template_areas": null,
            "grid_template_columns": null,
            "grid_template_rows": null,
            "height": null,
            "justify_content": null,
            "justify_items": null,
            "left": null,
            "margin": null,
            "max_height": null,
            "max_width": null,
            "min_height": null,
            "min_width": null,
            "object_fit": null,
            "object_position": null,
            "order": null,
            "overflow": null,
            "overflow_x": null,
            "overflow_y": null,
            "padding": null,
            "right": null,
            "top": null,
            "visibility": null,
            "width": null
          }
        },
        "f83eea25913f4e12a69fcc6e76c1ec63": {
          "model_module": "@jupyter-widgets/base",
          "model_name": "LayoutModel",
          "model_module_version": "1.2.0",
          "state": {
            "_model_module": "@jupyter-widgets/base",
            "_model_module_version": "1.2.0",
            "_model_name": "LayoutModel",
            "_view_count": null,
            "_view_module": "@jupyter-widgets/base",
            "_view_module_version": "1.2.0",
            "_view_name": "LayoutView",
            "align_content": null,
            "align_items": null,
            "align_self": null,
            "border": null,
            "bottom": null,
            "display": null,
            "flex": null,
            "flex_flow": null,
            "grid_area": null,
            "grid_auto_columns": null,
            "grid_auto_flow": null,
            "grid_auto_rows": null,
            "grid_column": null,
            "grid_gap": null,
            "grid_row": null,
            "grid_template_areas": null,
            "grid_template_columns": null,
            "grid_template_rows": null,
            "height": null,
            "justify_content": null,
            "justify_items": null,
            "left": null,
            "margin": null,
            "max_height": null,
            "max_width": null,
            "min_height": null,
            "min_width": null,
            "object_fit": null,
            "object_position": null,
            "order": null,
            "overflow": null,
            "overflow_x": null,
            "overflow_y": null,
            "padding": null,
            "right": null,
            "top": null,
            "visibility": null,
            "width": null
          }
        },
        "d952e422d7b847d0a6006220faaef0b6": {
          "model_module": "@jupyter-widgets/controls",
          "model_name": "DescriptionStyleModel",
          "model_module_version": "1.5.0",
          "state": {
            "_model_module": "@jupyter-widgets/controls",
            "_model_module_version": "1.5.0",
            "_model_name": "DescriptionStyleModel",
            "_view_count": null,
            "_view_module": "@jupyter-widgets/base",
            "_view_module_version": "1.2.0",
            "_view_name": "StyleView",
            "description_width": ""
          }
        },
        "dde01db45883410585419d3dc3abbc5c": {
          "model_module": "@jupyter-widgets/base",
          "model_name": "LayoutModel",
          "model_module_version": "1.2.0",
          "state": {
            "_model_module": "@jupyter-widgets/base",
            "_model_module_version": "1.2.0",
            "_model_name": "LayoutModel",
            "_view_count": null,
            "_view_module": "@jupyter-widgets/base",
            "_view_module_version": "1.2.0",
            "_view_name": "LayoutView",
            "align_content": null,
            "align_items": null,
            "align_self": null,
            "border": null,
            "bottom": null,
            "display": null,
            "flex": null,
            "flex_flow": null,
            "grid_area": null,
            "grid_auto_columns": null,
            "grid_auto_flow": null,
            "grid_auto_rows": null,
            "grid_column": null,
            "grid_gap": null,
            "grid_row": null,
            "grid_template_areas": null,
            "grid_template_columns": null,
            "grid_template_rows": null,
            "height": null,
            "justify_content": null,
            "justify_items": null,
            "left": null,
            "margin": null,
            "max_height": null,
            "max_width": null,
            "min_height": null,
            "min_width": null,
            "object_fit": null,
            "object_position": null,
            "order": null,
            "overflow": null,
            "overflow_x": null,
            "overflow_y": null,
            "padding": null,
            "right": null,
            "top": null,
            "visibility": null,
            "width": null
          }
        },
        "ebabf791840a409babe13296cd65a1fd": {
          "model_module": "@jupyter-widgets/controls",
          "model_name": "ProgressStyleModel",
          "model_module_version": "1.5.0",
          "state": {
            "_model_module": "@jupyter-widgets/controls",
            "_model_module_version": "1.5.0",
            "_model_name": "ProgressStyleModel",
            "_view_count": null,
            "_view_module": "@jupyter-widgets/base",
            "_view_module_version": "1.2.0",
            "_view_name": "StyleView",
            "bar_color": null,
            "description_width": ""
          }
        },
        "4d9239bebeda43af8c562c3a0ca18fdc": {
          "model_module": "@jupyter-widgets/controls",
          "model_name": "VBoxModel",
          "model_module_version": "1.5.0",
          "state": {
            "_dom_classes": [],
            "_model_module": "@jupyter-widgets/controls",
            "_model_module_version": "1.5.0",
            "_model_name": "VBoxModel",
            "_view_count": null,
            "_view_module": "@jupyter-widgets/controls",
            "_view_module_version": "1.5.0",
            "_view_name": "VBoxView",
            "box_style": "",
            "children": [
              "IPY_MODEL_74f9c5f31c8b4b61a081069461ad0a00",
              "IPY_MODEL_8eb9368142034d7390e88a750412c272"
            ],
            "layout": "IPY_MODEL_3ecbcbea7d6448d5937f0b65bbadac13"
          }
        },
        "74f9c5f31c8b4b61a081069461ad0a00": {
          "model_module": "@jupyter-widgets/controls",
          "model_name": "LabelModel",
          "model_module_version": "1.5.0",
          "state": {
            "_dom_classes": [],
            "_model_module": "@jupyter-widgets/controls",
            "_model_module_version": "1.5.0",
            "_model_name": "LabelModel",
            "_view_count": null,
            "_view_module": "@jupyter-widgets/controls",
            "_view_module_version": "1.5.0",
            "_view_name": "LabelView",
            "description": "",
            "description_tooltip": null,
            "layout": "IPY_MODEL_a43f71f9fd5e4686ab00d182ca2739f9",
            "placeholder": "​",
            "style": "IPY_MODEL_afce44cc4cba42a09d43b7e5bd974379",
            "value": "25.823 MB of 25.823 MB uploaded (0.000 MB deduped)\r"
          }
        },
        "8eb9368142034d7390e88a750412c272": {
          "model_module": "@jupyter-widgets/controls",
          "model_name": "FloatProgressModel",
          "model_module_version": "1.5.0",
          "state": {
            "_dom_classes": [],
            "_model_module": "@jupyter-widgets/controls",
            "_model_module_version": "1.5.0",
            "_model_name": "FloatProgressModel",
            "_view_count": null,
            "_view_module": "@jupyter-widgets/controls",
            "_view_module_version": "1.5.0",
            "_view_name": "ProgressView",
            "bar_style": "",
            "description": "",
            "description_tooltip": null,
            "layout": "IPY_MODEL_da53403f95bd488e8cafdb095365ffe7",
            "max": 1,
            "min": 0,
            "orientation": "horizontal",
            "style": "IPY_MODEL_e38bd7cf9bd44e72bd3caff948653f32",
            "value": 1
          }
        },
        "3ecbcbea7d6448d5937f0b65bbadac13": {
          "model_module": "@jupyter-widgets/base",
          "model_name": "LayoutModel",
          "model_module_version": "1.2.0",
          "state": {
            "_model_module": "@jupyter-widgets/base",
            "_model_module_version": "1.2.0",
            "_model_name": "LayoutModel",
            "_view_count": null,
            "_view_module": "@jupyter-widgets/base",
            "_view_module_version": "1.2.0",
            "_view_name": "LayoutView",
            "align_content": null,
            "align_items": null,
            "align_self": null,
            "border": null,
            "bottom": null,
            "display": null,
            "flex": null,
            "flex_flow": null,
            "grid_area": null,
            "grid_auto_columns": null,
            "grid_auto_flow": null,
            "grid_auto_rows": null,
            "grid_column": null,
            "grid_gap": null,
            "grid_row": null,
            "grid_template_areas": null,
            "grid_template_columns": null,
            "grid_template_rows": null,
            "height": null,
            "justify_content": null,
            "justify_items": null,
            "left": null,
            "margin": null,
            "max_height": null,
            "max_width": null,
            "min_height": null,
            "min_width": null,
            "object_fit": null,
            "object_position": null,
            "order": null,
            "overflow": null,
            "overflow_x": null,
            "overflow_y": null,
            "padding": null,
            "right": null,
            "top": null,
            "visibility": null,
            "width": null
          }
        },
        "a43f71f9fd5e4686ab00d182ca2739f9": {
          "model_module": "@jupyter-widgets/base",
          "model_name": "LayoutModel",
          "model_module_version": "1.2.0",
          "state": {
            "_model_module": "@jupyter-widgets/base",
            "_model_module_version": "1.2.0",
            "_model_name": "LayoutModel",
            "_view_count": null,
            "_view_module": "@jupyter-widgets/base",
            "_view_module_version": "1.2.0",
            "_view_name": "LayoutView",
            "align_content": null,
            "align_items": null,
            "align_self": null,
            "border": null,
            "bottom": null,
            "display": null,
            "flex": null,
            "flex_flow": null,
            "grid_area": null,
            "grid_auto_columns": null,
            "grid_auto_flow": null,
            "grid_auto_rows": null,
            "grid_column": null,
            "grid_gap": null,
            "grid_row": null,
            "grid_template_areas": null,
            "grid_template_columns": null,
            "grid_template_rows": null,
            "height": null,
            "justify_content": null,
            "justify_items": null,
            "left": null,
            "margin": null,
            "max_height": null,
            "max_width": null,
            "min_height": null,
            "min_width": null,
            "object_fit": null,
            "object_position": null,
            "order": null,
            "overflow": null,
            "overflow_x": null,
            "overflow_y": null,
            "padding": null,
            "right": null,
            "top": null,
            "visibility": null,
            "width": null
          }
        },
        "afce44cc4cba42a09d43b7e5bd974379": {
          "model_module": "@jupyter-widgets/controls",
          "model_name": "DescriptionStyleModel",
          "model_module_version": "1.5.0",
          "state": {
            "_model_module": "@jupyter-widgets/controls",
            "_model_module_version": "1.5.0",
            "_model_name": "DescriptionStyleModel",
            "_view_count": null,
            "_view_module": "@jupyter-widgets/base",
            "_view_module_version": "1.2.0",
            "_view_name": "StyleView",
            "description_width": ""
          }
        },
        "da53403f95bd488e8cafdb095365ffe7": {
          "model_module": "@jupyter-widgets/base",
          "model_name": "LayoutModel",
          "model_module_version": "1.2.0",
          "state": {
            "_model_module": "@jupyter-widgets/base",
            "_model_module_version": "1.2.0",
            "_model_name": "LayoutModel",
            "_view_count": null,
            "_view_module": "@jupyter-widgets/base",
            "_view_module_version": "1.2.0",
            "_view_name": "LayoutView",
            "align_content": null,
            "align_items": null,
            "align_self": null,
            "border": null,
            "bottom": null,
            "display": null,
            "flex": null,
            "flex_flow": null,
            "grid_area": null,
            "grid_auto_columns": null,
            "grid_auto_flow": null,
            "grid_auto_rows": null,
            "grid_column": null,
            "grid_gap": null,
            "grid_row": null,
            "grid_template_areas": null,
            "grid_template_columns": null,
            "grid_template_rows": null,
            "height": null,
            "justify_content": null,
            "justify_items": null,
            "left": null,
            "margin": null,
            "max_height": null,
            "max_width": null,
            "min_height": null,
            "min_width": null,
            "object_fit": null,
            "object_position": null,
            "order": null,
            "overflow": null,
            "overflow_x": null,
            "overflow_y": null,
            "padding": null,
            "right": null,
            "top": null,
            "visibility": null,
            "width": null
          }
        },
        "e38bd7cf9bd44e72bd3caff948653f32": {
          "model_module": "@jupyter-widgets/controls",
          "model_name": "ProgressStyleModel",
          "model_module_version": "1.5.0",
          "state": {
            "_model_module": "@jupyter-widgets/controls",
            "_model_module_version": "1.5.0",
            "_model_name": "ProgressStyleModel",
            "_view_count": null,
            "_view_module": "@jupyter-widgets/base",
            "_view_module_version": "1.2.0",
            "_view_name": "StyleView",
            "bar_color": null,
            "description_width": ""
          }
        },
        "9a1db5511f7e45ce8a24cea519fb6c92": {
          "model_module": "@jupyter-widgets/controls",
          "model_name": "VBoxModel",
          "model_module_version": "1.5.0",
          "state": {
            "_dom_classes": [],
            "_model_module": "@jupyter-widgets/controls",
            "_model_module_version": "1.5.0",
            "_model_name": "VBoxModel",
            "_view_count": null,
            "_view_module": "@jupyter-widgets/controls",
            "_view_module_version": "1.5.0",
            "_view_name": "VBoxView",
            "box_style": "",
            "children": [
              "IPY_MODEL_a8618f4a46674292825b6824c36c511e",
              "IPY_MODEL_5b26af905f1e41dc9ad22cb2899c032a"
            ],
            "layout": "IPY_MODEL_bd1f374dba514f2c8382cd68b4a4959e"
          }
        },
        "a8618f4a46674292825b6824c36c511e": {
          "model_module": "@jupyter-widgets/controls",
          "model_name": "LabelModel",
          "model_module_version": "1.5.0",
          "state": {
            "_dom_classes": [],
            "_model_module": "@jupyter-widgets/controls",
            "_model_module_version": "1.5.0",
            "_model_name": "LabelModel",
            "_view_count": null,
            "_view_module": "@jupyter-widgets/controls",
            "_view_module_version": "1.5.0",
            "_view_name": "LabelView",
            "description": "",
            "description_tooltip": null,
            "layout": "IPY_MODEL_b3c7b72aa8264c73837525939e5b1fea",
            "placeholder": "​",
            "style": "IPY_MODEL_7878c0cb72a443f798f2e7ff0b2cac94",
            "value": "32.866 MB of 32.866 MB uploaded (0.000 MB deduped)\r"
          }
        },
        "5b26af905f1e41dc9ad22cb2899c032a": {
          "model_module": "@jupyter-widgets/controls",
          "model_name": "FloatProgressModel",
          "model_module_version": "1.5.0",
          "state": {
            "_dom_classes": [],
            "_model_module": "@jupyter-widgets/controls",
            "_model_module_version": "1.5.0",
            "_model_name": "FloatProgressModel",
            "_view_count": null,
            "_view_module": "@jupyter-widgets/controls",
            "_view_module_version": "1.5.0",
            "_view_name": "ProgressView",
            "bar_style": "",
            "description": "",
            "description_tooltip": null,
            "layout": "IPY_MODEL_01502801efbe4692949902256ec30f6d",
            "max": 1,
            "min": 0,
            "orientation": "horizontal",
            "style": "IPY_MODEL_4ff6b0067ec34ceab59e8c8b657d36e5",
            "value": 1
          }
        },
        "bd1f374dba514f2c8382cd68b4a4959e": {
          "model_module": "@jupyter-widgets/base",
          "model_name": "LayoutModel",
          "model_module_version": "1.2.0",
          "state": {
            "_model_module": "@jupyter-widgets/base",
            "_model_module_version": "1.2.0",
            "_model_name": "LayoutModel",
            "_view_count": null,
            "_view_module": "@jupyter-widgets/base",
            "_view_module_version": "1.2.0",
            "_view_name": "LayoutView",
            "align_content": null,
            "align_items": null,
            "align_self": null,
            "border": null,
            "bottom": null,
            "display": null,
            "flex": null,
            "flex_flow": null,
            "grid_area": null,
            "grid_auto_columns": null,
            "grid_auto_flow": null,
            "grid_auto_rows": null,
            "grid_column": null,
            "grid_gap": null,
            "grid_row": null,
            "grid_template_areas": null,
            "grid_template_columns": null,
            "grid_template_rows": null,
            "height": null,
            "justify_content": null,
            "justify_items": null,
            "left": null,
            "margin": null,
            "max_height": null,
            "max_width": null,
            "min_height": null,
            "min_width": null,
            "object_fit": null,
            "object_position": null,
            "order": null,
            "overflow": null,
            "overflow_x": null,
            "overflow_y": null,
            "padding": null,
            "right": null,
            "top": null,
            "visibility": null,
            "width": null
          }
        },
        "b3c7b72aa8264c73837525939e5b1fea": {
          "model_module": "@jupyter-widgets/base",
          "model_name": "LayoutModel",
          "model_module_version": "1.2.0",
          "state": {
            "_model_module": "@jupyter-widgets/base",
            "_model_module_version": "1.2.0",
            "_model_name": "LayoutModel",
            "_view_count": null,
            "_view_module": "@jupyter-widgets/base",
            "_view_module_version": "1.2.0",
            "_view_name": "LayoutView",
            "align_content": null,
            "align_items": null,
            "align_self": null,
            "border": null,
            "bottom": null,
            "display": null,
            "flex": null,
            "flex_flow": null,
            "grid_area": null,
            "grid_auto_columns": null,
            "grid_auto_flow": null,
            "grid_auto_rows": null,
            "grid_column": null,
            "grid_gap": null,
            "grid_row": null,
            "grid_template_areas": null,
            "grid_template_columns": null,
            "grid_template_rows": null,
            "height": null,
            "justify_content": null,
            "justify_items": null,
            "left": null,
            "margin": null,
            "max_height": null,
            "max_width": null,
            "min_height": null,
            "min_width": null,
            "object_fit": null,
            "object_position": null,
            "order": null,
            "overflow": null,
            "overflow_x": null,
            "overflow_y": null,
            "padding": null,
            "right": null,
            "top": null,
            "visibility": null,
            "width": null
          }
        },
        "7878c0cb72a443f798f2e7ff0b2cac94": {
          "model_module": "@jupyter-widgets/controls",
          "model_name": "DescriptionStyleModel",
          "model_module_version": "1.5.0",
          "state": {
            "_model_module": "@jupyter-widgets/controls",
            "_model_module_version": "1.5.0",
            "_model_name": "DescriptionStyleModel",
            "_view_count": null,
            "_view_module": "@jupyter-widgets/base",
            "_view_module_version": "1.2.0",
            "_view_name": "StyleView",
            "description_width": ""
          }
        },
        "01502801efbe4692949902256ec30f6d": {
          "model_module": "@jupyter-widgets/base",
          "model_name": "LayoutModel",
          "model_module_version": "1.2.0",
          "state": {
            "_model_module": "@jupyter-widgets/base",
            "_model_module_version": "1.2.0",
            "_model_name": "LayoutModel",
            "_view_count": null,
            "_view_module": "@jupyter-widgets/base",
            "_view_module_version": "1.2.0",
            "_view_name": "LayoutView",
            "align_content": null,
            "align_items": null,
            "align_self": null,
            "border": null,
            "bottom": null,
            "display": null,
            "flex": null,
            "flex_flow": null,
            "grid_area": null,
            "grid_auto_columns": null,
            "grid_auto_flow": null,
            "grid_auto_rows": null,
            "grid_column": null,
            "grid_gap": null,
            "grid_row": null,
            "grid_template_areas": null,
            "grid_template_columns": null,
            "grid_template_rows": null,
            "height": null,
            "justify_content": null,
            "justify_items": null,
            "left": null,
            "margin": null,
            "max_height": null,
            "max_width": null,
            "min_height": null,
            "min_width": null,
            "object_fit": null,
            "object_position": null,
            "order": null,
            "overflow": null,
            "overflow_x": null,
            "overflow_y": null,
            "padding": null,
            "right": null,
            "top": null,
            "visibility": null,
            "width": null
          }
        },
        "4ff6b0067ec34ceab59e8c8b657d36e5": {
          "model_module": "@jupyter-widgets/controls",
          "model_name": "ProgressStyleModel",
          "model_module_version": "1.5.0",
          "state": {
            "_model_module": "@jupyter-widgets/controls",
            "_model_module_version": "1.5.0",
            "_model_name": "ProgressStyleModel",
            "_view_count": null,
            "_view_module": "@jupyter-widgets/base",
            "_view_module_version": "1.2.0",
            "_view_name": "StyleView",
            "bar_color": null,
            "description_width": ""
          }
        },
        "d8e9f72d88634286ac89392ccf5c733d": {
          "model_module": "@jupyter-widgets/controls",
          "model_name": "VBoxModel",
          "model_module_version": "1.5.0",
          "state": {
            "_dom_classes": [],
            "_model_module": "@jupyter-widgets/controls",
            "_model_module_version": "1.5.0",
            "_model_name": "VBoxModel",
            "_view_count": null,
            "_view_module": "@jupyter-widgets/controls",
            "_view_module_version": "1.5.0",
            "_view_name": "VBoxView",
            "box_style": "",
            "children": [
              "IPY_MODEL_06f55ffcff144e16a03eea6396f4a268",
              "IPY_MODEL_8bc7a6ea05c24e128d76eb5a7895f7c6"
            ],
            "layout": "IPY_MODEL_a1301d05860246afaffb6435ef4b24a0"
          }
        },
        "06f55ffcff144e16a03eea6396f4a268": {
          "model_module": "@jupyter-widgets/controls",
          "model_name": "LabelModel",
          "model_module_version": "1.5.0",
          "state": {
            "_dom_classes": [],
            "_model_module": "@jupyter-widgets/controls",
            "_model_module_version": "1.5.0",
            "_model_name": "LabelModel",
            "_view_count": null,
            "_view_module": "@jupyter-widgets/controls",
            "_view_module_version": "1.5.0",
            "_view_name": "LabelView",
            "description": "",
            "description_tooltip": null,
            "layout": "IPY_MODEL_59e3e748031948a097e38d54ee4e6610",
            "placeholder": "​",
            "style": "IPY_MODEL_8d018bea39b54ea9b9cc5ffb7bb060d3",
            "value": "24.402 MB of 24.402 MB uploaded (0.000 MB deduped)\r"
          }
        },
        "8bc7a6ea05c24e128d76eb5a7895f7c6": {
          "model_module": "@jupyter-widgets/controls",
          "model_name": "FloatProgressModel",
          "model_module_version": "1.5.0",
          "state": {
            "_dom_classes": [],
            "_model_module": "@jupyter-widgets/controls",
            "_model_module_version": "1.5.0",
            "_model_name": "FloatProgressModel",
            "_view_count": null,
            "_view_module": "@jupyter-widgets/controls",
            "_view_module_version": "1.5.0",
            "_view_name": "ProgressView",
            "bar_style": "",
            "description": "",
            "description_tooltip": null,
            "layout": "IPY_MODEL_4fa9702b4c994f46b67461fb08b73b84",
            "max": 1,
            "min": 0,
            "orientation": "horizontal",
            "style": "IPY_MODEL_d5d2fdc665374287a1588e30f6377929",
            "value": 1
          }
        },
        "a1301d05860246afaffb6435ef4b24a0": {
          "model_module": "@jupyter-widgets/base",
          "model_name": "LayoutModel",
          "model_module_version": "1.2.0",
          "state": {
            "_model_module": "@jupyter-widgets/base",
            "_model_module_version": "1.2.0",
            "_model_name": "LayoutModel",
            "_view_count": null,
            "_view_module": "@jupyter-widgets/base",
            "_view_module_version": "1.2.0",
            "_view_name": "LayoutView",
            "align_content": null,
            "align_items": null,
            "align_self": null,
            "border": null,
            "bottom": null,
            "display": null,
            "flex": null,
            "flex_flow": null,
            "grid_area": null,
            "grid_auto_columns": null,
            "grid_auto_flow": null,
            "grid_auto_rows": null,
            "grid_column": null,
            "grid_gap": null,
            "grid_row": null,
            "grid_template_areas": null,
            "grid_template_columns": null,
            "grid_template_rows": null,
            "height": null,
            "justify_content": null,
            "justify_items": null,
            "left": null,
            "margin": null,
            "max_height": null,
            "max_width": null,
            "min_height": null,
            "min_width": null,
            "object_fit": null,
            "object_position": null,
            "order": null,
            "overflow": null,
            "overflow_x": null,
            "overflow_y": null,
            "padding": null,
            "right": null,
            "top": null,
            "visibility": null,
            "width": null
          }
        },
        "59e3e748031948a097e38d54ee4e6610": {
          "model_module": "@jupyter-widgets/base",
          "model_name": "LayoutModel",
          "model_module_version": "1.2.0",
          "state": {
            "_model_module": "@jupyter-widgets/base",
            "_model_module_version": "1.2.0",
            "_model_name": "LayoutModel",
            "_view_count": null,
            "_view_module": "@jupyter-widgets/base",
            "_view_module_version": "1.2.0",
            "_view_name": "LayoutView",
            "align_content": null,
            "align_items": null,
            "align_self": null,
            "border": null,
            "bottom": null,
            "display": null,
            "flex": null,
            "flex_flow": null,
            "grid_area": null,
            "grid_auto_columns": null,
            "grid_auto_flow": null,
            "grid_auto_rows": null,
            "grid_column": null,
            "grid_gap": null,
            "grid_row": null,
            "grid_template_areas": null,
            "grid_template_columns": null,
            "grid_template_rows": null,
            "height": null,
            "justify_content": null,
            "justify_items": null,
            "left": null,
            "margin": null,
            "max_height": null,
            "max_width": null,
            "min_height": null,
            "min_width": null,
            "object_fit": null,
            "object_position": null,
            "order": null,
            "overflow": null,
            "overflow_x": null,
            "overflow_y": null,
            "padding": null,
            "right": null,
            "top": null,
            "visibility": null,
            "width": null
          }
        },
        "8d018bea39b54ea9b9cc5ffb7bb060d3": {
          "model_module": "@jupyter-widgets/controls",
          "model_name": "DescriptionStyleModel",
          "model_module_version": "1.5.0",
          "state": {
            "_model_module": "@jupyter-widgets/controls",
            "_model_module_version": "1.5.0",
            "_model_name": "DescriptionStyleModel",
            "_view_count": null,
            "_view_module": "@jupyter-widgets/base",
            "_view_module_version": "1.2.0",
            "_view_name": "StyleView",
            "description_width": ""
          }
        },
        "4fa9702b4c994f46b67461fb08b73b84": {
          "model_module": "@jupyter-widgets/base",
          "model_name": "LayoutModel",
          "model_module_version": "1.2.0",
          "state": {
            "_model_module": "@jupyter-widgets/base",
            "_model_module_version": "1.2.0",
            "_model_name": "LayoutModel",
            "_view_count": null,
            "_view_module": "@jupyter-widgets/base",
            "_view_module_version": "1.2.0",
            "_view_name": "LayoutView",
            "align_content": null,
            "align_items": null,
            "align_self": null,
            "border": null,
            "bottom": null,
            "display": null,
            "flex": null,
            "flex_flow": null,
            "grid_area": null,
            "grid_auto_columns": null,
            "grid_auto_flow": null,
            "grid_auto_rows": null,
            "grid_column": null,
            "grid_gap": null,
            "grid_row": null,
            "grid_template_areas": null,
            "grid_template_columns": null,
            "grid_template_rows": null,
            "height": null,
            "justify_content": null,
            "justify_items": null,
            "left": null,
            "margin": null,
            "max_height": null,
            "max_width": null,
            "min_height": null,
            "min_width": null,
            "object_fit": null,
            "object_position": null,
            "order": null,
            "overflow": null,
            "overflow_x": null,
            "overflow_y": null,
            "padding": null,
            "right": null,
            "top": null,
            "visibility": null,
            "width": null
          }
        },
        "d5d2fdc665374287a1588e30f6377929": {
          "model_module": "@jupyter-widgets/controls",
          "model_name": "ProgressStyleModel",
          "model_module_version": "1.5.0",
          "state": {
            "_model_module": "@jupyter-widgets/controls",
            "_model_module_version": "1.5.0",
            "_model_name": "ProgressStyleModel",
            "_view_count": null,
            "_view_module": "@jupyter-widgets/base",
            "_view_module_version": "1.2.0",
            "_view_name": "StyleView",
            "bar_color": null,
            "description_width": ""
          }
        },
        "89e418cff53c405db2db7b92b1263222": {
          "model_module": "@jupyter-widgets/controls",
          "model_name": "VBoxModel",
          "model_module_version": "1.5.0",
          "state": {
            "_dom_classes": [],
            "_model_module": "@jupyter-widgets/controls",
            "_model_module_version": "1.5.0",
            "_model_name": "VBoxModel",
            "_view_count": null,
            "_view_module": "@jupyter-widgets/controls",
            "_view_module_version": "1.5.0",
            "_view_name": "VBoxView",
            "box_style": "",
            "children": [
              "IPY_MODEL_8c7970ac0d0b4a42984a1c51575f2615",
              "IPY_MODEL_5591304de94542b79d14dc80f4093ead"
            ],
            "layout": "IPY_MODEL_f8ed1e0dd4d44f1face560b8e78b821c"
          }
        },
        "8c7970ac0d0b4a42984a1c51575f2615": {
          "model_module": "@jupyter-widgets/controls",
          "model_name": "LabelModel",
          "model_module_version": "1.5.0",
          "state": {
            "_dom_classes": [],
            "_model_module": "@jupyter-widgets/controls",
            "_model_module_version": "1.5.0",
            "_model_name": "LabelModel",
            "_view_count": null,
            "_view_module": "@jupyter-widgets/controls",
            "_view_module_version": "1.5.0",
            "_view_name": "LabelView",
            "description": "",
            "description_tooltip": null,
            "layout": "IPY_MODEL_299711cce9ab4567ab5518817df8f9aa",
            "placeholder": "​",
            "style": "IPY_MODEL_b0a5b61d38ad4bb69678ea0b0b81a749",
            "value": "8.105 MB of 8.105 MB uploaded (0.000 MB deduped)\r"
          }
        },
        "5591304de94542b79d14dc80f4093ead": {
          "model_module": "@jupyter-widgets/controls",
          "model_name": "FloatProgressModel",
          "model_module_version": "1.5.0",
          "state": {
            "_dom_classes": [],
            "_model_module": "@jupyter-widgets/controls",
            "_model_module_version": "1.5.0",
            "_model_name": "FloatProgressModel",
            "_view_count": null,
            "_view_module": "@jupyter-widgets/controls",
            "_view_module_version": "1.5.0",
            "_view_name": "ProgressView",
            "bar_style": "",
            "description": "",
            "description_tooltip": null,
            "layout": "IPY_MODEL_cb76e2de453045ecb4e63a06b07c53ff",
            "max": 1,
            "min": 0,
            "orientation": "horizontal",
            "style": "IPY_MODEL_2762042c2bb941899ba11be491859630",
            "value": 1
          }
        },
        "f8ed1e0dd4d44f1face560b8e78b821c": {
          "model_module": "@jupyter-widgets/base",
          "model_name": "LayoutModel",
          "model_module_version": "1.2.0",
          "state": {
            "_model_module": "@jupyter-widgets/base",
            "_model_module_version": "1.2.0",
            "_model_name": "LayoutModel",
            "_view_count": null,
            "_view_module": "@jupyter-widgets/base",
            "_view_module_version": "1.2.0",
            "_view_name": "LayoutView",
            "align_content": null,
            "align_items": null,
            "align_self": null,
            "border": null,
            "bottom": null,
            "display": null,
            "flex": null,
            "flex_flow": null,
            "grid_area": null,
            "grid_auto_columns": null,
            "grid_auto_flow": null,
            "grid_auto_rows": null,
            "grid_column": null,
            "grid_gap": null,
            "grid_row": null,
            "grid_template_areas": null,
            "grid_template_columns": null,
            "grid_template_rows": null,
            "height": null,
            "justify_content": null,
            "justify_items": null,
            "left": null,
            "margin": null,
            "max_height": null,
            "max_width": null,
            "min_height": null,
            "min_width": null,
            "object_fit": null,
            "object_position": null,
            "order": null,
            "overflow": null,
            "overflow_x": null,
            "overflow_y": null,
            "padding": null,
            "right": null,
            "top": null,
            "visibility": null,
            "width": null
          }
        },
        "299711cce9ab4567ab5518817df8f9aa": {
          "model_module": "@jupyter-widgets/base",
          "model_name": "LayoutModel",
          "model_module_version": "1.2.0",
          "state": {
            "_model_module": "@jupyter-widgets/base",
            "_model_module_version": "1.2.0",
            "_model_name": "LayoutModel",
            "_view_count": null,
            "_view_module": "@jupyter-widgets/base",
            "_view_module_version": "1.2.0",
            "_view_name": "LayoutView",
            "align_content": null,
            "align_items": null,
            "align_self": null,
            "border": null,
            "bottom": null,
            "display": null,
            "flex": null,
            "flex_flow": null,
            "grid_area": null,
            "grid_auto_columns": null,
            "grid_auto_flow": null,
            "grid_auto_rows": null,
            "grid_column": null,
            "grid_gap": null,
            "grid_row": null,
            "grid_template_areas": null,
            "grid_template_columns": null,
            "grid_template_rows": null,
            "height": null,
            "justify_content": null,
            "justify_items": null,
            "left": null,
            "margin": null,
            "max_height": null,
            "max_width": null,
            "min_height": null,
            "min_width": null,
            "object_fit": null,
            "object_position": null,
            "order": null,
            "overflow": null,
            "overflow_x": null,
            "overflow_y": null,
            "padding": null,
            "right": null,
            "top": null,
            "visibility": null,
            "width": null
          }
        },
        "b0a5b61d38ad4bb69678ea0b0b81a749": {
          "model_module": "@jupyter-widgets/controls",
          "model_name": "DescriptionStyleModel",
          "model_module_version": "1.5.0",
          "state": {
            "_model_module": "@jupyter-widgets/controls",
            "_model_module_version": "1.5.0",
            "_model_name": "DescriptionStyleModel",
            "_view_count": null,
            "_view_module": "@jupyter-widgets/base",
            "_view_module_version": "1.2.0",
            "_view_name": "StyleView",
            "description_width": ""
          }
        },
        "cb76e2de453045ecb4e63a06b07c53ff": {
          "model_module": "@jupyter-widgets/base",
          "model_name": "LayoutModel",
          "model_module_version": "1.2.0",
          "state": {
            "_model_module": "@jupyter-widgets/base",
            "_model_module_version": "1.2.0",
            "_model_name": "LayoutModel",
            "_view_count": null,
            "_view_module": "@jupyter-widgets/base",
            "_view_module_version": "1.2.0",
            "_view_name": "LayoutView",
            "align_content": null,
            "align_items": null,
            "align_self": null,
            "border": null,
            "bottom": null,
            "display": null,
            "flex": null,
            "flex_flow": null,
            "grid_area": null,
            "grid_auto_columns": null,
            "grid_auto_flow": null,
            "grid_auto_rows": null,
            "grid_column": null,
            "grid_gap": null,
            "grid_row": null,
            "grid_template_areas": null,
            "grid_template_columns": null,
            "grid_template_rows": null,
            "height": null,
            "justify_content": null,
            "justify_items": null,
            "left": null,
            "margin": null,
            "max_height": null,
            "max_width": null,
            "min_height": null,
            "min_width": null,
            "object_fit": null,
            "object_position": null,
            "order": null,
            "overflow": null,
            "overflow_x": null,
            "overflow_y": null,
            "padding": null,
            "right": null,
            "top": null,
            "visibility": null,
            "width": null
          }
        },
        "2762042c2bb941899ba11be491859630": {
          "model_module": "@jupyter-widgets/controls",
          "model_name": "ProgressStyleModel",
          "model_module_version": "1.5.0",
          "state": {
            "_model_module": "@jupyter-widgets/controls",
            "_model_module_version": "1.5.0",
            "_model_name": "ProgressStyleModel",
            "_view_count": null,
            "_view_module": "@jupyter-widgets/base",
            "_view_module_version": "1.2.0",
            "_view_name": "StyleView",
            "bar_color": null,
            "description_width": ""
          }
        },
        "3b2079defa054871ae6b1626186ebd98": {
          "model_module": "@jupyter-widgets/controls",
          "model_name": "VBoxModel",
          "model_module_version": "1.5.0",
          "state": {
            "_dom_classes": [],
            "_model_module": "@jupyter-widgets/controls",
            "_model_module_version": "1.5.0",
            "_model_name": "VBoxModel",
            "_view_count": null,
            "_view_module": "@jupyter-widgets/controls",
            "_view_module_version": "1.5.0",
            "_view_name": "VBoxView",
            "box_style": "",
            "children": [
              "IPY_MODEL_0ec6617d3d5c47ccbf1bbcc9cd1e2b48",
              "IPY_MODEL_83c7736cb39649749474694013469634"
            ],
            "layout": "IPY_MODEL_6c5dd6a230774674a0a23a6179cc5713"
          }
        },
        "0ec6617d3d5c47ccbf1bbcc9cd1e2b48": {
          "model_module": "@jupyter-widgets/controls",
          "model_name": "LabelModel",
          "model_module_version": "1.5.0",
          "state": {
            "_dom_classes": [],
            "_model_module": "@jupyter-widgets/controls",
            "_model_module_version": "1.5.0",
            "_model_name": "LabelModel",
            "_view_count": null,
            "_view_module": "@jupyter-widgets/controls",
            "_view_module_version": "1.5.0",
            "_view_name": "LabelView",
            "description": "",
            "description_tooltip": null,
            "layout": "IPY_MODEL_78dec3e3906a48498fc3dbda54ae076f",
            "placeholder": "​",
            "style": "IPY_MODEL_7c8fce3184694c7bb095adec8efcafa0",
            "value": "19.409 MB of 19.409 MB uploaded (0.000 MB deduped)\r"
          }
        },
        "83c7736cb39649749474694013469634": {
          "model_module": "@jupyter-widgets/controls",
          "model_name": "FloatProgressModel",
          "model_module_version": "1.5.0",
          "state": {
            "_dom_classes": [],
            "_model_module": "@jupyter-widgets/controls",
            "_model_module_version": "1.5.0",
            "_model_name": "FloatProgressModel",
            "_view_count": null,
            "_view_module": "@jupyter-widgets/controls",
            "_view_module_version": "1.5.0",
            "_view_name": "ProgressView",
            "bar_style": "",
            "description": "",
            "description_tooltip": null,
            "layout": "IPY_MODEL_37860fffa56d4748924295a184c718a9",
            "max": 1,
            "min": 0,
            "orientation": "horizontal",
            "style": "IPY_MODEL_93d23891c4f241a29a7bfd6a2e9e37c7",
            "value": 1
          }
        },
        "6c5dd6a230774674a0a23a6179cc5713": {
          "model_module": "@jupyter-widgets/base",
          "model_name": "LayoutModel",
          "model_module_version": "1.2.0",
          "state": {
            "_model_module": "@jupyter-widgets/base",
            "_model_module_version": "1.2.0",
            "_model_name": "LayoutModel",
            "_view_count": null,
            "_view_module": "@jupyter-widgets/base",
            "_view_module_version": "1.2.0",
            "_view_name": "LayoutView",
            "align_content": null,
            "align_items": null,
            "align_self": null,
            "border": null,
            "bottom": null,
            "display": null,
            "flex": null,
            "flex_flow": null,
            "grid_area": null,
            "grid_auto_columns": null,
            "grid_auto_flow": null,
            "grid_auto_rows": null,
            "grid_column": null,
            "grid_gap": null,
            "grid_row": null,
            "grid_template_areas": null,
            "grid_template_columns": null,
            "grid_template_rows": null,
            "height": null,
            "justify_content": null,
            "justify_items": null,
            "left": null,
            "margin": null,
            "max_height": null,
            "max_width": null,
            "min_height": null,
            "min_width": null,
            "object_fit": null,
            "object_position": null,
            "order": null,
            "overflow": null,
            "overflow_x": null,
            "overflow_y": null,
            "padding": null,
            "right": null,
            "top": null,
            "visibility": null,
            "width": null
          }
        },
        "78dec3e3906a48498fc3dbda54ae076f": {
          "model_module": "@jupyter-widgets/base",
          "model_name": "LayoutModel",
          "model_module_version": "1.2.0",
          "state": {
            "_model_module": "@jupyter-widgets/base",
            "_model_module_version": "1.2.0",
            "_model_name": "LayoutModel",
            "_view_count": null,
            "_view_module": "@jupyter-widgets/base",
            "_view_module_version": "1.2.0",
            "_view_name": "LayoutView",
            "align_content": null,
            "align_items": null,
            "align_self": null,
            "border": null,
            "bottom": null,
            "display": null,
            "flex": null,
            "flex_flow": null,
            "grid_area": null,
            "grid_auto_columns": null,
            "grid_auto_flow": null,
            "grid_auto_rows": null,
            "grid_column": null,
            "grid_gap": null,
            "grid_row": null,
            "grid_template_areas": null,
            "grid_template_columns": null,
            "grid_template_rows": null,
            "height": null,
            "justify_content": null,
            "justify_items": null,
            "left": null,
            "margin": null,
            "max_height": null,
            "max_width": null,
            "min_height": null,
            "min_width": null,
            "object_fit": null,
            "object_position": null,
            "order": null,
            "overflow": null,
            "overflow_x": null,
            "overflow_y": null,
            "padding": null,
            "right": null,
            "top": null,
            "visibility": null,
            "width": null
          }
        },
        "7c8fce3184694c7bb095adec8efcafa0": {
          "model_module": "@jupyter-widgets/controls",
          "model_name": "DescriptionStyleModel",
          "model_module_version": "1.5.0",
          "state": {
            "_model_module": "@jupyter-widgets/controls",
            "_model_module_version": "1.5.0",
            "_model_name": "DescriptionStyleModel",
            "_view_count": null,
            "_view_module": "@jupyter-widgets/base",
            "_view_module_version": "1.2.0",
            "_view_name": "StyleView",
            "description_width": ""
          }
        },
        "37860fffa56d4748924295a184c718a9": {
          "model_module": "@jupyter-widgets/base",
          "model_name": "LayoutModel",
          "model_module_version": "1.2.0",
          "state": {
            "_model_module": "@jupyter-widgets/base",
            "_model_module_version": "1.2.0",
            "_model_name": "LayoutModel",
            "_view_count": null,
            "_view_module": "@jupyter-widgets/base",
            "_view_module_version": "1.2.0",
            "_view_name": "LayoutView",
            "align_content": null,
            "align_items": null,
            "align_self": null,
            "border": null,
            "bottom": null,
            "display": null,
            "flex": null,
            "flex_flow": null,
            "grid_area": null,
            "grid_auto_columns": null,
            "grid_auto_flow": null,
            "grid_auto_rows": null,
            "grid_column": null,
            "grid_gap": null,
            "grid_row": null,
            "grid_template_areas": null,
            "grid_template_columns": null,
            "grid_template_rows": null,
            "height": null,
            "justify_content": null,
            "justify_items": null,
            "left": null,
            "margin": null,
            "max_height": null,
            "max_width": null,
            "min_height": null,
            "min_width": null,
            "object_fit": null,
            "object_position": null,
            "order": null,
            "overflow": null,
            "overflow_x": null,
            "overflow_y": null,
            "padding": null,
            "right": null,
            "top": null,
            "visibility": null,
            "width": null
          }
        },
        "93d23891c4f241a29a7bfd6a2e9e37c7": {
          "model_module": "@jupyter-widgets/controls",
          "model_name": "ProgressStyleModel",
          "model_module_version": "1.5.0",
          "state": {
            "_model_module": "@jupyter-widgets/controls",
            "_model_module_version": "1.5.0",
            "_model_name": "ProgressStyleModel",
            "_view_count": null,
            "_view_module": "@jupyter-widgets/base",
            "_view_module_version": "1.2.0",
            "_view_name": "StyleView",
            "bar_color": null,
            "description_width": ""
          }
        },
        "6067f9a739f84b9c8a2981a1781fb564": {
          "model_module": "@jupyter-widgets/controls",
          "model_name": "VBoxModel",
          "model_module_version": "1.5.0",
          "state": {
            "_dom_classes": [],
            "_model_module": "@jupyter-widgets/controls",
            "_model_module_version": "1.5.0",
            "_model_name": "VBoxModel",
            "_view_count": null,
            "_view_module": "@jupyter-widgets/controls",
            "_view_module_version": "1.5.0",
            "_view_name": "VBoxView",
            "box_style": "",
            "children": [
              "IPY_MODEL_7eaa800b677d4c98b594d3dad39b7933",
              "IPY_MODEL_c4c1226d49cc4167938c92bf0d238293"
            ],
            "layout": "IPY_MODEL_965c628ef9484c4fa00cab670969055f"
          }
        },
        "7eaa800b677d4c98b594d3dad39b7933": {
          "model_module": "@jupyter-widgets/controls",
          "model_name": "LabelModel",
          "model_module_version": "1.5.0",
          "state": {
            "_dom_classes": [],
            "_model_module": "@jupyter-widgets/controls",
            "_model_module_version": "1.5.0",
            "_model_name": "LabelModel",
            "_view_count": null,
            "_view_module": "@jupyter-widgets/controls",
            "_view_module_version": "1.5.0",
            "_view_name": "LabelView",
            "description": "",
            "description_tooltip": null,
            "layout": "IPY_MODEL_0cafbea1af2542d48fda0a341e902ff8",
            "placeholder": "​",
            "style": "IPY_MODEL_f5df0e06b8ae4033b3f7e0ca01aca579",
            "value": "96.054 MB of 96.054 MB uploaded (0.000 MB deduped)\r"
          }
        },
        "c4c1226d49cc4167938c92bf0d238293": {
          "model_module": "@jupyter-widgets/controls",
          "model_name": "FloatProgressModel",
          "model_module_version": "1.5.0",
          "state": {
            "_dom_classes": [],
            "_model_module": "@jupyter-widgets/controls",
            "_model_module_version": "1.5.0",
            "_model_name": "FloatProgressModel",
            "_view_count": null,
            "_view_module": "@jupyter-widgets/controls",
            "_view_module_version": "1.5.0",
            "_view_name": "ProgressView",
            "bar_style": "",
            "description": "",
            "description_tooltip": null,
            "layout": "IPY_MODEL_b3c0ff040e8b466d92f37613b81743af",
            "max": 1,
            "min": 0,
            "orientation": "horizontal",
            "style": "IPY_MODEL_6852c87892534c84abada09996fd7b83",
            "value": 1
          }
        },
        "965c628ef9484c4fa00cab670969055f": {
          "model_module": "@jupyter-widgets/base",
          "model_name": "LayoutModel",
          "model_module_version": "1.2.0",
          "state": {
            "_model_module": "@jupyter-widgets/base",
            "_model_module_version": "1.2.0",
            "_model_name": "LayoutModel",
            "_view_count": null,
            "_view_module": "@jupyter-widgets/base",
            "_view_module_version": "1.2.0",
            "_view_name": "LayoutView",
            "align_content": null,
            "align_items": null,
            "align_self": null,
            "border": null,
            "bottom": null,
            "display": null,
            "flex": null,
            "flex_flow": null,
            "grid_area": null,
            "grid_auto_columns": null,
            "grid_auto_flow": null,
            "grid_auto_rows": null,
            "grid_column": null,
            "grid_gap": null,
            "grid_row": null,
            "grid_template_areas": null,
            "grid_template_columns": null,
            "grid_template_rows": null,
            "height": null,
            "justify_content": null,
            "justify_items": null,
            "left": null,
            "margin": null,
            "max_height": null,
            "max_width": null,
            "min_height": null,
            "min_width": null,
            "object_fit": null,
            "object_position": null,
            "order": null,
            "overflow": null,
            "overflow_x": null,
            "overflow_y": null,
            "padding": null,
            "right": null,
            "top": null,
            "visibility": null,
            "width": null
          }
        },
        "0cafbea1af2542d48fda0a341e902ff8": {
          "model_module": "@jupyter-widgets/base",
          "model_name": "LayoutModel",
          "model_module_version": "1.2.0",
          "state": {
            "_model_module": "@jupyter-widgets/base",
            "_model_module_version": "1.2.0",
            "_model_name": "LayoutModel",
            "_view_count": null,
            "_view_module": "@jupyter-widgets/base",
            "_view_module_version": "1.2.0",
            "_view_name": "LayoutView",
            "align_content": null,
            "align_items": null,
            "align_self": null,
            "border": null,
            "bottom": null,
            "display": null,
            "flex": null,
            "flex_flow": null,
            "grid_area": null,
            "grid_auto_columns": null,
            "grid_auto_flow": null,
            "grid_auto_rows": null,
            "grid_column": null,
            "grid_gap": null,
            "grid_row": null,
            "grid_template_areas": null,
            "grid_template_columns": null,
            "grid_template_rows": null,
            "height": null,
            "justify_content": null,
            "justify_items": null,
            "left": null,
            "margin": null,
            "max_height": null,
            "max_width": null,
            "min_height": null,
            "min_width": null,
            "object_fit": null,
            "object_position": null,
            "order": null,
            "overflow": null,
            "overflow_x": null,
            "overflow_y": null,
            "padding": null,
            "right": null,
            "top": null,
            "visibility": null,
            "width": null
          }
        },
        "f5df0e06b8ae4033b3f7e0ca01aca579": {
          "model_module": "@jupyter-widgets/controls",
          "model_name": "DescriptionStyleModel",
          "model_module_version": "1.5.0",
          "state": {
            "_model_module": "@jupyter-widgets/controls",
            "_model_module_version": "1.5.0",
            "_model_name": "DescriptionStyleModel",
            "_view_count": null,
            "_view_module": "@jupyter-widgets/base",
            "_view_module_version": "1.2.0",
            "_view_name": "StyleView",
            "description_width": ""
          }
        },
        "b3c0ff040e8b466d92f37613b81743af": {
          "model_module": "@jupyter-widgets/base",
          "model_name": "LayoutModel",
          "model_module_version": "1.2.0",
          "state": {
            "_model_module": "@jupyter-widgets/base",
            "_model_module_version": "1.2.0",
            "_model_name": "LayoutModel",
            "_view_count": null,
            "_view_module": "@jupyter-widgets/base",
            "_view_module_version": "1.2.0",
            "_view_name": "LayoutView",
            "align_content": null,
            "align_items": null,
            "align_self": null,
            "border": null,
            "bottom": null,
            "display": null,
            "flex": null,
            "flex_flow": null,
            "grid_area": null,
            "grid_auto_columns": null,
            "grid_auto_flow": null,
            "grid_auto_rows": null,
            "grid_column": null,
            "grid_gap": null,
            "grid_row": null,
            "grid_template_areas": null,
            "grid_template_columns": null,
            "grid_template_rows": null,
            "height": null,
            "justify_content": null,
            "justify_items": null,
            "left": null,
            "margin": null,
            "max_height": null,
            "max_width": null,
            "min_height": null,
            "min_width": null,
            "object_fit": null,
            "object_position": null,
            "order": null,
            "overflow": null,
            "overflow_x": null,
            "overflow_y": null,
            "padding": null,
            "right": null,
            "top": null,
            "visibility": null,
            "width": null
          }
        },
        "6852c87892534c84abada09996fd7b83": {
          "model_module": "@jupyter-widgets/controls",
          "model_name": "ProgressStyleModel",
          "model_module_version": "1.5.0",
          "state": {
            "_model_module": "@jupyter-widgets/controls",
            "_model_module_version": "1.5.0",
            "_model_name": "ProgressStyleModel",
            "_view_count": null,
            "_view_module": "@jupyter-widgets/base",
            "_view_module_version": "1.2.0",
            "_view_name": "StyleView",
            "bar_color": null,
            "description_width": ""
          }
        },
        "51336ef9c6ae46a5879dba7b5a0f62c6": {
          "model_module": "@jupyter-widgets/controls",
          "model_name": "VBoxModel",
          "model_module_version": "1.5.0",
          "state": {
            "_dom_classes": [],
            "_model_module": "@jupyter-widgets/controls",
            "_model_module_version": "1.5.0",
            "_model_name": "VBoxModel",
            "_view_count": null,
            "_view_module": "@jupyter-widgets/controls",
            "_view_module_version": "1.5.0",
            "_view_name": "VBoxView",
            "box_style": "",
            "children": [
              "IPY_MODEL_aea314e5f0c6490d8ef6b6d4ec41e2ca",
              "IPY_MODEL_af553747ee9f417082a2d5711e828bd1"
            ],
            "layout": "IPY_MODEL_495355ae53f04a42a2863053d993adb5"
          }
        },
        "aea314e5f0c6490d8ef6b6d4ec41e2ca": {
          "model_module": "@jupyter-widgets/controls",
          "model_name": "LabelModel",
          "model_module_version": "1.5.0",
          "state": {
            "_dom_classes": [],
            "_model_module": "@jupyter-widgets/controls",
            "_model_module_version": "1.5.0",
            "_model_name": "LabelModel",
            "_view_count": null,
            "_view_module": "@jupyter-widgets/controls",
            "_view_module_version": "1.5.0",
            "_view_name": "LabelView",
            "description": "",
            "description_tooltip": null,
            "layout": "IPY_MODEL_7ef28078f4314431875b8d5dbe5b69d4",
            "placeholder": "​",
            "style": "IPY_MODEL_e683244cbbdf40e192ff46701eea1f56",
            "value": "9.627 MB of 9.627 MB uploaded (0.000 MB deduped)\r"
          }
        },
        "af553747ee9f417082a2d5711e828bd1": {
          "model_module": "@jupyter-widgets/controls",
          "model_name": "FloatProgressModel",
          "model_module_version": "1.5.0",
          "state": {
            "_dom_classes": [],
            "_model_module": "@jupyter-widgets/controls",
            "_model_module_version": "1.5.0",
            "_model_name": "FloatProgressModel",
            "_view_count": null,
            "_view_module": "@jupyter-widgets/controls",
            "_view_module_version": "1.5.0",
            "_view_name": "ProgressView",
            "bar_style": "",
            "description": "",
            "description_tooltip": null,
            "layout": "IPY_MODEL_b26f4e5ec00b4c60a35f2708fdc281cd",
            "max": 1,
            "min": 0,
            "orientation": "horizontal",
            "style": "IPY_MODEL_56c8b72920fa406b8e4650e07f312e49",
            "value": 1
          }
        },
        "495355ae53f04a42a2863053d993adb5": {
          "model_module": "@jupyter-widgets/base",
          "model_name": "LayoutModel",
          "model_module_version": "1.2.0",
          "state": {
            "_model_module": "@jupyter-widgets/base",
            "_model_module_version": "1.2.0",
            "_model_name": "LayoutModel",
            "_view_count": null,
            "_view_module": "@jupyter-widgets/base",
            "_view_module_version": "1.2.0",
            "_view_name": "LayoutView",
            "align_content": null,
            "align_items": null,
            "align_self": null,
            "border": null,
            "bottom": null,
            "display": null,
            "flex": null,
            "flex_flow": null,
            "grid_area": null,
            "grid_auto_columns": null,
            "grid_auto_flow": null,
            "grid_auto_rows": null,
            "grid_column": null,
            "grid_gap": null,
            "grid_row": null,
            "grid_template_areas": null,
            "grid_template_columns": null,
            "grid_template_rows": null,
            "height": null,
            "justify_content": null,
            "justify_items": null,
            "left": null,
            "margin": null,
            "max_height": null,
            "max_width": null,
            "min_height": null,
            "min_width": null,
            "object_fit": null,
            "object_position": null,
            "order": null,
            "overflow": null,
            "overflow_x": null,
            "overflow_y": null,
            "padding": null,
            "right": null,
            "top": null,
            "visibility": null,
            "width": null
          }
        },
        "7ef28078f4314431875b8d5dbe5b69d4": {
          "model_module": "@jupyter-widgets/base",
          "model_name": "LayoutModel",
          "model_module_version": "1.2.0",
          "state": {
            "_model_module": "@jupyter-widgets/base",
            "_model_module_version": "1.2.0",
            "_model_name": "LayoutModel",
            "_view_count": null,
            "_view_module": "@jupyter-widgets/base",
            "_view_module_version": "1.2.0",
            "_view_name": "LayoutView",
            "align_content": null,
            "align_items": null,
            "align_self": null,
            "border": null,
            "bottom": null,
            "display": null,
            "flex": null,
            "flex_flow": null,
            "grid_area": null,
            "grid_auto_columns": null,
            "grid_auto_flow": null,
            "grid_auto_rows": null,
            "grid_column": null,
            "grid_gap": null,
            "grid_row": null,
            "grid_template_areas": null,
            "grid_template_columns": null,
            "grid_template_rows": null,
            "height": null,
            "justify_content": null,
            "justify_items": null,
            "left": null,
            "margin": null,
            "max_height": null,
            "max_width": null,
            "min_height": null,
            "min_width": null,
            "object_fit": null,
            "object_position": null,
            "order": null,
            "overflow": null,
            "overflow_x": null,
            "overflow_y": null,
            "padding": null,
            "right": null,
            "top": null,
            "visibility": null,
            "width": null
          }
        },
        "e683244cbbdf40e192ff46701eea1f56": {
          "model_module": "@jupyter-widgets/controls",
          "model_name": "DescriptionStyleModel",
          "model_module_version": "1.5.0",
          "state": {
            "_model_module": "@jupyter-widgets/controls",
            "_model_module_version": "1.5.0",
            "_model_name": "DescriptionStyleModel",
            "_view_count": null,
            "_view_module": "@jupyter-widgets/base",
            "_view_module_version": "1.2.0",
            "_view_name": "StyleView",
            "description_width": ""
          }
        },
        "b26f4e5ec00b4c60a35f2708fdc281cd": {
          "model_module": "@jupyter-widgets/base",
          "model_name": "LayoutModel",
          "model_module_version": "1.2.0",
          "state": {
            "_model_module": "@jupyter-widgets/base",
            "_model_module_version": "1.2.0",
            "_model_name": "LayoutModel",
            "_view_count": null,
            "_view_module": "@jupyter-widgets/base",
            "_view_module_version": "1.2.0",
            "_view_name": "LayoutView",
            "align_content": null,
            "align_items": null,
            "align_self": null,
            "border": null,
            "bottom": null,
            "display": null,
            "flex": null,
            "flex_flow": null,
            "grid_area": null,
            "grid_auto_columns": null,
            "grid_auto_flow": null,
            "grid_auto_rows": null,
            "grid_column": null,
            "grid_gap": null,
            "grid_row": null,
            "grid_template_areas": null,
            "grid_template_columns": null,
            "grid_template_rows": null,
            "height": null,
            "justify_content": null,
            "justify_items": null,
            "left": null,
            "margin": null,
            "max_height": null,
            "max_width": null,
            "min_height": null,
            "min_width": null,
            "object_fit": null,
            "object_position": null,
            "order": null,
            "overflow": null,
            "overflow_x": null,
            "overflow_y": null,
            "padding": null,
            "right": null,
            "top": null,
            "visibility": null,
            "width": null
          }
        },
        "56c8b72920fa406b8e4650e07f312e49": {
          "model_module": "@jupyter-widgets/controls",
          "model_name": "ProgressStyleModel",
          "model_module_version": "1.5.0",
          "state": {
            "_model_module": "@jupyter-widgets/controls",
            "_model_module_version": "1.5.0",
            "_model_name": "ProgressStyleModel",
            "_view_count": null,
            "_view_module": "@jupyter-widgets/base",
            "_view_module_version": "1.2.0",
            "_view_name": "StyleView",
            "bar_color": null,
            "description_width": ""
          }
        },
        "d48c351d3a4a454885eae1b6ec203d2b": {
          "model_module": "@jupyter-widgets/controls",
          "model_name": "VBoxModel",
          "model_module_version": "1.5.0",
          "state": {
            "_dom_classes": [],
            "_model_module": "@jupyter-widgets/controls",
            "_model_module_version": "1.5.0",
            "_model_name": "VBoxModel",
            "_view_count": null,
            "_view_module": "@jupyter-widgets/controls",
            "_view_module_version": "1.5.0",
            "_view_name": "VBoxView",
            "box_style": "",
            "children": [
              "IPY_MODEL_8c60e63b32264bafbeb3e57e76dfcf27",
              "IPY_MODEL_40d09d1221fd433ebc6b1d606a9d1611"
            ],
            "layout": "IPY_MODEL_9cd55789131e47eaaf3ac0c7e608e2e9"
          }
        },
        "8c60e63b32264bafbeb3e57e76dfcf27": {
          "model_module": "@jupyter-widgets/controls",
          "model_name": "LabelModel",
          "model_module_version": "1.5.0",
          "state": {
            "_dom_classes": [],
            "_model_module": "@jupyter-widgets/controls",
            "_model_module_version": "1.5.0",
            "_model_name": "LabelModel",
            "_view_count": null,
            "_view_module": "@jupyter-widgets/controls",
            "_view_module_version": "1.5.0",
            "_view_name": "LabelView",
            "description": "",
            "description_tooltip": null,
            "layout": "IPY_MODEL_3f4b8c80b3f441539e9e6a205ac06118",
            "placeholder": "​",
            "style": "IPY_MODEL_ee71992aa9904b4db5561db5ccc492f3",
            "value": "100.037 MB of 100.037 MB uploaded (0.000 MB deduped)\r"
          }
        },
        "40d09d1221fd433ebc6b1d606a9d1611": {
          "model_module": "@jupyter-widgets/controls",
          "model_name": "FloatProgressModel",
          "model_module_version": "1.5.0",
          "state": {
            "_dom_classes": [],
            "_model_module": "@jupyter-widgets/controls",
            "_model_module_version": "1.5.0",
            "_model_name": "FloatProgressModel",
            "_view_count": null,
            "_view_module": "@jupyter-widgets/controls",
            "_view_module_version": "1.5.0",
            "_view_name": "ProgressView",
            "bar_style": "",
            "description": "",
            "description_tooltip": null,
            "layout": "IPY_MODEL_6444332b26134f9d826772302be9d8d5",
            "max": 1,
            "min": 0,
            "orientation": "horizontal",
            "style": "IPY_MODEL_fda193e132ec49209b67a678e15a2ca4",
            "value": 1
          }
        },
        "9cd55789131e47eaaf3ac0c7e608e2e9": {
          "model_module": "@jupyter-widgets/base",
          "model_name": "LayoutModel",
          "model_module_version": "1.2.0",
          "state": {
            "_model_module": "@jupyter-widgets/base",
            "_model_module_version": "1.2.0",
            "_model_name": "LayoutModel",
            "_view_count": null,
            "_view_module": "@jupyter-widgets/base",
            "_view_module_version": "1.2.0",
            "_view_name": "LayoutView",
            "align_content": null,
            "align_items": null,
            "align_self": null,
            "border": null,
            "bottom": null,
            "display": null,
            "flex": null,
            "flex_flow": null,
            "grid_area": null,
            "grid_auto_columns": null,
            "grid_auto_flow": null,
            "grid_auto_rows": null,
            "grid_column": null,
            "grid_gap": null,
            "grid_row": null,
            "grid_template_areas": null,
            "grid_template_columns": null,
            "grid_template_rows": null,
            "height": null,
            "justify_content": null,
            "justify_items": null,
            "left": null,
            "margin": null,
            "max_height": null,
            "max_width": null,
            "min_height": null,
            "min_width": null,
            "object_fit": null,
            "object_position": null,
            "order": null,
            "overflow": null,
            "overflow_x": null,
            "overflow_y": null,
            "padding": null,
            "right": null,
            "top": null,
            "visibility": null,
            "width": null
          }
        },
        "3f4b8c80b3f441539e9e6a205ac06118": {
          "model_module": "@jupyter-widgets/base",
          "model_name": "LayoutModel",
          "model_module_version": "1.2.0",
          "state": {
            "_model_module": "@jupyter-widgets/base",
            "_model_module_version": "1.2.0",
            "_model_name": "LayoutModel",
            "_view_count": null,
            "_view_module": "@jupyter-widgets/base",
            "_view_module_version": "1.2.0",
            "_view_name": "LayoutView",
            "align_content": null,
            "align_items": null,
            "align_self": null,
            "border": null,
            "bottom": null,
            "display": null,
            "flex": null,
            "flex_flow": null,
            "grid_area": null,
            "grid_auto_columns": null,
            "grid_auto_flow": null,
            "grid_auto_rows": null,
            "grid_column": null,
            "grid_gap": null,
            "grid_row": null,
            "grid_template_areas": null,
            "grid_template_columns": null,
            "grid_template_rows": null,
            "height": null,
            "justify_content": null,
            "justify_items": null,
            "left": null,
            "margin": null,
            "max_height": null,
            "max_width": null,
            "min_height": null,
            "min_width": null,
            "object_fit": null,
            "object_position": null,
            "order": null,
            "overflow": null,
            "overflow_x": null,
            "overflow_y": null,
            "padding": null,
            "right": null,
            "top": null,
            "visibility": null,
            "width": null
          }
        },
        "ee71992aa9904b4db5561db5ccc492f3": {
          "model_module": "@jupyter-widgets/controls",
          "model_name": "DescriptionStyleModel",
          "model_module_version": "1.5.0",
          "state": {
            "_model_module": "@jupyter-widgets/controls",
            "_model_module_version": "1.5.0",
            "_model_name": "DescriptionStyleModel",
            "_view_count": null,
            "_view_module": "@jupyter-widgets/base",
            "_view_module_version": "1.2.0",
            "_view_name": "StyleView",
            "description_width": ""
          }
        },
        "6444332b26134f9d826772302be9d8d5": {
          "model_module": "@jupyter-widgets/base",
          "model_name": "LayoutModel",
          "model_module_version": "1.2.0",
          "state": {
            "_model_module": "@jupyter-widgets/base",
            "_model_module_version": "1.2.0",
            "_model_name": "LayoutModel",
            "_view_count": null,
            "_view_module": "@jupyter-widgets/base",
            "_view_module_version": "1.2.0",
            "_view_name": "LayoutView",
            "align_content": null,
            "align_items": null,
            "align_self": null,
            "border": null,
            "bottom": null,
            "display": null,
            "flex": null,
            "flex_flow": null,
            "grid_area": null,
            "grid_auto_columns": null,
            "grid_auto_flow": null,
            "grid_auto_rows": null,
            "grid_column": null,
            "grid_gap": null,
            "grid_row": null,
            "grid_template_areas": null,
            "grid_template_columns": null,
            "grid_template_rows": null,
            "height": null,
            "justify_content": null,
            "justify_items": null,
            "left": null,
            "margin": null,
            "max_height": null,
            "max_width": null,
            "min_height": null,
            "min_width": null,
            "object_fit": null,
            "object_position": null,
            "order": null,
            "overflow": null,
            "overflow_x": null,
            "overflow_y": null,
            "padding": null,
            "right": null,
            "top": null,
            "visibility": null,
            "width": null
          }
        },
        "fda193e132ec49209b67a678e15a2ca4": {
          "model_module": "@jupyter-widgets/controls",
          "model_name": "ProgressStyleModel",
          "model_module_version": "1.5.0",
          "state": {
            "_model_module": "@jupyter-widgets/controls",
            "_model_module_version": "1.5.0",
            "_model_name": "ProgressStyleModel",
            "_view_count": null,
            "_view_module": "@jupyter-widgets/base",
            "_view_module_version": "1.2.0",
            "_view_name": "StyleView",
            "bar_color": null,
            "description_width": ""
          }
        },
        "47c124452fd4416eb5fb972647205dae": {
          "model_module": "@jupyter-widgets/controls",
          "model_name": "VBoxModel",
          "model_module_version": "1.5.0",
          "state": {
            "_dom_classes": [],
            "_model_module": "@jupyter-widgets/controls",
            "_model_module_version": "1.5.0",
            "_model_name": "VBoxModel",
            "_view_count": null,
            "_view_module": "@jupyter-widgets/controls",
            "_view_module_version": "1.5.0",
            "_view_name": "VBoxView",
            "box_style": "",
            "children": [
              "IPY_MODEL_e64a95260b524344ba448492774f501d",
              "IPY_MODEL_b126efbf7b324b79921141afeb0b8a3d"
            ],
            "layout": "IPY_MODEL_0c9fe633a2474d7ca4ddf2a54419d4d5"
          }
        },
        "e64a95260b524344ba448492774f501d": {
          "model_module": "@jupyter-widgets/controls",
          "model_name": "LabelModel",
          "model_module_version": "1.5.0",
          "state": {
            "_dom_classes": [],
            "_model_module": "@jupyter-widgets/controls",
            "_model_module_version": "1.5.0",
            "_model_name": "LabelModel",
            "_view_count": null,
            "_view_module": "@jupyter-widgets/controls",
            "_view_module_version": "1.5.0",
            "_view_name": "LabelView",
            "description": "",
            "description_tooltip": null,
            "layout": "IPY_MODEL_8a8722037a6a4bfa9b1331ef2b679ea6",
            "placeholder": "​",
            "style": "IPY_MODEL_f5723728345e4a45970b9c91573866ab",
            "value": "173.271 MB of 173.271 MB uploaded (0.000 MB deduped)\r"
          }
        },
        "b126efbf7b324b79921141afeb0b8a3d": {
          "model_module": "@jupyter-widgets/controls",
          "model_name": "FloatProgressModel",
          "model_module_version": "1.5.0",
          "state": {
            "_dom_classes": [],
            "_model_module": "@jupyter-widgets/controls",
            "_model_module_version": "1.5.0",
            "_model_name": "FloatProgressModel",
            "_view_count": null,
            "_view_module": "@jupyter-widgets/controls",
            "_view_module_version": "1.5.0",
            "_view_name": "ProgressView",
            "bar_style": "",
            "description": "",
            "description_tooltip": null,
            "layout": "IPY_MODEL_16b2ebc830c649e0b1c19aef026d7cfb",
            "max": 1,
            "min": 0,
            "orientation": "horizontal",
            "style": "IPY_MODEL_fe0fa48fb9de419787eac1e94c7210a6",
            "value": 1
          }
        },
        "0c9fe633a2474d7ca4ddf2a54419d4d5": {
          "model_module": "@jupyter-widgets/base",
          "model_name": "LayoutModel",
          "model_module_version": "1.2.0",
          "state": {
            "_model_module": "@jupyter-widgets/base",
            "_model_module_version": "1.2.0",
            "_model_name": "LayoutModel",
            "_view_count": null,
            "_view_module": "@jupyter-widgets/base",
            "_view_module_version": "1.2.0",
            "_view_name": "LayoutView",
            "align_content": null,
            "align_items": null,
            "align_self": null,
            "border": null,
            "bottom": null,
            "display": null,
            "flex": null,
            "flex_flow": null,
            "grid_area": null,
            "grid_auto_columns": null,
            "grid_auto_flow": null,
            "grid_auto_rows": null,
            "grid_column": null,
            "grid_gap": null,
            "grid_row": null,
            "grid_template_areas": null,
            "grid_template_columns": null,
            "grid_template_rows": null,
            "height": null,
            "justify_content": null,
            "justify_items": null,
            "left": null,
            "margin": null,
            "max_height": null,
            "max_width": null,
            "min_height": null,
            "min_width": null,
            "object_fit": null,
            "object_position": null,
            "order": null,
            "overflow": null,
            "overflow_x": null,
            "overflow_y": null,
            "padding": null,
            "right": null,
            "top": null,
            "visibility": null,
            "width": null
          }
        },
        "8a8722037a6a4bfa9b1331ef2b679ea6": {
          "model_module": "@jupyter-widgets/base",
          "model_name": "LayoutModel",
          "model_module_version": "1.2.0",
          "state": {
            "_model_module": "@jupyter-widgets/base",
            "_model_module_version": "1.2.0",
            "_model_name": "LayoutModel",
            "_view_count": null,
            "_view_module": "@jupyter-widgets/base",
            "_view_module_version": "1.2.0",
            "_view_name": "LayoutView",
            "align_content": null,
            "align_items": null,
            "align_self": null,
            "border": null,
            "bottom": null,
            "display": null,
            "flex": null,
            "flex_flow": null,
            "grid_area": null,
            "grid_auto_columns": null,
            "grid_auto_flow": null,
            "grid_auto_rows": null,
            "grid_column": null,
            "grid_gap": null,
            "grid_row": null,
            "grid_template_areas": null,
            "grid_template_columns": null,
            "grid_template_rows": null,
            "height": null,
            "justify_content": null,
            "justify_items": null,
            "left": null,
            "margin": null,
            "max_height": null,
            "max_width": null,
            "min_height": null,
            "min_width": null,
            "object_fit": null,
            "object_position": null,
            "order": null,
            "overflow": null,
            "overflow_x": null,
            "overflow_y": null,
            "padding": null,
            "right": null,
            "top": null,
            "visibility": null,
            "width": null
          }
        },
        "f5723728345e4a45970b9c91573866ab": {
          "model_module": "@jupyter-widgets/controls",
          "model_name": "DescriptionStyleModel",
          "model_module_version": "1.5.0",
          "state": {
            "_model_module": "@jupyter-widgets/controls",
            "_model_module_version": "1.5.0",
            "_model_name": "DescriptionStyleModel",
            "_view_count": null,
            "_view_module": "@jupyter-widgets/base",
            "_view_module_version": "1.2.0",
            "_view_name": "StyleView",
            "description_width": ""
          }
        },
        "16b2ebc830c649e0b1c19aef026d7cfb": {
          "model_module": "@jupyter-widgets/base",
          "model_name": "LayoutModel",
          "model_module_version": "1.2.0",
          "state": {
            "_model_module": "@jupyter-widgets/base",
            "_model_module_version": "1.2.0",
            "_model_name": "LayoutModel",
            "_view_count": null,
            "_view_module": "@jupyter-widgets/base",
            "_view_module_version": "1.2.0",
            "_view_name": "LayoutView",
            "align_content": null,
            "align_items": null,
            "align_self": null,
            "border": null,
            "bottom": null,
            "display": null,
            "flex": null,
            "flex_flow": null,
            "grid_area": null,
            "grid_auto_columns": null,
            "grid_auto_flow": null,
            "grid_auto_rows": null,
            "grid_column": null,
            "grid_gap": null,
            "grid_row": null,
            "grid_template_areas": null,
            "grid_template_columns": null,
            "grid_template_rows": null,
            "height": null,
            "justify_content": null,
            "justify_items": null,
            "left": null,
            "margin": null,
            "max_height": null,
            "max_width": null,
            "min_height": null,
            "min_width": null,
            "object_fit": null,
            "object_position": null,
            "order": null,
            "overflow": null,
            "overflow_x": null,
            "overflow_y": null,
            "padding": null,
            "right": null,
            "top": null,
            "visibility": null,
            "width": null
          }
        },
        "fe0fa48fb9de419787eac1e94c7210a6": {
          "model_module": "@jupyter-widgets/controls",
          "model_name": "ProgressStyleModel",
          "model_module_version": "1.5.0",
          "state": {
            "_model_module": "@jupyter-widgets/controls",
            "_model_module_version": "1.5.0",
            "_model_name": "ProgressStyleModel",
            "_view_count": null,
            "_view_module": "@jupyter-widgets/base",
            "_view_module_version": "1.2.0",
            "_view_name": "StyleView",
            "bar_color": null,
            "description_width": ""
          }
        },
        "ff8250c7d5c7408085401613f85922a9": {
          "model_module": "@jupyter-widgets/controls",
          "model_name": "VBoxModel",
          "model_module_version": "1.5.0",
          "state": {
            "_dom_classes": [],
            "_model_module": "@jupyter-widgets/controls",
            "_model_module_version": "1.5.0",
            "_model_name": "VBoxModel",
            "_view_count": null,
            "_view_module": "@jupyter-widgets/controls",
            "_view_module_version": "1.5.0",
            "_view_name": "VBoxView",
            "box_style": "",
            "children": [
              "IPY_MODEL_0b2b6b78fefb402783f3730e91f3b340",
              "IPY_MODEL_fde0f8e4c55c449d8a0cb1ecb9485239"
            ],
            "layout": "IPY_MODEL_15efdb7d4a5743799488627eff902459"
          }
        },
        "0b2b6b78fefb402783f3730e91f3b340": {
          "model_module": "@jupyter-widgets/controls",
          "model_name": "LabelModel",
          "model_module_version": "1.5.0",
          "state": {
            "_dom_classes": [],
            "_model_module": "@jupyter-widgets/controls",
            "_model_module_version": "1.5.0",
            "_model_name": "LabelModel",
            "_view_count": null,
            "_view_module": "@jupyter-widgets/controls",
            "_view_module_version": "1.5.0",
            "_view_name": "LabelView",
            "description": "",
            "description_tooltip": null,
            "layout": "IPY_MODEL_74601ad331874850ade48e17f66046b4",
            "placeholder": "​",
            "style": "IPY_MODEL_0b0c3d94ce9047faba2ffe602caaf2a3",
            "value": "21.824 MB of 21.824 MB uploaded (0.000 MB deduped)\r"
          }
        },
        "fde0f8e4c55c449d8a0cb1ecb9485239": {
          "model_module": "@jupyter-widgets/controls",
          "model_name": "FloatProgressModel",
          "model_module_version": "1.5.0",
          "state": {
            "_dom_classes": [],
            "_model_module": "@jupyter-widgets/controls",
            "_model_module_version": "1.5.0",
            "_model_name": "FloatProgressModel",
            "_view_count": null,
            "_view_module": "@jupyter-widgets/controls",
            "_view_module_version": "1.5.0",
            "_view_name": "ProgressView",
            "bar_style": "",
            "description": "",
            "description_tooltip": null,
            "layout": "IPY_MODEL_012f9ed4f75f43298059cf3588985825",
            "max": 1,
            "min": 0,
            "orientation": "horizontal",
            "style": "IPY_MODEL_b9a52ce4cedd4caf8946e7baabcf1b2f",
            "value": 1
          }
        },
        "15efdb7d4a5743799488627eff902459": {
          "model_module": "@jupyter-widgets/base",
          "model_name": "LayoutModel",
          "model_module_version": "1.2.0",
          "state": {
            "_model_module": "@jupyter-widgets/base",
            "_model_module_version": "1.2.0",
            "_model_name": "LayoutModel",
            "_view_count": null,
            "_view_module": "@jupyter-widgets/base",
            "_view_module_version": "1.2.0",
            "_view_name": "LayoutView",
            "align_content": null,
            "align_items": null,
            "align_self": null,
            "border": null,
            "bottom": null,
            "display": null,
            "flex": null,
            "flex_flow": null,
            "grid_area": null,
            "grid_auto_columns": null,
            "grid_auto_flow": null,
            "grid_auto_rows": null,
            "grid_column": null,
            "grid_gap": null,
            "grid_row": null,
            "grid_template_areas": null,
            "grid_template_columns": null,
            "grid_template_rows": null,
            "height": null,
            "justify_content": null,
            "justify_items": null,
            "left": null,
            "margin": null,
            "max_height": null,
            "max_width": null,
            "min_height": null,
            "min_width": null,
            "object_fit": null,
            "object_position": null,
            "order": null,
            "overflow": null,
            "overflow_x": null,
            "overflow_y": null,
            "padding": null,
            "right": null,
            "top": null,
            "visibility": null,
            "width": null
          }
        },
        "74601ad331874850ade48e17f66046b4": {
          "model_module": "@jupyter-widgets/base",
          "model_name": "LayoutModel",
          "model_module_version": "1.2.0",
          "state": {
            "_model_module": "@jupyter-widgets/base",
            "_model_module_version": "1.2.0",
            "_model_name": "LayoutModel",
            "_view_count": null,
            "_view_module": "@jupyter-widgets/base",
            "_view_module_version": "1.2.0",
            "_view_name": "LayoutView",
            "align_content": null,
            "align_items": null,
            "align_self": null,
            "border": null,
            "bottom": null,
            "display": null,
            "flex": null,
            "flex_flow": null,
            "grid_area": null,
            "grid_auto_columns": null,
            "grid_auto_flow": null,
            "grid_auto_rows": null,
            "grid_column": null,
            "grid_gap": null,
            "grid_row": null,
            "grid_template_areas": null,
            "grid_template_columns": null,
            "grid_template_rows": null,
            "height": null,
            "justify_content": null,
            "justify_items": null,
            "left": null,
            "margin": null,
            "max_height": null,
            "max_width": null,
            "min_height": null,
            "min_width": null,
            "object_fit": null,
            "object_position": null,
            "order": null,
            "overflow": null,
            "overflow_x": null,
            "overflow_y": null,
            "padding": null,
            "right": null,
            "top": null,
            "visibility": null,
            "width": null
          }
        },
        "0b0c3d94ce9047faba2ffe602caaf2a3": {
          "model_module": "@jupyter-widgets/controls",
          "model_name": "DescriptionStyleModel",
          "model_module_version": "1.5.0",
          "state": {
            "_model_module": "@jupyter-widgets/controls",
            "_model_module_version": "1.5.0",
            "_model_name": "DescriptionStyleModel",
            "_view_count": null,
            "_view_module": "@jupyter-widgets/base",
            "_view_module_version": "1.2.0",
            "_view_name": "StyleView",
            "description_width": ""
          }
        },
        "012f9ed4f75f43298059cf3588985825": {
          "model_module": "@jupyter-widgets/base",
          "model_name": "LayoutModel",
          "model_module_version": "1.2.0",
          "state": {
            "_model_module": "@jupyter-widgets/base",
            "_model_module_version": "1.2.0",
            "_model_name": "LayoutModel",
            "_view_count": null,
            "_view_module": "@jupyter-widgets/base",
            "_view_module_version": "1.2.0",
            "_view_name": "LayoutView",
            "align_content": null,
            "align_items": null,
            "align_self": null,
            "border": null,
            "bottom": null,
            "display": null,
            "flex": null,
            "flex_flow": null,
            "grid_area": null,
            "grid_auto_columns": null,
            "grid_auto_flow": null,
            "grid_auto_rows": null,
            "grid_column": null,
            "grid_gap": null,
            "grid_row": null,
            "grid_template_areas": null,
            "grid_template_columns": null,
            "grid_template_rows": null,
            "height": null,
            "justify_content": null,
            "justify_items": null,
            "left": null,
            "margin": null,
            "max_height": null,
            "max_width": null,
            "min_height": null,
            "min_width": null,
            "object_fit": null,
            "object_position": null,
            "order": null,
            "overflow": null,
            "overflow_x": null,
            "overflow_y": null,
            "padding": null,
            "right": null,
            "top": null,
            "visibility": null,
            "width": null
          }
        },
        "b9a52ce4cedd4caf8946e7baabcf1b2f": {
          "model_module": "@jupyter-widgets/controls",
          "model_name": "ProgressStyleModel",
          "model_module_version": "1.5.0",
          "state": {
            "_model_module": "@jupyter-widgets/controls",
            "_model_module_version": "1.5.0",
            "_model_name": "ProgressStyleModel",
            "_view_count": null,
            "_view_module": "@jupyter-widgets/base",
            "_view_module_version": "1.2.0",
            "_view_name": "StyleView",
            "bar_color": null,
            "description_width": ""
          }
        },
        "99c45e6d99854fb48ea03a85014cbb7a": {
          "model_module": "@jupyter-widgets/controls",
          "model_name": "VBoxModel",
          "model_module_version": "1.5.0",
          "state": {
            "_dom_classes": [],
            "_model_module": "@jupyter-widgets/controls",
            "_model_module_version": "1.5.0",
            "_model_name": "VBoxModel",
            "_view_count": null,
            "_view_module": "@jupyter-widgets/controls",
            "_view_module_version": "1.5.0",
            "_view_name": "VBoxView",
            "box_style": "",
            "children": [
              "IPY_MODEL_a226fb73a61a44d2a64a04091c9c76a1",
              "IPY_MODEL_dd7a4e88f1724d12aea77803f0b9b87f"
            ],
            "layout": "IPY_MODEL_dd4d39967c24431b87039c1d32e883e8"
          }
        },
        "a226fb73a61a44d2a64a04091c9c76a1": {
          "model_module": "@jupyter-widgets/controls",
          "model_name": "LabelModel",
          "model_module_version": "1.5.0",
          "state": {
            "_dom_classes": [],
            "_model_module": "@jupyter-widgets/controls",
            "_model_module_version": "1.5.0",
            "_model_name": "LabelModel",
            "_view_count": null,
            "_view_module": "@jupyter-widgets/controls",
            "_view_module_version": "1.5.0",
            "_view_name": "LabelView",
            "description": "",
            "description_tooltip": null,
            "layout": "IPY_MODEL_74f65b0ecc824b02bd1ae391d3d2eeb6",
            "placeholder": "​",
            "style": "IPY_MODEL_fee0d94ca8954f21bc074efa450b2dbd",
            "value": "13.018 MB of 13.018 MB uploaded (0.000 MB deduped)\r"
          }
        },
        "dd7a4e88f1724d12aea77803f0b9b87f": {
          "model_module": "@jupyter-widgets/controls",
          "model_name": "FloatProgressModel",
          "model_module_version": "1.5.0",
          "state": {
            "_dom_classes": [],
            "_model_module": "@jupyter-widgets/controls",
            "_model_module_version": "1.5.0",
            "_model_name": "FloatProgressModel",
            "_view_count": null,
            "_view_module": "@jupyter-widgets/controls",
            "_view_module_version": "1.5.0",
            "_view_name": "ProgressView",
            "bar_style": "",
            "description": "",
            "description_tooltip": null,
            "layout": "IPY_MODEL_d005f56a551849dfbea348afa6c62b2c",
            "max": 1,
            "min": 0,
            "orientation": "horizontal",
            "style": "IPY_MODEL_670b127269e244e29e3db9c0b8a1233e",
            "value": 1
          }
        },
        "dd4d39967c24431b87039c1d32e883e8": {
          "model_module": "@jupyter-widgets/base",
          "model_name": "LayoutModel",
          "model_module_version": "1.2.0",
          "state": {
            "_model_module": "@jupyter-widgets/base",
            "_model_module_version": "1.2.0",
            "_model_name": "LayoutModel",
            "_view_count": null,
            "_view_module": "@jupyter-widgets/base",
            "_view_module_version": "1.2.0",
            "_view_name": "LayoutView",
            "align_content": null,
            "align_items": null,
            "align_self": null,
            "border": null,
            "bottom": null,
            "display": null,
            "flex": null,
            "flex_flow": null,
            "grid_area": null,
            "grid_auto_columns": null,
            "grid_auto_flow": null,
            "grid_auto_rows": null,
            "grid_column": null,
            "grid_gap": null,
            "grid_row": null,
            "grid_template_areas": null,
            "grid_template_columns": null,
            "grid_template_rows": null,
            "height": null,
            "justify_content": null,
            "justify_items": null,
            "left": null,
            "margin": null,
            "max_height": null,
            "max_width": null,
            "min_height": null,
            "min_width": null,
            "object_fit": null,
            "object_position": null,
            "order": null,
            "overflow": null,
            "overflow_x": null,
            "overflow_y": null,
            "padding": null,
            "right": null,
            "top": null,
            "visibility": null,
            "width": null
          }
        },
        "74f65b0ecc824b02bd1ae391d3d2eeb6": {
          "model_module": "@jupyter-widgets/base",
          "model_name": "LayoutModel",
          "model_module_version": "1.2.0",
          "state": {
            "_model_module": "@jupyter-widgets/base",
            "_model_module_version": "1.2.0",
            "_model_name": "LayoutModel",
            "_view_count": null,
            "_view_module": "@jupyter-widgets/base",
            "_view_module_version": "1.2.0",
            "_view_name": "LayoutView",
            "align_content": null,
            "align_items": null,
            "align_self": null,
            "border": null,
            "bottom": null,
            "display": null,
            "flex": null,
            "flex_flow": null,
            "grid_area": null,
            "grid_auto_columns": null,
            "grid_auto_flow": null,
            "grid_auto_rows": null,
            "grid_column": null,
            "grid_gap": null,
            "grid_row": null,
            "grid_template_areas": null,
            "grid_template_columns": null,
            "grid_template_rows": null,
            "height": null,
            "justify_content": null,
            "justify_items": null,
            "left": null,
            "margin": null,
            "max_height": null,
            "max_width": null,
            "min_height": null,
            "min_width": null,
            "object_fit": null,
            "object_position": null,
            "order": null,
            "overflow": null,
            "overflow_x": null,
            "overflow_y": null,
            "padding": null,
            "right": null,
            "top": null,
            "visibility": null,
            "width": null
          }
        },
        "fee0d94ca8954f21bc074efa450b2dbd": {
          "model_module": "@jupyter-widgets/controls",
          "model_name": "DescriptionStyleModel",
          "model_module_version": "1.5.0",
          "state": {
            "_model_module": "@jupyter-widgets/controls",
            "_model_module_version": "1.5.0",
            "_model_name": "DescriptionStyleModel",
            "_view_count": null,
            "_view_module": "@jupyter-widgets/base",
            "_view_module_version": "1.2.0",
            "_view_name": "StyleView",
            "description_width": ""
          }
        },
        "d005f56a551849dfbea348afa6c62b2c": {
          "model_module": "@jupyter-widgets/base",
          "model_name": "LayoutModel",
          "model_module_version": "1.2.0",
          "state": {
            "_model_module": "@jupyter-widgets/base",
            "_model_module_version": "1.2.0",
            "_model_name": "LayoutModel",
            "_view_count": null,
            "_view_module": "@jupyter-widgets/base",
            "_view_module_version": "1.2.0",
            "_view_name": "LayoutView",
            "align_content": null,
            "align_items": null,
            "align_self": null,
            "border": null,
            "bottom": null,
            "display": null,
            "flex": null,
            "flex_flow": null,
            "grid_area": null,
            "grid_auto_columns": null,
            "grid_auto_flow": null,
            "grid_auto_rows": null,
            "grid_column": null,
            "grid_gap": null,
            "grid_row": null,
            "grid_template_areas": null,
            "grid_template_columns": null,
            "grid_template_rows": null,
            "height": null,
            "justify_content": null,
            "justify_items": null,
            "left": null,
            "margin": null,
            "max_height": null,
            "max_width": null,
            "min_height": null,
            "min_width": null,
            "object_fit": null,
            "object_position": null,
            "order": null,
            "overflow": null,
            "overflow_x": null,
            "overflow_y": null,
            "padding": null,
            "right": null,
            "top": null,
            "visibility": null,
            "width": null
          }
        },
        "670b127269e244e29e3db9c0b8a1233e": {
          "model_module": "@jupyter-widgets/controls",
          "model_name": "ProgressStyleModel",
          "model_module_version": "1.5.0",
          "state": {
            "_model_module": "@jupyter-widgets/controls",
            "_model_module_version": "1.5.0",
            "_model_name": "ProgressStyleModel",
            "_view_count": null,
            "_view_module": "@jupyter-widgets/base",
            "_view_module_version": "1.2.0",
            "_view_name": "StyleView",
            "bar_color": null,
            "description_width": ""
          }
        },
        "bb7791c7c5764063bcb856c664c0b929": {
          "model_module": "@jupyter-widgets/controls",
          "model_name": "VBoxModel",
          "model_module_version": "1.5.0",
          "state": {
            "_dom_classes": [],
            "_model_module": "@jupyter-widgets/controls",
            "_model_module_version": "1.5.0",
            "_model_name": "VBoxModel",
            "_view_count": null,
            "_view_module": "@jupyter-widgets/controls",
            "_view_module_version": "1.5.0",
            "_view_name": "VBoxView",
            "box_style": "",
            "children": [
              "IPY_MODEL_1905daaae1d541bead947a69d0d1d881",
              "IPY_MODEL_9727486f511f4960bdd7ac7732705c66"
            ],
            "layout": "IPY_MODEL_c265038d66044dddad8ac53eda26074c"
          }
        },
        "1905daaae1d541bead947a69d0d1d881": {
          "model_module": "@jupyter-widgets/controls",
          "model_name": "LabelModel",
          "model_module_version": "1.5.0",
          "state": {
            "_dom_classes": [],
            "_model_module": "@jupyter-widgets/controls",
            "_model_module_version": "1.5.0",
            "_model_name": "LabelModel",
            "_view_count": null,
            "_view_module": "@jupyter-widgets/controls",
            "_view_module_version": "1.5.0",
            "_view_name": "LabelView",
            "description": "",
            "description_tooltip": null,
            "layout": "IPY_MODEL_a9b115f048ea4518875af0e70a9fd285",
            "placeholder": "​",
            "style": "IPY_MODEL_46a2d4e3e4c6425c973aef0661b99933",
            "value": "5.732 MB of 5.732 MB uploaded (0.000 MB deduped)\r"
          }
        },
        "9727486f511f4960bdd7ac7732705c66": {
          "model_module": "@jupyter-widgets/controls",
          "model_name": "FloatProgressModel",
          "model_module_version": "1.5.0",
          "state": {
            "_dom_classes": [],
            "_model_module": "@jupyter-widgets/controls",
            "_model_module_version": "1.5.0",
            "_model_name": "FloatProgressModel",
            "_view_count": null,
            "_view_module": "@jupyter-widgets/controls",
            "_view_module_version": "1.5.0",
            "_view_name": "ProgressView",
            "bar_style": "",
            "description": "",
            "description_tooltip": null,
            "layout": "IPY_MODEL_ae43ce7414ef4dfba5e4e877ad81c74c",
            "max": 1,
            "min": 0,
            "orientation": "horizontal",
            "style": "IPY_MODEL_d8406aead4bf4fc98685f5b47f7868c7",
            "value": 1
          }
        },
        "c265038d66044dddad8ac53eda26074c": {
          "model_module": "@jupyter-widgets/base",
          "model_name": "LayoutModel",
          "model_module_version": "1.2.0",
          "state": {
            "_model_module": "@jupyter-widgets/base",
            "_model_module_version": "1.2.0",
            "_model_name": "LayoutModel",
            "_view_count": null,
            "_view_module": "@jupyter-widgets/base",
            "_view_module_version": "1.2.0",
            "_view_name": "LayoutView",
            "align_content": null,
            "align_items": null,
            "align_self": null,
            "border": null,
            "bottom": null,
            "display": null,
            "flex": null,
            "flex_flow": null,
            "grid_area": null,
            "grid_auto_columns": null,
            "grid_auto_flow": null,
            "grid_auto_rows": null,
            "grid_column": null,
            "grid_gap": null,
            "grid_row": null,
            "grid_template_areas": null,
            "grid_template_columns": null,
            "grid_template_rows": null,
            "height": null,
            "justify_content": null,
            "justify_items": null,
            "left": null,
            "margin": null,
            "max_height": null,
            "max_width": null,
            "min_height": null,
            "min_width": null,
            "object_fit": null,
            "object_position": null,
            "order": null,
            "overflow": null,
            "overflow_x": null,
            "overflow_y": null,
            "padding": null,
            "right": null,
            "top": null,
            "visibility": null,
            "width": null
          }
        },
        "a9b115f048ea4518875af0e70a9fd285": {
          "model_module": "@jupyter-widgets/base",
          "model_name": "LayoutModel",
          "model_module_version": "1.2.0",
          "state": {
            "_model_module": "@jupyter-widgets/base",
            "_model_module_version": "1.2.0",
            "_model_name": "LayoutModel",
            "_view_count": null,
            "_view_module": "@jupyter-widgets/base",
            "_view_module_version": "1.2.0",
            "_view_name": "LayoutView",
            "align_content": null,
            "align_items": null,
            "align_self": null,
            "border": null,
            "bottom": null,
            "display": null,
            "flex": null,
            "flex_flow": null,
            "grid_area": null,
            "grid_auto_columns": null,
            "grid_auto_flow": null,
            "grid_auto_rows": null,
            "grid_column": null,
            "grid_gap": null,
            "grid_row": null,
            "grid_template_areas": null,
            "grid_template_columns": null,
            "grid_template_rows": null,
            "height": null,
            "justify_content": null,
            "justify_items": null,
            "left": null,
            "margin": null,
            "max_height": null,
            "max_width": null,
            "min_height": null,
            "min_width": null,
            "object_fit": null,
            "object_position": null,
            "order": null,
            "overflow": null,
            "overflow_x": null,
            "overflow_y": null,
            "padding": null,
            "right": null,
            "top": null,
            "visibility": null,
            "width": null
          }
        },
        "46a2d4e3e4c6425c973aef0661b99933": {
          "model_module": "@jupyter-widgets/controls",
          "model_name": "DescriptionStyleModel",
          "model_module_version": "1.5.0",
          "state": {
            "_model_module": "@jupyter-widgets/controls",
            "_model_module_version": "1.5.0",
            "_model_name": "DescriptionStyleModel",
            "_view_count": null,
            "_view_module": "@jupyter-widgets/base",
            "_view_module_version": "1.2.0",
            "_view_name": "StyleView",
            "description_width": ""
          }
        },
        "ae43ce7414ef4dfba5e4e877ad81c74c": {
          "model_module": "@jupyter-widgets/base",
          "model_name": "LayoutModel",
          "model_module_version": "1.2.0",
          "state": {
            "_model_module": "@jupyter-widgets/base",
            "_model_module_version": "1.2.0",
            "_model_name": "LayoutModel",
            "_view_count": null,
            "_view_module": "@jupyter-widgets/base",
            "_view_module_version": "1.2.0",
            "_view_name": "LayoutView",
            "align_content": null,
            "align_items": null,
            "align_self": null,
            "border": null,
            "bottom": null,
            "display": null,
            "flex": null,
            "flex_flow": null,
            "grid_area": null,
            "grid_auto_columns": null,
            "grid_auto_flow": null,
            "grid_auto_rows": null,
            "grid_column": null,
            "grid_gap": null,
            "grid_row": null,
            "grid_template_areas": null,
            "grid_template_columns": null,
            "grid_template_rows": null,
            "height": null,
            "justify_content": null,
            "justify_items": null,
            "left": null,
            "margin": null,
            "max_height": null,
            "max_width": null,
            "min_height": null,
            "min_width": null,
            "object_fit": null,
            "object_position": null,
            "order": null,
            "overflow": null,
            "overflow_x": null,
            "overflow_y": null,
            "padding": null,
            "right": null,
            "top": null,
            "visibility": null,
            "width": null
          }
        },
        "d8406aead4bf4fc98685f5b47f7868c7": {
          "model_module": "@jupyter-widgets/controls",
          "model_name": "ProgressStyleModel",
          "model_module_version": "1.5.0",
          "state": {
            "_model_module": "@jupyter-widgets/controls",
            "_model_module_version": "1.5.0",
            "_model_name": "ProgressStyleModel",
            "_view_count": null,
            "_view_module": "@jupyter-widgets/base",
            "_view_module_version": "1.2.0",
            "_view_name": "StyleView",
            "bar_color": null,
            "description_width": ""
          }
        },
        "c01c797846b349b3b9d38f41349e453b": {
          "model_module": "@jupyter-widgets/controls",
          "model_name": "VBoxModel",
          "model_module_version": "1.5.0",
          "state": {
            "_dom_classes": [],
            "_model_module": "@jupyter-widgets/controls",
            "_model_module_version": "1.5.0",
            "_model_name": "VBoxModel",
            "_view_count": null,
            "_view_module": "@jupyter-widgets/controls",
            "_view_module_version": "1.5.0",
            "_view_name": "VBoxView",
            "box_style": "",
            "children": [
              "IPY_MODEL_ac5065fbc27c4247a1d97457918a59eb",
              "IPY_MODEL_b6bf08e7bf924c21a4b3a75824b9918e"
            ],
            "layout": "IPY_MODEL_50fdf4223a2e41b9bb5982754ac1aaf7"
          }
        },
        "ac5065fbc27c4247a1d97457918a59eb": {
          "model_module": "@jupyter-widgets/controls",
          "model_name": "LabelModel",
          "model_module_version": "1.5.0",
          "state": {
            "_dom_classes": [],
            "_model_module": "@jupyter-widgets/controls",
            "_model_module_version": "1.5.0",
            "_model_name": "LabelModel",
            "_view_count": null,
            "_view_module": "@jupyter-widgets/controls",
            "_view_module_version": "1.5.0",
            "_view_name": "LabelView",
            "description": "",
            "description_tooltip": null,
            "layout": "IPY_MODEL_e3cdef2eec9b4e16ba74ee95dfe4172e",
            "placeholder": "​",
            "style": "IPY_MODEL_de757be4d7c44f1e8dcb0e45294f101c",
            "value": "4.286 MB of 4.286 MB uploaded (0.000 MB deduped)\r"
          }
        },
        "b6bf08e7bf924c21a4b3a75824b9918e": {
          "model_module": "@jupyter-widgets/controls",
          "model_name": "FloatProgressModel",
          "model_module_version": "1.5.0",
          "state": {
            "_dom_classes": [],
            "_model_module": "@jupyter-widgets/controls",
            "_model_module_version": "1.5.0",
            "_model_name": "FloatProgressModel",
            "_view_count": null,
            "_view_module": "@jupyter-widgets/controls",
            "_view_module_version": "1.5.0",
            "_view_name": "ProgressView",
            "bar_style": "",
            "description": "",
            "description_tooltip": null,
            "layout": "IPY_MODEL_669dd038e6544739b20acb460a4aee60",
            "max": 1,
            "min": 0,
            "orientation": "horizontal",
            "style": "IPY_MODEL_f903431f5fec4ded8bdde7a7baac2d5b",
            "value": 1
          }
        },
        "50fdf4223a2e41b9bb5982754ac1aaf7": {
          "model_module": "@jupyter-widgets/base",
          "model_name": "LayoutModel",
          "model_module_version": "1.2.0",
          "state": {
            "_model_module": "@jupyter-widgets/base",
            "_model_module_version": "1.2.0",
            "_model_name": "LayoutModel",
            "_view_count": null,
            "_view_module": "@jupyter-widgets/base",
            "_view_module_version": "1.2.0",
            "_view_name": "LayoutView",
            "align_content": null,
            "align_items": null,
            "align_self": null,
            "border": null,
            "bottom": null,
            "display": null,
            "flex": null,
            "flex_flow": null,
            "grid_area": null,
            "grid_auto_columns": null,
            "grid_auto_flow": null,
            "grid_auto_rows": null,
            "grid_column": null,
            "grid_gap": null,
            "grid_row": null,
            "grid_template_areas": null,
            "grid_template_columns": null,
            "grid_template_rows": null,
            "height": null,
            "justify_content": null,
            "justify_items": null,
            "left": null,
            "margin": null,
            "max_height": null,
            "max_width": null,
            "min_height": null,
            "min_width": null,
            "object_fit": null,
            "object_position": null,
            "order": null,
            "overflow": null,
            "overflow_x": null,
            "overflow_y": null,
            "padding": null,
            "right": null,
            "top": null,
            "visibility": null,
            "width": null
          }
        },
        "e3cdef2eec9b4e16ba74ee95dfe4172e": {
          "model_module": "@jupyter-widgets/base",
          "model_name": "LayoutModel",
          "model_module_version": "1.2.0",
          "state": {
            "_model_module": "@jupyter-widgets/base",
            "_model_module_version": "1.2.0",
            "_model_name": "LayoutModel",
            "_view_count": null,
            "_view_module": "@jupyter-widgets/base",
            "_view_module_version": "1.2.0",
            "_view_name": "LayoutView",
            "align_content": null,
            "align_items": null,
            "align_self": null,
            "border": null,
            "bottom": null,
            "display": null,
            "flex": null,
            "flex_flow": null,
            "grid_area": null,
            "grid_auto_columns": null,
            "grid_auto_flow": null,
            "grid_auto_rows": null,
            "grid_column": null,
            "grid_gap": null,
            "grid_row": null,
            "grid_template_areas": null,
            "grid_template_columns": null,
            "grid_template_rows": null,
            "height": null,
            "justify_content": null,
            "justify_items": null,
            "left": null,
            "margin": null,
            "max_height": null,
            "max_width": null,
            "min_height": null,
            "min_width": null,
            "object_fit": null,
            "object_position": null,
            "order": null,
            "overflow": null,
            "overflow_x": null,
            "overflow_y": null,
            "padding": null,
            "right": null,
            "top": null,
            "visibility": null,
            "width": null
          }
        },
        "de757be4d7c44f1e8dcb0e45294f101c": {
          "model_module": "@jupyter-widgets/controls",
          "model_name": "DescriptionStyleModel",
          "model_module_version": "1.5.0",
          "state": {
            "_model_module": "@jupyter-widgets/controls",
            "_model_module_version": "1.5.0",
            "_model_name": "DescriptionStyleModel",
            "_view_count": null,
            "_view_module": "@jupyter-widgets/base",
            "_view_module_version": "1.2.0",
            "_view_name": "StyleView",
            "description_width": ""
          }
        },
        "669dd038e6544739b20acb460a4aee60": {
          "model_module": "@jupyter-widgets/base",
          "model_name": "LayoutModel",
          "model_module_version": "1.2.0",
          "state": {
            "_model_module": "@jupyter-widgets/base",
            "_model_module_version": "1.2.0",
            "_model_name": "LayoutModel",
            "_view_count": null,
            "_view_module": "@jupyter-widgets/base",
            "_view_module_version": "1.2.0",
            "_view_name": "LayoutView",
            "align_content": null,
            "align_items": null,
            "align_self": null,
            "border": null,
            "bottom": null,
            "display": null,
            "flex": null,
            "flex_flow": null,
            "grid_area": null,
            "grid_auto_columns": null,
            "grid_auto_flow": null,
            "grid_auto_rows": null,
            "grid_column": null,
            "grid_gap": null,
            "grid_row": null,
            "grid_template_areas": null,
            "grid_template_columns": null,
            "grid_template_rows": null,
            "height": null,
            "justify_content": null,
            "justify_items": null,
            "left": null,
            "margin": null,
            "max_height": null,
            "max_width": null,
            "min_height": null,
            "min_width": null,
            "object_fit": null,
            "object_position": null,
            "order": null,
            "overflow": null,
            "overflow_x": null,
            "overflow_y": null,
            "padding": null,
            "right": null,
            "top": null,
            "visibility": null,
            "width": null
          }
        },
        "f903431f5fec4ded8bdde7a7baac2d5b": {
          "model_module": "@jupyter-widgets/controls",
          "model_name": "ProgressStyleModel",
          "model_module_version": "1.5.0",
          "state": {
            "_model_module": "@jupyter-widgets/controls",
            "_model_module_version": "1.5.0",
            "_model_name": "ProgressStyleModel",
            "_view_count": null,
            "_view_module": "@jupyter-widgets/base",
            "_view_module_version": "1.2.0",
            "_view_name": "StyleView",
            "bar_color": null,
            "description_width": ""
          }
        },
        "9ddf9834a4f0412b9169f61a98a2695d": {
          "model_module": "@jupyter-widgets/controls",
          "model_name": "VBoxModel",
          "model_module_version": "1.5.0",
          "state": {
            "_dom_classes": [],
            "_model_module": "@jupyter-widgets/controls",
            "_model_module_version": "1.5.0",
            "_model_name": "VBoxModel",
            "_view_count": null,
            "_view_module": "@jupyter-widgets/controls",
            "_view_module_version": "1.5.0",
            "_view_name": "VBoxView",
            "box_style": "",
            "children": [
              "IPY_MODEL_5b4eb142d5fd41168932865659a14ee4",
              "IPY_MODEL_1b9ebdff3fac48b2954cd7a2b4deb96a"
            ],
            "layout": "IPY_MODEL_42dc91dadf9d4a56ab44fe1e99410c80"
          }
        },
        "5b4eb142d5fd41168932865659a14ee4": {
          "model_module": "@jupyter-widgets/controls",
          "model_name": "LabelModel",
          "model_module_version": "1.5.0",
          "state": {
            "_dom_classes": [],
            "_model_module": "@jupyter-widgets/controls",
            "_model_module_version": "1.5.0",
            "_model_name": "LabelModel",
            "_view_count": null,
            "_view_module": "@jupyter-widgets/controls",
            "_view_module_version": "1.5.0",
            "_view_name": "LabelView",
            "description": "",
            "description_tooltip": null,
            "layout": "IPY_MODEL_9a9b55281cde49f2a3535ddcbff64b68",
            "placeholder": "​",
            "style": "IPY_MODEL_af10771d693e4b0da2f4e78a1ceedce0",
            "value": "16.758 MB of 16.758 MB uploaded (0.000 MB deduped)\r"
          }
        },
        "1b9ebdff3fac48b2954cd7a2b4deb96a": {
          "model_module": "@jupyter-widgets/controls",
          "model_name": "FloatProgressModel",
          "model_module_version": "1.5.0",
          "state": {
            "_dom_classes": [],
            "_model_module": "@jupyter-widgets/controls",
            "_model_module_version": "1.5.0",
            "_model_name": "FloatProgressModel",
            "_view_count": null,
            "_view_module": "@jupyter-widgets/controls",
            "_view_module_version": "1.5.0",
            "_view_name": "ProgressView",
            "bar_style": "",
            "description": "",
            "description_tooltip": null,
            "layout": "IPY_MODEL_2258432753cf4676be9868947c98a1aa",
            "max": 1,
            "min": 0,
            "orientation": "horizontal",
            "style": "IPY_MODEL_398d3d5187924e229b1a4219fbfc3245",
            "value": 1
          }
        },
        "42dc91dadf9d4a56ab44fe1e99410c80": {
          "model_module": "@jupyter-widgets/base",
          "model_name": "LayoutModel",
          "model_module_version": "1.2.0",
          "state": {
            "_model_module": "@jupyter-widgets/base",
            "_model_module_version": "1.2.0",
            "_model_name": "LayoutModel",
            "_view_count": null,
            "_view_module": "@jupyter-widgets/base",
            "_view_module_version": "1.2.0",
            "_view_name": "LayoutView",
            "align_content": null,
            "align_items": null,
            "align_self": null,
            "border": null,
            "bottom": null,
            "display": null,
            "flex": null,
            "flex_flow": null,
            "grid_area": null,
            "grid_auto_columns": null,
            "grid_auto_flow": null,
            "grid_auto_rows": null,
            "grid_column": null,
            "grid_gap": null,
            "grid_row": null,
            "grid_template_areas": null,
            "grid_template_columns": null,
            "grid_template_rows": null,
            "height": null,
            "justify_content": null,
            "justify_items": null,
            "left": null,
            "margin": null,
            "max_height": null,
            "max_width": null,
            "min_height": null,
            "min_width": null,
            "object_fit": null,
            "object_position": null,
            "order": null,
            "overflow": null,
            "overflow_x": null,
            "overflow_y": null,
            "padding": null,
            "right": null,
            "top": null,
            "visibility": null,
            "width": null
          }
        },
        "9a9b55281cde49f2a3535ddcbff64b68": {
          "model_module": "@jupyter-widgets/base",
          "model_name": "LayoutModel",
          "model_module_version": "1.2.0",
          "state": {
            "_model_module": "@jupyter-widgets/base",
            "_model_module_version": "1.2.0",
            "_model_name": "LayoutModel",
            "_view_count": null,
            "_view_module": "@jupyter-widgets/base",
            "_view_module_version": "1.2.0",
            "_view_name": "LayoutView",
            "align_content": null,
            "align_items": null,
            "align_self": null,
            "border": null,
            "bottom": null,
            "display": null,
            "flex": null,
            "flex_flow": null,
            "grid_area": null,
            "grid_auto_columns": null,
            "grid_auto_flow": null,
            "grid_auto_rows": null,
            "grid_column": null,
            "grid_gap": null,
            "grid_row": null,
            "grid_template_areas": null,
            "grid_template_columns": null,
            "grid_template_rows": null,
            "height": null,
            "justify_content": null,
            "justify_items": null,
            "left": null,
            "margin": null,
            "max_height": null,
            "max_width": null,
            "min_height": null,
            "min_width": null,
            "object_fit": null,
            "object_position": null,
            "order": null,
            "overflow": null,
            "overflow_x": null,
            "overflow_y": null,
            "padding": null,
            "right": null,
            "top": null,
            "visibility": null,
            "width": null
          }
        },
        "af10771d693e4b0da2f4e78a1ceedce0": {
          "model_module": "@jupyter-widgets/controls",
          "model_name": "DescriptionStyleModel",
          "model_module_version": "1.5.0",
          "state": {
            "_model_module": "@jupyter-widgets/controls",
            "_model_module_version": "1.5.0",
            "_model_name": "DescriptionStyleModel",
            "_view_count": null,
            "_view_module": "@jupyter-widgets/base",
            "_view_module_version": "1.2.0",
            "_view_name": "StyleView",
            "description_width": ""
          }
        },
        "2258432753cf4676be9868947c98a1aa": {
          "model_module": "@jupyter-widgets/base",
          "model_name": "LayoutModel",
          "model_module_version": "1.2.0",
          "state": {
            "_model_module": "@jupyter-widgets/base",
            "_model_module_version": "1.2.0",
            "_model_name": "LayoutModel",
            "_view_count": null,
            "_view_module": "@jupyter-widgets/base",
            "_view_module_version": "1.2.0",
            "_view_name": "LayoutView",
            "align_content": null,
            "align_items": null,
            "align_self": null,
            "border": null,
            "bottom": null,
            "display": null,
            "flex": null,
            "flex_flow": null,
            "grid_area": null,
            "grid_auto_columns": null,
            "grid_auto_flow": null,
            "grid_auto_rows": null,
            "grid_column": null,
            "grid_gap": null,
            "grid_row": null,
            "grid_template_areas": null,
            "grid_template_columns": null,
            "grid_template_rows": null,
            "height": null,
            "justify_content": null,
            "justify_items": null,
            "left": null,
            "margin": null,
            "max_height": null,
            "max_width": null,
            "min_height": null,
            "min_width": null,
            "object_fit": null,
            "object_position": null,
            "order": null,
            "overflow": null,
            "overflow_x": null,
            "overflow_y": null,
            "padding": null,
            "right": null,
            "top": null,
            "visibility": null,
            "width": null
          }
        },
        "398d3d5187924e229b1a4219fbfc3245": {
          "model_module": "@jupyter-widgets/controls",
          "model_name": "ProgressStyleModel",
          "model_module_version": "1.5.0",
          "state": {
            "_model_module": "@jupyter-widgets/controls",
            "_model_module_version": "1.5.0",
            "_model_name": "ProgressStyleModel",
            "_view_count": null,
            "_view_module": "@jupyter-widgets/base",
            "_view_module_version": "1.2.0",
            "_view_name": "StyleView",
            "bar_color": null,
            "description_width": ""
          }
        },
        "3c58332e163a4df1ac364311ace41416": {
          "model_module": "@jupyter-widgets/controls",
          "model_name": "VBoxModel",
          "model_module_version": "1.5.0",
          "state": {
            "_dom_classes": [],
            "_model_module": "@jupyter-widgets/controls",
            "_model_module_version": "1.5.0",
            "_model_name": "VBoxModel",
            "_view_count": null,
            "_view_module": "@jupyter-widgets/controls",
            "_view_module_version": "1.5.0",
            "_view_name": "VBoxView",
            "box_style": "",
            "children": [
              "IPY_MODEL_63c654272972480f8f6e6bd457030474",
              "IPY_MODEL_33dca5ff69c54b5bac85f97826583993"
            ],
            "layout": "IPY_MODEL_64a555d33d04406384b8860fe39a4e33"
          }
        },
        "63c654272972480f8f6e6bd457030474": {
          "model_module": "@jupyter-widgets/controls",
          "model_name": "LabelModel",
          "model_module_version": "1.5.0",
          "state": {
            "_dom_classes": [],
            "_model_module": "@jupyter-widgets/controls",
            "_model_module_version": "1.5.0",
            "_model_name": "LabelModel",
            "_view_count": null,
            "_view_module": "@jupyter-widgets/controls",
            "_view_module_version": "1.5.0",
            "_view_name": "LabelView",
            "description": "",
            "description_tooltip": null,
            "layout": "IPY_MODEL_277849926833488a9b23ba4c054c3e95",
            "placeholder": "​",
            "style": "IPY_MODEL_732c8f762d8b4a4999d259aceb90ae21",
            "value": "6.405 MB of 6.405 MB uploaded (0.000 MB deduped)\r"
          }
        },
        "33dca5ff69c54b5bac85f97826583993": {
          "model_module": "@jupyter-widgets/controls",
          "model_name": "FloatProgressModel",
          "model_module_version": "1.5.0",
          "state": {
            "_dom_classes": [],
            "_model_module": "@jupyter-widgets/controls",
            "_model_module_version": "1.5.0",
            "_model_name": "FloatProgressModel",
            "_view_count": null,
            "_view_module": "@jupyter-widgets/controls",
            "_view_module_version": "1.5.0",
            "_view_name": "ProgressView",
            "bar_style": "",
            "description": "",
            "description_tooltip": null,
            "layout": "IPY_MODEL_c1ce13b59e824b569aa14c39147629db",
            "max": 1,
            "min": 0,
            "orientation": "horizontal",
            "style": "IPY_MODEL_5354ccf50b6c410f8fd630cccf2e0960",
            "value": 1
          }
        },
        "64a555d33d04406384b8860fe39a4e33": {
          "model_module": "@jupyter-widgets/base",
          "model_name": "LayoutModel",
          "model_module_version": "1.2.0",
          "state": {
            "_model_module": "@jupyter-widgets/base",
            "_model_module_version": "1.2.0",
            "_model_name": "LayoutModel",
            "_view_count": null,
            "_view_module": "@jupyter-widgets/base",
            "_view_module_version": "1.2.0",
            "_view_name": "LayoutView",
            "align_content": null,
            "align_items": null,
            "align_self": null,
            "border": null,
            "bottom": null,
            "display": null,
            "flex": null,
            "flex_flow": null,
            "grid_area": null,
            "grid_auto_columns": null,
            "grid_auto_flow": null,
            "grid_auto_rows": null,
            "grid_column": null,
            "grid_gap": null,
            "grid_row": null,
            "grid_template_areas": null,
            "grid_template_columns": null,
            "grid_template_rows": null,
            "height": null,
            "justify_content": null,
            "justify_items": null,
            "left": null,
            "margin": null,
            "max_height": null,
            "max_width": null,
            "min_height": null,
            "min_width": null,
            "object_fit": null,
            "object_position": null,
            "order": null,
            "overflow": null,
            "overflow_x": null,
            "overflow_y": null,
            "padding": null,
            "right": null,
            "top": null,
            "visibility": null,
            "width": null
          }
        },
        "277849926833488a9b23ba4c054c3e95": {
          "model_module": "@jupyter-widgets/base",
          "model_name": "LayoutModel",
          "model_module_version": "1.2.0",
          "state": {
            "_model_module": "@jupyter-widgets/base",
            "_model_module_version": "1.2.0",
            "_model_name": "LayoutModel",
            "_view_count": null,
            "_view_module": "@jupyter-widgets/base",
            "_view_module_version": "1.2.0",
            "_view_name": "LayoutView",
            "align_content": null,
            "align_items": null,
            "align_self": null,
            "border": null,
            "bottom": null,
            "display": null,
            "flex": null,
            "flex_flow": null,
            "grid_area": null,
            "grid_auto_columns": null,
            "grid_auto_flow": null,
            "grid_auto_rows": null,
            "grid_column": null,
            "grid_gap": null,
            "grid_row": null,
            "grid_template_areas": null,
            "grid_template_columns": null,
            "grid_template_rows": null,
            "height": null,
            "justify_content": null,
            "justify_items": null,
            "left": null,
            "margin": null,
            "max_height": null,
            "max_width": null,
            "min_height": null,
            "min_width": null,
            "object_fit": null,
            "object_position": null,
            "order": null,
            "overflow": null,
            "overflow_x": null,
            "overflow_y": null,
            "padding": null,
            "right": null,
            "top": null,
            "visibility": null,
            "width": null
          }
        },
        "732c8f762d8b4a4999d259aceb90ae21": {
          "model_module": "@jupyter-widgets/controls",
          "model_name": "DescriptionStyleModel",
          "model_module_version": "1.5.0",
          "state": {
            "_model_module": "@jupyter-widgets/controls",
            "_model_module_version": "1.5.0",
            "_model_name": "DescriptionStyleModel",
            "_view_count": null,
            "_view_module": "@jupyter-widgets/base",
            "_view_module_version": "1.2.0",
            "_view_name": "StyleView",
            "description_width": ""
          }
        },
        "c1ce13b59e824b569aa14c39147629db": {
          "model_module": "@jupyter-widgets/base",
          "model_name": "LayoutModel",
          "model_module_version": "1.2.0",
          "state": {
            "_model_module": "@jupyter-widgets/base",
            "_model_module_version": "1.2.0",
            "_model_name": "LayoutModel",
            "_view_count": null,
            "_view_module": "@jupyter-widgets/base",
            "_view_module_version": "1.2.0",
            "_view_name": "LayoutView",
            "align_content": null,
            "align_items": null,
            "align_self": null,
            "border": null,
            "bottom": null,
            "display": null,
            "flex": null,
            "flex_flow": null,
            "grid_area": null,
            "grid_auto_columns": null,
            "grid_auto_flow": null,
            "grid_auto_rows": null,
            "grid_column": null,
            "grid_gap": null,
            "grid_row": null,
            "grid_template_areas": null,
            "grid_template_columns": null,
            "grid_template_rows": null,
            "height": null,
            "justify_content": null,
            "justify_items": null,
            "left": null,
            "margin": null,
            "max_height": null,
            "max_width": null,
            "min_height": null,
            "min_width": null,
            "object_fit": null,
            "object_position": null,
            "order": null,
            "overflow": null,
            "overflow_x": null,
            "overflow_y": null,
            "padding": null,
            "right": null,
            "top": null,
            "visibility": null,
            "width": null
          }
        },
        "5354ccf50b6c410f8fd630cccf2e0960": {
          "model_module": "@jupyter-widgets/controls",
          "model_name": "ProgressStyleModel",
          "model_module_version": "1.5.0",
          "state": {
            "_model_module": "@jupyter-widgets/controls",
            "_model_module_version": "1.5.0",
            "_model_name": "ProgressStyleModel",
            "_view_count": null,
            "_view_module": "@jupyter-widgets/base",
            "_view_module_version": "1.2.0",
            "_view_name": "StyleView",
            "bar_color": null,
            "description_width": ""
          }
        },
        "4848d89a225c4250965d5f3e6de1b68b": {
          "model_module": "@jupyter-widgets/controls",
          "model_name": "VBoxModel",
          "model_module_version": "1.5.0",
          "state": {
            "_dom_classes": [],
            "_model_module": "@jupyter-widgets/controls",
            "_model_module_version": "1.5.0",
            "_model_name": "VBoxModel",
            "_view_count": null,
            "_view_module": "@jupyter-widgets/controls",
            "_view_module_version": "1.5.0",
            "_view_name": "VBoxView",
            "box_style": "",
            "children": [
              "IPY_MODEL_b2812962e1f245c39a6a68cc5b32ca4a",
              "IPY_MODEL_853a47cc24a64796b6c1977b649e9af4"
            ],
            "layout": "IPY_MODEL_a80fd28ea82e49a28c48e38b7e636d3f"
          }
        },
        "b2812962e1f245c39a6a68cc5b32ca4a": {
          "model_module": "@jupyter-widgets/controls",
          "model_name": "LabelModel",
          "model_module_version": "1.5.0",
          "state": {
            "_dom_classes": [],
            "_model_module": "@jupyter-widgets/controls",
            "_model_module_version": "1.5.0",
            "_model_name": "LabelModel",
            "_view_count": null,
            "_view_module": "@jupyter-widgets/controls",
            "_view_module_version": "1.5.0",
            "_view_name": "LabelView",
            "description": "",
            "description_tooltip": null,
            "layout": "IPY_MODEL_b2fe590d58674b47a478b4bc56bd7e44",
            "placeholder": "​",
            "style": "IPY_MODEL_26545a83d3f24ca69ef0a126c66c66bb",
            "value": "9.763 MB of 9.763 MB uploaded (0.000 MB deduped)\r"
          }
        },
        "853a47cc24a64796b6c1977b649e9af4": {
          "model_module": "@jupyter-widgets/controls",
          "model_name": "FloatProgressModel",
          "model_module_version": "1.5.0",
          "state": {
            "_dom_classes": [],
            "_model_module": "@jupyter-widgets/controls",
            "_model_module_version": "1.5.0",
            "_model_name": "FloatProgressModel",
            "_view_count": null,
            "_view_module": "@jupyter-widgets/controls",
            "_view_module_version": "1.5.0",
            "_view_name": "ProgressView",
            "bar_style": "",
            "description": "",
            "description_tooltip": null,
            "layout": "IPY_MODEL_05990ed1d3de411db713592c87c05427",
            "max": 1,
            "min": 0,
            "orientation": "horizontal",
            "style": "IPY_MODEL_1312ea11cf7f45f690f92e6a10a2fbe2",
            "value": 1
          }
        },
        "a80fd28ea82e49a28c48e38b7e636d3f": {
          "model_module": "@jupyter-widgets/base",
          "model_name": "LayoutModel",
          "model_module_version": "1.2.0",
          "state": {
            "_model_module": "@jupyter-widgets/base",
            "_model_module_version": "1.2.0",
            "_model_name": "LayoutModel",
            "_view_count": null,
            "_view_module": "@jupyter-widgets/base",
            "_view_module_version": "1.2.0",
            "_view_name": "LayoutView",
            "align_content": null,
            "align_items": null,
            "align_self": null,
            "border": null,
            "bottom": null,
            "display": null,
            "flex": null,
            "flex_flow": null,
            "grid_area": null,
            "grid_auto_columns": null,
            "grid_auto_flow": null,
            "grid_auto_rows": null,
            "grid_column": null,
            "grid_gap": null,
            "grid_row": null,
            "grid_template_areas": null,
            "grid_template_columns": null,
            "grid_template_rows": null,
            "height": null,
            "justify_content": null,
            "justify_items": null,
            "left": null,
            "margin": null,
            "max_height": null,
            "max_width": null,
            "min_height": null,
            "min_width": null,
            "object_fit": null,
            "object_position": null,
            "order": null,
            "overflow": null,
            "overflow_x": null,
            "overflow_y": null,
            "padding": null,
            "right": null,
            "top": null,
            "visibility": null,
            "width": null
          }
        },
        "b2fe590d58674b47a478b4bc56bd7e44": {
          "model_module": "@jupyter-widgets/base",
          "model_name": "LayoutModel",
          "model_module_version": "1.2.0",
          "state": {
            "_model_module": "@jupyter-widgets/base",
            "_model_module_version": "1.2.0",
            "_model_name": "LayoutModel",
            "_view_count": null,
            "_view_module": "@jupyter-widgets/base",
            "_view_module_version": "1.2.0",
            "_view_name": "LayoutView",
            "align_content": null,
            "align_items": null,
            "align_self": null,
            "border": null,
            "bottom": null,
            "display": null,
            "flex": null,
            "flex_flow": null,
            "grid_area": null,
            "grid_auto_columns": null,
            "grid_auto_flow": null,
            "grid_auto_rows": null,
            "grid_column": null,
            "grid_gap": null,
            "grid_row": null,
            "grid_template_areas": null,
            "grid_template_columns": null,
            "grid_template_rows": null,
            "height": null,
            "justify_content": null,
            "justify_items": null,
            "left": null,
            "margin": null,
            "max_height": null,
            "max_width": null,
            "min_height": null,
            "min_width": null,
            "object_fit": null,
            "object_position": null,
            "order": null,
            "overflow": null,
            "overflow_x": null,
            "overflow_y": null,
            "padding": null,
            "right": null,
            "top": null,
            "visibility": null,
            "width": null
          }
        },
        "26545a83d3f24ca69ef0a126c66c66bb": {
          "model_module": "@jupyter-widgets/controls",
          "model_name": "DescriptionStyleModel",
          "model_module_version": "1.5.0",
          "state": {
            "_model_module": "@jupyter-widgets/controls",
            "_model_module_version": "1.5.0",
            "_model_name": "DescriptionStyleModel",
            "_view_count": null,
            "_view_module": "@jupyter-widgets/base",
            "_view_module_version": "1.2.0",
            "_view_name": "StyleView",
            "description_width": ""
          }
        },
        "05990ed1d3de411db713592c87c05427": {
          "model_module": "@jupyter-widgets/base",
          "model_name": "LayoutModel",
          "model_module_version": "1.2.0",
          "state": {
            "_model_module": "@jupyter-widgets/base",
            "_model_module_version": "1.2.0",
            "_model_name": "LayoutModel",
            "_view_count": null,
            "_view_module": "@jupyter-widgets/base",
            "_view_module_version": "1.2.0",
            "_view_name": "LayoutView",
            "align_content": null,
            "align_items": null,
            "align_self": null,
            "border": null,
            "bottom": null,
            "display": null,
            "flex": null,
            "flex_flow": null,
            "grid_area": null,
            "grid_auto_columns": null,
            "grid_auto_flow": null,
            "grid_auto_rows": null,
            "grid_column": null,
            "grid_gap": null,
            "grid_row": null,
            "grid_template_areas": null,
            "grid_template_columns": null,
            "grid_template_rows": null,
            "height": null,
            "justify_content": null,
            "justify_items": null,
            "left": null,
            "margin": null,
            "max_height": null,
            "max_width": null,
            "min_height": null,
            "min_width": null,
            "object_fit": null,
            "object_position": null,
            "order": null,
            "overflow": null,
            "overflow_x": null,
            "overflow_y": null,
            "padding": null,
            "right": null,
            "top": null,
            "visibility": null,
            "width": null
          }
        },
        "1312ea11cf7f45f690f92e6a10a2fbe2": {
          "model_module": "@jupyter-widgets/controls",
          "model_name": "ProgressStyleModel",
          "model_module_version": "1.5.0",
          "state": {
            "_model_module": "@jupyter-widgets/controls",
            "_model_module_version": "1.5.0",
            "_model_name": "ProgressStyleModel",
            "_view_count": null,
            "_view_module": "@jupyter-widgets/base",
            "_view_module_version": "1.2.0",
            "_view_name": "StyleView",
            "bar_color": null,
            "description_width": ""
          }
        },
        "c54dae56cb1549209a348168d6a64953": {
          "model_module": "@jupyter-widgets/controls",
          "model_name": "VBoxModel",
          "model_module_version": "1.5.0",
          "state": {
            "_dom_classes": [],
            "_model_module": "@jupyter-widgets/controls",
            "_model_module_version": "1.5.0",
            "_model_name": "VBoxModel",
            "_view_count": null,
            "_view_module": "@jupyter-widgets/controls",
            "_view_module_version": "1.5.0",
            "_view_name": "VBoxView",
            "box_style": "",
            "children": [
              "IPY_MODEL_050ae662729542e5b0976a61971096d0",
              "IPY_MODEL_44191c0ddec44f69b53a4bc0abe87b52"
            ],
            "layout": "IPY_MODEL_3561536557d941e78bc88943b1b56126"
          }
        },
        "050ae662729542e5b0976a61971096d0": {
          "model_module": "@jupyter-widgets/controls",
          "model_name": "LabelModel",
          "model_module_version": "1.5.0",
          "state": {
            "_dom_classes": [],
            "_model_module": "@jupyter-widgets/controls",
            "_model_module_version": "1.5.0",
            "_model_name": "LabelModel",
            "_view_count": null,
            "_view_module": "@jupyter-widgets/controls",
            "_view_module_version": "1.5.0",
            "_view_name": "LabelView",
            "description": "",
            "description_tooltip": null,
            "layout": "IPY_MODEL_1c259dff1ecc4e0ab9d2c8609c232168",
            "placeholder": "​",
            "style": "IPY_MODEL_3c8713cfa0ec43938923a335c910a96a",
            "value": "45.859 MB of 45.859 MB uploaded (0.000 MB deduped)\r"
          }
        },
        "44191c0ddec44f69b53a4bc0abe87b52": {
          "model_module": "@jupyter-widgets/controls",
          "model_name": "FloatProgressModel",
          "model_module_version": "1.5.0",
          "state": {
            "_dom_classes": [],
            "_model_module": "@jupyter-widgets/controls",
            "_model_module_version": "1.5.0",
            "_model_name": "FloatProgressModel",
            "_view_count": null,
            "_view_module": "@jupyter-widgets/controls",
            "_view_module_version": "1.5.0",
            "_view_name": "ProgressView",
            "bar_style": "",
            "description": "",
            "description_tooltip": null,
            "layout": "IPY_MODEL_96cde2a5ff514f1aa44ad376115e0957",
            "max": 1,
            "min": 0,
            "orientation": "horizontal",
            "style": "IPY_MODEL_325e948d390d4b49823b804ff6824e3a",
            "value": 1
          }
        },
        "3561536557d941e78bc88943b1b56126": {
          "model_module": "@jupyter-widgets/base",
          "model_name": "LayoutModel",
          "model_module_version": "1.2.0",
          "state": {
            "_model_module": "@jupyter-widgets/base",
            "_model_module_version": "1.2.0",
            "_model_name": "LayoutModel",
            "_view_count": null,
            "_view_module": "@jupyter-widgets/base",
            "_view_module_version": "1.2.0",
            "_view_name": "LayoutView",
            "align_content": null,
            "align_items": null,
            "align_self": null,
            "border": null,
            "bottom": null,
            "display": null,
            "flex": null,
            "flex_flow": null,
            "grid_area": null,
            "grid_auto_columns": null,
            "grid_auto_flow": null,
            "grid_auto_rows": null,
            "grid_column": null,
            "grid_gap": null,
            "grid_row": null,
            "grid_template_areas": null,
            "grid_template_columns": null,
            "grid_template_rows": null,
            "height": null,
            "justify_content": null,
            "justify_items": null,
            "left": null,
            "margin": null,
            "max_height": null,
            "max_width": null,
            "min_height": null,
            "min_width": null,
            "object_fit": null,
            "object_position": null,
            "order": null,
            "overflow": null,
            "overflow_x": null,
            "overflow_y": null,
            "padding": null,
            "right": null,
            "top": null,
            "visibility": null,
            "width": null
          }
        },
        "1c259dff1ecc4e0ab9d2c8609c232168": {
          "model_module": "@jupyter-widgets/base",
          "model_name": "LayoutModel",
          "model_module_version": "1.2.0",
          "state": {
            "_model_module": "@jupyter-widgets/base",
            "_model_module_version": "1.2.0",
            "_model_name": "LayoutModel",
            "_view_count": null,
            "_view_module": "@jupyter-widgets/base",
            "_view_module_version": "1.2.0",
            "_view_name": "LayoutView",
            "align_content": null,
            "align_items": null,
            "align_self": null,
            "border": null,
            "bottom": null,
            "display": null,
            "flex": null,
            "flex_flow": null,
            "grid_area": null,
            "grid_auto_columns": null,
            "grid_auto_flow": null,
            "grid_auto_rows": null,
            "grid_column": null,
            "grid_gap": null,
            "grid_row": null,
            "grid_template_areas": null,
            "grid_template_columns": null,
            "grid_template_rows": null,
            "height": null,
            "justify_content": null,
            "justify_items": null,
            "left": null,
            "margin": null,
            "max_height": null,
            "max_width": null,
            "min_height": null,
            "min_width": null,
            "object_fit": null,
            "object_position": null,
            "order": null,
            "overflow": null,
            "overflow_x": null,
            "overflow_y": null,
            "padding": null,
            "right": null,
            "top": null,
            "visibility": null,
            "width": null
          }
        },
        "3c8713cfa0ec43938923a335c910a96a": {
          "model_module": "@jupyter-widgets/controls",
          "model_name": "DescriptionStyleModel",
          "model_module_version": "1.5.0",
          "state": {
            "_model_module": "@jupyter-widgets/controls",
            "_model_module_version": "1.5.0",
            "_model_name": "DescriptionStyleModel",
            "_view_count": null,
            "_view_module": "@jupyter-widgets/base",
            "_view_module_version": "1.2.0",
            "_view_name": "StyleView",
            "description_width": ""
          }
        },
        "96cde2a5ff514f1aa44ad376115e0957": {
          "model_module": "@jupyter-widgets/base",
          "model_name": "LayoutModel",
          "model_module_version": "1.2.0",
          "state": {
            "_model_module": "@jupyter-widgets/base",
            "_model_module_version": "1.2.0",
            "_model_name": "LayoutModel",
            "_view_count": null,
            "_view_module": "@jupyter-widgets/base",
            "_view_module_version": "1.2.0",
            "_view_name": "LayoutView",
            "align_content": null,
            "align_items": null,
            "align_self": null,
            "border": null,
            "bottom": null,
            "display": null,
            "flex": null,
            "flex_flow": null,
            "grid_area": null,
            "grid_auto_columns": null,
            "grid_auto_flow": null,
            "grid_auto_rows": null,
            "grid_column": null,
            "grid_gap": null,
            "grid_row": null,
            "grid_template_areas": null,
            "grid_template_columns": null,
            "grid_template_rows": null,
            "height": null,
            "justify_content": null,
            "justify_items": null,
            "left": null,
            "margin": null,
            "max_height": null,
            "max_width": null,
            "min_height": null,
            "min_width": null,
            "object_fit": null,
            "object_position": null,
            "order": null,
            "overflow": null,
            "overflow_x": null,
            "overflow_y": null,
            "padding": null,
            "right": null,
            "top": null,
            "visibility": null,
            "width": null
          }
        },
        "325e948d390d4b49823b804ff6824e3a": {
          "model_module": "@jupyter-widgets/controls",
          "model_name": "ProgressStyleModel",
          "model_module_version": "1.5.0",
          "state": {
            "_model_module": "@jupyter-widgets/controls",
            "_model_module_version": "1.5.0",
            "_model_name": "ProgressStyleModel",
            "_view_count": null,
            "_view_module": "@jupyter-widgets/base",
            "_view_module_version": "1.2.0",
            "_view_name": "StyleView",
            "bar_color": null,
            "description_width": ""
          }
        },
        "68fb57e85eaf4c77895ac3d8d9808abc": {
          "model_module": "@jupyter-widgets/controls",
          "model_name": "VBoxModel",
          "model_module_version": "1.5.0",
          "state": {
            "_dom_classes": [],
            "_model_module": "@jupyter-widgets/controls",
            "_model_module_version": "1.5.0",
            "_model_name": "VBoxModel",
            "_view_count": null,
            "_view_module": "@jupyter-widgets/controls",
            "_view_module_version": "1.5.0",
            "_view_name": "VBoxView",
            "box_style": "",
            "children": [
              "IPY_MODEL_4ebc3f08c4334a32a7d8739ff231168f",
              "IPY_MODEL_a9a55787abb64f6b809b1464cb282045"
            ],
            "layout": "IPY_MODEL_bc45d33aa05641dfae551f946700f9bb"
          }
        },
        "4ebc3f08c4334a32a7d8739ff231168f": {
          "model_module": "@jupyter-widgets/controls",
          "model_name": "LabelModel",
          "model_module_version": "1.5.0",
          "state": {
            "_dom_classes": [],
            "_model_module": "@jupyter-widgets/controls",
            "_model_module_version": "1.5.0",
            "_model_name": "LabelModel",
            "_view_count": null,
            "_view_module": "@jupyter-widgets/controls",
            "_view_module_version": "1.5.0",
            "_view_name": "LabelView",
            "description": "",
            "description_tooltip": null,
            "layout": "IPY_MODEL_d97cc71bfeaa43f6997792bab03dbd31",
            "placeholder": "​",
            "style": "IPY_MODEL_caeaa87c93ba491aa5361db9ee64a98f",
            "value": "33.661 MB of 33.661 MB uploaded (0.000 MB deduped)\r"
          }
        },
        "a9a55787abb64f6b809b1464cb282045": {
          "model_module": "@jupyter-widgets/controls",
          "model_name": "FloatProgressModel",
          "model_module_version": "1.5.0",
          "state": {
            "_dom_classes": [],
            "_model_module": "@jupyter-widgets/controls",
            "_model_module_version": "1.5.0",
            "_model_name": "FloatProgressModel",
            "_view_count": null,
            "_view_module": "@jupyter-widgets/controls",
            "_view_module_version": "1.5.0",
            "_view_name": "ProgressView",
            "bar_style": "",
            "description": "",
            "description_tooltip": null,
            "layout": "IPY_MODEL_f0eec7bd75e74de7a2229bc043002361",
            "max": 1,
            "min": 0,
            "orientation": "horizontal",
            "style": "IPY_MODEL_046e7c899cfa4037a96ec3d29c67db5e",
            "value": 1
          }
        },
        "bc45d33aa05641dfae551f946700f9bb": {
          "model_module": "@jupyter-widgets/base",
          "model_name": "LayoutModel",
          "model_module_version": "1.2.0",
          "state": {
            "_model_module": "@jupyter-widgets/base",
            "_model_module_version": "1.2.0",
            "_model_name": "LayoutModel",
            "_view_count": null,
            "_view_module": "@jupyter-widgets/base",
            "_view_module_version": "1.2.0",
            "_view_name": "LayoutView",
            "align_content": null,
            "align_items": null,
            "align_self": null,
            "border": null,
            "bottom": null,
            "display": null,
            "flex": null,
            "flex_flow": null,
            "grid_area": null,
            "grid_auto_columns": null,
            "grid_auto_flow": null,
            "grid_auto_rows": null,
            "grid_column": null,
            "grid_gap": null,
            "grid_row": null,
            "grid_template_areas": null,
            "grid_template_columns": null,
            "grid_template_rows": null,
            "height": null,
            "justify_content": null,
            "justify_items": null,
            "left": null,
            "margin": null,
            "max_height": null,
            "max_width": null,
            "min_height": null,
            "min_width": null,
            "object_fit": null,
            "object_position": null,
            "order": null,
            "overflow": null,
            "overflow_x": null,
            "overflow_y": null,
            "padding": null,
            "right": null,
            "top": null,
            "visibility": null,
            "width": null
          }
        },
        "d97cc71bfeaa43f6997792bab03dbd31": {
          "model_module": "@jupyter-widgets/base",
          "model_name": "LayoutModel",
          "model_module_version": "1.2.0",
          "state": {
            "_model_module": "@jupyter-widgets/base",
            "_model_module_version": "1.2.0",
            "_model_name": "LayoutModel",
            "_view_count": null,
            "_view_module": "@jupyter-widgets/base",
            "_view_module_version": "1.2.0",
            "_view_name": "LayoutView",
            "align_content": null,
            "align_items": null,
            "align_self": null,
            "border": null,
            "bottom": null,
            "display": null,
            "flex": null,
            "flex_flow": null,
            "grid_area": null,
            "grid_auto_columns": null,
            "grid_auto_flow": null,
            "grid_auto_rows": null,
            "grid_column": null,
            "grid_gap": null,
            "grid_row": null,
            "grid_template_areas": null,
            "grid_template_columns": null,
            "grid_template_rows": null,
            "height": null,
            "justify_content": null,
            "justify_items": null,
            "left": null,
            "margin": null,
            "max_height": null,
            "max_width": null,
            "min_height": null,
            "min_width": null,
            "object_fit": null,
            "object_position": null,
            "order": null,
            "overflow": null,
            "overflow_x": null,
            "overflow_y": null,
            "padding": null,
            "right": null,
            "top": null,
            "visibility": null,
            "width": null
          }
        },
        "caeaa87c93ba491aa5361db9ee64a98f": {
          "model_module": "@jupyter-widgets/controls",
          "model_name": "DescriptionStyleModel",
          "model_module_version": "1.5.0",
          "state": {
            "_model_module": "@jupyter-widgets/controls",
            "_model_module_version": "1.5.0",
            "_model_name": "DescriptionStyleModel",
            "_view_count": null,
            "_view_module": "@jupyter-widgets/base",
            "_view_module_version": "1.2.0",
            "_view_name": "StyleView",
            "description_width": ""
          }
        },
        "f0eec7bd75e74de7a2229bc043002361": {
          "model_module": "@jupyter-widgets/base",
          "model_name": "LayoutModel",
          "model_module_version": "1.2.0",
          "state": {
            "_model_module": "@jupyter-widgets/base",
            "_model_module_version": "1.2.0",
            "_model_name": "LayoutModel",
            "_view_count": null,
            "_view_module": "@jupyter-widgets/base",
            "_view_module_version": "1.2.0",
            "_view_name": "LayoutView",
            "align_content": null,
            "align_items": null,
            "align_self": null,
            "border": null,
            "bottom": null,
            "display": null,
            "flex": null,
            "flex_flow": null,
            "grid_area": null,
            "grid_auto_columns": null,
            "grid_auto_flow": null,
            "grid_auto_rows": null,
            "grid_column": null,
            "grid_gap": null,
            "grid_row": null,
            "grid_template_areas": null,
            "grid_template_columns": null,
            "grid_template_rows": null,
            "height": null,
            "justify_content": null,
            "justify_items": null,
            "left": null,
            "margin": null,
            "max_height": null,
            "max_width": null,
            "min_height": null,
            "min_width": null,
            "object_fit": null,
            "object_position": null,
            "order": null,
            "overflow": null,
            "overflow_x": null,
            "overflow_y": null,
            "padding": null,
            "right": null,
            "top": null,
            "visibility": null,
            "width": null
          }
        },
        "046e7c899cfa4037a96ec3d29c67db5e": {
          "model_module": "@jupyter-widgets/controls",
          "model_name": "ProgressStyleModel",
          "model_module_version": "1.5.0",
          "state": {
            "_model_module": "@jupyter-widgets/controls",
            "_model_module_version": "1.5.0",
            "_model_name": "ProgressStyleModel",
            "_view_count": null,
            "_view_module": "@jupyter-widgets/base",
            "_view_module_version": "1.2.0",
            "_view_name": "StyleView",
            "bar_color": null,
            "description_width": ""
          }
        }
      }
    }
  },
  "cells": [
    {
      "cell_type": "code",
      "execution_count": 1,
      "metadata": {
        "id": "NxkRIsW6qfnx"
      },
      "outputs": [],
      "source": [
        "import numpy as np\n",
        "import matplotlib.pyplot as plt\n",
        "import pandas as pd\n",
        "import os\n",
        "import cv2\n",
        "import pathlib\n",
        "import keras\n",
        "import tensorflow as tf\n",
        "from tensorflow.keras import layers\n",
        "import tensorflow.keras.backend as K\n",
        "from tensorflow.keras.preprocessing.text import Tokenizer\n",
        "from keras.layers import SimpleRNN,LSTM,GRU,Embedding,Dense,Dropout,Input\n",
        "from tensorflow.keras.optimizers import Adam,Nadam\n",
        "from keras import Model"
      ]
    },
    {
      "cell_type": "code",
      "source": [
        "def tok_map(data):\n",
        "    source = data['en'].values\n",
        "    target = data['hi'].values\n",
        "    target = '\\t'+target+'\\n'\n",
        "\n",
        "    len_list_s = [len(i) for i in source]\n",
        "    s_max_len = max(len_list_s)\n",
        "\n",
        "    len_list_t = [len(i) for i in target]\n",
        "    t_max_len = max(len_list_t)\n",
        "\n",
        "    s_tok = set()\n",
        "    for sw in source:\n",
        "        for chr in sw:\n",
        "            s_tok.add(chr)\n",
        "    source_tokens = sorted(list(s_tok))\n",
        "    s_tok_map = dict([(chr,i+1) for i,chr in enumerate(source_tokens)])\n",
        "    s_tok_map[\" \"] = 0\n",
        "\n",
        "    t_tok = set()\n",
        "    for st in target:\n",
        "        for chr in st:\n",
        "            t_tok.add(chr)\n",
        "    tar_tokens = sorted(list(t_tok))\n",
        "    t_tok_map = dict([(chr,i+1) for i,chr in enumerate(tar_tokens)])\n",
        "    t_tok_map[\" \"] = 0\n",
        "\n",
        "    return source_tokens, s_tok_map, s_max_len, tar_tokens, t_tok_map, t_max_len\n",
        "\n",
        "def dataLoad(path):\n",
        "    with open(path) as dataFile:\n",
        "        dataset = pd.read_csv(dataFile,sep='\\t',header=None,names=[\"hi\",\"en\",\"\"],skip_blank_lines=True,index_col=None)\n",
        "    #print(dataset.head())\n",
        "    dataset = dataset[dataset['hi'].notna()]\n",
        "    #print(dataset.head())\n",
        "    dataset = dataset[dataset['en'].notna()]\n",
        "    #print(dataset.head())\n",
        "    dataset = dataset[['hi','en']]\n",
        "    #print(dataset.head())\n",
        "    return dataset\n",
        "\n",
        "def dataProcess(data):\n",
        "    src,tar = data['en'].values, data['hi'].values\n",
        "    tar = \"\\t\" + tar + \"\\n\"\n",
        "\n",
        "    slen = len(src)\n",
        "    enc_inp = np.zeros(\n",
        "        (slen,s_max_len), dtype=\"float32\"\n",
        "    )\n",
        "\n",
        "    tlen = len(tar)\n",
        "    dec_inp = np.zeros(\n",
        "        (tlen,t_max_len), dtype=\"float32\"\n",
        "    )\n",
        "    dec_tar = np.zeros(\n",
        "        (tlen, t_max_len, len(tar_tokens)+1), dtype=\"int\"\n",
        "    )\n",
        "    for i,(sw,tw) in enumerate(zip(src,tar)):\n",
        "        for j,ch in enumerate(sw):\n",
        "            enc_inp[i,j] = s_tok_map[ch]\n",
        "        enc_inp[i,j+1:] = s_tok_map[\" \"]\n",
        "\n",
        "        for j,ch in enumerate(tw):\n",
        "            dec_inp[i,j] = t_tok_map[ch]\n",
        "            if j>0:\n",
        "                dec_tar[i,j-1,t_tok_map[ch]] = 1\n",
        "        dec_inp[i,j+1:] = t_tok_map[\" \"]\n",
        "        dec_tar[i,j:,t_tok_map[\" \"]] = 1\n",
        "        \n",
        "    return enc_inp, dec_inp, dec_tar"
      ],
      "metadata": {
        "id": "DkEdW4NPr2a5"
      },
      "execution_count": 2,
      "outputs": []
    },
    {
      "cell_type": "code",
      "source": [
        "train = dataLoad(\"/content/drive/MyDrive/dakshina_dataset_v1.0/hi/lexicons/hi.translit.sampled.train.tsv\")\n",
        "source_tokens, s_tok_map, s_max_len, tar_tokens, t_tok_map, t_max_len = tok_map(train)\n",
        "dev = dataLoad(\"/content/drive/MyDrive/dakshina_dataset_v1.0/hi/lexicons/hi.translit.sampled.dev.tsv\")\n",
        "test = dataLoad(\"/content/drive/MyDrive/dakshina_dataset_v1.0/hi/lexicons/hi.translit.sampled.test.tsv\")   "
      ],
      "metadata": {
        "id": "-EiehZ7kWXWK"
      },
      "execution_count": 3,
      "outputs": []
    },
    {
      "cell_type": "code",
      "source": [
        "# Process the training data\n",
        "train_encoder_input, train_decoder_input, train_decoder_target = dataProcess(train)\n",
        "\n",
        "# Process the validation data\n",
        "val_encoder_input, val_decoder_input, val_decoder_target = dataProcess(dev)"
      ],
      "metadata": {
        "id": "81-zvfMcgaJ3"
      },
      "execution_count": 4,
      "outputs": []
    },
    {
      "cell_type": "code",
      "source": [
        "print(train)"
      ],
      "metadata": {
        "colab": {
          "base_uri": "https://localhost:8080/"
        },
        "id": "9uk0ir-VFf3n",
        "outputId": "e189bf2e-3f74-4c28-f97d-92eaadfbdfb9"
      },
      "execution_count": 5,
      "outputs": [
        {
          "output_type": "stream",
          "name": "stdout",
          "text": [
            "              hi          en\n",
            "0             अं          an\n",
            "1        अंकगणित    ankganit\n",
            "2           अंकल       uncle\n",
            "3          अंकुर       ankur\n",
            "4         अंकुरण     ankuran\n",
            "...          ...         ...\n",
            "44199  ह्वेनसांग  hiuentsang\n",
            "44200  ह्वेनसांग  hsuantsang\n",
            "44201  ह्वेनसांग    hyensang\n",
            "44202  ह्वेनसांग    xuanzang\n",
            "44203          ॐ          om\n",
            "\n",
            "[44202 rows x 2 columns]\n"
          ]
        }
      ]
    },
    {
      "cell_type": "code",
      "source": [
        "train.head()"
      ],
      "metadata": {
        "colab": {
          "base_uri": "https://localhost:8080/",
          "height": 206
        },
        "id": "q9G_NWyTWs1h",
        "outputId": "7dffdea1-9797-4e98-c30e-3f5025f91da8"
      },
      "execution_count": 6,
      "outputs": [
        {
          "output_type": "execute_result",
          "data": {
            "text/plain": [
              "        hi        en\n",
              "0       अं        an\n",
              "1  अंकगणित  ankganit\n",
              "2     अंकल     uncle\n",
              "3    अंकुर     ankur\n",
              "4   अंकुरण   ankuran"
            ],
            "text/html": [
              "\n",
              "  <div id=\"df-c968c0d1-f2cb-4468-9f61-bb63186956f9\">\n",
              "    <div class=\"colab-df-container\">\n",
              "      <div>\n",
              "<style scoped>\n",
              "    .dataframe tbody tr th:only-of-type {\n",
              "        vertical-align: middle;\n",
              "    }\n",
              "\n",
              "    .dataframe tbody tr th {\n",
              "        vertical-align: top;\n",
              "    }\n",
              "\n",
              "    .dataframe thead th {\n",
              "        text-align: right;\n",
              "    }\n",
              "</style>\n",
              "<table border=\"1\" class=\"dataframe\">\n",
              "  <thead>\n",
              "    <tr style=\"text-align: right;\">\n",
              "      <th></th>\n",
              "      <th>hi</th>\n",
              "      <th>en</th>\n",
              "    </tr>\n",
              "  </thead>\n",
              "  <tbody>\n",
              "    <tr>\n",
              "      <th>0</th>\n",
              "      <td>अं</td>\n",
              "      <td>an</td>\n",
              "    </tr>\n",
              "    <tr>\n",
              "      <th>1</th>\n",
              "      <td>अंकगणित</td>\n",
              "      <td>ankganit</td>\n",
              "    </tr>\n",
              "    <tr>\n",
              "      <th>2</th>\n",
              "      <td>अंकल</td>\n",
              "      <td>uncle</td>\n",
              "    </tr>\n",
              "    <tr>\n",
              "      <th>3</th>\n",
              "      <td>अंकुर</td>\n",
              "      <td>ankur</td>\n",
              "    </tr>\n",
              "    <tr>\n",
              "      <th>4</th>\n",
              "      <td>अंकुरण</td>\n",
              "      <td>ankuran</td>\n",
              "    </tr>\n",
              "  </tbody>\n",
              "</table>\n",
              "</div>\n",
              "      <button class=\"colab-df-convert\" onclick=\"convertToInteractive('df-c968c0d1-f2cb-4468-9f61-bb63186956f9')\"\n",
              "              title=\"Convert this dataframe to an interactive table.\"\n",
              "              style=\"display:none;\">\n",
              "        \n",
              "  <svg xmlns=\"http://www.w3.org/2000/svg\" height=\"24px\"viewBox=\"0 0 24 24\"\n",
              "       width=\"24px\">\n",
              "    <path d=\"M0 0h24v24H0V0z\" fill=\"none\"/>\n",
              "    <path d=\"M18.56 5.44l.94 2.06.94-2.06 2.06-.94-2.06-.94-.94-2.06-.94 2.06-2.06.94zm-11 1L8.5 8.5l.94-2.06 2.06-.94-2.06-.94L8.5 2.5l-.94 2.06-2.06.94zm10 10l.94 2.06.94-2.06 2.06-.94-2.06-.94-.94-2.06-.94 2.06-2.06.94z\"/><path d=\"M17.41 7.96l-1.37-1.37c-.4-.4-.92-.59-1.43-.59-.52 0-1.04.2-1.43.59L10.3 9.45l-7.72 7.72c-.78.78-.78 2.05 0 2.83L4 21.41c.39.39.9.59 1.41.59.51 0 1.02-.2 1.41-.59l7.78-7.78 2.81-2.81c.8-.78.8-2.07 0-2.86zM5.41 20L4 18.59l7.72-7.72 1.47 1.35L5.41 20z\"/>\n",
              "  </svg>\n",
              "      </button>\n",
              "      \n",
              "  <style>\n",
              "    .colab-df-container {\n",
              "      display:flex;\n",
              "      flex-wrap:wrap;\n",
              "      gap: 12px;\n",
              "    }\n",
              "\n",
              "    .colab-df-convert {\n",
              "      background-color: #E8F0FE;\n",
              "      border: none;\n",
              "      border-radius: 50%;\n",
              "      cursor: pointer;\n",
              "      display: none;\n",
              "      fill: #1967D2;\n",
              "      height: 32px;\n",
              "      padding: 0 0 0 0;\n",
              "      width: 32px;\n",
              "    }\n",
              "\n",
              "    .colab-df-convert:hover {\n",
              "      background-color: #E2EBFA;\n",
              "      box-shadow: 0px 1px 2px rgba(60, 64, 67, 0.3), 0px 1px 3px 1px rgba(60, 64, 67, 0.15);\n",
              "      fill: #174EA6;\n",
              "    }\n",
              "\n",
              "    [theme=dark] .colab-df-convert {\n",
              "      background-color: #3B4455;\n",
              "      fill: #D2E3FC;\n",
              "    }\n",
              "\n",
              "    [theme=dark] .colab-df-convert:hover {\n",
              "      background-color: #434B5C;\n",
              "      box-shadow: 0px 1px 3px 1px rgba(0, 0, 0, 0.15);\n",
              "      filter: drop-shadow(0px 1px 2px rgba(0, 0, 0, 0.3));\n",
              "      fill: #FFFFFF;\n",
              "    }\n",
              "  </style>\n",
              "\n",
              "      <script>\n",
              "        const buttonEl =\n",
              "          document.querySelector('#df-c968c0d1-f2cb-4468-9f61-bb63186956f9 button.colab-df-convert');\n",
              "        buttonEl.style.display =\n",
              "          google.colab.kernel.accessAllowed ? 'block' : 'none';\n",
              "\n",
              "        async function convertToInteractive(key) {\n",
              "          const element = document.querySelector('#df-c968c0d1-f2cb-4468-9f61-bb63186956f9');\n",
              "          const dataTable =\n",
              "            await google.colab.kernel.invokeFunction('convertToInteractive',\n",
              "                                                     [key], {});\n",
              "          if (!dataTable) return;\n",
              "\n",
              "          const docLinkHtml = 'Like what you see? Visit the ' +\n",
              "            '<a target=\"_blank\" href=https://colab.research.google.com/notebooks/data_table.ipynb>data table notebook</a>'\n",
              "            + ' to learn more about interactive tables.';\n",
              "          element.innerHTML = '';\n",
              "          dataTable['output_type'] = 'display_data';\n",
              "          await google.colab.output.renderOutput(dataTable, element);\n",
              "          const docLink = document.createElement('div');\n",
              "          docLink.innerHTML = docLinkHtml;\n",
              "          element.appendChild(docLink);\n",
              "        }\n",
              "      </script>\n",
              "    </div>\n",
              "  </div>\n",
              "  "
            ]
          },
          "metadata": {},
          "execution_count": 6
        }
      ]
    },
    {
      "cell_type": "code",
      "source": [
        "def seq2seqModel(Layer = \"LSTM\", nunits = 32, encl = 2, decl = 2,embds = 32,dense_size=32,dropout=None):\n",
        "    keras.backend.clear_session()\n",
        "    enc_inps = Input(shape=(None,))\n",
        "    enc_emb = Embedding(input_dim=len(source_tokens)+1, output_dim = embds, mask_zero=True)\n",
        "    encop = enc_emb(enc_inps)\n",
        "\n",
        "    dec_inps = Input(shape=(None,))\n",
        "    dec_emb = Embedding(input_dim = len(tar_tokens)+1,output_dim = embds,mask_zero=True)\n",
        "\n",
        "    # If the cell type is chosen as RNN ----------------------------------------------------\n",
        "    if Layer == \"RNN\":\n",
        "        encLays = []\n",
        "        for i in range(encl-1):\n",
        "            encLays.append(SimpleRNN(nunits,return_sequences=True))\n",
        "        encLast = SimpleRNN(nunits,return_state=True)\n",
        "        encmb = enc_emb(enc_inps)\n",
        "        for enLay in encLays:\n",
        "            encmb = enLay(encmb)\n",
        "            if dropout is not None:\n",
        "                encmb = Dropout(dropout)(encmb)\n",
        "\n",
        "        _, state = encLast(encmb)\n",
        "        encoder_states = state\n",
        "        \n",
        "        decoder = []\n",
        "        for i in range(decl):\n",
        "            decoder.append(SimpleRNN(nunits,return_sequences=True,return_state=True))\n",
        "\n",
        "        for i in range(decl):\n",
        "            if(i==0):\n",
        "                dLhInp,_ = decoder[0](dec_emb(dec_inps),initial_state=state)\n",
        "            else:\n",
        "                dLhInp,_ = decoder[i](dLhInp,initial_state=state)\n",
        "\n",
        "    # If the cell type is chosen as LSTM ----------------------------------------------------    \n",
        "    elif Layer == \"LSTM\":\n",
        "        encLays = []\n",
        "        for i in range(encl-1):\n",
        "            encLays.append(LSTM(nunits,return_sequences=True))\n",
        "        encLast = LSTM(nunits,return_state=True)\n",
        "        encmb = enc_emb(enc_inps)\n",
        "        for enLay in encLays:\n",
        "            encmb = enLay(encmb)\n",
        "            if dropout is not None:\n",
        "                encmb = Dropout(dropout)(encmb)\n",
        "            \n",
        "        _, state_h,state_c = encLast(encmb)\n",
        "        encoder_states = [state_h,state_c]\n",
        "        \n",
        "        decoder = []\n",
        "        for i in range(decl):\n",
        "            decoder.append(LSTM(nunits,return_sequences=True,return_state=True))\n",
        "\n",
        "        for i in range(decl):\n",
        "            if(i==0):\n",
        "                dLhInp,_,_ = decoder[0](dec_emb(dec_inps),initial_state=encoder_states)\n",
        "            else:\n",
        "                dLhInp,_,_ = decoder[i](dLhInp,initial_state=encoder_states)\n",
        "\n",
        "    # If the cell type is chosen as GRU ----------------------------------------------------  \n",
        "    elif Layer == \"GRU\":\n",
        "        encLays = []\n",
        "        for i in range(encl-1):\n",
        "            encLays.append(GRU(nunits,return_sequences=True))\n",
        "\n",
        "        encLast = GRU(nunits,return_state=True)\n",
        "        encmb = enc_emb(enc_inps)\n",
        "        for enLay in encLays:\n",
        "            encmb = enLay(encmb)\n",
        "            if dropout is not None:\n",
        "                encmb = Dropout(dropout)(encmb)\n",
        "            \n",
        "        _, state = encLast(encmb)\n",
        "        encoder_states = state\n",
        "        \n",
        "        decoder = []\n",
        "        for i in range(decl):\n",
        "            decoder.append(GRU(nunits, return_sequences=True, return_state=True))\n",
        "        \n",
        "        for i in range(decl):\n",
        "            if(i==0):\n",
        "                dLhInp,_ = decoder[0](dec_emb(dec_inps),initial_state=state)\n",
        "            else:\n",
        "                dLhInp,_ = decoder[i](dLhInp,initial_state=state)\n",
        "            \n",
        "        \n",
        "    DLayerH = Dense(dense_size, activation='relu')\n",
        "    DL_O = Dense(len(tar_tokens)+1, activation = 'softmax')\n",
        "    act_op = DL_O(DLayerH(dLhInp))\n",
        "    \n",
        "    train_model = Model([enc_inps,dec_inps],act_op)\n",
        "\n",
        "    return train_model"
      ],
      "metadata": {
        "id": "K4ditIkQcbO-"
      },
      "execution_count": 7,
      "outputs": []
    },
    {
      "cell_type": "code",
      "source": [
        "sweep_config = {\n",
        "    'method': 'random',\n",
        "    'metric': {\n",
        "      'name': 'val_accuracy',\n",
        "      'goal': 'maximize'   \n",
        "    },\n",
        "    'parameters': {\n",
        "        'lr': {\n",
        "            'values': [0.005, 0.001]\n",
        "        },\n",
        "        'epochs' : {\n",
        "            'values': [15,20]\n",
        "        },\n",
        "        'nunits': {\n",
        "            'values': [128, 256, 512]\n",
        "        },\n",
        "        'cell': {\n",
        "            'values': [\"LSTM\", \"GRU\", \"RNN\"]\n",
        "        },\n",
        "        'emb_sz': {\n",
        "            'values': [32, 64, 128, 256]\n",
        "        },\n",
        "        'edls': {\n",
        "            'values': [2, 3, 4]\n",
        "        },\n",
        "        'dense_sz': {\n",
        "            'values': [64, 128, 512]\n",
        "        },\n",
        "        'dp': {\n",
        "            'values': [0.0,0.25,0.4]\n",
        "        }\n",
        "    }\n",
        "}"
      ],
      "metadata": {
        "id": "QeuPmhL74GrZ"
      },
      "execution_count": 8,
      "outputs": []
    },
    {
      "cell_type": "code",
      "source": [
        "!pip install wandb"
      ],
      "metadata": {
        "id": "FBdQgFLKQxRF"
      },
      "execution_count": null,
      "outputs": []
    },
    {
      "cell_type": "code",
      "source": [
        "import wandb\n",
        "wandb.login()"
      ],
      "metadata": {
        "colab": {
          "base_uri": "https://localhost:8080/",
          "height": 104
        },
        "id": "rSssHQYEQ5BT",
        "outputId": "f194ba13-5ec1-42b9-e8a3-6d9e31fd0799"
      },
      "execution_count": null,
      "outputs": [
        {
          "output_type": "display_data",
          "data": {
            "text/plain": [
              "<IPython.core.display.Javascript object>"
            ],
            "application/javascript": [
              "\n",
              "        window._wandbApiKey = new Promise((resolve, reject) => {\n",
              "            function loadScript(url) {\n",
              "            return new Promise(function(resolve, reject) {\n",
              "                let newScript = document.createElement(\"script\");\n",
              "                newScript.onerror = reject;\n",
              "                newScript.onload = resolve;\n",
              "                document.body.appendChild(newScript);\n",
              "                newScript.src = url;\n",
              "            });\n",
              "            }\n",
              "            loadScript(\"https://cdn.jsdelivr.net/npm/postmate/build/postmate.min.js\").then(() => {\n",
              "            const iframe = document.createElement('iframe')\n",
              "            iframe.style.cssText = \"width:0;height:0;border:none\"\n",
              "            document.body.appendChild(iframe)\n",
              "            const handshake = new Postmate({\n",
              "                container: iframe,\n",
              "                url: 'https://wandb.ai/authorize'\n",
              "            });\n",
              "            const timeout = setTimeout(() => reject(\"Couldn't auto authenticate\"), 5000)\n",
              "            handshake.then(function(child) {\n",
              "                child.on('authorize', data => {\n",
              "                    clearTimeout(timeout)\n",
              "                    resolve(data)\n",
              "                });\n",
              "            });\n",
              "            })\n",
              "        });\n",
              "    "
            ]
          },
          "metadata": {}
        },
        {
          "output_type": "stream",
          "name": "stderr",
          "text": [
            "\u001b[34m\u001b[1mwandb\u001b[0m: You can find your API key in your browser here: https://wandb.ai/authorize\n"
          ]
        },
        {
          "name": "stdout",
          "output_type": "stream",
          "text": [
            "wandb: Paste an API key from your profile and hit enter, or press ctrl+c to quit: ··········\n"
          ]
        },
        {
          "output_type": "stream",
          "name": "stderr",
          "text": [
            "\u001b[34m\u001b[1mwandb\u001b[0m: Appending key for api.wandb.ai to your netrc file: /root/.netrc\n"
          ]
        },
        {
          "output_type": "execute_result",
          "data": {
            "text/plain": [
              "True"
            ]
          },
          "metadata": {},
          "execution_count": 10
        }
      ]
    },
    {
      "cell_type": "code",
      "source": [
        "import wandb\n",
        "from wandb.keras import WandbCallback\n",
        "from tensorflow.keras.callbacks import EarlyStopping\n",
        "\n",
        "def train():\n",
        "    # Default values for hyper-parameters we're going to sweep over\n",
        "    config_defaults = {\n",
        "        'epochs': 15,\n",
        "        'lr': 1e-2,\n",
        "        'dense_sz': 128,\n",
        "        'nunits': 128,\n",
        "        'cell': 'LSTM',\n",
        "        'emb_sz': 64,\n",
        "        'edls': 1,\n",
        "        'dp': 0.0\n",
        "    }\n",
        "\n",
        "    # Initialize a new wandb run\n",
        "    wandb.init(config=config_defaults,name=\"cs6910-AS3-PA\")\n",
        "    cfg = wandb.config\n",
        "    \n",
        "    wandb.run.name = f'ep_{cfg.epochs}_un_{cfg.nunits}_cell_{cfg.cell}_emb_{cfg.emb_sz}_edls_{cfg.edls}_ds_{cfg.dense_sz}_do_{cfg.dp}_lr_{cfg.lr}'\n",
        "    wandb.run.save()\n",
        "\n",
        "    #Building the model using the parameters provided by the config ---------------------------------------    \n",
        "    train = seq2seqModel(Layer=cfg.cell, nunits=cfg.nunits, embds=cfg.emb_sz, encl=cfg.edls, decl=cfg.edls, dense_size=cfg.dense_sz, dropout=cfg.dp)\n",
        "    train.compile(optimizer = Adam(learning_rate=cfg.lr),loss='categorical_crossentropy',metrics=['accuracy'])\n",
        "    print(\"Build Sucessfully\")\n",
        "\n",
        "    # Define early stopping mechanism to reduce extra useless epochs\n",
        "    earlystopping = EarlyStopping(\n",
        "        monitor=\"val_accuracy\", min_delta=0.01, patience=5, verbose=2, mode=\"auto\"\n",
        "    )\n",
        "\n",
        "    # Fit the model after sucessfull model building \n",
        "    train.fit([train_encoder_input,train_decoder_input],train_decoder_target,\n",
        "             batch_size=64,\n",
        "             validation_data = ([val_encoder_input,val_decoder_input],val_decoder_target),\n",
        "             epochs=cfg.epochs,\n",
        "             callbacks = [earlystopping, WandbCallback(monitor='val_accuracy',mode='max')])\n",
        "    print(\"Completed ! \")"
      ],
      "metadata": {
        "id": "JrBJ4lZR4RI-"
      },
      "execution_count": null,
      "outputs": []
    },
    {
      "cell_type": "code",
      "source": [
        "sweep_id = wandb.sweep(sweep_config,entity=\"pandp\",project = 'CS6910-AS3')"
      ],
      "metadata": {
        "colab": {
          "base_uri": "https://localhost:8080/"
        },
        "id": "1KiaNu_99rkZ",
        "outputId": "c7191ab6-ec88-4cff-9230-011580e8ab21"
      },
      "execution_count": null,
      "outputs": [
        {
          "output_type": "stream",
          "name": "stdout",
          "text": [
            "Create sweep with ID: 3sng050k\n",
            "Sweep URL: https://wandb.ai/pandp/CS6910-AS3/sweeps/3sng050k\n"
          ]
        }
      ]
    },
    {
      "cell_type": "code",
      "source": [
        "sweep_id = \"3sng050k\""
      ],
      "metadata": {
        "id": "P2CB5Hc7oUed"
      },
      "execution_count": null,
      "outputs": []
    },
    {
      "cell_type": "markdown",
      "source": [
        "Create sweep with ID: 3sng050k\n",
        "\n",
        "Sweep URL: https://wandb.ai/pandp/CS6910-AS3/sweeps/3sng050k"
      ],
      "metadata": {
        "id": "XqLKoux-Q_OI"
      }
    },
    {
      "cell_type": "code",
      "source": [
        "wandb.agent(sweep_id, train,entity=\"pandp\",project = 'CS6910-AS3')"
      ],
      "metadata": {
        "colab": {
          "base_uri": "https://localhost:8080/",
          "height": 1000,
          "referenced_widgets": [
            "ca51f6d7090c400589ae872525045c5a",
            "5ec5e8def40948b590c546e68c9f205b",
            "dff4cbc0a2f248bfbbf73d88c2194086",
            "96109a965b9642c3af6811c95c2886de",
            "15c1fa8694c84183a001643549606ef1",
            "00cd0e841b1147cb8619100f4e2710e2",
            "bf1e67f6d8d448398d8c2a8a5f981d3e",
            "7ab5c080ba5543339b5c0ff9a0341f04",
            "e6b492e6c0754890ad1487aae673fa16",
            "229f7b59d7324b26b9363ebfa5b4d607",
            "18e8c581241f44c5ab4f89496be808b6",
            "692b6958b6be48888f10efedc3d10519",
            "6699886fdca745798c13b878097fd341",
            "cf46edaa492840b3bb5ac4b2c9edf2fc",
            "ec83416e41524f81b0f42d0d61bb3f76",
            "b151d38749f04a059a2501ad5e809ab2",
            "eaaff79ed1d74a5388d3b7583a704709",
            "c52bdadf637141979416953f8e7f7388",
            "0c3cbd4b2de84a2885e175747b38f772",
            "216bc0d60c1f43f7968efefff14b1c5f",
            "a371776b3ea74aa592073a5bc1832953",
            "f147bb4d69b2409c812d7ff192408502",
            "f68ec89b5f6c4b6ba70b2e5146b3d0b4",
            "82470851bf5747d09f834c8856c4ee64",
            "e1cafa27cfe6445fbd6e79bf29e81372",
            "863bfa400f184b9d976b6f7c57459e14",
            "468b63070b9f464cbff8ae27e92fb18e",
            "48e78488695d4bd2ba1f17abf827055b",
            "f70103ab141844888b97a2e9e3882fa2",
            "9720234d8939454f942ab7722b97c3bc",
            "18cd50946cc24038bb596f95724b75bd",
            "e51702781a0e4b45a4ff4a27194319f1",
            "8c6dab1804734a1697555ecf1bdc846e",
            "d3c6b383d7d14fbbbee8d9d091c3e69e",
            "732f4d0a324c4a7ca258071d13898d23",
            "93fcda82acf84719b10f28b568ff2fc8",
            "f83eea25913f4e12a69fcc6e76c1ec63",
            "d952e422d7b847d0a6006220faaef0b6",
            "dde01db45883410585419d3dc3abbc5c",
            "ebabf791840a409babe13296cd65a1fd",
            "4d9239bebeda43af8c562c3a0ca18fdc",
            "74f9c5f31c8b4b61a081069461ad0a00",
            "8eb9368142034d7390e88a750412c272",
            "3ecbcbea7d6448d5937f0b65bbadac13",
            "a43f71f9fd5e4686ab00d182ca2739f9",
            "afce44cc4cba42a09d43b7e5bd974379",
            "da53403f95bd488e8cafdb095365ffe7",
            "e38bd7cf9bd44e72bd3caff948653f32",
            "9a1db5511f7e45ce8a24cea519fb6c92",
            "a8618f4a46674292825b6824c36c511e",
            "5b26af905f1e41dc9ad22cb2899c032a",
            "bd1f374dba514f2c8382cd68b4a4959e",
            "b3c7b72aa8264c73837525939e5b1fea",
            "7878c0cb72a443f798f2e7ff0b2cac94",
            "01502801efbe4692949902256ec30f6d",
            "4ff6b0067ec34ceab59e8c8b657d36e5",
            "d8e9f72d88634286ac89392ccf5c733d",
            "06f55ffcff144e16a03eea6396f4a268",
            "8bc7a6ea05c24e128d76eb5a7895f7c6",
            "a1301d05860246afaffb6435ef4b24a0",
            "59e3e748031948a097e38d54ee4e6610",
            "8d018bea39b54ea9b9cc5ffb7bb060d3",
            "4fa9702b4c994f46b67461fb08b73b84",
            "d5d2fdc665374287a1588e30f6377929",
            "89e418cff53c405db2db7b92b1263222",
            "8c7970ac0d0b4a42984a1c51575f2615",
            "5591304de94542b79d14dc80f4093ead",
            "f8ed1e0dd4d44f1face560b8e78b821c",
            "299711cce9ab4567ab5518817df8f9aa",
            "b0a5b61d38ad4bb69678ea0b0b81a749",
            "cb76e2de453045ecb4e63a06b07c53ff",
            "2762042c2bb941899ba11be491859630",
            "3b2079defa054871ae6b1626186ebd98",
            "0ec6617d3d5c47ccbf1bbcc9cd1e2b48",
            "83c7736cb39649749474694013469634",
            "6c5dd6a230774674a0a23a6179cc5713",
            "78dec3e3906a48498fc3dbda54ae076f",
            "7c8fce3184694c7bb095adec8efcafa0",
            "37860fffa56d4748924295a184c718a9",
            "93d23891c4f241a29a7bfd6a2e9e37c7"
          ]
        },
        "id": "508ZtAE59cyk",
        "outputId": "3a1abaf2-1855-4762-ee3f-6cbc89cb59b3"
      },
      "execution_count": null,
      "outputs": [
        {
          "output_type": "stream",
          "name": "stderr",
          "text": [
            "\u001b[34m\u001b[1mwandb\u001b[0m: Agent Starting Run: su328vnh with config:\n",
            "\u001b[34m\u001b[1mwandb\u001b[0m: \tcell: LSTM\n",
            "\u001b[34m\u001b[1mwandb\u001b[0m: \tdense_sz: 512\n",
            "\u001b[34m\u001b[1mwandb\u001b[0m: \tdp: 0.4\n",
            "\u001b[34m\u001b[1mwandb\u001b[0m: \tedls: 3\n",
            "\u001b[34m\u001b[1mwandb\u001b[0m: \temb_sz: 64\n",
            "\u001b[34m\u001b[1mwandb\u001b[0m: \tepochs: 15\n",
            "\u001b[34m\u001b[1mwandb\u001b[0m: \tlr: 0.001\n",
            "\u001b[34m\u001b[1mwandb\u001b[0m: \tnunits: 512\n"
          ]
        },
        {
          "output_type": "display_data",
          "data": {
            "text/plain": [
              "<IPython.core.display.HTML object>"
            ],
            "text/html": [
              "Tracking run with wandb version 0.12.15"
            ]
          },
          "metadata": {}
        },
        {
          "output_type": "display_data",
          "data": {
            "text/plain": [
              "<IPython.core.display.HTML object>"
            ],
            "text/html": [
              "Run data is saved locally in <code>/content/wandb/run-20220503_104534-su328vnh</code>"
            ]
          },
          "metadata": {}
        },
        {
          "output_type": "display_data",
          "data": {
            "text/plain": [
              "<IPython.core.display.HTML object>"
            ],
            "text/html": [
              "Syncing run <strong><a href=\"https://wandb.ai/pandp/CS6910-AS3/runs/su328vnh\" target=\"_blank\">cs6910-AS3-PA</a></strong> to <a href=\"https://wandb.ai/pandp/CS6910-AS3\" target=\"_blank\">Weights & Biases</a> (<a href=\"https://wandb.me/run\" target=\"_blank\">docs</a>)<br/>Sweep page:  <a href=\"https://wandb.ai/pandp/CS6910-AS3/sweeps/3sng050k\" target=\"_blank\">https://wandb.ai/pandp/CS6910-AS3/sweeps/3sng050k</a>"
            ]
          },
          "metadata": {}
        },
        {
          "output_type": "stream",
          "name": "stdout",
          "text": [
            "Build Sucessfully\n",
            "Epoch 1/15\n",
            "691/691 [==============================] - 118s 134ms/step - loss: 0.8171 - accuracy: 0.4327 - val_loss: 0.4775 - val_accuracy: 0.6308 - _timestamp: 1651574868.0000 - _runtime: 134.0000\n",
            "Epoch 2/15\n",
            "691/691 [==============================] - 84s 121ms/step - loss: 0.3282 - accuracy: 0.7469 - val_loss: 0.2315 - val_accuracy: 0.8133 - _timestamp: 1651574951.0000 - _runtime: 217.0000\n",
            "Epoch 3/15\n",
            "691/691 [==============================] - 84s 121ms/step - loss: 0.1781 - accuracy: 0.8577 - val_loss: 0.1761 - val_accuracy: 0.8537 - _timestamp: 1651575035.0000 - _runtime: 301.0000\n",
            "Epoch 4/15\n",
            "691/691 [==============================] - 83s 120ms/step - loss: 0.1222 - accuracy: 0.9001 - val_loss: 0.1614 - val_accuracy: 0.8675 - _timestamp: 1651575118.0000 - _runtime: 384.0000\n",
            "Epoch 5/15\n",
            "691/691 [==============================] - 83s 121ms/step - loss: 0.0909 - accuracy: 0.9244 - val_loss: 0.1650 - val_accuracy: 0.8695 - _timestamp: 1651575201.0000 - _runtime: 467.0000\n",
            "Epoch 6/15\n",
            "691/691 [==============================] - 83s 121ms/step - loss: 0.0699 - accuracy: 0.9413 - val_loss: 0.1703 - val_accuracy: 0.8699 - _timestamp: 1651575285.0000 - _runtime: 551.0000\n",
            "Epoch 7/15\n",
            "691/691 [==============================] - 83s 121ms/step - loss: 0.0567 - accuracy: 0.9514 - val_loss: 0.1780 - val_accuracy: 0.8702 - _timestamp: 1651575368.0000 - _runtime: 634.0000\n",
            "Epoch 8/15\n",
            "691/691 [==============================] - 83s 121ms/step - loss: 0.0468 - accuracy: 0.9598 - val_loss: 0.1842 - val_accuracy: 0.8721 - _timestamp: 1651575451.0000 - _runtime: 717.0000\n",
            "Epoch 9/15\n",
            "691/691 [==============================] - 83s 120ms/step - loss: 0.0405 - accuracy: 0.9653 - val_loss: 0.1957 - val_accuracy: 0.8712 - _timestamp: 1651575535.0000 - _runtime: 801.0000\n",
            "Epoch 10/15\n",
            "691/691 [==============================] - 83s 120ms/step - loss: 0.0365 - accuracy: 0.9686 - val_loss: 0.2009 - val_accuracy: 0.8715 - _timestamp: 1651575618.0000 - _runtime: 884.0000\n",
            "Epoch 11/15\n",
            "691/691 [==============================] - 83s 120ms/step - loss: 0.0323 - accuracy: 0.9728 - val_loss: 0.2089 - val_accuracy: 0.8712 - _timestamp: 1651575700.0000 - _runtime: 966.0000\n",
            "Epoch 12/15\n",
            "691/691 [==============================] - 83s 120ms/step - loss: 0.0308 - accuracy: 0.9740 - val_loss: 0.2113 - val_accuracy: 0.8712 - _timestamp: 1651575783.0000 - _runtime: 1049.0000\n",
            "Epoch 13/15\n",
            "691/691 [==============================] - 83s 120ms/step - loss: 0.0277 - accuracy: 0.9770 - val_loss: 0.2130 - val_accuracy: 0.8716 - _timestamp: 1651575866.0000 - _runtime: 1132.0000\n",
            "Epoch 14/15\n",
            "691/691 [==============================] - 83s 121ms/step - loss: 0.0263 - accuracy: 0.9779 - val_loss: 0.2170 - val_accuracy: 0.8727 - _timestamp: 1651575949.0000 - _runtime: 1215.0000\n",
            "Epoch 15/15\n",
            "691/691 [==============================] - 83s 120ms/step - loss: 0.0246 - accuracy: 0.9794 - val_loss: 0.2286 - val_accuracy: 0.8699 - _timestamp: 1651576032.0000 - _runtime: 1298.0000\n",
            "Completed ! \n"
          ]
        },
        {
          "output_type": "display_data",
          "data": {
            "text/plain": [
              "<IPython.core.display.HTML object>"
            ],
            "text/html": [
              "Waiting for W&B process to finish... <strong style=\"color:green\">(success).</strong>"
            ]
          },
          "metadata": {}
        },
        {
          "output_type": "display_data",
          "data": {
            "text/plain": [
              "VBox(children=(Label(value='126.722 MB of 126.722 MB uploaded (0.000 MB deduped)\\r'), FloatProgress(value=1.0,…"
            ],
            "application/vnd.jupyter.widget-view+json": {
              "version_major": 2,
              "version_minor": 0,
              "model_id": "ca51f6d7090c400589ae872525045c5a"
            }
          },
          "metadata": {}
        },
        {
          "output_type": "display_data",
          "data": {
            "text/plain": [
              "<IPython.core.display.HTML object>"
            ],
            "text/html": [
              "<style>\n",
              "    table.wandb td:nth-child(1) { padding: 0 10px; text-align: right }\n",
              "    .wandb-row { display: flex; flex-direction: row; flex-wrap: wrap; width: 100% }\n",
              "    .wandb-col { display: flex; flex-direction: column; flex-basis: 100%; flex: 1; padding: 10px; }\n",
              "    </style>\n",
              "<div class=\"wandb-row\"><div class=\"wandb-col\"><h3>Run history:</h3><br/><table class=\"wandb\"><tr><td>accuracy</td><td>▁▅▆▇▇██████████</td></tr><tr><td>epoch</td><td>▁▁▂▃▃▃▄▅▅▅▆▇▇▇█</td></tr><tr><td>loss</td><td>█▄▂▂▂▁▁▁▁▁▁▁▁▁▁</td></tr><tr><td>val_accuracy</td><td>▁▆▇████████████</td></tr><tr><td>val_loss</td><td>█▃▁▁▁▁▁▂▂▂▂▂▂▂▂</td></tr></table><br/></div><div class=\"wandb-col\"><h3>Run summary:</h3><br/><table class=\"wandb\"><tr><td>accuracy</td><td>0.9794</td></tr><tr><td>best_epoch</td><td>13</td></tr><tr><td>best_val_accuracy</td><td>0.87267</td></tr><tr><td>epoch</td><td>14</td></tr><tr><td>loss</td><td>0.02461</td></tr><tr><td>val_accuracy</td><td>0.86987</td></tr><tr><td>val_loss</td><td>0.22861</td></tr></table><br/></div></div>"
            ]
          },
          "metadata": {}
        },
        {
          "output_type": "display_data",
          "data": {
            "text/plain": [
              "<IPython.core.display.HTML object>"
            ],
            "text/html": [
              "Synced <strong style=\"color:#cdcd00\">cs6910-AS3-PA</strong>: <a href=\"https://wandb.ai/pandp/CS6910-AS3/runs/su328vnh\" target=\"_blank\">https://wandb.ai/pandp/CS6910-AS3/runs/su328vnh</a><br/>Synced 5 W&B file(s), 1 media file(s), 0 artifact file(s) and 1 other file(s)"
            ]
          },
          "metadata": {}
        },
        {
          "output_type": "display_data",
          "data": {
            "text/plain": [
              "<IPython.core.display.HTML object>"
            ],
            "text/html": [
              "Find logs at: <code>./wandb/run-20220503_104534-su328vnh/logs</code>"
            ]
          },
          "metadata": {}
        },
        {
          "output_type": "stream",
          "name": "stderr",
          "text": [
            "\u001b[34m\u001b[1mwandb\u001b[0m: Agent Starting Run: ix2tgrsw with config:\n",
            "\u001b[34m\u001b[1mwandb\u001b[0m: \tcell: RNN\n",
            "\u001b[34m\u001b[1mwandb\u001b[0m: \tdense_sz: 128\n",
            "\u001b[34m\u001b[1mwandb\u001b[0m: \tdp: 0.25\n",
            "\u001b[34m\u001b[1mwandb\u001b[0m: \tedls: 4\n",
            "\u001b[34m\u001b[1mwandb\u001b[0m: \temb_sz: 64\n",
            "\u001b[34m\u001b[1mwandb\u001b[0m: \tepochs: 15\n",
            "\u001b[34m\u001b[1mwandb\u001b[0m: \tlr: 0.005\n",
            "\u001b[34m\u001b[1mwandb\u001b[0m: \tnunits: 128\n"
          ]
        },
        {
          "output_type": "display_data",
          "data": {
            "text/plain": [
              "<IPython.core.display.HTML object>"
            ],
            "text/html": [
              "Tracking run with wandb version 0.12.15"
            ]
          },
          "metadata": {}
        },
        {
          "output_type": "display_data",
          "data": {
            "text/plain": [
              "<IPython.core.display.HTML object>"
            ],
            "text/html": [
              "Run data is saved locally in <code>/content/wandb/run-20220503_110741-ix2tgrsw</code>"
            ]
          },
          "metadata": {}
        },
        {
          "output_type": "display_data",
          "data": {
            "text/plain": [
              "<IPython.core.display.HTML object>"
            ],
            "text/html": [
              "Syncing run <strong><a href=\"https://wandb.ai/pandp/CS6910-AS3/runs/ix2tgrsw\" target=\"_blank\">cs6910-AS3-PA</a></strong> to <a href=\"https://wandb.ai/pandp/CS6910-AS3\" target=\"_blank\">Weights & Biases</a> (<a href=\"https://wandb.me/run\" target=\"_blank\">docs</a>)<br/>Sweep page:  <a href=\"https://wandb.ai/pandp/CS6910-AS3/sweeps/3sng050k\" target=\"_blank\">https://wandb.ai/pandp/CS6910-AS3/sweeps/3sng050k</a>"
            ]
          },
          "metadata": {}
        },
        {
          "output_type": "stream",
          "name": "stdout",
          "text": [
            "Build Sucessfully\n",
            "Epoch 1/15\n",
            "691/691 [==============================] - 235s 326ms/step - loss: 0.9516 - accuracy: 0.3425 - val_loss: 0.8698 - val_accuracy: 0.3672 - _timestamp: 1651576302.0000 - _runtime: 241.0000\n",
            "Epoch 2/15\n",
            "691/691 [==============================] - 222s 322ms/step - loss: 0.8829 - accuracy: 0.3781 - val_loss: 0.8440 - val_accuracy: 0.3827 - _timestamp: 1651576525.0000 - _runtime: 464.0000\n",
            "Epoch 3/15\n",
            "691/691 [==============================] - 221s 320ms/step - loss: 0.8648 - accuracy: 0.3881 - val_loss: 0.8410 - val_accuracy: 0.3832 - _timestamp: 1651576746.0000 - _runtime: 685.0000\n",
            "Epoch 4/15\n",
            "691/691 [==============================] - 223s 323ms/step - loss: 0.8671 - accuracy: 0.3861 - val_loss: 0.8543 - val_accuracy: 0.3733 - _timestamp: 1651576969.0000 - _runtime: 908.0000\n",
            "Epoch 5/15\n",
            "691/691 [==============================] - 223s 322ms/step - loss: 0.8704 - accuracy: 0.3838 - val_loss: 0.8482 - val_accuracy: 0.3818 - _timestamp: 1651577192.0000 - _runtime: 1131.0000\n",
            "Epoch 6/15\n",
            "691/691 [==============================] - 224s 324ms/step - loss: 0.8628 - accuracy: 0.3875 - val_loss: 0.8492 - val_accuracy: 0.3775 - _timestamp: 1651577416.0000 - _runtime: 1355.0000\n",
            "Epoch 7/15\n",
            "691/691 [==============================] - 223s 323ms/step - loss: 0.8617 - accuracy: 0.3867 - val_loss: 0.8614 - val_accuracy: 0.3700 - _timestamp: 1651577639.0000 - _runtime: 1578.0000\n",
            "Epoch 8/15\n",
            "691/691 [==============================] - 226s 327ms/step - loss: 0.8691 - accuracy: 0.3810 - val_loss: 0.8562 - val_accuracy: 0.3729 - _timestamp: 1651577865.0000 - _runtime: 1804.0000\n",
            "Epoch 9/15\n",
            "691/691 [==============================] - 225s 326ms/step - loss: 0.8891 - accuracy: 0.3698 - val_loss: 0.8731 - val_accuracy: 0.3626 - _timestamp: 1651578090.0000 - _runtime: 2029.0000\n",
            "Epoch 10/15\n",
            "691/691 [==============================] - 224s 324ms/step - loss: 0.8826 - accuracy: 0.3723 - val_loss: 0.8723 - val_accuracy: 0.3648 - _timestamp: 1651578314.0000 - _runtime: 2253.0000\n",
            "Epoch 11/15\n",
            "691/691 [==============================] - 225s 326ms/step - loss: 0.8792 - accuracy: 0.3745 - val_loss: 0.8655 - val_accuracy: 0.3687 - _timestamp: 1651578539.0000 - _runtime: 2478.0000\n",
            "Epoch 12/15\n",
            "691/691 [==============================] - 227s 328ms/step - loss: 0.8784 - accuracy: 0.3748 - val_loss: 0.8689 - val_accuracy: 0.3651 - _timestamp: 1651578765.0000 - _runtime: 2704.0000\n",
            "Epoch 13/15\n",
            "691/691 [==============================] - 227s 328ms/step - loss: 0.8780 - accuracy: 0.3750 - val_loss: 0.8735 - val_accuracy: 0.3647 - _timestamp: 1651578992.0000 - _runtime: 2931.0000\n",
            "Epoch 14/15\n",
            "691/691 [==============================] - 226s 327ms/step - loss: 0.8810 - accuracy: 0.3733 - val_loss: 0.8697 - val_accuracy: 0.3681 - _timestamp: 1651579218.0000 - _runtime: 3157.0000\n",
            "Epoch 15/15\n",
            "691/691 [==============================] - 226s 327ms/step - loss: 0.8837 - accuracy: 0.3735 - val_loss: 0.8455 - val_accuracy: 0.3743 - _timestamp: 1651579444.0000 - _runtime: 3383.0000\n",
            "Completed ! \n"
          ]
        },
        {
          "output_type": "display_data",
          "data": {
            "text/plain": [
              "<IPython.core.display.HTML object>"
            ],
            "text/html": [
              "Waiting for W&B process to finish... <strong style=\"color:green\">(success).</strong>"
            ]
          },
          "metadata": {}
        },
        {
          "output_type": "display_data",
          "data": {
            "text/plain": [
              "VBox(children=(Label(value='3.322 MB of 3.322 MB uploaded (0.000 MB deduped)\\r'), FloatProgress(value=1.0, max…"
            ],
            "application/vnd.jupyter.widget-view+json": {
              "version_major": 2,
              "version_minor": 0,
              "model_id": "e6b492e6c0754890ad1487aae673fa16"
            }
          },
          "metadata": {}
        },
        {
          "output_type": "display_data",
          "data": {
            "text/plain": [
              "<IPython.core.display.HTML object>"
            ],
            "text/html": [
              "<style>\n",
              "    table.wandb td:nth-child(1) { padding: 0 10px; text-align: right }\n",
              "    .wandb-row { display: flex; flex-direction: row; flex-wrap: wrap; width: 100% }\n",
              "    .wandb-col { display: flex; flex-direction: column; flex-basis: 100%; flex: 1; padding: 10px; }\n",
              "    </style>\n",
              "<div class=\"wandb-row\"><div class=\"wandb-col\"><h3>Run history:</h3><br/><table class=\"wandb\"><tr><td>accuracy</td><td>▁▆██▇██▇▅▆▆▆▆▆▆</td></tr><tr><td>epoch</td><td>▁▁▂▃▃▃▄▅▅▅▆▇▇▇█</td></tr><tr><td>loss</td><td>█▃▁▁▂▁▁▂▃▃▂▂▂▃▃</td></tr><tr><td>val_accuracy</td><td>▃██▅█▆▃▄▁▂▃▂▂▃▅</td></tr><tr><td>val_loss</td><td>▇▂▁▄▃▃▅▄██▆▇█▇▂</td></tr></table><br/></div><div class=\"wandb-col\"><h3>Run summary:</h3><br/><table class=\"wandb\"><tr><td>accuracy</td><td>0.37346</td></tr><tr><td>best_epoch</td><td>2</td></tr><tr><td>best_val_accuracy</td><td>0.3832</td></tr><tr><td>epoch</td><td>14</td></tr><tr><td>loss</td><td>0.8837</td></tr><tr><td>val_accuracy</td><td>0.37426</td></tr><tr><td>val_loss</td><td>0.8455</td></tr></table><br/></div></div>"
            ]
          },
          "metadata": {}
        },
        {
          "output_type": "display_data",
          "data": {
            "text/plain": [
              "<IPython.core.display.HTML object>"
            ],
            "text/html": [
              "Synced <strong style=\"color:#cdcd00\">cs6910-AS3-PA</strong>: <a href=\"https://wandb.ai/pandp/CS6910-AS3/runs/ix2tgrsw\" target=\"_blank\">https://wandb.ai/pandp/CS6910-AS3/runs/ix2tgrsw</a><br/>Synced 5 W&B file(s), 1 media file(s), 0 artifact file(s) and 1 other file(s)"
            ]
          },
          "metadata": {}
        },
        {
          "output_type": "display_data",
          "data": {
            "text/plain": [
              "<IPython.core.display.HTML object>"
            ],
            "text/html": [
              "Find logs at: <code>./wandb/run-20220503_110741-ix2tgrsw/logs</code>"
            ]
          },
          "metadata": {}
        },
        {
          "output_type": "stream",
          "name": "stderr",
          "text": [
            "\u001b[34m\u001b[1mwandb\u001b[0m: Agent Starting Run: g9bd8c2f with config:\n",
            "\u001b[34m\u001b[1mwandb\u001b[0m: \tcell: RNN\n",
            "\u001b[34m\u001b[1mwandb\u001b[0m: \tdense_sz: 128\n",
            "\u001b[34m\u001b[1mwandb\u001b[0m: \tdp: 0.25\n",
            "\u001b[34m\u001b[1mwandb\u001b[0m: \tedls: 2\n",
            "\u001b[34m\u001b[1mwandb\u001b[0m: \temb_sz: 128\n",
            "\u001b[34m\u001b[1mwandb\u001b[0m: \tepochs: 15\n",
            "\u001b[34m\u001b[1mwandb\u001b[0m: \tlr: 0.001\n",
            "\u001b[34m\u001b[1mwandb\u001b[0m: \tnunits: 128\n"
          ]
        },
        {
          "output_type": "display_data",
          "data": {
            "text/plain": [
              "<IPython.core.display.HTML object>"
            ],
            "text/html": [
              "Tracking run with wandb version 0.12.15"
            ]
          },
          "metadata": {}
        },
        {
          "output_type": "display_data",
          "data": {
            "text/plain": [
              "<IPython.core.display.HTML object>"
            ],
            "text/html": [
              "Run data is saved locally in <code>/content/wandb/run-20220503_120426-g9bd8c2f</code>"
            ]
          },
          "metadata": {}
        },
        {
          "output_type": "display_data",
          "data": {
            "text/plain": [
              "<IPython.core.display.HTML object>"
            ],
            "text/html": [
              "Syncing run <strong><a href=\"https://wandb.ai/pandp/CS6910-AS3/runs/g9bd8c2f\" target=\"_blank\">cs6910-AS3-PA</a></strong> to <a href=\"https://wandb.ai/pandp/CS6910-AS3\" target=\"_blank\">Weights & Biases</a> (<a href=\"https://wandb.me/run\" target=\"_blank\">docs</a>)<br/>Sweep page:  <a href=\"https://wandb.ai/pandp/CS6910-AS3/sweeps/3sng050k\" target=\"_blank\">https://wandb.ai/pandp/CS6910-AS3/sweeps/3sng050k</a>"
            ]
          },
          "metadata": {}
        },
        {
          "output_type": "stream",
          "name": "stdout",
          "text": [
            "Build Sucessfully\n",
            "Epoch 1/15\n",
            "691/691 [==============================] - 118s 164ms/step - loss: 0.7728 - accuracy: 0.4659 - val_loss: 0.5220 - val_accuracy: 0.5932 - _timestamp: 1651579589.0000 - _runtime: 123.0000\n",
            "Epoch 2/15\n",
            "691/691 [==============================] - 112s 162ms/step - loss: 0.4695 - accuracy: 0.6417 - val_loss: 0.3923 - val_accuracy: 0.6817 - _timestamp: 1651579701.0000 - _runtime: 235.0000\n",
            "Epoch 3/15\n",
            "691/691 [==============================] - 112s 163ms/step - loss: 0.3820 - accuracy: 0.7009 - val_loss: 0.3335 - val_accuracy: 0.7292 - _timestamp: 1651579813.0000 - _runtime: 347.0000\n",
            "Epoch 4/15\n",
            "691/691 [==============================] - 112s 162ms/step - loss: 0.3394 - accuracy: 0.7309 - val_loss: 0.3199 - val_accuracy: 0.7418 - _timestamp: 1651579925.0000 - _runtime: 459.0000\n",
            "Epoch 5/15\n",
            "691/691 [==============================] - 112s 163ms/step - loss: 0.3123 - accuracy: 0.7509 - val_loss: 0.2949 - val_accuracy: 0.7572 - _timestamp: 1651580038.0000 - _runtime: 572.0000\n",
            "Epoch 6/15\n",
            "691/691 [==============================] - 112s 163ms/step - loss: 0.2915 - accuracy: 0.7658 - val_loss: 0.2855 - val_accuracy: 0.7673 - _timestamp: 1651580150.0000 - _runtime: 684.0000\n",
            "Epoch 7/15\n",
            "691/691 [==============================] - 112s 162ms/step - loss: 0.2777 - accuracy: 0.7761 - val_loss: 0.2779 - val_accuracy: 0.7734 - _timestamp: 1651580262.0000 - _runtime: 796.0000\n",
            "Epoch 8/15\n",
            "691/691 [==============================] - 113s 164ms/step - loss: 0.2668 - accuracy: 0.7839 - val_loss: 0.2741 - val_accuracy: 0.7754 - _timestamp: 1651580376.0000 - _runtime: 910.0000\n",
            "Epoch 9/15\n",
            "691/691 [==============================] - 112s 162ms/step - loss: 0.2557 - accuracy: 0.7932 - val_loss: 0.2655 - val_accuracy: 0.7825 - _timestamp: 1651580487.0000 - _runtime: 1021.0000\n",
            "Epoch 10/15\n",
            "691/691 [==============================] - 113s 163ms/step - loss: 0.2481 - accuracy: 0.7983 - val_loss: 0.2672 - val_accuracy: 0.7795 - _timestamp: 1651580600.0000 - _runtime: 1134.0000\n",
            "Epoch 11/15\n",
            "691/691 [==============================] - 113s 163ms/step - loss: 0.2392 - accuracy: 0.8053 - val_loss: 0.2645 - val_accuracy: 0.7815 - _timestamp: 1651580713.0000 - _runtime: 1247.0000\n",
            "Epoch 12/15\n",
            "691/691 [==============================] - 112s 163ms/step - loss: 0.2333 - accuracy: 0.8102 - val_loss: 0.2548 - val_accuracy: 0.7921 - _timestamp: 1651580825.0000 - _runtime: 1359.0000\n",
            "Epoch 13/15\n",
            "691/691 [==============================] - 113s 163ms/step - loss: 0.2280 - accuracy: 0.8133 - val_loss: 0.2593 - val_accuracy: 0.7881 - _timestamp: 1651580938.0000 - _runtime: 1472.0000\n",
            "Epoch 14/15\n",
            "691/691 [==============================] - 113s 163ms/step - loss: 0.2227 - accuracy: 0.8178 - val_loss: 0.2483 - val_accuracy: 0.7966 - _timestamp: 1651581050.0000 - _runtime: 1584.0000\n",
            "Epoch 15/15\n",
            "691/691 [==============================] - 112s 163ms/step - loss: 0.2185 - accuracy: 0.8209 - val_loss: 0.2515 - val_accuracy: 0.7948 - _timestamp: 1651581163.0000 - _runtime: 1697.0000\n",
            "Completed ! \n"
          ]
        },
        {
          "output_type": "display_data",
          "data": {
            "text/plain": [
              "<IPython.core.display.HTML object>"
            ],
            "text/html": [
              "Waiting for W&B process to finish... <strong style=\"color:green\">(success).</strong>"
            ]
          },
          "metadata": {}
        },
        {
          "output_type": "display_data",
          "data": {
            "text/plain": [
              "VBox(children=(Label(value='2.019 MB of 2.019 MB uploaded (0.000 MB deduped)\\r'), FloatProgress(value=1.0, max…"
            ],
            "application/vnd.jupyter.widget-view+json": {
              "version_major": 2,
              "version_minor": 0,
              "model_id": "eaaff79ed1d74a5388d3b7583a704709"
            }
          },
          "metadata": {}
        },
        {
          "output_type": "display_data",
          "data": {
            "text/plain": [
              "<IPython.core.display.HTML object>"
            ],
            "text/html": [
              "<style>\n",
              "    table.wandb td:nth-child(1) { padding: 0 10px; text-align: right }\n",
              "    .wandb-row { display: flex; flex-direction: row; flex-wrap: wrap; width: 100% }\n",
              "    .wandb-col { display: flex; flex-direction: column; flex-basis: 100%; flex: 1; padding: 10px; }\n",
              "    </style>\n",
              "<div class=\"wandb-row\"><div class=\"wandb-col\"><h3>Run history:</h3><br/><table class=\"wandb\"><tr><td>accuracy</td><td>▁▄▆▆▇▇▇▇▇██████</td></tr><tr><td>epoch</td><td>▁▁▂▃▃▃▄▅▅▅▆▇▇▇█</td></tr><tr><td>loss</td><td>█▄▃▃▂▂▂▂▁▁▁▁▁▁▁</td></tr><tr><td>val_accuracy</td><td>▁▄▆▆▇▇▇▇█▇▇████</td></tr><tr><td>val_loss</td><td>█▅▃▃▂▂▂▂▁▁▁▁▁▁▁</td></tr></table><br/></div><div class=\"wandb-col\"><h3>Run summary:</h3><br/><table class=\"wandb\"><tr><td>accuracy</td><td>0.8209</td></tr><tr><td>best_epoch</td><td>13</td></tr><tr><td>best_val_accuracy</td><td>0.79662</td></tr><tr><td>epoch</td><td>14</td></tr><tr><td>loss</td><td>0.21851</td></tr><tr><td>val_accuracy</td><td>0.79477</td></tr><tr><td>val_loss</td><td>0.25148</td></tr></table><br/></div></div>"
            ]
          },
          "metadata": {}
        },
        {
          "output_type": "display_data",
          "data": {
            "text/plain": [
              "<IPython.core.display.HTML object>"
            ],
            "text/html": [
              "Synced <strong style=\"color:#cdcd00\">cs6910-AS3-PA</strong>: <a href=\"https://wandb.ai/pandp/CS6910-AS3/runs/g9bd8c2f\" target=\"_blank\">https://wandb.ai/pandp/CS6910-AS3/runs/g9bd8c2f</a><br/>Synced 5 W&B file(s), 1 media file(s), 0 artifact file(s) and 1 other file(s)"
            ]
          },
          "metadata": {}
        },
        {
          "output_type": "display_data",
          "data": {
            "text/plain": [
              "<IPython.core.display.HTML object>"
            ],
            "text/html": [
              "Find logs at: <code>./wandb/run-20220503_120426-g9bd8c2f/logs</code>"
            ]
          },
          "metadata": {}
        },
        {
          "output_type": "stream",
          "name": "stderr",
          "text": [
            "\u001b[34m\u001b[1mwandb\u001b[0m: Agent Starting Run: raj30r9m with config:\n",
            "\u001b[34m\u001b[1mwandb\u001b[0m: \tcell: LSTM\n",
            "\u001b[34m\u001b[1mwandb\u001b[0m: \tdense_sz: 128\n",
            "\u001b[34m\u001b[1mwandb\u001b[0m: \tdp: 0.4\n",
            "\u001b[34m\u001b[1mwandb\u001b[0m: \tedls: 4\n",
            "\u001b[34m\u001b[1mwandb\u001b[0m: \temb_sz: 32\n",
            "\u001b[34m\u001b[1mwandb\u001b[0m: \tepochs: 15\n",
            "\u001b[34m\u001b[1mwandb\u001b[0m: \tlr: 0.001\n",
            "\u001b[34m\u001b[1mwandb\u001b[0m: \tnunits: 128\n"
          ]
        },
        {
          "output_type": "display_data",
          "data": {
            "text/plain": [
              "<IPython.core.display.HTML object>"
            ],
            "text/html": [
              "Tracking run with wandb version 0.12.15"
            ]
          },
          "metadata": {}
        },
        {
          "output_type": "display_data",
          "data": {
            "text/plain": [
              "<IPython.core.display.HTML object>"
            ],
            "text/html": [
              "Run data is saved locally in <code>/content/wandb/run-20220503_123307-raj30r9m</code>"
            ]
          },
          "metadata": {}
        },
        {
          "output_type": "display_data",
          "data": {
            "text/plain": [
              "<IPython.core.display.HTML object>"
            ],
            "text/html": [
              "Syncing run <strong><a href=\"https://wandb.ai/pandp/CS6910-AS3/runs/raj30r9m\" target=\"_blank\">cs6910-AS3-PA</a></strong> to <a href=\"https://wandb.ai/pandp/CS6910-AS3\" target=\"_blank\">Weights & Biases</a> (<a href=\"https://wandb.me/run\" target=\"_blank\">docs</a>)<br/>Sweep page:  <a href=\"https://wandb.ai/pandp/CS6910-AS3/sweeps/3sng050k\" target=\"_blank\">https://wandb.ai/pandp/CS6910-AS3/sweeps/3sng050k</a>"
            ]
          },
          "metadata": {}
        },
        {
          "output_type": "stream",
          "name": "stdout",
          "text": [
            "Build Sucessfully\n",
            "Epoch 1/15\n",
            "691/691 [==============================] - 100s 95ms/step - loss: 1.0225 - accuracy: 0.3047 - val_loss: 0.7830 - val_accuracy: 0.4096 - _timestamp: 1651581304.0000 - _runtime: 117.0000\n",
            "Epoch 2/15\n",
            "691/691 [==============================] - 55s 79ms/step - loss: 0.7325 - accuracy: 0.4610 - val_loss: 0.6178 - val_accuracy: 0.5228 - _timestamp: 1651581359.0000 - _runtime: 172.0000\n",
            "Epoch 3/15\n",
            "691/691 [==============================] - 55s 79ms/step - loss: 0.5878 - accuracy: 0.5521 - val_loss: 0.4914 - val_accuracy: 0.6100 - _timestamp: 1651581413.0000 - _runtime: 226.0000\n",
            "Epoch 4/15\n",
            "691/691 [==============================] - 55s 79ms/step - loss: 0.4747 - accuracy: 0.6320 - val_loss: 0.4019 - val_accuracy: 0.6814 - _timestamp: 1651581468.0000 - _runtime: 281.0000\n",
            "Epoch 5/15\n",
            "691/691 [==============================] - 54s 79ms/step - loss: 0.3996 - accuracy: 0.6897 - val_loss: 0.3435 - val_accuracy: 0.7250 - _timestamp: 1651581522.0000 - _runtime: 335.0000\n",
            "Epoch 6/15\n",
            "691/691 [==============================] - 55s 79ms/step - loss: 0.3433 - accuracy: 0.7320 - val_loss: 0.3086 - val_accuracy: 0.7533 - _timestamp: 1651581577.0000 - _runtime: 390.0000\n",
            "Epoch 7/15\n",
            "691/691 [==============================] - 55s 79ms/step - loss: 0.2997 - accuracy: 0.7638 - val_loss: 0.2792 - val_accuracy: 0.7765 - _timestamp: 1651581632.0000 - _runtime: 445.0000\n",
            "Epoch 8/15\n",
            "691/691 [==============================] - 55s 79ms/step - loss: 0.2658 - accuracy: 0.7895 - val_loss: 0.2572 - val_accuracy: 0.7942 - _timestamp: 1651581687.0000 - _runtime: 500.0000\n",
            "Epoch 9/15\n",
            "691/691 [==============================] - 55s 79ms/step - loss: 0.2376 - accuracy: 0.8110 - val_loss: 0.2386 - val_accuracy: 0.8090 - _timestamp: 1651581741.0000 - _runtime: 554.0000\n",
            "Epoch 10/15\n",
            "691/691 [==============================] - 55s 79ms/step - loss: 0.2149 - accuracy: 0.8280 - val_loss: 0.2231 - val_accuracy: 0.8213 - _timestamp: 1651581796.0000 - _runtime: 609.0000\n",
            "Epoch 11/15\n",
            "691/691 [==============================] - 55s 79ms/step - loss: 0.1958 - accuracy: 0.8422 - val_loss: 0.2168 - val_accuracy: 0.8242 - _timestamp: 1651581851.0000 - _runtime: 664.0000\n",
            "Epoch 12/15\n",
            "691/691 [==============================] - 55s 80ms/step - loss: 0.1796 - accuracy: 0.8554 - val_loss: 0.2095 - val_accuracy: 0.8313 - _timestamp: 1651581906.0000 - _runtime: 719.0000\n",
            "Epoch 13/15\n",
            "691/691 [==============================] - 55s 80ms/step - loss: 0.1647 - accuracy: 0.8661 - val_loss: 0.2082 - val_accuracy: 0.8319 - _timestamp: 1651581961.0000 - _runtime: 774.0000\n",
            "Epoch 14/15\n",
            "691/691 [==============================] - 55s 79ms/step - loss: 0.1529 - accuracy: 0.8758 - val_loss: 0.2037 - val_accuracy: 0.8394 - _timestamp: 1651582015.0000 - _runtime: 828.0000\n",
            "Epoch 15/15\n",
            "691/691 [==============================] - 55s 79ms/step - loss: 0.1415 - accuracy: 0.8847 - val_loss: 0.2041 - val_accuracy: 0.8367 - _timestamp: 1651582070.0000 - _runtime: 883.0000\n",
            "Completed ! \n"
          ]
        },
        {
          "output_type": "display_data",
          "data": {
            "text/plain": [
              "<IPython.core.display.HTML object>"
            ],
            "text/html": [
              "Waiting for W&B process to finish... <strong style=\"color:green\">(success).</strong>"
            ]
          },
          "metadata": {}
        },
        {
          "output_type": "display_data",
          "data": {
            "text/plain": [
              "VBox(children=(Label(value='11.387 MB of 11.387 MB uploaded (0.000 MB deduped)\\r'), FloatProgress(value=1.0, m…"
            ],
            "application/vnd.jupyter.widget-view+json": {
              "version_major": 2,
              "version_minor": 0,
              "model_id": "e1cafa27cfe6445fbd6e79bf29e81372"
            }
          },
          "metadata": {}
        },
        {
          "output_type": "display_data",
          "data": {
            "text/plain": [
              "<IPython.core.display.HTML object>"
            ],
            "text/html": [
              "<style>\n",
              "    table.wandb td:nth-child(1) { padding: 0 10px; text-align: right }\n",
              "    .wandb-row { display: flex; flex-direction: row; flex-wrap: wrap; width: 100% }\n",
              "    .wandb-col { display: flex; flex-direction: column; flex-basis: 100%; flex: 1; padding: 10px; }\n",
              "    </style>\n",
              "<div class=\"wandb-row\"><div class=\"wandb-col\"><h3>Run history:</h3><br/><table class=\"wandb\"><tr><td>accuracy</td><td>▁▃▄▅▆▆▇▇▇▇▇████</td></tr><tr><td>epoch</td><td>▁▁▂▃▃▃▄▅▅▅▆▇▇▇█</td></tr><tr><td>loss</td><td>█▆▅▄▃▃▂▂▂▂▁▁▁▁▁</td></tr><tr><td>val_accuracy</td><td>▁▃▄▅▆▇▇▇███████</td></tr><tr><td>val_loss</td><td>█▆▄▃▃▂▂▂▁▁▁▁▁▁▁</td></tr></table><br/></div><div class=\"wandb-col\"><h3>Run summary:</h3><br/><table class=\"wandb\"><tr><td>accuracy</td><td>0.8847</td></tr><tr><td>best_epoch</td><td>13</td></tr><tr><td>best_val_accuracy</td><td>0.83936</td></tr><tr><td>epoch</td><td>14</td></tr><tr><td>loss</td><td>0.14147</td></tr><tr><td>val_accuracy</td><td>0.83674</td></tr><tr><td>val_loss</td><td>0.20413</td></tr></table><br/></div></div>"
            ]
          },
          "metadata": {}
        },
        {
          "output_type": "display_data",
          "data": {
            "text/plain": [
              "<IPython.core.display.HTML object>"
            ],
            "text/html": [
              "Synced <strong style=\"color:#cdcd00\">cs6910-AS3-PA</strong>: <a href=\"https://wandb.ai/pandp/CS6910-AS3/runs/raj30r9m\" target=\"_blank\">https://wandb.ai/pandp/CS6910-AS3/runs/raj30r9m</a><br/>Synced 5 W&B file(s), 1 media file(s), 0 artifact file(s) and 1 other file(s)"
            ]
          },
          "metadata": {}
        },
        {
          "output_type": "display_data",
          "data": {
            "text/plain": [
              "<IPython.core.display.HTML object>"
            ],
            "text/html": [
              "Find logs at: <code>./wandb/run-20220503_123307-raj30r9m/logs</code>"
            ]
          },
          "metadata": {}
        },
        {
          "output_type": "stream",
          "name": "stderr",
          "text": [
            "\u001b[34m\u001b[1mwandb\u001b[0m: Agent Starting Run: awe8oy00 with config:\n",
            "\u001b[34m\u001b[1mwandb\u001b[0m: \tcell: GRU\n",
            "\u001b[34m\u001b[1mwandb\u001b[0m: \tdense_sz: 128\n",
            "\u001b[34m\u001b[1mwandb\u001b[0m: \tdp: 0.25\n",
            "\u001b[34m\u001b[1mwandb\u001b[0m: \tedls: 3\n",
            "\u001b[34m\u001b[1mwandb\u001b[0m: \temb_sz: 64\n",
            "\u001b[34m\u001b[1mwandb\u001b[0m: \tepochs: 15\n",
            "\u001b[34m\u001b[1mwandb\u001b[0m: \tlr: 0.001\n",
            "\u001b[34m\u001b[1mwandb\u001b[0m: \tnunits: 256\n"
          ]
        },
        {
          "output_type": "display_data",
          "data": {
            "text/plain": [
              "<IPython.core.display.HTML object>"
            ],
            "text/html": [
              "Tracking run with wandb version 0.12.15"
            ]
          },
          "metadata": {}
        },
        {
          "output_type": "display_data",
          "data": {
            "text/plain": [
              "<IPython.core.display.HTML object>"
            ],
            "text/html": [
              "Run data is saved locally in <code>/content/wandb/run-20220503_124824-awe8oy00</code>"
            ]
          },
          "metadata": {}
        },
        {
          "output_type": "display_data",
          "data": {
            "text/plain": [
              "<IPython.core.display.HTML object>"
            ],
            "text/html": [
              "Syncing run <strong><a href=\"https://wandb.ai/pandp/CS6910-AS3/runs/awe8oy00\" target=\"_blank\">cs6910-AS3-PA</a></strong> to <a href=\"https://wandb.ai/pandp/CS6910-AS3\" target=\"_blank\">Weights & Biases</a> (<a href=\"https://wandb.me/run\" target=\"_blank\">docs</a>)<br/>Sweep page:  <a href=\"https://wandb.ai/pandp/CS6910-AS3/sweeps/3sng050k\" target=\"_blank\">https://wandb.ai/pandp/CS6910-AS3/sweeps/3sng050k</a>"
            ]
          },
          "metadata": {}
        },
        {
          "output_type": "stream",
          "name": "stdout",
          "text": [
            "Build Sucessfully\n",
            "Epoch 1/15\n",
            "691/691 [==============================] - 81s 80ms/step - loss: 0.7805 - accuracy: 0.4592 - val_loss: 0.4034 - val_accuracy: 0.6883 - _timestamp: 1651582200.0000 - _runtime: 96.0000\n",
            "Epoch 2/15\n",
            "691/691 [==============================] - 47s 67ms/step - loss: 0.3014 - accuracy: 0.7662 - val_loss: 0.2217 - val_accuracy: 0.8202 - _timestamp: 1651582247.0000 - _runtime: 143.0000\n",
            "Epoch 3/15\n",
            "691/691 [==============================] - 47s 67ms/step - loss: 0.1990 - accuracy: 0.8411 - val_loss: 0.1889 - val_accuracy: 0.8450 - _timestamp: 1651582293.0000 - _runtime: 189.0000\n",
            "Epoch 4/15\n",
            "691/691 [==============================] - 47s 67ms/step - loss: 0.1579 - accuracy: 0.8726 - val_loss: 0.1773 - val_accuracy: 0.8562 - _timestamp: 1651582340.0000 - _runtime: 236.0000\n",
            "Epoch 5/15\n",
            "691/691 [==============================] - 47s 68ms/step - loss: 0.1328 - accuracy: 0.8917 - val_loss: 0.1706 - val_accuracy: 0.8603 - _timestamp: 1651582387.0000 - _runtime: 283.0000\n",
            "Epoch 6/15\n",
            "691/691 [==============================] - 47s 68ms/step - loss: 0.1131 - accuracy: 0.9070 - val_loss: 0.1652 - val_accuracy: 0.8651 - _timestamp: 1651582434.0000 - _runtime: 330.0000\n",
            "Epoch 7/15\n",
            "691/691 [==============================] - 47s 68ms/step - loss: 0.0981 - accuracy: 0.9186 - val_loss: 0.1720 - val_accuracy: 0.8655 - _timestamp: 1651582481.0000 - _runtime: 377.0000\n",
            "Epoch 8/15\n",
            "691/691 [==============================] - 47s 68ms/step - loss: 0.0858 - accuracy: 0.9284 - val_loss: 0.1772 - val_accuracy: 0.8655 - _timestamp: 1651582528.0000 - _runtime: 424.0000\n",
            "Epoch 9/15\n",
            "691/691 [==============================] - 47s 68ms/step - loss: 0.0765 - accuracy: 0.9351 - val_loss: 0.1796 - val_accuracy: 0.8690 - _timestamp: 1651582575.0000 - _runtime: 471.0000\n",
            "Epoch 10/15\n",
            "691/691 [==============================] - 47s 68ms/step - loss: 0.0670 - accuracy: 0.9429 - val_loss: 0.1882 - val_accuracy: 0.8660 - _timestamp: 1651582622.0000 - _runtime: 518.0000\n",
            "Epoch 11/15\n",
            "691/691 [==============================] - 46s 67ms/step - loss: 0.0611 - accuracy: 0.9476 - val_loss: 0.1887 - val_accuracy: 0.8686 - _timestamp: 1651582668.0000 - _runtime: 564.0000\n",
            "Epoch 12/15\n",
            "691/691 [==============================] - 47s 67ms/step - loss: 0.0558 - accuracy: 0.9519 - val_loss: 0.2021 - val_accuracy: 0.8630 - _timestamp: 1651582715.0000 - _runtime: 611.0000\n",
            "Epoch 13/15\n",
            "691/691 [==============================] - 47s 68ms/step - loss: 0.0507 - accuracy: 0.9559 - val_loss: 0.2053 - val_accuracy: 0.8659 - _timestamp: 1651582762.0000 - _runtime: 658.0000\n",
            "Epoch 14/15\n",
            "691/691 [==============================] - 47s 68ms/step - loss: 0.0477 - accuracy: 0.9586 - val_loss: 0.2095 - val_accuracy: 0.8649 - _timestamp: 1651582808.0000 - _runtime: 704.0000\n",
            "Epoch 15/15\n",
            "691/691 [==============================] - 47s 68ms/step - loss: 0.0445 - accuracy: 0.9614 - val_loss: 0.2123 - val_accuracy: 0.8662 - _timestamp: 1651582855.0000 - _runtime: 751.0000\n",
            "Completed ! \n"
          ]
        },
        {
          "output_type": "display_data",
          "data": {
            "text/plain": [
              "<IPython.core.display.HTML object>"
            ],
            "text/html": [
              "Waiting for W&B process to finish... <strong style=\"color:green\">(success).</strong>"
            ]
          },
          "metadata": {}
        },
        {
          "output_type": "display_data",
          "data": {
            "text/plain": [
              "VBox(children=(Label(value='24.389 MB of 24.389 MB uploaded (0.000 MB deduped)\\r'), FloatProgress(value=1.0, m…"
            ],
            "application/vnd.jupyter.widget-view+json": {
              "version_major": 2,
              "version_minor": 0,
              "model_id": "8c6dab1804734a1697555ecf1bdc846e"
            }
          },
          "metadata": {}
        },
        {
          "output_type": "display_data",
          "data": {
            "text/plain": [
              "<IPython.core.display.HTML object>"
            ],
            "text/html": [
              "<style>\n",
              "    table.wandb td:nth-child(1) { padding: 0 10px; text-align: right }\n",
              "    .wandb-row { display: flex; flex-direction: row; flex-wrap: wrap; width: 100% }\n",
              "    .wandb-col { display: flex; flex-direction: column; flex-basis: 100%; flex: 1; padding: 10px; }\n",
              "    </style>\n",
              "<div class=\"wandb-row\"><div class=\"wandb-col\"><h3>Run history:</h3><br/><table class=\"wandb\"><tr><td>accuracy</td><td>▁▅▆▇▇▇▇████████</td></tr><tr><td>epoch</td><td>▁▁▂▃▃▃▄▅▅▅▆▇▇▇█</td></tr><tr><td>loss</td><td>█▃▂▂▂▂▂▁▁▁▁▁▁▁▁</td></tr><tr><td>val_accuracy</td><td>▁▆▇████████████</td></tr><tr><td>val_loss</td><td>█▃▂▁▁▁▁▁▁▂▂▂▂▂▂</td></tr></table><br/></div><div class=\"wandb-col\"><h3>Run summary:</h3><br/><table class=\"wandb\"><tr><td>accuracy</td><td>0.96139</td></tr><tr><td>best_epoch</td><td>8</td></tr><tr><td>best_val_accuracy</td><td>0.86895</td></tr><tr><td>epoch</td><td>14</td></tr><tr><td>loss</td><td>0.0445</td></tr><tr><td>val_accuracy</td><td>0.86618</td></tr><tr><td>val_loss</td><td>0.21234</td></tr></table><br/></div></div>"
            ]
          },
          "metadata": {}
        },
        {
          "output_type": "display_data",
          "data": {
            "text/plain": [
              "<IPython.core.display.HTML object>"
            ],
            "text/html": [
              "Synced <strong style=\"color:#cdcd00\">cs6910-AS3-PA</strong>: <a href=\"https://wandb.ai/pandp/CS6910-AS3/runs/awe8oy00\" target=\"_blank\">https://wandb.ai/pandp/CS6910-AS3/runs/awe8oy00</a><br/>Synced 5 W&B file(s), 1 media file(s), 0 artifact file(s) and 1 other file(s)"
            ]
          },
          "metadata": {}
        },
        {
          "output_type": "display_data",
          "data": {
            "text/plain": [
              "<IPython.core.display.HTML object>"
            ],
            "text/html": [
              "Find logs at: <code>./wandb/run-20220503_124824-awe8oy00/logs</code>"
            ]
          },
          "metadata": {}
        },
        {
          "output_type": "stream",
          "name": "stderr",
          "text": [
            "\u001b[34m\u001b[1mwandb\u001b[0m: Agent Starting Run: whocoyst with config:\n",
            "\u001b[34m\u001b[1mwandb\u001b[0m: \tcell: GRU\n",
            "\u001b[34m\u001b[1mwandb\u001b[0m: \tdense_sz: 512\n",
            "\u001b[34m\u001b[1mwandb\u001b[0m: \tdp: 0.4\n",
            "\u001b[34m\u001b[1mwandb\u001b[0m: \tedls: 3\n",
            "\u001b[34m\u001b[1mwandb\u001b[0m: \temb_sz: 64\n",
            "\u001b[34m\u001b[1mwandb\u001b[0m: \tepochs: 20\n",
            "\u001b[34m\u001b[1mwandb\u001b[0m: \tlr: 0.005\n",
            "\u001b[34m\u001b[1mwandb\u001b[0m: \tnunits: 256\n"
          ]
        },
        {
          "output_type": "display_data",
          "data": {
            "text/plain": [
              "<IPython.core.display.HTML object>"
            ],
            "text/html": [
              "Tracking run with wandb version 0.12.15"
            ]
          },
          "metadata": {}
        },
        {
          "output_type": "display_data",
          "data": {
            "text/plain": [
              "<IPython.core.display.HTML object>"
            ],
            "text/html": [
              "Run data is saved locally in <code>/content/wandb/run-20220503_130135-whocoyst</code>"
            ]
          },
          "metadata": {}
        },
        {
          "output_type": "display_data",
          "data": {
            "text/plain": [
              "<IPython.core.display.HTML object>"
            ],
            "text/html": [
              "Syncing run <strong><a href=\"https://wandb.ai/pandp/CS6910-AS3/runs/whocoyst\" target=\"_blank\">cs6910-AS3-PA</a></strong> to <a href=\"https://wandb.ai/pandp/CS6910-AS3\" target=\"_blank\">Weights & Biases</a> (<a href=\"https://wandb.me/run\" target=\"_blank\">docs</a>)<br/>Sweep page:  <a href=\"https://wandb.ai/pandp/CS6910-AS3/sweeps/3sng050k\" target=\"_blank\">https://wandb.ai/pandp/CS6910-AS3/sweeps/3sng050k</a>"
            ]
          },
          "metadata": {}
        },
        {
          "output_type": "stream",
          "name": "stdout",
          "text": [
            "Build Sucessfully\n",
            "Epoch 1/20\n",
            "691/691 [==============================] - 82s 82ms/step - loss: 0.5637 - accuracy: 0.5933 - val_loss: 0.2512 - val_accuracy: 0.7927 - _timestamp: 1651582993.0000 - _runtime: 97.0000\n",
            "Epoch 2/20\n",
            "691/691 [==============================] - 48s 69ms/step - loss: 0.2357 - accuracy: 0.8099 - val_loss: 0.2181 - val_accuracy: 0.8189 - _timestamp: 1651583041.0000 - _runtime: 145.0000\n",
            "Epoch 3/20\n",
            "691/691 [==============================] - 47s 69ms/step - loss: 0.2032 - accuracy: 0.8349 - val_loss: 0.2180 - val_accuracy: 0.8261 - _timestamp: 1651583088.0000 - _runtime: 192.0000\n",
            "Epoch 4/20\n",
            "691/691 [==============================] - 48s 70ms/step - loss: 0.1989 - accuracy: 0.8381 - val_loss: 0.2093 - val_accuracy: 0.8306 - _timestamp: 1651583136.0000 - _runtime: 240.0000\n",
            "Epoch 5/20\n",
            "691/691 [==============================] - 48s 69ms/step - loss: 0.1986 - accuracy: 0.8391 - val_loss: 0.2133 - val_accuracy: 0.8318 - _timestamp: 1651583184.0000 - _runtime: 288.0000\n",
            "Epoch 6/20\n",
            "691/691 [==============================] - 48s 70ms/step - loss: 0.2000 - accuracy: 0.8375 - val_loss: 0.2130 - val_accuracy: 0.8319 - _timestamp: 1651583233.0000 - _runtime: 337.0000\n",
            "Epoch 7/20\n",
            "691/691 [==============================] - 48s 70ms/step - loss: 0.2042 - accuracy: 0.8340 - val_loss: 0.2156 - val_accuracy: 0.8286 - _timestamp: 1651583281.0000 - _runtime: 385.0000\n",
            "Epoch 8/20\n",
            "691/691 [==============================] - 48s 70ms/step - loss: 0.2059 - accuracy: 0.8342 - val_loss: 0.2209 - val_accuracy: 0.8283 - _timestamp: 1651583329.0000 - _runtime: 433.0000\n",
            "Epoch 9/20\n",
            "691/691 [==============================] - 48s 70ms/step - loss: 0.2021 - accuracy: 0.8369 - val_loss: 0.2222 - val_accuracy: 0.8240 - _timestamp: 1651583377.0000 - _runtime: 481.0000\n",
            "Epoch 10/20\n",
            "691/691 [==============================] - 48s 69ms/step - loss: 0.2083 - accuracy: 0.8330 - val_loss: 0.2171 - val_accuracy: 0.8249 - _timestamp: 1651583425.0000 - _runtime: 529.0000\n",
            "Epoch 11/20\n",
            "691/691 [==============================] - 48s 70ms/step - loss: 0.3072 - accuracy: 0.7682 - val_loss: 0.7244 - val_accuracy: 0.4715 - _timestamp: 1651583473.0000 - _runtime: 577.0000\n",
            "Epoch 12/20\n",
            "691/691 [==============================] - 48s 70ms/step - loss: 0.8330 - accuracy: 0.4184 - val_loss: 0.7622 - val_accuracy: 0.4425 - _timestamp: 1651583521.0000 - _runtime: 625.0000\n",
            "Epoch 13/20\n",
            "691/691 [==============================] - 48s 70ms/step - loss: 0.7986 - accuracy: 0.4349 - val_loss: 0.7572 - val_accuracy: 0.4477 - _timestamp: 1651583569.0000 - _runtime: 673.0000\n",
            "Epoch 14/20\n",
            "691/691 [==============================] - 48s 69ms/step - loss: 0.7816 - accuracy: 0.4440 - val_loss: 0.7540 - val_accuracy: 0.4500 - _timestamp: 1651583617.0000 - _runtime: 721.0000\n",
            "Epoch 15/20\n",
            "691/691 [==============================] - 48s 69ms/step - loss: 0.7687 - accuracy: 0.4514 - val_loss: 0.7576 - val_accuracy: 0.4540 - _timestamp: 1651583665.0000 - _runtime: 769.0000\n",
            "Epoch 16/20\n",
            "691/691 [==============================] - 48s 70ms/step - loss: 0.7523 - accuracy: 0.4615 - val_loss: 0.7317 - val_accuracy: 0.4644 - _timestamp: 1651583713.0000 - _runtime: 817.0000\n",
            "Epoch 17/20\n",
            "691/691 [==============================] - 48s 70ms/step - loss: 0.7474 - accuracy: 0.4627 - val_loss: 0.7289 - val_accuracy: 0.4638 - _timestamp: 1651583761.0000 - _runtime: 865.0000\n",
            "Epoch 18/20\n",
            "691/691 [==============================] - 48s 70ms/step - loss: 0.7379 - accuracy: 0.4675 - val_loss: 0.7290 - val_accuracy: 0.4634 - _timestamp: 1651583810.0000 - _runtime: 914.0000\n",
            "Epoch 19/20\n",
            "691/691 [==============================] - 48s 70ms/step - loss: 0.7277 - accuracy: 0.4740 - val_loss: 0.7341 - val_accuracy: 0.4605 - _timestamp: 1651583858.0000 - _runtime: 962.0000\n",
            "Epoch 20/20\n",
            "691/691 [==============================] - 48s 70ms/step - loss: 0.7258 - accuracy: 0.4755 - val_loss: 0.7450 - val_accuracy: 0.4615 - _timestamp: 1651583906.0000 - _runtime: 1010.0000\n",
            "Completed ! \n"
          ]
        },
        {
          "output_type": "display_data",
          "data": {
            "text/plain": [
              "<IPython.core.display.HTML object>"
            ],
            "text/html": [
              "Waiting for W&B process to finish... <strong style=\"color:green\">(success).</strong>"
            ]
          },
          "metadata": {}
        },
        {
          "output_type": "display_data",
          "data": {
            "text/plain": [
              "VBox(children=(Label(value='25.811 MB of 25.811 MB uploaded (0.000 MB deduped)\\r'), FloatProgress(value=1.0, m…"
            ],
            "application/vnd.jupyter.widget-view+json": {
              "version_major": 2,
              "version_minor": 0,
              "model_id": "4d9239bebeda43af8c562c3a0ca18fdc"
            }
          },
          "metadata": {}
        },
        {
          "output_type": "display_data",
          "data": {
            "text/plain": [
              "<IPython.core.display.HTML object>"
            ],
            "text/html": [
              "<style>\n",
              "    table.wandb td:nth-child(1) { padding: 0 10px; text-align: right }\n",
              "    .wandb-row { display: flex; flex-direction: row; flex-wrap: wrap; width: 100% }\n",
              "    .wandb-col { display: flex; flex-direction: column; flex-basis: 100%; flex: 1; padding: 10px; }\n",
              "    </style>\n",
              "<div class=\"wandb-row\"><div class=\"wandb-col\"><h3>Run history:</h3><br/><table class=\"wandb\"><tr><td>accuracy</td><td>▄█████████▇▁▁▁▂▂▂▂▂▂</td></tr><tr><td>epoch</td><td>▁▁▂▂▂▃▃▄▄▄▅▅▅▆▆▇▇▇██</td></tr><tr><td>loss</td><td>▅▁▁▁▁▁▁▁▁▁▂██▇▇▇▇▇▇▇</td></tr><tr><td>val_accuracy</td><td>▇█████████▂▁▁▁▁▁▁▁▁▁</td></tr><tr><td>val_loss</td><td>▂▁▁▁▁▁▁▁▁▁██████████</td></tr></table><br/></div><div class=\"wandb-col\"><h3>Run summary:</h3><br/><table class=\"wandb\"><tr><td>accuracy</td><td>0.47552</td></tr><tr><td>best_epoch</td><td>5</td></tr><tr><td>best_val_accuracy</td><td>0.83186</td></tr><tr><td>epoch</td><td>19</td></tr><tr><td>loss</td><td>0.72584</td></tr><tr><td>val_accuracy</td><td>0.46153</td></tr><tr><td>val_loss</td><td>0.74496</td></tr></table><br/></div></div>"
            ]
          },
          "metadata": {}
        },
        {
          "output_type": "display_data",
          "data": {
            "text/plain": [
              "<IPython.core.display.HTML object>"
            ],
            "text/html": [
              "Synced <strong style=\"color:#cdcd00\">cs6910-AS3-PA</strong>: <a href=\"https://wandb.ai/pandp/CS6910-AS3/runs/whocoyst\" target=\"_blank\">https://wandb.ai/pandp/CS6910-AS3/runs/whocoyst</a><br/>Synced 5 W&B file(s), 1 media file(s), 0 artifact file(s) and 1 other file(s)"
            ]
          },
          "metadata": {}
        },
        {
          "output_type": "display_data",
          "data": {
            "text/plain": [
              "<IPython.core.display.HTML object>"
            ],
            "text/html": [
              "Find logs at: <code>./wandb/run-20220503_130135-whocoyst/logs</code>"
            ]
          },
          "metadata": {}
        },
        {
          "output_type": "stream",
          "name": "stderr",
          "text": [
            "\u001b[34m\u001b[1mwandb\u001b[0m: Agent Starting Run: 64hpjytq with config:\n",
            "\u001b[34m\u001b[1mwandb\u001b[0m: \tcell: GRU\n",
            "\u001b[34m\u001b[1mwandb\u001b[0m: \tdense_sz: 128\n",
            "\u001b[34m\u001b[1mwandb\u001b[0m: \tdp: 0.25\n",
            "\u001b[34m\u001b[1mwandb\u001b[0m: \tedls: 4\n",
            "\u001b[34m\u001b[1mwandb\u001b[0m: \temb_sz: 32\n",
            "\u001b[34m\u001b[1mwandb\u001b[0m: \tepochs: 15\n",
            "\u001b[34m\u001b[1mwandb\u001b[0m: \tlr: 0.001\n",
            "\u001b[34m\u001b[1mwandb\u001b[0m: \tnunits: 256\n"
          ]
        },
        {
          "output_type": "display_data",
          "data": {
            "text/plain": [
              "<IPython.core.display.HTML object>"
            ],
            "text/html": [
              "Tracking run with wandb version 0.12.15"
            ]
          },
          "metadata": {}
        },
        {
          "output_type": "display_data",
          "data": {
            "text/plain": [
              "<IPython.core.display.HTML object>"
            ],
            "text/html": [
              "Run data is saved locally in <code>/content/wandb/run-20220503_131837-64hpjytq</code>"
            ]
          },
          "metadata": {}
        },
        {
          "output_type": "display_data",
          "data": {
            "text/plain": [
              "<IPython.core.display.HTML object>"
            ],
            "text/html": [
              "Syncing run <strong><a href=\"https://wandb.ai/pandp/CS6910-AS3/runs/64hpjytq\" target=\"_blank\">cs6910-AS3-PA</a></strong> to <a href=\"https://wandb.ai/pandp/CS6910-AS3\" target=\"_blank\">Weights & Biases</a> (<a href=\"https://wandb.me/run\" target=\"_blank\">docs</a>)<br/>Sweep page:  <a href=\"https://wandb.ai/pandp/CS6910-AS3/sweeps/3sng050k\" target=\"_blank\">https://wandb.ai/pandp/CS6910-AS3/sweeps/3sng050k</a>"
            ]
          },
          "metadata": {}
        },
        {
          "output_type": "stream",
          "name": "stdout",
          "text": [
            "Build Sucessfully\n",
            "Epoch 1/15\n",
            "691/691 [==============================] - 105s 103ms/step - loss: 0.8373 - accuracy: 0.4260 - val_loss: 0.4862 - val_accuracy: 0.6215 - _timestamp: 1651584041.0000 - _runtime: 124.0000\n",
            "Epoch 2/15\n",
            "691/691 [==============================] - 60s 87ms/step - loss: 0.3706 - accuracy: 0.7181 - val_loss: 0.2658 - val_accuracy: 0.7883 - _timestamp: 1651584101.0000 - _runtime: 184.0000\n",
            "Epoch 3/15\n",
            "691/691 [==============================] - 60s 87ms/step - loss: 0.2345 - accuracy: 0.8163 - val_loss: 0.2067 - val_accuracy: 0.8339 - _timestamp: 1651584161.0000 - _runtime: 244.0000\n",
            "Epoch 4/15\n",
            "691/691 [==============================] - 60s 87ms/step - loss: 0.1790 - accuracy: 0.8573 - val_loss: 0.1909 - val_accuracy: 0.8402 - _timestamp: 1651584221.0000 - _runtime: 304.0000\n",
            "Epoch 5/15\n",
            "691/691 [==============================] - 60s 87ms/step - loss: 0.1481 - accuracy: 0.8794 - val_loss: 0.1783 - val_accuracy: 0.8533 - _timestamp: 1651584281.0000 - _runtime: 364.0000\n",
            "Epoch 6/15\n",
            "691/691 [==============================] - 60s 87ms/step - loss: 0.1253 - accuracy: 0.8976 - val_loss: 0.1745 - val_accuracy: 0.8575 - _timestamp: 1651584341.0000 - _runtime: 424.0000\n",
            "Epoch 7/15\n",
            "691/691 [==============================] - 60s 87ms/step - loss: 0.1087 - accuracy: 0.9100 - val_loss: 0.1784 - val_accuracy: 0.8591 - _timestamp: 1651584401.0000 - _runtime: 484.0000\n",
            "Epoch 8/15\n",
            "691/691 [==============================] - 60s 87ms/step - loss: 0.0953 - accuracy: 0.9207 - val_loss: 0.1748 - val_accuracy: 0.8632 - _timestamp: 1651584462.0000 - _runtime: 545.0000\n",
            "Epoch 9/15\n",
            "691/691 [==============================] - 60s 87ms/step - loss: 0.0842 - accuracy: 0.9292 - val_loss: 0.1828 - val_accuracy: 0.8597 - _timestamp: 1651584522.0000 - _runtime: 605.0000\n",
            "Epoch 10/15\n",
            "691/691 [==============================] - 60s 87ms/step - loss: 0.0751 - accuracy: 0.9365 - val_loss: 0.1886 - val_accuracy: 0.8615 - _timestamp: 1651584582.0000 - _runtime: 665.0000\n",
            "Epoch 11/15\n",
            "691/691 [==============================] - 60s 86ms/step - loss: 0.0683 - accuracy: 0.9419 - val_loss: 0.1940 - val_accuracy: 0.8620 - _timestamp: 1651584642.0000 - _runtime: 725.0000\n",
            "Epoch 12/15\n",
            "691/691 [==============================] - 60s 87ms/step - loss: 0.0626 - accuracy: 0.9463 - val_loss: 0.1974 - val_accuracy: 0.8593 - _timestamp: 1651584702.0000 - _runtime: 785.0000\n",
            "Epoch 13/15\n",
            "691/691 [==============================] - 60s 87ms/step - loss: 0.0577 - accuracy: 0.9502 - val_loss: 0.2070 - val_accuracy: 0.8598 - _timestamp: 1651584762.0000 - _runtime: 845.0000\n",
            "Epoch 14/15\n",
            "691/691 [==============================] - 60s 87ms/step - loss: 0.0530 - accuracy: 0.9543 - val_loss: 0.2097 - val_accuracy: 0.8612 - _timestamp: 1651584821.0000 - _runtime: 904.0000\n",
            "Epoch 15/15\n",
            "691/691 [==============================] - 60s 87ms/step - loss: 0.0505 - accuracy: 0.9561 - val_loss: 0.2097 - val_accuracy: 0.8661 - _timestamp: 1651584881.0000 - _runtime: 964.0000\n",
            "Completed ! \n"
          ]
        },
        {
          "output_type": "display_data",
          "data": {
            "text/plain": [
              "<IPython.core.display.HTML object>"
            ],
            "text/html": [
              "Waiting for W&B process to finish... <strong style=\"color:green\">(success).</strong>"
            ]
          },
          "metadata": {}
        },
        {
          "output_type": "display_data",
          "data": {
            "text/plain": [
              "VBox(children=(Label(value='32.855 MB of 32.855 MB uploaded (0.000 MB deduped)\\r'), FloatProgress(value=1.0, m…"
            ],
            "application/vnd.jupyter.widget-view+json": {
              "version_major": 2,
              "version_minor": 0,
              "model_id": "9a1db5511f7e45ce8a24cea519fb6c92"
            }
          },
          "metadata": {}
        },
        {
          "output_type": "display_data",
          "data": {
            "text/plain": [
              "<IPython.core.display.HTML object>"
            ],
            "text/html": [
              "<style>\n",
              "    table.wandb td:nth-child(1) { padding: 0 10px; text-align: right }\n",
              "    .wandb-row { display: flex; flex-direction: row; flex-wrap: wrap; width: 100% }\n",
              "    .wandb-col { display: flex; flex-direction: column; flex-basis: 100%; flex: 1; padding: 10px; }\n",
              "    </style>\n",
              "<div class=\"wandb-row\"><div class=\"wandb-col\"><h3>Run history:</h3><br/><table class=\"wandb\"><tr><td>accuracy</td><td>▁▅▆▇▇▇▇████████</td></tr><tr><td>epoch</td><td>▁▁▂▃▃▃▄▅▅▅▆▇▇▇█</td></tr><tr><td>loss</td><td>█▄▃▂▂▂▂▁▁▁▁▁▁▁▁</td></tr><tr><td>val_accuracy</td><td>▁▆▇▇███████████</td></tr><tr><td>val_loss</td><td>█▃▂▁▁▁▁▁▁▁▁▂▂▂▂</td></tr></table><br/></div><div class=\"wandb-col\"><h3>Run summary:</h3><br/><table class=\"wandb\"><tr><td>accuracy</td><td>0.95606</td></tr><tr><td>best_epoch</td><td>14</td></tr><tr><td>best_val_accuracy</td><td>0.86612</td></tr><tr><td>epoch</td><td>14</td></tr><tr><td>loss</td><td>0.0505</td></tr><tr><td>val_accuracy</td><td>0.86612</td></tr><tr><td>val_loss</td><td>0.20965</td></tr></table><br/></div></div>"
            ]
          },
          "metadata": {}
        },
        {
          "output_type": "display_data",
          "data": {
            "text/plain": [
              "<IPython.core.display.HTML object>"
            ],
            "text/html": [
              "Synced <strong style=\"color:#cdcd00\">cs6910-AS3-PA</strong>: <a href=\"https://wandb.ai/pandp/CS6910-AS3/runs/64hpjytq\" target=\"_blank\">https://wandb.ai/pandp/CS6910-AS3/runs/64hpjytq</a><br/>Synced 5 W&B file(s), 1 media file(s), 0 artifact file(s) and 1 other file(s)"
            ]
          },
          "metadata": {}
        },
        {
          "output_type": "display_data",
          "data": {
            "text/plain": [
              "<IPython.core.display.HTML object>"
            ],
            "text/html": [
              "Find logs at: <code>./wandb/run-20220503_131837-64hpjytq/logs</code>"
            ]
          },
          "metadata": {}
        },
        {
          "output_type": "stream",
          "name": "stderr",
          "text": [
            "\u001b[34m\u001b[1mwandb\u001b[0m: Agent Starting Run: lr4esl6c with config:\n",
            "\u001b[34m\u001b[1mwandb\u001b[0m: \tcell: GRU\n",
            "\u001b[34m\u001b[1mwandb\u001b[0m: \tdense_sz: 128\n",
            "\u001b[34m\u001b[1mwandb\u001b[0m: \tdp: 0.4\n",
            "\u001b[34m\u001b[1mwandb\u001b[0m: \tedls: 3\n",
            "\u001b[34m\u001b[1mwandb\u001b[0m: \temb_sz: 64\n",
            "\u001b[34m\u001b[1mwandb\u001b[0m: \tepochs: 20\n",
            "\u001b[34m\u001b[1mwandb\u001b[0m: \tlr: 0.001\n",
            "\u001b[34m\u001b[1mwandb\u001b[0m: \tnunits: 256\n"
          ]
        },
        {
          "output_type": "display_data",
          "data": {
            "text/plain": [
              "<IPython.core.display.HTML object>"
            ],
            "text/html": [
              "Tracking run with wandb version 0.12.15"
            ]
          },
          "metadata": {}
        },
        {
          "output_type": "display_data",
          "data": {
            "text/plain": [
              "<IPython.core.display.HTML object>"
            ],
            "text/html": [
              "Run data is saved locally in <code>/content/wandb/run-20220503_133458-lr4esl6c</code>"
            ]
          },
          "metadata": {}
        },
        {
          "output_type": "display_data",
          "data": {
            "text/plain": [
              "<IPython.core.display.HTML object>"
            ],
            "text/html": [
              "Syncing run <strong><a href=\"https://wandb.ai/pandp/CS6910-AS3/runs/lr4esl6c\" target=\"_blank\">cs6910-AS3-PA</a></strong> to <a href=\"https://wandb.ai/pandp/CS6910-AS3\" target=\"_blank\">Weights & Biases</a> (<a href=\"https://wandb.me/run\" target=\"_blank\">docs</a>)<br/>Sweep page:  <a href=\"https://wandb.ai/pandp/CS6910-AS3/sweeps/3sng050k\" target=\"_blank\">https://wandb.ai/pandp/CS6910-AS3/sweeps/3sng050k</a>"
            ]
          },
          "metadata": {}
        },
        {
          "output_type": "stream",
          "name": "stdout",
          "text": [
            "Build Sucessfully\n",
            "Epoch 1/20\n",
            "691/691 [==============================] - 82s 81ms/step - loss: 0.8027 - accuracy: 0.4469 - val_loss: 0.4174 - val_accuracy: 0.6781 - _timestamp: 1651584997.0000 - _runtime: 99.0000\n",
            "Epoch 2/20\n",
            "691/691 [==============================] - 47s 69ms/step - loss: 0.3309 - accuracy: 0.7437 - val_loss: 0.2425 - val_accuracy: 0.8040 - _timestamp: 1651585044.0000 - _runtime: 146.0000\n",
            "Epoch 3/20\n",
            "691/691 [==============================] - 47s 69ms/step - loss: 0.2225 - accuracy: 0.8232 - val_loss: 0.2024 - val_accuracy: 0.8340 - _timestamp: 1651585092.0000 - _runtime: 194.0000\n",
            "Epoch 4/20\n",
            "691/691 [==============================] - 47s 69ms/step - loss: 0.1750 - accuracy: 0.8592 - val_loss: 0.1812 - val_accuracy: 0.8488 - _timestamp: 1651585139.0000 - _runtime: 241.0000\n",
            "Epoch 5/20\n",
            "691/691 [==============================] - 47s 69ms/step - loss: 0.1469 - accuracy: 0.8808 - val_loss: 0.1701 - val_accuracy: 0.8602 - _timestamp: 1651585187.0000 - _runtime: 289.0000\n",
            "Epoch 6/20\n",
            "691/691 [==============================] - 47s 69ms/step - loss: 0.1258 - accuracy: 0.8972 - val_loss: 0.1672 - val_accuracy: 0.8627 - _timestamp: 1651585234.0000 - _runtime: 336.0000\n",
            "Epoch 7/20\n",
            "691/691 [==============================] - 47s 68ms/step - loss: 0.1096 - accuracy: 0.9097 - val_loss: 0.1696 - val_accuracy: 0.8621 - _timestamp: 1651585282.0000 - _runtime: 384.0000\n",
            "Epoch 8/20\n",
            "691/691 [==============================] - 47s 68ms/step - loss: 0.0967 - accuracy: 0.9196 - val_loss: 0.1716 - val_accuracy: 0.8644 - _timestamp: 1651585329.0000 - _runtime: 431.0000\n",
            "Epoch 9/20\n",
            "691/691 [==============================] - 48s 69ms/step - loss: 0.0858 - accuracy: 0.9282 - val_loss: 0.1787 - val_accuracy: 0.8613 - _timestamp: 1651585376.0000 - _runtime: 478.0000\n",
            "Epoch 10/20\n",
            "691/691 [==============================] - 47s 68ms/step - loss: 0.0768 - accuracy: 0.9351 - val_loss: 0.1788 - val_accuracy: 0.8661 - _timestamp: 1651585424.0000 - _runtime: 526.0000\n",
            "Epoch 11/20\n",
            "691/691 [==============================] - 47s 68ms/step - loss: 0.0694 - accuracy: 0.9406 - val_loss: 0.1878 - val_accuracy: 0.8647 - _timestamp: 1651585471.0000 - _runtime: 573.0000\n",
            "Epoch 12/20\n",
            "691/691 [==============================] - 47s 68ms/step - loss: 0.0636 - accuracy: 0.9454 - val_loss: 0.1954 - val_accuracy: 0.8645 - _timestamp: 1651585518.0000 - _runtime: 620.0000\n",
            "Epoch 13/20\n",
            "691/691 [==============================] - 47s 68ms/step - loss: 0.0591 - accuracy: 0.9490 - val_loss: 0.1993 - val_accuracy: 0.8619 - _timestamp: 1651585565.0000 - _runtime: 667.0000\n",
            "Epoch 14/20\n",
            "691/691 [==============================] - 47s 68ms/step - loss: 0.0541 - accuracy: 0.9533 - val_loss: 0.2058 - val_accuracy: 0.8617 - _timestamp: 1651585612.0000 - _runtime: 714.0000\n",
            "Epoch 15/20\n",
            "691/691 [==============================] - 47s 68ms/step - loss: 0.0508 - accuracy: 0.9561 - val_loss: 0.2039 - val_accuracy: 0.8660 - _timestamp: 1651585659.0000 - _runtime: 761.0000\n",
            "Epoch 16/20\n",
            "691/691 [==============================] - 47s 69ms/step - loss: 0.0476 - accuracy: 0.9587 - val_loss: 0.2201 - val_accuracy: 0.8599 - _timestamp: 1651585707.0000 - _runtime: 809.0000\n",
            "Epoch 17/20\n",
            "691/691 [==============================] - 47s 68ms/step - loss: 0.0461 - accuracy: 0.9596 - val_loss: 0.2222 - val_accuracy: 0.8613 - _timestamp: 1651585754.0000 - _runtime: 856.0000\n",
            "Epoch 18/20\n",
            "691/691 [==============================] - 47s 68ms/step - loss: 0.0438 - accuracy: 0.9614 - val_loss: 0.2256 - val_accuracy: 0.8632 - _timestamp: 1651585801.0000 - _runtime: 903.0000\n",
            "Epoch 19/20\n",
            "691/691 [==============================] - 47s 68ms/step - loss: 0.0410 - accuracy: 0.9644 - val_loss: 0.2259 - val_accuracy: 0.8648 - _timestamp: 1651585848.0000 - _runtime: 950.0000\n",
            "Epoch 20/20\n",
            "691/691 [==============================] - 47s 68ms/step - loss: 0.0398 - accuracy: 0.9654 - val_loss: 0.2366 - val_accuracy: 0.8598 - _timestamp: 1651585895.0000 - _runtime: 997.0000\n",
            "Completed ! \n"
          ]
        },
        {
          "output_type": "display_data",
          "data": {
            "text/plain": [
              "<IPython.core.display.HTML object>"
            ],
            "text/html": [
              "Waiting for W&B process to finish... <strong style=\"color:green\">(success).</strong>"
            ]
          },
          "metadata": {}
        },
        {
          "output_type": "display_data",
          "data": {
            "text/plain": [
              "VBox(children=(Label(value='24.389 MB of 24.389 MB uploaded (0.000 MB deduped)\\r'), FloatProgress(value=1.0, m…"
            ],
            "application/vnd.jupyter.widget-view+json": {
              "version_major": 2,
              "version_minor": 0,
              "model_id": "d8e9f72d88634286ac89392ccf5c733d"
            }
          },
          "metadata": {}
        },
        {
          "output_type": "display_data",
          "data": {
            "text/plain": [
              "<IPython.core.display.HTML object>"
            ],
            "text/html": [
              "<style>\n",
              "    table.wandb td:nth-child(1) { padding: 0 10px; text-align: right }\n",
              "    .wandb-row { display: flex; flex-direction: row; flex-wrap: wrap; width: 100% }\n",
              "    .wandb-col { display: flex; flex-direction: column; flex-basis: 100%; flex: 1; padding: 10px; }\n",
              "    </style>\n",
              "<div class=\"wandb-row\"><div class=\"wandb-col\"><h3>Run history:</h3><br/><table class=\"wandb\"><tr><td>accuracy</td><td>▁▅▆▇▇▇▇▇▇███████████</td></tr><tr><td>epoch</td><td>▁▁▂▂▂▃▃▄▄▄▅▅▅▆▆▇▇▇██</td></tr><tr><td>loss</td><td>█▄▃▂▂▂▂▂▁▁▁▁▁▁▁▁▁▁▁▁</td></tr><tr><td>val_accuracy</td><td>▁▆▇▇████████████████</td></tr><tr><td>val_loss</td><td>█▃▂▁▁▁▁▁▁▁▂▂▂▂▂▂▃▃▃▃</td></tr></table><br/></div><div class=\"wandb-col\"><h3>Run summary:</h3><br/><table class=\"wandb\"><tr><td>accuracy</td><td>0.96538</td></tr><tr><td>best_epoch</td><td>9</td></tr><tr><td>best_val_accuracy</td><td>0.86607</td></tr><tr><td>epoch</td><td>19</td></tr><tr><td>loss</td><td>0.03977</td></tr><tr><td>val_accuracy</td><td>0.85978</td></tr><tr><td>val_loss</td><td>0.23663</td></tr></table><br/></div></div>"
            ]
          },
          "metadata": {}
        },
        {
          "output_type": "display_data",
          "data": {
            "text/plain": [
              "<IPython.core.display.HTML object>"
            ],
            "text/html": [
              "Synced <strong style=\"color:#cdcd00\">cs6910-AS3-PA</strong>: <a href=\"https://wandb.ai/pandp/CS6910-AS3/runs/lr4esl6c\" target=\"_blank\">https://wandb.ai/pandp/CS6910-AS3/runs/lr4esl6c</a><br/>Synced 5 W&B file(s), 1 media file(s), 0 artifact file(s) and 1 other file(s)"
            ]
          },
          "metadata": {}
        },
        {
          "output_type": "display_data",
          "data": {
            "text/plain": [
              "<IPython.core.display.HTML object>"
            ],
            "text/html": [
              "Find logs at: <code>./wandb/run-20220503_133458-lr4esl6c/logs</code>"
            ]
          },
          "metadata": {}
        },
        {
          "output_type": "stream",
          "name": "stderr",
          "text": [
            "\u001b[34m\u001b[1mwandb\u001b[0m: Sweep Agent: Waiting for job.\n",
            "\u001b[34m\u001b[1mwandb\u001b[0m: Job received.\n",
            "\u001b[34m\u001b[1mwandb\u001b[0m: Agent Starting Run: bnjsoc1y with config:\n",
            "\u001b[34m\u001b[1mwandb\u001b[0m: \tcell: RNN\n",
            "\u001b[34m\u001b[1mwandb\u001b[0m: \tdense_sz: 64\n",
            "\u001b[34m\u001b[1mwandb\u001b[0m: \tdp: 0\n",
            "\u001b[34m\u001b[1mwandb\u001b[0m: \tedls: 3\n",
            "\u001b[34m\u001b[1mwandb\u001b[0m: \temb_sz: 32\n",
            "\u001b[34m\u001b[1mwandb\u001b[0m: \tepochs: 15\n",
            "\u001b[34m\u001b[1mwandb\u001b[0m: \tlr: 0.005\n",
            "\u001b[34m\u001b[1mwandb\u001b[0m: \tnunits: 256\n"
          ]
        },
        {
          "output_type": "display_data",
          "data": {
            "text/plain": [
              "<IPython.core.display.HTML object>"
            ],
            "text/html": [
              "Tracking run with wandb version 0.12.15"
            ]
          },
          "metadata": {}
        },
        {
          "output_type": "display_data",
          "data": {
            "text/plain": [
              "<IPython.core.display.HTML object>"
            ],
            "text/html": [
              "Run data is saved locally in <code>/content/wandb/run-20220503_135216-bnjsoc1y</code>"
            ]
          },
          "metadata": {}
        },
        {
          "output_type": "display_data",
          "data": {
            "text/plain": [
              "<IPython.core.display.HTML object>"
            ],
            "text/html": [
              "Syncing run <strong><a href=\"https://wandb.ai/pandp/CS6910-AS3/runs/bnjsoc1y\" target=\"_blank\">cs6910-AS3-PA</a></strong> to <a href=\"https://wandb.ai/pandp/CS6910-AS3\" target=\"_blank\">Weights & Biases</a> (<a href=\"https://wandb.me/run\" target=\"_blank\">docs</a>)<br/>Sweep page:  <a href=\"https://wandb.ai/pandp/CS6910-AS3/sweeps/3sng050k\" target=\"_blank\">https://wandb.ai/pandp/CS6910-AS3/sweeps/3sng050k</a>"
            ]
          },
          "metadata": {}
        },
        {
          "output_type": "stream",
          "name": "stdout",
          "text": [
            "Build Sucessfully\n",
            "Epoch 1/15\n",
            "691/691 [==============================] - 180s 251ms/step - loss: 1.0018 - accuracy: 0.3184 - val_loss: 0.8932 - val_accuracy: 0.3468 - _timestamp: 1651586123.0000 - _runtime: 187.0000\n",
            "Epoch 2/15\n",
            "691/691 [==============================] - 174s 252ms/step - loss: 0.9236 - accuracy: 0.3528 - val_loss: 0.8833 - val_accuracy: 0.3545 - _timestamp: 1651586297.0000 - _runtime: 361.0000\n",
            "Epoch 3/15\n",
            "691/691 [==============================] - 175s 254ms/step - loss: 0.9064 - accuracy: 0.3651 - val_loss: 0.8725 - val_accuracy: 0.3672 - _timestamp: 1651586472.0000 - _runtime: 536.0000\n",
            "Epoch 4/15\n",
            "691/691 [==============================] - 174s 252ms/step - loss: 0.8979 - accuracy: 0.3721 - val_loss: 0.8697 - val_accuracy: 0.3670 - _timestamp: 1651586646.0000 - _runtime: 710.0000\n",
            "Epoch 5/15\n",
            "691/691 [==============================] - 173s 250ms/step - loss: 0.8918 - accuracy: 0.3744 - val_loss: 0.8632 - val_accuracy: 0.3711 - _timestamp: 1651586818.0000 - _runtime: 882.0000\n",
            "Epoch 6/15\n",
            "691/691 [==============================] - 173s 251ms/step - loss: 0.9006 - accuracy: 0.3696 - val_loss: 0.8733 - val_accuracy: 0.3640 - _timestamp: 1651586992.0000 - _runtime: 1056.0000\n",
            "Epoch 7/15\n",
            "691/691 [==============================] - 173s 250ms/step - loss: 0.8909 - accuracy: 0.3708 - val_loss: 0.8657 - val_accuracy: 0.3660 - _timestamp: 1651587165.0000 - _runtime: 1229.0000\n",
            "Epoch 8/15\n",
            "691/691 [==============================] - 176s 254ms/step - loss: 0.9145 - accuracy: 0.3601 - val_loss: 0.9068 - val_accuracy: 0.3479 - _timestamp: 1651587340.0000 - _runtime: 1404.0000\n",
            "Epoch 9/15\n",
            "691/691 [==============================] - 174s 252ms/step - loss: 0.9394 - accuracy: 0.3473 - val_loss: 0.9130 - val_accuracy: 0.3495 - _timestamp: 1651587515.0000 - _runtime: 1579.0000\n",
            "Epoch 10/15\n",
            "691/691 [==============================] - 174s 251ms/step - loss: 0.9389 - accuracy: 0.3466 - val_loss: 0.9059 - val_accuracy: 0.3469 - _timestamp: 1651587688.0000 - _runtime: 1752.0000\n",
            "Epoch 11/15\n",
            "691/691 [==============================] - 175s 253ms/step - loss: 0.9372 - accuracy: 0.3484 - val_loss: 0.9079 - val_accuracy: 0.3496 - _timestamp: 1651587863.0000 - _runtime: 1927.0000\n",
            "Epoch 12/15\n",
            "691/691 [==============================] - 176s 254ms/step - loss: 0.9376 - accuracy: 0.3479 - val_loss: 0.9120 - val_accuracy: 0.3442 - _timestamp: 1651588039.0000 - _runtime: 2103.0000\n",
            "Epoch 13/15\n",
            "691/691 [==============================] - 174s 252ms/step - loss: 0.9371 - accuracy: 0.3478 - val_loss: 0.9064 - val_accuracy: 0.3484 - _timestamp: 1651588213.0000 - _runtime: 2277.0000\n",
            "Epoch 14/15\n",
            "691/691 [==============================] - 174s 252ms/step - loss: 0.9378 - accuracy: 0.3469 - val_loss: 0.9085 - val_accuracy: 0.3514 - _timestamp: 1651588387.0000 - _runtime: 2451.0000\n",
            "Epoch 15/15\n",
            "691/691 [==============================] - 174s 252ms/step - loss: 0.9238 - accuracy: 0.3527 - val_loss: 0.8820 - val_accuracy: 0.3535 - _timestamp: 1651588561.0000 - _runtime: 2625.0000\n",
            "Completed ! \n"
          ]
        },
        {
          "output_type": "display_data",
          "data": {
            "text/plain": [
              "<IPython.core.display.HTML object>"
            ],
            "text/html": [
              "Waiting for W&B process to finish... <strong style=\"color:green\">(success).</strong>"
            ]
          },
          "metadata": {}
        },
        {
          "output_type": "display_data",
          "data": {
            "text/plain": [
              "VBox(children=(Label(value='8.093 MB of 8.093 MB uploaded (0.000 MB deduped)\\r'), FloatProgress(value=1.0, max…"
            ],
            "application/vnd.jupyter.widget-view+json": {
              "version_major": 2,
              "version_minor": 0,
              "model_id": "89e418cff53c405db2db7b92b1263222"
            }
          },
          "metadata": {}
        },
        {
          "output_type": "display_data",
          "data": {
            "text/plain": [
              "<IPython.core.display.HTML object>"
            ],
            "text/html": [
              "<style>\n",
              "    table.wandb td:nth-child(1) { padding: 0 10px; text-align: right }\n",
              "    .wandb-row { display: flex; flex-direction: row; flex-wrap: wrap; width: 100% }\n",
              "    .wandb-col { display: flex; flex-direction: column; flex-basis: 100%; flex: 1; padding: 10px; }\n",
              "    </style>\n",
              "<div class=\"wandb-row\"><div class=\"wandb-col\"><h3>Run history:</h3><br/><table class=\"wandb\"><tr><td>accuracy</td><td>▁▅▇██▇█▆▅▅▅▅▅▅▅</td></tr><tr><td>epoch</td><td>▁▁▂▃▃▃▄▅▅▅▆▇▇▇█</td></tr><tr><td>loss</td><td>█▃▂▁▁▂▁▂▄▄▄▄▄▄▃</td></tr><tr><td>val_accuracy</td><td>▂▄▇▇█▆▇▂▂▂▂▁▂▃▃</td></tr><tr><td>val_loss</td><td>▅▄▂▂▁▂▁▇█▇▇█▇▇▄</td></tr></table><br/></div><div class=\"wandb-col\"><h3>Run summary:</h3><br/><table class=\"wandb\"><tr><td>accuracy</td><td>0.35269</td></tr><tr><td>best_epoch</td><td>4</td></tr><tr><td>best_val_accuracy</td><td>0.37108</td></tr><tr><td>epoch</td><td>14</td></tr><tr><td>loss</td><td>0.92384</td></tr><tr><td>val_accuracy</td><td>0.35352</td></tr><tr><td>val_loss</td><td>0.88195</td></tr></table><br/></div></div>"
            ]
          },
          "metadata": {}
        },
        {
          "output_type": "display_data",
          "data": {
            "text/plain": [
              "<IPython.core.display.HTML object>"
            ],
            "text/html": [
              "Synced <strong style=\"color:#cdcd00\">cs6910-AS3-PA</strong>: <a href=\"https://wandb.ai/pandp/CS6910-AS3/runs/bnjsoc1y\" target=\"_blank\">https://wandb.ai/pandp/CS6910-AS3/runs/bnjsoc1y</a><br/>Synced 5 W&B file(s), 1 media file(s), 0 artifact file(s) and 1 other file(s)"
            ]
          },
          "metadata": {}
        },
        {
          "output_type": "display_data",
          "data": {
            "text/plain": [
              "<IPython.core.display.HTML object>"
            ],
            "text/html": [
              "Find logs at: <code>./wandb/run-20220503_135216-bnjsoc1y/logs</code>"
            ]
          },
          "metadata": {}
        },
        {
          "output_type": "stream",
          "name": "stderr",
          "text": [
            "\u001b[34m\u001b[1mwandb\u001b[0m: Agent Starting Run: lndl059l with config:\n",
            "\u001b[34m\u001b[1mwandb\u001b[0m: \tcell: LSTM\n",
            "\u001b[34m\u001b[1mwandb\u001b[0m: \tdense_sz: 128\n",
            "\u001b[34m\u001b[1mwandb\u001b[0m: \tdp: 0.4\n",
            "\u001b[34m\u001b[1mwandb\u001b[0m: \tedls: 2\n",
            "\u001b[34m\u001b[1mwandb\u001b[0m: \temb_sz: 32\n",
            "\u001b[34m\u001b[1mwandb\u001b[0m: \tepochs: 20\n",
            "\u001b[34m\u001b[1mwandb\u001b[0m: \tlr: 0.001\n",
            "\u001b[34m\u001b[1mwandb\u001b[0m: \tnunits: 256\n"
          ]
        },
        {
          "output_type": "display_data",
          "data": {
            "text/plain": [
              "<IPython.core.display.HTML object>"
            ],
            "text/html": [
              "Tracking run with wandb version 0.12.15"
            ]
          },
          "metadata": {}
        },
        {
          "output_type": "display_data",
          "data": {
            "text/plain": [
              "<IPython.core.display.HTML object>"
            ],
            "text/html": [
              "Run data is saved locally in <code>/content/wandb/run-20220503_143611-lndl059l</code>"
            ]
          },
          "metadata": {}
        },
        {
          "output_type": "display_data",
          "data": {
            "text/plain": [
              "<IPython.core.display.HTML object>"
            ],
            "text/html": [
              "Syncing run <strong><a href=\"https://wandb.ai/pandp/CS6910-AS3/runs/lndl059l\" target=\"_blank\">cs6910-AS3-PA</a></strong> to <a href=\"https://wandb.ai/pandp/CS6910-AS3\" target=\"_blank\">Weights & Biases</a> (<a href=\"https://wandb.me/run\" target=\"_blank\">docs</a>)<br/>Sweep page:  <a href=\"https://wandb.ai/pandp/CS6910-AS3/sweeps/3sng050k\" target=\"_blank\">https://wandb.ai/pandp/CS6910-AS3/sweeps/3sng050k</a>"
            ]
          },
          "metadata": {}
        },
        {
          "output_type": "stream",
          "name": "stdout",
          "text": [
            "Build Sucessfully\n",
            "Epoch 1/20\n",
            "691/691 [==============================] - 63s 66ms/step - loss: 0.9213 - accuracy: 0.3736 - val_loss: 0.6295 - val_accuracy: 0.5375 - _timestamp: 1651588647.0000 - _runtime: 76.0000\n",
            "Epoch 2/20\n",
            "691/691 [==============================] - 40s 58ms/step - loss: 0.4735 - accuracy: 0.6466 - val_loss: 0.3219 - val_accuracy: 0.7410 - _timestamp: 1651588687.0000 - _runtime: 116.0000\n",
            "Epoch 3/20\n",
            "691/691 [==============================] - 39s 57ms/step - loss: 0.2712 - accuracy: 0.7874 - val_loss: 0.2250 - val_accuracy: 0.8178 - _timestamp: 1651588726.0000 - _runtime: 155.0000\n",
            "Epoch 4/20\n",
            "691/691 [==============================] - 39s 57ms/step - loss: 0.1996 - accuracy: 0.8409 - val_loss: 0.1976 - val_accuracy: 0.8383 - _timestamp: 1651588766.0000 - _runtime: 195.0000\n",
            "Epoch 5/20\n",
            "691/691 [==============================] - 40s 57ms/step - loss: 0.1629 - accuracy: 0.8696 - val_loss: 0.1832 - val_accuracy: 0.8490 - _timestamp: 1651588805.0000 - _runtime: 234.0000\n",
            "Epoch 6/20\n",
            "691/691 [==============================] - 40s 57ms/step - loss: 0.1367 - accuracy: 0.8896 - val_loss: 0.1764 - val_accuracy: 0.8546 - _timestamp: 1651588845.0000 - _runtime: 274.0000\n",
            "Epoch 7/20\n",
            "691/691 [==============================] - 40s 58ms/step - loss: 0.1170 - accuracy: 0.9043 - val_loss: 0.1738 - val_accuracy: 0.8602 - _timestamp: 1651588885.0000 - _runtime: 314.0000\n",
            "Epoch 8/20\n",
            "691/691 [==============================] - 43s 63ms/step - loss: 0.1013 - accuracy: 0.9170 - val_loss: 0.1734 - val_accuracy: 0.8644 - _timestamp: 1651588928.0000 - _runtime: 357.0000\n",
            "Epoch 9/20\n",
            "691/691 [==============================] - 40s 57ms/step - loss: 0.0874 - accuracy: 0.9278 - val_loss: 0.1769 - val_accuracy: 0.8648 - _timestamp: 1651588967.0000 - _runtime: 396.0000\n",
            "Epoch 10/20\n",
            "691/691 [==============================] - 39s 57ms/step - loss: 0.0758 - accuracy: 0.9370 - val_loss: 0.1821 - val_accuracy: 0.8631 - _timestamp: 1651589007.0000 - _runtime: 436.0000\n",
            "Epoch 11/20\n",
            "691/691 [==============================] - 40s 58ms/step - loss: 0.0666 - accuracy: 0.9439 - val_loss: 0.1875 - val_accuracy: 0.8654 - _timestamp: 1651589047.0000 - _runtime: 476.0000\n",
            "Epoch 12/20\n",
            "691/691 [==============================] - 40s 58ms/step - loss: 0.0579 - accuracy: 0.9514 - val_loss: 0.1959 - val_accuracy: 0.8643 - _timestamp: 1651589087.0000 - _runtime: 516.0000\n",
            "Epoch 13/20\n",
            "691/691 [==============================] - 40s 58ms/step - loss: 0.0523 - accuracy: 0.9552 - val_loss: 0.2000 - val_accuracy: 0.8656 - _timestamp: 1651589127.0000 - _runtime: 556.0000\n",
            "Epoch 14/20\n",
            "691/691 [==============================] - 40s 58ms/step - loss: 0.0468 - accuracy: 0.9597 - val_loss: 0.2049 - val_accuracy: 0.8666 - _timestamp: 1651589167.0000 - _runtime: 596.0000\n",
            "Epoch 15/20\n",
            "691/691 [==============================] - 40s 57ms/step - loss: 0.0427 - accuracy: 0.9635 - val_loss: 0.2123 - val_accuracy: 0.8647 - _timestamp: 1651589206.0000 - _runtime: 635.0000\n",
            "Epoch 16/20\n",
            "691/691 [==============================] - 40s 57ms/step - loss: 0.0392 - accuracy: 0.9664 - val_loss: 0.2206 - val_accuracy: 0.8625 - _timestamp: 1651589246.0000 - _runtime: 675.0000\n",
            "Epoch 17/20\n",
            "691/691 [==============================] - 39s 57ms/step - loss: 0.0361 - accuracy: 0.9689 - val_loss: 0.2256 - val_accuracy: 0.8632 - _timestamp: 1651589285.0000 - _runtime: 714.0000\n",
            "Epoch 18/20\n",
            "691/691 [==============================] - 40s 57ms/step - loss: 0.0343 - accuracy: 0.9706 - val_loss: 0.2273 - val_accuracy: 0.8648 - _timestamp: 1651589325.0000 - _runtime: 754.0000\n",
            "Epoch 19/20\n",
            "691/691 [==============================] - 40s 58ms/step - loss: 0.0321 - accuracy: 0.9725 - val_loss: 0.2333 - val_accuracy: 0.8625 - _timestamp: 1651589365.0000 - _runtime: 794.0000\n",
            "Epoch 20/20\n",
            "691/691 [==============================] - 40s 58ms/step - loss: 0.0299 - accuracy: 0.9745 - val_loss: 0.2359 - val_accuracy: 0.8641 - _timestamp: 1651589405.0000 - _runtime: 834.0000\n",
            "Completed ! \n"
          ]
        },
        {
          "output_type": "display_data",
          "data": {
            "text/plain": [
              "<IPython.core.display.HTML object>"
            ],
            "text/html": [
              "Waiting for W&B process to finish... <strong style=\"color:green\">(success).</strong>"
            ]
          },
          "metadata": {}
        },
        {
          "output_type": "display_data",
          "data": {
            "text/plain": [
              "VBox(children=(Label(value='19.397 MB of 19.397 MB uploaded (0.000 MB deduped)\\r'), FloatProgress(value=1.0, m…"
            ],
            "application/vnd.jupyter.widget-view+json": {
              "version_major": 2,
              "version_minor": 0,
              "model_id": "3b2079defa054871ae6b1626186ebd98"
            }
          },
          "metadata": {}
        },
        {
          "output_type": "display_data",
          "data": {
            "text/plain": [
              "<IPython.core.display.HTML object>"
            ],
            "text/html": [
              "<style>\n",
              "    table.wandb td:nth-child(1) { padding: 0 10px; text-align: right }\n",
              "    .wandb-row { display: flex; flex-direction: row; flex-wrap: wrap; width: 100% }\n",
              "    .wandb-col { display: flex; flex-direction: column; flex-basis: 100%; flex: 1; padding: 10px; }\n",
              "    </style>\n",
              "<div class=\"wandb-row\"><div class=\"wandb-col\"><h3>Run history:</h3><br/><table class=\"wandb\"><tr><td>accuracy</td><td>▁▄▆▆▇▇▇▇▇███████████</td></tr><tr><td>epoch</td><td>▁▁▂▂▂▃▃▄▄▄▅▅▅▆▆▇▇▇██</td></tr><tr><td>loss</td><td>█▄▃▂▂▂▂▂▁▁▁▁▁▁▁▁▁▁▁▁</td></tr><tr><td>val_accuracy</td><td>▁▅▇▇████████████████</td></tr><tr><td>val_loss</td><td>█▃▂▁▁▁▁▁▁▁▁▁▁▁▂▂▂▂▂▂</td></tr></table><br/></div><div class=\"wandb-col\"><h3>Run summary:</h3><br/><table class=\"wandb\"><tr><td>accuracy</td><td>0.97453</td></tr><tr><td>best_epoch</td><td>13</td></tr><tr><td>best_val_accuracy</td><td>0.86656</td></tr><tr><td>epoch</td><td>19</td></tr><tr><td>loss</td><td>0.02986</td></tr><tr><td>val_accuracy</td><td>0.86408</td></tr><tr><td>val_loss</td><td>0.23588</td></tr></table><br/></div></div>"
            ]
          },
          "metadata": {}
        },
        {
          "output_type": "display_data",
          "data": {
            "text/plain": [
              "<IPython.core.display.HTML object>"
            ],
            "text/html": [
              "Synced <strong style=\"color:#cdcd00\">cs6910-AS3-PA</strong>: <a href=\"https://wandb.ai/pandp/CS6910-AS3/runs/lndl059l\" target=\"_blank\">https://wandb.ai/pandp/CS6910-AS3/runs/lndl059l</a><br/>Synced 5 W&B file(s), 1 media file(s), 0 artifact file(s) and 1 other file(s)"
            ]
          },
          "metadata": {}
        },
        {
          "output_type": "display_data",
          "data": {
            "text/plain": [
              "<IPython.core.display.HTML object>"
            ],
            "text/html": [
              "Find logs at: <code>./wandb/run-20220503_143611-lndl059l/logs</code>"
            ]
          },
          "metadata": {}
        },
        {
          "output_type": "stream",
          "name": "stderr",
          "text": [
            "\u001b[34m\u001b[1mwandb\u001b[0m: Agent Starting Run: 4fjg9ufz with config:\n",
            "\u001b[34m\u001b[1mwandb\u001b[0m: \tcell: RNN\n",
            "\u001b[34m\u001b[1mwandb\u001b[0m: \tdense_sz: 512\n",
            "\u001b[34m\u001b[1mwandb\u001b[0m: \tdp: 0.25\n",
            "\u001b[34m\u001b[1mwandb\u001b[0m: \tedls: 4\n",
            "\u001b[34m\u001b[1mwandb\u001b[0m: \temb_sz: 32\n",
            "\u001b[34m\u001b[1mwandb\u001b[0m: \tepochs: 15\n",
            "\u001b[34m\u001b[1mwandb\u001b[0m: \tlr: 0.005\n",
            "\u001b[34m\u001b[1mwandb\u001b[0m: \tnunits: 512\n"
          ]
        },
        {
          "output_type": "display_data",
          "data": {
            "text/plain": [
              "<IPython.core.display.HTML object>"
            ],
            "text/html": [
              "Tracking run with wandb version 0.12.15"
            ]
          },
          "metadata": {}
        },
        {
          "output_type": "display_data",
          "data": {
            "text/plain": [
              "<IPython.core.display.HTML object>"
            ],
            "text/html": [
              "Run data is saved locally in <code>/content/wandb/run-20220503_145110-4fjg9ufz</code>"
            ]
          },
          "metadata": {}
        },
        {
          "output_type": "display_data",
          "data": {
            "text/plain": [
              "<IPython.core.display.HTML object>"
            ],
            "text/html": [
              "Syncing run <strong><a href=\"https://wandb.ai/pandp/CS6910-AS3/runs/4fjg9ufz\" target=\"_blank\">cs6910-AS3-PA</a></strong> to <a href=\"https://wandb.ai/pandp/CS6910-AS3\" target=\"_blank\">Weights & Biases</a> (<a href=\"https://wandb.me/run\" target=\"_blank\">docs</a>)<br/>Sweep page:  <a href=\"https://wandb.ai/pandp/CS6910-AS3/sweeps/3sng050k\" target=\"_blank\">https://wandb.ai/pandp/CS6910-AS3/sweeps/3sng050k</a>"
            ]
          },
          "metadata": {}
        },
        {
          "output_type": "stream",
          "name": "stdout",
          "text": [
            "Build Sucessfully\n",
            "Epoch 1/15\n",
            "691/691 [==============================] - 283s 396ms/step - loss: 1.3216 - accuracy: 0.2481 - val_loss: 1.1467 - val_accuracy: 0.2376 - _timestamp: 1651589760.0000 - _runtime: 290.0000\n",
            "Epoch 2/15\n",
            "691/691 [==============================] - 271s 392ms/step - loss: 1.1670 - accuracy: 0.2343 - val_loss: 1.1098 - val_accuracy: 0.2364 - _timestamp: 1651590032.0000 - _runtime: 562.0000\n",
            "Epoch 3/15\n",
            "691/691 [==============================] - 268s 389ms/step - loss: 1.2137 - accuracy: 0.1767 - val_loss: 1.1769 - val_accuracy: 0.1646 - _timestamp: 1651590300.0000 - _runtime: 830.0000\n",
            "Epoch 4/15\n",
            "691/691 [==============================] - 267s 387ms/step - loss: 1.2321 - accuracy: 0.1511 - val_loss: 1.1920 - val_accuracy: 0.1586 - _timestamp: 1651590567.0000 - _runtime: 1097.0000\n",
            "Epoch 5/15\n",
            "691/691 [==============================] - 266s 385ms/step - loss: 1.2378 - accuracy: 0.1527 - val_loss: 1.1878 - val_accuracy: 0.1551 - _timestamp: 1651590833.0000 - _runtime: 1363.0000\n",
            "Epoch 6/15\n",
            "691/691 [==============================] - 267s 387ms/step - loss: 1.2368 - accuracy: 0.1528 - val_loss: 1.1924 - val_accuracy: 0.1551 - _timestamp: 1651591101.0000 - _runtime: 1631.0000\n",
            "Epoch 7/15\n",
            "691/691 [==============================] - 267s 386ms/step - loss: 1.2376 - accuracy: 0.1525 - val_loss: 1.1891 - val_accuracy: 0.1584 - _timestamp: 1651591367.0000 - _runtime: 1897.0000\n",
            "Epoch 8/15\n",
            "691/691 [==============================] - 265s 384ms/step - loss: 1.2383 - accuracy: 0.1519 - val_loss: 1.1949 - val_accuracy: 0.1551 - _timestamp: 1651591633.0000 - _runtime: 2163.0000\n",
            "Epoch 9/15\n",
            "691/691 [==============================] - 265s 383ms/step - loss: 1.2404 - accuracy: 0.1510 - val_loss: 1.2064 - val_accuracy: 0.1570 - _timestamp: 1651591897.0000 - _runtime: 2427.0000\n",
            "Epoch 10/15\n",
            "691/691 [==============================] - 265s 384ms/step - loss: 1.2452 - accuracy: 0.1524 - val_loss: 1.1977 - val_accuracy: 0.1503 - _timestamp: 1651592162.0000 - _runtime: 2692.0000\n",
            "Epoch 11/15\n",
            "691/691 [==============================] - 267s 387ms/step - loss: 1.2449 - accuracy: 0.1506 - val_loss: 1.1968 - val_accuracy: 0.1503 - _timestamp: 1651592430.0000 - _runtime: 2960.0000\n",
            "Epoch 12/15\n",
            "691/691 [==============================] - 267s 386ms/step - loss: 1.2450 - accuracy: 0.1500 - val_loss: 1.1965 - val_accuracy: 0.1548 - _timestamp: 1651592696.0000 - _runtime: 3226.0000\n",
            "Epoch 13/15\n",
            "359/691 [==============>...............] - ETA: 2:06 - loss: 1.2450 - accuracy: 0.1506"
          ]
        }
      ]
    },
    {
      "cell_type": "code",
      "source": [
        "wandb.agent(sweep_id, train,entity=\"pandp\",project = 'CS6910-AS3')"
      ],
      "metadata": {
        "colab": {
          "base_uri": "https://localhost:8080/",
          "height": 1000,
          "referenced_widgets": [
            "6067f9a739f84b9c8a2981a1781fb564",
            "7eaa800b677d4c98b594d3dad39b7933",
            "c4c1226d49cc4167938c92bf0d238293",
            "965c628ef9484c4fa00cab670969055f",
            "0cafbea1af2542d48fda0a341e902ff8",
            "f5df0e06b8ae4033b3f7e0ca01aca579",
            "b3c0ff040e8b466d92f37613b81743af",
            "6852c87892534c84abada09996fd7b83",
            "51336ef9c6ae46a5879dba7b5a0f62c6",
            "aea314e5f0c6490d8ef6b6d4ec41e2ca",
            "af553747ee9f417082a2d5711e828bd1",
            "495355ae53f04a42a2863053d993adb5",
            "7ef28078f4314431875b8d5dbe5b69d4",
            "e683244cbbdf40e192ff46701eea1f56",
            "b26f4e5ec00b4c60a35f2708fdc281cd",
            "56c8b72920fa406b8e4650e07f312e49",
            "d48c351d3a4a454885eae1b6ec203d2b",
            "8c60e63b32264bafbeb3e57e76dfcf27",
            "40d09d1221fd433ebc6b1d606a9d1611",
            "9cd55789131e47eaaf3ac0c7e608e2e9",
            "3f4b8c80b3f441539e9e6a205ac06118",
            "ee71992aa9904b4db5561db5ccc492f3",
            "6444332b26134f9d826772302be9d8d5",
            "fda193e132ec49209b67a678e15a2ca4",
            "47c124452fd4416eb5fb972647205dae",
            "e64a95260b524344ba448492774f501d",
            "b126efbf7b324b79921141afeb0b8a3d",
            "0c9fe633a2474d7ca4ddf2a54419d4d5",
            "8a8722037a6a4bfa9b1331ef2b679ea6",
            "f5723728345e4a45970b9c91573866ab",
            "16b2ebc830c649e0b1c19aef026d7cfb",
            "fe0fa48fb9de419787eac1e94c7210a6",
            "ff8250c7d5c7408085401613f85922a9",
            "0b2b6b78fefb402783f3730e91f3b340",
            "fde0f8e4c55c449d8a0cb1ecb9485239",
            "15efdb7d4a5743799488627eff902459",
            "74601ad331874850ade48e17f66046b4",
            "0b0c3d94ce9047faba2ffe602caaf2a3",
            "012f9ed4f75f43298059cf3588985825",
            "b9a52ce4cedd4caf8946e7baabcf1b2f",
            "99c45e6d99854fb48ea03a85014cbb7a",
            "a226fb73a61a44d2a64a04091c9c76a1",
            "dd7a4e88f1724d12aea77803f0b9b87f",
            "dd4d39967c24431b87039c1d32e883e8",
            "74f65b0ecc824b02bd1ae391d3d2eeb6",
            "fee0d94ca8954f21bc074efa450b2dbd",
            "d005f56a551849dfbea348afa6c62b2c",
            "670b127269e244e29e3db9c0b8a1233e",
            "b3e96d9625b84d219fd465aeb22c192d",
            "bb7791c7c5764063bcb856c664c0b929",
            "1905daaae1d541bead947a69d0d1d881",
            "9727486f511f4960bdd7ac7732705c66",
            "c265038d66044dddad8ac53eda26074c",
            "a9b115f048ea4518875af0e70a9fd285",
            "46a2d4e3e4c6425c973aef0661b99933",
            "ae43ce7414ef4dfba5e4e877ad81c74c",
            "d8406aead4bf4fc98685f5b47f7868c7",
            "c01c797846b349b3b9d38f41349e453b",
            "ac5065fbc27c4247a1d97457918a59eb",
            "b6bf08e7bf924c21a4b3a75824b9918e",
            "50fdf4223a2e41b9bb5982754ac1aaf7",
            "e3cdef2eec9b4e16ba74ee95dfe4172e",
            "de757be4d7c44f1e8dcb0e45294f101c",
            "669dd038e6544739b20acb460a4aee60",
            "f903431f5fec4ded8bdde7a7baac2d5b",
            "9ddf9834a4f0412b9169f61a98a2695d",
            "5b4eb142d5fd41168932865659a14ee4",
            "1b9ebdff3fac48b2954cd7a2b4deb96a",
            "42dc91dadf9d4a56ab44fe1e99410c80",
            "9a9b55281cde49f2a3535ddcbff64b68",
            "af10771d693e4b0da2f4e78a1ceedce0",
            "2258432753cf4676be9868947c98a1aa",
            "398d3d5187924e229b1a4219fbfc3245",
            "3c58332e163a4df1ac364311ace41416",
            "63c654272972480f8f6e6bd457030474",
            "33dca5ff69c54b5bac85f97826583993",
            "64a555d33d04406384b8860fe39a4e33",
            "277849926833488a9b23ba4c054c3e95",
            "732c8f762d8b4a4999d259aceb90ae21",
            "c1ce13b59e824b569aa14c39147629db",
            "5354ccf50b6c410f8fd630cccf2e0960",
            "4848d89a225c4250965d5f3e6de1b68b",
            "b2812962e1f245c39a6a68cc5b32ca4a",
            "853a47cc24a64796b6c1977b649e9af4",
            "a80fd28ea82e49a28c48e38b7e636d3f",
            "b2fe590d58674b47a478b4bc56bd7e44",
            "26545a83d3f24ca69ef0a126c66c66bb",
            "05990ed1d3de411db713592c87c05427",
            "1312ea11cf7f45f690f92e6a10a2fbe2",
            "c54dae56cb1549209a348168d6a64953",
            "050ae662729542e5b0976a61971096d0",
            "44191c0ddec44f69b53a4bc0abe87b52",
            "3561536557d941e78bc88943b1b56126",
            "1c259dff1ecc4e0ab9d2c8609c232168",
            "3c8713cfa0ec43938923a335c910a96a",
            "96cde2a5ff514f1aa44ad376115e0957",
            "325e948d390d4b49823b804ff6824e3a"
          ]
        },
        "id": "KA28tBu7_Q0F",
        "outputId": "176f44b5-e04b-482c-c7d6-c9f395e1f018"
      },
      "execution_count": null,
      "outputs": [
        {
          "metadata": {
            "tags": null
          },
          "name": "stderr",
          "output_type": "stream",
          "text": [
            "\u001b[34m\u001b[1mwandb\u001b[0m: Agent Starting Run: zb1j4467 with config:\n",
            "\u001b[34m\u001b[1mwandb\u001b[0m: \tcell: GRU\n",
            "\u001b[34m\u001b[1mwandb\u001b[0m: \tdense_sz: 512\n",
            "\u001b[34m\u001b[1mwandb\u001b[0m: \tdp: 0.25\n",
            "\u001b[34m\u001b[1mwandb\u001b[0m: \tedls: 3\n",
            "\u001b[34m\u001b[1mwandb\u001b[0m: \temb_sz: 64\n",
            "\u001b[34m\u001b[1mwandb\u001b[0m: \tepochs: 20\n",
            "\u001b[34m\u001b[1mwandb\u001b[0m: \tlr: 0.001\n",
            "\u001b[34m\u001b[1mwandb\u001b[0m: \tnunits: 512\n",
            "\u001b[34m\u001b[1mwandb\u001b[0m: Currently logged in as: \u001b[33mpranab045\u001b[0m (\u001b[33mpandp\u001b[0m). Use \u001b[1m`wandb login --relogin`\u001b[0m to force relogin\n"
          ]
        },
        {
          "data": {
            "text/html": [
              "Tracking run with wandb version 0.12.16"
            ],
            "text/plain": [
              "<IPython.core.display.HTML object>"
            ]
          },
          "metadata": {},
          "output_type": "display_data"
        },
        {
          "data": {
            "text/html": [
              "Run data is saved locally in <code>/content/wandb/run-20220504_073345-zb1j4467</code>"
            ],
            "text/plain": [
              "<IPython.core.display.HTML object>"
            ]
          },
          "metadata": {},
          "output_type": "display_data"
        },
        {
          "data": {
            "text/html": [
              "Syncing run <strong><a href=\"https://wandb.ai/pandp/CS6910-AS3/runs/zb1j4467\" target=\"_blank\">cs6910-AS3-PA</a></strong> to <a href=\"https://wandb.ai/pandp/CS6910-AS3\" target=\"_blank\">Weights & Biases</a> (<a href=\"https://wandb.me/run\" target=\"_blank\">docs</a>)<br/>Sweep page:  <a href=\"https://wandb.ai/pandp/CS6910-AS3/sweeps/3sng050k\" target=\"_blank\">https://wandb.ai/pandp/CS6910-AS3/sweeps/3sng050k</a>"
            ],
            "text/plain": [
              "<IPython.core.display.HTML object>"
            ]
          },
          "metadata": {},
          "output_type": "display_data"
        },
        {
          "metadata": {
            "tags": null
          },
          "name": "stderr",
          "output_type": "stream",
          "text": [
            "\u001b[34m\u001b[1mwandb\u001b[0m: \u001b[33mWARNING\u001b[0m Calling wandb.run.save without any arguments is deprecated.Changes to attributes are automatically persisted.\n",
            "\u001b[34m\u001b[1mwandb\u001b[0m: \u001b[33mWARNING\u001b[0m The save_model argument by default saves the model in the HDF5 format that cannot save custom objects like subclassed models and custom layers. This behavior will be deprecated in a future release in favor of the SavedModel format. Meanwhile, the HDF5 model is saved as W&B files and the SavedModel as W&B Artifacts.\n"
          ]
        },
        {
          "metadata": {
            "tags": null
          },
          "name": "stdout",
          "output_type": "stream",
          "text": [
            "Build Sucessfully\n",
            "Epoch 1/20\n",
            "691/691 [==============================] - 67s 60ms/step - loss: 0.6806 - accuracy: 0.5216 - val_loss: 0.2827 - val_accuracy: 0.7660 - _timestamp: 1651649708.0000 - _runtime: 83.0000\n",
            "Epoch 2/20\n",
            "691/691 [==============================] - 29s 41ms/step - loss: 0.2122 - accuracy: 0.8293 - val_loss: 0.1827 - val_accuracy: 0.8488 - _timestamp: 1651649736.0000 - _runtime: 111.0000\n",
            "Epoch 3/20\n",
            "691/691 [==============================] - 28s 41ms/step - loss: 0.1409 - accuracy: 0.8843 - val_loss: 0.1696 - val_accuracy: 0.8587 - _timestamp: 1651649765.0000 - _runtime: 140.0000\n",
            "Epoch 4/20\n",
            "691/691 [==============================] - 28s 41ms/step - loss: 0.1054 - accuracy: 0.9119 - val_loss: 0.1669 - val_accuracy: 0.8639 - _timestamp: 1651649793.0000 - _runtime: 168.0000\n",
            "Epoch 5/20\n",
            "691/691 [==============================] - 28s 40ms/step - loss: 0.0833 - accuracy: 0.9297 - val_loss: 0.1686 - val_accuracy: 0.8711 - _timestamp: 1651649821.0000 - _runtime: 196.0000\n",
            "Epoch 6/20\n",
            "691/691 [==============================] - 29s 42ms/step - loss: 0.0684 - accuracy: 0.9417 - val_loss: 0.1769 - val_accuracy: 0.8698 - _timestamp: 1651649850.0000 - _runtime: 225.0000\n",
            "Epoch 7/20\n",
            "691/691 [==============================] - 28s 41ms/step - loss: 0.0582 - accuracy: 0.9501 - val_loss: 0.1855 - val_accuracy: 0.8712 - _timestamp: 1651649878.0000 - _runtime: 253.0000\n",
            "Epoch 8/20\n",
            "691/691 [==============================] - 29s 42ms/step - loss: 0.0526 - accuracy: 0.9548 - val_loss: 0.1914 - val_accuracy: 0.8679 - _timestamp: 1651649907.0000 - _runtime: 282.0000\n",
            "Epoch 9/20\n",
            "691/691 [==============================] - 27s 39ms/step - loss: 0.0469 - accuracy: 0.9593 - val_loss: 0.1961 - val_accuracy: 0.8690 - _timestamp: 1651649934.0000 - _runtime: 309.0000\n",
            "Epoch 10/20\n",
            "691/691 [==============================] - 27s 39ms/step - loss: 0.0439 - accuracy: 0.9622 - val_loss: 0.2107 - val_accuracy: 0.8650 - _timestamp: 1651649961.0000 - _runtime: 336.0000\n",
            "Epoch 11/20\n",
            "691/691 [==============================] - 26s 38ms/step - loss: 0.0409 - accuracy: 0.9648 - val_loss: 0.2154 - val_accuracy: 0.8650 - _timestamp: 1651649987.0000 - _runtime: 362.0000\n",
            "Epoch 12/20\n",
            "691/691 [==============================] - 28s 40ms/step - loss: 0.0385 - accuracy: 0.9668 - val_loss: 0.2228 - val_accuracy: 0.8674 - _timestamp: 1651650015.0000 - _runtime: 390.0000\n",
            "Epoch 13/20\n",
            "691/691 [==============================] - 27s 39ms/step - loss: 0.0378 - accuracy: 0.9678 - val_loss: 0.2185 - val_accuracy: 0.8680 - _timestamp: 1651650042.0000 - _runtime: 417.0000\n",
            "Epoch 14/20\n",
            "691/691 [==============================] - 27s 39ms/step - loss: 0.0353 - accuracy: 0.9698 - val_loss: 0.2224 - val_accuracy: 0.8689 - _timestamp: 1651650069.0000 - _runtime: 444.0000\n",
            "Epoch 15/20\n",
            "691/691 [==============================] - 27s 39ms/step - loss: 0.0346 - accuracy: 0.9704 - val_loss: 0.2298 - val_accuracy: 0.8691 - _timestamp: 1651650096.0000 - _runtime: 471.0000\n",
            "Epoch 16/20\n",
            "691/691 [==============================] - 28s 40ms/step - loss: 0.0346 - accuracy: 0.9703 - val_loss: 0.2347 - val_accuracy: 0.8684 - _timestamp: 1651650124.0000 - _runtime: 499.0000\n",
            "Epoch 17/20\n",
            "691/691 [==============================] - 27s 39ms/step - loss: 0.0327 - accuracy: 0.9721 - val_loss: 0.2334 - val_accuracy: 0.8668 - _timestamp: 1651650150.0000 - _runtime: 525.0000\n",
            "Epoch 18/20\n",
            "691/691 [==============================] - 27s 39ms/step - loss: 0.0320 - accuracy: 0.9725 - val_loss: 0.2408 - val_accuracy: 0.8670 - _timestamp: 1651650178.0000 - _runtime: 553.0000\n",
            "Epoch 19/20\n",
            "691/691 [==============================] - 28s 40ms/step - loss: 0.0312 - accuracy: 0.9727 - val_loss: 0.2489 - val_accuracy: 0.8681 - _timestamp: 1651650205.0000 - _runtime: 580.0000\n",
            "Epoch 20/20\n",
            "691/691 [==============================] - 27s 40ms/step - loss: 0.0318 - accuracy: 0.9725 - val_loss: 0.2392 - val_accuracy: 0.8674 - _timestamp: 1651650232.0000 - _runtime: 607.0000\n",
            "Completed ! \n"
          ]
        },
        {
          "data": {
            "text/html": [
              "Waiting for W&B process to finish... <strong style=\"color:green\">(success).</strong>"
            ],
            "text/plain": [
              "<IPython.core.display.HTML object>"
            ]
          },
          "metadata": {},
          "output_type": "display_data"
        },
        {
          "data": {
            "application/vnd.jupyter.widget-view+json": {
              "model_id": "6067f9a739f84b9c8a2981a1781fb564",
              "version_major": 2,
              "version_minor": 0
            },
            "text/plain": [
              "VBox(children=(Label(value='96.042 MB of 96.042 MB uploaded (0.000 MB deduped)\\r'), FloatProgress(value=1.0, m…"
            ]
          },
          "metadata": {},
          "output_type": "display_data"
        },
        {
          "data": {
            "text/html": [
              "<style>\n",
              "    table.wandb td:nth-child(1) { padding: 0 10px; text-align: left ; width: auto;} td:nth-child(2) {text-align: left ; width: 100%}\n",
              "    .wandb-row { display: flex; flex-direction: row; flex-wrap: wrap; justify-content: flex-start; width: 100% }\n",
              "    .wandb-col { display: flex; flex-direction: column; flex-basis: 100%; flex: 1; padding: 10px; }\n",
              "    </style>\n",
              "<div class=\"wandb-row\"><div class=\"wandb-col\"><h3>Run history:</h3><br/><table class=\"wandb\"><tr><td>accuracy</td><td>▁▆▇▇▇███████████████</td></tr><tr><td>epoch</td><td>▁▁▂▂▂▃▃▄▄▄▅▅▅▆▆▇▇▇██</td></tr><tr><td>loss</td><td>█▃▂▂▂▁▁▁▁▁▁▁▁▁▁▁▁▁▁▁</td></tr><tr><td>val_accuracy</td><td>▁▇▇█████████████████</td></tr><tr><td>val_loss</td><td>█▂▁▁▁▂▂▂▃▄▄▄▄▄▅▅▅▅▆▅</td></tr></table><br/></div><div class=\"wandb-col\"><h3>Run summary:</h3><br/><table class=\"wandb\"><tr><td>accuracy</td><td>0.97251</td></tr><tr><td>best_epoch</td><td>6</td></tr><tr><td>best_val_accuracy</td><td>0.87123</td></tr><tr><td>epoch</td><td>19</td></tr><tr><td>loss</td><td>0.0318</td></tr><tr><td>val_accuracy</td><td>0.86739</td></tr><tr><td>val_loss</td><td>0.23921</td></tr></table><br/></div></div>"
            ],
            "text/plain": [
              "<IPython.core.display.HTML object>"
            ]
          },
          "metadata": {},
          "output_type": "display_data"
        },
        {
          "data": {
            "text/html": [
              "Synced <strong style=\"color:#cdcd00\">cs6910-AS3-PA</strong>: <a href=\"https://wandb.ai/pandp/CS6910-AS3/runs/zb1j4467\" target=\"_blank\">https://wandb.ai/pandp/CS6910-AS3/runs/zb1j4467</a><br/>Synced 5 W&B file(s), 1 media file(s), 0 artifact file(s) and 1 other file(s)"
            ],
            "text/plain": [
              "<IPython.core.display.HTML object>"
            ]
          },
          "metadata": {},
          "output_type": "display_data"
        },
        {
          "data": {
            "text/html": [
              "Find logs at: <code>./wandb/run-20220504_073345-zb1j4467/logs</code>"
            ],
            "text/plain": [
              "<IPython.core.display.HTML object>"
            ]
          },
          "metadata": {},
          "output_type": "display_data"
        },
        {
          "metadata": {
            "tags": null
          },
          "name": "stderr",
          "output_type": "stream",
          "text": [
            "\u001b[34m\u001b[1mwandb\u001b[0m: Agent Starting Run: y8zacvp1 with config:\n",
            "\u001b[34m\u001b[1mwandb\u001b[0m: \tcell: LSTM\n",
            "\u001b[34m\u001b[1mwandb\u001b[0m: \tdense_sz: 512\n",
            "\u001b[34m\u001b[1mwandb\u001b[0m: \tdp: 0.25\n",
            "\u001b[34m\u001b[1mwandb\u001b[0m: \tedls: 3\n",
            "\u001b[34m\u001b[1mwandb\u001b[0m: \temb_sz: 64\n",
            "\u001b[34m\u001b[1mwandb\u001b[0m: \tepochs: 15\n",
            "\u001b[34m\u001b[1mwandb\u001b[0m: \tlr: 0.001\n",
            "\u001b[34m\u001b[1mwandb\u001b[0m: \tnunits: 128\n"
          ]
        },
        {
          "data": {
            "text/html": [
              "Tracking run with wandb version 0.12.16"
            ],
            "text/plain": [
              "<IPython.core.display.HTML object>"
            ]
          },
          "metadata": {},
          "output_type": "display_data"
        },
        {
          "data": {
            "text/html": [
              "Run data is saved locally in <code>/content/wandb/run-20220504_074403-y8zacvp1</code>"
            ],
            "text/plain": [
              "<IPython.core.display.HTML object>"
            ]
          },
          "metadata": {},
          "output_type": "display_data"
        },
        {
          "data": {
            "text/html": [
              "Syncing run <strong><a href=\"https://wandb.ai/pandp/CS6910-AS3/runs/y8zacvp1\" target=\"_blank\">cs6910-AS3-PA</a></strong> to <a href=\"https://wandb.ai/pandp/CS6910-AS3\" target=\"_blank\">Weights & Biases</a> (<a href=\"https://wandb.me/run\" target=\"_blank\">docs</a>)<br/>Sweep page:  <a href=\"https://wandb.ai/pandp/CS6910-AS3/sweeps/3sng050k\" target=\"_blank\">https://wandb.ai/pandp/CS6910-AS3/sweeps/3sng050k</a>"
            ],
            "text/plain": [
              "<IPython.core.display.HTML object>"
            ]
          },
          "metadata": {},
          "output_type": "display_data"
        },
        {
          "metadata": {
            "tags": null
          },
          "name": "stdout",
          "output_type": "stream",
          "text": [
            "Build Sucessfully\n",
            "Epoch 1/15\n",
            "691/691 [==============================] - 53s 48ms/step - loss: 0.9471 - accuracy: 0.3509 - val_loss: 0.7166 - val_accuracy: 0.4492 - _timestamp: 1651650310.0000 - _runtime: 67.0000\n",
            "Epoch 2/15\n",
            "691/691 [==============================] - 26s 38ms/step - loss: 0.6204 - accuracy: 0.5393 - val_loss: 0.4892 - val_accuracy: 0.6192 - _timestamp: 1651650337.0000 - _runtime: 94.0000\n",
            "Epoch 3/15\n",
            "691/691 [==============================] - 26s 38ms/step - loss: 0.4354 - accuracy: 0.6674 - val_loss: 0.3510 - val_accuracy: 0.7268 - _timestamp: 1651650363.0000 - _runtime: 120.0000\n",
            "Epoch 4/15\n",
            "691/691 [==============================] - 26s 38ms/step - loss: 0.3197 - accuracy: 0.7512 - val_loss: 0.2674 - val_accuracy: 0.7879 - _timestamp: 1651650389.0000 - _runtime: 146.0000\n",
            "Epoch 5/15\n",
            "691/691 [==============================] - 26s 38ms/step - loss: 0.2499 - accuracy: 0.8018 - val_loss: 0.2261 - val_accuracy: 0.8179 - _timestamp: 1651650415.0000 - _runtime: 172.0000\n",
            "Epoch 6/15\n",
            "691/691 [==============================] - 26s 37ms/step - loss: 0.2096 - accuracy: 0.8317 - val_loss: 0.2068 - val_accuracy: 0.8320 - _timestamp: 1651650441.0000 - _runtime: 198.0000\n",
            "Epoch 7/15\n",
            "691/691 [==============================] - 27s 38ms/step - loss: 0.1811 - accuracy: 0.8529 - val_loss: 0.1894 - val_accuracy: 0.8428 - _timestamp: 1651650467.0000 - _runtime: 224.0000\n",
            "Epoch 8/15\n",
            "691/691 [==============================] - 26s 37ms/step - loss: 0.1609 - accuracy: 0.8686 - val_loss: 0.1827 - val_accuracy: 0.8493 - _timestamp: 1651650493.0000 - _runtime: 250.0000\n",
            "Epoch 9/15\n",
            "691/691 [==============================] - 26s 38ms/step - loss: 0.1444 - accuracy: 0.8813 - val_loss: 0.1728 - val_accuracy: 0.8578 - _timestamp: 1651650520.0000 - _runtime: 277.0000\n",
            "Epoch 10/15\n",
            "691/691 [==============================] - 26s 38ms/step - loss: 0.1303 - accuracy: 0.8920 - val_loss: 0.1754 - val_accuracy: 0.8562 - _timestamp: 1651650546.0000 - _runtime: 303.0000\n",
            "Epoch 11/15\n",
            "691/691 [==============================] - 26s 38ms/step - loss: 0.1188 - accuracy: 0.9014 - val_loss: 0.1733 - val_accuracy: 0.8615 - _timestamp: 1651650572.0000 - _runtime: 329.0000\n",
            "Epoch 12/15\n",
            "691/691 [==============================] - 26s 38ms/step - loss: 0.1085 - accuracy: 0.9091 - val_loss: 0.1704 - val_accuracy: 0.8643 - _timestamp: 1651650598.0000 - _runtime: 355.0000\n",
            "Epoch 13/15\n",
            "691/691 [==============================] - 26s 38ms/step - loss: 0.0988 - accuracy: 0.9169 - val_loss: 0.1732 - val_accuracy: 0.8635 - _timestamp: 1651650624.0000 - _runtime: 381.0000\n",
            "Epoch 14/15\n",
            "691/691 [==============================] - 27s 39ms/step - loss: 0.0907 - accuracy: 0.9231 - val_loss: 0.1741 - val_accuracy: 0.8652 - _timestamp: 1651650651.0000 - _runtime: 408.0000\n",
            "Epoch 15/15\n",
            "691/691 [==============================] - 25s 37ms/step - loss: 0.0838 - accuracy: 0.9289 - val_loss: 0.1739 - val_accuracy: 0.8686 - _timestamp: 1651650676.0000 - _runtime: 433.0000\n",
            "Completed ! \n"
          ]
        },
        {
          "data": {
            "text/html": [
              "Waiting for W&B process to finish... <strong style=\"color:green\">(success).</strong>"
            ],
            "text/plain": [
              "<IPython.core.display.HTML object>"
            ]
          },
          "metadata": {},
          "output_type": "display_data"
        },
        {
          "data": {
            "application/vnd.jupyter.widget-view+json": {
              "model_id": "51336ef9c6ae46a5879dba7b5a0f62c6",
              "version_major": 2,
              "version_minor": 0
            },
            "text/plain": [
              "VBox(children=(Label(value='9.616 MB of 9.616 MB uploaded (0.000 MB deduped)\\r'), FloatProgress(value=1.0, max…"
            ]
          },
          "metadata": {},
          "output_type": "display_data"
        },
        {
          "data": {
            "text/html": [
              "<style>\n",
              "    table.wandb td:nth-child(1) { padding: 0 10px; text-align: left ; width: auto;} td:nth-child(2) {text-align: left ; width: 100%}\n",
              "    .wandb-row { display: flex; flex-direction: row; flex-wrap: wrap; justify-content: flex-start; width: 100% }\n",
              "    .wandb-col { display: flex; flex-direction: column; flex-basis: 100%; flex: 1; padding: 10px; }\n",
              "    </style>\n",
              "<div class=\"wandb-row\"><div class=\"wandb-col\"><h3>Run history:</h3><br/><table class=\"wandb\"><tr><td>accuracy</td><td>▁▃▅▆▆▇▇▇▇██████</td></tr><tr><td>epoch</td><td>▁▁▂▃▃▃▄▅▅▅▆▇▇▇█</td></tr><tr><td>loss</td><td>█▅▄▃▂▂▂▂▁▁▁▁▁▁▁</td></tr><tr><td>val_accuracy</td><td>▁▄▆▇▇▇█████████</td></tr><tr><td>val_loss</td><td>█▅▃▂▂▁▁▁▁▁▁▁▁▁▁</td></tr></table><br/></div><div class=\"wandb-col\"><h3>Run summary:</h3><br/><table class=\"wandb\"><tr><td>accuracy</td><td>0.92894</td></tr><tr><td>best_epoch</td><td>14</td></tr><tr><td>best_val_accuracy</td><td>0.86863</td></tr><tr><td>epoch</td><td>14</td></tr><tr><td>loss</td><td>0.08382</td></tr><tr><td>val_accuracy</td><td>0.86863</td></tr><tr><td>val_loss</td><td>0.17391</td></tr></table><br/></div></div>"
            ],
            "text/plain": [
              "<IPython.core.display.HTML object>"
            ]
          },
          "metadata": {},
          "output_type": "display_data"
        },
        {
          "data": {
            "text/html": [
              "Synced <strong style=\"color:#cdcd00\">cs6910-AS3-PA</strong>: <a href=\"https://wandb.ai/pandp/CS6910-AS3/runs/y8zacvp1\" target=\"_blank\">https://wandb.ai/pandp/CS6910-AS3/runs/y8zacvp1</a><br/>Synced 5 W&B file(s), 1 media file(s), 0 artifact file(s) and 1 other file(s)"
            ],
            "text/plain": [
              "<IPython.core.display.HTML object>"
            ]
          },
          "metadata": {},
          "output_type": "display_data"
        },
        {
          "data": {
            "text/html": [
              "Find logs at: <code>./wandb/run-20220504_074403-y8zacvp1/logs</code>"
            ],
            "text/plain": [
              "<IPython.core.display.HTML object>"
            ]
          },
          "metadata": {},
          "output_type": "display_data"
        },
        {
          "metadata": {
            "tags": null
          },
          "name": "stderr",
          "output_type": "stream",
          "text": [
            "\u001b[34m\u001b[1mwandb\u001b[0m: Agent Starting Run: a99berzj with config:\n",
            "\u001b[34m\u001b[1mwandb\u001b[0m: \tcell: GRU\n",
            "\u001b[34m\u001b[1mwandb\u001b[0m: \tdense_sz: 64\n",
            "\u001b[34m\u001b[1mwandb\u001b[0m: \tdp: 0\n",
            "\u001b[34m\u001b[1mwandb\u001b[0m: \tedls: 3\n",
            "\u001b[34m\u001b[1mwandb\u001b[0m: \temb_sz: 256\n",
            "\u001b[34m\u001b[1mwandb\u001b[0m: \tepochs: 20\n",
            "\u001b[34m\u001b[1mwandb\u001b[0m: \tlr: 0.001\n",
            "\u001b[34m\u001b[1mwandb\u001b[0m: \tnunits: 512\n"
          ]
        },
        {
          "data": {
            "text/html": [
              "Tracking run with wandb version 0.12.16"
            ],
            "text/plain": [
              "<IPython.core.display.HTML object>"
            ]
          },
          "metadata": {},
          "output_type": "display_data"
        },
        {
          "data": {
            "text/html": [
              "Run data is saved locally in <code>/content/wandb/run-20220504_075207-a99berzj</code>"
            ],
            "text/plain": [
              "<IPython.core.display.HTML object>"
            ]
          },
          "metadata": {},
          "output_type": "display_data"
        },
        {
          "data": {
            "text/html": [
              "Syncing run <strong><a href=\"https://wandb.ai/pandp/CS6910-AS3/runs/a99berzj\" target=\"_blank\">cs6910-AS3-PA</a></strong> to <a href=\"https://wandb.ai/pandp/CS6910-AS3\" target=\"_blank\">Weights & Biases</a> (<a href=\"https://wandb.me/run\" target=\"_blank\">docs</a>)<br/>Sweep page:  <a href=\"https://wandb.ai/pandp/CS6910-AS3/sweeps/3sng050k\" target=\"_blank\">https://wandb.ai/pandp/CS6910-AS3/sweeps/3sng050k</a>"
            ],
            "text/plain": [
              "<IPython.core.display.HTML object>"
            ]
          },
          "metadata": {},
          "output_type": "display_data"
        },
        {
          "metadata": {
            "tags": null
          },
          "name": "stdout",
          "output_type": "stream",
          "text": [
            "Build Sucessfully\n",
            "Epoch 1/20\n",
            "691/691 [==============================] - 54s 50ms/step - loss: 0.5652 - accuracy: 0.6063 - val_loss: 0.2289 - val_accuracy: 0.8165 - _timestamp: 1651650796.0000 - _runtime: 69.0000\n",
            "Epoch 2/20\n",
            "691/691 [==============================] - 28s 40ms/step - loss: 0.1794 - accuracy: 0.8578 - val_loss: 0.1770 - val_accuracy: 0.8547 - _timestamp: 1651650823.0000 - _runtime: 96.0000\n",
            "Epoch 3/20\n",
            "691/691 [==============================] - 27s 39ms/step - loss: 0.1224 - accuracy: 0.9017 - val_loss: 0.1689 - val_accuracy: 0.8642 - _timestamp: 1651650850.0000 - _runtime: 123.0000\n",
            "Epoch 4/20\n",
            "691/691 [==============================] - 28s 41ms/step - loss: 0.0919 - accuracy: 0.9254 - val_loss: 0.1678 - val_accuracy: 0.8681 - _timestamp: 1651650878.0000 - _runtime: 151.0000\n",
            "Epoch 5/20\n",
            "691/691 [==============================] - 28s 40ms/step - loss: 0.0731 - accuracy: 0.9399 - val_loss: 0.1707 - val_accuracy: 0.8695 - _timestamp: 1651650906.0000 - _runtime: 179.0000\n",
            "Epoch 6/20\n",
            "691/691 [==============================] - 27s 39ms/step - loss: 0.0594 - accuracy: 0.9509 - val_loss: 0.1850 - val_accuracy: 0.8685 - _timestamp: 1651650933.0000 - _runtime: 206.0000\n",
            "Epoch 7/20\n",
            "691/691 [==============================] - 27s 39ms/step - loss: 0.0516 - accuracy: 0.9572 - val_loss: 0.1903 - val_accuracy: 0.8682 - _timestamp: 1651650960.0000 - _runtime: 233.0000\n",
            "Epoch 8/20\n",
            "691/691 [==============================] - 27s 39ms/step - loss: 0.0473 - accuracy: 0.9605 - val_loss: 0.1948 - val_accuracy: 0.8669 - _timestamp: 1651650987.0000 - _runtime: 260.0000\n",
            "Epoch 9/20\n",
            "691/691 [==============================] - 27s 39ms/step - loss: 0.0427 - accuracy: 0.9642 - val_loss: 0.2008 - val_accuracy: 0.8672 - _timestamp: 1651651014.0000 - _runtime: 287.0000\n",
            "Epoch 10/20\n",
            "691/691 [==============================] - 27s 39ms/step - loss: 0.0397 - accuracy: 0.9672 - val_loss: 0.2086 - val_accuracy: 0.8684 - _timestamp: 1651651041.0000 - _runtime: 314.0000\n",
            "Epoch 11/20\n",
            "691/691 [==============================] - 27s 39ms/step - loss: 0.0381 - accuracy: 0.9682 - val_loss: 0.2133 - val_accuracy: 0.8671 - _timestamp: 1651651068.0000 - _runtime: 341.0000\n",
            "Epoch 12/20\n",
            "691/691 [==============================] - 27s 39ms/step - loss: 0.0371 - accuracy: 0.9694 - val_loss: 0.2117 - val_accuracy: 0.8695 - _timestamp: 1651651095.0000 - _runtime: 368.0000\n",
            "Epoch 13/20\n",
            "691/691 [==============================] - 27s 39ms/step - loss: 0.0337 - accuracy: 0.9722 - val_loss: 0.2160 - val_accuracy: 0.8659 - _timestamp: 1651651122.0000 - _runtime: 395.0000\n",
            "Epoch 14/20\n",
            "691/691 [==============================] - 27s 39ms/step - loss: 0.0348 - accuracy: 0.9712 - val_loss: 0.2281 - val_accuracy: 0.8631 - _timestamp: 1651651149.0000 - _runtime: 422.0000\n",
            "Epoch 15/20\n",
            "691/691 [==============================] - 26s 38ms/step - loss: 0.0341 - accuracy: 0.9719 - val_loss: 0.2251 - val_accuracy: 0.8655 - _timestamp: 1651651175.0000 - _runtime: 448.0000\n",
            "Epoch 16/20\n",
            "691/691 [==============================] - 27s 38ms/step - loss: 0.0314 - accuracy: 0.9741 - val_loss: 0.2284 - val_accuracy: 0.8678 - _timestamp: 1651651202.0000 - _runtime: 475.0000\n",
            "Epoch 17/20\n",
            "691/691 [==============================] - 27s 39ms/step - loss: 0.0315 - accuracy: 0.9745 - val_loss: 0.2352 - val_accuracy: 0.8651 - _timestamp: 1651651228.0000 - _runtime: 501.0000\n",
            "Epoch 18/20\n",
            "691/691 [==============================] - 28s 40ms/step - loss: 0.0309 - accuracy: 0.9747 - val_loss: 0.2345 - val_accuracy: 0.8651 - _timestamp: 1651651256.0000 - _runtime: 529.0000\n",
            "Epoch 19/20\n",
            "691/691 [==============================] - 27s 39ms/step - loss: 0.0325 - accuracy: 0.9732 - val_loss: 0.2294 - val_accuracy: 0.8637 - _timestamp: 1651651283.0000 - _runtime: 556.0000\n",
            "Epoch 20/20\n",
            "691/691 [==============================] - 27s 39ms/step - loss: 0.0315 - accuracy: 0.9739 - val_loss: 0.2360 - val_accuracy: 0.8655 - _timestamp: 1651651310.0000 - _runtime: 583.0000\n",
            "Completed ! \n"
          ]
        },
        {
          "data": {
            "text/html": [
              "Waiting for W&B process to finish... <strong style=\"color:green\">(success).</strong>"
            ],
            "text/plain": [
              "<IPython.core.display.HTML object>"
            ]
          },
          "metadata": {},
          "output_type": "display_data"
        },
        {
          "data": {
            "application/vnd.jupyter.widget-view+json": {
              "model_id": "d48c351d3a4a454885eae1b6ec203d2b",
              "version_major": 2,
              "version_minor": 0
            },
            "text/plain": [
              "VBox(children=(Label(value='100.025 MB of 100.025 MB uploaded (0.000 MB deduped)\\r'), FloatProgress(value=1.0,…"
            ]
          },
          "metadata": {},
          "output_type": "display_data"
        },
        {
          "data": {
            "text/html": [
              "<style>\n",
              "    table.wandb td:nth-child(1) { padding: 0 10px; text-align: left ; width: auto;} td:nth-child(2) {text-align: left ; width: 100%}\n",
              "    .wandb-row { display: flex; flex-direction: row; flex-wrap: wrap; justify-content: flex-start; width: 100% }\n",
              "    .wandb-col { display: flex; flex-direction: column; flex-basis: 100%; flex: 1; padding: 10px; }\n",
              "    </style>\n",
              "<div class=\"wandb-row\"><div class=\"wandb-col\"><h3>Run history:</h3><br/><table class=\"wandb\"><tr><td>accuracy</td><td>▁▆▇▇▇███████████████</td></tr><tr><td>epoch</td><td>▁▁▂▂▂▃▃▄▄▄▅▅▅▆▆▇▇▇██</td></tr><tr><td>loss</td><td>█▃▂▂▂▁▁▁▁▁▁▁▁▁▁▁▁▁▁▁</td></tr><tr><td>val_accuracy</td><td>▁▆▇██████████▇▇█▇▇▇▇</td></tr><tr><td>val_loss</td><td>▇▂▁▁▁▃▃▄▄▅▆▆▆▇▇▇██▇█</td></tr></table><br/></div><div class=\"wandb-col\"><h3>Run summary:</h3><br/><table class=\"wandb\"><tr><td>accuracy</td><td>0.97392</td></tr><tr><td>best_epoch</td><td>11</td></tr><tr><td>best_val_accuracy</td><td>0.86953</td></tr><tr><td>epoch</td><td>19</td></tr><tr><td>loss</td><td>0.03154</td></tr><tr><td>val_accuracy</td><td>0.86546</td></tr><tr><td>val_loss</td><td>0.23604</td></tr></table><br/></div></div>"
            ],
            "text/plain": [
              "<IPython.core.display.HTML object>"
            ]
          },
          "metadata": {},
          "output_type": "display_data"
        },
        {
          "data": {
            "text/html": [
              "Synced <strong style=\"color:#cdcd00\">cs6910-AS3-PA</strong>: <a href=\"https://wandb.ai/pandp/CS6910-AS3/runs/a99berzj\" target=\"_blank\">https://wandb.ai/pandp/CS6910-AS3/runs/a99berzj</a><br/>Synced 5 W&B file(s), 1 media file(s), 0 artifact file(s) and 1 other file(s)"
            ],
            "text/plain": [
              "<IPython.core.display.HTML object>"
            ]
          },
          "metadata": {},
          "output_type": "display_data"
        },
        {
          "data": {
            "text/html": [
              "Find logs at: <code>./wandb/run-20220504_075207-a99berzj/logs</code>"
            ],
            "text/plain": [
              "<IPython.core.display.HTML object>"
            ]
          },
          "metadata": {},
          "output_type": "display_data"
        },
        {
          "metadata": {
            "tags": null
          },
          "name": "stderr",
          "output_type": "stream",
          "text": [
            "\u001b[34m\u001b[1mwandb\u001b[0m: Agent Starting Run: laiblydc with config:\n",
            "\u001b[34m\u001b[1mwandb\u001b[0m: \tcell: LSTM\n",
            "\u001b[34m\u001b[1mwandb\u001b[0m: \tdense_sz: 512\n",
            "\u001b[34m\u001b[1mwandb\u001b[0m: \tdp: 0\n",
            "\u001b[34m\u001b[1mwandb\u001b[0m: \tedls: 4\n",
            "\u001b[34m\u001b[1mwandb\u001b[0m: \temb_sz: 32\n",
            "\u001b[34m\u001b[1mwandb\u001b[0m: \tepochs: 15\n",
            "\u001b[34m\u001b[1mwandb\u001b[0m: \tlr: 0.001\n",
            "\u001b[34m\u001b[1mwandb\u001b[0m: \tnunits: 512\n"
          ]
        },
        {
          "data": {
            "text/html": [
              "Tracking run with wandb version 0.12.16"
            ],
            "text/plain": [
              "<IPython.core.display.HTML object>"
            ]
          },
          "metadata": {},
          "output_type": "display_data"
        },
        {
          "data": {
            "text/html": [
              "Run data is saved locally in <code>/content/wandb/run-20220504_080213-laiblydc</code>"
            ],
            "text/plain": [
              "<IPython.core.display.HTML object>"
            ]
          },
          "metadata": {},
          "output_type": "display_data"
        },
        {
          "data": {
            "text/html": [
              "Syncing run <strong><a href=\"https://wandb.ai/pandp/CS6910-AS3/runs/laiblydc\" target=\"_blank\">cs6910-AS3-PA</a></strong> to <a href=\"https://wandb.ai/pandp/CS6910-AS3\" target=\"_blank\">Weights & Biases</a> (<a href=\"https://wandb.me/run\" target=\"_blank\">docs</a>)<br/>Sweep page:  <a href=\"https://wandb.ai/pandp/CS6910-AS3/sweeps/3sng050k\" target=\"_blank\">https://wandb.ai/pandp/CS6910-AS3/sweeps/3sng050k</a>"
            ],
            "text/plain": [
              "<IPython.core.display.HTML object>"
            ]
          },
          "metadata": {},
          "output_type": "display_data"
        },
        {
          "metadata": {
            "tags": null
          },
          "name": "stdout",
          "output_type": "stream",
          "text": [
            "Build Sucessfully\n",
            "Epoch 1/15\n",
            "691/691 [==============================] - 78s 73ms/step - loss: 0.8527 - accuracy: 0.4130 - val_loss: 0.5110 - val_accuracy: 0.6093 - _timestamp: 1651651428.0000 - _runtime: 95.0000\n",
            "Epoch 2/15\n",
            "691/691 [==============================] - 41s 60ms/step - loss: 0.3558 - accuracy: 0.7294 - val_loss: 0.2604 - val_accuracy: 0.7910 - _timestamp: 1651651469.0000 - _runtime: 136.0000\n",
            "Epoch 3/15\n",
            "691/691 [==============================] - 41s 59ms/step - loss: 0.2024 - accuracy: 0.8389 - val_loss: 0.1992 - val_accuracy: 0.8370 - _timestamp: 1651651510.0000 - _runtime: 177.0000\n",
            "Epoch 4/15\n",
            "691/691 [==============================] - 41s 59ms/step - loss: 0.1413 - accuracy: 0.8852 - val_loss: 0.1819 - val_accuracy: 0.8518 - _timestamp: 1651651551.0000 - _runtime: 218.0000\n",
            "Epoch 5/15\n",
            "691/691 [==============================] - 41s 59ms/step - loss: 0.1054 - accuracy: 0.9129 - val_loss: 0.1811 - val_accuracy: 0.8553 - _timestamp: 1651651592.0000 - _runtime: 259.0000\n",
            "Epoch 6/15\n",
            "691/691 [==============================] - 41s 59ms/step - loss: 0.0806 - accuracy: 0.9323 - val_loss: 0.1816 - val_accuracy: 0.8624 - _timestamp: 1651651633.0000 - _runtime: 300.0000\n",
            "Epoch 7/15\n",
            "691/691 [==============================] - 40s 58ms/step - loss: 0.0633 - accuracy: 0.9460 - val_loss: 0.1919 - val_accuracy: 0.8606 - _timestamp: 1651651674.0000 - _runtime: 341.0000\n",
            "Epoch 8/15\n",
            "691/691 [==============================] - 41s 59ms/step - loss: 0.0512 - accuracy: 0.9563 - val_loss: 0.1972 - val_accuracy: 0.8624 - _timestamp: 1651651714.0000 - _runtime: 381.0000\n",
            "Epoch 9/15\n",
            "691/691 [==============================] - 41s 59ms/step - loss: 0.0430 - accuracy: 0.9632 - val_loss: 0.2041 - val_accuracy: 0.8645 - _timestamp: 1651651755.0000 - _runtime: 422.0000\n",
            "Epoch 10/15\n",
            "691/691 [==============================] - 40s 58ms/step - loss: 0.0374 - accuracy: 0.9679 - val_loss: 0.2132 - val_accuracy: 0.8638 - _timestamp: 1651651796.0000 - _runtime: 463.0000\n",
            "Epoch 11/15\n",
            "691/691 [==============================] - 44s 64ms/step - loss: 0.0332 - accuracy: 0.9721 - val_loss: 0.2199 - val_accuracy: 0.8646 - _timestamp: 1651651839.0000 - _runtime: 506.0000\n",
            "Epoch 12/15\n",
            "691/691 [==============================] - 41s 59ms/step - loss: 0.0305 - accuracy: 0.9748 - val_loss: 0.2234 - val_accuracy: 0.8669 - _timestamp: 1651651880.0000 - _runtime: 547.0000\n",
            "Epoch 13/15\n",
            "691/691 [==============================] - 40s 58ms/step - loss: 0.0282 - accuracy: 0.9767 - val_loss: 0.2373 - val_accuracy: 0.8610 - _timestamp: 1651651921.0000 - _runtime: 588.0000\n",
            "Epoch 14/15\n",
            "691/691 [==============================] - 40s 58ms/step - loss: 0.0272 - accuracy: 0.9776 - val_loss: 0.2334 - val_accuracy: 0.8670 - _timestamp: 1651651961.0000 - _runtime: 628.0000\n",
            "Epoch 15/15\n",
            "691/691 [==============================] - 41s 59ms/step - loss: 0.0241 - accuracy: 0.9802 - val_loss: 0.2417 - val_accuracy: 0.8647 - _timestamp: 1651652002.0000 - _runtime: 669.0000\n",
            "Completed ! \n"
          ]
        },
        {
          "data": {
            "text/html": [
              "Waiting for W&B process to finish... <strong style=\"color:green\">(success).</strong>"
            ],
            "text/plain": [
              "<IPython.core.display.HTML object>"
            ]
          },
          "metadata": {},
          "output_type": "display_data"
        },
        {
          "data": {
            "application/vnd.jupyter.widget-view+json": {
              "model_id": "47c124452fd4416eb5fb972647205dae",
              "version_major": 2,
              "version_minor": 0
            },
            "text/plain": [
              "VBox(children=(Label(value='173.260 MB of 173.260 MB uploaded (0.000 MB deduped)\\r'), FloatProgress(value=1.0,…"
            ]
          },
          "metadata": {},
          "output_type": "display_data"
        },
        {
          "data": {
            "text/html": [
              "<style>\n",
              "    table.wandb td:nth-child(1) { padding: 0 10px; text-align: left ; width: auto;} td:nth-child(2) {text-align: left ; width: 100%}\n",
              "    .wandb-row { display: flex; flex-direction: row; flex-wrap: wrap; justify-content: flex-start; width: 100% }\n",
              "    .wandb-col { display: flex; flex-direction: column; flex-basis: 100%; flex: 1; padding: 10px; }\n",
              "    </style>\n",
              "<div class=\"wandb-row\"><div class=\"wandb-col\"><h3>Run history:</h3><br/><table class=\"wandb\"><tr><td>accuracy</td><td>▁▅▆▇▇▇█████████</td></tr><tr><td>epoch</td><td>▁▁▂▃▃▃▄▅▅▅▆▇▇▇█</td></tr><tr><td>loss</td><td>█▄▃▂▂▁▁▁▁▁▁▁▁▁▁</td></tr><tr><td>val_accuracy</td><td>▁▆▇████████████</td></tr><tr><td>val_loss</td><td>█▃▁▁▁▁▁▁▁▂▂▂▂▂▂</td></tr></table><br/></div><div class=\"wandb-col\"><h3>Run summary:</h3><br/><table class=\"wandb\"><tr><td>accuracy</td><td>0.98021</td></tr><tr><td>best_epoch</td><td>13</td></tr><tr><td>best_val_accuracy</td><td>0.86699</td></tr><tr><td>epoch</td><td>14</td></tr><tr><td>loss</td><td>0.02408</td></tr><tr><td>val_accuracy</td><td>0.86471</td></tr><tr><td>val_loss</td><td>0.24168</td></tr></table><br/></div></div>"
            ],
            "text/plain": [
              "<IPython.core.display.HTML object>"
            ]
          },
          "metadata": {},
          "output_type": "display_data"
        },
        {
          "data": {
            "text/html": [
              "Synced <strong style=\"color:#cdcd00\">cs6910-AS3-PA</strong>: <a href=\"https://wandb.ai/pandp/CS6910-AS3/runs/laiblydc\" target=\"_blank\">https://wandb.ai/pandp/CS6910-AS3/runs/laiblydc</a><br/>Synced 5 W&B file(s), 1 media file(s), 0 artifact file(s) and 1 other file(s)"
            ],
            "text/plain": [
              "<IPython.core.display.HTML object>"
            ]
          },
          "metadata": {},
          "output_type": "display_data"
        },
        {
          "data": {
            "text/html": [
              "Find logs at: <code>./wandb/run-20220504_080213-laiblydc/logs</code>"
            ],
            "text/plain": [
              "<IPython.core.display.HTML object>"
            ]
          },
          "metadata": {},
          "output_type": "display_data"
        },
        {
          "metadata": {
            "tags": null
          },
          "name": "stderr",
          "output_type": "stream",
          "text": [
            "\u001b[34m\u001b[1mwandb\u001b[0m: Agent Starting Run: z24cgc5z with config:\n",
            "\u001b[34m\u001b[1mwandb\u001b[0m: \tcell: RNN\n",
            "\u001b[34m\u001b[1mwandb\u001b[0m: \tdense_sz: 64\n",
            "\u001b[34m\u001b[1mwandb\u001b[0m: \tdp: 0\n",
            "\u001b[34m\u001b[1mwandb\u001b[0m: \tedls: 2\n",
            "\u001b[34m\u001b[1mwandb\u001b[0m: \temb_sz: 256\n",
            "\u001b[34m\u001b[1mwandb\u001b[0m: \tepochs: 20\n",
            "\u001b[34m\u001b[1mwandb\u001b[0m: \tlr: 0.005\n",
            "\u001b[34m\u001b[1mwandb\u001b[0m: \tnunits: 512\n"
          ]
        },
        {
          "data": {
            "text/html": [
              "Tracking run with wandb version 0.12.16"
            ],
            "text/plain": [
              "<IPython.core.display.HTML object>"
            ]
          },
          "metadata": {},
          "output_type": "display_data"
        },
        {
          "data": {
            "text/html": [
              "Run data is saved locally in <code>/content/wandb/run-20220504_081428-z24cgc5z</code>"
            ],
            "text/plain": [
              "<IPython.core.display.HTML object>"
            ]
          },
          "metadata": {},
          "output_type": "display_data"
        },
        {
          "data": {
            "text/html": [
              "Syncing run <strong><a href=\"https://wandb.ai/pandp/CS6910-AS3/runs/z24cgc5z\" target=\"_blank\">cs6910-AS3-PA</a></strong> to <a href=\"https://wandb.ai/pandp/CS6910-AS3\" target=\"_blank\">Weights & Biases</a> (<a href=\"https://wandb.me/run\" target=\"_blank\">docs</a>)<br/>Sweep page:  <a href=\"https://wandb.ai/pandp/CS6910-AS3/sweeps/3sng050k\" target=\"_blank\">https://wandb.ai/pandp/CS6910-AS3/sweeps/3sng050k</a>"
            ],
            "text/plain": [
              "<IPython.core.display.HTML object>"
            ]
          },
          "metadata": {},
          "output_type": "display_data"
        },
        {
          "metadata": {
            "tags": null
          },
          "name": "stdout",
          "output_type": "stream",
          "text": [
            "Build Sucessfully\n",
            "Epoch 1/20\n",
            "691/691 [==============================] - 93s 129ms/step - loss: 1.0367 - accuracy: 0.3058 - val_loss: 0.9419 - val_accuracy: 0.3228 - _timestamp: 1651652168.0000 - _runtime: 100.0000\n",
            "Epoch 2/20\n",
            "691/691 [==============================] - 93s 134ms/step - loss: 0.9785 - accuracy: 0.3257 - val_loss: 0.9480 - val_accuracy: 0.3201 - _timestamp: 1651652261.0000 - _runtime: 193.0000\n",
            "Epoch 3/20\n",
            "691/691 [==============================] - 91s 132ms/step - loss: 0.9734 - accuracy: 0.3281 - val_loss: 0.9332 - val_accuracy: 0.3289 - _timestamp: 1651652352.0000 - _runtime: 284.0000\n",
            "Epoch 4/20\n",
            "691/691 [==============================] - 92s 133ms/step - loss: 0.9645 - accuracy: 0.3347 - val_loss: 0.9242 - val_accuracy: 0.3401 - _timestamp: 1651652444.0000 - _runtime: 376.0000\n",
            "Epoch 5/20\n",
            "691/691 [==============================] - 91s 131ms/step - loss: 0.9579 - accuracy: 0.3399 - val_loss: 0.9196 - val_accuracy: 0.3423 - _timestamp: 1651652535.0000 - _runtime: 467.0000\n",
            "Epoch 6/20\n",
            "691/691 [==============================] - 93s 135ms/step - loss: 0.9400 - accuracy: 0.3502 - val_loss: 0.9067 - val_accuracy: 0.3535 - _timestamp: 1651652628.0000 - _runtime: 560.0000\n",
            "Epoch 7/20\n",
            "691/691 [==============================] - 92s 133ms/step - loss: 0.9359 - accuracy: 0.3526 - val_loss: 0.9014 - val_accuracy: 0.3530 - _timestamp: 1651652720.0000 - _runtime: 652.0000\n",
            "Epoch 8/20\n",
            "691/691 [==============================] - 93s 134ms/step - loss: 0.9317 - accuracy: 0.3554 - val_loss: 0.8976 - val_accuracy: 0.3553 - _timestamp: 1651652813.0000 - _runtime: 745.0000\n",
            "Epoch 9/20\n",
            "691/691 [==============================] - 91s 132ms/step - loss: 0.9287 - accuracy: 0.3572 - val_loss: 0.8969 - val_accuracy: 0.3591 - _timestamp: 1651652904.0000 - _runtime: 836.0000\n",
            "Epoch 10/20\n",
            "691/691 [==============================] - 91s 132ms/step - loss: 0.9313 - accuracy: 0.3549 - val_loss: 0.9049 - val_accuracy: 0.3449 - _timestamp: 1651652995.0000 - _runtime: 927.0000\n",
            "Epoch 11/20\n",
            "691/691 [==============================] - 93s 135ms/step - loss: 0.9213 - accuracy: 0.3577 - val_loss: 0.8863 - val_accuracy: 0.3608 - _timestamp: 1651653088.0000 - _runtime: 1020.0000\n",
            "Epoch 12/20\n",
            "691/691 [==============================] - 91s 132ms/step - loss: 0.9156 - accuracy: 0.3595 - val_loss: 0.8888 - val_accuracy: 0.3569 - _timestamp: 1651653180.0000 - _runtime: 1112.0000\n",
            "Epoch 13/20\n",
            "691/691 [==============================] - 93s 134ms/step - loss: 0.9139 - accuracy: 0.3606 - val_loss: 0.8874 - val_accuracy: 0.3573 - _timestamp: 1651653272.0000 - _runtime: 1204.0000\n",
            "Epoch 14/20\n",
            "691/691 [==============================] - 93s 134ms/step - loss: 0.9136 - accuracy: 0.3601 - val_loss: 0.8896 - val_accuracy: 0.3571 - _timestamp: 1651653365.0000 - _runtime: 1297.0000\n",
            "Epoch 15/20\n",
            "691/691 [==============================] - 91s 131ms/step - loss: 0.9137 - accuracy: 0.3595 - val_loss: 0.8824 - val_accuracy: 0.3610 - _timestamp: 1651653456.0000 - _runtime: 1388.0000\n",
            "Epoch 16/20\n",
            "691/691 [==============================] - 94s 136ms/step - loss: 0.9139 - accuracy: 0.3607 - val_loss: 0.8890 - val_accuracy: 0.3556 - _timestamp: 1651653549.0000 - _runtime: 1481.0000\n",
            "Epoch 17/20\n",
            "691/691 [==============================] - 92s 133ms/step - loss: 0.9142 - accuracy: 0.3601 - val_loss: 0.8935 - val_accuracy: 0.3482 - _timestamp: 1651653641.0000 - _runtime: 1573.0000\n",
            "Epoch 18/20\n",
            "691/691 [==============================] - 91s 131ms/step - loss: 0.9117 - accuracy: 0.3605 - val_loss: 0.8825 - val_accuracy: 0.3604 - _timestamp: 1651653732.0000 - _runtime: 1664.0000\n",
            "Epoch 19/20\n",
            "691/691 [==============================] - 89s 129ms/step - loss: 0.9137 - accuracy: 0.3599 - val_loss: 0.8838 - val_accuracy: 0.3575 - _timestamp: 1651653821.0000 - _runtime: 1753.0000\n",
            "Epoch 20/20\n",
            "691/691 [==============================] - 91s 131ms/step - loss: 0.9118 - accuracy: 0.3603 - val_loss: 0.8838 - val_accuracy: 0.3582 - _timestamp: 1651653911.0000 - _runtime: 1843.0000\n",
            "Completed ! \n"
          ]
        },
        {
          "data": {
            "text/html": [
              "Waiting for W&B process to finish... <strong style=\"color:green\">(success).</strong>"
            ],
            "text/plain": [
              "<IPython.core.display.HTML object>"
            ]
          },
          "metadata": {},
          "output_type": "display_data"
        },
        {
          "data": {
            "application/vnd.jupyter.widget-view+json": {
              "model_id": "ff8250c7d5c7408085401613f85922a9",
              "version_major": 2,
              "version_minor": 0
            },
            "text/plain": [
              "VBox(children=(Label(value='21.812 MB of 21.812 MB uploaded (0.000 MB deduped)\\r'), FloatProgress(value=1.0, m…"
            ]
          },
          "metadata": {},
          "output_type": "display_data"
        },
        {
          "data": {
            "text/html": [
              "<style>\n",
              "    table.wandb td:nth-child(1) { padding: 0 10px; text-align: left ; width: auto;} td:nth-child(2) {text-align: left ; width: 100%}\n",
              "    .wandb-row { display: flex; flex-direction: row; flex-wrap: wrap; justify-content: flex-start; width: 100% }\n",
              "    .wandb-col { display: flex; flex-direction: column; flex-basis: 100%; flex: 1; padding: 10px; }\n",
              "    </style>\n",
              "<div class=\"wandb-row\"><div class=\"wandb-col\"><h3>Run history:</h3><br/><table class=\"wandb\"><tr><td>accuracy</td><td>▁▄▄▅▅▇▇▇█▇██████████</td></tr><tr><td>epoch</td><td>▁▁▂▂▂▃▃▄▄▄▅▅▅▆▆▇▇▇██</td></tr><tr><td>loss</td><td>█▅▄▄▄▃▂▂▂▂▂▁▁▁▁▁▁▁▁▁</td></tr><tr><td>val_accuracy</td><td>▁▁▃▄▅▇▇▇█▅█▇▇▇█▇▆█▇█</td></tr><tr><td>val_loss</td><td>▇█▆▅▅▄▃▃▃▃▁▂▂▂▁▂▂▁▁▁</td></tr></table><br/></div><div class=\"wandb-col\"><h3>Run summary:</h3><br/><table class=\"wandb\"><tr><td>accuracy</td><td>0.36029</td></tr><tr><td>best_epoch</td><td>14</td></tr><tr><td>best_val_accuracy</td><td>0.36096</td></tr><tr><td>epoch</td><td>19</td></tr><tr><td>loss</td><td>0.91176</td></tr><tr><td>val_accuracy</td><td>0.35819</td></tr><tr><td>val_loss</td><td>0.88384</td></tr></table><br/></div></div>"
            ],
            "text/plain": [
              "<IPython.core.display.HTML object>"
            ]
          },
          "metadata": {},
          "output_type": "display_data"
        },
        {
          "data": {
            "text/html": [
              "Synced <strong style=\"color:#cdcd00\">cs6910-AS3-PA</strong>: <a href=\"https://wandb.ai/pandp/CS6910-AS3/runs/z24cgc5z\" target=\"_blank\">https://wandb.ai/pandp/CS6910-AS3/runs/z24cgc5z</a><br/>Synced 5 W&B file(s), 1 media file(s), 0 artifact file(s) and 1 other file(s)"
            ],
            "text/plain": [
              "<IPython.core.display.HTML object>"
            ]
          },
          "metadata": {},
          "output_type": "display_data"
        },
        {
          "data": {
            "text/html": [
              "Find logs at: <code>./wandb/run-20220504_081428-z24cgc5z/logs</code>"
            ],
            "text/plain": [
              "<IPython.core.display.HTML object>"
            ]
          },
          "metadata": {},
          "output_type": "display_data"
        },
        {
          "metadata": {
            "tags": null
          },
          "name": "stderr",
          "output_type": "stream",
          "text": [
            "\u001b[34m\u001b[1mwandb\u001b[0m: Agent Starting Run: 4wbyygdg with config:\n",
            "\u001b[34m\u001b[1mwandb\u001b[0m: \tcell: RNN\n",
            "\u001b[34m\u001b[1mwandb\u001b[0m: \tdense_sz: 512\n",
            "\u001b[34m\u001b[1mwandb\u001b[0m: \tdp: 0\n",
            "\u001b[34m\u001b[1mwandb\u001b[0m: \tedls: 4\n",
            "\u001b[34m\u001b[1mwandb\u001b[0m: \temb_sz: 64\n",
            "\u001b[34m\u001b[1mwandb\u001b[0m: \tepochs: 20\n",
            "\u001b[34m\u001b[1mwandb\u001b[0m: \tlr: 0.001\n",
            "\u001b[34m\u001b[1mwandb\u001b[0m: \tnunits: 256\n"
          ]
        },
        {
          "data": {
            "text/html": [
              "Tracking run with wandb version 0.12.16"
            ],
            "text/plain": [
              "<IPython.core.display.HTML object>"
            ]
          },
          "metadata": {},
          "output_type": "display_data"
        },
        {
          "data": {
            "text/html": [
              "Run data is saved locally in <code>/content/wandb/run-20220504_084610-4wbyygdg</code>"
            ],
            "text/plain": [
              "<IPython.core.display.HTML object>"
            ]
          },
          "metadata": {},
          "output_type": "display_data"
        },
        {
          "data": {
            "text/html": [
              "Syncing run <strong><a href=\"https://wandb.ai/pandp/CS6910-AS3/runs/4wbyygdg\" target=\"_blank\">cs6910-AS3-PA</a></strong> to <a href=\"https://wandb.ai/pandp/CS6910-AS3\" target=\"_blank\">Weights & Biases</a> (<a href=\"https://wandb.me/run\" target=\"_blank\">docs</a>)<br/>Sweep page:  <a href=\"https://wandb.ai/pandp/CS6910-AS3/sweeps/3sng050k\" target=\"_blank\">https://wandb.ai/pandp/CS6910-AS3/sweeps/3sng050k</a>"
            ],
            "text/plain": [
              "<IPython.core.display.HTML object>"
            ]
          },
          "metadata": {},
          "output_type": "display_data"
        },
        {
          "metadata": {
            "tags": null
          },
          "name": "stdout",
          "output_type": "stream",
          "text": [
            "Build Sucessfully\n",
            "Epoch 1/20\n",
            "691/691 [==============================] - 184s 254ms/step - loss: 0.7957 - accuracy: 0.4507 - val_loss: 0.6482 - val_accuracy: 0.5236 - _timestamp: 1651654161.0000 - _runtime: 191.0000\n",
            "Epoch 2/20\n",
            "691/691 [==============================] - 174s 251ms/step - loss: 0.6094 - accuracy: 0.5573 - val_loss: 0.5592 - val_accuracy: 0.5763 - _timestamp: 1651654334.0000 - _runtime: 364.0000\n",
            "Epoch 3/20\n",
            "691/691 [==============================] - 177s 257ms/step - loss: 0.5218 - accuracy: 0.6106 - val_loss: 0.4970 - val_accuracy: 0.6179 - _timestamp: 1651654512.0000 - _runtime: 542.0000\n",
            "Epoch 4/20\n",
            "691/691 [==============================] - 176s 254ms/step - loss: 0.4492 - accuracy: 0.6579 - val_loss: 0.4509 - val_accuracy: 0.6481 - _timestamp: 1651654688.0000 - _runtime: 718.0000\n",
            "Epoch 5/20\n",
            "691/691 [==============================] - 177s 256ms/step - loss: 0.3970 - accuracy: 0.6929 - val_loss: 0.4188 - val_accuracy: 0.6723 - _timestamp: 1651654865.0000 - _runtime: 895.0000\n",
            "Epoch 6/20\n",
            "691/691 [==============================] - 178s 257ms/step - loss: 0.3567 - accuracy: 0.7205 - val_loss: 0.4025 - val_accuracy: 0.6829 - _timestamp: 1651655043.0000 - _runtime: 1073.0000\n",
            "Epoch 7/20\n",
            "691/691 [==============================] - 177s 255ms/step - loss: 0.3258 - accuracy: 0.7430 - val_loss: 0.3754 - val_accuracy: 0.7059 - _timestamp: 1651655219.0000 - _runtime: 1249.0000\n",
            "Epoch 8/20\n",
            "691/691 [==============================] - 175s 253ms/step - loss: 0.3022 - accuracy: 0.7591 - val_loss: 0.3773 - val_accuracy: 0.7080 - _timestamp: 1651655395.0000 - _runtime: 1425.0000\n",
            "Epoch 9/20\n",
            "691/691 [==============================] - 179s 259ms/step - loss: 0.2854 - accuracy: 0.7713 - val_loss: 0.3792 - val_accuracy: 0.7032 - _timestamp: 1651655573.0000 - _runtime: 1603.0000\n",
            "Epoch 10/20\n",
            "691/691 [==============================] - 179s 260ms/step - loss: 0.2678 - accuracy: 0.7848 - val_loss: 0.3728 - val_accuracy: 0.7186 - _timestamp: 1651655753.0000 - _runtime: 1783.0000\n",
            "Epoch 11/20\n",
            "691/691 [==============================] - 176s 255ms/step - loss: 0.2561 - accuracy: 0.7937 - val_loss: 0.3669 - val_accuracy: 0.7195 - _timestamp: 1651655929.0000 - _runtime: 1959.0000\n",
            "Epoch 12/20\n",
            "691/691 [==============================] - 178s 258ms/step - loss: 0.2510 - accuracy: 0.7962 - val_loss: 0.3877 - val_accuracy: 0.7054 - _timestamp: 1651656107.0000 - _runtime: 2137.0000\n",
            "Epoch 13/20\n",
            "691/691 [==============================] - 174s 252ms/step - loss: 0.2472 - accuracy: 0.7997 - val_loss: 0.3727 - val_accuracy: 0.7207 - _timestamp: 1651656281.0000 - _runtime: 2311.0000\n",
            "Epoch 14/20\n",
            "691/691 [==============================] - 173s 250ms/step - loss: 0.2316 - accuracy: 0.8118 - val_loss: 0.3735 - val_accuracy: 0.7203 - _timestamp: 1651656454.0000 - _runtime: 2484.0000\n",
            "Epoch 15/20\n",
            "691/691 [==============================] - 179s 259ms/step - loss: 0.2283 - accuracy: 0.8144 - val_loss: 0.3688 - val_accuracy: 0.7238 - _timestamp: 1651656633.0000 - _runtime: 2663.0000\n",
            "Epoch 16/20\n",
            "691/691 [==============================] - 175s 254ms/step - loss: 0.2217 - accuracy: 0.8184 - val_loss: 0.3656 - val_accuracy: 0.7259 - _timestamp: 1651656808.0000 - _runtime: 2838.0000\n",
            "Epoch 17/20\n",
            "691/691 [==============================] - 174s 252ms/step - loss: 0.2227 - accuracy: 0.8179 - val_loss: 0.4107 - val_accuracy: 0.6958 - _timestamp: 1651656982.0000 - _runtime: 3012.0000\n",
            "Epoch 18/20\n",
            "691/691 [==============================] - 175s 253ms/step - loss: 0.2238 - accuracy: 0.8168 - val_loss: 0.3706 - val_accuracy: 0.7281 - _timestamp: 1651657157.0000 - _runtime: 3187.0000\n",
            "Epoch 19/20\n",
            "691/691 [==============================] - 171s 248ms/step - loss: 0.2193 - accuracy: 0.8200 - val_loss: 0.3778 - val_accuracy: 0.7220 - _timestamp: 1651657329.0000 - _runtime: 3359.0000\n",
            "Epoch 20/20\n",
            "691/691 [==============================] - 170s 246ms/step - loss: 0.2099 - accuracy: 0.8276 - val_loss: 0.3719 - val_accuracy: 0.7267 - _timestamp: 1651657498.0000 - _runtime: 3528.0000\n",
            "Completed ! \n"
          ]
        },
        {
          "data": {
            "text/html": [
              "Waiting for W&B process to finish... <strong style=\"color:green\">(success).</strong>"
            ],
            "text/plain": [
              "<IPython.core.display.HTML object>"
            ]
          },
          "metadata": {},
          "output_type": "display_data"
        },
        {
          "data": {
            "application/vnd.jupyter.widget-view+json": {
              "model_id": "99c45e6d99854fb48ea03a85014cbb7a",
              "version_major": 2,
              "version_minor": 0
            },
            "text/plain": [
              "VBox(children=(Label(value='13.005 MB of 13.005 MB uploaded (0.000 MB deduped)\\r'), FloatProgress(value=1.0, m…"
            ]
          },
          "metadata": {},
          "output_type": "display_data"
        },
        {
          "data": {
            "text/html": [
              "<style>\n",
              "    table.wandb td:nth-child(1) { padding: 0 10px; text-align: left ; width: auto;} td:nth-child(2) {text-align: left ; width: 100%}\n",
              "    .wandb-row { display: flex; flex-direction: row; flex-wrap: wrap; justify-content: flex-start; width: 100% }\n",
              "    .wandb-col { display: flex; flex-direction: column; flex-basis: 100%; flex: 1; padding: 10px; }\n",
              "    </style>\n",
              "<div class=\"wandb-row\"><div class=\"wandb-col\"><h3>Run history:</h3><br/><table class=\"wandb\"><tr><td>accuracy</td><td>▁▃▄▅▅▆▆▇▇▇▇▇▇███████</td></tr><tr><td>epoch</td><td>▁▁▂▂▂▃▃▄▄▄▅▅▅▆▆▇▇▇██</td></tr><tr><td>loss</td><td>█▆▅▄▃▃▂▂▂▂▂▁▁▁▁▁▁▁▁▁</td></tr><tr><td>val_accuracy</td><td>▁▃▄▅▆▆▇▇▇██▇████▇███</td></tr><tr><td>val_loss</td><td>█▆▄▃▂▂▁▁▁▁▁▂▁▁▁▁▂▁▁▁</td></tr></table><br/></div><div class=\"wandb-col\"><h3>Run summary:</h3><br/><table class=\"wandb\"><tr><td>accuracy</td><td>0.82762</td></tr><tr><td>best_epoch</td><td>17</td></tr><tr><td>best_val_accuracy</td><td>0.72812</td></tr><tr><td>epoch</td><td>19</td></tr><tr><td>loss</td><td>0.20994</td></tr><tr><td>val_accuracy</td><td>0.72668</td></tr><tr><td>val_loss</td><td>0.3719</td></tr></table><br/></div></div>"
            ],
            "text/plain": [
              "<IPython.core.display.HTML object>"
            ]
          },
          "metadata": {},
          "output_type": "display_data"
        },
        {
          "data": {
            "text/html": [
              "Synced <strong style=\"color:#cdcd00\">cs6910-AS3-PA</strong>: <a href=\"https://wandb.ai/pandp/CS6910-AS3/runs/4wbyygdg\" target=\"_blank\">https://wandb.ai/pandp/CS6910-AS3/runs/4wbyygdg</a><br/>Synced 5 W&B file(s), 1 media file(s), 0 artifact file(s) and 1 other file(s)"
            ],
            "text/plain": [
              "<IPython.core.display.HTML object>"
            ]
          },
          "metadata": {},
          "output_type": "display_data"
        },
        {
          "data": {
            "text/html": [
              "Find logs at: <code>./wandb/run-20220504_084610-4wbyygdg/logs</code>"
            ],
            "text/plain": [
              "<IPython.core.display.HTML object>"
            ]
          },
          "metadata": {},
          "output_type": "display_data"
        },
        {
          "metadata": {
            "tags": null
          },
          "name": "stderr",
          "output_type": "stream",
          "text": [
            "\u001b[34m\u001b[1mwandb\u001b[0m: Agent Starting Run: 8ldgq981 with config:\n",
            "\u001b[34m\u001b[1mwandb\u001b[0m: \tcell: GRU\n",
            "\u001b[34m\u001b[1mwandb\u001b[0m: \tdense_sz: 64\n",
            "\u001b[34m\u001b[1mwandb\u001b[0m: \tdp: 0.25\n",
            "\u001b[34m\u001b[1mwandb\u001b[0m: \tedls: 3\n",
            "\u001b[34m\u001b[1mwandb\u001b[0m: \temb_sz: 64\n",
            "\u001b[34m\u001b[1mwandb\u001b[0m: \tepochs: 15\n",
            "\u001b[34m\u001b[1mwandb\u001b[0m: \tlr: 0.001\n",
            "\u001b[34m\u001b[1mwandb\u001b[0m: \tnunits: 512\n"
          ]
        },
        {
          "data": {
            "text/html": [
              "Tracking run with wandb version 0.12.16"
            ],
            "text/plain": [
              "<IPython.core.display.HTML object>"
            ]
          },
          "metadata": {},
          "output_type": "display_data"
        },
        {
          "data": {
            "text/html": [
              "Run data is saved locally in <code>/content/wandb/run-20220504_094511-8ldgq981</code>"
            ],
            "text/plain": [
              "<IPython.core.display.HTML object>"
            ]
          },
          "metadata": {},
          "output_type": "display_data"
        },
        {
          "data": {
            "text/html": [
              "Syncing run <strong><a href=\"https://wandb.ai/pandp/CS6910-AS3/runs/8ldgq981\" target=\"_blank\">cs6910-AS3-PA</a></strong> to <a href=\"https://wandb.ai/pandp/CS6910-AS3\" target=\"_blank\">Weights & Biases</a> (<a href=\"https://wandb.me/run\" target=\"_blank\">docs</a>)<br/>Sweep page:  <a href=\"https://wandb.ai/pandp/CS6910-AS3/sweeps/3sng050k\" target=\"_blank\">https://wandb.ai/pandp/CS6910-AS3/sweeps/3sng050k</a>"
            ],
            "text/plain": [
              "<IPython.core.display.HTML object>"
            ]
          },
          "metadata": {},
          "output_type": "display_data"
        },
        {
          "metadata": {
            "tags": null
          },
          "name": "stdout",
          "output_type": "stream",
          "text": [
            "Build Sucessfully\n",
            "Epoch 1/15\n",
            "691/691 [==============================] - 53s 49ms/step - loss: 0.6439 - accuracy: 0.5535 - val_loss: 0.2769 - val_accuracy: 0.7806 - _timestamp: 1651657579.0000 - _runtime: 68.0000\n",
            "Epoch 2/15\n",
            "691/691 [==============================] - 27s 40ms/step - loss: 0.2186 - accuracy: 0.8289 - val_loss: 0.1911 - val_accuracy: 0.8425 - _timestamp: 1651657607.0000 - _runtime: 96.0000\n",
            "Epoch 3/15\n",
            "691/691 [==============================] - 27s 38ms/step - loss: 0.1479 - accuracy: 0.8824 - val_loss: 0.1746 - val_accuracy: 0.8578 - _timestamp: 1651657633.0000 - _runtime: 122.0000\n",
            "Epoch 4/15\n",
            "691/691 [==============================] - 27s 39ms/step - loss: 0.1118 - accuracy: 0.9100 - val_loss: 0.1656 - val_accuracy: 0.8683 - _timestamp: 1651657660.0000 - _runtime: 149.0000\n",
            "Epoch 5/15\n",
            "691/691 [==============================] - 27s 39ms/step - loss: 0.0889 - accuracy: 0.9272 - val_loss: 0.1706 - val_accuracy: 0.8666 - _timestamp: 1651657687.0000 - _runtime: 176.0000\n",
            "Epoch 6/15\n",
            "691/691 [==============================] - 27s 39ms/step - loss: 0.0736 - accuracy: 0.9394 - val_loss: 0.1768 - val_accuracy: 0.8679 - _timestamp: 1651657714.0000 - _runtime: 203.0000\n",
            "Epoch 7/15\n",
            "691/691 [==============================] - 27s 39ms/step - loss: 0.0628 - accuracy: 0.9475 - val_loss: 0.1863 - val_accuracy: 0.8653 - _timestamp: 1651657741.0000 - _runtime: 230.0000\n",
            "Epoch 8/15\n",
            "691/691 [==============================] - 27s 39ms/step - loss: 0.0537 - accuracy: 0.9550 - val_loss: 0.1878 - val_accuracy: 0.8680 - _timestamp: 1651657768.0000 - _runtime: 257.0000\n",
            "Epoch 9/15\n",
            "691/691 [==============================] - 26s 38ms/step - loss: 0.0505 - accuracy: 0.9580 - val_loss: 0.1989 - val_accuracy: 0.8652 - _timestamp: 1651657795.0000 - _runtime: 284.0000\n",
            "Epoch 10/15\n",
            "691/691 [==============================] - 27s 40ms/step - loss: 0.0453 - accuracy: 0.9618 - val_loss: 0.2050 - val_accuracy: 0.8628 - _timestamp: 1651657822.0000 - _runtime: 311.0000\n",
            "Epoch 11/15\n",
            "691/691 [==============================] - 27s 38ms/step - loss: 0.0431 - accuracy: 0.9638 - val_loss: 0.2053 - val_accuracy: 0.8677 - _timestamp: 1651657849.0000 - _runtime: 338.0000\n",
            "Epoch 12/15\n",
            "691/691 [==============================] - 27s 39ms/step - loss: 0.0399 - accuracy: 0.9666 - val_loss: 0.2123 - val_accuracy: 0.8671 - _timestamp: 1651657875.0000 - _runtime: 364.0000\n",
            "Epoch 13/15\n",
            "691/691 [==============================] - 27s 39ms/step - loss: 0.0386 - accuracy: 0.9675 - val_loss: 0.2141 - val_accuracy: 0.8651 - _timestamp: 1651657902.0000 - _runtime: 391.0000\n",
            "Epoch 14/15\n",
            "691/691 [==============================] - 28s 40ms/step - loss: 0.0377 - accuracy: 0.9682 - val_loss: 0.2178 - val_accuracy: 0.8676 - _timestamp: 1651657930.0000 - _runtime: 419.0000\n",
            "Epoch 15/15\n",
            "691/691 [==============================] - 28s 40ms/step - loss: 0.0368 - accuracy: 0.9690 - val_loss: 0.2197 - val_accuracy: 0.8660 - _timestamp: 1651657958.0000 - _runtime: 447.0000\n",
            "Completed ! \n"
          ]
        },
        {
          "data": {
            "text/html": [
              "Waiting for W&B process to finish... <strong style=\"color:green\">(success).</strong>"
            ],
            "text/plain": [
              "<IPython.core.display.HTML object>"
            ]
          },
          "metadata": {},
          "output_type": "display_data"
        },
        {
          "metadata": {
            "tags": null
          },
          "name": "stderr",
          "output_type": "stream",
          "text": [
            "\u001b[34m\u001b[1mwandb\u001b[0m: \u001b[32m\u001b[41mERROR\u001b[0m Error while calling W&B API: context deadline exceeded (<Response [500]>)\n",
            "\u001b[34m\u001b[1mwandb\u001b[0m: \u001b[32m\u001b[41mERROR\u001b[0m Error while calling W&B API: context deadline exceeded (<Response [500]>)\n"
          ]
        },
        {
          "data": {
            "application/vnd.jupyter.widget-view+json": {
              "model_id": "b3e96d9625b84d219fd465aeb22c192d",
              "version_major": 2,
              "version_minor": 0
            },
            "text/plain": [
              "VBox(children=(Label(value='93.071 MB of 93.071 MB uploaded (0.000 MB deduped)\\r'), FloatProgress(value=1.0, m…"
            ]
          },
          "metadata": {},
          "output_type": "display_data"
        },
        {
          "data": {
            "text/html": [
              "<style>\n",
              "    table.wandb td:nth-child(1) { padding: 0 10px; text-align: left ; width: auto;} td:nth-child(2) {text-align: left ; width: 100%}\n",
              "    .wandb-row { display: flex; flex-direction: row; flex-wrap: wrap; justify-content: flex-start; width: 100% }\n",
              "    .wandb-col { display: flex; flex-direction: column; flex-basis: 100%; flex: 1; padding: 10px; }\n",
              "    </style>\n",
              "<div class=\"wandb-row\"><div class=\"wandb-col\"><h3>Run history:</h3><br/><table class=\"wandb\"><tr><td>accuracy</td><td>▁▆▇▇▇██████████</td></tr><tr><td>epoch</td><td>▁▁▂▃▃▃▄▅▅▅▆▇▇▇█</td></tr><tr><td>loss</td><td>█▃▂▂▂▁▁▁▁▁▁▁▁▁▁</td></tr><tr><td>val_accuracy</td><td>▁▆▇████████████</td></tr><tr><td>val_loss</td><td>█▃▂▁▁▂▂▂▃▃▃▄▄▄▄</td></tr></table><br/></div><div class=\"wandb-col\"><h3>Run summary:</h3><br/><table class=\"wandb\"><tr><td>accuracy</td><td>0.96898</td></tr><tr><td>best_epoch</td><td>3</td></tr><tr><td>best_val_accuracy</td><td>0.86829</td></tr><tr><td>epoch</td><td>14</td></tr><tr><td>loss</td><td>0.03684</td></tr><tr><td>val_accuracy</td><td>0.86598</td></tr><tr><td>val_loss</td><td>0.21971</td></tr></table><br/></div></div>"
            ],
            "text/plain": [
              "<IPython.core.display.HTML object>"
            ]
          },
          "metadata": {},
          "output_type": "display_data"
        },
        {
          "data": {
            "text/html": [
              "Synced <strong style=\"color:#cdcd00\">cs6910-AS3-PA</strong>: <a href=\"https://wandb.ai/pandp/CS6910-AS3/runs/8ldgq981\" target=\"_blank\">https://wandb.ai/pandp/CS6910-AS3/runs/8ldgq981</a><br/>Synced 5 W&B file(s), 1 media file(s), 0 artifact file(s) and 1 other file(s)"
            ],
            "text/plain": [
              "<IPython.core.display.HTML object>"
            ]
          },
          "metadata": {},
          "output_type": "display_data"
        },
        {
          "data": {
            "text/html": [
              "Find logs at: <code>./wandb/run-20220504_094511-8ldgq981/logs</code>"
            ],
            "text/plain": [
              "<IPython.core.display.HTML object>"
            ]
          },
          "metadata": {},
          "output_type": "display_data"
        },
        {
          "metadata": {
            "tags": null
          },
          "name": "stderr",
          "output_type": "stream",
          "text": [
            "\u001b[34m\u001b[1mwandb\u001b[0m: Sweep Agent: Waiting for job.\n",
            "\u001b[34m\u001b[1mwandb\u001b[0m: Job received.\n",
            "\u001b[34m\u001b[1mwandb\u001b[0m: Agent Starting Run: hxs8q1qr with config:\n",
            "\u001b[34m\u001b[1mwandb\u001b[0m: \tcell: LSTM\n",
            "\u001b[34m\u001b[1mwandb\u001b[0m: \tdense_sz: 128\n",
            "\u001b[34m\u001b[1mwandb\u001b[0m: \tdp: 0\n",
            "\u001b[34m\u001b[1mwandb\u001b[0m: \tedls: 2\n",
            "\u001b[34m\u001b[1mwandb\u001b[0m: \temb_sz: 64\n",
            "\u001b[34m\u001b[1mwandb\u001b[0m: \tepochs: 20\n",
            "\u001b[34m\u001b[1mwandb\u001b[0m: \tlr: 0.005\n",
            "\u001b[34m\u001b[1mwandb\u001b[0m: \tnunits: 128\n"
          ]
        },
        {
          "data": {
            "text/html": [
              "Tracking run with wandb version 0.12.16"
            ],
            "text/plain": [
              "<IPython.core.display.HTML object>"
            ]
          },
          "metadata": {},
          "output_type": "display_data"
        },
        {
          "data": {
            "text/html": [
              "Run data is saved locally in <code>/content/wandb/run-20220504_095656-hxs8q1qr</code>"
            ],
            "text/plain": [
              "<IPython.core.display.HTML object>"
            ]
          },
          "metadata": {},
          "output_type": "display_data"
        },
        {
          "data": {
            "text/html": [
              "Syncing run <strong><a href=\"https://wandb.ai/pandp/CS6910-AS3/runs/hxs8q1qr\" target=\"_blank\">cs6910-AS3-PA</a></strong> to <a href=\"https://wandb.ai/pandp/CS6910-AS3\" target=\"_blank\">Weights & Biases</a> (<a href=\"https://wandb.me/run\" target=\"_blank\">docs</a>)<br/>Sweep page:  <a href=\"https://wandb.ai/pandp/CS6910-AS3/sweeps/3sng050k\" target=\"_blank\">https://wandb.ai/pandp/CS6910-AS3/sweeps/3sng050k</a>"
            ],
            "text/plain": [
              "<IPython.core.display.HTML object>"
            ]
          },
          "metadata": {},
          "output_type": "display_data"
        },
        {
          "metadata": {
            "tags": null
          },
          "name": "stdout",
          "output_type": "stream",
          "text": [
            "Build Sucessfully\n",
            "Epoch 1/20\n",
            "691/691 [==============================] - 37s 33ms/step - loss: 0.6499 - accuracy: 0.5397 - val_loss: 0.2752 - val_accuracy: 0.7778 - _timestamp: 1651658267.0000 - _runtime: 51.0000\n",
            "Epoch 2/20\n",
            "691/691 [==============================] - 18s 27ms/step - loss: 0.2129 - accuracy: 0.8301 - val_loss: 0.1849 - val_accuracy: 0.8448 - _timestamp: 1651658285.0000 - _runtime: 69.0000\n",
            "Epoch 3/20\n",
            "691/691 [==============================] - 18s 26ms/step - loss: 0.1500 - accuracy: 0.8773 - val_loss: 0.1699 - val_accuracy: 0.8617 - _timestamp: 1651658303.0000 - _runtime: 87.0000\n",
            "Epoch 4/20\n",
            "691/691 [==============================] - 18s 26ms/step - loss: 0.1227 - accuracy: 0.8989 - val_loss: 0.1677 - val_accuracy: 0.8644 - _timestamp: 1651658322.0000 - _runtime: 106.0000\n",
            "Epoch 5/20\n",
            "691/691 [==============================] - 18s 26ms/step - loss: 0.1054 - accuracy: 0.9124 - val_loss: 0.1751 - val_accuracy: 0.8643 - _timestamp: 1651658340.0000 - _runtime: 124.0000\n",
            "Epoch 6/20\n",
            "691/691 [==============================] - 18s 26ms/step - loss: 0.0935 - accuracy: 0.9219 - val_loss: 0.1779 - val_accuracy: 0.8622 - _timestamp: 1651658358.0000 - _runtime: 142.0000\n",
            "Epoch 7/20\n",
            "691/691 [==============================] - 19s 28ms/step - loss: 0.0845 - accuracy: 0.9287 - val_loss: 0.1845 - val_accuracy: 0.8647 - _timestamp: 1651658377.0000 - _runtime: 161.0000\n",
            "Epoch 8/20\n",
            "691/691 [==============================] - 20s 28ms/step - loss: 0.0769 - accuracy: 0.9349 - val_loss: 0.1814 - val_accuracy: 0.8651 - _timestamp: 1651658397.0000 - _runtime: 181.0000\n",
            "Epoch 9/20\n",
            "691/691 [==============================] - 20s 28ms/step - loss: 0.0721 - accuracy: 0.9383 - val_loss: 0.1897 - val_accuracy: 0.8639 - _timestamp: 1651658416.0000 - _runtime: 200.0000\n",
            "Epoch 10/20\n",
            "691/691 [==============================] - 19s 28ms/step - loss: 0.0669 - accuracy: 0.9428 - val_loss: 0.1932 - val_accuracy: 0.8650 - _timestamp: 1651658436.0000 - _runtime: 220.0000\n",
            "Epoch 11/20\n",
            "691/691 [==============================] - 18s 26ms/step - loss: 0.0634 - accuracy: 0.9454 - val_loss: 0.2032 - val_accuracy: 0.8634 - _timestamp: 1651658454.0000 - _runtime: 238.0000\n",
            "Epoch 12/20\n",
            "691/691 [==============================] - 19s 27ms/step - loss: 0.0596 - accuracy: 0.9484 - val_loss: 0.2168 - val_accuracy: 0.8557 - _timestamp: 1651658472.0000 - _runtime: 256.0000\n",
            "Epoch 13/20\n",
            "691/691 [==============================] - 19s 28ms/step - loss: 0.0590 - accuracy: 0.9491 - val_loss: 0.2199 - val_accuracy: 0.8589 - _timestamp: 1651658491.0000 - _runtime: 275.0000\n",
            "Epoch 14/20\n",
            "691/691 [==============================] - 19s 28ms/step - loss: 0.0550 - accuracy: 0.9522 - val_loss: 0.2162 - val_accuracy: 0.8613 - _timestamp: 1651658511.0000 - _runtime: 295.0000\n",
            "Epoch 15/20\n",
            "691/691 [==============================] - 19s 27ms/step - loss: 0.0532 - accuracy: 0.9535 - val_loss: 0.2266 - val_accuracy: 0.8588 - _timestamp: 1651658529.0000 - _runtime: 313.0000\n",
            "Epoch 16/20\n",
            "691/691 [==============================] - 19s 28ms/step - loss: 0.0532 - accuracy: 0.9540 - val_loss: 0.2236 - val_accuracy: 0.8621 - _timestamp: 1651658549.0000 - _runtime: 333.0000\n",
            "Epoch 17/20\n",
            "691/691 [==============================] - 19s 28ms/step - loss: 0.0499 - accuracy: 0.9562 - val_loss: 0.2285 - val_accuracy: 0.8600 - _timestamp: 1651658568.0000 - _runtime: 352.0000\n",
            "Epoch 18/20\n",
            "691/691 [==============================] - 19s 28ms/step - loss: 0.0491 - accuracy: 0.9574 - val_loss: 0.2333 - val_accuracy: 0.8620 - _timestamp: 1651658587.0000 - _runtime: 371.0000\n",
            "Epoch 19/20\n",
            "691/691 [==============================] - 19s 27ms/step - loss: 0.0483 - accuracy: 0.9577 - val_loss: 0.2347 - val_accuracy: 0.8629 - _timestamp: 1651658606.0000 - _runtime: 390.0000\n",
            "Epoch 20/20\n",
            "691/691 [==============================] - 19s 27ms/step - loss: 0.0486 - accuracy: 0.9577 - val_loss: 0.2337 - val_accuracy: 0.8637 - _timestamp: 1651658625.0000 - _runtime: 409.0000\n",
            "Completed ! \n"
          ]
        },
        {
          "data": {
            "text/html": [
              "Waiting for W&B process to finish... <strong style=\"color:green\">(success).</strong>"
            ],
            "text/plain": [
              "<IPython.core.display.HTML object>"
            ]
          },
          "metadata": {},
          "output_type": "display_data"
        },
        {
          "data": {
            "application/vnd.jupyter.widget-view+json": {
              "model_id": "bb7791c7c5764063bcb856c664c0b929",
              "version_major": 2,
              "version_minor": 0
            },
            "text/plain": [
              "VBox(children=(Label(value='5.720 MB of 5.720 MB uploaded (0.000 MB deduped)\\r'), FloatProgress(value=1.0, max…"
            ]
          },
          "metadata": {},
          "output_type": "display_data"
        },
        {
          "data": {
            "text/html": [
              "<style>\n",
              "    table.wandb td:nth-child(1) { padding: 0 10px; text-align: left ; width: auto;} td:nth-child(2) {text-align: left ; width: 100%}\n",
              "    .wandb-row { display: flex; flex-direction: row; flex-wrap: wrap; justify-content: flex-start; width: 100% }\n",
              "    .wandb-col { display: flex; flex-direction: column; flex-basis: 100%; flex: 1; padding: 10px; }\n",
              "    </style>\n",
              "<div class=\"wandb-row\"><div class=\"wandb-col\"><h3>Run history:</h3><br/><table class=\"wandb\"><tr><td>accuracy</td><td>▁▆▇▇▇▇██████████████</td></tr><tr><td>epoch</td><td>▁▁▂▂▂▃▃▄▄▄▅▅▅▆▆▇▇▇██</td></tr><tr><td>loss</td><td>█▃▂▂▂▂▁▁▁▁▁▁▁▁▁▁▁▁▁▁</td></tr><tr><td>val_accuracy</td><td>▁▆█████████▇██▇█████</td></tr><tr><td>val_loss</td><td>█▂▁▁▁▂▂▂▂▃▃▄▄▄▅▅▅▅▅▅</td></tr></table><br/></div><div class=\"wandb-col\"><h3>Run summary:</h3><br/><table class=\"wandb\"><tr><td>accuracy</td><td>0.95768</td></tr><tr><td>best_epoch</td><td>7</td></tr><tr><td>best_val_accuracy</td><td>0.86509</td></tr><tr><td>epoch</td><td>19</td></tr><tr><td>loss</td><td>0.04859</td></tr><tr><td>val_accuracy</td><td>0.8637</td></tr><tr><td>val_loss</td><td>0.23368</td></tr></table><br/></div></div>"
            ],
            "text/plain": [
              "<IPython.core.display.HTML object>"
            ]
          },
          "metadata": {},
          "output_type": "display_data"
        },
        {
          "data": {
            "text/html": [
              "Synced <strong style=\"color:#cdcd00\">cs6910-AS3-PA</strong>: <a href=\"https://wandb.ai/pandp/CS6910-AS3/runs/hxs8q1qr\" target=\"_blank\">https://wandb.ai/pandp/CS6910-AS3/runs/hxs8q1qr</a><br/>Synced 5 W&B file(s), 1 media file(s), 0 artifact file(s) and 1 other file(s)"
            ],
            "text/plain": [
              "<IPython.core.display.HTML object>"
            ]
          },
          "metadata": {},
          "output_type": "display_data"
        },
        {
          "data": {
            "text/html": [
              "Find logs at: <code>./wandb/run-20220504_095656-hxs8q1qr/logs</code>"
            ],
            "text/plain": [
              "<IPython.core.display.HTML object>"
            ]
          },
          "metadata": {},
          "output_type": "display_data"
        },
        {
          "metadata": {
            "tags": null
          },
          "name": "stderr",
          "output_type": "stream",
          "text": [
            "\u001b[34m\u001b[1mwandb\u001b[0m: Agent Starting Run: tp7w8xwy with config:\n",
            "\u001b[34m\u001b[1mwandb\u001b[0m: \tcell: GRU\n",
            "\u001b[34m\u001b[1mwandb\u001b[0m: \tdense_sz: 64\n",
            "\u001b[34m\u001b[1mwandb\u001b[0m: \tdp: 0.25\n",
            "\u001b[34m\u001b[1mwandb\u001b[0m: \tedls: 2\n",
            "\u001b[34m\u001b[1mwandb\u001b[0m: \temb_sz: 64\n",
            "\u001b[34m\u001b[1mwandb\u001b[0m: \tepochs: 15\n",
            "\u001b[34m\u001b[1mwandb\u001b[0m: \tlr: 0.001\n",
            "\u001b[34m\u001b[1mwandb\u001b[0m: \tnunits: 128\n"
          ]
        },
        {
          "data": {
            "text/html": [
              "Tracking run with wandb version 0.12.16"
            ],
            "text/plain": [
              "<IPython.core.display.HTML object>"
            ]
          },
          "metadata": {},
          "output_type": "display_data"
        },
        {
          "data": {
            "text/html": [
              "Run data is saved locally in <code>/content/wandb/run-20220504_100457-tp7w8xwy</code>"
            ],
            "text/plain": [
              "<IPython.core.display.HTML object>"
            ]
          },
          "metadata": {},
          "output_type": "display_data"
        },
        {
          "data": {
            "text/html": [
              "Syncing run <strong><a href=\"https://wandb.ai/pandp/CS6910-AS3/runs/tp7w8xwy\" target=\"_blank\">cs6910-AS3-PA</a></strong> to <a href=\"https://wandb.ai/pandp/CS6910-AS3\" target=\"_blank\">Weights & Biases</a> (<a href=\"https://wandb.me/run\" target=\"_blank\">docs</a>)<br/>Sweep page:  <a href=\"https://wandb.ai/pandp/CS6910-AS3/sweeps/3sng050k\" target=\"_blank\">https://wandb.ai/pandp/CS6910-AS3/sweeps/3sng050k</a>"
            ],
            "text/plain": [
              "<IPython.core.display.HTML object>"
            ]
          },
          "metadata": {},
          "output_type": "display_data"
        },
        {
          "metadata": {
            "tags": null
          },
          "name": "stdout",
          "output_type": "stream",
          "text": [
            "Build Sucessfully\n",
            "Epoch 1/15\n",
            "691/691 [==============================] - 37s 32ms/step - loss: 0.8969 - accuracy: 0.3937 - val_loss: 0.6296 - val_accuracy: 0.5363 - _timestamp: 1651658746.0000 - _runtime: 49.0000\n",
            "Epoch 2/15\n",
            "691/691 [==============================] - 18s 26ms/step - loss: 0.5199 - accuracy: 0.6181 - val_loss: 0.3920 - val_accuracy: 0.7005 - _timestamp: 1651658764.0000 - _runtime: 67.0000\n",
            "Epoch 3/15\n",
            "691/691 [==============================] - 18s 26ms/step - loss: 0.3541 - accuracy: 0.7294 - val_loss: 0.2886 - val_accuracy: 0.7667 - _timestamp: 1651658782.0000 - _runtime: 85.0000\n",
            "Epoch 4/15\n",
            "691/691 [==============================] - 18s 26ms/step - loss: 0.2734 - accuracy: 0.7867 - val_loss: 0.2441 - val_accuracy: 0.8047 - _timestamp: 1651658800.0000 - _runtime: 103.0000\n",
            "Epoch 5/15\n",
            "691/691 [==============================] - 18s 26ms/step - loss: 0.2318 - accuracy: 0.8173 - val_loss: 0.2198 - val_accuracy: 0.8218 - _timestamp: 1651658818.0000 - _runtime: 121.0000\n",
            "Epoch 6/15\n",
            "691/691 [==============================] - 18s 26ms/step - loss: 0.2043 - accuracy: 0.8382 - val_loss: 0.2010 - val_accuracy: 0.8381 - _timestamp: 1651658836.0000 - _runtime: 139.0000\n",
            "Epoch 7/15\n",
            "691/691 [==============================] - 18s 26ms/step - loss: 0.1842 - accuracy: 0.8533 - val_loss: 0.1951 - val_accuracy: 0.8417 - _timestamp: 1651658854.0000 - _runtime: 157.0000\n",
            "Epoch 8/15\n",
            "691/691 [==============================] - 18s 26ms/step - loss: 0.1685 - accuracy: 0.8645 - val_loss: 0.1887 - val_accuracy: 0.8414 - _timestamp: 1651658872.0000 - _runtime: 175.0000\n",
            "Epoch 9/15\n",
            "691/691 [==============================] - 19s 27ms/step - loss: 0.1564 - accuracy: 0.8739 - val_loss: 0.1796 - val_accuracy: 0.8534 - _timestamp: 1651658890.0000 - _runtime: 193.0000\n",
            "Epoch 10/15\n",
            "691/691 [==============================] - 18s 25ms/step - loss: 0.1448 - accuracy: 0.8830 - val_loss: 0.1776 - val_accuracy: 0.8561 - _timestamp: 1651658908.0000 - _runtime: 211.0000\n",
            "Epoch 11/15\n",
            "691/691 [==============================] - 19s 27ms/step - loss: 0.1360 - accuracy: 0.8899 - val_loss: 0.1736 - val_accuracy: 0.8590 - _timestamp: 1651658926.0000 - _runtime: 229.0000\n",
            "Epoch 12/15\n",
            "691/691 [==============================] - 19s 27ms/step - loss: 0.1279 - accuracy: 0.8953 - val_loss: 0.1750 - val_accuracy: 0.8586 - _timestamp: 1651658945.0000 - _runtime: 248.0000\n",
            "Epoch 13/15\n",
            "691/691 [==============================] - 19s 27ms/step - loss: 0.1201 - accuracy: 0.9017 - val_loss: 0.1734 - val_accuracy: 0.8629 - _timestamp: 1651658964.0000 - _runtime: 267.0000\n",
            "Epoch 14/15\n",
            "691/691 [==============================] - 20s 29ms/step - loss: 0.1134 - accuracy: 0.9071 - val_loss: 0.1750 - val_accuracy: 0.8609 - _timestamp: 1651658984.0000 - _runtime: 287.0000\n",
            "Epoch 15/15\n",
            "691/691 [==============================] - 20s 28ms/step - loss: 0.1072 - accuracy: 0.9119 - val_loss: 0.1734 - val_accuracy: 0.8623 - _timestamp: 1651659004.0000 - _runtime: 307.0000\n",
            "Completed ! \n"
          ]
        },
        {
          "data": {
            "text/html": [
              "Waiting for W&B process to finish... <strong style=\"color:green\">(success).</strong>"
            ],
            "text/plain": [
              "<IPython.core.display.HTML object>"
            ]
          },
          "metadata": {},
          "output_type": "display_data"
        },
        {
          "data": {
            "application/vnd.jupyter.widget-view+json": {
              "model_id": "c01c797846b349b3b9d38f41349e453b",
              "version_major": 2,
              "version_minor": 0
            },
            "text/plain": [
              "VBox(children=(Label(value='4.275 MB of 4.275 MB uploaded (0.000 MB deduped)\\r'), FloatProgress(value=1.0, max…"
            ]
          },
          "metadata": {},
          "output_type": "display_data"
        },
        {
          "data": {
            "text/html": [
              "<style>\n",
              "    table.wandb td:nth-child(1) { padding: 0 10px; text-align: left ; width: auto;} td:nth-child(2) {text-align: left ; width: 100%}\n",
              "    .wandb-row { display: flex; flex-direction: row; flex-wrap: wrap; justify-content: flex-start; width: 100% }\n",
              "    .wandb-col { display: flex; flex-direction: column; flex-basis: 100%; flex: 1; padding: 10px; }\n",
              "    </style>\n",
              "<div class=\"wandb-row\"><div class=\"wandb-col\"><h3>Run history:</h3><br/><table class=\"wandb\"><tr><td>accuracy</td><td>▁▄▆▆▇▇▇▇▇██████</td></tr><tr><td>epoch</td><td>▁▁▂▃▃▃▄▅▅▅▆▇▇▇█</td></tr><tr><td>loss</td><td>█▅▃▂▂▂▂▂▁▁▁▁▁▁▁</td></tr><tr><td>val_accuracy</td><td>▁▅▆▇▇▇█████████</td></tr><tr><td>val_loss</td><td>█▄▃▂▂▁▁▁▁▁▁▁▁▁▁</td></tr></table><br/></div><div class=\"wandb-col\"><h3>Run summary:</h3><br/><table class=\"wandb\"><tr><td>accuracy</td><td>0.91189</td></tr><tr><td>best_epoch</td><td>12</td></tr><tr><td>best_val_accuracy</td><td>0.86287</td></tr><tr><td>epoch</td><td>14</td></tr><tr><td>loss</td><td>0.10724</td></tr><tr><td>val_accuracy</td><td>0.86229</td></tr><tr><td>val_loss</td><td>0.17341</td></tr></table><br/></div></div>"
            ],
            "text/plain": [
              "<IPython.core.display.HTML object>"
            ]
          },
          "metadata": {},
          "output_type": "display_data"
        },
        {
          "data": {
            "text/html": [
              "Synced <strong style=\"color:#cdcd00\">cs6910-AS3-PA</strong>: <a href=\"https://wandb.ai/pandp/CS6910-AS3/runs/tp7w8xwy\" target=\"_blank\">https://wandb.ai/pandp/CS6910-AS3/runs/tp7w8xwy</a><br/>Synced 5 W&B file(s), 1 media file(s), 0 artifact file(s) and 1 other file(s)"
            ],
            "text/plain": [
              "<IPython.core.display.HTML object>"
            ]
          },
          "metadata": {},
          "output_type": "display_data"
        },
        {
          "data": {
            "text/html": [
              "Find logs at: <code>./wandb/run-20220504_100457-tp7w8xwy/logs</code>"
            ],
            "text/plain": [
              "<IPython.core.display.HTML object>"
            ]
          },
          "metadata": {},
          "output_type": "display_data"
        },
        {
          "metadata": {
            "tags": null
          },
          "name": "stderr",
          "output_type": "stream",
          "text": [
            "\u001b[34m\u001b[1mwandb\u001b[0m: Agent Starting Run: mo9z2z2z with config:\n",
            "\u001b[34m\u001b[1mwandb\u001b[0m: \tcell: GRU\n",
            "\u001b[34m\u001b[1mwandb\u001b[0m: \tdense_sz: 512\n",
            "\u001b[34m\u001b[1mwandb\u001b[0m: \tdp: 0\n",
            "\u001b[34m\u001b[1mwandb\u001b[0m: \tedls: 2\n",
            "\u001b[34m\u001b[1mwandb\u001b[0m: \temb_sz: 64\n",
            "\u001b[34m\u001b[1mwandb\u001b[0m: \tepochs: 15\n",
            "\u001b[34m\u001b[1mwandb\u001b[0m: \tlr: 0.001\n",
            "\u001b[34m\u001b[1mwandb\u001b[0m: \tnunits: 256\n"
          ]
        },
        {
          "data": {
            "text/html": [
              "Tracking run with wandb version 0.12.16"
            ],
            "text/plain": [
              "<IPython.core.display.HTML object>"
            ]
          },
          "metadata": {},
          "output_type": "display_data"
        },
        {
          "data": {
            "text/html": [
              "Run data is saved locally in <code>/content/wandb/run-20220504_101018-mo9z2z2z</code>"
            ],
            "text/plain": [
              "<IPython.core.display.HTML object>"
            ]
          },
          "metadata": {},
          "output_type": "display_data"
        },
        {
          "data": {
            "text/html": [
              "Syncing run <strong><a href=\"https://wandb.ai/pandp/CS6910-AS3/runs/mo9z2z2z\" target=\"_blank\">cs6910-AS3-PA</a></strong> to <a href=\"https://wandb.ai/pandp/CS6910-AS3\" target=\"_blank\">Weights & Biases</a> (<a href=\"https://wandb.me/run\" target=\"_blank\">docs</a>)<br/>Sweep page:  <a href=\"https://wandb.ai/pandp/CS6910-AS3/sweeps/3sng050k\" target=\"_blank\">https://wandb.ai/pandp/CS6910-AS3/sweeps/3sng050k</a>"
            ],
            "text/plain": [
              "<IPython.core.display.HTML object>"
            ]
          },
          "metadata": {},
          "output_type": "display_data"
        },
        {
          "metadata": {
            "tags": null
          },
          "name": "stdout",
          "output_type": "stream",
          "text": [
            "Build Sucessfully\n",
            "Epoch 1/15\n",
            "691/691 [==============================] - 40s 38ms/step - loss: 0.7988 - accuracy: 0.4447 - val_loss: 0.4322 - val_accuracy: 0.6592 - _timestamp: 1651659071.0000 - _runtime: 53.0000\n",
            "Epoch 2/15\n",
            "691/691 [==============================] - 20s 28ms/step - loss: 0.3097 - accuracy: 0.7575 - val_loss: 0.2386 - val_accuracy: 0.8061 - _timestamp: 1651659091.0000 - _runtime: 73.0000\n",
            "Epoch 3/15\n",
            "691/691 [==============================] - 21s 31ms/step - loss: 0.1975 - accuracy: 0.8420 - val_loss: 0.1946 - val_accuracy: 0.8387 - _timestamp: 1651659112.0000 - _runtime: 94.0000\n",
            "Epoch 4/15\n",
            "691/691 [==============================] - 21s 31ms/step - loss: 0.1527 - accuracy: 0.8760 - val_loss: 0.1738 - val_accuracy: 0.8574 - _timestamp: 1651659134.0000 - _runtime: 116.0000\n",
            "Epoch 5/15\n",
            "691/691 [==============================] - 21s 31ms/step - loss: 0.1240 - accuracy: 0.8985 - val_loss: 0.1710 - val_accuracy: 0.8606 - _timestamp: 1651659155.0000 - _runtime: 137.0000\n",
            "Epoch 6/15\n",
            "691/691 [==============================] - 21s 30ms/step - loss: 0.1043 - accuracy: 0.9140 - val_loss: 0.1665 - val_accuracy: 0.8666 - _timestamp: 1651659175.0000 - _runtime: 157.0000\n",
            "Epoch 7/15\n",
            "691/691 [==============================] - 20s 29ms/step - loss: 0.0880 - accuracy: 0.9266 - val_loss: 0.1675 - val_accuracy: 0.8677 - _timestamp: 1651659196.0000 - _runtime: 178.0000\n",
            "Epoch 8/15\n",
            "691/691 [==============================] - 20s 29ms/step - loss: 0.0759 - accuracy: 0.9363 - val_loss: 0.1732 - val_accuracy: 0.8694 - _timestamp: 1651659216.0000 - _runtime: 198.0000\n",
            "Epoch 9/15\n",
            "691/691 [==============================] - 19s 28ms/step - loss: 0.0648 - accuracy: 0.9449 - val_loss: 0.1790 - val_accuracy: 0.8674 - _timestamp: 1651659235.0000 - _runtime: 217.0000\n",
            "Epoch 10/15\n",
            "691/691 [==============================] - 20s 29ms/step - loss: 0.0557 - accuracy: 0.9525 - val_loss: 0.1881 - val_accuracy: 0.8666 - _timestamp: 1651659255.0000 - _runtime: 237.0000\n",
            "Epoch 11/15\n",
            "691/691 [==============================] - 20s 29ms/step - loss: 0.0497 - accuracy: 0.9572 - val_loss: 0.1956 - val_accuracy: 0.8678 - _timestamp: 1651659275.0000 - _runtime: 257.0000\n",
            "Epoch 12/15\n",
            "691/691 [==============================] - 20s 28ms/step - loss: 0.0451 - accuracy: 0.9612 - val_loss: 0.2099 - val_accuracy: 0.8649 - _timestamp: 1651659295.0000 - _runtime: 277.0000\n",
            "Epoch 13/15\n",
            "691/691 [==============================] - 21s 30ms/step - loss: 0.0406 - accuracy: 0.9648 - val_loss: 0.2178 - val_accuracy: 0.8630 - _timestamp: 1651659316.0000 - _runtime: 298.0000\n",
            "Epoch 14/15\n",
            "691/691 [==============================] - 20s 29ms/step - loss: 0.0372 - accuracy: 0.9679 - val_loss: 0.2216 - val_accuracy: 0.8671 - _timestamp: 1651659335.0000 - _runtime: 317.0000\n",
            "Epoch 15/15\n",
            "691/691 [==============================] - 19s 28ms/step - loss: 0.0349 - accuracy: 0.9698 - val_loss: 0.2235 - val_accuracy: 0.8651 - _timestamp: 1651659355.0000 - _runtime: 337.0000\n",
            "Completed ! \n"
          ]
        },
        {
          "data": {
            "text/html": [
              "Waiting for W&B process to finish... <strong style=\"color:green\">(success).</strong>"
            ],
            "text/plain": [
              "<IPython.core.display.HTML object>"
            ]
          },
          "metadata": {},
          "output_type": "display_data"
        },
        {
          "data": {
            "application/vnd.jupyter.widget-view+json": {
              "model_id": "9ddf9834a4f0412b9169f61a98a2695d",
              "version_major": 2,
              "version_minor": 0
            },
            "text/plain": [
              "VBox(children=(Label(value='16.747 MB of 16.747 MB uploaded (0.000 MB deduped)\\r'), FloatProgress(value=1.0, m…"
            ]
          },
          "metadata": {},
          "output_type": "display_data"
        },
        {
          "data": {
            "text/html": [
              "<style>\n",
              "    table.wandb td:nth-child(1) { padding: 0 10px; text-align: left ; width: auto;} td:nth-child(2) {text-align: left ; width: 100%}\n",
              "    .wandb-row { display: flex; flex-direction: row; flex-wrap: wrap; justify-content: flex-start; width: 100% }\n",
              "    .wandb-col { display: flex; flex-direction: column; flex-basis: 100%; flex: 1; padding: 10px; }\n",
              "    </style>\n",
              "<div class=\"wandb-row\"><div class=\"wandb-col\"><h3>Run history:</h3><br/><table class=\"wandb\"><tr><td>accuracy</td><td>▁▅▆▇▇▇▇████████</td></tr><tr><td>epoch</td><td>▁▁▂▃▃▃▄▅▅▅▆▇▇▇█</td></tr><tr><td>loss</td><td>█▄▂▂▂▂▁▁▁▁▁▁▁▁▁</td></tr><tr><td>val_accuracy</td><td>▁▆▇████████████</td></tr><tr><td>val_loss</td><td>█▃▂▁▁▁▁▁▁▂▂▂▂▂▃</td></tr></table><br/></div><div class=\"wandb-col\"><h3>Run summary:</h3><br/><table class=\"wandb\"><tr><td>accuracy</td><td>0.96984</td></tr><tr><td>best_epoch</td><td>7</td></tr><tr><td>best_val_accuracy</td><td>0.86944</td></tr><tr><td>epoch</td><td>14</td></tr><tr><td>loss</td><td>0.03492</td></tr><tr><td>val_accuracy</td><td>0.86512</td></tr><tr><td>val_loss</td><td>0.22347</td></tr></table><br/></div></div>"
            ],
            "text/plain": [
              "<IPython.core.display.HTML object>"
            ]
          },
          "metadata": {},
          "output_type": "display_data"
        },
        {
          "data": {
            "text/html": [
              "Synced <strong style=\"color:#cdcd00\">cs6910-AS3-PA</strong>: <a href=\"https://wandb.ai/pandp/CS6910-AS3/runs/mo9z2z2z\" target=\"_blank\">https://wandb.ai/pandp/CS6910-AS3/runs/mo9z2z2z</a><br/>Synced 5 W&B file(s), 1 media file(s), 0 artifact file(s) and 1 other file(s)"
            ],
            "text/plain": [
              "<IPython.core.display.HTML object>"
            ]
          },
          "metadata": {},
          "output_type": "display_data"
        },
        {
          "data": {
            "text/html": [
              "Find logs at: <code>./wandb/run-20220504_101018-mo9z2z2z/logs</code>"
            ],
            "text/plain": [
              "<IPython.core.display.HTML object>"
            ]
          },
          "metadata": {},
          "output_type": "display_data"
        },
        {
          "metadata": {
            "tags": null
          },
          "name": "stderr",
          "output_type": "stream",
          "text": [
            "\u001b[34m\u001b[1mwandb\u001b[0m: Agent Starting Run: d337z8p6 with config:\n",
            "\u001b[34m\u001b[1mwandb\u001b[0m: \tcell: LSTM\n",
            "\u001b[34m\u001b[1mwandb\u001b[0m: \tdense_sz: 64\n",
            "\u001b[34m\u001b[1mwandb\u001b[0m: \tdp: 0.4\n",
            "\u001b[34m\u001b[1mwandb\u001b[0m: \tedls: 2\n",
            "\u001b[34m\u001b[1mwandb\u001b[0m: \temb_sz: 128\n",
            "\u001b[34m\u001b[1mwandb\u001b[0m: \tepochs: 15\n",
            "\u001b[34m\u001b[1mwandb\u001b[0m: \tlr: 0.001\n",
            "\u001b[34m\u001b[1mwandb\u001b[0m: \tnunits: 128\n"
          ]
        },
        {
          "data": {
            "text/html": [
              "Tracking run with wandb version 0.12.16"
            ],
            "text/plain": [
              "<IPython.core.display.HTML object>"
            ]
          },
          "metadata": {},
          "output_type": "display_data"
        },
        {
          "data": {
            "text/html": [
              "Run data is saved locally in <code>/content/wandb/run-20220504_101606-d337z8p6</code>"
            ],
            "text/plain": [
              "<IPython.core.display.HTML object>"
            ]
          },
          "metadata": {},
          "output_type": "display_data"
        },
        {
          "data": {
            "text/html": [
              "Syncing run <strong><a href=\"https://wandb.ai/pandp/CS6910-AS3/runs/d337z8p6\" target=\"_blank\">cs6910-AS3-PA</a></strong> to <a href=\"https://wandb.ai/pandp/CS6910-AS3\" target=\"_blank\">Weights & Biases</a> (<a href=\"https://wandb.me/run\" target=\"_blank\">docs</a>)<br/>Sweep page:  <a href=\"https://wandb.ai/pandp/CS6910-AS3/sweeps/3sng050k\" target=\"_blank\">https://wandb.ai/pandp/CS6910-AS3/sweeps/3sng050k</a>"
            ],
            "text/plain": [
              "<IPython.core.display.HTML object>"
            ]
          },
          "metadata": {},
          "output_type": "display_data"
        },
        {
          "metadata": {
            "tags": null
          },
          "name": "stdout",
          "output_type": "stream",
          "text": [
            "Build Sucessfully\n",
            "Epoch 1/15\n",
            "691/691 [==============================] - 38s 34ms/step - loss: 0.9140 - accuracy: 0.3775 - val_loss: 0.6419 - val_accuracy: 0.5139 - _timestamp: 1651659417.0000 - _runtime: 51.0000\n",
            "Epoch 2/15\n",
            "691/691 [==============================] - 19s 28ms/step - loss: 0.5050 - accuracy: 0.6214 - val_loss: 0.3505 - val_accuracy: 0.7232 - _timestamp: 1651659436.0000 - _runtime: 70.0000\n",
            "Epoch 3/15\n",
            "691/691 [==============================] - 20s 29ms/step - loss: 0.3217 - accuracy: 0.7489 - val_loss: 0.2595 - val_accuracy: 0.7912 - _timestamp: 1651659456.0000 - _runtime: 90.0000\n",
            "Epoch 4/15\n",
            "691/691 [==============================] - 19s 28ms/step - loss: 0.2534 - accuracy: 0.7991 - val_loss: 0.2241 - val_accuracy: 0.8182 - _timestamp: 1651659475.0000 - _runtime: 109.0000\n",
            "Epoch 5/15\n",
            "691/691 [==============================] - 19s 28ms/step - loss: 0.2171 - accuracy: 0.8272 - val_loss: 0.2108 - val_accuracy: 0.8248 - _timestamp: 1651659494.0000 - _runtime: 128.0000\n",
            "Epoch 6/15\n",
            "691/691 [==============================] - 19s 28ms/step - loss: 0.1910 - accuracy: 0.8468 - val_loss: 0.1917 - val_accuracy: 0.8448 - _timestamp: 1651659514.0000 - _runtime: 148.0000\n",
            "Epoch 7/15\n",
            "691/691 [==============================] - 20s 29ms/step - loss: 0.1727 - accuracy: 0.8611 - val_loss: 0.1829 - val_accuracy: 0.8495 - _timestamp: 1651659534.0000 - _runtime: 168.0000\n",
            "Epoch 8/15\n",
            "691/691 [==============================] - 19s 27ms/step - loss: 0.1577 - accuracy: 0.8733 - val_loss: 0.1803 - val_accuracy: 0.8490 - _timestamp: 1651659552.0000 - _runtime: 186.0000\n",
            "Epoch 9/15\n",
            "691/691 [==============================] - 20s 29ms/step - loss: 0.1456 - accuracy: 0.8824 - val_loss: 0.1724 - val_accuracy: 0.8574 - _timestamp: 1651659572.0000 - _runtime: 206.0000\n",
            "Epoch 10/15\n",
            "691/691 [==============================] - 19s 27ms/step - loss: 0.1345 - accuracy: 0.8911 - val_loss: 0.1689 - val_accuracy: 0.8602 - _timestamp: 1651659591.0000 - _runtime: 225.0000\n",
            "Epoch 11/15\n",
            "691/691 [==============================] - 19s 28ms/step - loss: 0.1256 - accuracy: 0.8982 - val_loss: 0.1717 - val_accuracy: 0.8602 - _timestamp: 1651659610.0000 - _runtime: 244.0000\n",
            "Epoch 12/15\n",
            "691/691 [==============================] - 20s 29ms/step - loss: 0.1171 - accuracy: 0.9044 - val_loss: 0.1688 - val_accuracy: 0.8642 - _timestamp: 1651659630.0000 - _runtime: 264.0000\n",
            "Epoch 13/15\n",
            "691/691 [==============================] - 20s 29ms/step - loss: 0.1099 - accuracy: 0.9101 - val_loss: 0.1654 - val_accuracy: 0.8687 - _timestamp: 1651659650.0000 - _runtime: 284.0000\n",
            "Epoch 14/15\n",
            "691/691 [==============================] - 19s 27ms/step - loss: 0.1032 - accuracy: 0.9150 - val_loss: 0.1706 - val_accuracy: 0.8645 - _timestamp: 1651659669.0000 - _runtime: 303.0000\n",
            "Epoch 15/15\n",
            "691/691 [==============================] - 20s 28ms/step - loss: 0.0973 - accuracy: 0.9195 - val_loss: 0.1725 - val_accuracy: 0.8642 - _timestamp: 1651659688.0000 - _runtime: 322.0000\n",
            "Completed ! \n"
          ]
        },
        {
          "data": {
            "text/html": [
              "Waiting for W&B process to finish... <strong style=\"color:green\">(success).</strong>"
            ],
            "text/plain": [
              "<IPython.core.display.HTML object>"
            ]
          },
          "metadata": {},
          "output_type": "display_data"
        },
        {
          "data": {
            "application/vnd.jupyter.widget-view+json": {
              "model_id": "3c58332e163a4df1ac364311ace41416",
              "version_major": 2,
              "version_minor": 0
            },
            "text/plain": [
              "VBox(children=(Label(value='6.394 MB of 6.394 MB uploaded (0.000 MB deduped)\\r'), FloatProgress(value=1.0, max…"
            ]
          },
          "metadata": {},
          "output_type": "display_data"
        },
        {
          "data": {
            "text/html": [
              "<style>\n",
              "    table.wandb td:nth-child(1) { padding: 0 10px; text-align: left ; width: auto;} td:nth-child(2) {text-align: left ; width: 100%}\n",
              "    .wandb-row { display: flex; flex-direction: row; flex-wrap: wrap; justify-content: flex-start; width: 100% }\n",
              "    .wandb-col { display: flex; flex-direction: column; flex-basis: 100%; flex: 1; padding: 10px; }\n",
              "    </style>\n",
              "<div class=\"wandb-row\"><div class=\"wandb-col\"><h3>Run history:</h3><br/><table class=\"wandb\"><tr><td>accuracy</td><td>▁▄▆▆▇▇▇▇███████</td></tr><tr><td>epoch</td><td>▁▁▂▃▃▃▄▅▅▅▆▇▇▇█</td></tr><tr><td>loss</td><td>█▄▃▂▂▂▂▂▁▁▁▁▁▁▁</td></tr><tr><td>val_accuracy</td><td>▁▅▆▇▇██████████</td></tr><tr><td>val_loss</td><td>█▄▂▂▂▁▁▁▁▁▁▁▁▁▁</td></tr></table><br/></div><div class=\"wandb-col\"><h3>Run summary:</h3><br/><table class=\"wandb\"><tr><td>accuracy</td><td>0.91952</td></tr><tr><td>best_epoch</td><td>12</td></tr><tr><td>best_val_accuracy</td><td>0.86875</td></tr><tr><td>epoch</td><td>14</td></tr><tr><td>loss</td><td>0.09731</td></tr><tr><td>val_accuracy</td><td>0.86416</td></tr><tr><td>val_loss</td><td>0.17247</td></tr></table><br/></div></div>"
            ],
            "text/plain": [
              "<IPython.core.display.HTML object>"
            ]
          },
          "metadata": {},
          "output_type": "display_data"
        },
        {
          "data": {
            "text/html": [
              "Synced <strong style=\"color:#cdcd00\">cs6910-AS3-PA</strong>: <a href=\"https://wandb.ai/pandp/CS6910-AS3/runs/d337z8p6\" target=\"_blank\">https://wandb.ai/pandp/CS6910-AS3/runs/d337z8p6</a><br/>Synced 5 W&B file(s), 1 media file(s), 0 artifact file(s) and 1 other file(s)"
            ],
            "text/plain": [
              "<IPython.core.display.HTML object>"
            ]
          },
          "metadata": {},
          "output_type": "display_data"
        },
        {
          "data": {
            "text/html": [
              "Find logs at: <code>./wandb/run-20220504_101606-d337z8p6/logs</code>"
            ],
            "text/plain": [
              "<IPython.core.display.HTML object>"
            ]
          },
          "metadata": {},
          "output_type": "display_data"
        },
        {
          "metadata": {
            "tags": null
          },
          "name": "stderr",
          "output_type": "stream",
          "text": [
            "\u001b[34m\u001b[1mwandb\u001b[0m: Sweep Agent: Waiting for job.\n",
            "\u001b[34m\u001b[1mwandb\u001b[0m: Job received.\n",
            "\u001b[34m\u001b[1mwandb\u001b[0m: Agent Starting Run: 1sfq51zc with config:\n",
            "\u001b[34m\u001b[1mwandb\u001b[0m: \tcell: RNN\n",
            "\u001b[34m\u001b[1mwandb\u001b[0m: \tdense_sz: 512\n",
            "\u001b[34m\u001b[1mwandb\u001b[0m: \tdp: 0.4\n",
            "\u001b[34m\u001b[1mwandb\u001b[0m: \tedls: 3\n",
            "\u001b[34m\u001b[1mwandb\u001b[0m: \temb_sz: 32\n",
            "\u001b[34m\u001b[1mwandb\u001b[0m: \tepochs: 20\n",
            "\u001b[34m\u001b[1mwandb\u001b[0m: \tlr: 0.005\n",
            "\u001b[34m\u001b[1mwandb\u001b[0m: \tnunits: 256\n"
          ]
        },
        {
          "data": {
            "text/html": [
              "Tracking run with wandb version 0.12.16"
            ],
            "text/plain": [
              "<IPython.core.display.HTML object>"
            ]
          },
          "metadata": {},
          "output_type": "display_data"
        },
        {
          "data": {
            "text/html": [
              "Run data is saved locally in <code>/content/wandb/run-20220504_102213-1sfq51zc</code>"
            ],
            "text/plain": [
              "<IPython.core.display.HTML object>"
            ]
          },
          "metadata": {},
          "output_type": "display_data"
        },
        {
          "data": {
            "text/html": [
              "Syncing run <strong><a href=\"https://wandb.ai/pandp/CS6910-AS3/runs/1sfq51zc\" target=\"_blank\">cs6910-AS3-PA</a></strong> to <a href=\"https://wandb.ai/pandp/CS6910-AS3\" target=\"_blank\">Weights & Biases</a> (<a href=\"https://wandb.me/run\" target=\"_blank\">docs</a>)<br/>Sweep page:  <a href=\"https://wandb.ai/pandp/CS6910-AS3/sweeps/3sng050k\" target=\"_blank\">https://wandb.ai/pandp/CS6910-AS3/sweeps/3sng050k</a>"
            ],
            "text/plain": [
              "<IPython.core.display.HTML object>"
            ]
          },
          "metadata": {},
          "output_type": "display_data"
        },
        {
          "metadata": {
            "tags": null
          },
          "name": "stdout",
          "output_type": "stream",
          "text": [
            "Build Sucessfully\n",
            "Epoch 1/20\n",
            "691/691 [==============================] - 138s 191ms/step - loss: 1.0300 - accuracy: 0.3034 - val_loss: 0.9284 - val_accuracy: 0.3384 - _timestamp: 1651659879.0000 - _runtime: 146.0000\n",
            "Epoch 2/20\n",
            "691/691 [==============================] - 130s 188ms/step - loss: 0.9479 - accuracy: 0.3439 - val_loss: 0.9118 - val_accuracy: 0.3404 - _timestamp: 1651660009.0000 - _runtime: 276.0000\n",
            "Epoch 3/20\n",
            "691/691 [==============================] - 131s 190ms/step - loss: 1.1020 - accuracy: 0.3350 - val_loss: 0.9029 - val_accuracy: 0.3442 - _timestamp: 1651660140.0000 - _runtime: 407.0000\n",
            "Epoch 4/20\n",
            "691/691 [==============================] - 133s 192ms/step - loss: 0.9295 - accuracy: 0.3475 - val_loss: 0.8969 - val_accuracy: 0.3511 - _timestamp: 1651660273.0000 - _runtime: 540.0000\n",
            "Epoch 5/20\n",
            "691/691 [==============================] - 129s 187ms/step - loss: 0.9235 - accuracy: 0.3499 - val_loss: 0.8891 - val_accuracy: 0.3527 - _timestamp: 1651660403.0000 - _runtime: 670.0000\n",
            "Epoch 6/20\n",
            "691/691 [==============================] - 133s 192ms/step - loss: 0.9205 - accuracy: 0.3507 - val_loss: 0.8858 - val_accuracy: 0.3558 - _timestamp: 1651660536.0000 - _runtime: 803.0000\n",
            "Epoch 7/20\n",
            "691/691 [==============================] - 135s 195ms/step - loss: 0.9171 - accuracy: 0.3533 - val_loss: 0.8836 - val_accuracy: 0.3527 - _timestamp: 1651660670.0000 - _runtime: 937.0000\n",
            "Epoch 8/20\n",
            "691/691 [==============================] - 131s 190ms/step - loss: 0.9157 - accuracy: 0.3532 - val_loss: 0.8867 - val_accuracy: 0.3541 - _timestamp: 1651660802.0000 - _runtime: 1069.0000\n",
            "Epoch 9/20\n",
            "691/691 [==============================] - 130s 188ms/step - loss: 0.9141 - accuracy: 0.3536 - val_loss: 0.8866 - val_accuracy: 0.3572 - _timestamp: 1651660932.0000 - _runtime: 1199.0000\n",
            "Epoch 10/20\n",
            "691/691 [==============================] - 132s 190ms/step - loss: 0.9142 - accuracy: 0.3533 - val_loss: 0.8854 - val_accuracy: 0.3532 - _timestamp: 1651661063.0000 - _runtime: 1330.0000\n",
            "Epoch 11/20\n",
            "691/691 [==============================] - 130s 188ms/step - loss: 0.9140 - accuracy: 0.3540 - val_loss: 0.8917 - val_accuracy: 0.3499 - _timestamp: 1651661193.0000 - _runtime: 1460.0000\n",
            "Epoch 12/20\n",
            "691/691 [==============================] - 130s 188ms/step - loss: 0.9162 - accuracy: 0.3520 - val_loss: 0.8925 - val_accuracy: 0.3500 - _timestamp: 1651661323.0000 - _runtime: 1590.0000\n",
            "Epoch 13/20\n",
            "691/691 [==============================] - 129s 187ms/step - loss: 0.9182 - accuracy: 0.3509 - val_loss: 0.8900 - val_accuracy: 0.3501 - _timestamp: 1651661452.0000 - _runtime: 1719.0000\n",
            "Epoch 14/20\n",
            "691/691 [==============================] - 134s 194ms/step - loss: 0.9153 - accuracy: 0.3524 - val_loss: 0.8858 - val_accuracy: 0.3544 - _timestamp: 1651661586.0000 - _runtime: 1853.0000\n",
            "Epoch 15/20\n",
            "691/691 [==============================] - 131s 190ms/step - loss: 0.9134 - accuracy: 0.3527 - val_loss: 0.8869 - val_accuracy: 0.3559 - _timestamp: 1651661717.0000 - _runtime: 1984.0000\n",
            "Epoch 16/20\n",
            "691/691 [==============================] - 131s 189ms/step - loss: 0.9128 - accuracy: 0.3529 - val_loss: 0.8816 - val_accuracy: 0.3537 - _timestamp: 1651661848.0000 - _runtime: 2115.0000\n",
            "Epoch 17/20\n",
            "691/691 [==============================] - 133s 192ms/step - loss: 0.9112 - accuracy: 0.3540 - val_loss: 0.8827 - val_accuracy: 0.3533 - _timestamp: 1651661980.0000 - _runtime: 2247.0000\n",
            "Epoch 18/20\n",
            "691/691 [==============================] - 132s 191ms/step - loss: 0.9094 - accuracy: 0.3543 - val_loss: 0.8834 - val_accuracy: 0.3520 - _timestamp: 1651662112.0000 - _runtime: 2379.0000\n",
            "Epoch 19/20\n",
            "691/691 [==============================] - 131s 189ms/step - loss: 0.9110 - accuracy: 0.3541 - val_loss: 0.8902 - val_accuracy: 0.3539 - _timestamp: 1651662243.0000 - _runtime: 2510.0000\n",
            "Epoch 20/20\n",
            "691/691 [==============================] - 131s 190ms/step - loss: 0.9175 - accuracy: 0.3538 - val_loss: 0.8903 - val_accuracy: 0.3458 - _timestamp: 1651662374.0000 - _runtime: 2641.0000\n",
            "Completed ! \n"
          ]
        },
        {
          "data": {
            "text/html": [
              "Waiting for W&B process to finish... <strong style=\"color:green\">(success).</strong>"
            ],
            "text/plain": [
              "<IPython.core.display.HTML object>"
            ]
          },
          "metadata": {},
          "output_type": "display_data"
        },
        {
          "data": {
            "application/vnd.jupyter.widget-view+json": {
              "model_id": "4848d89a225c4250965d5f3e6de1b68b",
              "version_major": 2,
              "version_minor": 0
            },
            "text/plain": [
              "VBox(children=(Label(value='9.750 MB of 9.750 MB uploaded (0.000 MB deduped)\\r'), FloatProgress(value=1.0, max…"
            ]
          },
          "metadata": {},
          "output_type": "display_data"
        },
        {
          "data": {
            "text/html": [
              "<style>\n",
              "    table.wandb td:nth-child(1) { padding: 0 10px; text-align: left ; width: auto;} td:nth-child(2) {text-align: left ; width: 100%}\n",
              "    .wandb-row { display: flex; flex-direction: row; flex-wrap: wrap; justify-content: flex-start; width: 100% }\n",
              "    .wandb-col { display: flex; flex-direction: column; flex-basis: 100%; flex: 1; padding: 10px; }\n",
              "    </style>\n",
              "<div class=\"wandb-row\"><div class=\"wandb-col\"><h3>Run history:</h3><br/><table class=\"wandb\"><tr><td>accuracy</td><td>▁▇▅▇▇▇██████████████</td></tr><tr><td>epoch</td><td>▁▁▂▂▂▃▃▄▄▄▅▅▅▆▆▇▇▇██</td></tr><tr><td>loss</td><td>▅▂█▂▂▁▁▁▁▁▁▁▁▁▁▁▁▁▁▁</td></tr><tr><td>val_accuracy</td><td>▁▂▃▆▆▇▆▇█▇▅▅▅▇█▇▇▆▇▄</td></tr><tr><td>val_loss</td><td>█▆▄▃▂▂▁▂▂▂▃▃▂▂▂▁▁▁▂▂</td></tr></table><br/></div><div class=\"wandb-col\"><h3>Run summary:</h3><br/><table class=\"wandb\"><tr><td>accuracy</td><td>0.35376</td></tr><tr><td>best_epoch</td><td>8</td></tr><tr><td>best_val_accuracy</td><td>0.35718</td></tr><tr><td>epoch</td><td>19</td></tr><tr><td>loss</td><td>0.91753</td></tr><tr><td>val_accuracy</td><td>0.34576</td></tr><tr><td>val_loss</td><td>0.89028</td></tr></table><br/></div></div>"
            ],
            "text/plain": [
              "<IPython.core.display.HTML object>"
            ]
          },
          "metadata": {},
          "output_type": "display_data"
        },
        {
          "data": {
            "text/html": [
              "Synced <strong style=\"color:#cdcd00\">cs6910-AS3-PA</strong>: <a href=\"https://wandb.ai/pandp/CS6910-AS3/runs/1sfq51zc\" target=\"_blank\">https://wandb.ai/pandp/CS6910-AS3/runs/1sfq51zc</a><br/>Synced 5 W&B file(s), 1 media file(s), 0 artifact file(s) and 1 other file(s)"
            ],
            "text/plain": [
              "<IPython.core.display.HTML object>"
            ]
          },
          "metadata": {},
          "output_type": "display_data"
        },
        {
          "data": {
            "text/html": [
              "Find logs at: <code>./wandb/run-20220504_102213-1sfq51zc/logs</code>"
            ],
            "text/plain": [
              "<IPython.core.display.HTML object>"
            ]
          },
          "metadata": {},
          "output_type": "display_data"
        },
        {
          "metadata": {
            "tags": null
          },
          "name": "stderr",
          "output_type": "stream",
          "text": [
            "\u001b[34m\u001b[1mwandb\u001b[0m: Agent Starting Run: f8nvq1p4 with config:\n",
            "\u001b[34m\u001b[1mwandb\u001b[0m: \tcell: LSTM\n",
            "\u001b[34m\u001b[1mwandb\u001b[0m: \tdense_sz: 128\n",
            "\u001b[34m\u001b[1mwandb\u001b[0m: \tdp: 0.4\n",
            "\u001b[34m\u001b[1mwandb\u001b[0m: \tedls: 4\n",
            "\u001b[34m\u001b[1mwandb\u001b[0m: \temb_sz: 128\n",
            "\u001b[34m\u001b[1mwandb\u001b[0m: \tepochs: 15\n",
            "\u001b[34m\u001b[1mwandb\u001b[0m: \tlr: 0.001\n",
            "\u001b[34m\u001b[1mwandb\u001b[0m: \tnunits: 256\n"
          ]
        },
        {
          "data": {
            "text/html": [
              "Tracking run with wandb version 0.12.16"
            ],
            "text/plain": [
              "<IPython.core.display.HTML object>"
            ]
          },
          "metadata": {},
          "output_type": "display_data"
        },
        {
          "data": {
            "text/html": [
              "Run data is saved locally in <code>/content/wandb/run-20220504_110659-f8nvq1p4</code>"
            ],
            "text/plain": [
              "<IPython.core.display.HTML object>"
            ]
          },
          "metadata": {},
          "output_type": "display_data"
        },
        {
          "data": {
            "text/html": [
              "Syncing run <strong><a href=\"https://wandb.ai/pandp/CS6910-AS3/runs/f8nvq1p4\" target=\"_blank\">cs6910-AS3-PA</a></strong> to <a href=\"https://wandb.ai/pandp/CS6910-AS3\" target=\"_blank\">Weights & Biases</a> (<a href=\"https://wandb.me/run\" target=\"_blank\">docs</a>)<br/>Sweep page:  <a href=\"https://wandb.ai/pandp/CS6910-AS3/sweeps/3sng050k\" target=\"_blank\">https://wandb.ai/pandp/CS6910-AS3/sweeps/3sng050k</a>"
            ],
            "text/plain": [
              "<IPython.core.display.HTML object>"
            ]
          },
          "metadata": {},
          "output_type": "display_data"
        },
        {
          "output_type": "stream",
          "name": "stdout",
          "text": [
            "Build Sucessfully\n",
            "Epoch 1/15\n",
            "691/691 [==============================] - 72s 66ms/step - loss: 0.9123 - accuracy: 0.3719 - val_loss: 0.6133 - val_accuracy: 0.5343 - _timestamp: 1651662509.0000 - _runtime: 90.0000\n",
            "Epoch 2/15\n",
            "691/691 [==============================] - 36s 52ms/step - loss: 0.5006 - accuracy: 0.6257 - val_loss: 0.3509 - val_accuracy: 0.7300 - _timestamp: 1651662546.0000 - _runtime: 127.0000\n",
            "Epoch 3/15\n",
            "691/691 [==============================] - 35s 51ms/step - loss: 0.3015 - accuracy: 0.7660 - val_loss: 0.2435 - val_accuracy: 0.8051 - _timestamp: 1651662581.0000 - _runtime: 162.0000\n",
            "Epoch 4/15\n",
            "691/691 [==============================] - 35s 51ms/step - loss: 0.2108 - accuracy: 0.8334 - val_loss: 0.1975 - val_accuracy: 0.8398 - _timestamp: 1651662616.0000 - _runtime: 197.0000\n",
            "Epoch 5/15\n",
            "691/691 [==============================] - 36s 53ms/step - loss: 0.1632 - accuracy: 0.8690 - val_loss: 0.1843 - val_accuracy: 0.8510 - _timestamp: 1651662653.0000 - _runtime: 234.0000\n",
            "Epoch 6/15\n",
            "691/691 [==============================] - 37s 54ms/step - loss: 0.1317 - accuracy: 0.8932 - val_loss: 0.1735 - val_accuracy: 0.8591 - _timestamp: 1651662690.0000 - _runtime: 271.0000\n",
            "Epoch 7/15\n",
            "691/691 [==============================] - 39s 56ms/step - loss: 0.1094 - accuracy: 0.9107 - val_loss: 0.1713 - val_accuracy: 0.8631 - _timestamp: 1651662728.0000 - _runtime: 309.0000\n",
            "Epoch 8/15\n",
            "691/691 [==============================] - 39s 56ms/step - loss: 0.0927 - accuracy: 0.9234 - val_loss: 0.1739 - val_accuracy: 0.8647 - _timestamp: 1651662767.0000 - _runtime: 348.0000\n",
            "Epoch 9/15\n",
            "691/691 [==============================] - 38s 55ms/step - loss: 0.0784 - accuracy: 0.9347 - val_loss: 0.1748 - val_accuracy: 0.8675 - _timestamp: 1651662805.0000 - _runtime: 386.0000\n",
            "Epoch 10/15\n",
            "691/691 [==============================] - 38s 56ms/step - loss: 0.0668 - accuracy: 0.9441 - val_loss: 0.1774 - val_accuracy: 0.8671 - _timestamp: 1651662844.0000 - _runtime: 425.0000\n",
            "Epoch 11/15\n",
            "691/691 [==============================] - 40s 58ms/step - loss: 0.0586 - accuracy: 0.9504 - val_loss: 0.1854 - val_accuracy: 0.8680 - _timestamp: 1651662883.0000 - _runtime: 464.0000\n",
            "Epoch 12/15\n",
            "691/691 [==============================] - 38s 56ms/step - loss: 0.0514 - accuracy: 0.9561 - val_loss: 0.1938 - val_accuracy: 0.8677 - _timestamp: 1651662922.0000 - _runtime: 503.0000\n",
            "Epoch 13/15\n",
            "691/691 [==============================] - 38s 56ms/step - loss: 0.0465 - accuracy: 0.9602 - val_loss: 0.2021 - val_accuracy: 0.8676 - _timestamp: 1651662960.0000 - _runtime: 541.0000\n",
            "Epoch 14/15\n",
            "691/691 [==============================] - 39s 57ms/step - loss: 0.0417 - accuracy: 0.9645 - val_loss: 0.2105 - val_accuracy: 0.8656 - _timestamp: 1651663000.0000 - _runtime: 581.0000\n",
            "Epoch 15/15\n",
            "691/691 [==============================] - 38s 54ms/step - loss: 0.0380 - accuracy: 0.9673 - val_loss: 0.2165 - val_accuracy: 0.8626 - _timestamp: 1651663037.0000 - _runtime: 618.0000\n",
            "Completed ! \n"
          ]
        },
        {
          "output_type": "display_data",
          "data": {
            "text/plain": [
              "<IPython.core.display.HTML object>"
            ],
            "text/html": [
              "Waiting for W&B process to finish... <strong style=\"color:green\">(success).</strong>"
            ]
          },
          "metadata": {}
        },
        {
          "output_type": "display_data",
          "data": {
            "text/plain": [
              "VBox(children=(Label(value='45.848 MB of 45.848 MB uploaded (0.000 MB deduped)\\r'), FloatProgress(value=1.0, m…"
            ],
            "application/vnd.jupyter.widget-view+json": {
              "version_major": 2,
              "version_minor": 0,
              "model_id": "c54dae56cb1549209a348168d6a64953"
            }
          },
          "metadata": {}
        },
        {
          "output_type": "display_data",
          "data": {
            "text/plain": [
              "<IPython.core.display.HTML object>"
            ],
            "text/html": [
              "<style>\n",
              "    table.wandb td:nth-child(1) { padding: 0 10px; text-align: left ; width: auto;} td:nth-child(2) {text-align: left ; width: 100%}\n",
              "    .wandb-row { display: flex; flex-direction: row; flex-wrap: wrap; justify-content: flex-start; width: 100% }\n",
              "    .wandb-col { display: flex; flex-direction: column; flex-basis: 100%; flex: 1; padding: 10px; }\n",
              "    </style>\n",
              "<div class=\"wandb-row\"><div class=\"wandb-col\"><h3>Run history:</h3><br/><table class=\"wandb\"><tr><td>accuracy</td><td>▁▄▆▆▇▇▇▇███████</td></tr><tr><td>epoch</td><td>▁▁▂▃▃▃▄▅▅▅▆▇▇▇█</td></tr><tr><td>loss</td><td>█▅▃▂▂▂▂▁▁▁▁▁▁▁▁</td></tr><tr><td>val_accuracy</td><td>▁▅▇▇███████████</td></tr><tr><td>val_loss</td><td>█▄▂▁▁▁▁▁▁▁▁▁▁▂▂</td></tr></table><br/></div><div class=\"wandb-col\"><h3>Run summary:</h3><br/><table class=\"wandb\"><tr><td>accuracy</td><td>0.96728</td></tr><tr><td>best_epoch</td><td>10</td></tr><tr><td>best_val_accuracy</td><td>0.86797</td></tr><tr><td>epoch</td><td>14</td></tr><tr><td>loss</td><td>0.03799</td></tr><tr><td>val_accuracy</td><td>0.86263</td></tr><tr><td>val_loss</td><td>0.21646</td></tr></table><br/></div></div>"
            ]
          },
          "metadata": {}
        },
        {
          "output_type": "display_data",
          "data": {
            "text/plain": [
              "<IPython.core.display.HTML object>"
            ],
            "text/html": [
              "Synced <strong style=\"color:#cdcd00\">cs6910-AS3-PA</strong>: <a href=\"https://wandb.ai/pandp/CS6910-AS3/runs/f8nvq1p4\" target=\"_blank\">https://wandb.ai/pandp/CS6910-AS3/runs/f8nvq1p4</a><br/>Synced 5 W&B file(s), 1 media file(s), 0 artifact file(s) and 1 other file(s)"
            ]
          },
          "metadata": {}
        },
        {
          "output_type": "display_data",
          "data": {
            "text/plain": [
              "<IPython.core.display.HTML object>"
            ],
            "text/html": [
              "Find logs at: <code>./wandb/run-20220504_110659-f8nvq1p4/logs</code>"
            ]
          },
          "metadata": {}
        },
        {
          "output_type": "stream",
          "name": "stderr",
          "text": [
            "\u001b[34m\u001b[1mwandb\u001b[0m: Sweep Agent: Waiting for job.\n",
            "\u001b[34m\u001b[1mwandb\u001b[0m: Job received.\n",
            "\u001b[34m\u001b[1mwandb\u001b[0m: Agent Starting Run: 4f7k7arr with config:\n",
            "\u001b[34m\u001b[1mwandb\u001b[0m: \tcell: GRU\n",
            "\u001b[34m\u001b[1mwandb\u001b[0m: \tdense_sz: 512\n",
            "\u001b[34m\u001b[1mwandb\u001b[0m: \tdp: 0.4\n",
            "\u001b[34m\u001b[1mwandb\u001b[0m: \tedls: 3\n",
            "\u001b[34m\u001b[1mwandb\u001b[0m: \temb_sz: 32\n",
            "\u001b[34m\u001b[1mwandb\u001b[0m: \tepochs: 20\n",
            "\u001b[34m\u001b[1mwandb\u001b[0m: \tlr: 0.005\n",
            "\u001b[34m\u001b[1mwandb\u001b[0m: \tnunits: 128\n"
          ]
        },
        {
          "output_type": "display_data",
          "data": {
            "text/plain": [
              "<IPython.core.display.HTML object>"
            ],
            "text/html": [
              "Tracking run with wandb version 0.12.16"
            ]
          },
          "metadata": {}
        },
        {
          "output_type": "display_data",
          "data": {
            "text/plain": [
              "<IPython.core.display.HTML object>"
            ],
            "text/html": [
              "Run data is saved locally in <code>/content/wandb/run-20220504_111738-4f7k7arr</code>"
            ]
          },
          "metadata": {}
        },
        {
          "output_type": "display_data",
          "data": {
            "text/plain": [
              "<IPython.core.display.HTML object>"
            ],
            "text/html": [
              "Syncing run <strong><a href=\"https://wandb.ai/pandp/CS6910-AS3/runs/4f7k7arr\" target=\"_blank\">cs6910-AS3-PA</a></strong> to <a href=\"https://wandb.ai/pandp/CS6910-AS3\" target=\"_blank\">Weights & Biases</a> (<a href=\"https://wandb.me/run\" target=\"_blank\">docs</a>)<br/>Sweep page:  <a href=\"https://wandb.ai/pandp/CS6910-AS3/sweeps/3sng050k\" target=\"_blank\">https://wandb.ai/pandp/CS6910-AS3/sweeps/3sng050k</a>"
            ]
          },
          "metadata": {}
        },
        {
          "output_type": "stream",
          "name": "stdout",
          "text": [
            "Build Sucessfully\n",
            "Epoch 1/20\n",
            "691/691 [==============================] - 54s 48ms/step - loss: 0.6410 - accuracy: 0.5451 - val_loss: 0.3136 - val_accuracy: 0.7460 - _timestamp: 1651663128.0000 - _runtime: 70.0000\n",
            "Epoch 2/20\n",
            "351/691 [==============>...............] - ETA: 12s - loss: 0.2971 - accuracy: 0.7633"
          ]
        }
      ]
    },
    {
      "cell_type": "code",
      "source": [
        "wandb.agent(sweep_id, train,entity=\"pandp\",project = 'CS6910-AS3')"
      ],
      "metadata": {
        "colab": {
          "base_uri": "https://localhost:8080/",
          "height": 1000,
          "referenced_widgets": [
            "68fb57e85eaf4c77895ac3d8d9808abc",
            "4ebc3f08c4334a32a7d8739ff231168f",
            "a9a55787abb64f6b809b1464cb282045",
            "bc45d33aa05641dfae551f946700f9bb",
            "d97cc71bfeaa43f6997792bab03dbd31",
            "caeaa87c93ba491aa5361db9ee64a98f",
            "f0eec7bd75e74de7a2229bc043002361",
            "046e7c899cfa4037a96ec3d29c67db5e"
          ]
        },
        "id": "d-cX2auvXrlY",
        "outputId": "a5268622-199b-409c-dd23-7e7c70f5fd98"
      },
      "execution_count": null,
      "outputs": [
        {
          "output_type": "stream",
          "name": "stderr",
          "text": [
            "\u001b[34m\u001b[1mwandb\u001b[0m: Agent Starting Run: 798ze0ts with config:\n",
            "\u001b[34m\u001b[1mwandb\u001b[0m: \tcell: LSTM\n",
            "\u001b[34m\u001b[1mwandb\u001b[0m: \tdense_sz: 512\n",
            "\u001b[34m\u001b[1mwandb\u001b[0m: \tdp: 0\n",
            "\u001b[34m\u001b[1mwandb\u001b[0m: \tedls: 3\n",
            "\u001b[34m\u001b[1mwandb\u001b[0m: \temb_sz: 64\n",
            "\u001b[34m\u001b[1mwandb\u001b[0m: \tepochs: 15\n",
            "\u001b[34m\u001b[1mwandb\u001b[0m: \tlr: 0.005\n",
            "\u001b[34m\u001b[1mwandb\u001b[0m: \tnunits: 256\n"
          ]
        },
        {
          "output_type": "display_data",
          "data": {
            "text/plain": [
              "<IPython.core.display.HTML object>"
            ],
            "text/html": [
              "Tracking run with wandb version 0.12.16"
            ]
          },
          "metadata": {}
        },
        {
          "output_type": "display_data",
          "data": {
            "text/plain": [
              "<IPython.core.display.HTML object>"
            ],
            "text/html": [
              "Run data is saved locally in <code>/content/wandb/run-20220504_141323-798ze0ts</code>"
            ]
          },
          "metadata": {}
        },
        {
          "output_type": "display_data",
          "data": {
            "text/plain": [
              "<IPython.core.display.HTML object>"
            ],
            "text/html": [
              "Syncing run <strong><a href=\"https://wandb.ai/pandp/CS6910-AS3/runs/798ze0ts\" target=\"_blank\">cs6910-AS3-PA</a></strong> to <a href=\"https://wandb.ai/pandp/CS6910-AS3\" target=\"_blank\">Weights & Biases</a> (<a href=\"https://wandb.me/run\" target=\"_blank\">docs</a>)<br/>Sweep page:  <a href=\"https://wandb.ai/pandp/CS6910-AS3/sweeps/3sng050k\" target=\"_blank\">https://wandb.ai/pandp/CS6910-AS3/sweeps/3sng050k</a>"
            ]
          },
          "metadata": {}
        },
        {
          "output_type": "stream",
          "name": "stdout",
          "text": [
            "Build Sucessfully\n",
            "Epoch 1/15\n",
            "691/691 [==============================] - 95s 96ms/step - loss: 0.6280 - accuracy: 0.5569 - val_loss: 0.2440 - val_accuracy: 0.7991 - _timestamp: 1651673717.0000 - _runtime: 114.0000\n",
            "Epoch 2/15\n",
            "691/691 [==============================] - 58s 84ms/step - loss: 0.1887 - accuracy: 0.8472 - val_loss: 0.1734 - val_accuracy: 0.8547 - _timestamp: 1651673775.0000 - _runtime: 172.0000\n",
            "Epoch 3/15\n",
            "691/691 [==============================] - 58s 84ms/step - loss: 0.1303 - accuracy: 0.8921 - val_loss: 0.1558 - val_accuracy: 0.8709 - _timestamp: 1651673833.0000 - _runtime: 230.0000\n",
            "Epoch 4/15\n",
            "691/691 [==============================] - 57s 83ms/step - loss: 0.1023 - accuracy: 0.9143 - val_loss: 0.1602 - val_accuracy: 0.8708 - _timestamp: 1651673891.0000 - _runtime: 288.0000\n",
            "Epoch 5/15\n",
            "691/691 [==============================] - 58s 84ms/step - loss: 0.0845 - accuracy: 0.9285 - val_loss: 0.1640 - val_accuracy: 0.8742 - _timestamp: 1651673949.0000 - _runtime: 346.0000\n",
            "Epoch 6/15\n",
            "691/691 [==============================] - 59s 85ms/step - loss: 0.0721 - accuracy: 0.9387 - val_loss: 0.1720 - val_accuracy: 0.8755 - _timestamp: 1651674007.0000 - _runtime: 404.0000\n",
            "Epoch 7/15\n",
            "691/691 [==============================] - 58s 84ms/step - loss: 0.0624 - accuracy: 0.9462 - val_loss: 0.1820 - val_accuracy: 0.8705 - _timestamp: 1651674066.0000 - _runtime: 463.0000\n",
            "Epoch 8/15\n",
            "691/691 [==============================] - 58s 84ms/step - loss: 0.0567 - accuracy: 0.9506 - val_loss: 0.1905 - val_accuracy: 0.8727 - _timestamp: 1651674124.0000 - _runtime: 521.0000\n",
            "Epoch 8: early stopping\n",
            "Completed ! \n"
          ]
        },
        {
          "output_type": "display_data",
          "data": {
            "text/plain": [
              "<IPython.core.display.HTML object>"
            ],
            "text/html": [
              "Waiting for W&B process to finish... <strong style=\"color:green\">(success).</strong>"
            ]
          },
          "metadata": {}
        },
        {
          "output_type": "display_data",
          "data": {
            "text/plain": [
              "VBox(children=(Label(value='33.651 MB of 33.651 MB uploaded (0.000 MB deduped)\\r'), FloatProgress(value=1.0, m…"
            ],
            "application/vnd.jupyter.widget-view+json": {
              "version_major": 2,
              "version_minor": 0,
              "model_id": "68fb57e85eaf4c77895ac3d8d9808abc"
            }
          },
          "metadata": {}
        },
        {
          "output_type": "display_data",
          "data": {
            "text/plain": [
              "<IPython.core.display.HTML object>"
            ],
            "text/html": [
              "<style>\n",
              "    table.wandb td:nth-child(1) { padding: 0 10px; text-align: left ; width: auto;} td:nth-child(2) {text-align: left ; width: 100%}\n",
              "    .wandb-row { display: flex; flex-direction: row; flex-wrap: wrap; justify-content: flex-start; width: 100% }\n",
              "    .wandb-col { display: flex; flex-direction: column; flex-basis: 100%; flex: 1; padding: 10px; }\n",
              "    </style>\n",
              "<div class=\"wandb-row\"><div class=\"wandb-col\"><h3>Run history:</h3><br/><table class=\"wandb\"><tr><td>accuracy</td><td>▁▆▇▇████</td></tr><tr><td>epoch</td><td>▁▂▃▄▅▆▇█</td></tr><tr><td>loss</td><td>█▃▂▂▁▁▁▁</td></tr><tr><td>val_accuracy</td><td>▁▆██████</td></tr><tr><td>val_loss</td><td>█▂▁▁▂▂▃▄</td></tr></table><br/></div><div class=\"wandb-col\"><h3>Run summary:</h3><br/><table class=\"wandb\"><tr><td>accuracy</td><td>0.95062</td></tr><tr><td>best_epoch</td><td>5</td></tr><tr><td>best_val_accuracy</td><td>0.87547</td></tr><tr><td>epoch</td><td>7</td></tr><tr><td>loss</td><td>0.05669</td></tr><tr><td>val_accuracy</td><td>0.8727</td></tr><tr><td>val_loss</td><td>0.19047</td></tr></table><br/></div></div>"
            ]
          },
          "metadata": {}
        },
        {
          "output_type": "display_data",
          "data": {
            "text/plain": [
              "<IPython.core.display.HTML object>"
            ],
            "text/html": [
              "Synced <strong style=\"color:#cdcd00\">cs6910-AS3-PA</strong>: <a href=\"https://wandb.ai/pandp/CS6910-AS3/runs/798ze0ts\" target=\"_blank\">https://wandb.ai/pandp/CS6910-AS3/runs/798ze0ts</a><br/>Synced 5 W&B file(s), 1 media file(s), 0 artifact file(s) and 1 other file(s)"
            ]
          },
          "metadata": {}
        },
        {
          "output_type": "display_data",
          "data": {
            "text/plain": [
              "<IPython.core.display.HTML object>"
            ],
            "text/html": [
              "Find logs at: <code>./wandb/run-20220504_141323-798ze0ts/logs</code>"
            ]
          },
          "metadata": {}
        },
        {
          "output_type": "stream",
          "name": "stderr",
          "text": [
            "\u001b[34m\u001b[1mwandb\u001b[0m: Agent Starting Run: t4mb09bc with config:\n",
            "\u001b[34m\u001b[1mwandb\u001b[0m: \tcell: RNN\n",
            "\u001b[34m\u001b[1mwandb\u001b[0m: \tdense_sz: 128\n",
            "\u001b[34m\u001b[1mwandb\u001b[0m: \tdp: 0.4\n",
            "\u001b[34m\u001b[1mwandb\u001b[0m: \tedls: 2\n",
            "\u001b[34m\u001b[1mwandb\u001b[0m: \temb_sz: 256\n",
            "\u001b[34m\u001b[1mwandb\u001b[0m: \tepochs: 20\n",
            "\u001b[34m\u001b[1mwandb\u001b[0m: \tlr: 0.001\n",
            "\u001b[34m\u001b[1mwandb\u001b[0m: \tnunits: 512\n"
          ]
        },
        {
          "output_type": "display_data",
          "data": {
            "text/plain": [
              "<IPython.core.display.HTML object>"
            ],
            "text/html": [
              "Tracking run with wandb version 0.12.16"
            ]
          },
          "metadata": {}
        },
        {
          "output_type": "display_data",
          "data": {
            "text/plain": [
              "<IPython.core.display.HTML object>"
            ],
            "text/html": [
              "Run data is saved locally in <code>/content/wandb/run-20220504_142233-t4mb09bc</code>"
            ]
          },
          "metadata": {}
        },
        {
          "output_type": "display_data",
          "data": {
            "text/plain": [
              "<IPython.core.display.HTML object>"
            ],
            "text/html": [
              "Syncing run <strong><a href=\"https://wandb.ai/pandp/CS6910-AS3/runs/t4mb09bc\" target=\"_blank\">cs6910-AS3-PA</a></strong> to <a href=\"https://wandb.ai/pandp/CS6910-AS3\" target=\"_blank\">Weights & Biases</a> (<a href=\"https://wandb.me/run\" target=\"_blank\">docs</a>)<br/>Sweep page:  <a href=\"https://wandb.ai/pandp/CS6910-AS3/sweeps/3sng050k\" target=\"_blank\">https://wandb.ai/pandp/CS6910-AS3/sweeps/3sng050k</a>"
            ]
          },
          "metadata": {}
        },
        {
          "output_type": "stream",
          "name": "stdout",
          "text": [
            "Build Sucessfully\n",
            "Epoch 1/20\n",
            " 11/691 [..............................] - ETA: 2:39 - loss: 1.4025 - accuracy: 0.1497"
          ]
        }
      ]
    },
    {
      "cell_type": "code",
      "source": [
        "train = seq2seqModel(Layer = 'LSTM',\n",
        "                      nunits=128,\n",
        "                      encl=2,\n",
        "                      decl=2,\n",
        "                      embds = 32,\n",
        "                      dense_size=64,\n",
        "                      dropout=0.25)"
      ],
      "metadata": {
        "id": "KB7bGYwfYF4G"
      },
      "execution_count": 9,
      "outputs": []
    },
    {
      "cell_type": "code",
      "source": [
        "train.compile(optimizer = Adam(learning_rate=0.001),loss='categorical_crossentropy',metrics=['accuracy'])\n",
        "train.fit([train_encoder_input,train_decoder_input],train_decoder_target,\n",
        "             batch_size=64,\n",
        "             validation_data = ([val_encoder_input,val_decoder_input],val_decoder_target),\n",
        "             epochs=2)"
      ],
      "metadata": {
        "id": "G47ezVtOkDdI",
        "colab": {
          "base_uri": "https://localhost:8080/"
        },
        "outputId": "3364a773-324d-4fe1-f655-e5acadd7527d"
      },
      "execution_count": 10,
      "outputs": [
        {
          "output_type": "stream",
          "name": "stdout",
          "text": [
            "Epoch 1/2\n",
            "691/691 [==============================] - 66s 56ms/step - loss: 0.9693 - accuracy: 0.3467 - val_loss: 0.7349 - val_accuracy: 0.4616\n",
            "Epoch 2/2\n",
            "691/691 [==============================] - 29s 42ms/step - loss: 0.6302 - accuracy: 0.5461 - val_loss: 0.4780 - val_accuracy: 0.6300\n"
          ]
        },
        {
          "output_type": "execute_result",
          "data": {
            "text/plain": [
              "<keras.callbacks.History at 0x7f5e3429b150>"
            ]
          },
          "metadata": {},
          "execution_count": 10
        }
      ]
    }
  ]
}